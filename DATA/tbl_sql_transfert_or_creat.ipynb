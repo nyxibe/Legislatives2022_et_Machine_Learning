{
 "cells": [
  {
   "cell_type": "markdown",
   "id": "5e4ee0cd-68bd-4507-bd60-337ac4d559f3",
   "metadata": {},
   "source": [
    "# SQL3 ACTIONS PONTUELLES"
   ]
  },
  {
   "cell_type": "code",
   "execution_count": 1,
   "id": "c6a0c76c-9386-4cbf-ade1-ee7978979ff7",
   "metadata": {},
   "outputs": [],
   "source": [
    "import sqlite3"
   ]
  },
  {
   "cell_type": "markdown",
   "id": "40f30a3a-55e9-4ccd-b2bf-32d2acddfd0c",
   "metadata": {},
   "source": [
    "## TRANSFERTS DE TABLES"
   ]
  },
  {
   "cell_type": "code",
   "execution_count": 4,
   "id": "95d21d2e-ecbd-4d12-8192-1278fe189bc7",
   "metadata": {},
   "outputs": [],
   "source": [
    "def tbl_tranfert(source_db_path, destination_db_path, table_to_copy):\n",
    "    source_connection = sqlite3.connect(source_db_path)\n",
    "    source_cursor = source_connection.cursor()\n",
    "    destination_connection = sqlite3.connect(destination_db_path)\n",
    "    destination_cursor = destination_connection.cursor()\n",
    "\n",
    "    # Step 1: Fetch the structure of the source table\n",
    "    source_cursor.execute(f'PRAGMA table_info(\"{table_to_copy}\")')\n",
    "    columns = source_cursor.fetchall()\n",
    "    column_names = [column[1] for column in columns]\n",
    "    column_definitions = ', '.join([f'\"{column[1]}\" {column[2]}' for column in columns])\n",
    "\n",
    "    # Step 2: Create the destination table\n",
    "    destination_cursor.execute(f'CREATE TABLE IF NOT EXISTS \"{table_to_copy}\" ({column_definitions})')\n",
    "\n",
    "    # Step 3: Fetch data from the source database\n",
    "    source_cursor.execute(f'SELECT * FROM \"{table_to_copy}\"')\n",
    "    data_to_copy = source_cursor.fetchall()\n",
    "\n",
    "    # Step 4: Insert data into the destination database\n",
    "    placeholders = ', '.join(['?' for _ in range(len(columns))])\n",
    "    destination_cursor.executemany(f'INSERT INTO \"{table_to_copy}\" VALUES ({placeholders})', data_to_copy)\n",
    "\n",
    "    # Commit the changes to the destination database\n",
    "    destination_connection.commit()\n",
    "\n",
    "    # Close both connections\n",
    "    source_connection.close()\n",
    "    destination_connection.close()\n"
   ]
  },
  {
   "cell_type": "code",
   "execution_count": 23,
   "id": "e7cfe895-dc68-4e3e-a045-b8e903daabe5",
   "metadata": {},
   "outputs": [],
   "source": [
    "# Source database connection\n",
    "source_db_path = 'HistoPlotik-LGB.db'\n",
    "# Destination database connection\n",
    "destination_db_path = 'HistoPlotik.db'"
   ]
  },
  {
   "cell_type": "code",
   "execution_count": 4,
   "id": "6565f499-cdbd-43cd-8dde-9e9f319a62a7",
   "metadata": {},
   "outputs": [],
   "source": [
    "# tbl_tranfert(source_db_path, destination_db_path, 'LGB_reg200_importance_tbl')"
   ]
  },
  {
   "cell_type": "code",
   "execution_count": 5,
   "id": "861eaa55-e2ce-4253-af54-65ab60a3fa98",
   "metadata": {},
   "outputs": [],
   "source": [
    "# tbl_tranfert(source_db_path, destination_db_path, 'LGB_reg200_resultats_tbl')"
   ]
  },
  {
   "cell_type": "markdown",
   "id": "fbfbde4b-7e40-4324-a1ab-0c53f69a0c7e",
   "metadata": {},
   "source": [
    "## RENAME OLD TABLE"
   ]
  },
  {
   "cell_type": "code",
   "execution_count": 2,
   "id": "00ef99cb-7de5-48b2-aef6-2c54c53003ab",
   "metadata": {},
   "outputs": [],
   "source": [
    "db_path = 'HistoPlotik.db'\n",
    "# Connect to the SQLite database\n",
    "conn = sqlite3.connect(db_path)\n",
    "cursor = conn.cursor()\n",
    "\n",
    "# Rename the table\n",
    "old_table_name = 'RandomF_reg200_resultats_tbl'\n",
    "new_table_name = 'RandomF_reg200_resultats_tbl_OLD'\n",
    "query = f'ALTER TABLE {old_table_name} RENAME TO {new_table_name}'\n",
    "cursor.execute(query)\n",
    "\n",
    "# Commit the changes and close the connection\n",
    "conn.commit()\n",
    "conn.close()"
   ]
  },
  {
   "cell_type": "code",
   "execution_count": null,
   "id": "f77c6b7b-3b88-4aa8-8d6c-fa76930dca6c",
   "metadata": {},
   "outputs": [],
   "source": []
  },
  {
   "cell_type": "code",
   "execution_count": 3,
   "id": "8d73de0d-36ea-4ae7-94af-11ae511d06c4",
   "metadata": {},
   "outputs": [],
   "source": [
    "conn = sqlite3.connect(db_path)\n",
    "cursor = conn.cursor()\n",
    "\n",
    "# Rename the table\n",
    "old_table_name = 'RandomF_reg200_importance_tbl'\n",
    "new_table_name = 'RandomF_reg200_importance_tbl_OLD'\n",
    "query = f'ALTER TABLE {old_table_name} RENAME TO {new_table_name}'\n",
    "cursor.execute(query)\n",
    "\n",
    "# Commit the changes and close the connection\n",
    "conn.commit()\n",
    "conn.close()"
   ]
  },
  {
   "cell_type": "code",
   "execution_count": null,
   "id": "76b642d5-f714-4c94-bf53-5c455e476570",
   "metadata": {},
   "outputs": [],
   "source": []
  },
  {
   "cell_type": "code",
   "execution_count": null,
   "id": "c91d7eaa-cb19-4a0e-8bfa-4c2d61975329",
   "metadata": {},
   "outputs": [],
   "source": []
  },
  {
   "cell_type": "code",
   "execution_count": null,
   "id": "a58bcfb5-65a4-4de7-bd09-a1a9b44ce9f8",
   "metadata": {},
   "outputs": [],
   "source": []
  },
  {
   "cell_type": "code",
   "execution_count": null,
   "id": "7010bd3f-fbd7-4cd0-a19f-8543acbca7d3",
   "metadata": {},
   "outputs": [],
   "source": []
  },
  {
   "cell_type": "code",
   "execution_count": null,
   "id": "9aff07f2-cc18-4cf3-821d-563e04f845ff",
   "metadata": {},
   "outputs": [],
   "source": []
  },
  {
   "cell_type": "markdown",
   "id": "3f3aa80f-8ab8-4cce-a7f0-d0f4aa5bb17e",
   "metadata": {},
   "source": [
    "## CREATION TABLE DEPUIS DF\n",
    "Anouar"
   ]
  },
  {
   "cell_type": "code",
   "execution_count": 11,
   "id": "45f0d052-325a-47dc-a2c5-9d47056bb5f6",
   "metadata": {},
   "outputs": [],
   "source": [
    "import warnings\n",
    "warnings.filterwarnings(\"ignore\")\n",
    "\n",
    "import os\n",
    "import pandas as pd\n",
    "import numpy as np\n"
   ]
  },
  {
   "cell_type": "code",
   "execution_count": 28,
   "id": "cfc39f87-fd80-4a37-8ad3-bc9c10232b23",
   "metadata": {},
   "outputs": [
    {
     "name": "stdout",
     "output_type": "stream",
     "text": [
      "XGBoost_reg200_resultats_tbl\n",
      "XGBoost_reg200_importance_tbl\n",
      "y_resultats200_tbl\n",
      "X_col_titr\n",
      "data_tbl\n",
      "LGB_reg200_importance_tbl\n",
      "LGB_reg200_resultats_tbl\n",
      "villes_tbl\n",
      "RandomF_reg200_resultats_tbl_OLD\n",
      "RandomF_reg200_importance_tbl_OLD\n",
      "RandomF_reg200_resultats_tbl\n"
     ]
    }
   ],
   "source": [
    "db_path = 'HistoPlotik.db'\n",
    "# Connect to the SQLite database (replace 'your_database.db' with your actual database file)\n",
    "connection = sqlite3.connect(db_path)\n",
    "\n",
    "tbl_db_names = pd.read_sql_query(\"SELECT name FROM sqlite_master WHERE type='table';\", connection)\n",
    "for table in tbl_db_names['name'] :\n",
    "    print (table)\n",
    "\n",
    "# Close the database connection\n",
    "connection.close()"
   ]
  },
  {
   "cell_type": "markdown",
   "id": "950bc3db-01a7-4ae0-ad84-52e7a0338080",
   "metadata": {},
   "source": [
    "### RandomF_reg200_resultats_tbl"
   ]
  },
  {
   "cell_type": "code",
   "execution_count": 17,
   "id": "d1216730-9d1d-41f2-8d0a-153981e0c13b",
   "metadata": {},
   "outputs": [
    {
     "data": {
      "text/plain": [
       "(23946, 7)"
      ]
     },
     "execution_count": 17,
     "metadata": {},
     "output_type": "execute_result"
    }
   ],
   "source": [
    "file_path='../MODELS/IMPORT_MODELS/df_result_RF_optim_GridSearch.csv'\n",
    "df_RandomF_res= pd.read_csv(file_path, encoding='utf-8', sep=';', index_col=0, low_memory=False)\n",
    "df_RandomF_res.shape"
   ]
  },
  {
   "cell_type": "code",
   "execution_count": 18,
   "id": "feed5375-bf12-4d32-bf8e-1ce6351ea3aa",
   "metadata": {},
   "outputs": [
    {
     "data": {
      "text/html": [
       "<div>\n",
       "<style scoped>\n",
       "    .dataframe tbody tr th:only-of-type {\n",
       "        vertical-align: middle;\n",
       "    }\n",
       "\n",
       "    .dataframe tbody tr th {\n",
       "        vertical-align: top;\n",
       "    }\n",
       "\n",
       "    .dataframe thead th {\n",
       "        text-align: right;\n",
       "    }\n",
       "</style>\n",
       "<table border=\"1\" class=\"dataframe\">\n",
       "  <thead>\n",
       "    <tr style=\"text-align: right;\">\n",
       "      <th></th>\n",
       "      <th>pred_YYY_pvoixNUP</th>\n",
       "      <th>pred_YYY_pvoixECO</th>\n",
       "      <th>pred_YYY_pvoixENS</th>\n",
       "      <th>pred_YYY_pvoixLR_UDI</th>\n",
       "      <th>pred_YYY_pvoixEXTREMD</th>\n",
       "      <th>pred_YYY_pvoixCENTRE</th>\n",
       "      <th>pred_YYY_pvoixOTR</th>\n",
       "    </tr>\n",
       "    <tr>\n",
       "      <th>key</th>\n",
       "      <th></th>\n",
       "      <th></th>\n",
       "      <th></th>\n",
       "      <th></th>\n",
       "      <th></th>\n",
       "      <th></th>\n",
       "      <th></th>\n",
       "    </tr>\n",
       "  </thead>\n",
       "  <tbody>\n",
       "    <tr>\n",
       "      <th>01001</th>\n",
       "      <td>0.178214</td>\n",
       "      <td>0.023036</td>\n",
       "      <td>0.174325</td>\n",
       "      <td>0.255469</td>\n",
       "      <td>0.291478</td>\n",
       "      <td>0.064350</td>\n",
       "      <td>0.016327</td>\n",
       "    </tr>\n",
       "    <tr>\n",
       "      <th>01002</th>\n",
       "      <td>0.318701</td>\n",
       "      <td>0.020174</td>\n",
       "      <td>0.095429</td>\n",
       "      <td>0.161103</td>\n",
       "      <td>0.169906</td>\n",
       "      <td>0.330483</td>\n",
       "      <td>0.033145</td>\n",
       "    </tr>\n",
       "  </tbody>\n",
       "</table>\n",
       "</div>"
      ],
      "text/plain": [
       "       pred_YYY_pvoixNUP  pred_YYY_pvoixECO  pred_YYY_pvoixENS  \\\n",
       "key                                                              \n",
       "01001           0.178214           0.023036           0.174325   \n",
       "01002           0.318701           0.020174           0.095429   \n",
       "\n",
       "       pred_YYY_pvoixLR_UDI  pred_YYY_pvoixEXTREMD  pred_YYY_pvoixCENTRE  \\\n",
       "key                                                                        \n",
       "01001              0.255469               0.291478              0.064350   \n",
       "01002              0.161103               0.169906              0.330483   \n",
       "\n",
       "       pred_YYY_pvoixOTR  \n",
       "key                       \n",
       "01001           0.016327  \n",
       "01002           0.033145  "
      ]
     },
     "execution_count": 18,
     "metadata": {},
     "output_type": "execute_result"
    }
   ],
   "source": [
    "df_RandomF_res.head(2)"
   ]
  },
  {
   "cell_type": "code",
   "execution_count": 19,
   "id": "08fc75b2-9f8a-431c-8483-2b2717e14a4b",
   "metadata": {},
   "outputs": [],
   "source": [
    "from sqlalchemy import create_engine, MetaData, Table\n",
    "\n",
    "# Remplacez 'your_database_url' par l'URL de connexion à votre base de données\n",
    "engine = create_engine(f\"sqlite:///{db_path}\")\n",
    "\n",
    "# Create a MetaData object\n",
    "metadata = MetaData()\n",
    "\n",
    "# Reflect all tables from the database\n",
    "metadata.reflect(bind=engine)"
   ]
  },
  {
   "cell_type": "code",
   "execution_count": 20,
   "id": "1c059a5b-b3e5-4368-acb2-bb5a14b55a72",
   "metadata": {},
   "outputs": [
    {
     "data": {
      "text/plain": [
       "dict_keys(['LGB_reg200_importance_tbl', 'LGB_reg200_resultats_tbl', 'RandomF_reg200_importance_tbl_OLD', 'RandomF_reg200_resultats_tbl', 'RandomF_reg200_resultats_tbl_OLD', 'XGBoost_reg200_importance_tbl', 'XGBoost_reg200_resultats_tbl', 'X_col_titr', 'data_tbl', 'villes_tbl', 'y_resultats200_tbl', 'RandomF_reg200_resultats_tbl2'])"
      ]
     },
     "execution_count": 20,
     "metadata": {},
     "output_type": "execute_result"
    }
   ],
   "source": [
    "tabl_export='RandomF_reg200_resultats_tbl2'\n",
    "if tabl_export not in tbl_db_names['name'] :\n",
    "    # Convert DataFrame to a SQL table, using the index as the ID column\n",
    "    df_RandomF_res.to_sql(tabl_export, con=engine, index=True, if_exists='replace')\n",
    "    metadata.reflect(bind=engine)\n",
    "tbl_db_names = metadata.tables.keys()\n",
    "tbl_db_names"
   ]
  },
  {
   "cell_type": "code",
   "execution_count": 22,
   "id": "a4d2d980-b5ea-4bd3-83da-91b184291fbc",
   "metadata": {},
   "outputs": [],
   "source": [
    "conn = sqlite3.connect(db_path)\n",
    "cursor = conn.cursor()\n",
    "\n",
    "# Rename the table\n",
    "old_table_name = 'RandomF_reg200_resultats_tbl2'\n",
    "new_table_name = 'RandomF_reg200_resultats_tbl'\n",
    "\n",
    "# Drop the existing table with the new name, if it exists\n",
    "cursor.execute(f'DROP TABLE IF EXISTS {new_table_name}')\n",
    "\n",
    "query = f'ALTER TABLE {old_table_name} RENAME TO {new_table_name}'\n",
    "cursor.execute(query)\n",
    "\n",
    "# Commit the changes and close the connection\n",
    "conn.commit()\n",
    "conn.close()"
   ]
  },
  {
   "cell_type": "markdown",
   "id": "20b52c32-47e9-4538-ae3a-bc1e332dd8c3",
   "metadata": {},
   "source": [
    "### RandomF_reg200_importance_tbl"
   ]
  },
  {
   "cell_type": "code",
   "execution_count": 23,
   "id": "7f29609e-cbf8-4136-8a10-9b217e03839b",
   "metadata": {},
   "outputs": [
    {
     "data": {
      "text/plain": [
       "(261, 14)"
      ]
     },
     "execution_count": 23,
     "metadata": {},
     "output_type": "execute_result"
    }
   ],
   "source": [
    "# file_path='../MODELS/IMPORT_MODELS/feature_importance_df_Anouar.csv'\n",
    "file_path='../MODELS/IMPORT_MODELS/feature_importance_df_RF_optim_GridSearch.csv'\n",
    "df_RandomF_FI= pd.read_csv(file_path, encoding='utf-8', sep=';', index_col=0, low_memory=False)\n",
    "df_RandomF_FI.shape"
   ]
  },
  {
   "cell_type": "code",
   "execution_count": 24,
   "id": "b4ce8453-ec78-4683-b8a1-7e5431a9ced9",
   "metadata": {},
   "outputs": [
    {
     "data": {
      "text/html": [
       "<div>\n",
       "<style scoped>\n",
       "    .dataframe tbody tr th:only-of-type {\n",
       "        vertical-align: middle;\n",
       "    }\n",
       "\n",
       "    .dataframe tbody tr th {\n",
       "        vertical-align: top;\n",
       "    }\n",
       "\n",
       "    .dataframe thead th {\n",
       "        text-align: right;\n",
       "    }\n",
       "</style>\n",
       "<table border=\"1\" class=\"dataframe\">\n",
       "  <thead>\n",
       "    <tr style=\"text-align: right;\">\n",
       "      <th></th>\n",
       "      <th>YYY_pvoixNUP_estim_indice</th>\n",
       "      <th>YYY_pvoixNUP_import</th>\n",
       "      <th>YYY_pvoixECO_estim_indice</th>\n",
       "      <th>YYY_pvoixECO_import</th>\n",
       "      <th>YYY_pvoixENS_estim_indice</th>\n",
       "      <th>YYY_pvoixENS_import</th>\n",
       "      <th>YYY_pvoixLR_UDI_estim_indice</th>\n",
       "      <th>YYY_pvoixLR_UDI_import</th>\n",
       "      <th>YYY_pvoixEXTREMD_estim_indice</th>\n",
       "      <th>YYY_pvoixEXTREMD_import</th>\n",
       "      <th>YYY_pvoixCENTRE_estim_indice</th>\n",
       "      <th>YYY_pvoixCENTRE_import</th>\n",
       "      <th>YYY_pvoixOTR_estim_indice</th>\n",
       "      <th>YYY_pvoixOTR_import</th>\n",
       "    </tr>\n",
       "  </thead>\n",
       "  <tbody>\n",
       "    <tr>\n",
       "      <th>0</th>\n",
       "      <td>127</td>\n",
       "      <td>0.157043</td>\n",
       "      <td>127</td>\n",
       "      <td>0.078286</td>\n",
       "      <td>127</td>\n",
       "      <td>0.139526</td>\n",
       "      <td>126</td>\n",
       "      <td>0.206866</td>\n",
       "      <td>126</td>\n",
       "      <td>0.173471</td>\n",
       "      <td>126</td>\n",
       "      <td>0.188561</td>\n",
       "      <td>127</td>\n",
       "      <td>0.636271</td>\n",
       "    </tr>\n",
       "    <tr>\n",
       "      <th>1</th>\n",
       "      <td>126</td>\n",
       "      <td>0.087769</td>\n",
       "      <td>212</td>\n",
       "      <td>0.077490</td>\n",
       "      <td>126</td>\n",
       "      <td>0.072486</td>\n",
       "      <td>127</td>\n",
       "      <td>0.188310</td>\n",
       "      <td>127</td>\n",
       "      <td>0.122494</td>\n",
       "      <td>127</td>\n",
       "      <td>0.180958</td>\n",
       "      <td>126</td>\n",
       "      <td>0.095048</td>\n",
       "    </tr>\n",
       "  </tbody>\n",
       "</table>\n",
       "</div>"
      ],
      "text/plain": [
       "   YYY_pvoixNUP_estim_indice  YYY_pvoixNUP_import  YYY_pvoixECO_estim_indice  \\\n",
       "0                        127             0.157043                        127   \n",
       "1                        126             0.087769                        212   \n",
       "\n",
       "   YYY_pvoixECO_import  YYY_pvoixENS_estim_indice  YYY_pvoixENS_import  \\\n",
       "0             0.078286                        127             0.139526   \n",
       "1             0.077490                        126             0.072486   \n",
       "\n",
       "   YYY_pvoixLR_UDI_estim_indice  YYY_pvoixLR_UDI_import  \\\n",
       "0                           126                0.206866   \n",
       "1                           127                0.188310   \n",
       "\n",
       "   YYY_pvoixEXTREMD_estim_indice  YYY_pvoixEXTREMD_import  \\\n",
       "0                            126                 0.173471   \n",
       "1                            127                 0.122494   \n",
       "\n",
       "   YYY_pvoixCENTRE_estim_indice  YYY_pvoixCENTRE_import  \\\n",
       "0                           126                0.188561   \n",
       "1                           127                0.180958   \n",
       "\n",
       "   YYY_pvoixOTR_estim_indice  YYY_pvoixOTR_import  \n",
       "0                        127             0.636271  \n",
       "1                        126             0.095048  "
      ]
     },
     "execution_count": 24,
     "metadata": {},
     "output_type": "execute_result"
    }
   ],
   "source": [
    "df_RandomF_FI.head(2)"
   ]
  },
  {
   "cell_type": "code",
   "execution_count": 25,
   "id": "061a74e6-9c99-464e-9e2b-6210e966fee3",
   "metadata": {},
   "outputs": [
    {
     "name": "stdout",
     "output_type": "stream",
     "text": [
      "Current Directory: /home/nicolas/code/nyxibe/HistoPolitik_2/DATA\n"
     ]
    }
   ],
   "source": [
    "import os\n",
    "\n",
    "# Get the current working directory\n",
    "current_directory = os.getcwd()\n",
    "\n",
    "# Print the current working directory\n",
    "print(\"Current Directory:\", current_directory)"
   ]
  },
  {
   "cell_type": "code",
   "execution_count": 26,
   "id": "32746aa3-7326-4e41-8471-ffad3fe704f2",
   "metadata": {},
   "outputs": [],
   "source": [
    "from sqlalchemy import create_engine, MetaData, Table\n",
    "\n",
    "# Remplacez 'your_database_url' par l'URL de connexion à votre base de données\n",
    "engine = create_engine(f\"sqlite:///{db_path}\")\n",
    "\n",
    "# Create a MetaData object\n",
    "metadata = MetaData()\n",
    "\n",
    "# Reflect all tables from the database\n",
    "metadata.reflect(bind=engine)"
   ]
  },
  {
   "cell_type": "code",
   "execution_count": 30,
   "id": "45962300-648a-433d-b3f8-82b3b3d02141",
   "metadata": {},
   "outputs": [
    {
     "data": {
      "text/plain": [
       "dict_keys(['LGB_reg200_importance_tbl', 'LGB_reg200_resultats_tbl', 'RandomF_reg200_importance_tbl_OLD', 'RandomF_reg200_resultats_tbl', 'RandomF_reg200_resultats_tbl_OLD', 'XGBoost_reg200_importance_tbl', 'XGBoost_reg200_resultats_tbl', 'X_col_titr', 'data_tbl', 'villes_tbl', 'y_resultats200_tbl', 'RandomF_reg200_importance_tbl', 'RandomF_reg200_importance_tbl2'])"
      ]
     },
     "execution_count": 30,
     "metadata": {},
     "output_type": "execute_result"
    }
   ],
   "source": [
    "tabl_export='RandomF_reg200_importance_tbl2'\n",
    "if tabl_export not in tbl_db_names['name'] :\n",
    "    # Convert DataFrame to a SQL table, using the index as the ID column\n",
    "    df_RandomF_FI.to_sql(tabl_export, con=engine, index=True, if_exists='replace')\n",
    "    metadata.reflect(bind=engine)\n",
    "tbl_db_names = metadata.tables.keys()\n",
    "tbl_db_names"
   ]
  },
  {
   "cell_type": "code",
   "execution_count": 31,
   "id": "d391ed9e-a9f3-484c-ac72-f216efadfb73",
   "metadata": {},
   "outputs": [],
   "source": [
    "conn = sqlite3.connect(db_path)\n",
    "cursor = conn.cursor()\n",
    "\n",
    "# Rename the table\n",
    "old_table_name = 'RandomF_reg200_importance_tbl2'\n",
    "new_table_name = 'RandomF_reg200_importance_tbl'\n",
    "\n",
    "# Drop the existing table with the new name, if it exists\n",
    "cursor.execute(f'DROP TABLE IF EXISTS {new_table_name}')\n",
    "\n",
    "query = f'ALTER TABLE {old_table_name} RENAME TO {new_table_name}'\n",
    "cursor.execute(query)\n",
    "\n",
    "# Commit the changes and close the connection\n",
    "conn.commit()\n",
    "conn.close()"
   ]
  },
  {
   "cell_type": "code",
   "execution_count": 32,
   "id": "2aefa44b-7480-43c9-869d-878cf33f71d1",
   "metadata": {},
   "outputs": [
    {
     "name": "stdout",
     "output_type": "stream",
     "text": [
      "XGBoost_reg200_resultats_tbl\n",
      "XGBoost_reg200_importance_tbl\n",
      "y_resultats200_tbl\n",
      "X_col_titr\n",
      "data_tbl\n",
      "LGB_reg200_importance_tbl\n",
      "LGB_reg200_resultats_tbl\n",
      "villes_tbl\n",
      "RandomF_reg200_resultats_tbl_OLD\n",
      "RandomF_reg200_importance_tbl_OLD\n",
      "RandomF_reg200_resultats_tbl\n",
      "RandomF_reg200_importance_tbl\n"
     ]
    }
   ],
   "source": [
    "connection = sqlite3.connect(db_path)\n",
    "\n",
    "tbl_db_names = pd.read_sql_query(\"SELECT name FROM sqlite_master WHERE type='table';\", connection)\n",
    "for table in tbl_db_names['name'] :\n",
    "    print (table)\n",
    "\n",
    "# Close the database connection"
   ]
  },
  {
   "cell_type": "code",
   "execution_count": null,
   "id": "cd03c1ac-7dae-4d7d-84fd-96aa80c046ca",
   "metadata": {},
   "outputs": [],
   "source": []
  }
 ],
 "metadata": {
  "kernelspec": {
   "display_name": "Python 3 (ipykernel)",
   "language": "python",
   "name": "python3"
  },
  "language_info": {
   "codemirror_mode": {
    "name": "ipython",
    "version": 3
   },
   "file_extension": ".py",
   "mimetype": "text/x-python",
   "name": "python",
   "nbconvert_exporter": "python",
   "pygments_lexer": "ipython3",
   "version": "3.10.12"
  }
 },
 "nbformat": 4,
 "nbformat_minor": 5
}
