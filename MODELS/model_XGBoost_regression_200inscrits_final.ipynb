{
 "cells": [
  {
   "cell_type": "markdown",
   "id": "f75d5881-1b31-4145-8f88-b18972b95b6a",
   "metadata": {},
   "source": [
    "## model_XGBoost_regression 200 inscrit200 FINAL\n",
    "\n",
    "Attention grid search ne tourne pas !!! (plus)"
   ]
  },
  {
   "cell_type": "markdown",
   "id": "4912b5a9-f11f-4865-a577-3df643540030",
   "metadata": {},
   "source": [
    "## IMPORT"
   ]
  },
  {
   "cell_type": "code",
   "execution_count": 105,
   "id": "5e844807-14f7-4a1c-bc6e-dfca1efeef01",
   "metadata": {},
   "outputs": [],
   "source": [
    "import warnings\n",
    "warnings.filterwarnings(\"ignore\")\n",
    "\n",
    "import os\n",
    "import pandas as pd\n",
    "import numpy as np\n",
    "\n",
    "import random \n",
    "\n",
    "import matplotlib.pyplot as plt"
   ]
  },
  {
   "cell_type": "code",
   "execution_count": 106,
   "id": "2cb73ae9-96f1-4cd0-b1fa-4f196ec82a3e",
   "metadata": {},
   "outputs": [],
   "source": [
    "# IMPORT M.L\n",
    "from sklearn.model_selection import train_test_split\n",
    "from sklearn.preprocessing import StandardScaler\n",
    "\n",
    "from sklearn.metrics import accuracy_score, classification_report\n",
    "\n",
    "import xgboost as xgb"
   ]
  },
  {
   "cell_type": "code",
   "execution_count": 107,
   "id": "d6317c2d-8b0d-4b92-8272-4d970de9fe6b",
   "metadata": {},
   "outputs": [
    {
     "data": {
      "text/plain": [
       "dict_keys([])"
      ]
     },
     "execution_count": 107,
     "metadata": {},
     "output_type": "execute_result"
    }
   ],
   "source": [
    "# DATABES SQLITE\n",
    "from sqlalchemy import create_engine, Column, Integer, String, MetaData, Table, update, select\n",
    "db_path = '../DATA/HistoPlotik.db'\n",
    "engine = create_engine(f'sqlite:///{db_path}')\n",
    "metadata = MetaData()\n",
    "\n",
    "tbl_db_names = metadata.tables.keys()\n",
    "tbl_db_names"
   ]
  },
  {
   "cell_type": "markdown",
   "id": "148829d9-6edc-4463-849e-77b15ee6edf4",
   "metadata": {},
   "source": [
    "### IMPORTS CSV SOURCES"
   ]
  },
  {
   "cell_type": "code",
   "execution_count": 108,
   "id": "42918a36-c855-4396-9858-c78d03a5f9ce",
   "metadata": {},
   "outputs": [
    {
     "data": {
      "text/plain": [
       "(33803, 268)"
      ]
     },
     "execution_count": 108,
     "metadata": {},
     "output_type": "execute_result"
    }
   ],
   "source": [
    "file_path='../DATA/final_DATA.csv'\n",
    "df = pd.read_csv(file_path, encoding='utf-8', sep=';', index_col=0, low_memory=False)\n",
    "df.shape"
   ]
  },
  {
   "cell_type": "code",
   "execution_count": 109,
   "id": "e620840c-3e4e-4d66-a940-dc1e1d9b06d0",
   "metadata": {},
   "outputs": [
    {
     "data": {
      "text/plain": [
       "(33803, 4)"
      ]
     },
     "execution_count": 109,
     "metadata": {},
     "output_type": "execute_result"
    }
   ],
   "source": [
    "file_path='../DATA/final_4first_col.csv'\n",
    "df_info = pd.read_csv(file_path, encoding='utf-8', sep=';', index_col=0, low_memory=False)\n",
    "df_info.shape\n"
   ]
  },
  {
   "cell_type": "code",
   "execution_count": 110,
   "id": "671d2b45-f433-4641-8eee-b0b2c2f5745a",
   "metadata": {},
   "outputs": [
    {
     "data": {
      "text/html": [
       "<div>\n",
       "<style scoped>\n",
       "    .dataframe tbody tr th:only-of-type {\n",
       "        vertical-align: middle;\n",
       "    }\n",
       "\n",
       "    .dataframe tbody tr th {\n",
       "        vertical-align: top;\n",
       "    }\n",
       "\n",
       "    .dataframe thead th {\n",
       "        text-align: right;\n",
       "    }\n",
       "</style>\n",
       "<table border=\"1\" class=\"dataframe\">\n",
       "  <thead>\n",
       "    <tr style=\"text-align: right;\">\n",
       "      <th></th>\n",
       "      <th>dep</th>\n",
       "      <th>nomdep</th>\n",
       "      <th>codecommune</th>\n",
       "      <th>nomcommune</th>\n",
       "    </tr>\n",
       "    <tr>\n",
       "      <th>key</th>\n",
       "      <th></th>\n",
       "      <th></th>\n",
       "      <th></th>\n",
       "      <th></th>\n",
       "    </tr>\n",
       "  </thead>\n",
       "  <tbody>\n",
       "    <tr>\n",
       "      <th>01001</th>\n",
       "      <td>01</td>\n",
       "      <td>AIN</td>\n",
       "      <td>01001</td>\n",
       "      <td>L'ABERGEMENT-CLÉMENCIAT</td>\n",
       "    </tr>\n",
       "    <tr>\n",
       "      <th>01002</th>\n",
       "      <td>01</td>\n",
       "      <td>AIN</td>\n",
       "      <td>01002</td>\n",
       "      <td>L'ABERGEMENT-DE-VAREY</td>\n",
       "    </tr>\n",
       "    <tr>\n",
       "      <th>01004</th>\n",
       "      <td>01</td>\n",
       "      <td>AIN</td>\n",
       "      <td>01004</td>\n",
       "      <td>AMBÉRIEU-EN-BUGEY</td>\n",
       "    </tr>\n",
       "    <tr>\n",
       "      <th>01005</th>\n",
       "      <td>01</td>\n",
       "      <td>AIN</td>\n",
       "      <td>01005</td>\n",
       "      <td>AMBÉRIEUX-EN-DOMBES</td>\n",
       "    </tr>\n",
       "    <tr>\n",
       "      <th>01006</th>\n",
       "      <td>01</td>\n",
       "      <td>AIN</td>\n",
       "      <td>01006</td>\n",
       "      <td>AMBLÉON</td>\n",
       "    </tr>\n",
       "  </tbody>\n",
       "</table>\n",
       "</div>"
      ],
      "text/plain": [
       "      dep nomdep codecommune               nomcommune\n",
       "key                                                  \n",
       "01001  01    AIN       01001  L'ABERGEMENT-CLÉMENCIAT\n",
       "01002  01    AIN       01002    L'ABERGEMENT-DE-VAREY\n",
       "01004  01    AIN       01004        AMBÉRIEU-EN-BUGEY\n",
       "01005  01    AIN       01005      AMBÉRIEUX-EN-DOMBES\n",
       "01006  01    AIN       01006                  AMBLÉON"
      ]
     },
     "execution_count": 110,
     "metadata": {},
     "output_type": "execute_result"
    }
   ],
   "source": [
    "df_info.head(5)"
   ]
  },
  {
   "cell_type": "code",
   "execution_count": 111,
   "id": "6fdf1517-c955-464a-882d-f897f888e723",
   "metadata": {},
   "outputs": [
    {
     "data": {
      "text/html": [
       "<div>\n",
       "<style scoped>\n",
       "    .dataframe tbody tr th:only-of-type {\n",
       "        vertical-align: middle;\n",
       "    }\n",
       "\n",
       "    .dataframe tbody tr th {\n",
       "        vertical-align: top;\n",
       "    }\n",
       "\n",
       "    .dataframe thead th {\n",
       "        text-align: right;\n",
       "    }\n",
       "</style>\n",
       "<table border=\"1\" class=\"dataframe\">\n",
       "  <thead>\n",
       "    <tr style=\"text-align: right;\">\n",
       "      <th></th>\n",
       "      <th>TAR_inscrits</th>\n",
       "      <th>TAR_votants</th>\n",
       "      <th>TAR_exprimes</th>\n",
       "      <th>YYY_pvoixNUP</th>\n",
       "      <th>YYY_pvoixECO</th>\n",
       "      <th>YYY_pvoixENS</th>\n",
       "      <th>TAR_electeurs</th>\n",
       "      <th>YYY_pvoixLR_UDI</th>\n",
       "      <th>YYY_pvoixEXTREMD</th>\n",
       "      <th>YYY_pvoixCENTRE</th>\n",
       "      <th>...</th>\n",
       "      <th>TER_surf68</th>\n",
       "      <th>NAT_petranger22</th>\n",
       "      <th>NAT_pimmigre22</th>\n",
       "      <th>NAT_pimmnatur22</th>\n",
       "      <th>NAT_pnatur22</th>\n",
       "      <th>NAT_petranger12</th>\n",
       "      <th>NAT_pimmigre12</th>\n",
       "      <th>NAT_pimmnatur12</th>\n",
       "      <th>NAT_petranger02</th>\n",
       "      <th>NAT_petranger92</th>\n",
       "    </tr>\n",
       "  </thead>\n",
       "  <tbody>\n",
       "    <tr>\n",
       "      <th>0</th>\n",
       "      <td>644.0</td>\n",
       "      <td>343.0</td>\n",
       "      <td>339.0</td>\n",
       "      <td>0.153392</td>\n",
       "      <td>0.023599</td>\n",
       "      <td>0.147493</td>\n",
       "      <td>644.0000</td>\n",
       "      <td>0.271386</td>\n",
       "      <td>0.318584</td>\n",
       "      <td>0.073746</td>\n",
       "      <td>...</td>\n",
       "      <td>0.0</td>\n",
       "      <td>0.005161</td>\n",
       "      <td>0.014194</td>\n",
       "      <td>0.009032</td>\n",
       "      <td>0.014194</td>\n",
       "      <td>0.025740</td>\n",
       "      <td>0.037323</td>\n",
       "      <td>0.011583</td>\n",
       "      <td>0.018543</td>\n",
       "      <td>0.014634</td>\n",
       "    </tr>\n",
       "    <tr>\n",
       "      <th>1</th>\n",
       "      <td>218.0</td>\n",
       "      <td>133.0</td>\n",
       "      <td>128.0</td>\n",
       "      <td>0.343750</td>\n",
       "      <td>0.000000</td>\n",
       "      <td>0.000000</td>\n",
       "      <td>218.0000</td>\n",
       "      <td>0.109375</td>\n",
       "      <td>0.078125</td>\n",
       "      <td>0.437500</td>\n",
       "      <td>...</td>\n",
       "      <td>0.0</td>\n",
       "      <td>0.003891</td>\n",
       "      <td>0.003891</td>\n",
       "      <td>0.000000</td>\n",
       "      <td>0.000000</td>\n",
       "      <td>0.012766</td>\n",
       "      <td>0.021277</td>\n",
       "      <td>0.008511</td>\n",
       "      <td>0.005618</td>\n",
       "      <td>0.037736</td>\n",
       "    </tr>\n",
       "    <tr>\n",
       "      <th>2</th>\n",
       "      <td>8844.0</td>\n",
       "      <td>4123.0</td>\n",
       "      <td>4012.0</td>\n",
       "      <td>0.298106</td>\n",
       "      <td>0.000000</td>\n",
       "      <td>0.000000</td>\n",
       "      <td>9887.9053</td>\n",
       "      <td>0.087488</td>\n",
       "      <td>0.262961</td>\n",
       "      <td>0.321037</td>\n",
       "      <td>...</td>\n",
       "      <td>0.0</td>\n",
       "      <td>0.089823</td>\n",
       "      <td>0.107816</td>\n",
       "      <td>0.017993</td>\n",
       "      <td>0.027062</td>\n",
       "      <td>0.079042</td>\n",
       "      <td>0.102438</td>\n",
       "      <td>0.023396</td>\n",
       "      <td>0.066773</td>\n",
       "      <td>0.060427</td>\n",
       "    </tr>\n",
       "    <tr>\n",
       "      <th>3</th>\n",
       "      <td>1299.0</td>\n",
       "      <td>636.0</td>\n",
       "      <td>622.0</td>\n",
       "      <td>0.160772</td>\n",
       "      <td>0.024116</td>\n",
       "      <td>0.178457</td>\n",
       "      <td>1531.4249</td>\n",
       "      <td>0.204180</td>\n",
       "      <td>0.376206</td>\n",
       "      <td>0.048232</td>\n",
       "      <td>...</td>\n",
       "      <td>0.0</td>\n",
       "      <td>0.013349</td>\n",
       "      <td>0.041788</td>\n",
       "      <td>0.028439</td>\n",
       "      <td>0.042948</td>\n",
       "      <td>0.014007</td>\n",
       "      <td>0.036541</td>\n",
       "      <td>0.022533</td>\n",
       "      <td>0.026063</td>\n",
       "      <td>0.043729</td>\n",
       "    </tr>\n",
       "    <tr>\n",
       "      <th>4</th>\n",
       "      <td>101.0</td>\n",
       "      <td>63.0</td>\n",
       "      <td>59.0</td>\n",
       "      <td>0.220339</td>\n",
       "      <td>0.000000</td>\n",
       "      <td>0.288136</td>\n",
       "      <td>101.0000</td>\n",
       "      <td>0.288136</td>\n",
       "      <td>0.152542</td>\n",
       "      <td>0.000000</td>\n",
       "      <td>...</td>\n",
       "      <td>0.0</td>\n",
       "      <td>0.044643</td>\n",
       "      <td>0.044643</td>\n",
       "      <td>0.000000</td>\n",
       "      <td>0.000000</td>\n",
       "      <td>0.090909</td>\n",
       "      <td>0.100000</td>\n",
       "      <td>0.009091</td>\n",
       "      <td>0.000000</td>\n",
       "      <td>0.000000</td>\n",
       "    </tr>\n",
       "  </tbody>\n",
       "</table>\n",
       "<p>5 rows × 268 columns</p>\n",
       "</div>"
      ],
      "text/plain": [
       "   TAR_inscrits  TAR_votants  TAR_exprimes  YYY_pvoixNUP  YYY_pvoixECO  \\\n",
       "0         644.0        343.0         339.0      0.153392      0.023599   \n",
       "1         218.0        133.0         128.0      0.343750      0.000000   \n",
       "2        8844.0       4123.0        4012.0      0.298106      0.000000   \n",
       "3        1299.0        636.0         622.0      0.160772      0.024116   \n",
       "4         101.0         63.0          59.0      0.220339      0.000000   \n",
       "\n",
       "   YYY_pvoixENS  TAR_electeurs  YYY_pvoixLR_UDI  YYY_pvoixEXTREMD  \\\n",
       "0      0.147493       644.0000         0.271386          0.318584   \n",
       "1      0.000000       218.0000         0.109375          0.078125   \n",
       "2      0.000000      9887.9053         0.087488          0.262961   \n",
       "3      0.178457      1531.4249         0.204180          0.376206   \n",
       "4      0.288136       101.0000         0.288136          0.152542   \n",
       "\n",
       "   YYY_pvoixCENTRE  ...  TER_surf68  NAT_petranger22  NAT_pimmigre22  \\\n",
       "0         0.073746  ...         0.0         0.005161        0.014194   \n",
       "1         0.437500  ...         0.0         0.003891        0.003891   \n",
       "2         0.321037  ...         0.0         0.089823        0.107816   \n",
       "3         0.048232  ...         0.0         0.013349        0.041788   \n",
       "4         0.000000  ...         0.0         0.044643        0.044643   \n",
       "\n",
       "   NAT_pimmnatur22  NAT_pnatur22  NAT_petranger12  NAT_pimmigre12  \\\n",
       "0         0.009032      0.014194         0.025740        0.037323   \n",
       "1         0.000000      0.000000         0.012766        0.021277   \n",
       "2         0.017993      0.027062         0.079042        0.102438   \n",
       "3         0.028439      0.042948         0.014007        0.036541   \n",
       "4         0.000000      0.000000         0.090909        0.100000   \n",
       "\n",
       "   NAT_pimmnatur12  NAT_petranger02  NAT_petranger92  \n",
       "0         0.011583         0.018543         0.014634  \n",
       "1         0.008511         0.005618         0.037736  \n",
       "2         0.023396         0.066773         0.060427  \n",
       "3         0.022533         0.026063         0.043729  \n",
       "4         0.009091         0.000000         0.000000  \n",
       "\n",
       "[5 rows x 268 columns]"
      ]
     },
     "execution_count": 111,
     "metadata": {},
     "output_type": "execute_result"
    }
   ],
   "source": [
    "df.head()"
   ]
  },
  {
   "cell_type": "markdown",
   "id": "f0443e03-d112-4102-8644-be92f65de8f1",
   "metadata": {},
   "source": [
    "### Fusion des 2 CSV"
   ]
  },
  {
   "cell_type": "code",
   "execution_count": 112,
   "id": "fa84bcb5-604b-453b-aa24-1aa31f1c0c5f",
   "metadata": {},
   "outputs": [
    {
     "data": {
      "text/plain": [
       "(33803, 268)"
      ]
     },
     "execution_count": 112,
     "metadata": {},
     "output_type": "execute_result"
    }
   ],
   "source": [
    "df_FULL = df.copy()\n",
    "df_FULL.shape"
   ]
  },
  {
   "cell_type": "code",
   "execution_count": 113,
   "id": "97aed9f1-90a8-49a4-804c-8b7d0b029ce3",
   "metadata": {},
   "outputs": [
    {
     "data": {
      "text/html": [
       "<div>\n",
       "<style scoped>\n",
       "    .dataframe tbody tr th:only-of-type {\n",
       "        vertical-align: middle;\n",
       "    }\n",
       "\n",
       "    .dataframe tbody tr th {\n",
       "        vertical-align: top;\n",
       "    }\n",
       "\n",
       "    .dataframe thead th {\n",
       "        text-align: right;\n",
       "    }\n",
       "</style>\n",
       "<table border=\"1\" class=\"dataframe\">\n",
       "  <thead>\n",
       "    <tr style=\"text-align: right;\">\n",
       "      <th></th>\n",
       "      <th>TAR_inscrits</th>\n",
       "      <th>TAR_votants</th>\n",
       "      <th>TAR_exprimes</th>\n",
       "      <th>YYY_pvoixNUP</th>\n",
       "      <th>YYY_pvoixECO</th>\n",
       "      <th>YYY_pvoixENS</th>\n",
       "      <th>TAR_electeurs</th>\n",
       "      <th>YYY_pvoixLR_UDI</th>\n",
       "      <th>YYY_pvoixEXTREMD</th>\n",
       "      <th>YYY_pvoixCENTRE</th>\n",
       "      <th>...</th>\n",
       "      <th>TER_surf68</th>\n",
       "      <th>NAT_petranger22</th>\n",
       "      <th>NAT_pimmigre22</th>\n",
       "      <th>NAT_pimmnatur22</th>\n",
       "      <th>NAT_pnatur22</th>\n",
       "      <th>NAT_petranger12</th>\n",
       "      <th>NAT_pimmigre12</th>\n",
       "      <th>NAT_pimmnatur12</th>\n",
       "      <th>NAT_petranger02</th>\n",
       "      <th>NAT_petranger92</th>\n",
       "    </tr>\n",
       "    <tr>\n",
       "      <th>key</th>\n",
       "      <th></th>\n",
       "      <th></th>\n",
       "      <th></th>\n",
       "      <th></th>\n",
       "      <th></th>\n",
       "      <th></th>\n",
       "      <th></th>\n",
       "      <th></th>\n",
       "      <th></th>\n",
       "      <th></th>\n",
       "      <th></th>\n",
       "      <th></th>\n",
       "      <th></th>\n",
       "      <th></th>\n",
       "      <th></th>\n",
       "      <th></th>\n",
       "      <th></th>\n",
       "      <th></th>\n",
       "      <th></th>\n",
       "      <th></th>\n",
       "      <th></th>\n",
       "    </tr>\n",
       "  </thead>\n",
       "  <tbody>\n",
       "    <tr>\n",
       "      <th>01001</th>\n",
       "      <td>644.0</td>\n",
       "      <td>343.0</td>\n",
       "      <td>339.0</td>\n",
       "      <td>0.153392</td>\n",
       "      <td>0.023599</td>\n",
       "      <td>0.147493</td>\n",
       "      <td>644.0</td>\n",
       "      <td>0.271386</td>\n",
       "      <td>0.318584</td>\n",
       "      <td>0.073746</td>\n",
       "      <td>...</td>\n",
       "      <td>0.0</td>\n",
       "      <td>0.005161</td>\n",
       "      <td>0.014194</td>\n",
       "      <td>0.009032</td>\n",
       "      <td>0.014194</td>\n",
       "      <td>0.025740</td>\n",
       "      <td>0.037323</td>\n",
       "      <td>0.011583</td>\n",
       "      <td>0.018543</td>\n",
       "      <td>0.014634</td>\n",
       "    </tr>\n",
       "    <tr>\n",
       "      <th>01002</th>\n",
       "      <td>218.0</td>\n",
       "      <td>133.0</td>\n",
       "      <td>128.0</td>\n",
       "      <td>0.343750</td>\n",
       "      <td>0.000000</td>\n",
       "      <td>0.000000</td>\n",
       "      <td>218.0</td>\n",
       "      <td>0.109375</td>\n",
       "      <td>0.078125</td>\n",
       "      <td>0.437500</td>\n",
       "      <td>...</td>\n",
       "      <td>0.0</td>\n",
       "      <td>0.003891</td>\n",
       "      <td>0.003891</td>\n",
       "      <td>0.000000</td>\n",
       "      <td>0.000000</td>\n",
       "      <td>0.012766</td>\n",
       "      <td>0.021277</td>\n",
       "      <td>0.008511</td>\n",
       "      <td>0.005618</td>\n",
       "      <td>0.037736</td>\n",
       "    </tr>\n",
       "  </tbody>\n",
       "</table>\n",
       "<p>2 rows × 268 columns</p>\n",
       "</div>"
      ],
      "text/plain": [
       "       TAR_inscrits  TAR_votants  TAR_exprimes  YYY_pvoixNUP  YYY_pvoixECO  \\\n",
       "key                                                                          \n",
       "01001         644.0        343.0         339.0      0.153392      0.023599   \n",
       "01002         218.0        133.0         128.0      0.343750      0.000000   \n",
       "\n",
       "       YYY_pvoixENS  TAR_electeurs  YYY_pvoixLR_UDI  YYY_pvoixEXTREMD  \\\n",
       "key                                                                     \n",
       "01001      0.147493          644.0         0.271386          0.318584   \n",
       "01002      0.000000          218.0         0.109375          0.078125   \n",
       "\n",
       "       YYY_pvoixCENTRE  ...  TER_surf68  NAT_petranger22  NAT_pimmigre22  \\\n",
       "key                     ...                                                \n",
       "01001         0.073746  ...         0.0         0.005161        0.014194   \n",
       "01002         0.437500  ...         0.0         0.003891        0.003891   \n",
       "\n",
       "       NAT_pimmnatur22  NAT_pnatur22  NAT_petranger12  NAT_pimmigre12  \\\n",
       "key                                                                     \n",
       "01001         0.009032      0.014194         0.025740        0.037323   \n",
       "01002         0.000000      0.000000         0.012766        0.021277   \n",
       "\n",
       "       NAT_pimmnatur12  NAT_petranger02  NAT_petranger92  \n",
       "key                                                       \n",
       "01001         0.011583         0.018543         0.014634  \n",
       "01002         0.008511         0.005618         0.037736  \n",
       "\n",
       "[2 rows x 268 columns]"
      ]
     },
     "execution_count": 113,
     "metadata": {},
     "output_type": "execute_result"
    }
   ],
   "source": [
    "df_FULL.index = df_info.index \n",
    "df_FULL.head(2)"
   ]
  },
  {
   "cell_type": "code",
   "execution_count": 114,
   "id": "f10f9e3b-9adf-49da-bfba-1d028e050cdf",
   "metadata": {},
   "outputs": [
    {
     "data": {
      "text/plain": [
       "(33803, 272)"
      ]
     },
     "execution_count": 114,
     "metadata": {},
     "output_type": "execute_result"
    }
   ],
   "source": [
    "# result = pd.concat([df1, df2], axis=0, ignore_index=True)\n",
    "df_FULL = pd.concat([df_FULL, df_info], axis=1)\n",
    "df_FULL.shape"
   ]
  },
  {
   "cell_type": "code",
   "execution_count": 115,
   "id": "ce7f8feb-a7f2-4ec3-a4e3-8024ea0e4c72",
   "metadata": {},
   "outputs": [
    {
     "data": {
      "text/html": [
       "<div>\n",
       "<style scoped>\n",
       "    .dataframe tbody tr th:only-of-type {\n",
       "        vertical-align: middle;\n",
       "    }\n",
       "\n",
       "    .dataframe tbody tr th {\n",
       "        vertical-align: top;\n",
       "    }\n",
       "\n",
       "    .dataframe thead th {\n",
       "        text-align: right;\n",
       "    }\n",
       "</style>\n",
       "<table border=\"1\" class=\"dataframe\">\n",
       "  <thead>\n",
       "    <tr style=\"text-align: right;\">\n",
       "      <th></th>\n",
       "      <th>TAR_inscrits</th>\n",
       "      <th>TAR_votants</th>\n",
       "      <th>TAR_exprimes</th>\n",
       "      <th>YYY_pvoixNUP</th>\n",
       "      <th>YYY_pvoixECO</th>\n",
       "      <th>YYY_pvoixENS</th>\n",
       "      <th>TAR_electeurs</th>\n",
       "      <th>YYY_pvoixLR_UDI</th>\n",
       "      <th>YYY_pvoixEXTREMD</th>\n",
       "      <th>YYY_pvoixCENTRE</th>\n",
       "      <th>...</th>\n",
       "      <th>NAT_pnatur22</th>\n",
       "      <th>NAT_petranger12</th>\n",
       "      <th>NAT_pimmigre12</th>\n",
       "      <th>NAT_pimmnatur12</th>\n",
       "      <th>NAT_petranger02</th>\n",
       "      <th>NAT_petranger92</th>\n",
       "      <th>dep</th>\n",
       "      <th>nomdep</th>\n",
       "      <th>codecommune</th>\n",
       "      <th>nomcommune</th>\n",
       "    </tr>\n",
       "    <tr>\n",
       "      <th>key</th>\n",
       "      <th></th>\n",
       "      <th></th>\n",
       "      <th></th>\n",
       "      <th></th>\n",
       "      <th></th>\n",
       "      <th></th>\n",
       "      <th></th>\n",
       "      <th></th>\n",
       "      <th></th>\n",
       "      <th></th>\n",
       "      <th></th>\n",
       "      <th></th>\n",
       "      <th></th>\n",
       "      <th></th>\n",
       "      <th></th>\n",
       "      <th></th>\n",
       "      <th></th>\n",
       "      <th></th>\n",
       "      <th></th>\n",
       "      <th></th>\n",
       "      <th></th>\n",
       "    </tr>\n",
       "  </thead>\n",
       "  <tbody>\n",
       "    <tr>\n",
       "      <th>01001</th>\n",
       "      <td>644.0</td>\n",
       "      <td>343.0</td>\n",
       "      <td>339.0</td>\n",
       "      <td>0.153392</td>\n",
       "      <td>0.023599</td>\n",
       "      <td>0.147493</td>\n",
       "      <td>644.0000</td>\n",
       "      <td>0.271386</td>\n",
       "      <td>0.318584</td>\n",
       "      <td>0.073746</td>\n",
       "      <td>...</td>\n",
       "      <td>0.014194</td>\n",
       "      <td>0.025740</td>\n",
       "      <td>0.037323</td>\n",
       "      <td>0.011583</td>\n",
       "      <td>0.018543</td>\n",
       "      <td>0.014634</td>\n",
       "      <td>01</td>\n",
       "      <td>AIN</td>\n",
       "      <td>01001</td>\n",
       "      <td>L'ABERGEMENT-CLÉMENCIAT</td>\n",
       "    </tr>\n",
       "    <tr>\n",
       "      <th>01002</th>\n",
       "      <td>218.0</td>\n",
       "      <td>133.0</td>\n",
       "      <td>128.0</td>\n",
       "      <td>0.343750</td>\n",
       "      <td>0.000000</td>\n",
       "      <td>0.000000</td>\n",
       "      <td>218.0000</td>\n",
       "      <td>0.109375</td>\n",
       "      <td>0.078125</td>\n",
       "      <td>0.437500</td>\n",
       "      <td>...</td>\n",
       "      <td>0.000000</td>\n",
       "      <td>0.012766</td>\n",
       "      <td>0.021277</td>\n",
       "      <td>0.008511</td>\n",
       "      <td>0.005618</td>\n",
       "      <td>0.037736</td>\n",
       "      <td>01</td>\n",
       "      <td>AIN</td>\n",
       "      <td>01002</td>\n",
       "      <td>L'ABERGEMENT-DE-VAREY</td>\n",
       "    </tr>\n",
       "    <tr>\n",
       "      <th>01004</th>\n",
       "      <td>8844.0</td>\n",
       "      <td>4123.0</td>\n",
       "      <td>4012.0</td>\n",
       "      <td>0.298106</td>\n",
       "      <td>0.000000</td>\n",
       "      <td>0.000000</td>\n",
       "      <td>9887.9053</td>\n",
       "      <td>0.087488</td>\n",
       "      <td>0.262961</td>\n",
       "      <td>0.321037</td>\n",
       "      <td>...</td>\n",
       "      <td>0.027062</td>\n",
       "      <td>0.079042</td>\n",
       "      <td>0.102438</td>\n",
       "      <td>0.023396</td>\n",
       "      <td>0.066773</td>\n",
       "      <td>0.060427</td>\n",
       "      <td>01</td>\n",
       "      <td>AIN</td>\n",
       "      <td>01004</td>\n",
       "      <td>AMBÉRIEU-EN-BUGEY</td>\n",
       "    </tr>\n",
       "    <tr>\n",
       "      <th>01005</th>\n",
       "      <td>1299.0</td>\n",
       "      <td>636.0</td>\n",
       "      <td>622.0</td>\n",
       "      <td>0.160772</td>\n",
       "      <td>0.024116</td>\n",
       "      <td>0.178457</td>\n",
       "      <td>1531.4249</td>\n",
       "      <td>0.204180</td>\n",
       "      <td>0.376206</td>\n",
       "      <td>0.048232</td>\n",
       "      <td>...</td>\n",
       "      <td>0.042948</td>\n",
       "      <td>0.014007</td>\n",
       "      <td>0.036541</td>\n",
       "      <td>0.022533</td>\n",
       "      <td>0.026063</td>\n",
       "      <td>0.043729</td>\n",
       "      <td>01</td>\n",
       "      <td>AIN</td>\n",
       "      <td>01005</td>\n",
       "      <td>AMBÉRIEUX-EN-DOMBES</td>\n",
       "    </tr>\n",
       "    <tr>\n",
       "      <th>01006</th>\n",
       "      <td>101.0</td>\n",
       "      <td>63.0</td>\n",
       "      <td>59.0</td>\n",
       "      <td>0.220339</td>\n",
       "      <td>0.000000</td>\n",
       "      <td>0.288136</td>\n",
       "      <td>101.0000</td>\n",
       "      <td>0.288136</td>\n",
       "      <td>0.152542</td>\n",
       "      <td>0.000000</td>\n",
       "      <td>...</td>\n",
       "      <td>0.000000</td>\n",
       "      <td>0.090909</td>\n",
       "      <td>0.100000</td>\n",
       "      <td>0.009091</td>\n",
       "      <td>0.000000</td>\n",
       "      <td>0.000000</td>\n",
       "      <td>01</td>\n",
       "      <td>AIN</td>\n",
       "      <td>01006</td>\n",
       "      <td>AMBLÉON</td>\n",
       "    </tr>\n",
       "  </tbody>\n",
       "</table>\n",
       "<p>5 rows × 272 columns</p>\n",
       "</div>"
      ],
      "text/plain": [
       "       TAR_inscrits  TAR_votants  TAR_exprimes  YYY_pvoixNUP  YYY_pvoixECO  \\\n",
       "key                                                                          \n",
       "01001         644.0        343.0         339.0      0.153392      0.023599   \n",
       "01002         218.0        133.0         128.0      0.343750      0.000000   \n",
       "01004        8844.0       4123.0        4012.0      0.298106      0.000000   \n",
       "01005        1299.0        636.0         622.0      0.160772      0.024116   \n",
       "01006         101.0         63.0          59.0      0.220339      0.000000   \n",
       "\n",
       "       YYY_pvoixENS  TAR_electeurs  YYY_pvoixLR_UDI  YYY_pvoixEXTREMD  \\\n",
       "key                                                                     \n",
       "01001      0.147493       644.0000         0.271386          0.318584   \n",
       "01002      0.000000       218.0000         0.109375          0.078125   \n",
       "01004      0.000000      9887.9053         0.087488          0.262961   \n",
       "01005      0.178457      1531.4249         0.204180          0.376206   \n",
       "01006      0.288136       101.0000         0.288136          0.152542   \n",
       "\n",
       "       YYY_pvoixCENTRE  ...  NAT_pnatur22  NAT_petranger12  NAT_pimmigre12  \\\n",
       "key                     ...                                                  \n",
       "01001         0.073746  ...      0.014194         0.025740        0.037323   \n",
       "01002         0.437500  ...      0.000000         0.012766        0.021277   \n",
       "01004         0.321037  ...      0.027062         0.079042        0.102438   \n",
       "01005         0.048232  ...      0.042948         0.014007        0.036541   \n",
       "01006         0.000000  ...      0.000000         0.090909        0.100000   \n",
       "\n",
       "       NAT_pimmnatur12  NAT_petranger02  NAT_petranger92  dep  nomdep  \\\n",
       "key                                                                     \n",
       "01001         0.011583         0.018543         0.014634   01     AIN   \n",
       "01002         0.008511         0.005618         0.037736   01     AIN   \n",
       "01004         0.023396         0.066773         0.060427   01     AIN   \n",
       "01005         0.022533         0.026063         0.043729   01     AIN   \n",
       "01006         0.009091         0.000000         0.000000   01     AIN   \n",
       "\n",
       "       codecommune               nomcommune  \n",
       "key                                          \n",
       "01001        01001  L'ABERGEMENT-CLÉMENCIAT  \n",
       "01002        01002    L'ABERGEMENT-DE-VAREY  \n",
       "01004        01004        AMBÉRIEU-EN-BUGEY  \n",
       "01005        01005      AMBÉRIEUX-EN-DOMBES  \n",
       "01006        01006                  AMBLÉON  \n",
       "\n",
       "[5 rows x 272 columns]"
      ]
     },
     "execution_count": 115,
     "metadata": {},
     "output_type": "execute_result"
    }
   ],
   "source": [
    "df_FULL.head(5)"
   ]
  },
  {
   "cell_type": "code",
   "execution_count": 116,
   "id": "6dd8b3a0-5f08-44f2-8907-31bc9af30c50",
   "metadata": {},
   "outputs": [
    {
     "data": {
      "text/plain": [
       "dict_keys(['XGBoost_reg200_importance_tbl', 'XGBoost_reg200_resultats_tbl', 'X_col_titr', 'data_tbl', 'y_resultats200_tbl'])"
      ]
     },
     "execution_count": 116,
     "metadata": {},
     "output_type": "execute_result"
    }
   ],
   "source": [
    "# CREATION \n",
    "tbl_data = 'data_tbl'\n",
    "if tbl_result not in tbl_db_names :\n",
    "    # Convert DataFrame to a SQL table, using the index as the ID column\n",
    "    df_FULL.to_sql(tbl_data , con=engine, index=True, if_exists='replace')\n",
    "    metadata.reflect(bind=engine)\n",
    "tbl_db_names = metadata.tables.keys()\n",
    "tbl_db_names"
   ]
  },
  {
   "cell_type": "markdown",
   "id": "0c20409f-1f99-4bac-b016-80745630045d",
   "metadata": {},
   "source": [
    "## FILTRES 200 inscrits"
   ]
  },
  {
   "cell_type": "code",
   "execution_count": 42,
   "id": "a973eee8-4b3f-4ead-ad31-f3ba2f1c4170",
   "metadata": {},
   "outputs": [
    {
     "name": "stdout",
     "output_type": "stream",
     "text": [
      "['01001', '01002', '01004', '01005', '01007', '01008', '01009', '01010', '01011', '01012'] 23973\n"
     ]
    }
   ],
   "source": [
    "# Specify the file path\n",
    "file_path = '../DATA/list_codecommune_leg2022_200inscrits.txt'\n",
    "\n",
    "# Open the text file and read lines into a list\n",
    "with open(file_path, 'r', encoding='utf-8') as file:\n",
    "    lines = [line.strip() for line in file.readlines()]\n",
    "\n",
    "# Print or manipulate the list of lines as needed\n",
    "print(lines[0:10], len(lines))"
   ]
  },
  {
   "cell_type": "code",
   "execution_count": 43,
   "id": "2f9e7696-2025-4145-9235-a59f61721197",
   "metadata": {},
   "outputs": [],
   "source": [
    "index_suppr = ['13201','13202','13203','13204','13205','13206','13207','13208','13209','13210','13211','13212','13213','13214','13215','13216',\n",
    "               '69380','69381','69382','69383','69384','69385','69386','69387','69388','69389','75056']\n"
   ]
  },
  {
   "cell_type": "code",
   "execution_count": 44,
   "id": "235fb8cf-f87d-4afa-846f-4f16f3ee0864",
   "metadata": {},
   "outputs": [
    {
     "data": {
      "text/plain": [
       "23946"
      ]
     },
     "execution_count": 44,
     "metadata": {},
     "output_type": "execute_result"
    }
   ],
   "source": [
    "linesC = list(set(lines) - set(index_suppr))\n",
    "len (linesC)"
   ]
  },
  {
   "cell_type": "code",
   "execution_count": 45,
   "id": "daeb1b9a-64fe-497d-a70e-f1659d4bf987",
   "metadata": {},
   "outputs": [
    {
     "data": {
      "text/plain": [
       "((23946, 272), (33803, 272))"
      ]
     },
     "execution_count": 45,
     "metadata": {},
     "output_type": "execute_result"
    }
   ],
   "source": [
    "df_filtered = df_FULL[df_FULL['codecommune'].isin(linesC)]\n",
    "df_filtered.shape,df_FULL.shape"
   ]
  },
  {
   "cell_type": "code",
   "execution_count": null,
   "id": "5c8c4107-f550-412d-a918-0f0c2f3de7fb",
   "metadata": {},
   "outputs": [],
   "source": [
    "## CREATION \n",
    "tbl_result = 'y_resultats200_tbl'\n",
    "if tbl_result not in tbl_db_names :\n",
    "    # Convert DataFrame to a SQL table, using the index as the ID column\n",
    "    y.to_sql(tbl_result, con=engine, index=True, if_exists='replace')\n",
    "    metadata.reflect(bind=engine)\n",
    "tbl_db_names = metadata.tables.keys()\n",
    "tbl_db_names"
   ]
  },
  {
   "cell_type": "markdown",
   "id": "b5d8ecf7-4402-46b1-aecc-675879cb1706",
   "metadata": {},
   "source": [
    "## SLPIT\n",
    "infoc X & y"
   ]
  },
  {
   "cell_type": "code",
   "execution_count": 46,
   "id": "4042a267-6f0c-4aea-9546-4b87ff872cb9",
   "metadata": {},
   "outputs": [
    {
     "data": {
      "text/plain": [
       "(23946, 4)"
      ]
     },
     "execution_count": 46,
     "metadata": {},
     "output_type": "execute_result"
    }
   ],
   "source": [
    "df_infoC = df_filtered.iloc[:, -4:] \n",
    "df_infoC.shape"
   ]
  },
  {
   "cell_type": "code",
   "execution_count": 47,
   "id": "7b5c5e52-1a6f-4da1-831d-91dc2a6b2fb9",
   "metadata": {},
   "outputs": [
    {
     "data": {
      "text/plain": [
       "(23946, 268)"
      ]
     },
     "execution_count": 47,
     "metadata": {},
     "output_type": "execute_result"
    }
   ],
   "source": [
    "df_XY = df_filtered.iloc[:, 0:-4] \n",
    "df_XY.shape"
   ]
  },
  {
   "cell_type": "code",
   "execution_count": 48,
   "id": "e15673fb-577e-4e71-8e41-6ef42200f125",
   "metadata": {},
   "outputs": [
    {
     "data": {
      "text/plain": [
       "((23946, 261), (23946, 7))"
      ]
     },
     "execution_count": 48,
     "metadata": {},
     "output_type": "execute_result"
    }
   ],
   "source": [
    "# SPLIT\n",
    "y = df_XY.filter(like='YYY', axis=1)\n",
    "# Filter columns NOT starting with 'YYY'\n",
    "X = df_XY.loc[:, ~df.columns.str.startswith('YYY')]\n",
    "X.shape, y.shape"
   ]
  },
  {
   "cell_type": "code",
   "execution_count": 49,
   "id": "a63b790c-6db8-4bc4-b573-8ea2d3600ead",
   "metadata": {},
   "outputs": [
    {
     "name": "stdout",
     "output_type": "stream",
     "text": [
      "       YYY_pvoixNUP  YYY_pvoixECO  YYY_pvoixENS  YYY_pvoixLR_UDI  \\\n",
      "key                                                                \n",
      "01001      0.153392      0.023599      0.147493         0.271386   \n",
      "01002      0.343750      0.000000      0.000000         0.109375   \n",
      "01004      0.298106      0.000000      0.000000         0.087488   \n",
      "01005      0.160772      0.024116      0.178457         0.204180   \n",
      "01007      0.251241      0.000000      0.000000         0.049652   \n",
      "...             ...           ...           ...              ...   \n",
      "95675      0.235772      0.010840      0.157182         0.165312   \n",
      "95676      0.140351      0.087719      0.232456         0.166667   \n",
      "95678      0.184874      0.047619      0.282913         0.131653   \n",
      "95680      0.460476      0.010000      0.235714         0.031667   \n",
      "95690      0.161677      0.083832      0.305389         0.209581   \n",
      "\n",
      "       YYY_pvoixEXTREMD  YYY_pvoixCENTRE  YYY_pvoixOTR  \n",
      "key                                                     \n",
      "01001          0.318584         0.073746      0.011799  \n",
      "01002          0.078125         0.437500      0.031250  \n",
      "01004          0.262961         0.321037      0.030409  \n",
      "01005          0.376206         0.048232      0.008039  \n",
      "01007          0.290963         0.397219      0.010924  \n",
      "...                 ...              ...           ...  \n",
      "95675          0.371274         0.040650      0.018970  \n",
      "95676          0.328947         0.026316      0.017544  \n",
      "95678          0.296919         0.025210      0.030812  \n",
      "95680          0.132619         0.105476      0.024048  \n",
      "95690          0.221557         0.017964      0.000000  \n",
      "\n",
      "[23946 rows x 7 columns]\n"
     ]
    }
   ],
   "source": [
    "print(y)"
   ]
  },
  {
   "cell_type": "code",
   "execution_count": 50,
   "id": "65e9b1cc-7c67-4791-9d45-8f85a0659a70",
   "metadata": {},
   "outputs": [
    {
     "name": "stdout",
     "output_type": "stream",
     "text": [
      "            NUP       ECO       ENS    LR_UDI   EXTREMD    CENTRE       OTR\n",
      "key                                                                        \n",
      "01001  0.153392  0.023599  0.147493  0.271386  0.318584  0.073746  0.011799\n",
      "01002  0.343750  0.000000  0.000000  0.109375  0.078125  0.437500  0.031250\n",
      "01004  0.298106  0.000000  0.000000  0.087488  0.262961  0.321037  0.030409\n",
      "01005  0.160772  0.024116  0.178457  0.204180  0.376206  0.048232  0.008039\n",
      "01007  0.251241  0.000000  0.000000  0.049652  0.290963  0.397219  0.010924\n",
      "...         ...       ...       ...       ...       ...       ...       ...\n",
      "95675  0.235772  0.010840  0.157182  0.165312  0.371274  0.040650  0.018970\n",
      "95676  0.140351  0.087719  0.232456  0.166667  0.328947  0.026316  0.017544\n",
      "95678  0.184874  0.047619  0.282913  0.131653  0.296919  0.025210  0.030812\n",
      "95680  0.460476  0.010000  0.235714  0.031667  0.132619  0.105476  0.024048\n",
      "95690  0.161677  0.083832  0.305389  0.209581  0.221557  0.017964  0.000000\n",
      "\n",
      "[23946 rows x 7 columns]\n"
     ]
    }
   ],
   "source": [
    "column_mapping = {col: col[9:] for col in y.columns}\n",
    "y.rename(columns=column_mapping, inplace=True)\n",
    "print(y)"
   ]
  },
  {
   "cell_type": "code",
   "execution_count": 51,
   "id": "0f8a663e-a968-46ec-8322-93edcea6b68b",
   "metadata": {},
   "outputs": [
    {
     "data": {
      "text/plain": [
       "Index(['01001', '01002', '01004', '01005', '01007', '01008', '01009', '01010',\n",
       "       '01011', '01012',\n",
       "       ...\n",
       "       '95651', '95652', '95656', '95658', '95660', '95675', '95676', '95678',\n",
       "       '95680', '95690'],\n",
       "      dtype='object', name='key', length=23946)"
      ]
     },
     "execution_count": 51,
     "metadata": {},
     "output_type": "execute_result"
    }
   ],
   "source": [
    "y.index"
   ]
  },
  {
   "cell_type": "code",
   "execution_count": 52,
   "id": "c55a827c-ce65-4f7f-be72-dce81df71b13",
   "metadata": {},
   "outputs": [
    {
     "data": {
      "text/plain": [
       "pandas.core.frame.DataFrame"
      ]
     },
     "execution_count": 52,
     "metadata": {},
     "output_type": "execute_result"
    }
   ],
   "source": [
    "type(y)"
   ]
  },
  {
   "cell_type": "markdown",
   "id": "b1bf9187-cd4f-4596-a5ab-88732c96e92a",
   "metadata": {},
   "source": [
    "### CREATION TABLE y_resultats200_tbl\n",
    "tables des resultats sur le communes filtrees"
   ]
  },
  {
   "cell_type": "code",
   "execution_count": 53,
   "id": "bf27d4cf-3181-4c48-be98-fb48b64504a3",
   "metadata": {},
   "outputs": [
    {
     "data": {
      "text/plain": [
       "dict_keys(['XGBoost_reg200_importance_tbl', 'XGBoost_reg200_resultats_tbl', 'X_col_titr', 'y_resultats200_tbl'])"
      ]
     },
     "execution_count": 53,
     "metadata": {},
     "output_type": "execute_result"
    }
   ],
   "source": [
    "## CREATION \n",
    "tbl_result = 'y_resultats200_tbl'\n",
    "if tbl_result not in tbl_db_names :\n",
    "    # Convert DataFrame to a SQL table, using the index as the ID column\n",
    "    y.to_sql(tbl_result, con=engine, index=True, if_exists='replace')\n",
    "    metadata.reflect(bind=engine)\n",
    "tbl_db_names = metadata.tables.keys()\n",
    "tbl_db_names"
   ]
  },
  {
   "cell_type": "code",
   "execution_count": 56,
   "id": "a4e26825-ea3b-4f3a-8a13-93500fe49ed1",
   "metadata": {},
   "outputs": [
    {
     "name": "stdout",
     "output_type": "stream",
     "text": [
      "The size of y_resultats200_tbl is: 23946 rows\n"
     ]
    }
   ],
   "source": [
    "import sqlite3\n",
    "conn = sqlite3.connect(db_path)\n",
    "cursor = conn.cursor()\n",
    "cursor.execute(\"select COUNT(*) from \"+tbl_result)\n",
    "# Fetch the result using fetchone() method\n",
    "row_count = cursor.fetchone()[0]\n",
    "\n",
    "# Close the cursor and connection\n",
    "cursor.close()\n",
    "conn.close()\n",
    "\n",
    "print(f\"The size of {tbl_result} is: {row_count} rows\")"
   ]
  },
  {
   "cell_type": "code",
   "execution_count": 58,
   "id": "be109d61-ddb0-46fa-90d2-20bc1388157e",
   "metadata": {},
   "outputs": [
    {
     "name": "stdout",
     "output_type": "stream",
     "text": [
      "Première ligne de resultats_tbl avec titres de colonnes:\n",
      "key: 01001\n",
      "NUP: 0.15339233\n",
      "ECO: 0.02359882\n",
      "ENS: 0.14749263\n",
      "LR_UDI: 0.271386436\n",
      "EXTREMD: 0.318584062\n",
      "CENTRE: 0.073746312\n",
      "OTR: 0.01179941\n"
     ]
    }
   ],
   "source": [
    "import sqlite3\n",
    "conn = sqlite3.connect(db_path)\n",
    "cursor = conn.cursor()\n",
    "\n",
    "# Execute a SQL query to get the column names from 'resultats_tbl'\n",
    "cursor.execute(\"PRAGMA table_info(\"+tbl_result+\")\")\n",
    "columns = [column[1] for column in cursor.fetchall()]\n",
    "\n",
    "\n",
    "cursor.execute(\"SELECT * FROM \"+tbl_result+\" LIMIT 1\")\n",
    "# Fetch the result using fetchone() method\n",
    "first_row = cursor.fetchone()\n",
    "\n",
    "# Close the cursor and connection\n",
    "cursor.close()\n",
    "conn.close()\n",
    "\n",
    "print(\"Première ligne de resultats_tbl avec titres de colonnes:\")\n",
    "for column, value in zip(columns, first_row):\n",
    "    print(f\"{column}: {value}\")\n"
   ]
  },
  {
   "cell_type": "code",
   "execution_count": 59,
   "id": "9944c5f2-9865-4e80-99f3-e7c20552d133",
   "metadata": {},
   "outputs": [
    {
     "data": {
      "text/plain": [
       "(23946, 7)"
      ]
     },
     "execution_count": 59,
     "metadata": {},
     "output_type": "execute_result"
    }
   ],
   "source": [
    "y.shape"
   ]
  },
  {
   "cell_type": "code",
   "execution_count": 61,
   "id": "b4ac9ebd-7c52-4b59-90e0-907899fee110",
   "metadata": {},
   "outputs": [
    {
     "data": {
      "text/plain": [
       "(23946, '01001')"
      ]
     },
     "execution_count": 61,
     "metadata": {},
     "output_type": "execute_result"
    }
   ],
   "source": [
    "y_index_list = y.index\n",
    "len(y_index_list) , y_index_list[0]"
   ]
  },
  {
   "cell_type": "code",
   "execution_count": 62,
   "id": "358a79ce-1e4c-4fc3-b3c4-df49d00923fa",
   "metadata": {},
   "outputs": [
    {
     "data": {
      "text/plain": [
       "['NUP', 'ECO', 'ENS', 'LR_UDI', 'EXTREMD', 'CENTRE', 'OTR']"
      ]
     },
     "execution_count": 62,
     "metadata": {},
     "output_type": "execute_result"
    }
   ],
   "source": [
    "y_column_names_list = y.columns.tolist()\n",
    "y_column_names_list"
   ]
  },
  {
   "cell_type": "code",
   "execution_count": 63,
   "id": "3e0ffc0d-5892-474f-820e-767985a35c0e",
   "metadata": {},
   "outputs": [
    {
     "data": {
      "text/plain": [
       "['pred_NUP',\n",
       " 'pred_ECO',\n",
       " 'pred_ENS',\n",
       " 'pred_LR_UDI',\n",
       " 'pred_EXTREMD',\n",
       " 'pred_CENTRE',\n",
       " 'pred_OTR']"
      ]
     },
     "execution_count": 63,
     "metadata": {},
     "output_type": "execute_result"
    }
   ],
   "source": [
    "pred_column_names_list = ['pred_' + column for column in y_column_names_list]\n",
    "pred_column_names_list"
   ]
  },
  {
   "cell_type": "code",
   "execution_count": 64,
   "id": "6b9f69e5-85dc-4e93-909d-e1b1c353eba6",
   "metadata": {},
   "outputs": [
    {
     "data": {
      "text/plain": [
       "'TAR_inscrits'"
      ]
     },
     "execution_count": 64,
     "metadata": {},
     "output_type": "execute_result"
    }
   ],
   "source": [
    "titr_cols_list = X.columns.tolist()\n",
    "titr_cols_list[0]"
   ]
  },
  {
   "cell_type": "code",
   "execution_count": 66,
   "id": "bd99dafa-99dd-4d87-93f1-ad9cd43a0705",
   "metadata": {},
   "outputs": [],
   "source": [
    "## CREATION \n",
    "connection = sqlite3.connect(db_path)\n",
    "\n",
    "# Create a cursor object to execute SQL queries\n",
    "cursor = connection.cursor()\n",
    "\n",
    "# Define the SQL command to create the table\n",
    "table_name = 'X_col_titr'\n",
    "\n",
    "create_table_sql = f\"\"\"\n",
    "CREATE TABLE IF NOT EXISTS {table_name} (\n",
    "    indice INTEGER PRIMARY KEY,\n",
    "    titr_col_value TEXT\n",
    ");\n",
    "\"\"\"\n",
    "\n",
    "# Execute the SQL command to create the table\n",
    "cursor.execute(create_table_sql)\n",
    "\n",
    "# Insert data into the table\n",
    "# ko ! insert_data_sql = f\"INSERT INTO {table_name} (titr_col_value) VALUES (?)\"\n",
    "# ko ! cursor.executemany(insert_data_sql, [(value,) for value in titr_cols_list])\n",
    "\n",
    "# Insert data into the table starting with indice 0\n",
    "insert_data_sql = f\"INSERT INTO {table_name} (indice, titr_col_value) VALUES (?, ?)\"\n",
    "cursor.executemany(insert_data_sql, [(i, value) for i, value in enumerate(titr_cols_list)])\n",
    "\n",
    "\n",
    "\n",
    "# Commit the changes to the database\n",
    "connection.commit()\n",
    "\n",
    "# Close the cursor and connection\n",
    "cursor.close()\n",
    "connection.close()\n"
   ]
  },
  {
   "cell_type": "code",
   "execution_count": 65,
   "id": "6c992453-0fcb-4a99-9b76-73589b0e45d9",
   "metadata": {},
   "outputs": [],
   "source": [
    "## CREATION \n",
    "connection = sqlite3.connect(db_path)\n",
    "\n",
    "# Create a cursor object to execute SQL queries\n",
    "cursor = connection.cursor()\n",
    "\n",
    "# Specify the table name to be deleted\n",
    "table_name = 'X_col_titr'\n",
    "\n",
    "# Define the SQL command to drop the table\n",
    "drop_table_sql = f\"DROP TABLE IF EXISTS {table_name};\"\n",
    "\n",
    "# Execute the SQL command to drop the table\n",
    "cursor.execute(drop_table_sql)\n",
    "\n",
    "# Commit the changes to the database\n",
    "connection.commit()"
   ]
  },
  {
   "cell_type": "code",
   "execution_count": 67,
   "id": "02318aa2-8799-4d66-a589-a01fdfe411c0",
   "metadata": {},
   "outputs": [
    {
     "data": {
      "text/plain": [
       "dict_keys(['XGBoost_reg200_importance_tbl', 'XGBoost_reg200_resultats_tbl', 'X_col_titr', 'y_resultats200_tbl'])"
      ]
     },
     "execution_count": 67,
     "metadata": {},
     "output_type": "execute_result"
    }
   ],
   "source": [
    "tbl_db_names = metadata.tables.keys()\n",
    "tbl_db_names\n"
   ]
  },
  {
   "cell_type": "markdown",
   "id": "c95ebcdb-8ab5-495f-9fbc-2d7e97f80723",
   "metadata": {},
   "source": [
    "# MODEL XGBOOST200"
   ]
  },
  {
   "cell_type": "code",
   "execution_count": 91,
   "id": "b1a37e10-a4b8-457a-abe5-1e395c5aecaf",
   "metadata": {},
   "outputs": [
    {
     "name": "stdout",
     "output_type": "stream",
     "text": [
      "X_train shape :  (21551, 261)\n",
      "X_test shape :  (2395, 261)\n",
      "y_train shape :  (21551, 7)\n",
      "y_test shape :  (2395, 7)\n"
     ]
    }
   ],
   "source": [
    "X_train, X_test, y_train, y_test = train_test_split(X, y, test_size=0.1, random_state=42)\n",
    "print('X_train shape : ', X_train.shape)\n",
    "print('X_test shape : ', X_test.shape)\n",
    "print('y_train shape : ', y_train.shape)\n",
    "print('y_test shape : ', y_test.shape)"
   ]
  },
  {
   "cell_type": "markdown",
   "id": "bcbbdaac-bd7a-412f-b586-3e1130365c61",
   "metadata": {},
   "source": [
    "### StandardScaler"
   ]
  },
  {
   "cell_type": "code",
   "execution_count": 92,
   "id": "6cd6ca9c-3da0-4cc0-95d7-f5e3786be9f1",
   "metadata": {},
   "outputs": [],
   "source": [
    "scaler = StandardScaler()\n",
    "X_train_scaled = scaler.fit_transform(X_train)\n",
    "X_test_scaled = scaler.transform(X_test)"
   ]
  },
  {
   "cell_type": "code",
   "execution_count": 93,
   "id": "f4d2d3c3-943d-4c11-a147-4632314a9527",
   "metadata": {},
   "outputs": [
    {
     "name": "stdout",
     "output_type": "stream",
     "text": [
      "X_train_scaled shape :  (21551, 261)\n",
      "X_test_scaled shape :  (2395, 261)\n",
      "y_train shape :  (21551, 7)\n",
      "y_test shape :  (2395, 7)\n"
     ]
    }
   ],
   "source": [
    "print('X_train_scaled shape : ', X_train_scaled.shape)\n",
    "print('X_test_scaled shape : ', X_test_scaled.shape)\n",
    "print('y_train shape : ', y_train.shape)\n",
    "print('y_test shape : ', y_test.shape)"
   ]
  },
  {
   "cell_type": "code",
   "execution_count": 94,
   "id": "17c9a06d-c834-4d26-b364-a6c10c991e70",
   "metadata": {},
   "outputs": [],
   "source": [
    "X_train_scaled2= X_train_scaled.copy()\n",
    "X_test_scaled2= X_test_scaled.copy()"
   ]
  },
  {
   "cell_type": "code",
   "execution_count": 95,
   "id": "52a638f6-b7ec-42de-8844-653a5f84e9a3",
   "metadata": {},
   "outputs": [
    {
     "data": {
      "text/plain": [
       "{'CENTRE', 'ECO', 'ENS', 'EXTREMD', 'LR_UDI', 'NUP', 'OTR'}"
      ]
     },
     "execution_count": 95,
     "metadata": {},
     "output_type": "execute_result"
    }
   ],
   "source": [
    "set(y)"
   ]
  },
  {
   "cell_type": "code",
   "execution_count": 96,
   "id": "77035314-f9b6-4e42-9ee2-e834e40ad434",
   "metadata": {},
   "outputs": [
    {
     "data": {
      "text/html": [
       "<div>\n",
       "<style scoped>\n",
       "    .dataframe tbody tr th:only-of-type {\n",
       "        vertical-align: middle;\n",
       "    }\n",
       "\n",
       "    .dataframe tbody tr th {\n",
       "        vertical-align: top;\n",
       "    }\n",
       "\n",
       "    .dataframe thead th {\n",
       "        text-align: right;\n",
       "    }\n",
       "</style>\n",
       "<table border=\"1\" class=\"dataframe\">\n",
       "  <thead>\n",
       "    <tr style=\"text-align: right;\">\n",
       "      <th></th>\n",
       "      <th>NUP</th>\n",
       "      <th>ECO</th>\n",
       "      <th>ENS</th>\n",
       "      <th>LR_UDI</th>\n",
       "      <th>EXTREMD</th>\n",
       "      <th>CENTRE</th>\n",
       "      <th>OTR</th>\n",
       "    </tr>\n",
       "    <tr>\n",
       "      <th>key</th>\n",
       "      <th></th>\n",
       "      <th></th>\n",
       "      <th></th>\n",
       "      <th></th>\n",
       "      <th></th>\n",
       "      <th></th>\n",
       "      <th></th>\n",
       "    </tr>\n",
       "  </thead>\n",
       "  <tbody>\n",
       "    <tr>\n",
       "      <th>01001</th>\n",
       "      <td>0.153392</td>\n",
       "      <td>0.023599</td>\n",
       "      <td>0.147493</td>\n",
       "      <td>0.271386</td>\n",
       "      <td>0.318584</td>\n",
       "      <td>0.073746</td>\n",
       "      <td>0.011799</td>\n",
       "    </tr>\n",
       "    <tr>\n",
       "      <th>01002</th>\n",
       "      <td>0.343750</td>\n",
       "      <td>0.000000</td>\n",
       "      <td>0.000000</td>\n",
       "      <td>0.109375</td>\n",
       "      <td>0.078125</td>\n",
       "      <td>0.437500</td>\n",
       "      <td>0.031250</td>\n",
       "    </tr>\n",
       "    <tr>\n",
       "      <th>01004</th>\n",
       "      <td>0.298106</td>\n",
       "      <td>0.000000</td>\n",
       "      <td>0.000000</td>\n",
       "      <td>0.087488</td>\n",
       "      <td>0.262961</td>\n",
       "      <td>0.321037</td>\n",
       "      <td>0.030409</td>\n",
       "    </tr>\n",
       "    <tr>\n",
       "      <th>01005</th>\n",
       "      <td>0.160772</td>\n",
       "      <td>0.024116</td>\n",
       "      <td>0.178457</td>\n",
       "      <td>0.204180</td>\n",
       "      <td>0.376206</td>\n",
       "      <td>0.048232</td>\n",
       "      <td>0.008039</td>\n",
       "    </tr>\n",
       "    <tr>\n",
       "      <th>01007</th>\n",
       "      <td>0.251241</td>\n",
       "      <td>0.000000</td>\n",
       "      <td>0.000000</td>\n",
       "      <td>0.049652</td>\n",
       "      <td>0.290963</td>\n",
       "      <td>0.397219</td>\n",
       "      <td>0.010924</td>\n",
       "    </tr>\n",
       "    <tr>\n",
       "      <th>...</th>\n",
       "      <td>...</td>\n",
       "      <td>...</td>\n",
       "      <td>...</td>\n",
       "      <td>...</td>\n",
       "      <td>...</td>\n",
       "      <td>...</td>\n",
       "      <td>...</td>\n",
       "    </tr>\n",
       "    <tr>\n",
       "      <th>95675</th>\n",
       "      <td>0.235772</td>\n",
       "      <td>0.010840</td>\n",
       "      <td>0.157182</td>\n",
       "      <td>0.165312</td>\n",
       "      <td>0.371274</td>\n",
       "      <td>0.040650</td>\n",
       "      <td>0.018970</td>\n",
       "    </tr>\n",
       "    <tr>\n",
       "      <th>95676</th>\n",
       "      <td>0.140351</td>\n",
       "      <td>0.087719</td>\n",
       "      <td>0.232456</td>\n",
       "      <td>0.166667</td>\n",
       "      <td>0.328947</td>\n",
       "      <td>0.026316</td>\n",
       "      <td>0.017544</td>\n",
       "    </tr>\n",
       "    <tr>\n",
       "      <th>95678</th>\n",
       "      <td>0.184874</td>\n",
       "      <td>0.047619</td>\n",
       "      <td>0.282913</td>\n",
       "      <td>0.131653</td>\n",
       "      <td>0.296919</td>\n",
       "      <td>0.025210</td>\n",
       "      <td>0.030812</td>\n",
       "    </tr>\n",
       "    <tr>\n",
       "      <th>95680</th>\n",
       "      <td>0.460476</td>\n",
       "      <td>0.010000</td>\n",
       "      <td>0.235714</td>\n",
       "      <td>0.031667</td>\n",
       "      <td>0.132619</td>\n",
       "      <td>0.105476</td>\n",
       "      <td>0.024048</td>\n",
       "    </tr>\n",
       "    <tr>\n",
       "      <th>95690</th>\n",
       "      <td>0.161677</td>\n",
       "      <td>0.083832</td>\n",
       "      <td>0.305389</td>\n",
       "      <td>0.209581</td>\n",
       "      <td>0.221557</td>\n",
       "      <td>0.017964</td>\n",
       "      <td>0.000000</td>\n",
       "    </tr>\n",
       "  </tbody>\n",
       "</table>\n",
       "<p>23946 rows × 7 columns</p>\n",
       "</div>"
      ],
      "text/plain": [
       "            NUP       ECO       ENS    LR_UDI   EXTREMD    CENTRE       OTR\n",
       "key                                                                        \n",
       "01001  0.153392  0.023599  0.147493  0.271386  0.318584  0.073746  0.011799\n",
       "01002  0.343750  0.000000  0.000000  0.109375  0.078125  0.437500  0.031250\n",
       "01004  0.298106  0.000000  0.000000  0.087488  0.262961  0.321037  0.030409\n",
       "01005  0.160772  0.024116  0.178457  0.204180  0.376206  0.048232  0.008039\n",
       "01007  0.251241  0.000000  0.000000  0.049652  0.290963  0.397219  0.010924\n",
       "...         ...       ...       ...       ...       ...       ...       ...\n",
       "95675  0.235772  0.010840  0.157182  0.165312  0.371274  0.040650  0.018970\n",
       "95676  0.140351  0.087719  0.232456  0.166667  0.328947  0.026316  0.017544\n",
       "95678  0.184874  0.047619  0.282913  0.131653  0.296919  0.025210  0.030812\n",
       "95680  0.460476  0.010000  0.235714  0.031667  0.132619  0.105476  0.024048\n",
       "95690  0.161677  0.083832  0.305389  0.209581  0.221557  0.017964  0.000000\n",
       "\n",
       "[23946 rows x 7 columns]"
      ]
     },
     "execution_count": 96,
     "metadata": {},
     "output_type": "execute_result"
    }
   ],
   "source": [
    "y"
   ]
  },
  {
   "cell_type": "markdown",
   "id": "b8718790-7ddf-4f96-97b8-ae0d53c2b8a2",
   "metadata": {},
   "source": [
    "# KO !!!\n",
    "## xgboost grid search"
   ]
  },
  {
   "cell_type": "code",
   "execution_count": 82,
   "id": "f582398a-f911-4231-87d2-369cd6e6850d",
   "metadata": {},
   "outputs": [
    {
     "name": "stdout",
     "output_type": "stream",
     "text": [
      "Fitting 4 folds for each of 3 candidates, totalling 12 fits\n",
      "[CV] END estimator__learning_rate=0.1, estimator__max_depth=2, estimator__n_estimators=1500; total time=  41.0s\n",
      "[CV] END estimator__learning_rate=0.1, estimator__max_depth=2, estimator__n_estimators=1500; total time=  39.7s\n",
      "[CV] END estimator__learning_rate=0.1, estimator__max_depth=2, estimator__n_estimators=1500; total time=  40.6s\n",
      "[CV] END estimator__learning_rate=0.1, estimator__max_depth=2, estimator__n_estimators=1500; total time=  40.6s\n",
      "[CV] END estimator__learning_rate=0.1, estimator__max_depth=2, estimator__n_estimators=2500; total time= 1.2min\n",
      "[CV] END estimator__learning_rate=0.1, estimator__max_depth=2, estimator__n_estimators=2500; total time= 1.2min\n",
      "[CV] END estimator__learning_rate=0.1, estimator__max_depth=2, estimator__n_estimators=2500; total time= 1.2min\n",
      "[CV] END estimator__learning_rate=0.1, estimator__max_depth=2, estimator__n_estimators=2500; total time= 1.3min\n",
      "[CV] END estimator__learning_rate=0.1, estimator__max_depth=2, estimator__n_estimators=3500; total time= 1.8min\n",
      "[CV] END estimator__learning_rate=0.1, estimator__max_depth=2, estimator__n_estimators=3500; total time= 1.8min\n",
      "[CV] END estimator__learning_rate=0.1, estimator__max_depth=2, estimator__n_estimators=3500; total time= 1.6min\n",
      "[CV] END estimator__learning_rate=0.1, estimator__max_depth=2, estimator__n_estimators=3500; total time= 1.6min\n",
      "Best Parameters: {'estimator__learning_rate': 0.1, 'estimator__max_depth': 2, 'estimator__n_estimators': 3500}\n"
     ]
    }
   ],
   "source": [
    "from sklearn.multioutput import MultiOutputRegressor\n",
    "from sklearn.model_selection import GridSearchCV\n",
    "from xgboost import XGBRegressor\n",
    "from sklearn.datasets import make_regression\n",
    "\n",
    "# Example data (replace with your actual data)\n",
    "X_train_scaled, y_train = make_regression(n_samples=1000, n_features=5, n_targets=7, random_state=42)\n",
    "\n",
    "# Create the MultiOutputRegressor with the XGBoostRegressor\n",
    "xgb_regressor = xgb.XGBRegressor(objective='reg:squarederror')\n",
    "multioutputregressor = MultiOutputRegressor(xgb_regressor)\n",
    "\n",
    "# Define the parameter grid for grid search\n",
    "param_grid = {\n",
    "    'estimator__n_estimators': [1500,2500,3500],\n",
    "    'estimator__learning_rate': [0.1],\n",
    "    'estimator__max_depth': [2]\n",
    "}\n",
    "\n",
    "# Create the GridSearchCV object\n",
    "grid_search = GridSearchCV(multioutputregressor, param_grid, cv=4, verbose=2)\n",
    "\n",
    "# Fit the model to the data\n",
    "grid_search.fit(X_train_scaled, y_train)\n",
    "\n",
    "# Print the best parameters and the corresponding estimator\n",
    "print(\"Best Parameters:\", grid_search.best_params_)\n",
    "best_estimator = grid_search.best_estimator_\n"
   ]
  },
  {
   "cell_type": "code",
   "execution_count": 84,
   "id": "b9789308-1d98-4e19-a61b-66bc27d78d5f",
   "metadata": {},
   "outputs": [
    {
     "name": "stdout",
     "output_type": "stream",
     "text": [
      "[14:21:46] WARNING: ../src/learner.cc:627: \n",
      "Parameters: { \"estimator__learning_rate\", \"estimator__max_depth\", \"estimator__n_estimators\" } might not be used.\n",
      "\n",
      "  This could be a false alarm, with some parameters getting used by language bindings but\n",
      "  then being mistakenly passed down to XGBoost core, or some parameter actually being used\n",
      "  but getting flagged wrongly here. Please open an issue if you find any such cases.\n",
      "\n",
      "\n",
      "[14:21:47] WARNING: ../src/learner.cc:627: \n",
      "Parameters: { \"estimator__learning_rate\", \"estimator__max_depth\", \"estimator__n_estimators\" } might not be used.\n",
      "\n",
      "  This could be a false alarm, with some parameters getting used by language bindings but\n",
      "  then being mistakenly passed down to XGBoost core, or some parameter actually being used\n",
      "  but getting flagged wrongly here. Please open an issue if you find any such cases.\n",
      "\n",
      "\n",
      "[14:21:47] WARNING: ../src/learner.cc:627: \n",
      "Parameters: { \"estimator__learning_rate\", \"estimator__max_depth\", \"estimator__n_estimators\" } might not be used.\n",
      "\n",
      "  This could be a false alarm, with some parameters getting used by language bindings but\n",
      "  then being mistakenly passed down to XGBoost core, or some parameter actually being used\n",
      "  but getting flagged wrongly here. Please open an issue if you find any such cases.\n",
      "\n",
      "\n",
      "[14:21:48] WARNING: ../src/learner.cc:627: \n",
      "Parameters: { \"estimator__learning_rate\", \"estimator__max_depth\", \"estimator__n_estimators\" } might not be used.\n",
      "\n",
      "  This could be a false alarm, with some parameters getting used by language bindings but\n",
      "  then being mistakenly passed down to XGBoost core, or some parameter actually being used\n",
      "  but getting flagged wrongly here. Please open an issue if you find any such cases.\n",
      "\n",
      "\n",
      "[14:21:49] WARNING: ../src/learner.cc:627: \n",
      "Parameters: { \"estimator__learning_rate\", \"estimator__max_depth\", \"estimator__n_estimators\" } might not be used.\n",
      "\n",
      "  This could be a false alarm, with some parameters getting used by language bindings but\n",
      "  then being mistakenly passed down to XGBoost core, or some parameter actually being used\n",
      "  but getting flagged wrongly here. Please open an issue if you find any such cases.\n",
      "\n",
      "\n",
      "[14:21:49] WARNING: ../src/learner.cc:627: \n",
      "Parameters: { \"estimator__learning_rate\", \"estimator__max_depth\", \"estimator__n_estimators\" } might not be used.\n",
      "\n",
      "  This could be a false alarm, with some parameters getting used by language bindings but\n",
      "  then being mistakenly passed down to XGBoost core, or some parameter actually being used\n",
      "  but getting flagged wrongly here. Please open an issue if you find any such cases.\n",
      "\n",
      "\n",
      "[14:21:50] WARNING: ../src/learner.cc:627: \n",
      "Parameters: { \"estimator__learning_rate\", \"estimator__max_depth\", \"estimator__n_estimators\" } might not be used.\n",
      "\n",
      "  This could be a false alarm, with some parameters getting used by language bindings but\n",
      "  then being mistakenly passed down to XGBoost core, or some parameter actually being used\n",
      "  but getting flagged wrongly here. Please open an issue if you find any such cases.\n",
      "\n",
      "\n"
     ]
    },
    {
     "ename": "ValueError",
     "evalue": "Feature shape mismatch, expected: 5, got 261",
     "output_type": "error",
     "traceback": [
      "\u001b[0;31m---------------------------------------------------------------------------\u001b[0m",
      "\u001b[0;31mValueError\u001b[0m                                Traceback (most recent call last)",
      "Cell \u001b[0;32mIn [84], line 11\u001b[0m\n\u001b[1;32m      8\u001b[0m best_estimator\u001b[38;5;241m.\u001b[39mfit(X_train_scaled, y_train)\n\u001b[1;32m     10\u001b[0m \u001b[38;5;66;03m# Make predictions on the test data\u001b[39;00m\n\u001b[0;32m---> 11\u001b[0m y_pred \u001b[38;5;241m=\u001b[39m \u001b[43mbest_estimator\u001b[49m\u001b[38;5;241;43m.\u001b[39;49m\u001b[43mpredict\u001b[49m\u001b[43m(\u001b[49m\u001b[43mX_test_scaled\u001b[49m\u001b[43m)\u001b[49m\n\u001b[1;32m     13\u001b[0m \u001b[38;5;66;03m# Evaluate the performance of the model\u001b[39;00m\n\u001b[1;32m     14\u001b[0m mse \u001b[38;5;241m=\u001b[39m mean_squared_error(y_test, y_pred)\n",
      "File \u001b[0;32m~/.pyenv/versions/3.10.12/envs/artefact/lib/python3.10/site-packages/sklearn/multioutput.py:305\u001b[0m, in \u001b[0;36m_MultiOutputEstimator.predict\u001b[0;34m(self, X)\u001b[0m\n\u001b[1;32m    302\u001b[0m \u001b[38;5;28;01mif\u001b[39;00m \u001b[38;5;129;01mnot\u001b[39;00m \u001b[38;5;28mhasattr\u001b[39m(\u001b[38;5;28mself\u001b[39m\u001b[38;5;241m.\u001b[39mestimators_[\u001b[38;5;241m0\u001b[39m], \u001b[38;5;124m\"\u001b[39m\u001b[38;5;124mpredict\u001b[39m\u001b[38;5;124m\"\u001b[39m):\n\u001b[1;32m    303\u001b[0m     \u001b[38;5;28;01mraise\u001b[39;00m \u001b[38;5;167;01mValueError\u001b[39;00m(\u001b[38;5;124m\"\u001b[39m\u001b[38;5;124mThe base estimator should implement a predict method\u001b[39m\u001b[38;5;124m\"\u001b[39m)\n\u001b[0;32m--> 305\u001b[0m y \u001b[38;5;241m=\u001b[39m \u001b[43mParallel\u001b[49m\u001b[43m(\u001b[49m\u001b[43mn_jobs\u001b[49m\u001b[38;5;241;43m=\u001b[39;49m\u001b[38;5;28;43mself\u001b[39;49m\u001b[38;5;241;43m.\u001b[39;49m\u001b[43mn_jobs\u001b[49m\u001b[43m)\u001b[49m\u001b[43m(\u001b[49m\n\u001b[1;32m    306\u001b[0m \u001b[43m    \u001b[49m\u001b[43mdelayed\u001b[49m\u001b[43m(\u001b[49m\u001b[43me\u001b[49m\u001b[38;5;241;43m.\u001b[39;49m\u001b[43mpredict\u001b[49m\u001b[43m)\u001b[49m\u001b[43m(\u001b[49m\u001b[43mX\u001b[49m\u001b[43m)\u001b[49m\u001b[43m \u001b[49m\u001b[38;5;28;43;01mfor\u001b[39;49;00m\u001b[43m \u001b[49m\u001b[43me\u001b[49m\u001b[43m \u001b[49m\u001b[38;5;129;43;01min\u001b[39;49;00m\u001b[43m \u001b[49m\u001b[38;5;28;43mself\u001b[39;49m\u001b[38;5;241;43m.\u001b[39;49m\u001b[43mestimators_\u001b[49m\n\u001b[1;32m    307\u001b[0m \u001b[43m\u001b[49m\u001b[43m)\u001b[49m\n\u001b[1;32m    309\u001b[0m \u001b[38;5;28;01mreturn\u001b[39;00m np\u001b[38;5;241m.\u001b[39masarray(y)\u001b[38;5;241m.\u001b[39mT\n",
      "File \u001b[0;32m~/.pyenv/versions/3.10.12/envs/artefact/lib/python3.10/site-packages/sklearn/utils/parallel.py:65\u001b[0m, in \u001b[0;36mParallel.__call__\u001b[0;34m(self, iterable)\u001b[0m\n\u001b[1;32m     60\u001b[0m config \u001b[38;5;241m=\u001b[39m get_config()\n\u001b[1;32m     61\u001b[0m iterable_with_config \u001b[38;5;241m=\u001b[39m (\n\u001b[1;32m     62\u001b[0m     (_with_config(delayed_func, config), args, kwargs)\n\u001b[1;32m     63\u001b[0m     \u001b[38;5;28;01mfor\u001b[39;00m delayed_func, args, kwargs \u001b[38;5;129;01min\u001b[39;00m iterable\n\u001b[1;32m     64\u001b[0m )\n\u001b[0;32m---> 65\u001b[0m \u001b[38;5;28;01mreturn\u001b[39;00m \u001b[38;5;28;43msuper\u001b[39;49m\u001b[43m(\u001b[49m\u001b[43m)\u001b[49m\u001b[38;5;241;43m.\u001b[39;49m\u001b[38;5;21;43m__call__\u001b[39;49m\u001b[43m(\u001b[49m\u001b[43miterable_with_config\u001b[49m\u001b[43m)\u001b[49m\n",
      "File \u001b[0;32m~/.pyenv/versions/3.10.12/envs/artefact/lib/python3.10/site-packages/joblib/parallel.py:1863\u001b[0m, in \u001b[0;36mParallel.__call__\u001b[0;34m(self, iterable)\u001b[0m\n\u001b[1;32m   1861\u001b[0m     output \u001b[38;5;241m=\u001b[39m \u001b[38;5;28mself\u001b[39m\u001b[38;5;241m.\u001b[39m_get_sequential_output(iterable)\n\u001b[1;32m   1862\u001b[0m     \u001b[38;5;28mnext\u001b[39m(output)\n\u001b[0;32m-> 1863\u001b[0m     \u001b[38;5;28;01mreturn\u001b[39;00m output \u001b[38;5;28;01mif\u001b[39;00m \u001b[38;5;28mself\u001b[39m\u001b[38;5;241m.\u001b[39mreturn_generator \u001b[38;5;28;01melse\u001b[39;00m \u001b[38;5;28;43mlist\u001b[39;49m\u001b[43m(\u001b[49m\u001b[43moutput\u001b[49m\u001b[43m)\u001b[49m\n\u001b[1;32m   1865\u001b[0m \u001b[38;5;66;03m# Let's create an ID that uniquely identifies the current call. If the\u001b[39;00m\n\u001b[1;32m   1866\u001b[0m \u001b[38;5;66;03m# call is interrupted early and that the same instance is immediately\u001b[39;00m\n\u001b[1;32m   1867\u001b[0m \u001b[38;5;66;03m# re-used, this id will be used to prevent workers that were\u001b[39;00m\n\u001b[1;32m   1868\u001b[0m \u001b[38;5;66;03m# concurrently finalizing a task from the previous call to run the\u001b[39;00m\n\u001b[1;32m   1869\u001b[0m \u001b[38;5;66;03m# callback.\u001b[39;00m\n\u001b[1;32m   1870\u001b[0m \u001b[38;5;28;01mwith\u001b[39;00m \u001b[38;5;28mself\u001b[39m\u001b[38;5;241m.\u001b[39m_lock:\n",
      "File \u001b[0;32m~/.pyenv/versions/3.10.12/envs/artefact/lib/python3.10/site-packages/joblib/parallel.py:1792\u001b[0m, in \u001b[0;36mParallel._get_sequential_output\u001b[0;34m(self, iterable)\u001b[0m\n\u001b[1;32m   1790\u001b[0m \u001b[38;5;28mself\u001b[39m\u001b[38;5;241m.\u001b[39mn_dispatched_batches \u001b[38;5;241m+\u001b[39m\u001b[38;5;241m=\u001b[39m \u001b[38;5;241m1\u001b[39m\n\u001b[1;32m   1791\u001b[0m \u001b[38;5;28mself\u001b[39m\u001b[38;5;241m.\u001b[39mn_dispatched_tasks \u001b[38;5;241m+\u001b[39m\u001b[38;5;241m=\u001b[39m \u001b[38;5;241m1\u001b[39m\n\u001b[0;32m-> 1792\u001b[0m res \u001b[38;5;241m=\u001b[39m \u001b[43mfunc\u001b[49m\u001b[43m(\u001b[49m\u001b[38;5;241;43m*\u001b[39;49m\u001b[43margs\u001b[49m\u001b[43m,\u001b[49m\u001b[43m \u001b[49m\u001b[38;5;241;43m*\u001b[39;49m\u001b[38;5;241;43m*\u001b[39;49m\u001b[43mkwargs\u001b[49m\u001b[43m)\u001b[49m\n\u001b[1;32m   1793\u001b[0m \u001b[38;5;28mself\u001b[39m\u001b[38;5;241m.\u001b[39mn_completed_tasks \u001b[38;5;241m+\u001b[39m\u001b[38;5;241m=\u001b[39m \u001b[38;5;241m1\u001b[39m\n\u001b[1;32m   1794\u001b[0m \u001b[38;5;28mself\u001b[39m\u001b[38;5;241m.\u001b[39mprint_progress()\n",
      "File \u001b[0;32m~/.pyenv/versions/3.10.12/envs/artefact/lib/python3.10/site-packages/sklearn/utils/parallel.py:127\u001b[0m, in \u001b[0;36m_FuncWrapper.__call__\u001b[0;34m(self, *args, **kwargs)\u001b[0m\n\u001b[1;32m    125\u001b[0m     config \u001b[38;5;241m=\u001b[39m {}\n\u001b[1;32m    126\u001b[0m \u001b[38;5;28;01mwith\u001b[39;00m config_context(\u001b[38;5;241m*\u001b[39m\u001b[38;5;241m*\u001b[39mconfig):\n\u001b[0;32m--> 127\u001b[0m     \u001b[38;5;28;01mreturn\u001b[39;00m \u001b[38;5;28;43mself\u001b[39;49m\u001b[38;5;241;43m.\u001b[39;49m\u001b[43mfunction\u001b[49m\u001b[43m(\u001b[49m\u001b[38;5;241;43m*\u001b[39;49m\u001b[43margs\u001b[49m\u001b[43m,\u001b[49m\u001b[43m \u001b[49m\u001b[38;5;241;43m*\u001b[39;49m\u001b[38;5;241;43m*\u001b[39;49m\u001b[43mkwargs\u001b[49m\u001b[43m)\u001b[49m\n",
      "File \u001b[0;32m~/.pyenv/versions/3.10.12/envs/artefact/lib/python3.10/site-packages/xgboost/sklearn.py:1049\u001b[0m, in \u001b[0;36mXGBModel.predict\u001b[0;34m(self, X, output_margin, ntree_limit, validate_features, base_margin, iteration_range)\u001b[0m\n\u001b[1;32m   1047\u001b[0m \u001b[38;5;28;01mif\u001b[39;00m \u001b[38;5;28mself\u001b[39m\u001b[38;5;241m.\u001b[39m_can_use_inplace_predict():\n\u001b[1;32m   1048\u001b[0m     \u001b[38;5;28;01mtry\u001b[39;00m:\n\u001b[0;32m-> 1049\u001b[0m         predts \u001b[38;5;241m=\u001b[39m \u001b[38;5;28;43mself\u001b[39;49m\u001b[38;5;241;43m.\u001b[39;49m\u001b[43mget_booster\u001b[49m\u001b[43m(\u001b[49m\u001b[43m)\u001b[49m\u001b[38;5;241;43m.\u001b[39;49m\u001b[43minplace_predict\u001b[49m\u001b[43m(\u001b[49m\n\u001b[1;32m   1050\u001b[0m \u001b[43m            \u001b[49m\u001b[43mdata\u001b[49m\u001b[38;5;241;43m=\u001b[39;49m\u001b[43mX\u001b[49m\u001b[43m,\u001b[49m\n\u001b[1;32m   1051\u001b[0m \u001b[43m            \u001b[49m\u001b[43miteration_range\u001b[49m\u001b[38;5;241;43m=\u001b[39;49m\u001b[43miteration_range\u001b[49m\u001b[43m,\u001b[49m\n\u001b[1;32m   1052\u001b[0m \u001b[43m            \u001b[49m\u001b[43mpredict_type\u001b[49m\u001b[38;5;241;43m=\u001b[39;49m\u001b[38;5;124;43m\"\u001b[39;49m\u001b[38;5;124;43mmargin\u001b[39;49m\u001b[38;5;124;43m\"\u001b[39;49m\u001b[43m \u001b[49m\u001b[38;5;28;43;01mif\u001b[39;49;00m\u001b[43m \u001b[49m\u001b[43moutput_margin\u001b[49m\u001b[43m \u001b[49m\u001b[38;5;28;43;01melse\u001b[39;49;00m\u001b[43m \u001b[49m\u001b[38;5;124;43m\"\u001b[39;49m\u001b[38;5;124;43mvalue\u001b[39;49m\u001b[38;5;124;43m\"\u001b[39;49m\u001b[43m,\u001b[49m\n\u001b[1;32m   1053\u001b[0m \u001b[43m            \u001b[49m\u001b[43mmissing\u001b[49m\u001b[38;5;241;43m=\u001b[39;49m\u001b[38;5;28;43mself\u001b[39;49m\u001b[38;5;241;43m.\u001b[39;49m\u001b[43mmissing\u001b[49m\u001b[43m,\u001b[49m\n\u001b[1;32m   1054\u001b[0m \u001b[43m            \u001b[49m\u001b[43mbase_margin\u001b[49m\u001b[38;5;241;43m=\u001b[39;49m\u001b[43mbase_margin\u001b[49m\u001b[43m,\u001b[49m\n\u001b[1;32m   1055\u001b[0m \u001b[43m            \u001b[49m\u001b[43mvalidate_features\u001b[49m\u001b[38;5;241;43m=\u001b[39;49m\u001b[43mvalidate_features\u001b[49m\u001b[43m,\u001b[49m\n\u001b[1;32m   1056\u001b[0m \u001b[43m        \u001b[49m\u001b[43m)\u001b[49m\n\u001b[1;32m   1057\u001b[0m         \u001b[38;5;28;01mif\u001b[39;00m _is_cupy_array(predts):\n\u001b[1;32m   1058\u001b[0m             \u001b[38;5;28;01mimport\u001b[39;00m \u001b[38;5;21;01mcupy\u001b[39;00m     \u001b[38;5;66;03m# pylint: disable=import-error\u001b[39;00m\n",
      "File \u001b[0;32m~/.pyenv/versions/3.10.12/envs/artefact/lib/python3.10/site-packages/xgboost/core.py:2128\u001b[0m, in \u001b[0;36mBooster.inplace_predict\u001b[0;34m(self, data, iteration_range, predict_type, missing, validate_features, base_margin, strict_shape)\u001b[0m\n\u001b[1;32m   2124\u001b[0m         \u001b[38;5;28;01mraise\u001b[39;00m \u001b[38;5;167;01mTypeError\u001b[39;00m(\n\u001b[1;32m   2125\u001b[0m             \u001b[38;5;124m\"\u001b[39m\u001b[38;5;124m`shape` attribute is required when `validate_features` is True.\u001b[39m\u001b[38;5;124m\"\u001b[39m\n\u001b[1;32m   2126\u001b[0m         )\n\u001b[1;32m   2127\u001b[0m     \u001b[38;5;28;01mif\u001b[39;00m \u001b[38;5;28mlen\u001b[39m(data\u001b[38;5;241m.\u001b[39mshape) \u001b[38;5;241m!=\u001b[39m \u001b[38;5;241m1\u001b[39m \u001b[38;5;129;01mand\u001b[39;00m \u001b[38;5;28mself\u001b[39m\u001b[38;5;241m.\u001b[39mnum_features() \u001b[38;5;241m!=\u001b[39m data\u001b[38;5;241m.\u001b[39mshape[\u001b[38;5;241m1\u001b[39m]:\n\u001b[0;32m-> 2128\u001b[0m         \u001b[38;5;28;01mraise\u001b[39;00m \u001b[38;5;167;01mValueError\u001b[39;00m(\n\u001b[1;32m   2129\u001b[0m             \u001b[38;5;124mf\u001b[39m\u001b[38;5;124m\"\u001b[39m\u001b[38;5;124mFeature shape mismatch, expected: \u001b[39m\u001b[38;5;132;01m{\u001b[39;00m\u001b[38;5;28mself\u001b[39m\u001b[38;5;241m.\u001b[39mnum_features()\u001b[38;5;132;01m}\u001b[39;00m\u001b[38;5;124m, \u001b[39m\u001b[38;5;124m\"\u001b[39m\n\u001b[1;32m   2130\u001b[0m             \u001b[38;5;124mf\u001b[39m\u001b[38;5;124m\"\u001b[39m\u001b[38;5;124mgot \u001b[39m\u001b[38;5;132;01m{\u001b[39;00mdata\u001b[38;5;241m.\u001b[39mshape[\u001b[38;5;241m1\u001b[39m]\u001b[38;5;132;01m}\u001b[39;00m\u001b[38;5;124m\"\u001b[39m\n\u001b[1;32m   2131\u001b[0m         )\n\u001b[1;32m   2133\u001b[0m \u001b[38;5;28;01mfrom\u001b[39;00m \u001b[38;5;21;01m.\u001b[39;00m\u001b[38;5;21;01mdata\u001b[39;00m \u001b[38;5;28;01mimport\u001b[39;00m (\n\u001b[1;32m   2134\u001b[0m     _is_pandas_df,\n\u001b[1;32m   2135\u001b[0m     _transform_pandas_df,\n\u001b[0;32m   (...)\u001b[0m\n\u001b[1;32m   2138\u001b[0m     _array_interface,\n\u001b[1;32m   2139\u001b[0m )\n\u001b[1;32m   2140\u001b[0m enable_categorical \u001b[38;5;241m=\u001b[39m _has_categorical(\u001b[38;5;28mself\u001b[39m, data)\n",
      "\u001b[0;31mValueError\u001b[0m: Feature shape mismatch, expected: 5, got 261"
     ]
    }
   ],
   "source": [
    "# Assuming you have already performed the grid search and obtained the best parameters\n",
    "best_params = {'estimator__n_estimators': 3500, 'estimator__learning_rate': 0.1, 'estimator__max_depth': 2}\n",
    "\n",
    "# Create the MultiOutputRegressor with the best parameters\n",
    "best_estimator = MultiOutputRegressor(XGBRegressor(objective='reg:squarederror', **best_params))\n",
    "\n",
    "# Train the model on the training data\n",
    "best_estimator.fit(X_train_scaled, y_train)\n",
    "\n",
    "# Make predictions on the test data\n",
    "y_pred = best_estimator.predict(X_test_scaled)\n",
    "\n",
    "# Evaluate the performance of the model\n",
    "mse = mean_squared_error(y_test, y_pred)\n",
    "print(f'Mean Squared Error on Test Data: {mse}')"
   ]
  },
  {
   "cell_type": "code",
   "execution_count": 104,
   "id": "6e805507-f581-4faf-9d52-dd3743f2a831",
   "metadata": {},
   "outputs": [
    {
     "data": {
      "text/html": [
       "<style>#sk-container-id-1 {color: black;}#sk-container-id-1 pre{padding: 0;}#sk-container-id-1 div.sk-toggleable {background-color: white;}#sk-container-id-1 label.sk-toggleable__label {cursor: pointer;display: block;width: 100%;margin-bottom: 0;padding: 0.3em;box-sizing: border-box;text-align: center;}#sk-container-id-1 label.sk-toggleable__label-arrow:before {content: \"▸\";float: left;margin-right: 0.25em;color: #696969;}#sk-container-id-1 label.sk-toggleable__label-arrow:hover:before {color: black;}#sk-container-id-1 div.sk-estimator:hover label.sk-toggleable__label-arrow:before {color: black;}#sk-container-id-1 div.sk-toggleable__content {max-height: 0;max-width: 0;overflow: hidden;text-align: left;background-color: #f0f8ff;}#sk-container-id-1 div.sk-toggleable__content pre {margin: 0.2em;color: black;border-radius: 0.25em;background-color: #f0f8ff;}#sk-container-id-1 input.sk-toggleable__control:checked~div.sk-toggleable__content {max-height: 200px;max-width: 100%;overflow: auto;}#sk-container-id-1 input.sk-toggleable__control:checked~label.sk-toggleable__label-arrow:before {content: \"▾\";}#sk-container-id-1 div.sk-estimator input.sk-toggleable__control:checked~label.sk-toggleable__label {background-color: #d4ebff;}#sk-container-id-1 div.sk-label input.sk-toggleable__control:checked~label.sk-toggleable__label {background-color: #d4ebff;}#sk-container-id-1 input.sk-hidden--visually {border: 0;clip: rect(1px 1px 1px 1px);clip: rect(1px, 1px, 1px, 1px);height: 1px;margin: -1px;overflow: hidden;padding: 0;position: absolute;width: 1px;}#sk-container-id-1 div.sk-estimator {font-family: monospace;background-color: #f0f8ff;border: 1px dotted black;border-radius: 0.25em;box-sizing: border-box;margin-bottom: 0.5em;}#sk-container-id-1 div.sk-estimator:hover {background-color: #d4ebff;}#sk-container-id-1 div.sk-parallel-item::after {content: \"\";width: 100%;border-bottom: 1px solid gray;flex-grow: 1;}#sk-container-id-1 div.sk-label:hover label.sk-toggleable__label {background-color: #d4ebff;}#sk-container-id-1 div.sk-serial::before {content: \"\";position: absolute;border-left: 1px solid gray;box-sizing: border-box;top: 0;bottom: 0;left: 50%;z-index: 0;}#sk-container-id-1 div.sk-serial {display: flex;flex-direction: column;align-items: center;background-color: white;padding-right: 0.2em;padding-left: 0.2em;position: relative;}#sk-container-id-1 div.sk-item {position: relative;z-index: 1;}#sk-container-id-1 div.sk-parallel {display: flex;align-items: stretch;justify-content: center;background-color: white;position: relative;}#sk-container-id-1 div.sk-item::before, #sk-container-id-1 div.sk-parallel-item::before {content: \"\";position: absolute;border-left: 1px solid gray;box-sizing: border-box;top: 0;bottom: 0;left: 50%;z-index: -1;}#sk-container-id-1 div.sk-parallel-item {display: flex;flex-direction: column;z-index: 1;position: relative;background-color: white;}#sk-container-id-1 div.sk-parallel-item:first-child::after {align-self: flex-end;width: 50%;}#sk-container-id-1 div.sk-parallel-item:last-child::after {align-self: flex-start;width: 50%;}#sk-container-id-1 div.sk-parallel-item:only-child::after {width: 0;}#sk-container-id-1 div.sk-dashed-wrapped {border: 1px dashed gray;margin: 0 0.4em 0.5em 0.4em;box-sizing: border-box;padding-bottom: 0.4em;background-color: white;}#sk-container-id-1 div.sk-label label {font-family: monospace;font-weight: bold;display: inline-block;line-height: 1.2em;}#sk-container-id-1 div.sk-label-container {text-align: center;}#sk-container-id-1 div.sk-container {/* jupyter's `normalize.less` sets `[hidden] { display: none; }` but bootstrap.min.css set `[hidden] { display: none !important; }` so we also need the `!important` here to be able to override the default hidden behavior on the sphinx rendered scikit-learn.org. See: https://github.com/scikit-learn/scikit-learn/issues/21755 */display: inline-block !important;position: relative;}#sk-container-id-1 div.sk-text-repr-fallback {display: none;}</style><div id=\"sk-container-id-1\" class=\"sk-top-container\"><div class=\"sk-text-repr-fallback\"><pre>MultiOutputRegressor(estimator=XGBRegressor(base_score=None, booster=None,\n",
       "                                            callbacks=None,\n",
       "                                            colsample_bylevel=None,\n",
       "                                            colsample_bynode=None,\n",
       "                                            colsample_bytree=None,\n",
       "                                            early_stopping_rounds=None,\n",
       "                                            enable_categorical=False,\n",
       "                                            estimator__learning_rate=0.1,\n",
       "                                            estimator__max_depth=2,\n",
       "                                            estimator__n_estimators=3500,\n",
       "                                            eval_metric=None, gamma=None,\n",
       "                                            gpu_id=None, grow_policy=None,\n",
       "                                            importance_type=None,\n",
       "                                            interaction_constraints=None,\n",
       "                                            learning_rate=None, max_bin=None,\n",
       "                                            max_cat_to_onehot=None,\n",
       "                                            max_delta_step=None, max_depth=None,\n",
       "                                            max_leaves=None,\n",
       "                                            min_child_weight=None, missing=nan,\n",
       "                                            monotone_constraints=None,\n",
       "                                            n_estimators=100, n_jobs=None,\n",
       "                                            num_parallel_tree=None,\n",
       "                                            predictor=None, ...))</pre><b>In a Jupyter environment, please rerun this cell to show the HTML representation or trust the notebook. <br />On GitHub, the HTML representation is unable to render, please try loading this page with nbviewer.org.</b></div><div class=\"sk-container\" hidden><div class=\"sk-item sk-dashed-wrapped\"><div class=\"sk-label-container\"><div class=\"sk-label sk-toggleable\"><input class=\"sk-toggleable__control sk-hidden--visually\" id=\"sk-estimator-id-1\" type=\"checkbox\" ><label for=\"sk-estimator-id-1\" class=\"sk-toggleable__label sk-toggleable__label-arrow\">MultiOutputRegressor</label><div class=\"sk-toggleable__content\"><pre>MultiOutputRegressor(estimator=XGBRegressor(base_score=None, booster=None,\n",
       "                                            callbacks=None,\n",
       "                                            colsample_bylevel=None,\n",
       "                                            colsample_bynode=None,\n",
       "                                            colsample_bytree=None,\n",
       "                                            early_stopping_rounds=None,\n",
       "                                            enable_categorical=False,\n",
       "                                            estimator__learning_rate=0.1,\n",
       "                                            estimator__max_depth=2,\n",
       "                                            estimator__n_estimators=3500,\n",
       "                                            eval_metric=None, gamma=None,\n",
       "                                            gpu_id=None, grow_policy=None,\n",
       "                                            importance_type=None,\n",
       "                                            interaction_constraints=None,\n",
       "                                            learning_rate=None, max_bin=None,\n",
       "                                            max_cat_to_onehot=None,\n",
       "                                            max_delta_step=None, max_depth=None,\n",
       "                                            max_leaves=None,\n",
       "                                            min_child_weight=None, missing=nan,\n",
       "                                            monotone_constraints=None,\n",
       "                                            n_estimators=100, n_jobs=None,\n",
       "                                            num_parallel_tree=None,\n",
       "                                            predictor=None, ...))</pre></div></div></div><div class=\"sk-parallel\"><div class=\"sk-parallel-item\"><div class=\"sk-item\"><div class=\"sk-label-container\"><div class=\"sk-label sk-toggleable\"><input class=\"sk-toggleable__control sk-hidden--visually\" id=\"sk-estimator-id-2\" type=\"checkbox\" ><label for=\"sk-estimator-id-2\" class=\"sk-toggleable__label sk-toggleable__label-arrow\">estimator: XGBRegressor</label><div class=\"sk-toggleable__content\"><pre>XGBRegressor(base_score=None, booster=None, callbacks=None,\n",
       "             colsample_bylevel=None, colsample_bynode=None,\n",
       "             colsample_bytree=None, early_stopping_rounds=None,\n",
       "             enable_categorical=False, estimator__learning_rate=0.1,\n",
       "             estimator__max_depth=2, estimator__n_estimators=3500,\n",
       "             eval_metric=None, gamma=None, gpu_id=None, grow_policy=None,\n",
       "             importance_type=None, interaction_constraints=None,\n",
       "             learning_rate=None, max_bin=None, max_cat_to_onehot=None,\n",
       "             max_delta_step=None, max_depth=None, max_leaves=None,\n",
       "             min_child_weight=None, missing=nan, monotone_constraints=None,\n",
       "             n_estimators=100, n_jobs=None, num_parallel_tree=None,\n",
       "             predictor=None, ...)</pre></div></div></div><div class=\"sk-serial\"><div class=\"sk-item\"><div class=\"sk-estimator sk-toggleable\"><input class=\"sk-toggleable__control sk-hidden--visually\" id=\"sk-estimator-id-3\" type=\"checkbox\" ><label for=\"sk-estimator-id-3\" class=\"sk-toggleable__label sk-toggleable__label-arrow\">XGBRegressor</label><div class=\"sk-toggleable__content\"><pre>XGBRegressor(base_score=None, booster=None, callbacks=None,\n",
       "             colsample_bylevel=None, colsample_bynode=None,\n",
       "             colsample_bytree=None, early_stopping_rounds=None,\n",
       "             enable_categorical=False, estimator__learning_rate=0.1,\n",
       "             estimator__max_depth=2, estimator__n_estimators=3500,\n",
       "             eval_metric=None, gamma=None, gpu_id=None, grow_policy=None,\n",
       "             importance_type=None, interaction_constraints=None,\n",
       "             learning_rate=None, max_bin=None, max_cat_to_onehot=None,\n",
       "             max_delta_step=None, max_depth=None, max_leaves=None,\n",
       "             min_child_weight=None, missing=nan, monotone_constraints=None,\n",
       "             n_estimators=100, n_jobs=None, num_parallel_tree=None,\n",
       "             predictor=None, ...)</pre></div></div></div></div></div></div></div></div></div></div>"
      ],
      "text/plain": [
       "MultiOutputRegressor(estimator=XGBRegressor(base_score=None, booster=None,\n",
       "                                            callbacks=None,\n",
       "                                            colsample_bylevel=None,\n",
       "                                            colsample_bynode=None,\n",
       "                                            colsample_bytree=None,\n",
       "                                            early_stopping_rounds=None,\n",
       "                                            enable_categorical=False,\n",
       "                                            estimator__learning_rate=0.1,\n",
       "                                            estimator__max_depth=2,\n",
       "                                            estimator__n_estimators=3500,\n",
       "                                            eval_metric=None, gamma=None,\n",
       "                                            gpu_id=None, grow_policy=None,\n",
       "                                            importance_type=None,\n",
       "                                            interaction_constraints=None,\n",
       "                                            learning_rate=None, max_bin=None,\n",
       "                                            max_cat_to_onehot=None,\n",
       "                                            max_delta_step=None, max_depth=None,\n",
       "                                            max_leaves=None,\n",
       "                                            min_child_weight=None, missing=nan,\n",
       "                                            monotone_constraints=None,\n",
       "                                            n_estimators=100, n_jobs=None,\n",
       "                                            num_parallel_tree=None,\n",
       "                                            predictor=None, ...))"
      ]
     },
     "execution_count": 104,
     "metadata": {},
     "output_type": "execute_result"
    }
   ],
   "source": [
    "best_estimator "
   ]
  },
  {
   "cell_type": "code",
   "execution_count": 103,
   "id": "0e5cc3ec-1481-427f-bc01-348e3b9fb628",
   "metadata": {},
   "outputs": [
    {
     "name": "stdout",
     "output_type": "stream",
     "text": [
      "X: 1050\n",
      "dep                                 04\n",
      "nomdep         ALPES-DE-HAUTE-PROVENCE\n",
      "codecommune                      04161\n",
      "nomcommune               MÉOLANS-REVEL\n",
      "Name: 04161, dtype: object\n"
     ]
    },
    {
     "ename": "XGBoostError",
     "evalue": "[14:29:22] ../src/learner.cc:1343: Check failed: learner_model_param_.num_feature >= p_fmat->Info().num_col_ (5 vs. 261) : Number of columns does not match number of features in booster.\nStack trace:\n  [bt] (0) /home/nicolas/.pyenv/versions/3.10.12/envs/artefact/lib/python3.10/site-packages/xgboost/lib/libxgboost.so(+0x20d889) [0x7fb33d60d889]\n  [bt] (1) /home/nicolas/.pyenv/versions/3.10.12/envs/artefact/lib/python3.10/site-packages/xgboost/lib/libxgboost.so(+0x219b6d) [0x7fb33d619b6d]\n  [bt] (2) /home/nicolas/.pyenv/versions/3.10.12/envs/artefact/lib/python3.10/site-packages/xgboost/lib/libxgboost.so(+0x219bfd) [0x7fb33d619bfd]\n  [bt] (3) /home/nicolas/.pyenv/versions/3.10.12/envs/artefact/lib/python3.10/site-packages/xgboost/lib/libxgboost.so(+0x219eed) [0x7fb33d619eed]\n  [bt] (4) /home/nicolas/.pyenv/versions/3.10.12/envs/artefact/lib/python3.10/site-packages/xgboost/lib/libxgboost.so(XGBoosterPredictFromDMatrix+0x3fd) [0x7fb33d4c2dad]\n  [bt] (5) /lib/x86_64-linux-gnu/libffi.so.8(+0x7e2e) [0x7fb3b8a53e2e]\n  [bt] (6) /lib/x86_64-linux-gnu/libffi.so.8(+0x4493) [0x7fb3b8a50493]\n  [bt] (7) /home/nicolas/.pyenv/versions/3.10.12/lib/python3.10/lib-dynload/_ctypes.cpython-310-x86_64-linux-gnu.so(+0x12ea5) [0x7fb3b8a71ea5]\n  [bt] (8) /home/nicolas/.pyenv/versions/3.10.12/lib/python3.10/lib-dynload/_ctypes.cpython-310-x86_64-linux-gnu.so(+0xc940) [0x7fb3b8a6b940]\n\n",
     "output_type": "error",
     "traceback": [
      "\u001b[0;31m---------------------------------------------------------------------------\u001b[0m",
      "\u001b[0;31mXGBoostError\u001b[0m                              Traceback (most recent call last)",
      "Cell \u001b[0;32mIn [103], line 4\u001b[0m\n\u001b[1;32m      2\u001b[0m \u001b[38;5;28mprint\u001b[39m (\u001b[38;5;124m'\u001b[39m\u001b[38;5;124mX:\u001b[39m\u001b[38;5;124m'\u001b[39m,x)\n\u001b[1;32m      3\u001b[0m \u001b[38;5;28mprint\u001b[39m (df_infoC\u001b[38;5;241m.\u001b[39miloc[x])\n\u001b[0;32m----> 4\u001b[0m pred \u001b[38;5;241m=\u001b[39m \u001b[43mbest_estimator\u001b[49m\u001b[38;5;241;43m.\u001b[39;49m\u001b[43mpredict\u001b[49m\u001b[43m(\u001b[49m\u001b[43m[\u001b[49m\u001b[43mX_test_scaled\u001b[49m\u001b[43m[\u001b[49m\u001b[43mx\u001b[49m\u001b[43m]\u001b[49m\u001b[43m]\u001b[49m\u001b[43m)\u001b[49m \n\u001b[1;32m      5\u001b[0m \u001b[38;5;28;01mfor\u001b[39;00m i \u001b[38;5;129;01min\u001b[39;00m \u001b[38;5;28mrange\u001b[39m (\u001b[38;5;28mlen\u001b[39m(pred[\u001b[38;5;241m0\u001b[39m])) :\n\u001b[1;32m      6\u001b[0m     \u001b[38;5;28mprint\u001b[39m (y_column_names_list[i] , \u001b[38;5;124m'\u001b[39m\u001b[38;5;124m:\u001b[39m\u001b[38;5;124m'\u001b[39m, pred[\u001b[38;5;241m0\u001b[39m][i], \u001b[38;5;124m'\u001b[39m\u001b[38;5;124m>\u001b[39m\u001b[38;5;124m'\u001b[39m, y_test\u001b[38;5;241m.\u001b[39miloc[x,i] ,\u001b[38;5;124m'\u001b[39m\u001b[38;5;124m >>> \u001b[39m\u001b[38;5;124m'\u001b[39m, pred[\u001b[38;5;241m0\u001b[39m][i] \u001b[38;5;241m-\u001b[39m y_test\u001b[38;5;241m.\u001b[39miloc[x,i],\u001b[38;5;124m'\u001b[39m\u001b[38;5;124m >>> \u001b[39m\u001b[38;5;124m'\u001b[39m, (pred[\u001b[38;5;241m0\u001b[39m][i] \u001b[38;5;241m-\u001b[39m y_test\u001b[38;5;241m.\u001b[39miloc[x,i])\u001b[38;5;241m/\u001b[39mpred[\u001b[38;5;241m0\u001b[39m][i])\n",
      "File \u001b[0;32m~/.pyenv/versions/3.10.12/envs/artefact/lib/python3.10/site-packages/sklearn/multioutput.py:305\u001b[0m, in \u001b[0;36m_MultiOutputEstimator.predict\u001b[0;34m(self, X)\u001b[0m\n\u001b[1;32m    302\u001b[0m \u001b[38;5;28;01mif\u001b[39;00m \u001b[38;5;129;01mnot\u001b[39;00m \u001b[38;5;28mhasattr\u001b[39m(\u001b[38;5;28mself\u001b[39m\u001b[38;5;241m.\u001b[39mestimators_[\u001b[38;5;241m0\u001b[39m], \u001b[38;5;124m\"\u001b[39m\u001b[38;5;124mpredict\u001b[39m\u001b[38;5;124m\"\u001b[39m):\n\u001b[1;32m    303\u001b[0m     \u001b[38;5;28;01mraise\u001b[39;00m \u001b[38;5;167;01mValueError\u001b[39;00m(\u001b[38;5;124m\"\u001b[39m\u001b[38;5;124mThe base estimator should implement a predict method\u001b[39m\u001b[38;5;124m\"\u001b[39m)\n\u001b[0;32m--> 305\u001b[0m y \u001b[38;5;241m=\u001b[39m \u001b[43mParallel\u001b[49m\u001b[43m(\u001b[49m\u001b[43mn_jobs\u001b[49m\u001b[38;5;241;43m=\u001b[39;49m\u001b[38;5;28;43mself\u001b[39;49m\u001b[38;5;241;43m.\u001b[39;49m\u001b[43mn_jobs\u001b[49m\u001b[43m)\u001b[49m\u001b[43m(\u001b[49m\n\u001b[1;32m    306\u001b[0m \u001b[43m    \u001b[49m\u001b[43mdelayed\u001b[49m\u001b[43m(\u001b[49m\u001b[43me\u001b[49m\u001b[38;5;241;43m.\u001b[39;49m\u001b[43mpredict\u001b[49m\u001b[43m)\u001b[49m\u001b[43m(\u001b[49m\u001b[43mX\u001b[49m\u001b[43m)\u001b[49m\u001b[43m \u001b[49m\u001b[38;5;28;43;01mfor\u001b[39;49;00m\u001b[43m \u001b[49m\u001b[43me\u001b[49m\u001b[43m \u001b[49m\u001b[38;5;129;43;01min\u001b[39;49;00m\u001b[43m \u001b[49m\u001b[38;5;28;43mself\u001b[39;49m\u001b[38;5;241;43m.\u001b[39;49m\u001b[43mestimators_\u001b[49m\n\u001b[1;32m    307\u001b[0m \u001b[43m\u001b[49m\u001b[43m)\u001b[49m\n\u001b[1;32m    309\u001b[0m \u001b[38;5;28;01mreturn\u001b[39;00m np\u001b[38;5;241m.\u001b[39masarray(y)\u001b[38;5;241m.\u001b[39mT\n",
      "File \u001b[0;32m~/.pyenv/versions/3.10.12/envs/artefact/lib/python3.10/site-packages/sklearn/utils/parallel.py:65\u001b[0m, in \u001b[0;36mParallel.__call__\u001b[0;34m(self, iterable)\u001b[0m\n\u001b[1;32m     60\u001b[0m config \u001b[38;5;241m=\u001b[39m get_config()\n\u001b[1;32m     61\u001b[0m iterable_with_config \u001b[38;5;241m=\u001b[39m (\n\u001b[1;32m     62\u001b[0m     (_with_config(delayed_func, config), args, kwargs)\n\u001b[1;32m     63\u001b[0m     \u001b[38;5;28;01mfor\u001b[39;00m delayed_func, args, kwargs \u001b[38;5;129;01min\u001b[39;00m iterable\n\u001b[1;32m     64\u001b[0m )\n\u001b[0;32m---> 65\u001b[0m \u001b[38;5;28;01mreturn\u001b[39;00m \u001b[38;5;28;43msuper\u001b[39;49m\u001b[43m(\u001b[49m\u001b[43m)\u001b[49m\u001b[38;5;241;43m.\u001b[39;49m\u001b[38;5;21;43m__call__\u001b[39;49m\u001b[43m(\u001b[49m\u001b[43miterable_with_config\u001b[49m\u001b[43m)\u001b[49m\n",
      "File \u001b[0;32m~/.pyenv/versions/3.10.12/envs/artefact/lib/python3.10/site-packages/joblib/parallel.py:1863\u001b[0m, in \u001b[0;36mParallel.__call__\u001b[0;34m(self, iterable)\u001b[0m\n\u001b[1;32m   1861\u001b[0m     output \u001b[38;5;241m=\u001b[39m \u001b[38;5;28mself\u001b[39m\u001b[38;5;241m.\u001b[39m_get_sequential_output(iterable)\n\u001b[1;32m   1862\u001b[0m     \u001b[38;5;28mnext\u001b[39m(output)\n\u001b[0;32m-> 1863\u001b[0m     \u001b[38;5;28;01mreturn\u001b[39;00m output \u001b[38;5;28;01mif\u001b[39;00m \u001b[38;5;28mself\u001b[39m\u001b[38;5;241m.\u001b[39mreturn_generator \u001b[38;5;28;01melse\u001b[39;00m \u001b[38;5;28;43mlist\u001b[39;49m\u001b[43m(\u001b[49m\u001b[43moutput\u001b[49m\u001b[43m)\u001b[49m\n\u001b[1;32m   1865\u001b[0m \u001b[38;5;66;03m# Let's create an ID that uniquely identifies the current call. If the\u001b[39;00m\n\u001b[1;32m   1866\u001b[0m \u001b[38;5;66;03m# call is interrupted early and that the same instance is immediately\u001b[39;00m\n\u001b[1;32m   1867\u001b[0m \u001b[38;5;66;03m# re-used, this id will be used to prevent workers that were\u001b[39;00m\n\u001b[1;32m   1868\u001b[0m \u001b[38;5;66;03m# concurrently finalizing a task from the previous call to run the\u001b[39;00m\n\u001b[1;32m   1869\u001b[0m \u001b[38;5;66;03m# callback.\u001b[39;00m\n\u001b[1;32m   1870\u001b[0m \u001b[38;5;28;01mwith\u001b[39;00m \u001b[38;5;28mself\u001b[39m\u001b[38;5;241m.\u001b[39m_lock:\n",
      "File \u001b[0;32m~/.pyenv/versions/3.10.12/envs/artefact/lib/python3.10/site-packages/joblib/parallel.py:1792\u001b[0m, in \u001b[0;36mParallel._get_sequential_output\u001b[0;34m(self, iterable)\u001b[0m\n\u001b[1;32m   1790\u001b[0m \u001b[38;5;28mself\u001b[39m\u001b[38;5;241m.\u001b[39mn_dispatched_batches \u001b[38;5;241m+\u001b[39m\u001b[38;5;241m=\u001b[39m \u001b[38;5;241m1\u001b[39m\n\u001b[1;32m   1791\u001b[0m \u001b[38;5;28mself\u001b[39m\u001b[38;5;241m.\u001b[39mn_dispatched_tasks \u001b[38;5;241m+\u001b[39m\u001b[38;5;241m=\u001b[39m \u001b[38;5;241m1\u001b[39m\n\u001b[0;32m-> 1792\u001b[0m res \u001b[38;5;241m=\u001b[39m \u001b[43mfunc\u001b[49m\u001b[43m(\u001b[49m\u001b[38;5;241;43m*\u001b[39;49m\u001b[43margs\u001b[49m\u001b[43m,\u001b[49m\u001b[43m \u001b[49m\u001b[38;5;241;43m*\u001b[39;49m\u001b[38;5;241;43m*\u001b[39;49m\u001b[43mkwargs\u001b[49m\u001b[43m)\u001b[49m\n\u001b[1;32m   1793\u001b[0m \u001b[38;5;28mself\u001b[39m\u001b[38;5;241m.\u001b[39mn_completed_tasks \u001b[38;5;241m+\u001b[39m\u001b[38;5;241m=\u001b[39m \u001b[38;5;241m1\u001b[39m\n\u001b[1;32m   1794\u001b[0m \u001b[38;5;28mself\u001b[39m\u001b[38;5;241m.\u001b[39mprint_progress()\n",
      "File \u001b[0;32m~/.pyenv/versions/3.10.12/envs/artefact/lib/python3.10/site-packages/sklearn/utils/parallel.py:127\u001b[0m, in \u001b[0;36m_FuncWrapper.__call__\u001b[0;34m(self, *args, **kwargs)\u001b[0m\n\u001b[1;32m    125\u001b[0m     config \u001b[38;5;241m=\u001b[39m {}\n\u001b[1;32m    126\u001b[0m \u001b[38;5;28;01mwith\u001b[39;00m config_context(\u001b[38;5;241m*\u001b[39m\u001b[38;5;241m*\u001b[39mconfig):\n\u001b[0;32m--> 127\u001b[0m     \u001b[38;5;28;01mreturn\u001b[39;00m \u001b[38;5;28;43mself\u001b[39;49m\u001b[38;5;241;43m.\u001b[39;49m\u001b[43mfunction\u001b[49m\u001b[43m(\u001b[49m\u001b[38;5;241;43m*\u001b[39;49m\u001b[43margs\u001b[49m\u001b[43m,\u001b[49m\u001b[43m \u001b[49m\u001b[38;5;241;43m*\u001b[39;49m\u001b[38;5;241;43m*\u001b[39;49m\u001b[43mkwargs\u001b[49m\u001b[43m)\u001b[49m\n",
      "File \u001b[0;32m~/.pyenv/versions/3.10.12/envs/artefact/lib/python3.10/site-packages/xgboost/sklearn.py:1071\u001b[0m, in \u001b[0;36mXGBModel.predict\u001b[0;34m(self, X, output_margin, ntree_limit, validate_features, base_margin, iteration_range)\u001b[0m\n\u001b[1;32m   1063\u001b[0m         \u001b[38;5;28;01mpass\u001b[39;00m\n\u001b[1;32m   1065\u001b[0m test \u001b[38;5;241m=\u001b[39m DMatrix(\n\u001b[1;32m   1066\u001b[0m     X, base_margin\u001b[38;5;241m=\u001b[39mbase_margin,\n\u001b[1;32m   1067\u001b[0m     missing\u001b[38;5;241m=\u001b[39m\u001b[38;5;28mself\u001b[39m\u001b[38;5;241m.\u001b[39mmissing,\n\u001b[1;32m   1068\u001b[0m     nthread\u001b[38;5;241m=\u001b[39m\u001b[38;5;28mself\u001b[39m\u001b[38;5;241m.\u001b[39mn_jobs,\n\u001b[1;32m   1069\u001b[0m     enable_categorical\u001b[38;5;241m=\u001b[39m\u001b[38;5;28mself\u001b[39m\u001b[38;5;241m.\u001b[39menable_categorical\n\u001b[1;32m   1070\u001b[0m )\n\u001b[0;32m-> 1071\u001b[0m \u001b[38;5;28;01mreturn\u001b[39;00m \u001b[38;5;28;43mself\u001b[39;49m\u001b[38;5;241;43m.\u001b[39;49m\u001b[43mget_booster\u001b[49m\u001b[43m(\u001b[49m\u001b[43m)\u001b[49m\u001b[38;5;241;43m.\u001b[39;49m\u001b[43mpredict\u001b[49m\u001b[43m(\u001b[49m\n\u001b[1;32m   1072\u001b[0m \u001b[43m    \u001b[49m\u001b[43mdata\u001b[49m\u001b[38;5;241;43m=\u001b[39;49m\u001b[43mtest\u001b[49m\u001b[43m,\u001b[49m\n\u001b[1;32m   1073\u001b[0m \u001b[43m    \u001b[49m\u001b[43miteration_range\u001b[49m\u001b[38;5;241;43m=\u001b[39;49m\u001b[43miteration_range\u001b[49m\u001b[43m,\u001b[49m\n\u001b[1;32m   1074\u001b[0m \u001b[43m    \u001b[49m\u001b[43moutput_margin\u001b[49m\u001b[38;5;241;43m=\u001b[39;49m\u001b[43moutput_margin\u001b[49m\u001b[43m,\u001b[49m\n\u001b[1;32m   1075\u001b[0m \u001b[43m    \u001b[49m\u001b[43mvalidate_features\u001b[49m\u001b[38;5;241;43m=\u001b[39;49m\u001b[43mvalidate_features\u001b[49m\u001b[43m,\u001b[49m\n\u001b[1;32m   1076\u001b[0m \u001b[43m\u001b[49m\u001b[43m)\u001b[49m\n",
      "File \u001b[0;32m~/.pyenv/versions/3.10.12/envs/artefact/lib/python3.10/site-packages/xgboost/core.py:2023\u001b[0m, in \u001b[0;36mBooster.predict\u001b[0;34m(self, data, output_margin, ntree_limit, pred_leaf, pred_contribs, approx_contribs, pred_interactions, validate_features, training, iteration_range, strict_shape)\u001b[0m\n\u001b[1;32m   2021\u001b[0m shape \u001b[38;5;241m=\u001b[39m ctypes\u001b[38;5;241m.\u001b[39mPOINTER(c_bst_ulong)()\n\u001b[1;32m   2022\u001b[0m dims \u001b[38;5;241m=\u001b[39m c_bst_ulong()\n\u001b[0;32m-> 2023\u001b[0m \u001b[43m_check_call\u001b[49m\u001b[43m(\u001b[49m\n\u001b[1;32m   2024\u001b[0m \u001b[43m    \u001b[49m\u001b[43m_LIB\u001b[49m\u001b[38;5;241;43m.\u001b[39;49m\u001b[43mXGBoosterPredictFromDMatrix\u001b[49m\u001b[43m(\u001b[49m\n\u001b[1;32m   2025\u001b[0m \u001b[43m        \u001b[49m\u001b[38;5;28;43mself\u001b[39;49m\u001b[38;5;241;43m.\u001b[39;49m\u001b[43mhandle\u001b[49m\u001b[43m,\u001b[49m\n\u001b[1;32m   2026\u001b[0m \u001b[43m        \u001b[49m\u001b[43mdata\u001b[49m\u001b[38;5;241;43m.\u001b[39;49m\u001b[43mhandle\u001b[49m\u001b[43m,\u001b[49m\n\u001b[1;32m   2027\u001b[0m \u001b[43m        \u001b[49m\u001b[43mfrom_pystr_to_cstr\u001b[49m\u001b[43m(\u001b[49m\u001b[43mjson\u001b[49m\u001b[38;5;241;43m.\u001b[39;49m\u001b[43mdumps\u001b[49m\u001b[43m(\u001b[49m\u001b[43margs\u001b[49m\u001b[43m)\u001b[49m\u001b[43m)\u001b[49m\u001b[43m,\u001b[49m\n\u001b[1;32m   2028\u001b[0m \u001b[43m        \u001b[49m\u001b[43mctypes\u001b[49m\u001b[38;5;241;43m.\u001b[39;49m\u001b[43mbyref\u001b[49m\u001b[43m(\u001b[49m\u001b[43mshape\u001b[49m\u001b[43m)\u001b[49m\u001b[43m,\u001b[49m\n\u001b[1;32m   2029\u001b[0m \u001b[43m        \u001b[49m\u001b[43mctypes\u001b[49m\u001b[38;5;241;43m.\u001b[39;49m\u001b[43mbyref\u001b[49m\u001b[43m(\u001b[49m\u001b[43mdims\u001b[49m\u001b[43m)\u001b[49m\u001b[43m,\u001b[49m\n\u001b[1;32m   2030\u001b[0m \u001b[43m        \u001b[49m\u001b[43mctypes\u001b[49m\u001b[38;5;241;43m.\u001b[39;49m\u001b[43mbyref\u001b[49m\u001b[43m(\u001b[49m\u001b[43mpreds\u001b[49m\u001b[43m)\u001b[49m\n\u001b[1;32m   2031\u001b[0m \u001b[43m    \u001b[49m\u001b[43m)\u001b[49m\n\u001b[1;32m   2032\u001b[0m \u001b[43m\u001b[49m\u001b[43m)\u001b[49m\n\u001b[1;32m   2033\u001b[0m \u001b[38;5;28;01mreturn\u001b[39;00m _prediction_output(shape, dims, preds, \u001b[38;5;28;01mFalse\u001b[39;00m)\n",
      "File \u001b[0;32m~/.pyenv/versions/3.10.12/envs/artefact/lib/python3.10/site-packages/xgboost/core.py:246\u001b[0m, in \u001b[0;36m_check_call\u001b[0;34m(ret)\u001b[0m\n\u001b[1;32m    235\u001b[0m \u001b[38;5;124;03m\"\"\"Check the return value of C API call\u001b[39;00m\n\u001b[1;32m    236\u001b[0m \n\u001b[1;32m    237\u001b[0m \u001b[38;5;124;03mThis function will raise exception when error occurs.\u001b[39;00m\n\u001b[0;32m   (...)\u001b[0m\n\u001b[1;32m    243\u001b[0m \u001b[38;5;124;03m    return value from API calls\u001b[39;00m\n\u001b[1;32m    244\u001b[0m \u001b[38;5;124;03m\"\"\"\u001b[39;00m\n\u001b[1;32m    245\u001b[0m \u001b[38;5;28;01mif\u001b[39;00m ret \u001b[38;5;241m!=\u001b[39m \u001b[38;5;241m0\u001b[39m:\n\u001b[0;32m--> 246\u001b[0m     \u001b[38;5;28;01mraise\u001b[39;00m XGBoostError(py_str(_LIB\u001b[38;5;241m.\u001b[39mXGBGetLastError()))\n",
      "\u001b[0;31mXGBoostError\u001b[0m: [14:29:22] ../src/learner.cc:1343: Check failed: learner_model_param_.num_feature >= p_fmat->Info().num_col_ (5 vs. 261) : Number of columns does not match number of features in booster.\nStack trace:\n  [bt] (0) /home/nicolas/.pyenv/versions/3.10.12/envs/artefact/lib/python3.10/site-packages/xgboost/lib/libxgboost.so(+0x20d889) [0x7fb33d60d889]\n  [bt] (1) /home/nicolas/.pyenv/versions/3.10.12/envs/artefact/lib/python3.10/site-packages/xgboost/lib/libxgboost.so(+0x219b6d) [0x7fb33d619b6d]\n  [bt] (2) /home/nicolas/.pyenv/versions/3.10.12/envs/artefact/lib/python3.10/site-packages/xgboost/lib/libxgboost.so(+0x219bfd) [0x7fb33d619bfd]\n  [bt] (3) /home/nicolas/.pyenv/versions/3.10.12/envs/artefact/lib/python3.10/site-packages/xgboost/lib/libxgboost.so(+0x219eed) [0x7fb33d619eed]\n  [bt] (4) /home/nicolas/.pyenv/versions/3.10.12/envs/artefact/lib/python3.10/site-packages/xgboost/lib/libxgboost.so(XGBoosterPredictFromDMatrix+0x3fd) [0x7fb33d4c2dad]\n  [bt] (5) /lib/x86_64-linux-gnu/libffi.so.8(+0x7e2e) [0x7fb3b8a53e2e]\n  [bt] (6) /lib/x86_64-linux-gnu/libffi.so.8(+0x4493) [0x7fb3b8a50493]\n  [bt] (7) /home/nicolas/.pyenv/versions/3.10.12/lib/python3.10/lib-dynload/_ctypes.cpython-310-x86_64-linux-gnu.so(+0x12ea5) [0x7fb3b8a71ea5]\n  [bt] (8) /home/nicolas/.pyenv/versions/3.10.12/lib/python3.10/lib-dynload/_ctypes.cpython-310-x86_64-linux-gnu.so(+0xc940) [0x7fb3b8a6b940]\n\n"
     ]
    }
   ],
   "source": [
    "x = np.random.randint(len(y_test))\n",
    "print ('X:',x)\n",
    "print (df_infoC.iloc[x])\n",
    "pred = best_estimator.predict([X_test_scaled[x]]) \n",
    "for i in range (len(pred[0])) :\n",
    "    print (y_column_names_list[i] , ':', pred[0][i], '>', y_test.iloc[x,i] ,' >>> ', pred[0][i] - y_test.iloc[x,i],' >>> ', (pred[0][i] - y_test.iloc[x,i])/pred[0][i])\n",
    "    \n",
    "values1 = pred[0]    \n",
    "values2 = y_test.iloc[x]\n",
    "\n",
    "# Create a figure with two subplots\n",
    "fig, axs = plt.subplots(1, 2, figsize=(12, 6))\n",
    "\n",
    "# Plot the first pie chart\n",
    "axs[0].pie(values1, labels=y_column_names_list , autopct='%1.1f%%', startangle=90)\n",
    "axs[0].set_title('MODEL')\n",
    "\n",
    "# Plot the second pie chart\n",
    "axs[1].pie(values2, labels=y_column_names_list, autopct='%1.1f%%', startangle=90)\n",
    "axs[1].set_title('REALITE')\n",
    "\n",
    "# Adjust layout\n",
    "plt.tight_layout()\n",
    "\n",
    "# Show the plot\n",
    "plt.show()    "
   ]
  },
  {
   "cell_type": "code",
   "execution_count": null,
   "id": "125754c3-932b-4f99-bae5-d26ff3ba4b54",
   "metadata": {},
   "outputs": [],
   "source": []
  },
  {
   "cell_type": "markdown",
   "id": "fadb2e5e-c34d-4cbb-8b26-3d50f8801c57",
   "metadata": {},
   "source": [
    "## xgboost as xgb verion 1"
   ]
  },
  {
   "cell_type": "code",
   "execution_count": 97,
   "id": "cf37cf52-9d9f-451d-b03d-63f1d6836b01",
   "metadata": {},
   "outputs": [],
   "source": [
    "# import xgboost as xgb\n",
    "from sklearn.multioutput import MultiOutputRegressor\n",
    "multioutputregressor = MultiOutputRegressor(xgb.XGBRegressor(objective='reg:squarederror')).fit(X_train_scaled, y_train)"
   ]
  },
  {
   "cell_type": "code",
   "execution_count": 98,
   "id": "3b398423-b51a-4eb6-b2d0-e3739edad4ea",
   "metadata": {},
   "outputs": [
    {
     "name": "stdout",
     "output_type": "stream",
     "text": [
      "NUP        0.004016\n",
      "ECO        0.000343\n",
      "ENS        0.004960\n",
      "LR_UDI     0.006520\n",
      "EXTREMD    0.003769\n",
      "CENTRE     0.004554\n",
      "OTR        0.000832\n",
      "dtype: float64\n"
     ]
    }
   ],
   "source": [
    "# predicting\n",
    "print(np.mean((multioutputregressor.predict(X_test_scaled ) - y_test)**2, axis=0))"
   ]
  },
  {
   "cell_type": "code",
   "execution_count": 99,
   "id": "c1749035-5053-4282-b40a-084b92dcf4ce",
   "metadata": {},
   "outputs": [
    {
     "data": {
      "text/plain": [
       "(1, 7)"
      ]
     },
     "execution_count": 99,
     "metadata": {},
     "output_type": "execute_result"
    }
   ],
   "source": [
    "pred0 = multioutputregressor.predict([X_test_scaled[0]]) \n",
    "pred0.shape"
   ]
  },
  {
   "cell_type": "code",
   "execution_count": 100,
   "id": "e8dbe49e-aed8-4aa7-8f44-58e1504c0b13",
   "metadata": {},
   "outputs": [
    {
     "data": {
      "text/plain": [
       "NUP        0.269939\n",
       "ECO        0.012270\n",
       "ENS        0.429448\n",
       "LR_UDI     0.000000\n",
       "EXTREMD    0.245399\n",
       "CENTRE     0.036810\n",
       "OTR        0.006135\n",
       "Name: 38404, dtype: float64"
      ]
     },
     "execution_count": 100,
     "metadata": {},
     "output_type": "execute_result"
    }
   ],
   "source": [
    "y_test.iloc[0]"
   ]
  },
  {
   "cell_type": "code",
   "execution_count": 102,
   "id": "e7815bb0-b316-4b57-b830-5921724d0f44",
   "metadata": {},
   "outputs": [
    {
     "name": "stdout",
     "output_type": "stream",
     "text": [
      "X: 954\n",
      "dep                         03\n",
      "nomdep                  ALLIER\n",
      "codecommune              03297\n",
      "nomcommune     VALLON-EN-SULLY\n",
      "Name: 03297, dtype: object\n",
      "NUP : 0.27018586 > 0.26911315  >>>  0.0010727080112457044  >>>  0.003970259654378565\n",
      "ECO : 0.026327452 > 0.042813454  >>>  -0.016486002308968545  >>>  -0.6261905824552159\n",
      "ENS : 0.20498061 > 0.21284404  >>>  -0.007863428198852551  >>>  -0.03836181446507192\n",
      "LR_UDI : 0.09132126 > 0.037614677  >>>  0.05370658273701477  >>>  0.5881060214420822\n",
      "EXTREMD : 0.36625552 > 0.408868489  >>>  -0.04261296722570801  >>>  -0.11634764445126537\n",
      "CENTRE : 0.10790805 > 0.011926605  >>>  0.09598144273569106  >>>  0.889474369611311\n",
      "OTR : 0.02239911 > 0.016819572  >>>  0.0055795387195615755  >>>  0.24909643911393572\n"
     ]
    },
    {
     "data": {
      "image/png": "[encoded data removed]",
      "text/plain": [
       "<Figure size 1200x600 with 2 Axes>"
      ]
     },
     "metadata": {},
     "output_type": "display_data"
    }
   ],
   "source": [
    "x = np.random.randint(len(y_test))\n",
    "print ('X:',x)\n",
    "print (df_infoC.iloc[x])\n",
    "pred = multioutputregressor.predict([X_test_scaled[x]]) \n",
    "pred0.shape\n",
    "for i in range (len(pred[0])) :\n",
    "    print (y_column_names_list[i] , ':', pred[0][i], '>', y_test.iloc[x,i] ,' >>> ', pred[0][i] - y_test.iloc[x,i],' >>> ', (pred[0][i] - y_test.iloc[x,i])/pred[0][i])\n",
    "    \n",
    "values1 = pred[0]    \n",
    "values2 = y_test.iloc[x]\n",
    "\n",
    "# Create a figure with two subplots\n",
    "fig, axs = plt.subplots(1, 2, figsize=(12, 6))\n",
    "\n",
    "# Plot the first pie chart\n",
    "axs[0].pie(values1, labels=y_column_names_list , autopct='%1.1f%%', startangle=90)\n",
    "axs[0].set_title('MODEL')\n",
    "\n",
    "# Plot the second pie chart\n",
    "axs[1].pie(values2, labels=y_column_names_list, autopct='%1.1f%%', startangle=90)\n",
    "axs[1].set_title('REALITE')\n",
    "\n",
    "# Adjust layout\n",
    "plt.tight_layout()\n",
    "\n",
    "# Show the plot\n",
    "plt.show()    "
   ]
  },
  {
   "cell_type": "markdown",
   "id": "15c59aec-1bf5-4903-b14f-d7b3b70cb086",
   "metadata": {},
   "source": [
    "# EXPORT INFO\n",
    "## RESULATS"
   ]
  },
  {
   "cell_type": "code",
   "execution_count": null,
   "id": "70f6823d-5f2e-4cea-9244-019d7f08500d",
   "metadata": {},
   "outputs": [],
   "source": [
    "X_scaled = scaler.fit_transform(X)"
   ]
  },
  {
   "cell_type": "code",
   "execution_count": null,
   "id": "1c189321-4f28-4a0b-a5ca-2cb8157b4e1b",
   "metadata": {},
   "outputs": [],
   "source": [
    "predFULL = best_estimator.predict(X_scaled) \n",
    "predFULL.shape"
   ]
  },
  {
   "cell_type": "code",
   "execution_count": null,
   "id": "52c0b5b4-d48d-4e71-b420-ddc35d6ccdb3",
   "metadata": {},
   "outputs": [],
   "source": [
    "# Convert the NumPy array to a Pandas DataFrame\n",
    "df_result_to_export = pd.DataFrame(data=predFULL, index=y_index_list, columns=pred_column_names_list)\n",
    "df_result_to_export.shape"
   ]
  },
  {
   "cell_type": "code",
   "execution_count": null,
   "id": "c7d71b56-fbdc-4237-ad4e-f0eca1c60e46",
   "metadata": {},
   "outputs": [],
   "source": [
    "df_result_to_export.head(2)"
   ]
  },
  {
   "cell_type": "markdown",
   "id": "685f0cf7-1f1a-4913-af8f-abd9587c8f9d",
   "metadata": {},
   "source": [
    "## XGBoost_reg200_resultats_tbl"
   ]
  },
  {
   "cell_type": "code",
   "execution_count": null,
   "id": "33b39cbe-d445-41f1-bfb7-4274acf5d974",
   "metadata": {},
   "outputs": [],
   "source": [
    "tabl_export='XGBoost_reg200_resultats_tbl'\n",
    "if tabl_export not in tbl_db_names :\n",
    "    # Convert DataFrame to a SQL table, using the index as the ID column\n",
    "    df_result_to_export.to_sql(tabl_export, con=engine, index=True, if_exists='replace')\n",
    "    metadata.reflect(bind=engine)\n",
    "tbl_db_names = metadata.tables.keys()\n",
    "tbl_db_names"
   ]
  },
  {
   "cell_type": "markdown",
   "id": "37320585-e560-4fc1-971c-4a82a040f56e",
   "metadata": {},
   "source": [
    "## feature_importances"
   ]
  },
  {
   "cell_type": "code",
   "execution_count": 371,
   "id": "6e8c74a0-3d3a-4a63-8617-38fa42727453",
   "metadata": {},
   "outputs": [
    {
     "name": "stdout",
     "output_type": "stream",
     "text": [
      "     estimator_0_indice  estimator_0_importance  estimator_1_indice  \\\n",
      "0                    35                0.082898                 145   \n",
      "1                   127                0.027993                 212   \n",
      "2                   208                0.024794                 132   \n",
      "3                   215                0.023977                 213   \n",
      "4                   126                0.021999                 248   \n",
      "..                  ...                     ...                 ...   \n",
      "256                 105                0.000000                 113   \n",
      "257                 100                0.000000                 114   \n",
      "258                  99                0.000000                 115   \n",
      "259                  97                0.000000                 116   \n",
      "260                 116                0.000000                 155   \n",
      "\n",
      "     estimator_1_importance  estimator_2_indice  estimator_2_importance  \\\n",
      "0                  0.087281                 119                0.077441   \n",
      "1                  0.030243                 141                0.045365   \n",
      "2                  0.020844                 124                0.034870   \n",
      "3                  0.019002                 127                0.023309   \n",
      "4                  0.014843                 195                0.018825   \n",
      "..                      ...                 ...                     ...   \n",
      "256                0.000000                 249                0.000000   \n",
      "257                0.000000                 156                0.000000   \n",
      "258                0.000000                 115                0.000000   \n",
      "259                0.000000                 116                0.000000   \n",
      "260                0.000000                  99                0.000000   \n",
      "\n",
      "     estimator_3_indice  estimator_3_importance  estimator_4_indice  \\\n",
      "0                   126                0.031630                 241   \n",
      "1                   127                0.028505                 205   \n",
      "2                   212                0.025914                 126   \n",
      "3                   214                0.023697                 127   \n",
      "4                   213                0.022479                 240   \n",
      "..                  ...                     ...                 ...   \n",
      "256                 113                0.000000                 113   \n",
      "257                 106                0.000000                 106   \n",
      "258                 105                0.000000                 249   \n",
      "259                 100                0.000000                 105   \n",
      "260                 115                0.000000                 100   \n",
      "\n",
      "     estimator_4_importance  estimator_5_indice  estimator_5_importance  \\\n",
      "0                  0.051162                 147                0.045450   \n",
      "1                  0.035382                 213                0.041113   \n",
      "2                  0.033193                 212                0.033893   \n",
      "3                  0.029764                 126                0.030199   \n",
      "4                  0.023228                 127                0.028266   \n",
      "..                      ...                 ...                     ...   \n",
      "256                0.000000                  97                0.000000   \n",
      "257                0.000000                  71                0.000000   \n",
      "258                0.000000                 255                0.000000   \n",
      "259                0.000000                 249                0.000000   \n",
      "260                0.000000                 106                0.000000   \n",
      "\n",
      "     estimator_6_indice  estimator_6_importance  \n",
      "0                   127                0.161983  \n",
      "1                   120                0.045778  \n",
      "2                   126                0.041665  \n",
      "3                   179                0.036994  \n",
      "4                   212                0.026143  \n",
      "..                  ...                     ...  \n",
      "256                 105                0.000000  \n",
      "257                  99                0.000000  \n",
      "258                  97                0.000000  \n",
      "259                 249                0.000000  \n",
      "260                 100                0.000000  \n",
      "\n",
      "[261 rows x 14 columns]\n"
     ]
    }
   ],
   "source": [
    "feature_importance_df = pd.DataFrame()\n",
    "\n",
    "# Iterate over each estimator in multioutputregressor\n",
    "for i, estimator in enumerate(multioutputregressor.estimators_):\n",
    "    # Get the feature importances and their indices\n",
    "    importances = estimator.feature_importances_\n",
    "    indices = importances.argsort()[::-1]  # Sort in descending order\n",
    "\n",
    "    # Create column names based on the index i\n",
    "    col_name_indice = f'estimator_{i}_indice'\n",
    "    col_name_importance = f'estimator_{i}_importance'\n",
    "\n",
    "    # Create a new column in the DataFrame for indices and importances\n",
    "    feature_importance_df[col_name_indice] = indices\n",
    "    feature_importance_df[col_name_importance] = importances[indices]\n",
    "\n",
    "# Display the DataFrame\n",
    "print(feature_importance_df)"
   ]
  },
  {
   "cell_type": "code",
   "execution_count": null,
   "id": "9eb7f99a-5db3-4365-9207-85c5a07e48e4",
   "metadata": {},
   "outputs": [],
   "source": [
    "feature_importance_df = pd.DataFrame()\n",
    "\n",
    "# Iterate over each estimator in multioutputregressor\n",
    "for i, estimator in enumerate(best_estimator.estimators_):\n",
    "    # Get the feature importances and their indices\n",
    "    importances = estimator.feature_importances_\n",
    "    indices = importances.argsort()[::-1]  # Sort in descending order\n",
    "\n",
    "    # Create column names based on the index i\n",
    "    col_name_indice = f'estimator_{i}_indice'\n",
    "    col_name_importance = f'estimator_{i}_importance'\n",
    "\n",
    "    # Create a new column in the DataFrame for indices and importances\n",
    "    feature_importance_df[col_name_indice] = indices\n",
    "    feature_importance_df[col_name_importance] = importances[indices]\n",
    "\n",
    "# Display the DataFrame\n",
    "print(feature_importance_df)"
   ]
  },
  {
   "cell_type": "code",
   "execution_count": null,
   "id": "f860337e-6e27-4f27-b1b8-65887bb75804",
   "metadata": {},
   "outputs": [],
   "source": [
    "feature_importance_df.head(2)"
   ]
  },
  {
   "cell_type": "code",
   "execution_count": null,
   "id": "c041f183-be59-4b09-8e9f-e176bf49c0f8",
   "metadata": {},
   "outputs": [],
   "source": [
    "column_mapping = []\n",
    "for c in y_column_names_list:\n",
    "    column_mapping.append(f'{c}_estim_indice')\n",
    "    column_mapping.append(f'{c}_import')\n",
    "len(column_mapping) , column_mapping"
   ]
  },
  {
   "cell_type": "code",
   "execution_count": null,
   "id": "cdd65dbe-57f7-4b69-a561-a09f2590b619",
   "metadata": {},
   "outputs": [],
   "source": [
    "feature_importance_df.rename(columns=dict(zip(feature_importance_df.columns, column_mapping)), inplace=True)\n",
    "feature_importance_df.head(2)"
   ]
  },
  {
   "cell_type": "markdown",
   "id": "3dcec9bb-3afc-4dbb-941f-ff4af10f3947",
   "metadata": {},
   "source": [
    "## XGBoost_reg200_importance_tbl"
   ]
  },
  {
   "cell_type": "code",
   "execution_count": null,
   "id": "3e9d923d-a54c-4efc-9b53-ecd61348fe68",
   "metadata": {},
   "outputs": [],
   "source": [
    "tabl_export='XGBoost_reg200_importance_tbl'\n",
    "if tabl_export not in tbl_db_names :\n",
    "    # Convert DataFrame to a SQL table, using the index as the ID column\n",
    "    feature_importance_df.to_sql(tabl_export, con=engine, index=True, if_exists='replace')\n",
    "    metadata.reflect(bind=engine)\n",
    "tbl_db_names = metadata.tables.keys()\n",
    "tbl_db_names"
   ]
  },
  {
   "cell_type": "markdown",
   "id": "4877c529-1b9d-4943-a6fc-f9a672364a05",
   "metadata": {},
   "source": [
    "### TEST SQL preparation \n",
    "tables des colonnes\n",
    "\n",
    "tables des resultats et delta"
   ]
  },
  {
   "cell_type": "code",
   "execution_count": null,
   "id": "62f9d8b9-9abc-4a99-8db2-860101211232",
   "metadata": {},
   "outputs": [],
   "source": [
    "connection = sqlite3.connect(db_path)\n",
    "\n",
    "# Create a cursor object to execute SQL queries\n",
    "cursor = connection.cursor()\n",
    "\n",
    "# Define the SQL query for the join\n",
    "sql_query = \"\"\"\n",
    "SELECT \n",
    "    y.NUP, xg.pred_NUP, xg.pred_NUP-y.NUP AS delta_NUP,\n",
    "    y.ECO, xg.pred_ECO, xg.pred_ECO-y.ECO AS delta_ECO,\n",
    "    y.ENS, xg.pred_ENS, xg.pred_ENS-y.ENS AS delta_ENS,\n",
    "    y.LR_UDI, xg.pred_LR_UDI, xg.pred_LR_UDI-y.LR_UDI AS delta_LR_UDI,\n",
    "    y.EXTREMD, xg.pred_EXTREMD, xg.pred_EXTREMD-y.EXTREMD AS delta_EXTREMD,\n",
    "    y.CENTRE, xg.pred_CENTRE, xg.pred_CENTRE-y.CENTRE AS delta_CENTRE,\n",
    "    y.OTR, xg.pred_OTR, xg.pred_OTR-y.OTR AS delta_OTR\n",
    "FROM y_resultats200_tbl AS y\n",
    "JOIN XGBoost_reg200_resultats_tbl AS xg\n",
    "ON y.key = xg.key;\n",
    "\"\"\"\n",
    "\n",
    "# Execute the SQL query and fetch the result into a DataFrame\n",
    "result_df = pd.read_sql_query(sql_query, connection)\n",
    "\n",
    "# Display the result DataFrame\n",
    "result_df.head(2)"
   ]
  },
  {
   "cell_type": "code",
   "execution_count": null,
   "id": "d0a9542d-5dbd-43cc-b1ca-2889dd2a3a80",
   "metadata": {},
   "outputs": [],
   "source": [
    "# X_col_titr\n",
    "connection = sqlite3.connect(db_path)\n",
    "\n",
    "# Create a cursor object to execute SQL queries\n",
    "cursor = connection.cursor()\n",
    "\n",
    "# Define the SQL query for the join\n",
    "sql_query = \"\"\"\n",
    "SELECT *\n",
    "FROM X_col_titr LIMIT 500\n",
    "\"\"\"\n",
    "\n",
    "# Execute the SQL query and fetch the result into a DataFrame\n",
    "test_df = pd.read_sql_query(sql_query, connection)\n",
    "\n",
    "# Display the result DataFrame\n",
    "print(test_df)"
   ]
  },
  {
   "cell_type": "code",
   "execution_count": null,
   "id": "39c48b3b-ea59-4794-aaa4-88ff0cf6a65c",
   "metadata": {},
   "outputs": [],
   "source": [
    "connection = sqlite3.connect(db_path)\n",
    "\n",
    "# Create a cursor object to execute SQL queries\n",
    "cursor = connection.cursor()\n",
    "\n",
    "# Define the SQL query for the join\n",
    "sql_query = \"\"\"\n",
    "SELECT \n",
    "    NUP_titr.titr_col_value AS NUP_est, FI.NUP_import * 100 AS NUP_import,\n",
    "    ECO_titr.titr_col_value AS ECO_est, FI.ECO_import * 100 AS ECO_import,\n",
    "    ENS_titr.titr_col_value AS ENS_est, FI.ENS_import * 100 AS ENS_import,\n",
    "    LR_UDI_titr.titr_col_value AS LR_UDI_est, FI.LR_UDI_import * 100 AS LR_UDI_import,\n",
    "    EXTREMD_titr.titr_col_value AS EXTREMD_est, FI.EXTREMD_import * 100 AS EXTREMD_import,\n",
    "    CENTRE_titr.titr_col_value AS CENTRE_est, FI.CENTRE_import * 100 AS CENTRE_import,\n",
    "    OTR_titr.titr_col_value AS OTR_est, FI.OTR_import * 100 AS OTR_import\n",
    "FROM \n",
    "    XGBoost_reg200_importance_tbl FI\n",
    "    JOIN X_col_titr AS NUP_titr ON NUP_titr.indice = FI.NUP_estim_indice\n",
    "    JOIN X_col_titr AS ECO_titr ON ECO_titr.indice = FI.ECO_estim_indice\n",
    "    JOIN X_col_titr AS ENS_titr ON ENS_titr.indice = FI.ENS_estim_indice\n",
    "    JOIN X_col_titr AS LR_UDI_titr ON LR_UDI_titr.indice = FI.LR_UDI_estim_indice\n",
    "    JOIN X_col_titr AS EXTREMD_titr ON EXTREMD_titr.indice = FI.EXTREMD_estim_indice\n",
    "    JOIN X_col_titr AS CENTRE_titr ON CENTRE_titr.indice = FI.CENTRE_estim_indice\n",
    "    JOIN X_col_titr AS OTR_titr ON OTR_titr.indice = FI.OTR_estim_indice\n",
    "LIMIT 100;\n",
    "\"\"\"\n",
    "\n",
    "# Execute the SQL query and fetch the result into a DataFrame\n",
    "test_df = pd.read_sql_query(sql_query, connection)\n",
    "\n",
    "# Display the result DataFrame\n",
    "test_df.head(5)"
   ]
  },
  {
   "cell_type": "code",
   "execution_count": null,
   "id": "c6247fe4-9bd8-4d69-b767-f451b9cbc7b1",
   "metadata": {},
   "outputs": [],
   "source": []
  },
  {
   "cell_type": "code",
   "execution_count": null,
   "id": "1b54ed75-eade-4e80-8500-b25d925eb8e3",
   "metadata": {},
   "outputs": [],
   "source": []
  },
  {
   "cell_type": "code",
   "execution_count": null,
   "id": "d0fabbaf-584c-4772-9597-3502d14ce8b1",
   "metadata": {},
   "outputs": [],
   "source": []
  },
  {
   "cell_type": "code",
   "execution_count": null,
   "id": "a7297a3e-3b78-43f8-9468-d0005e2078f2",
   "metadata": {},
   "outputs": [],
   "source": []
  },
  {
   "cell_type": "code",
   "execution_count": null,
   "id": "6d3985f0-c0bf-4791-ac0a-5f3677418345",
   "metadata": {},
   "outputs": [],
   "source": []
  }
 ],
 "metadata": {
  "kernelspec": {
   "display_name": "Python 3 (ipykernel)",
   "language": "python",
   "name": "python3"
  },
  "language_info": {
   "codemirror_mode": {
    "name": "ipython",
    "version": 3
   },
   "file_extension": ".py",
   "mimetype": "text/x-python",
   "name": "python",
   "nbconvert_exporter": "python",
   "pygments_lexer": "ipython3",
   "version": "3.10.12"
  }
 },
 "nbformat": 4,
 "nbformat_minor": 5
}
