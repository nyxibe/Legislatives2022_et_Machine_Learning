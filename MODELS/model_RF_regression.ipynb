{
 "cells": [
  {
   "cell_type": "markdown",
   "id": "f75d5881-1b31-4145-8f88-b18972b95b6a",
   "metadata": {},
   "source": [
    "# model_XGBoost_regression"
   ]
  },
  {
   "cell_type": "code",
   "execution_count": 1,
   "id": "5e844807-14f7-4a1c-bc6e-dfca1efeef01",
   "metadata": {},
   "outputs": [],
   "source": [
    "import warnings\n",
    "warnings.filterwarnings(\"ignore\")\n",
    "\n",
    "import os\n",
    "import pandas as pd\n",
    "import numpy as np"
   ]
  },
  {
   "cell_type": "markdown",
   "id": "4912b5a9-f11f-4865-a577-3df643540030",
   "metadata": {},
   "source": [
    "## IMPORT"
   ]
  },
  {
   "cell_type": "code",
   "execution_count": 2,
   "id": "2cb73ae9-96f1-4cd0-b1fa-4f196ec82a3e",
   "metadata": {},
   "outputs": [],
   "source": [
    "from sklearn.model_selection import train_test_split\n",
    "from sklearn.preprocessing import StandardScaler\n",
    "import xgboost as xgb\n",
    "from sklearn.metrics import accuracy_score, classification_report\n",
    "\n",
    "import xgboost as xgb\n",
    "from sklearn.model_selection import train_test_split\n",
    "from sklearn.metrics import mean_squared_error"
   ]
  },
  {
   "cell_type": "code",
   "execution_count": 3,
   "id": "42918a36-c855-4396-9858-c78d03a5f9ce",
   "metadata": {},
   "outputs": [
    {
     "data": {
      "text/plain": [
       "(33803, 268)"
      ]
     },
     "execution_count": 3,
     "metadata": {},
     "output_type": "execute_result"
    }
   ],
   "source": [
    "file_path='../DATA/DATA_240131B/final_DATA.csv'\n",
    "df = pd.read_csv(file_path, encoding='utf-8', sep=';', index_col=0, low_memory=False)\n",
    "df.shape"
   ]
  },
  {
   "cell_type": "code",
   "execution_count": 4,
   "id": "e620840c-3e4e-4d66-a940-dc1e1d9b06d0",
   "metadata": {},
   "outputs": [
    {
     "data": {
      "text/plain": [
       "(33803, 4)"
      ]
     },
     "execution_count": 4,
     "metadata": {},
     "output_type": "execute_result"
    }
   ],
   "source": [
    "file_path='../DATA/DATA_240131B/final_4first_col.csv'\n",
    "df_info = pd.read_csv(file_path, encoding='utf-8', sep=';', index_col=0, low_memory=False)\n",
    "df_info.shape\n"
   ]
  },
  {
   "cell_type": "code",
   "execution_count": 5,
   "id": "671d2b45-f433-4641-8eee-b0b2c2f5745a",
   "metadata": {},
   "outputs": [
    {
     "data": {
      "text/html": [
       "<div>\n",
       "<style scoped>\n",
       "    .dataframe tbody tr th:only-of-type {\n",
       "        vertical-align: middle;\n",
       "    }\n",
       "\n",
       "    .dataframe tbody tr th {\n",
       "        vertical-align: top;\n",
       "    }\n",
       "\n",
       "    .dataframe thead th {\n",
       "        text-align: right;\n",
       "    }\n",
       "</style>\n",
       "<table border=\"1\" class=\"dataframe\">\n",
       "  <thead>\n",
       "    <tr style=\"text-align: right;\">\n",
       "      <th></th>\n",
       "      <th>dep</th>\n",
       "      <th>nomdep</th>\n",
       "      <th>codecommune</th>\n",
       "      <th>nomcommune</th>\n",
       "    </tr>\n",
       "    <tr>\n",
       "      <th>key</th>\n",
       "      <th></th>\n",
       "      <th></th>\n",
       "      <th></th>\n",
       "      <th></th>\n",
       "    </tr>\n",
       "  </thead>\n",
       "  <tbody>\n",
       "    <tr>\n",
       "      <th>01001</th>\n",
       "      <td>01</td>\n",
       "      <td>AIN</td>\n",
       "      <td>01001</td>\n",
       "      <td>L'ABERGEMENT-CLÉMENCIAT</td>\n",
       "    </tr>\n",
       "    <tr>\n",
       "      <th>01002</th>\n",
       "      <td>01</td>\n",
       "      <td>AIN</td>\n",
       "      <td>01002</td>\n",
       "      <td>L'ABERGEMENT-DE-VAREY</td>\n",
       "    </tr>\n",
       "    <tr>\n",
       "      <th>01004</th>\n",
       "      <td>01</td>\n",
       "      <td>AIN</td>\n",
       "      <td>01004</td>\n",
       "      <td>AMBÉRIEU-EN-BUGEY</td>\n",
       "    </tr>\n",
       "    <tr>\n",
       "      <th>01005</th>\n",
       "      <td>01</td>\n",
       "      <td>AIN</td>\n",
       "      <td>01005</td>\n",
       "      <td>AMBÉRIEUX-EN-DOMBES</td>\n",
       "    </tr>\n",
       "    <tr>\n",
       "      <th>01006</th>\n",
       "      <td>01</td>\n",
       "      <td>AIN</td>\n",
       "      <td>01006</td>\n",
       "      <td>AMBLÉON</td>\n",
       "    </tr>\n",
       "  </tbody>\n",
       "</table>\n",
       "</div>"
      ],
      "text/plain": [
       "      dep nomdep codecommune               nomcommune\n",
       "key                                                  \n",
       "01001  01    AIN       01001  L'ABERGEMENT-CLÉMENCIAT\n",
       "01002  01    AIN       01002    L'ABERGEMENT-DE-VAREY\n",
       "01004  01    AIN       01004        AMBÉRIEU-EN-BUGEY\n",
       "01005  01    AIN       01005      AMBÉRIEUX-EN-DOMBES\n",
       "01006  01    AIN       01006                  AMBLÉON"
      ]
     },
     "execution_count": 5,
     "metadata": {},
     "output_type": "execute_result"
    }
   ],
   "source": [
    "df_info.head(5)"
   ]
  },
  {
   "cell_type": "code",
   "execution_count": 6,
   "id": "6fdf1517-c955-464a-882d-f897f888e723",
   "metadata": {},
   "outputs": [
    {
     "data": {
      "text/html": [
       "<div>\n",
       "<style scoped>\n",
       "    .dataframe tbody tr th:only-of-type {\n",
       "        vertical-align: middle;\n",
       "    }\n",
       "\n",
       "    .dataframe tbody tr th {\n",
       "        vertical-align: top;\n",
       "    }\n",
       "\n",
       "    .dataframe thead th {\n",
       "        text-align: right;\n",
       "    }\n",
       "</style>\n",
       "<table border=\"1\" class=\"dataframe\">\n",
       "  <thead>\n",
       "    <tr style=\"text-align: right;\">\n",
       "      <th></th>\n",
       "      <th>TAR_inscrits</th>\n",
       "      <th>TAR_votants</th>\n",
       "      <th>TAR_exprimes</th>\n",
       "      <th>YYY_pvoixNUP</th>\n",
       "      <th>YYY_pvoixECO</th>\n",
       "      <th>YYY_pvoixENS</th>\n",
       "      <th>TAR_electeurs</th>\n",
       "      <th>YYY_pvoixLR_UDI</th>\n",
       "      <th>YYY_pvoixEXTREMD</th>\n",
       "      <th>YYY_pvoixCENTRE</th>\n",
       "      <th>...</th>\n",
       "      <th>TER_surf68</th>\n",
       "      <th>NAT_petranger22</th>\n",
       "      <th>NAT_pimmigre22</th>\n",
       "      <th>NAT_pimmnatur22</th>\n",
       "      <th>NAT_pnatur22</th>\n",
       "      <th>NAT_petranger12</th>\n",
       "      <th>NAT_pimmigre12</th>\n",
       "      <th>NAT_pimmnatur12</th>\n",
       "      <th>NAT_petranger02</th>\n",
       "      <th>NAT_petranger92</th>\n",
       "    </tr>\n",
       "  </thead>\n",
       "  <tbody>\n",
       "    <tr>\n",
       "      <th>0</th>\n",
       "      <td>644.0</td>\n",
       "      <td>343.0</td>\n",
       "      <td>339.0</td>\n",
       "      <td>0.153392</td>\n",
       "      <td>0.023599</td>\n",
       "      <td>0.147493</td>\n",
       "      <td>644.0000</td>\n",
       "      <td>0.271386</td>\n",
       "      <td>0.318584</td>\n",
       "      <td>0.073746</td>\n",
       "      <td>...</td>\n",
       "      <td>0.0</td>\n",
       "      <td>0.005161</td>\n",
       "      <td>0.014194</td>\n",
       "      <td>0.009032</td>\n",
       "      <td>0.014194</td>\n",
       "      <td>0.025740</td>\n",
       "      <td>0.037323</td>\n",
       "      <td>0.011583</td>\n",
       "      <td>0.018543</td>\n",
       "      <td>0.014634</td>\n",
       "    </tr>\n",
       "    <tr>\n",
       "      <th>1</th>\n",
       "      <td>218.0</td>\n",
       "      <td>133.0</td>\n",
       "      <td>128.0</td>\n",
       "      <td>0.343750</td>\n",
       "      <td>0.000000</td>\n",
       "      <td>0.000000</td>\n",
       "      <td>218.0000</td>\n",
       "      <td>0.109375</td>\n",
       "      <td>0.078125</td>\n",
       "      <td>0.437500</td>\n",
       "      <td>...</td>\n",
       "      <td>0.0</td>\n",
       "      <td>0.003891</td>\n",
       "      <td>0.003891</td>\n",
       "      <td>0.000000</td>\n",
       "      <td>0.000000</td>\n",
       "      <td>0.012766</td>\n",
       "      <td>0.021277</td>\n",
       "      <td>0.008511</td>\n",
       "      <td>0.005618</td>\n",
       "      <td>0.037736</td>\n",
       "    </tr>\n",
       "    <tr>\n",
       "      <th>2</th>\n",
       "      <td>8844.0</td>\n",
       "      <td>4123.0</td>\n",
       "      <td>4012.0</td>\n",
       "      <td>0.298106</td>\n",
       "      <td>0.000000</td>\n",
       "      <td>0.000000</td>\n",
       "      <td>9887.9053</td>\n",
       "      <td>0.087488</td>\n",
       "      <td>0.262961</td>\n",
       "      <td>0.321037</td>\n",
       "      <td>...</td>\n",
       "      <td>0.0</td>\n",
       "      <td>0.089823</td>\n",
       "      <td>0.107816</td>\n",
       "      <td>0.017993</td>\n",
       "      <td>0.027062</td>\n",
       "      <td>0.079042</td>\n",
       "      <td>0.102438</td>\n",
       "      <td>0.023396</td>\n",
       "      <td>0.066773</td>\n",
       "      <td>0.060427</td>\n",
       "    </tr>\n",
       "    <tr>\n",
       "      <th>3</th>\n",
       "      <td>1299.0</td>\n",
       "      <td>636.0</td>\n",
       "      <td>622.0</td>\n",
       "      <td>0.160772</td>\n",
       "      <td>0.024116</td>\n",
       "      <td>0.178457</td>\n",
       "      <td>1531.4249</td>\n",
       "      <td>0.204180</td>\n",
       "      <td>0.376206</td>\n",
       "      <td>0.048232</td>\n",
       "      <td>...</td>\n",
       "      <td>0.0</td>\n",
       "      <td>0.013349</td>\n",
       "      <td>0.041788</td>\n",
       "      <td>0.028439</td>\n",
       "      <td>0.042948</td>\n",
       "      <td>0.014007</td>\n",
       "      <td>0.036541</td>\n",
       "      <td>0.022533</td>\n",
       "      <td>0.026063</td>\n",
       "      <td>0.043729</td>\n",
       "    </tr>\n",
       "    <tr>\n",
       "      <th>4</th>\n",
       "      <td>101.0</td>\n",
       "      <td>63.0</td>\n",
       "      <td>59.0</td>\n",
       "      <td>0.220339</td>\n",
       "      <td>0.000000</td>\n",
       "      <td>0.288136</td>\n",
       "      <td>101.0000</td>\n",
       "      <td>0.288136</td>\n",
       "      <td>0.152542</td>\n",
       "      <td>0.000000</td>\n",
       "      <td>...</td>\n",
       "      <td>0.0</td>\n",
       "      <td>0.044643</td>\n",
       "      <td>0.044643</td>\n",
       "      <td>0.000000</td>\n",
       "      <td>0.000000</td>\n",
       "      <td>0.090909</td>\n",
       "      <td>0.100000</td>\n",
       "      <td>0.009091</td>\n",
       "      <td>0.000000</td>\n",
       "      <td>0.000000</td>\n",
       "    </tr>\n",
       "  </tbody>\n",
       "</table>\n",
       "<p>5 rows × 268 columns</p>\n",
       "</div>"
      ],
      "text/plain": [
       "   TAR_inscrits  TAR_votants  TAR_exprimes  YYY_pvoixNUP  YYY_pvoixECO  \\\n",
       "0         644.0        343.0         339.0      0.153392      0.023599   \n",
       "1         218.0        133.0         128.0      0.343750      0.000000   \n",
       "2        8844.0       4123.0        4012.0      0.298106      0.000000   \n",
       "3        1299.0        636.0         622.0      0.160772      0.024116   \n",
       "4         101.0         63.0          59.0      0.220339      0.000000   \n",
       "\n",
       "   YYY_pvoixENS  TAR_electeurs  YYY_pvoixLR_UDI  YYY_pvoixEXTREMD  \\\n",
       "0      0.147493       644.0000         0.271386          0.318584   \n",
       "1      0.000000       218.0000         0.109375          0.078125   \n",
       "2      0.000000      9887.9053         0.087488          0.262961   \n",
       "3      0.178457      1531.4249         0.204180          0.376206   \n",
       "4      0.288136       101.0000         0.288136          0.152542   \n",
       "\n",
       "   YYY_pvoixCENTRE  ...  TER_surf68  NAT_petranger22  NAT_pimmigre22  \\\n",
       "0         0.073746  ...         0.0         0.005161        0.014194   \n",
       "1         0.437500  ...         0.0         0.003891        0.003891   \n",
       "2         0.321037  ...         0.0         0.089823        0.107816   \n",
       "3         0.048232  ...         0.0         0.013349        0.041788   \n",
       "4         0.000000  ...         0.0         0.044643        0.044643   \n",
       "\n",
       "   NAT_pimmnatur22  NAT_pnatur22  NAT_petranger12  NAT_pimmigre12  \\\n",
       "0         0.009032      0.014194         0.025740        0.037323   \n",
       "1         0.000000      0.000000         0.012766        0.021277   \n",
       "2         0.017993      0.027062         0.079042        0.102438   \n",
       "3         0.028439      0.042948         0.014007        0.036541   \n",
       "4         0.000000      0.000000         0.090909        0.100000   \n",
       "\n",
       "   NAT_pimmnatur12  NAT_petranger02  NAT_petranger92  \n",
       "0         0.011583         0.018543         0.014634  \n",
       "1         0.008511         0.005618         0.037736  \n",
       "2         0.023396         0.066773         0.060427  \n",
       "3         0.022533         0.026063         0.043729  \n",
       "4         0.009091         0.000000         0.000000  \n",
       "\n",
       "[5 rows x 268 columns]"
      ]
     },
     "execution_count": 6,
     "metadata": {},
     "output_type": "execute_result"
    }
   ],
   "source": [
    "df.head()"
   ]
  },
  {
   "cell_type": "markdown",
   "id": "f0443e03-d112-4102-8644-be92f65de8f1",
   "metadata": {},
   "source": [
    "### Fusion "
   ]
  },
  {
   "cell_type": "code",
   "execution_count": 7,
   "id": "fa84bcb5-604b-453b-aa24-1aa31f1c0c5f",
   "metadata": {},
   "outputs": [
    {
     "data": {
      "text/plain": [
       "(33803, 268)"
      ]
     },
     "execution_count": 7,
     "metadata": {},
     "output_type": "execute_result"
    }
   ],
   "source": [
    "df_FULL = df.copy()\n",
    "df_FULL.shape"
   ]
  },
  {
   "cell_type": "code",
   "execution_count": 8,
   "id": "97aed9f1-90a8-49a4-804c-8b7d0b029ce3",
   "metadata": {},
   "outputs": [
    {
     "data": {
      "text/html": [
       "<div>\n",
       "<style scoped>\n",
       "    .dataframe tbody tr th:only-of-type {\n",
       "        vertical-align: middle;\n",
       "    }\n",
       "\n",
       "    .dataframe tbody tr th {\n",
       "        vertical-align: top;\n",
       "    }\n",
       "\n",
       "    .dataframe thead th {\n",
       "        text-align: right;\n",
       "    }\n",
       "</style>\n",
       "<table border=\"1\" class=\"dataframe\">\n",
       "  <thead>\n",
       "    <tr style=\"text-align: right;\">\n",
       "      <th></th>\n",
       "      <th>TAR_inscrits</th>\n",
       "      <th>TAR_votants</th>\n",
       "      <th>TAR_exprimes</th>\n",
       "      <th>YYY_pvoixNUP</th>\n",
       "      <th>YYY_pvoixECO</th>\n",
       "      <th>YYY_pvoixENS</th>\n",
       "      <th>TAR_electeurs</th>\n",
       "      <th>YYY_pvoixLR_UDI</th>\n",
       "      <th>YYY_pvoixEXTREMD</th>\n",
       "      <th>YYY_pvoixCENTRE</th>\n",
       "      <th>...</th>\n",
       "      <th>TER_surf68</th>\n",
       "      <th>NAT_petranger22</th>\n",
       "      <th>NAT_pimmigre22</th>\n",
       "      <th>NAT_pimmnatur22</th>\n",
       "      <th>NAT_pnatur22</th>\n",
       "      <th>NAT_petranger12</th>\n",
       "      <th>NAT_pimmigre12</th>\n",
       "      <th>NAT_pimmnatur12</th>\n",
       "      <th>NAT_petranger02</th>\n",
       "      <th>NAT_petranger92</th>\n",
       "    </tr>\n",
       "    <tr>\n",
       "      <th>key</th>\n",
       "      <th></th>\n",
       "      <th></th>\n",
       "      <th></th>\n",
       "      <th></th>\n",
       "      <th></th>\n",
       "      <th></th>\n",
       "      <th></th>\n",
       "      <th></th>\n",
       "      <th></th>\n",
       "      <th></th>\n",
       "      <th></th>\n",
       "      <th></th>\n",
       "      <th></th>\n",
       "      <th></th>\n",
       "      <th></th>\n",
       "      <th></th>\n",
       "      <th></th>\n",
       "      <th></th>\n",
       "      <th></th>\n",
       "      <th></th>\n",
       "      <th></th>\n",
       "    </tr>\n",
       "  </thead>\n",
       "  <tbody>\n",
       "    <tr>\n",
       "      <th>01001</th>\n",
       "      <td>644.0</td>\n",
       "      <td>343.0</td>\n",
       "      <td>339.0</td>\n",
       "      <td>0.153392</td>\n",
       "      <td>0.023599</td>\n",
       "      <td>0.147493</td>\n",
       "      <td>644.0</td>\n",
       "      <td>0.271386</td>\n",
       "      <td>0.318584</td>\n",
       "      <td>0.073746</td>\n",
       "      <td>...</td>\n",
       "      <td>0.0</td>\n",
       "      <td>0.005161</td>\n",
       "      <td>0.014194</td>\n",
       "      <td>0.009032</td>\n",
       "      <td>0.014194</td>\n",
       "      <td>0.025740</td>\n",
       "      <td>0.037323</td>\n",
       "      <td>0.011583</td>\n",
       "      <td>0.018543</td>\n",
       "      <td>0.014634</td>\n",
       "    </tr>\n",
       "    <tr>\n",
       "      <th>01002</th>\n",
       "      <td>218.0</td>\n",
       "      <td>133.0</td>\n",
       "      <td>128.0</td>\n",
       "      <td>0.343750</td>\n",
       "      <td>0.000000</td>\n",
       "      <td>0.000000</td>\n",
       "      <td>218.0</td>\n",
       "      <td>0.109375</td>\n",
       "      <td>0.078125</td>\n",
       "      <td>0.437500</td>\n",
       "      <td>...</td>\n",
       "      <td>0.0</td>\n",
       "      <td>0.003891</td>\n",
       "      <td>0.003891</td>\n",
       "      <td>0.000000</td>\n",
       "      <td>0.000000</td>\n",
       "      <td>0.012766</td>\n",
       "      <td>0.021277</td>\n",
       "      <td>0.008511</td>\n",
       "      <td>0.005618</td>\n",
       "      <td>0.037736</td>\n",
       "    </tr>\n",
       "  </tbody>\n",
       "</table>\n",
       "<p>2 rows × 268 columns</p>\n",
       "</div>"
      ],
      "text/plain": [
       "       TAR_inscrits  TAR_votants  TAR_exprimes  YYY_pvoixNUP  YYY_pvoixECO  \\\n",
       "key                                                                          \n",
       "01001         644.0        343.0         339.0      0.153392      0.023599   \n",
       "01002         218.0        133.0         128.0      0.343750      0.000000   \n",
       "\n",
       "       YYY_pvoixENS  TAR_electeurs  YYY_pvoixLR_UDI  YYY_pvoixEXTREMD  \\\n",
       "key                                                                     \n",
       "01001      0.147493          644.0         0.271386          0.318584   \n",
       "01002      0.000000          218.0         0.109375          0.078125   \n",
       "\n",
       "       YYY_pvoixCENTRE  ...  TER_surf68  NAT_petranger22  NAT_pimmigre22  \\\n",
       "key                     ...                                                \n",
       "01001         0.073746  ...         0.0         0.005161        0.014194   \n",
       "01002         0.437500  ...         0.0         0.003891        0.003891   \n",
       "\n",
       "       NAT_pimmnatur22  NAT_pnatur22  NAT_petranger12  NAT_pimmigre12  \\\n",
       "key                                                                     \n",
       "01001         0.009032      0.014194         0.025740        0.037323   \n",
       "01002         0.000000      0.000000         0.012766        0.021277   \n",
       "\n",
       "       NAT_pimmnatur12  NAT_petranger02  NAT_petranger92  \n",
       "key                                                       \n",
       "01001         0.011583         0.018543         0.014634  \n",
       "01002         0.008511         0.005618         0.037736  \n",
       "\n",
       "[2 rows x 268 columns]"
      ]
     },
     "execution_count": 8,
     "metadata": {},
     "output_type": "execute_result"
    }
   ],
   "source": [
    "df_FULL.index = df_info.index \n",
    "df_FULL.head(2)"
   ]
  },
  {
   "cell_type": "code",
   "execution_count": 9,
   "id": "f10f9e3b-9adf-49da-bfba-1d028e050cdf",
   "metadata": {},
   "outputs": [
    {
     "data": {
      "text/plain": [
       "(33803, 272)"
      ]
     },
     "execution_count": 9,
     "metadata": {},
     "output_type": "execute_result"
    }
   ],
   "source": [
    "# result = pd.concat([df1, df2], axis=0, ignore_index=True)\n",
    "df_FULL = pd.concat([df_FULL, df_info], axis=1)\n",
    "df_FULL.shape"
   ]
  },
  {
   "cell_type": "code",
   "execution_count": 10,
   "id": "ce7f8feb-a7f2-4ec3-a4e3-8024ea0e4c72",
   "metadata": {},
   "outputs": [
    {
     "data": {
      "text/html": [
       "<div>\n",
       "<style scoped>\n",
       "    .dataframe tbody tr th:only-of-type {\n",
       "        vertical-align: middle;\n",
       "    }\n",
       "\n",
       "    .dataframe tbody tr th {\n",
       "        vertical-align: top;\n",
       "    }\n",
       "\n",
       "    .dataframe thead th {\n",
       "        text-align: right;\n",
       "    }\n",
       "</style>\n",
       "<table border=\"1\" class=\"dataframe\">\n",
       "  <thead>\n",
       "    <tr style=\"text-align: right;\">\n",
       "      <th></th>\n",
       "      <th>TAR_inscrits</th>\n",
       "      <th>TAR_votants</th>\n",
       "      <th>TAR_exprimes</th>\n",
       "      <th>YYY_pvoixNUP</th>\n",
       "      <th>YYY_pvoixECO</th>\n",
       "      <th>YYY_pvoixENS</th>\n",
       "      <th>TAR_electeurs</th>\n",
       "      <th>YYY_pvoixLR_UDI</th>\n",
       "      <th>YYY_pvoixEXTREMD</th>\n",
       "      <th>YYY_pvoixCENTRE</th>\n",
       "      <th>...</th>\n",
       "      <th>NAT_pnatur22</th>\n",
       "      <th>NAT_petranger12</th>\n",
       "      <th>NAT_pimmigre12</th>\n",
       "      <th>NAT_pimmnatur12</th>\n",
       "      <th>NAT_petranger02</th>\n",
       "      <th>NAT_petranger92</th>\n",
       "      <th>dep</th>\n",
       "      <th>nomdep</th>\n",
       "      <th>codecommune</th>\n",
       "      <th>nomcommune</th>\n",
       "    </tr>\n",
       "    <tr>\n",
       "      <th>key</th>\n",
       "      <th></th>\n",
       "      <th></th>\n",
       "      <th></th>\n",
       "      <th></th>\n",
       "      <th></th>\n",
       "      <th></th>\n",
       "      <th></th>\n",
       "      <th></th>\n",
       "      <th></th>\n",
       "      <th></th>\n",
       "      <th></th>\n",
       "      <th></th>\n",
       "      <th></th>\n",
       "      <th></th>\n",
       "      <th></th>\n",
       "      <th></th>\n",
       "      <th></th>\n",
       "      <th></th>\n",
       "      <th></th>\n",
       "      <th></th>\n",
       "      <th></th>\n",
       "    </tr>\n",
       "  </thead>\n",
       "  <tbody>\n",
       "    <tr>\n",
       "      <th>01001</th>\n",
       "      <td>644.0</td>\n",
       "      <td>343.0</td>\n",
       "      <td>339.0</td>\n",
       "      <td>0.153392</td>\n",
       "      <td>0.023599</td>\n",
       "      <td>0.147493</td>\n",
       "      <td>644.0000</td>\n",
       "      <td>0.271386</td>\n",
       "      <td>0.318584</td>\n",
       "      <td>0.073746</td>\n",
       "      <td>...</td>\n",
       "      <td>0.014194</td>\n",
       "      <td>0.025740</td>\n",
       "      <td>0.037323</td>\n",
       "      <td>0.011583</td>\n",
       "      <td>0.018543</td>\n",
       "      <td>0.014634</td>\n",
       "      <td>01</td>\n",
       "      <td>AIN</td>\n",
       "      <td>01001</td>\n",
       "      <td>L'ABERGEMENT-CLÉMENCIAT</td>\n",
       "    </tr>\n",
       "    <tr>\n",
       "      <th>01002</th>\n",
       "      <td>218.0</td>\n",
       "      <td>133.0</td>\n",
       "      <td>128.0</td>\n",
       "      <td>0.343750</td>\n",
       "      <td>0.000000</td>\n",
       "      <td>0.000000</td>\n",
       "      <td>218.0000</td>\n",
       "      <td>0.109375</td>\n",
       "      <td>0.078125</td>\n",
       "      <td>0.437500</td>\n",
       "      <td>...</td>\n",
       "      <td>0.000000</td>\n",
       "      <td>0.012766</td>\n",
       "      <td>0.021277</td>\n",
       "      <td>0.008511</td>\n",
       "      <td>0.005618</td>\n",
       "      <td>0.037736</td>\n",
       "      <td>01</td>\n",
       "      <td>AIN</td>\n",
       "      <td>01002</td>\n",
       "      <td>L'ABERGEMENT-DE-VAREY</td>\n",
       "    </tr>\n",
       "    <tr>\n",
       "      <th>01004</th>\n",
       "      <td>8844.0</td>\n",
       "      <td>4123.0</td>\n",
       "      <td>4012.0</td>\n",
       "      <td>0.298106</td>\n",
       "      <td>0.000000</td>\n",
       "      <td>0.000000</td>\n",
       "      <td>9887.9053</td>\n",
       "      <td>0.087488</td>\n",
       "      <td>0.262961</td>\n",
       "      <td>0.321037</td>\n",
       "      <td>...</td>\n",
       "      <td>0.027062</td>\n",
       "      <td>0.079042</td>\n",
       "      <td>0.102438</td>\n",
       "      <td>0.023396</td>\n",
       "      <td>0.066773</td>\n",
       "      <td>0.060427</td>\n",
       "      <td>01</td>\n",
       "      <td>AIN</td>\n",
       "      <td>01004</td>\n",
       "      <td>AMBÉRIEU-EN-BUGEY</td>\n",
       "    </tr>\n",
       "    <tr>\n",
       "      <th>01005</th>\n",
       "      <td>1299.0</td>\n",
       "      <td>636.0</td>\n",
       "      <td>622.0</td>\n",
       "      <td>0.160772</td>\n",
       "      <td>0.024116</td>\n",
       "      <td>0.178457</td>\n",
       "      <td>1531.4249</td>\n",
       "      <td>0.204180</td>\n",
       "      <td>0.376206</td>\n",
       "      <td>0.048232</td>\n",
       "      <td>...</td>\n",
       "      <td>0.042948</td>\n",
       "      <td>0.014007</td>\n",
       "      <td>0.036541</td>\n",
       "      <td>0.022533</td>\n",
       "      <td>0.026063</td>\n",
       "      <td>0.043729</td>\n",
       "      <td>01</td>\n",
       "      <td>AIN</td>\n",
       "      <td>01005</td>\n",
       "      <td>AMBÉRIEUX-EN-DOMBES</td>\n",
       "    </tr>\n",
       "    <tr>\n",
       "      <th>01006</th>\n",
       "      <td>101.0</td>\n",
       "      <td>63.0</td>\n",
       "      <td>59.0</td>\n",
       "      <td>0.220339</td>\n",
       "      <td>0.000000</td>\n",
       "      <td>0.288136</td>\n",
       "      <td>101.0000</td>\n",
       "      <td>0.288136</td>\n",
       "      <td>0.152542</td>\n",
       "      <td>0.000000</td>\n",
       "      <td>...</td>\n",
       "      <td>0.000000</td>\n",
       "      <td>0.090909</td>\n",
       "      <td>0.100000</td>\n",
       "      <td>0.009091</td>\n",
       "      <td>0.000000</td>\n",
       "      <td>0.000000</td>\n",
       "      <td>01</td>\n",
       "      <td>AIN</td>\n",
       "      <td>01006</td>\n",
       "      <td>AMBLÉON</td>\n",
       "    </tr>\n",
       "  </tbody>\n",
       "</table>\n",
       "<p>5 rows × 272 columns</p>\n",
       "</div>"
      ],
      "text/plain": [
       "       TAR_inscrits  TAR_votants  TAR_exprimes  YYY_pvoixNUP  YYY_pvoixECO  \\\n",
       "key                                                                          \n",
       "01001         644.0        343.0         339.0      0.153392      0.023599   \n",
       "01002         218.0        133.0         128.0      0.343750      0.000000   \n",
       "01004        8844.0       4123.0        4012.0      0.298106      0.000000   \n",
       "01005        1299.0        636.0         622.0      0.160772      0.024116   \n",
       "01006         101.0         63.0          59.0      0.220339      0.000000   \n",
       "\n",
       "       YYY_pvoixENS  TAR_electeurs  YYY_pvoixLR_UDI  YYY_pvoixEXTREMD  \\\n",
       "key                                                                     \n",
       "01001      0.147493       644.0000         0.271386          0.318584   \n",
       "01002      0.000000       218.0000         0.109375          0.078125   \n",
       "01004      0.000000      9887.9053         0.087488          0.262961   \n",
       "01005      0.178457      1531.4249         0.204180          0.376206   \n",
       "01006      0.288136       101.0000         0.288136          0.152542   \n",
       "\n",
       "       YYY_pvoixCENTRE  ...  NAT_pnatur22  NAT_petranger12  NAT_pimmigre12  \\\n",
       "key                     ...                                                  \n",
       "01001         0.073746  ...      0.014194         0.025740        0.037323   \n",
       "01002         0.437500  ...      0.000000         0.012766        0.021277   \n",
       "01004         0.321037  ...      0.027062         0.079042        0.102438   \n",
       "01005         0.048232  ...      0.042948         0.014007        0.036541   \n",
       "01006         0.000000  ...      0.000000         0.090909        0.100000   \n",
       "\n",
       "       NAT_pimmnatur12  NAT_petranger02  NAT_petranger92  dep  nomdep  \\\n",
       "key                                                                     \n",
       "01001         0.011583         0.018543         0.014634   01     AIN   \n",
       "01002         0.008511         0.005618         0.037736   01     AIN   \n",
       "01004         0.023396         0.066773         0.060427   01     AIN   \n",
       "01005         0.022533         0.026063         0.043729   01     AIN   \n",
       "01006         0.009091         0.000000         0.000000   01     AIN   \n",
       "\n",
       "       codecommune               nomcommune  \n",
       "key                                          \n",
       "01001        01001  L'ABERGEMENT-CLÉMENCIAT  \n",
       "01002        01002    L'ABERGEMENT-DE-VAREY  \n",
       "01004        01004        AMBÉRIEU-EN-BUGEY  \n",
       "01005        01005      AMBÉRIEUX-EN-DOMBES  \n",
       "01006        01006                  AMBLÉON  \n",
       "\n",
       "[5 rows x 272 columns]"
      ]
     },
     "execution_count": 10,
     "metadata": {},
     "output_type": "execute_result"
    }
   ],
   "source": [
    "df_FULL.head(5)"
   ]
  },
  {
   "cell_type": "markdown",
   "id": "0c20409f-1f99-4bac-b016-80745630045d",
   "metadata": {},
   "source": [
    "#### FILTRES 200 inscrits"
   ]
  },
  {
   "cell_type": "code",
   "execution_count": 12,
   "id": "a973eee8-4b3f-4ead-ad31-f3ba2f1c4170",
   "metadata": {},
   "outputs": [
    {
     "name": "stdout",
     "output_type": "stream",
     "text": [
      "['01001', '01002', '01004', '01005', '01007', '01008', '01009', '01010', '01011', '01012'] 23973\n"
     ]
    }
   ],
   "source": [
    "# Specify the file path\n",
    "file_path = '../DATA/DATA_240131B/list_codecommune_leg2022_200inscrits.txt'\n",
    "\n",
    "# Open the text file and read lines into a list\n",
    "with open(file_path, 'r', encoding='utf-8') as file:\n",
    "    lines = [line.strip() for line in file.readlines()]\n",
    "\n",
    "# Print or manipulate the list of lines as needed\n",
    "print(lines[0:10], len(lines))"
   ]
  },
  {
   "cell_type": "code",
   "execution_count": 13,
   "id": "2f9e7696-2025-4145-9235-a59f61721197",
   "metadata": {},
   "outputs": [],
   "source": [
    "index_suppr = ['13201','13202','13203','13204','13205','13206','13207','13208','13209','13210','13211','13212','13213','13214','13215','13216',\n",
    "               '69380','69381','69382','69383','69384','69385','69386','69387','69388','69389','75056']\n"
   ]
  },
  {
   "cell_type": "code",
   "execution_count": 14,
   "id": "235fb8cf-f87d-4afa-846f-4f16f3ee0864",
   "metadata": {},
   "outputs": [
    {
     "data": {
      "text/plain": [
       "23946"
      ]
     },
     "execution_count": 14,
     "metadata": {},
     "output_type": "execute_result"
    }
   ],
   "source": [
    "linesC = list(set(lines) - set(index_suppr))\n",
    "len (linesC)"
   ]
  },
  {
   "cell_type": "code",
   "execution_count": 15,
   "id": "daeb1b9a-64fe-497d-a70e-f1659d4bf987",
   "metadata": {},
   "outputs": [
    {
     "data": {
      "text/plain": [
       "((23946, 272), (33803, 272))"
      ]
     },
     "execution_count": 15,
     "metadata": {},
     "output_type": "execute_result"
    }
   ],
   "source": [
    "df_filtered = df_FULL[df_FULL['codecommune'].isin(linesC)]\n",
    "df_filtered.shape,df_FULL.shape"
   ]
  },
  {
   "cell_type": "markdown",
   "id": "b5d8ecf7-4402-46b1-aecc-675879cb1706",
   "metadata": {},
   "source": [
    "# SLPIT"
   ]
  },
  {
   "cell_type": "code",
   "execution_count": 16,
   "id": "4042a267-6f0c-4aea-9546-4b87ff872cb9",
   "metadata": {},
   "outputs": [
    {
     "data": {
      "text/plain": [
       "(23946, 4)"
      ]
     },
     "execution_count": 16,
     "metadata": {},
     "output_type": "execute_result"
    }
   ],
   "source": [
    "df_infoC = df_filtered.iloc[:, -4:] \n",
    "df_infoC.shape"
   ]
  },
  {
   "cell_type": "code",
   "execution_count": 17,
   "id": "7b5c5e52-1a6f-4da1-831d-91dc2a6b2fb9",
   "metadata": {},
   "outputs": [
    {
     "data": {
      "text/plain": [
       "(23946, 268)"
      ]
     },
     "execution_count": 17,
     "metadata": {},
     "output_type": "execute_result"
    }
   ],
   "source": [
    "df_XY = df_filtered.iloc[:, 0:-4] \n",
    "df_XY.shape"
   ]
  },
  {
   "cell_type": "code",
   "execution_count": 18,
   "id": "e15673fb-577e-4e71-8e41-6ef42200f125",
   "metadata": {},
   "outputs": [
    {
     "data": {
      "text/plain": [
       "((23946, 261), (23946, 7))"
      ]
     },
     "execution_count": 18,
     "metadata": {},
     "output_type": "execute_result"
    }
   ],
   "source": [
    "# SPLIT\n",
    "y = df_XY.filter(like='YYY', axis=1)\n",
    "# Filter columns NOT starting with 'YYY'\n",
    "X = df_XY.loc[:, ~df.columns.str.startswith('YYY')]\n",
    "X.shape, y.shape"
   ]
  },
  {
   "cell_type": "code",
   "execution_count": 19,
   "id": "a63b790c-6db8-4bc4-b573-8ea2d3600ead",
   "metadata": {},
   "outputs": [
    {
     "name": "stdout",
     "output_type": "stream",
     "text": [
      "       YYY_pvoixNUP  YYY_pvoixECO  YYY_pvoixENS  YYY_pvoixLR_UDI  \\\n",
      "key                                                                \n",
      "01001      0.153392      0.023599      0.147493         0.271386   \n",
      "01002      0.343750      0.000000      0.000000         0.109375   \n",
      "01004      0.298106      0.000000      0.000000         0.087488   \n",
      "01005      0.160772      0.024116      0.178457         0.204180   \n",
      "01007      0.251241      0.000000      0.000000         0.049652   \n",
      "...             ...           ...           ...              ...   \n",
      "95675      0.235772      0.010840      0.157182         0.165312   \n",
      "95676      0.140351      0.087719      0.232456         0.166667   \n",
      "95678      0.184874      0.047619      0.282913         0.131653   \n",
      "95680      0.460476      0.010000      0.235714         0.031667   \n",
      "95690      0.161677      0.083832      0.305389         0.209581   \n",
      "\n",
      "       YYY_pvoixEXTREMD  YYY_pvoixCENTRE  YYY_pvoixOTR  \n",
      "key                                                     \n",
      "01001          0.318584         0.073746      0.011799  \n",
      "01002          0.078125         0.437500      0.031250  \n",
      "01004          0.262961         0.321037      0.030409  \n",
      "01005          0.376206         0.048232      0.008039  \n",
      "01007          0.290963         0.397219      0.010924  \n",
      "...                 ...              ...           ...  \n",
      "95675          0.371274         0.040650      0.018970  \n",
      "95676          0.328947         0.026316      0.017544  \n",
      "95678          0.296919         0.025210      0.030812  \n",
      "95680          0.132619         0.105476      0.024048  \n",
      "95690          0.221557         0.017964      0.000000  \n",
      "\n",
      "[23946 rows x 7 columns]\n"
     ]
    }
   ],
   "source": [
    "print(y)"
   ]
  },
  {
   "cell_type": "code",
   "execution_count": 20,
   "id": "6b9f69e5-85dc-4e93-909d-e1b1c353eba6",
   "metadata": {},
   "outputs": [
    {
     "data": {
      "text/plain": [
       "'TAR_inscrits'"
      ]
     },
     "execution_count": 20,
     "metadata": {},
     "output_type": "execute_result"
    }
   ],
   "source": [
    "titr_cols_list = X.columns.tolist()\n",
    "titr_cols_list[0]"
   ]
  },
  {
   "cell_type": "markdown",
   "id": "f6633db7-2998-41c0-949b-aac6ed3cd38b",
   "metadata": {},
   "source": [
    "### Cumul YYY TODO "
   ]
  },
  {
   "cell_type": "code",
   "execution_count": 21,
   "id": "b1a37e10-a4b8-457a-abe5-1e395c5aecaf",
   "metadata": {},
   "outputs": [
    {
     "name": "stdout",
     "output_type": "stream",
     "text": [
      "X_train shape :  (21551, 261)\n",
      "X_test shape :  (2395, 261)\n",
      "y_train shape :  (21551, 7)\n",
      "y_test shape :  (2395, 7)\n"
     ]
    }
   ],
   "source": [
    "X_train, X_test, y_train, y_test = train_test_split(X, y, test_size=0.1, random_state=42)\n",
    "print('X_train shape : ', X_train.shape)\n",
    "print('X_test shape : ', X_test.shape)\n",
    "print('y_train shape : ', y_train.shape)\n",
    "print('y_test shape : ', y_test.shape)"
   ]
  },
  {
   "cell_type": "markdown",
   "id": "bcbbdaac-bd7a-412f-b586-3e1130365c61",
   "metadata": {},
   "source": [
    "### StandardScaler"
   ]
  },
  {
   "cell_type": "code",
   "execution_count": 22,
   "id": "6cd6ca9c-3da0-4cc0-95d7-f5e3786be9f1",
   "metadata": {},
   "outputs": [],
   "source": [
    "scaler = StandardScaler()\n",
    "X_train_scaled = scaler.fit_transform(X_train)\n",
    "X_test_scaled = scaler.transform(X_test)"
   ]
  },
  {
   "cell_type": "code",
   "execution_count": 23,
   "id": "52a638f6-b7ec-42de-8844-653a5f84e9a3",
   "metadata": {},
   "outputs": [
    {
     "data": {
      "text/plain": [
       "{'YYY_pvoixCENTRE',\n",
       " 'YYY_pvoixECO',\n",
       " 'YYY_pvoixENS',\n",
       " 'YYY_pvoixEXTREMD',\n",
       " 'YYY_pvoixLR_UDI',\n",
       " 'YYY_pvoixNUP',\n",
       " 'YYY_pvoixOTR'}"
      ]
     },
     "execution_count": 23,
     "metadata": {},
     "output_type": "execute_result"
    }
   ],
   "source": [
    "set(y)"
   ]
  },
  {
   "cell_type": "code",
   "execution_count": 24,
   "id": "77035314-f9b6-4e42-9ee2-e834e40ad434",
   "metadata": {},
   "outputs": [
    {
     "data": {
      "text/html": [
       "<div>\n",
       "<style scoped>\n",
       "    .dataframe tbody tr th:only-of-type {\n",
       "        vertical-align: middle;\n",
       "    }\n",
       "\n",
       "    .dataframe tbody tr th {\n",
       "        vertical-align: top;\n",
       "    }\n",
       "\n",
       "    .dataframe thead th {\n",
       "        text-align: right;\n",
       "    }\n",
       "</style>\n",
       "<table border=\"1\" class=\"dataframe\">\n",
       "  <thead>\n",
       "    <tr style=\"text-align: right;\">\n",
       "      <th></th>\n",
       "      <th>YYY_pvoixNUP</th>\n",
       "      <th>YYY_pvoixECO</th>\n",
       "      <th>YYY_pvoixENS</th>\n",
       "      <th>YYY_pvoixLR_UDI</th>\n",
       "      <th>YYY_pvoixEXTREMD</th>\n",
       "      <th>YYY_pvoixCENTRE</th>\n",
       "      <th>YYY_pvoixOTR</th>\n",
       "    </tr>\n",
       "    <tr>\n",
       "      <th>key</th>\n",
       "      <th></th>\n",
       "      <th></th>\n",
       "      <th></th>\n",
       "      <th></th>\n",
       "      <th></th>\n",
       "      <th></th>\n",
       "      <th></th>\n",
       "    </tr>\n",
       "  </thead>\n",
       "  <tbody>\n",
       "    <tr>\n",
       "      <th>01001</th>\n",
       "      <td>0.153392</td>\n",
       "      <td>0.023599</td>\n",
       "      <td>0.147493</td>\n",
       "      <td>0.271386</td>\n",
       "      <td>0.318584</td>\n",
       "      <td>0.073746</td>\n",
       "      <td>0.011799</td>\n",
       "    </tr>\n",
       "    <tr>\n",
       "      <th>01002</th>\n",
       "      <td>0.343750</td>\n",
       "      <td>0.000000</td>\n",
       "      <td>0.000000</td>\n",
       "      <td>0.109375</td>\n",
       "      <td>0.078125</td>\n",
       "      <td>0.437500</td>\n",
       "      <td>0.031250</td>\n",
       "    </tr>\n",
       "    <tr>\n",
       "      <th>01004</th>\n",
       "      <td>0.298106</td>\n",
       "      <td>0.000000</td>\n",
       "      <td>0.000000</td>\n",
       "      <td>0.087488</td>\n",
       "      <td>0.262961</td>\n",
       "      <td>0.321037</td>\n",
       "      <td>0.030409</td>\n",
       "    </tr>\n",
       "    <tr>\n",
       "      <th>01005</th>\n",
       "      <td>0.160772</td>\n",
       "      <td>0.024116</td>\n",
       "      <td>0.178457</td>\n",
       "      <td>0.204180</td>\n",
       "      <td>0.376206</td>\n",
       "      <td>0.048232</td>\n",
       "      <td>0.008039</td>\n",
       "    </tr>\n",
       "    <tr>\n",
       "      <th>01007</th>\n",
       "      <td>0.251241</td>\n",
       "      <td>0.000000</td>\n",
       "      <td>0.000000</td>\n",
       "      <td>0.049652</td>\n",
       "      <td>0.290963</td>\n",
       "      <td>0.397219</td>\n",
       "      <td>0.010924</td>\n",
       "    </tr>\n",
       "    <tr>\n",
       "      <th>...</th>\n",
       "      <td>...</td>\n",
       "      <td>...</td>\n",
       "      <td>...</td>\n",
       "      <td>...</td>\n",
       "      <td>...</td>\n",
       "      <td>...</td>\n",
       "      <td>...</td>\n",
       "    </tr>\n",
       "    <tr>\n",
       "      <th>95675</th>\n",
       "      <td>0.235772</td>\n",
       "      <td>0.010840</td>\n",
       "      <td>0.157182</td>\n",
       "      <td>0.165312</td>\n",
       "      <td>0.371274</td>\n",
       "      <td>0.040650</td>\n",
       "      <td>0.018970</td>\n",
       "    </tr>\n",
       "    <tr>\n",
       "      <th>95676</th>\n",
       "      <td>0.140351</td>\n",
       "      <td>0.087719</td>\n",
       "      <td>0.232456</td>\n",
       "      <td>0.166667</td>\n",
       "      <td>0.328947</td>\n",
       "      <td>0.026316</td>\n",
       "      <td>0.017544</td>\n",
       "    </tr>\n",
       "    <tr>\n",
       "      <th>95678</th>\n",
       "      <td>0.184874</td>\n",
       "      <td>0.047619</td>\n",
       "      <td>0.282913</td>\n",
       "      <td>0.131653</td>\n",
       "      <td>0.296919</td>\n",
       "      <td>0.025210</td>\n",
       "      <td>0.030812</td>\n",
       "    </tr>\n",
       "    <tr>\n",
       "      <th>95680</th>\n",
       "      <td>0.460476</td>\n",
       "      <td>0.010000</td>\n",
       "      <td>0.235714</td>\n",
       "      <td>0.031667</td>\n",
       "      <td>0.132619</td>\n",
       "      <td>0.105476</td>\n",
       "      <td>0.024048</td>\n",
       "    </tr>\n",
       "    <tr>\n",
       "      <th>95690</th>\n",
       "      <td>0.161677</td>\n",
       "      <td>0.083832</td>\n",
       "      <td>0.305389</td>\n",
       "      <td>0.209581</td>\n",
       "      <td>0.221557</td>\n",
       "      <td>0.017964</td>\n",
       "      <td>0.000000</td>\n",
       "    </tr>\n",
       "  </tbody>\n",
       "</table>\n",
       "<p>23946 rows × 7 columns</p>\n",
       "</div>"
      ],
      "text/plain": [
       "       YYY_pvoixNUP  YYY_pvoixECO  YYY_pvoixENS  YYY_pvoixLR_UDI  \\\n",
       "key                                                                \n",
       "01001      0.153392      0.023599      0.147493         0.271386   \n",
       "01002      0.343750      0.000000      0.000000         0.109375   \n",
       "01004      0.298106      0.000000      0.000000         0.087488   \n",
       "01005      0.160772      0.024116      0.178457         0.204180   \n",
       "01007      0.251241      0.000000      0.000000         0.049652   \n",
       "...             ...           ...           ...              ...   \n",
       "95675      0.235772      0.010840      0.157182         0.165312   \n",
       "95676      0.140351      0.087719      0.232456         0.166667   \n",
       "95678      0.184874      0.047619      0.282913         0.131653   \n",
       "95680      0.460476      0.010000      0.235714         0.031667   \n",
       "95690      0.161677      0.083832      0.305389         0.209581   \n",
       "\n",
       "       YYY_pvoixEXTREMD  YYY_pvoixCENTRE  YYY_pvoixOTR  \n",
       "key                                                     \n",
       "01001          0.318584         0.073746      0.011799  \n",
       "01002          0.078125         0.437500      0.031250  \n",
       "01004          0.262961         0.321037      0.030409  \n",
       "01005          0.376206         0.048232      0.008039  \n",
       "01007          0.290963         0.397219      0.010924  \n",
       "...                 ...              ...           ...  \n",
       "95675          0.371274         0.040650      0.018970  \n",
       "95676          0.328947         0.026316      0.017544  \n",
       "95678          0.296919         0.025210      0.030812  \n",
       "95680          0.132619         0.105476      0.024048  \n",
       "95690          0.221557         0.017964      0.000000  \n",
       "\n",
       "[23946 rows x 7 columns]"
      ]
     },
     "execution_count": 24,
     "metadata": {},
     "output_type": "execute_result"
    }
   ],
   "source": [
    "y"
   ]
  },
  {
   "cell_type": "markdown",
   "id": "f2c50e74-c436-452a-bd21-6c75a13a0292",
   "metadata": {},
   "source": [
    "## xgboost as xgb verion 0"
   ]
  },
  {
   "cell_type": "code",
   "execution_count": 123,
   "id": "e49210ef-0f1c-436a-a078-2ce13f18cf9d",
   "metadata": {},
   "outputs": [
    {
     "name": "stdout",
     "output_type": "stream",
     "text": [
      "Mean Squared Error for y1: 0.000166\n",
      "Mean Squared Error for y2: 0.005610\n",
      "Mean Squared Error for y3: 0.002537\n",
      "Mean Squared Error for y4: 0.000348\n",
      "Mean Squared Error for y5: 0.001100\n",
      "Mean Squared Error for y6: 0.006538\n",
      "Mean Squared Error for y7: 0.001184\n",
      "Mean Squared Error for y8: 0.008721\n",
      "Mean Squared Error for y9: 0.003891\n",
      "Mean Squared Error for y10: 0.000666\n",
      "Mean Squared Error for y11: 0.004826\n"
     ]
    }
   ],
   "source": [
    "# model = xgb.XGBRegressor(objective='reg:squarederror')\n",
    "\n",
    "# # Train the model separately for each dimension of y\n",
    "# for i in range(y_train.shape[1]):\n",
    "#     model.fit(X_train, y_train.iloc[:, i])\n",
    "#     y_pred = model.predict(X_test)\n",
    "#     mse = mean_squared_error(y_test.iloc[:, i], y_pred)\n",
    "#     print(f\"Mean Squared Error for y{i+1}: {mse:.6f}\")"
   ]
  },
  {
   "cell_type": "markdown",
   "id": "fadb2e5e-c34d-4cbb-8b26-3d50f8801c57",
   "metadata": {},
   "source": [
    "## Random Forest as xgb verion 1"
   ]
  },
  {
   "cell_type": "code",
   "execution_count": 25,
   "id": "cf37cf52-9d9f-451d-b03d-63f1d6836b01",
   "metadata": {},
   "outputs": [
    {
     "data": {
      "text/html": [
       "<style>#sk-container-id-1 {color: black;}#sk-container-id-1 pre{padding: 0;}#sk-container-id-1 div.sk-toggleable {background-color: white;}#sk-container-id-1 label.sk-toggleable__label {cursor: pointer;display: block;width: 100%;margin-bottom: 0;padding: 0.3em;box-sizing: border-box;text-align: center;}#sk-container-id-1 label.sk-toggleable__label-arrow:before {content: \"▸\";float: left;margin-right: 0.25em;color: #696969;}#sk-container-id-1 label.sk-toggleable__label-arrow:hover:before {color: black;}#sk-container-id-1 div.sk-estimator:hover label.sk-toggleable__label-arrow:before {color: black;}#sk-container-id-1 div.sk-toggleable__content {max-height: 0;max-width: 0;overflow: hidden;text-align: left;background-color: #f0f8ff;}#sk-container-id-1 div.sk-toggleable__content pre {margin: 0.2em;color: black;border-radius: 0.25em;background-color: #f0f8ff;}#sk-container-id-1 input.sk-toggleable__control:checked~div.sk-toggleable__content {max-height: 200px;max-width: 100%;overflow: auto;}#sk-container-id-1 input.sk-toggleable__control:checked~label.sk-toggleable__label-arrow:before {content: \"▾\";}#sk-container-id-1 div.sk-estimator input.sk-toggleable__control:checked~label.sk-toggleable__label {background-color: #d4ebff;}#sk-container-id-1 div.sk-label input.sk-toggleable__control:checked~label.sk-toggleable__label {background-color: #d4ebff;}#sk-container-id-1 input.sk-hidden--visually {border: 0;clip: rect(1px 1px 1px 1px);clip: rect(1px, 1px, 1px, 1px);height: 1px;margin: -1px;overflow: hidden;padding: 0;position: absolute;width: 1px;}#sk-container-id-1 div.sk-estimator {font-family: monospace;background-color: #f0f8ff;border: 1px dotted black;border-radius: 0.25em;box-sizing: border-box;margin-bottom: 0.5em;}#sk-container-id-1 div.sk-estimator:hover {background-color: #d4ebff;}#sk-container-id-1 div.sk-parallel-item::after {content: \"\";width: 100%;border-bottom: 1px solid gray;flex-grow: 1;}#sk-container-id-1 div.sk-label:hover label.sk-toggleable__label {background-color: #d4ebff;}#sk-container-id-1 div.sk-serial::before {content: \"\";position: absolute;border-left: 1px solid gray;box-sizing: border-box;top: 0;bottom: 0;left: 50%;z-index: 0;}#sk-container-id-1 div.sk-serial {display: flex;flex-direction: column;align-items: center;background-color: white;padding-right: 0.2em;padding-left: 0.2em;position: relative;}#sk-container-id-1 div.sk-item {position: relative;z-index: 1;}#sk-container-id-1 div.sk-parallel {display: flex;align-items: stretch;justify-content: center;background-color: white;position: relative;}#sk-container-id-1 div.sk-item::before, #sk-container-id-1 div.sk-parallel-item::before {content: \"\";position: absolute;border-left: 1px solid gray;box-sizing: border-box;top: 0;bottom: 0;left: 50%;z-index: -1;}#sk-container-id-1 div.sk-parallel-item {display: flex;flex-direction: column;z-index: 1;position: relative;background-color: white;}#sk-container-id-1 div.sk-parallel-item:first-child::after {align-self: flex-end;width: 50%;}#sk-container-id-1 div.sk-parallel-item:last-child::after {align-self: flex-start;width: 50%;}#sk-container-id-1 div.sk-parallel-item:only-child::after {width: 0;}#sk-container-id-1 div.sk-dashed-wrapped {border: 1px dashed gray;margin: 0 0.4em 0.5em 0.4em;box-sizing: border-box;padding-bottom: 0.4em;background-color: white;}#sk-container-id-1 div.sk-label label {font-family: monospace;font-weight: bold;display: inline-block;line-height: 1.2em;}#sk-container-id-1 div.sk-label-container {text-align: center;}#sk-container-id-1 div.sk-container {/* jupyter's `normalize.less` sets `[hidden] { display: none; }` but bootstrap.min.css set `[hidden] { display: none !important; }` so we also need the `!important` here to be able to override the default hidden behavior on the sphinx rendered scikit-learn.org. See: https://github.com/scikit-learn/scikit-learn/issues/21755 */display: inline-block !important;position: relative;}#sk-container-id-1 div.sk-text-repr-fallback {display: none;}</style><div id=\"sk-container-id-1\" class=\"sk-top-container\"><div class=\"sk-text-repr-fallback\"><pre>MultiOutputRegressor(estimator=RandomForestRegressor())</pre><b>In a Jupyter environment, please rerun this cell to show the HTML representation or trust the notebook. <br />On GitHub, the HTML representation is unable to render, please try loading this page with nbviewer.org.</b></div><div class=\"sk-container\" hidden><div class=\"sk-item sk-dashed-wrapped\"><div class=\"sk-label-container\"><div class=\"sk-label sk-toggleable\"><input class=\"sk-toggleable__control sk-hidden--visually\" id=\"sk-estimator-id-1\" type=\"checkbox\" ><label for=\"sk-estimator-id-1\" class=\"sk-toggleable__label sk-toggleable__label-arrow\">MultiOutputRegressor</label><div class=\"sk-toggleable__content\"><pre>MultiOutputRegressor(estimator=RandomForestRegressor())</pre></div></div></div><div class=\"sk-parallel\"><div class=\"sk-parallel-item\"><div class=\"sk-item\"><div class=\"sk-label-container\"><div class=\"sk-label sk-toggleable\"><input class=\"sk-toggleable__control sk-hidden--visually\" id=\"sk-estimator-id-2\" type=\"checkbox\" ><label for=\"sk-estimator-id-2\" class=\"sk-toggleable__label sk-toggleable__label-arrow\">estimator: RandomForestRegressor</label><div class=\"sk-toggleable__content\"><pre>RandomForestRegressor()</pre></div></div></div><div class=\"sk-serial\"><div class=\"sk-item\"><div class=\"sk-estimator sk-toggleable\"><input class=\"sk-toggleable__control sk-hidden--visually\" id=\"sk-estimator-id-3\" type=\"checkbox\" ><label for=\"sk-estimator-id-3\" class=\"sk-toggleable__label sk-toggleable__label-arrow\">RandomForestRegressor</label><div class=\"sk-toggleable__content\"><pre>RandomForestRegressor()</pre></div></div></div></div></div></div></div></div></div></div>"
      ],
      "text/plain": [
       "MultiOutputRegressor(estimator=RandomForestRegressor())"
      ]
     },
     "execution_count": 25,
     "metadata": {},
     "output_type": "execute_result"
    }
   ],
   "source": [
    "# import xgboost as xgb\n",
    "from sklearn.multioutput import MultiOutputRegressor\n",
    "from sklearn.ensemble import RandomForestRegressor\n",
    "\n",
    "RF_model = RandomForestRegressor()\n",
    "\n",
    "# fitting\n",
    "# Créer un modèle MultiOutputRegressor avec LightGBM\n",
    "multioutput_model = MultiOutputRegressor(RF_model)\n",
    "\n",
    "# Entraîner le modèle\n",
    "multioutput_model.fit(X_train_scaled, y_train)\n",
    "\n"
   ]
  },
  {
   "cell_type": "code",
   "execution_count": 26,
   "id": "3b398423-b51a-4eb6-b2d0-e3739edad4ea",
   "metadata": {},
   "outputs": [
    {
     "name": "stdout",
     "output_type": "stream",
     "text": [
      "YYY_pvoixNUP        0.004041\n",
      "YYY_pvoixECO        0.000319\n",
      "YYY_pvoixENS        0.004729\n",
      "YYY_pvoixLR_UDI     0.005522\n",
      "YYY_pvoixEXTREMD    0.003535\n",
      "YYY_pvoixCENTRE     0.003945\n",
      "YYY_pvoixOTR        0.000760\n",
      "dtype: float64\n"
     ]
    }
   ],
   "source": [
    "# predicting\n",
    "print(np.mean((multioutput_model.predict(X_test_scaled ) - y_test)**2, axis=0))"
   ]
  },
  {
   "cell_type": "code",
   "execution_count": 28,
   "id": "c1749035-5053-4282-b40a-084b92dcf4ce",
   "metadata": {},
   "outputs": [
    {
     "data": {
      "text/plain": [
       "(1, 7)"
      ]
     },
     "execution_count": 28,
     "metadata": {},
     "output_type": "execute_result"
    }
   ],
   "source": [
    "pred0 = multioutput_model.predict([X_test_scaled[0]]) \n",
    "pred0.shape"
   ]
  },
  {
   "cell_type": "code",
   "execution_count": 29,
   "id": "e8dbe49e-aed8-4aa7-8f44-58e1504c0b13",
   "metadata": {},
   "outputs": [
    {
     "data": {
      "text/plain": [
       "YYY_pvoixNUP        0.269939\n",
       "YYY_pvoixECO        0.012270\n",
       "YYY_pvoixENS        0.429448\n",
       "YYY_pvoixLR_UDI     0.000000\n",
       "YYY_pvoixEXTREMD    0.245399\n",
       "YYY_pvoixCENTRE     0.036810\n",
       "YYY_pvoixOTR        0.006135\n",
       "Name: 38404, dtype: float64"
      ]
     },
     "execution_count": 29,
     "metadata": {},
     "output_type": "execute_result"
    }
   ],
   "source": [
    "y_test.iloc[0]"
   ]
  },
  {
   "cell_type": "code",
   "execution_count": 30,
   "id": "614305eb-11e2-4576-9b39-49da79d33a6d",
   "metadata": {},
   "outputs": [
    {
     "data": {
      "text/plain": [
       "['NUP', 'ECO', 'ENS', 'LR_UDI', 'EXTREMD', 'CENTRE', 'OTR']"
      ]
     },
     "execution_count": 30,
     "metadata": {},
     "output_type": "execute_result"
    }
   ],
   "source": [
    "target_title=[]\n",
    "for c in y_test : \n",
    "    target_title.append(c[9:])\n",
    "target_title  "
   ]
  },
  {
   "cell_type": "code",
   "execution_count": 32,
   "id": "e7815bb0-b316-4b57-b830-5921724d0f44",
   "metadata": {},
   "outputs": [
    {
     "name": "stdout",
     "output_type": "stream",
     "text": [
      "X: 2334\n",
      "dep                     12\n",
      "nomdep             AVEYRON\n",
      "codecommune          12089\n",
      "nomcommune     DECAZEVILLE\n",
      "Name: 12089, dtype: object\n",
      "NUP : 0.22525314777 > 0.18277946  >>>  0.04247368776999999  >>>  0.1885597967908033\n",
      "ECO : 0.016845886126000006 > 0.011077543  >>>  0.005768343126000006  >>>  0.3424185040107283\n",
      "ENS : 0.21358753420999999 > 0.21399799  >>>  -0.00041045579000001386  >>>  -0.0019217216562669446\n",
      "LR_UDI : 0.046207096842199966 > 0.044310171  >>>  0.0018969258421999632  >>>  0.041052694755484856\n",
      "EXTREMD : 0.35276109763999985 > 0.431520629  >>>  -0.07875953136000013  >>>  -0.22326592100690168\n",
      "CENTRE : 0.08702432498900001 > 0.083585096  >>>  0.0034392289890000094  >>>  0.039520317904617276\n",
      "OTR : 0.04746408249999999 > 0.0327291038  >>>  0.014734978699999991  >>>  0.3104448231986786\n"
     ]
    }
   ],
   "source": [
    "import random \n",
    "x = np.random.randint(len(y_test))\n",
    "print ('X:',x)\n",
    "print (df_infoC.iloc[x])\n",
    "pred = multioutput_model.predict([X_test_scaled[x]]) \n",
    "for i in range (len(pred[0])) :\n",
    "    print (target_title[i] , ':', pred[0][i], '>', y_test.iloc[x,i] ,' >>> ', pred[0][i] - y_test.iloc[x,i],' >>> ', (pred[0][i] - y_test.iloc[x,i])/pred[0][i])"
   ]
  },
  {
   "cell_type": "code",
   "execution_count": null,
   "id": "3df2c865",
   "metadata": {},
   "outputs": [],
   "source": [
    "# X: 1475\n",
    "# dep                                 04\n",
    "# nomdep         ALPES-DE-HAUTE-PROVENCE\n",
    "# codecommune                      04013\n",
    "# nomcommune                   AUBIGNOSC\n",
    "# Name: 04013, dtype: object\n",
    "# AUG : 0.019658107 > 0.012948208  >>>  0.006709899310533524  >>>  0.3413298749741852\n",
    "# NUP : 0.28878126 > 0.27191234  >>>  0.016868915483627345  >>>  0.05841416353487577\n",
    "# DVG : 0.026710555 > 0.0  >>>  0.02671055495738983  >>>  1.0\n",
    "# ECO : 0.02362611 > 0.04681275  >>>  -0.023186640414834023  >>>  -0.9813990039812613\n",
    "# REG : 0.016958749 > 0.0  >>>  0.016958748921751976  >>>  1.0\n",
    "# ENS : 0.15867114 > 0.24601594  >>>  -0.08734479932922362  >>>  -0.5504769106718255\n",
    "# UDI : 0.0010576048 > 0.0  >>>  0.001057604793459177  >>>  1.0\n",
    "# LR : 0.050214782 > 0.0  >>>  0.05021478235721588  >>>  1.0\n",
    "# DVD : 0.033202764 > 0.070717134  >>>  -0.03751437035315895  >>>  -1.1298568622834537\n",
    "# REC : 0.037619688 > 0.048804782  >>>  -0.011185094383174894  >>>  -0.2973202355399796\n",
    "# RN : 0.29964826 > 0.30278885  >>>  -0.003140594890213011  >>>  -0.010480938355747609"
   ]
  },
  {
   "cell_type": "code",
   "execution_count": 33,
   "id": "4c3c0d42-99bb-4ac9-916a-65fa4a28fea6",
   "metadata": {},
   "outputs": [
    {
     "data": {
      "image/png": "[encoded data removed]",
      "text/plain": [
       "<Figure size 1200x600 with 2 Axes>"
      ]
     },
     "metadata": {},
     "output_type": "display_data"
    }
   ],
   "source": [
    "import matplotlib.pyplot as plt\n",
    "\n",
    "values1 = y_test.iloc[x]\n",
    "values2 = pred[0]\n",
    "# Create a figure with two subplots\n",
    "fig, axs = plt.subplots(1, 2, figsize=(12, 6))\n",
    "\n",
    "# Plot the first pie chart\n",
    "axs[0].pie(values1, labels=target_title , autopct='%1.1f%%', startangle=90)\n",
    "axs[0].set_title('MODEL')\n",
    "\n",
    "# Plot the second pie chart\n",
    "axs[1].pie(values2, labels=target_title , autopct='%1.1f%%', startangle=90)\n",
    "axs[1].set_title('REALITE')\n",
    "\n",
    "# Adjust layout\n",
    "plt.tight_layout()\n",
    "\n",
    "# Show the plot\n",
    "plt.show()"
   ]
  },
  {
   "cell_type": "code",
   "execution_count": 35,
   "id": "a133dc70-9331-474a-8be7-40db8086c272",
   "metadata": {},
   "outputs": [],
   "source": [
    "feature_importances_target1 = multioutput_model.estimators_[0].feature_importances_\n",
    "arg_importances_target1 = multioutput_model.estimators_[0].feature_importances_.argsort()[::-1][:10]\n",
    "feature_importances_target2 = multioutput_model.estimators_[1].feature_importances_\n",
    "arg_importances_target1 = multioutput_model.estimators_[1].feature_importances_.argsort()[::-1][:10]"
   ]
  },
  {
   "cell_type": "code",
   "execution_count": 36,
   "id": "d1c0125a-6d4c-45f7-bd54-fff2cd76ad3a",
   "metadata": {},
   "outputs": [
    {
     "data": {
      "text/plain": [
       "(0.1586579642157784, 0.0003790158010628282)"
      ]
     },
     "execution_count": 36,
     "metadata": {},
     "output_type": "execute_result"
    }
   ],
   "source": [
    "feature_importances_target1.max(),feature_importances_target1.min()"
   ]
  },
  {
   "cell_type": "code",
   "execution_count": 37,
   "id": "527daff5-ec12-4a7d-bf11-7dac755fb8ae",
   "metadata": {},
   "outputs": [
    {
     "data": {
      "text/plain": [
       "(array([127, 212, 145, 126, 213, 143, 214, 137, 132, 215]),\n",
       " array([0.00050479, 0.00063731, 0.00052612, 0.00037902, 0.00156186,\n",
       "        0.00382504, 0.00515521, 0.01162817, 0.00097627, 0.00318421,\n",
       "        0.00194317, 0.00207078, 0.00129696, 0.00135782, 0.002801  ,\n",
       "        0.00206138, 0.00122413, 0.00139994, 0.00322594, 0.00350121,\n",
       "        0.00326279, 0.00342751, 0.00230634, 0.00255073, 0.00280307,\n",
       "        0.00318961, 0.00259283, 0.00303217, 0.00314012, 0.00053481,\n",
       "        0.00271139, 0.00760715, 0.00172826, 0.00089676, 0.00094127,\n",
       "        0.02265514, 0.00149931, 0.00070842, 0.00075938, 0.00327674,\n",
       "        0.00435098, 0.00352346, 0.00320521, 0.0037987 , 0.0030144 ,\n",
       "        0.0032491 , 0.00334187, 0.00241541, 0.00238554, 0.00429831,\n",
       "        0.00043619, 0.00291485, 0.00075786, 0.00084479, 0.00082774,\n",
       "        0.00079268, 0.00082676, 0.00083571, 0.00069871, 0.0006053 ,\n",
       "        0.00283253, 0.0032441 , 0.00332152, 0.00199211, 0.00302838,\n",
       "        0.00331356, 0.00320065, 0.00313493, 0.00184389, 0.0019173 ,\n",
       "        0.00311526, 0.00053869, 0.00271596, 0.00119854, 0.00085858,\n",
       "        0.00102313, 0.00079453, 0.00153559, 0.00101093, 0.00098055,\n",
       "        0.00090604, 0.00305306, 0.00318672, 0.00327741, 0.00287097,\n",
       "        0.00323718, 0.00313618, 0.00393418, 0.00282015, 0.00202383,\n",
       "        0.00235653, 0.0028064 , 0.00167507, 0.00142337, 0.00251175,\n",
       "        0.00075759, 0.00079556, 0.00249764, 0.00134194, 0.00163156,\n",
       "        0.00145667, 0.00179191, 0.00150686, 0.00162114, 0.0028655 ,\n",
       "        0.00151569, 0.00347304, 0.00219003, 0.00234985, 0.00276835,\n",
       "        0.0038039 , 0.00093863, 0.00091443, 0.00301449, 0.00342883,\n",
       "        0.00203342, 0.00246783, 0.00407065, 0.00360408, 0.00407355,\n",
       "        0.00839885, 0.00463763, 0.00109553, 0.00077489, 0.00094247,\n",
       "        0.00123201, 0.08907531, 0.15865796, 0.00214698, 0.001228  ,\n",
       "        0.00232906, 0.00096637, 0.00819035, 0.00228714, 0.00151768,\n",
       "        0.00221531, 0.0009208 , 0.0059816 , 0.00368336, 0.00371741,\n",
       "        0.00440199, 0.00583672, 0.00660964, 0.00477527, 0.00146585,\n",
       "        0.00202542, 0.00105349, 0.0019234 , 0.00189897, 0.00294138,\n",
       "        0.00059931, 0.00057535, 0.00050366, 0.00098544, 0.00168973,\n",
       "        0.00069415, 0.00158452, 0.00040188, 0.00211536, 0.00041523,\n",
       "        0.00370864, 0.00040603, 0.00213942, 0.00138377, 0.00435804,\n",
       "        0.00088933, 0.00097837, 0.00096986, 0.00160247, 0.00176335,\n",
       "        0.00127797, 0.0016167 , 0.00085023, 0.0014386 , 0.00131301,\n",
       "        0.00111963, 0.00314954, 0.00065852, 0.0014099 , 0.0012674 ,\n",
       "        0.00119296, 0.0013977 , 0.00115973, 0.001439  , 0.0009353 ,\n",
       "        0.00153936, 0.00159477, 0.0016371 , 0.00114988, 0.00113861,\n",
       "        0.00113537, 0.00085552, 0.0017138 , 0.00120809, 0.00192486,\n",
       "        0.00135705, 0.00175575, 0.0025194 , 0.0025143 , 0.00176134,\n",
       "        0.00117602, 0.00106225, 0.0010875 , 0.00135576, 0.00178556,\n",
       "        0.0014027 , 0.00197753, 0.00534668, 0.00274941, 0.00233104,\n",
       "        0.00202891, 0.0023532 , 0.01213292, 0.01517576, 0.0094416 ,\n",
       "        0.02119687, 0.00197291, 0.00222196, 0.00194311, 0.00211817,\n",
       "        0.00447459, 0.00579314, 0.00602621, 0.00333088, 0.00473667,\n",
       "        0.00642767, 0.00520449, 0.00342485, 0.00342613, 0.00686532,\n",
       "        0.01198955, 0.00440874, 0.00506254, 0.00979852, 0.00868349,\n",
       "        0.00369945, 0.00419621, 0.00374104, 0.00437855, 0.00356535,\n",
       "        0.00378518, 0.00581098, 0.00468906, 0.00338571, 0.00433917,\n",
       "        0.00600642, 0.00459757, 0.0037238 , 0.00279586, 0.002573  ,\n",
       "        0.00408612, 0.00726991, 0.00367213, 0.00674697, 0.00162214,\n",
       "        0.00188213, 0.00380207, 0.01382202, 0.00382692, 0.00350918,\n",
       "        0.00349387]))"
      ]
     },
     "execution_count": 37,
     "metadata": {},
     "output_type": "execute_result"
    }
   ],
   "source": [
    "arg_importances_target1, feature_importances_target1"
   ]
  },
  {
   "cell_type": "code",
   "execution_count": 38,
   "id": "6a0f9c82-5e3a-40ec-8524-c8f498cfdb79",
   "metadata": {},
   "outputs": [
    {
     "data": {
      "text/plain": [
       "'BFL_tauxhabitation20'"
      ]
     },
     "execution_count": 38,
     "metadata": {},
     "output_type": "execute_result"
    }
   ],
   "source": [
    "titr_cols_list[113]"
   ]
  },
  {
   "cell_type": "code",
   "execution_count": 40,
   "id": "c008f49c-02fc-4b4c-93a7-cff4c2f21456",
   "metadata": {},
   "outputs": [
    {
     "name": "stdout",
     "output_type": "stream",
     "text": [
      "Top Features for Target1:\n",
      "    Feature_Index  Feature_Importance                   info\n",
      "0             127            0.158658          GEO_longitude\n",
      "1             126            0.089075           GEO_latitude\n",
      "2              35            0.022655         AGE_poph014_12\n",
      "3             215            0.021197  CED_nvolsvoitures2020\n",
      "4             213            0.015176  CED_ncambriolages2020\n",
      "5             257            0.013822         NAT_pimmigre12\n",
      "6             212            0.012133  CED_ncambriolages2016\n",
      "7             230            0.011990        CSP_percadr2012\n",
      "8               7            0.011628           RSA_prsa2021\n",
      "9             233            0.009799        CSP_perpint2002\n",
      "10            214            0.009442  CED_nvolsvoitures2016\n",
      "11            234            0.008683        CSP_perpint2012\n",
      "12            120            0.008399       PIB_pibratio2012\n",
      "13            132            0.008190           KP0_prim2_P1\n",
      "14             31            0.007607         AGE_popf014_12\n",
      "15            251            0.007270             TER_surf68\n",
      "16            229            0.006865        CSP_percadr2002\n",
      "17            253            0.006747         NAT_pimmigre22\n",
      "18            142            0.006610      KP1_capitalimmo22\n",
      "19            225            0.006428        CSP_perindp2002\n",
      "20            222            0.006026        CSP_peragri2012\n",
      "21            245            0.006006        CSP_perchom2002\n",
      "22            137            0.005982           KP0_prim2_P2\n",
      "23            141            0.005837      REV_revmoyfoy2022\n",
      "24            241            0.005811        CSP_perouvr2002\n",
      "25            221            0.005793        CSP_peragri2002\n",
      "26            207            0.005347           DIP_supf2012\n",
      "27            226            0.005204        CSP_perindp2012\n",
      "28              6            0.005155           RSA_prsa2017\n",
      "29            232            0.005063        CSP_perpint1992\n",
      "30            143            0.004775         KP1_prixbien22\n",
      "31            224            0.004737        CSP_perindp1992\n",
      "32            242            0.004689        CSP_perouvr2012\n",
      "33            121            0.004638       PIB_pibratio2022\n",
      "34            246            0.004598        CSP_perchom2012\n",
      "35            220            0.004475        CSP_peragri1992\n",
      "36            231            0.004409        CSP_percadr2022\n",
      "37            140            0.004402      REV_revmoyfoy2012\n",
      "38            238            0.004379        CSP_perempl2012\n",
      "39            164            0.004358            EMP_agr2006\n",
      "40             40            0.004351        AGE_prop1539_12\n",
      "41            244            0.004339        CSP_perchom1992\n",
      "42             49            0.004298            AGE_ageh_12\n",
      "43            236            0.004196        CSP_perempl1992\n",
      "44            250            0.004086         TER_nexploit68\n",
      "45            119            0.004074       PIB_pibratio2002\n",
      "46            117            0.004071     BFL_recetteratio20\n",
      "47             87            0.003934       AGE_propf4059_92\n",
      "48            258            0.003827        NAT_pimmnatur12\n",
      "49              5            0.003825           RSA_nrsa2021\n"
     ]
    }
   ],
   "source": [
    "\n",
    "# Access feature importances for the first target\n",
    "feature_importances_target1 = multioutput_model.estimators_[0].feature_importances_\n",
    "\n",
    "# Get the indices of the top 10 features for the first target\n",
    "top_features_indices_target1 = feature_importances_target1.argsort()[::-1][:50]\n",
    "\n",
    "# Create a DataFrame to store the results\n",
    "top_features_df_target1 = pd.DataFrame({\n",
    "    'Feature_Index': top_features_indices_target1,\n",
    "    'Feature_Importance': feature_importances_target1[top_features_indices_target1]\n",
    "})\n",
    "\n",
    "top_features_df_target1['info'] = top_features_df_target1['Feature_Index'].apply(lambda x: titr_cols_list[x])\n",
    "\n",
    "# Print the DataFrame with the top features for the first target\n",
    "print(\"Top Features for Target1:\")\n",
    "print(top_features_df_target1)"
   ]
  },
  {
   "cell_type": "code",
   "execution_count": null,
   "id": "d0fabbaf-584c-4772-9597-3502d14ce8b1",
   "metadata": {},
   "outputs": [],
   "source": []
  },
  {
   "cell_type": "code",
   "execution_count": null,
   "id": "a7297a3e-3b78-43f8-9468-d0005e2078f2",
   "metadata": {},
   "outputs": [],
   "source": []
  },
  {
   "cell_type": "code",
   "execution_count": 40,
   "id": "fbd3ced3-b50b-4ad7-94fd-715660c1bac6",
   "metadata": {},
   "outputs": [
    {
     "data": {
      "text/plain": [
       "array([[ 1.2073030e-02,  2.0008838e-01,  9.6360259e-03,  1.6450570e-03,\n",
       "        -2.7248161e-04,  2.7795851e-01,  1.4061260e-03,  1.9512649e-01,\n",
       "         2.8967749e-02,  3.8176954e-02,  1.7173229e-01]], dtype=float32)"
      ]
     },
     "execution_count": 40,
     "metadata": {},
     "output_type": "execute_result"
    }
   ],
   "source": [
    "pred0"
   ]
  },
  {
   "cell_type": "code",
   "execution_count": 51,
   "id": "a19db921-1747-48a6-bf16-2feef8365c90",
   "metadata": {},
   "outputs": [
    {
     "ename": "AttributeError",
     "evalue": "'MultiOutputRegressor' object has no attribute 'best_estimator_'",
     "output_type": "error",
     "traceback": [
      "\u001b[0;31m---------------------------------------------------------------------------\u001b[0m",
      "\u001b[0;31mAttributeError\u001b[0m                            Traceback (most recent call last)",
      "Cell \u001b[0;32mIn [51], line 1\u001b[0m\n\u001b[0;32m----> 1\u001b[0m \u001b[43mmultioutputregressor\u001b[49m\u001b[38;5;241;43m.\u001b[39;49m\u001b[43mbest_estimator_\u001b[49m\u001b[38;5;241m.\u001b[39mfeature_importances_\n",
      "\u001b[0;31mAttributeError\u001b[0m: 'MultiOutputRegressor' object has no attribute 'best_estimator_'"
     ]
    }
   ],
   "source": [
    "multioutputregressor.best_estimator_.feature_importances_"
   ]
  },
  {
   "cell_type": "code",
   "execution_count": 19,
   "id": "93a30ce7-7313-4b04-b972-4b0cc44ea3b2",
   "metadata": {},
   "outputs": [
    {
     "ename": "ValueError",
     "evalue": "Invalid classes inferred from unique values of `y`.  Expected: [    0     1     2 ... 62762 62763 62764], got [0.0000000e+00 4.5981240e-05 9.7314129e-05 ... 9.5973152e-01 9.7619045e-01\n 1.0000000e+00]",
     "output_type": "error",
     "traceback": [
      "\u001b[0;31m---------------------------------------------------------------------------\u001b[0m",
      "\u001b[0;31mValueError\u001b[0m                                Traceback (most recent call last)",
      "Cell \u001b[0;32mIn [19], line 5\u001b[0m\n\u001b[1;32m      2\u001b[0m model \u001b[38;5;241m=\u001b[39m xgb\u001b[38;5;241m.\u001b[39mXGBClassifier(objective\u001b[38;5;241m=\u001b[39m\u001b[38;5;124m'\u001b[39m\u001b[38;5;124mmulti:softmax\u001b[39m\u001b[38;5;124m'\u001b[39m, num_class\u001b[38;5;241m=\u001b[39m\u001b[38;5;28mlen\u001b[39m(\u001b[38;5;28mset\u001b[39m(y)))\n\u001b[1;32m      4\u001b[0m \u001b[38;5;66;03m# Train the model\u001b[39;00m\n\u001b[0;32m----> 5\u001b[0m \u001b[43mmodel\u001b[49m\u001b[38;5;241;43m.\u001b[39;49m\u001b[43mfit\u001b[49m\u001b[43m(\u001b[49m\u001b[43mX_train_scaled\u001b[49m\u001b[43m,\u001b[49m\u001b[43m \u001b[49m\u001b[43my_train\u001b[49m\u001b[43m)\u001b[49m\n\u001b[1;32m      7\u001b[0m \u001b[38;5;66;03m# Make predictions on the test set\u001b[39;00m\n\u001b[1;32m      8\u001b[0m y_pred \u001b[38;5;241m=\u001b[39m model\u001b[38;5;241m.\u001b[39mpredict(X_test_scaled)\n",
      "File \u001b[0;32m~/.pyenv/versions/3.10.12/envs/artefact/lib/python3.10/site-packages/xgboost/core.py:575\u001b[0m, in \u001b[0;36m_deprecate_positional_args.<locals>.inner_f\u001b[0;34m(*args, **kwargs)\u001b[0m\n\u001b[1;32m    573\u001b[0m \u001b[38;5;28;01mfor\u001b[39;00m k, arg \u001b[38;5;129;01min\u001b[39;00m \u001b[38;5;28mzip\u001b[39m(sig\u001b[38;5;241m.\u001b[39mparameters, args):\n\u001b[1;32m    574\u001b[0m     kwargs[k] \u001b[38;5;241m=\u001b[39m arg\n\u001b[0;32m--> 575\u001b[0m \u001b[38;5;28;01mreturn\u001b[39;00m \u001b[43mf\u001b[49m\u001b[43m(\u001b[49m\u001b[38;5;241;43m*\u001b[39;49m\u001b[38;5;241;43m*\u001b[39;49m\u001b[43mkwargs\u001b[49m\u001b[43m)\u001b[49m\n",
      "File \u001b[0;32m~/.pyenv/versions/3.10.12/envs/artefact/lib/python3.10/site-packages/xgboost/sklearn.py:1357\u001b[0m, in \u001b[0;36mXGBClassifier.fit\u001b[0;34m(self, X, y, sample_weight, base_margin, eval_set, eval_metric, early_stopping_rounds, verbose, xgb_model, sample_weight_eval_set, base_margin_eval_set, feature_weights, callbacks)\u001b[0m\n\u001b[1;32m   1352\u001b[0m     expected_classes \u001b[38;5;241m=\u001b[39m np\u001b[38;5;241m.\u001b[39marange(\u001b[38;5;28mself\u001b[39m\u001b[38;5;241m.\u001b[39mn_classes_)\n\u001b[1;32m   1353\u001b[0m \u001b[38;5;28;01mif\u001b[39;00m (\n\u001b[1;32m   1354\u001b[0m     \u001b[38;5;28mself\u001b[39m\u001b[38;5;241m.\u001b[39mclasses_\u001b[38;5;241m.\u001b[39mshape \u001b[38;5;241m!=\u001b[39m expected_classes\u001b[38;5;241m.\u001b[39mshape\n\u001b[1;32m   1355\u001b[0m     \u001b[38;5;129;01mor\u001b[39;00m \u001b[38;5;129;01mnot\u001b[39;00m (\u001b[38;5;28mself\u001b[39m\u001b[38;5;241m.\u001b[39mclasses_ \u001b[38;5;241m==\u001b[39m expected_classes)\u001b[38;5;241m.\u001b[39mall()\n\u001b[1;32m   1356\u001b[0m ):\n\u001b[0;32m-> 1357\u001b[0m     \u001b[38;5;28;01mraise\u001b[39;00m \u001b[38;5;167;01mValueError\u001b[39;00m(\n\u001b[1;32m   1358\u001b[0m         \u001b[38;5;124mf\u001b[39m\u001b[38;5;124m\"\u001b[39m\u001b[38;5;124mInvalid classes inferred from unique values of `y`.  \u001b[39m\u001b[38;5;124m\"\u001b[39m\n\u001b[1;32m   1359\u001b[0m         \u001b[38;5;124mf\u001b[39m\u001b[38;5;124m\"\u001b[39m\u001b[38;5;124mExpected: \u001b[39m\u001b[38;5;132;01m{\u001b[39;00mexpected_classes\u001b[38;5;132;01m}\u001b[39;00m\u001b[38;5;124m, got \u001b[39m\u001b[38;5;132;01m{\u001b[39;00m\u001b[38;5;28mself\u001b[39m\u001b[38;5;241m.\u001b[39mclasses_\u001b[38;5;132;01m}\u001b[39;00m\u001b[38;5;124m\"\u001b[39m\n\u001b[1;32m   1360\u001b[0m     )\n\u001b[1;32m   1362\u001b[0m params \u001b[38;5;241m=\u001b[39m \u001b[38;5;28mself\u001b[39m\u001b[38;5;241m.\u001b[39mget_xgb_params()\n\u001b[1;32m   1364\u001b[0m \u001b[38;5;28;01mif\u001b[39;00m callable(\u001b[38;5;28mself\u001b[39m\u001b[38;5;241m.\u001b[39mobjective):\n",
      "\u001b[0;31mValueError\u001b[0m: Invalid classes inferred from unique values of `y`.  Expected: [    0     1     2 ... 62762 62763 62764], got [0.0000000e+00 4.5981240e-05 9.7314129e-05 ... 9.5973152e-01 9.7619045e-01\n 1.0000000e+00]"
     ]
    }
   ],
   "source": [
    "# Create an XGBoost classifier\n",
    "model = xgb.XGBClassifier(objective='multi:softmax', num_class=len(set(y)))\n",
    "\n",
    "# Train the model\n",
    "model.fit(X_train_scaled, y_train)\n",
    "\n",
    "# Make predictions on the test set\n",
    "y_pred = model.predict(X_test_scaled)\n",
    "\n",
    "# Evaluate the model\n",
    "accuracy = accuracy_score(y_test, y_pred)\n",
    "print(f\"Accuracy: {accuracy:.2f}\")\n",
    "\n",
    "# Display classification report\n",
    "print(\"Classification Report:\")\n",
    "print(classification_report(y_test, y_pred))"
   ]
  },
  {
   "cell_type": "code",
   "execution_count": 20,
   "id": "0f397303-749b-497a-a7b4-49db03a1a51d",
   "metadata": {},
   "outputs": [
    {
     "name": "stdout",
     "output_type": "stream",
     "text": [
      "Accuracy: 1.00\n",
      "Classification Report:\n",
      "              precision    recall  f1-score   support\n",
      "\n",
      "           0       1.00      1.00      1.00        10\n",
      "           1       1.00      1.00      1.00         9\n",
      "           2       1.00      1.00      1.00        11\n",
      "\n",
      "    accuracy                           1.00        30\n",
      "   macro avg       1.00      1.00      1.00        30\n",
      "weighted avg       1.00      1.00      1.00        30\n",
      "\n"
     ]
    }
   ],
   "source": [
    "import xgboost as xgb\n",
    "from sklearn.datasets import load_iris\n",
    "from sklearn.model_selection import train_test_split\n",
    "from sklearn.metrics import accuracy_score, classification_report\n",
    "\n",
    "# Load the Iris dataset as an example\n",
    "data = load_iris()\n",
    "X = data.data\n",
    "y = data.target\n",
    "\n",
    "# Split the data into training and testing sets\n",
    "X_train, X_test, y_train, y_test = train_test_split(X, y, test_size=0.2, random_state=42)\n",
    "\n",
    "# Create an XGBoost classifier\n",
    "model = xgb.XGBClassifier(objective='multi:softmax', num_class=len(set(y)))\n",
    "\n",
    "# Train the model\n",
    "model.fit(X_train, y_train)\n",
    "\n",
    "# Make predictions on the test set\n",
    "y_pred = model.predict(X_test)\n",
    "\n",
    "# Evaluate the model\n",
    "accuracy = accuracy_score(y_test, y_pred)\n",
    "print(f\"Accuracy: {accuracy:.2f}\")\n",
    "\n",
    "# Display classification report\n",
    "print(\"Classification Report:\")\n",
    "print(classification_report(y_test, y_pred))"
   ]
  },
  {
   "cell_type": "code",
   "execution_count": 21,
   "id": "08281e8c-bfb1-4bf1-ab89-c2b0ea4f648b",
   "metadata": {},
   "outputs": [
    {
     "data": {
      "text/plain": [
       "array([0, 0, 0, 0, 0, 0, 0, 0, 0, 0, 0, 0, 0, 0, 0, 0, 0, 0, 0, 0, 0, 0,\n",
       "       0, 0, 0, 0, 0, 0, 0, 0, 0, 0, 0, 0, 0, 0, 0, 0, 0, 0, 0, 0, 0, 0,\n",
       "       0, 0, 0, 0, 0, 0, 1, 1, 1, 1, 1, 1, 1, 1, 1, 1, 1, 1, 1, 1, 1, 1,\n",
       "       1, 1, 1, 1, 1, 1, 1, 1, 1, 1, 1, 1, 1, 1, 1, 1, 1, 1, 1, 1, 1, 1,\n",
       "       1, 1, 1, 1, 1, 1, 1, 1, 1, 1, 1, 1, 2, 2, 2, 2, 2, 2, 2, 2, 2, 2,\n",
       "       2, 2, 2, 2, 2, 2, 2, 2, 2, 2, 2, 2, 2, 2, 2, 2, 2, 2, 2, 2, 2, 2,\n",
       "       2, 2, 2, 2, 2, 2, 2, 2, 2, 2, 2, 2, 2, 2, 2, 2, 2, 2])"
      ]
     },
     "execution_count": 21,
     "metadata": {},
     "output_type": "execute_result"
    }
   ],
   "source": [
    "y"
   ]
  },
  {
   "cell_type": "code",
   "execution_count": null,
   "id": "6d3985f0-c0bf-4791-ac0a-5f3677418345",
   "metadata": {},
   "outputs": [],
   "source": []
  }
 ],
 "metadata": {
  "kernelspec": {
   "display_name": "Python 3 (ipykernel)",
   "language": "python",
   "name": "python3"
  },
  "language_info": {
   "codemirror_mode": {
    "name": "ipython",
    "version": 3
   },
   "file_extension": ".py",
   "mimetype": "text/x-python",
   "name": "python",
   "nbconvert_exporter": "python",
   "pygments_lexer": "ipython3",
   "version": "3.10.12"
  }
 },
 "nbformat": 4,
 "nbformat_minor": 5
}
