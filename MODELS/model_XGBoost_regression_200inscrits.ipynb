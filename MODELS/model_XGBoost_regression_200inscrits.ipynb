{
 "cells": [
  {
   "cell_type": "markdown",
   "id": "f75d5881-1b31-4145-8f88-b18972b95b6a",
   "metadata": {},
   "source": [
    "# model_XGBoost_regression 200 inscrit0"
   ]
  },
  {
   "cell_type": "markdown",
   "id": "4912b5a9-f11f-4865-a577-3df643540030",
   "metadata": {},
   "source": [
    "## IMPORT"
   ]
  },
  {
   "cell_type": "code",
   "execution_count": 4,
   "id": "5e844807-14f7-4a1c-bc6e-dfca1efeef01",
   "metadata": {},
   "outputs": [],
   "source": [
    "import warnings\n",
    "warnings.filterwarnings(\"ignore\")\n",
    "\n",
    "import os\n",
    "import pandas as pd\n",
    "import numpy as np\n",
    "import random \n",
    "\n",
    "import matplotlib.pyplot as plt"
   ]
  },
  {
   "cell_type": "code",
   "execution_count": 48,
   "id": "2cb73ae9-96f1-4cd0-b1fa-4f196ec82a3e",
   "metadata": {},
   "outputs": [],
   "source": [
    "# IMPORT M.L\n",
    "from sklearn.model_selection import train_test_split\n",
    "from sklearn.preprocessing import StandardScaler\n",
    "\n",
    "from sklearn.metrics import accuracy_score, classification_report\n",
    "\n",
    "import xgboost as xgb\n",
    "\n",
    "import joblib"
   ]
  },
  {
   "cell_type": "code",
   "execution_count": 6,
   "id": "d6317c2d-8b0d-4b92-8272-4d970de9fe6b",
   "metadata": {},
   "outputs": [
    {
     "data": {
      "text/plain": [
       "dict_keys([])"
      ]
     },
     "execution_count": 6,
     "metadata": {},
     "output_type": "execute_result"
    }
   ],
   "source": [
    "# DATABES SQLITE\n",
    "from sqlalchemy import create_engine, Column, Integer, String, MetaData, Table, update, select\n",
    "db_path = '../DATA/HistoPlotik.db'\n",
    "engine = create_engine(f'sqlite:///{db_path}')\n",
    "metadata = MetaData()\n",
    "\n",
    "tbl_db_names = metadata.tables.keys()\n",
    "tbl_db_names"
   ]
  },
  {
   "cell_type": "markdown",
   "id": "148829d9-6edc-4463-849e-77b15ee6edf4",
   "metadata": {},
   "source": [
    "### IMPORTS CSV SOURCES"
   ]
  },
  {
   "cell_type": "code",
   "execution_count": 7,
   "id": "42918a36-c855-4396-9858-c78d03a5f9ce",
   "metadata": {},
   "outputs": [
    {
     "data": {
      "text/plain": [
       "(33803, 268)"
      ]
     },
     "execution_count": 7,
     "metadata": {},
     "output_type": "execute_result"
    }
   ],
   "source": [
    "file_path='../DATA/final_DATA.csv'\n",
    "df = pd.read_csv(file_path, encoding='utf-8', sep=';', index_col=0, low_memory=False)\n",
    "df.shape"
   ]
  },
  {
   "cell_type": "code",
   "execution_count": 8,
   "id": "e620840c-3e4e-4d66-a940-dc1e1d9b06d0",
   "metadata": {},
   "outputs": [
    {
     "data": {
      "text/plain": [
       "(33803, 4)"
      ]
     },
     "execution_count": 8,
     "metadata": {},
     "output_type": "execute_result"
    }
   ],
   "source": [
    "file_path='../DATA/final_4first_col.csv'\n",
    "df_info = pd.read_csv(file_path, encoding='utf-8', sep=';', index_col=0, low_memory=False)\n",
    "df_info.shape\n"
   ]
  },
  {
   "cell_type": "code",
   "execution_count": 9,
   "id": "671d2b45-f433-4641-8eee-b0b2c2f5745a",
   "metadata": {},
   "outputs": [
    {
     "data": {
      "text/html": [
       "<div>\n",
       "<style scoped>\n",
       "    .dataframe tbody tr th:only-of-type {\n",
       "        vertical-align: middle;\n",
       "    }\n",
       "\n",
       "    .dataframe tbody tr th {\n",
       "        vertical-align: top;\n",
       "    }\n",
       "\n",
       "    .dataframe thead th {\n",
       "        text-align: right;\n",
       "    }\n",
       "</style>\n",
       "<table border=\"1\" class=\"dataframe\">\n",
       "  <thead>\n",
       "    <tr style=\"text-align: right;\">\n",
       "      <th></th>\n",
       "      <th>dep</th>\n",
       "      <th>nomdep</th>\n",
       "      <th>codecommune</th>\n",
       "      <th>nomcommune</th>\n",
       "    </tr>\n",
       "    <tr>\n",
       "      <th>key</th>\n",
       "      <th></th>\n",
       "      <th></th>\n",
       "      <th></th>\n",
       "      <th></th>\n",
       "    </tr>\n",
       "  </thead>\n",
       "  <tbody>\n",
       "    <tr>\n",
       "      <th>01001</th>\n",
       "      <td>01</td>\n",
       "      <td>AIN</td>\n",
       "      <td>01001</td>\n",
       "      <td>L'ABERGEMENT-CLÉMENCIAT</td>\n",
       "    </tr>\n",
       "    <tr>\n",
       "      <th>01002</th>\n",
       "      <td>01</td>\n",
       "      <td>AIN</td>\n",
       "      <td>01002</td>\n",
       "      <td>L'ABERGEMENT-DE-VAREY</td>\n",
       "    </tr>\n",
       "    <tr>\n",
       "      <th>01004</th>\n",
       "      <td>01</td>\n",
       "      <td>AIN</td>\n",
       "      <td>01004</td>\n",
       "      <td>AMBÉRIEU-EN-BUGEY</td>\n",
       "    </tr>\n",
       "    <tr>\n",
       "      <th>01005</th>\n",
       "      <td>01</td>\n",
       "      <td>AIN</td>\n",
       "      <td>01005</td>\n",
       "      <td>AMBÉRIEUX-EN-DOMBES</td>\n",
       "    </tr>\n",
       "    <tr>\n",
       "      <th>01006</th>\n",
       "      <td>01</td>\n",
       "      <td>AIN</td>\n",
       "      <td>01006</td>\n",
       "      <td>AMBLÉON</td>\n",
       "    </tr>\n",
       "  </tbody>\n",
       "</table>\n",
       "</div>"
      ],
      "text/plain": [
       "      dep nomdep codecommune               nomcommune\n",
       "key                                                  \n",
       "01001  01    AIN       01001  L'ABERGEMENT-CLÉMENCIAT\n",
       "01002  01    AIN       01002    L'ABERGEMENT-DE-VAREY\n",
       "01004  01    AIN       01004        AMBÉRIEU-EN-BUGEY\n",
       "01005  01    AIN       01005      AMBÉRIEUX-EN-DOMBES\n",
       "01006  01    AIN       01006                  AMBLÉON"
      ]
     },
     "execution_count": 9,
     "metadata": {},
     "output_type": "execute_result"
    }
   ],
   "source": [
    "df_info.head(5)"
   ]
  },
  {
   "cell_type": "code",
   "execution_count": 10,
   "id": "6fdf1517-c955-464a-882d-f897f888e723",
   "metadata": {},
   "outputs": [
    {
     "data": {
      "text/html": [
       "<div>\n",
       "<style scoped>\n",
       "    .dataframe tbody tr th:only-of-type {\n",
       "        vertical-align: middle;\n",
       "    }\n",
       "\n",
       "    .dataframe tbody tr th {\n",
       "        vertical-align: top;\n",
       "    }\n",
       "\n",
       "    .dataframe thead th {\n",
       "        text-align: right;\n",
       "    }\n",
       "</style>\n",
       "<table border=\"1\" class=\"dataframe\">\n",
       "  <thead>\n",
       "    <tr style=\"text-align: right;\">\n",
       "      <th></th>\n",
       "      <th>TAR_inscrits</th>\n",
       "      <th>TAR_votants</th>\n",
       "      <th>TAR_exprimes</th>\n",
       "      <th>YYY_pvoixNUP</th>\n",
       "      <th>YYY_pvoixECO</th>\n",
       "      <th>YYY_pvoixENS</th>\n",
       "      <th>TAR_electeurs</th>\n",
       "      <th>YYY_pvoixLR_UDI</th>\n",
       "      <th>YYY_pvoixEXTREMD</th>\n",
       "      <th>YYY_pvoixCENTRE</th>\n",
       "      <th>...</th>\n",
       "      <th>TER_surf68</th>\n",
       "      <th>NAT_petranger22</th>\n",
       "      <th>NAT_pimmigre22</th>\n",
       "      <th>NAT_pimmnatur22</th>\n",
       "      <th>NAT_pnatur22</th>\n",
       "      <th>NAT_petranger12</th>\n",
       "      <th>NAT_pimmigre12</th>\n",
       "      <th>NAT_pimmnatur12</th>\n",
       "      <th>NAT_petranger02</th>\n",
       "      <th>NAT_petranger92</th>\n",
       "    </tr>\n",
       "  </thead>\n",
       "  <tbody>\n",
       "    <tr>\n",
       "      <th>0</th>\n",
       "      <td>644.0</td>\n",
       "      <td>343.0</td>\n",
       "      <td>339.0</td>\n",
       "      <td>0.153392</td>\n",
       "      <td>0.023599</td>\n",
       "      <td>0.147493</td>\n",
       "      <td>644.0000</td>\n",
       "      <td>0.271386</td>\n",
       "      <td>0.318584</td>\n",
       "      <td>0.073746</td>\n",
       "      <td>...</td>\n",
       "      <td>0.0</td>\n",
       "      <td>0.005161</td>\n",
       "      <td>0.014194</td>\n",
       "      <td>0.009032</td>\n",
       "      <td>0.014194</td>\n",
       "      <td>0.025740</td>\n",
       "      <td>0.037323</td>\n",
       "      <td>0.011583</td>\n",
       "      <td>0.018543</td>\n",
       "      <td>0.014634</td>\n",
       "    </tr>\n",
       "    <tr>\n",
       "      <th>1</th>\n",
       "      <td>218.0</td>\n",
       "      <td>133.0</td>\n",
       "      <td>128.0</td>\n",
       "      <td>0.343750</td>\n",
       "      <td>0.000000</td>\n",
       "      <td>0.000000</td>\n",
       "      <td>218.0000</td>\n",
       "      <td>0.109375</td>\n",
       "      <td>0.078125</td>\n",
       "      <td>0.437500</td>\n",
       "      <td>...</td>\n",
       "      <td>0.0</td>\n",
       "      <td>0.003891</td>\n",
       "      <td>0.003891</td>\n",
       "      <td>0.000000</td>\n",
       "      <td>0.000000</td>\n",
       "      <td>0.012766</td>\n",
       "      <td>0.021277</td>\n",
       "      <td>0.008511</td>\n",
       "      <td>0.005618</td>\n",
       "      <td>0.037736</td>\n",
       "    </tr>\n",
       "    <tr>\n",
       "      <th>2</th>\n",
       "      <td>8844.0</td>\n",
       "      <td>4123.0</td>\n",
       "      <td>4012.0</td>\n",
       "      <td>0.298106</td>\n",
       "      <td>0.000000</td>\n",
       "      <td>0.000000</td>\n",
       "      <td>9887.9053</td>\n",
       "      <td>0.087488</td>\n",
       "      <td>0.262961</td>\n",
       "      <td>0.321037</td>\n",
       "      <td>...</td>\n",
       "      <td>0.0</td>\n",
       "      <td>0.089823</td>\n",
       "      <td>0.107816</td>\n",
       "      <td>0.017993</td>\n",
       "      <td>0.027062</td>\n",
       "      <td>0.079042</td>\n",
       "      <td>0.102438</td>\n",
       "      <td>0.023396</td>\n",
       "      <td>0.066773</td>\n",
       "      <td>0.060427</td>\n",
       "    </tr>\n",
       "    <tr>\n",
       "      <th>3</th>\n",
       "      <td>1299.0</td>\n",
       "      <td>636.0</td>\n",
       "      <td>622.0</td>\n",
       "      <td>0.160772</td>\n",
       "      <td>0.024116</td>\n",
       "      <td>0.178457</td>\n",
       "      <td>1531.4249</td>\n",
       "      <td>0.204180</td>\n",
       "      <td>0.376206</td>\n",
       "      <td>0.048232</td>\n",
       "      <td>...</td>\n",
       "      <td>0.0</td>\n",
       "      <td>0.013349</td>\n",
       "      <td>0.041788</td>\n",
       "      <td>0.028439</td>\n",
       "      <td>0.042948</td>\n",
       "      <td>0.014007</td>\n",
       "      <td>0.036541</td>\n",
       "      <td>0.022533</td>\n",
       "      <td>0.026063</td>\n",
       "      <td>0.043729</td>\n",
       "    </tr>\n",
       "    <tr>\n",
       "      <th>4</th>\n",
       "      <td>101.0</td>\n",
       "      <td>63.0</td>\n",
       "      <td>59.0</td>\n",
       "      <td>0.220339</td>\n",
       "      <td>0.000000</td>\n",
       "      <td>0.288136</td>\n",
       "      <td>101.0000</td>\n",
       "      <td>0.288136</td>\n",
       "      <td>0.152542</td>\n",
       "      <td>0.000000</td>\n",
       "      <td>...</td>\n",
       "      <td>0.0</td>\n",
       "      <td>0.044643</td>\n",
       "      <td>0.044643</td>\n",
       "      <td>0.000000</td>\n",
       "      <td>0.000000</td>\n",
       "      <td>0.090909</td>\n",
       "      <td>0.100000</td>\n",
       "      <td>0.009091</td>\n",
       "      <td>0.000000</td>\n",
       "      <td>0.000000</td>\n",
       "    </tr>\n",
       "  </tbody>\n",
       "</table>\n",
       "<p>5 rows × 268 columns</p>\n",
       "</div>"
      ],
      "text/plain": [
       "   TAR_inscrits  TAR_votants  TAR_exprimes  YYY_pvoixNUP  YYY_pvoixECO  \\\n",
       "0         644.0        343.0         339.0      0.153392      0.023599   \n",
       "1         218.0        133.0         128.0      0.343750      0.000000   \n",
       "2        8844.0       4123.0        4012.0      0.298106      0.000000   \n",
       "3        1299.0        636.0         622.0      0.160772      0.024116   \n",
       "4         101.0         63.0          59.0      0.220339      0.000000   \n",
       "\n",
       "   YYY_pvoixENS  TAR_electeurs  YYY_pvoixLR_UDI  YYY_pvoixEXTREMD  \\\n",
       "0      0.147493       644.0000         0.271386          0.318584   \n",
       "1      0.000000       218.0000         0.109375          0.078125   \n",
       "2      0.000000      9887.9053         0.087488          0.262961   \n",
       "3      0.178457      1531.4249         0.204180          0.376206   \n",
       "4      0.288136       101.0000         0.288136          0.152542   \n",
       "\n",
       "   YYY_pvoixCENTRE  ...  TER_surf68  NAT_petranger22  NAT_pimmigre22  \\\n",
       "0         0.073746  ...         0.0         0.005161        0.014194   \n",
       "1         0.437500  ...         0.0         0.003891        0.003891   \n",
       "2         0.321037  ...         0.0         0.089823        0.107816   \n",
       "3         0.048232  ...         0.0         0.013349        0.041788   \n",
       "4         0.000000  ...         0.0         0.044643        0.044643   \n",
       "\n",
       "   NAT_pimmnatur22  NAT_pnatur22  NAT_petranger12  NAT_pimmigre12  \\\n",
       "0         0.009032      0.014194         0.025740        0.037323   \n",
       "1         0.000000      0.000000         0.012766        0.021277   \n",
       "2         0.017993      0.027062         0.079042        0.102438   \n",
       "3         0.028439      0.042948         0.014007        0.036541   \n",
       "4         0.000000      0.000000         0.090909        0.100000   \n",
       "\n",
       "   NAT_pimmnatur12  NAT_petranger02  NAT_petranger92  \n",
       "0         0.011583         0.018543         0.014634  \n",
       "1         0.008511         0.005618         0.037736  \n",
       "2         0.023396         0.066773         0.060427  \n",
       "3         0.022533         0.026063         0.043729  \n",
       "4         0.009091         0.000000         0.000000  \n",
       "\n",
       "[5 rows x 268 columns]"
      ]
     },
     "execution_count": 10,
     "metadata": {},
     "output_type": "execute_result"
    }
   ],
   "source": [
    "df.head()"
   ]
  },
  {
   "cell_type": "markdown",
   "id": "f0443e03-d112-4102-8644-be92f65de8f1",
   "metadata": {},
   "source": [
    "### Fusion des 2 CSV"
   ]
  },
  {
   "cell_type": "code",
   "execution_count": 11,
   "id": "fa84bcb5-604b-453b-aa24-1aa31f1c0c5f",
   "metadata": {},
   "outputs": [
    {
     "data": {
      "text/plain": [
       "(33803, 268)"
      ]
     },
     "execution_count": 11,
     "metadata": {},
     "output_type": "execute_result"
    }
   ],
   "source": [
    "df_FULL = df.copy()\n",
    "df_FULL.shape"
   ]
  },
  {
   "cell_type": "code",
   "execution_count": 12,
   "id": "97aed9f1-90a8-49a4-804c-8b7d0b029ce3",
   "metadata": {},
   "outputs": [
    {
     "data": {
      "text/html": [
       "<div>\n",
       "<style scoped>\n",
       "    .dataframe tbody tr th:only-of-type {\n",
       "        vertical-align: middle;\n",
       "    }\n",
       "\n",
       "    .dataframe tbody tr th {\n",
       "        vertical-align: top;\n",
       "    }\n",
       "\n",
       "    .dataframe thead th {\n",
       "        text-align: right;\n",
       "    }\n",
       "</style>\n",
       "<table border=\"1\" class=\"dataframe\">\n",
       "  <thead>\n",
       "    <tr style=\"text-align: right;\">\n",
       "      <th></th>\n",
       "      <th>TAR_inscrits</th>\n",
       "      <th>TAR_votants</th>\n",
       "      <th>TAR_exprimes</th>\n",
       "      <th>YYY_pvoixNUP</th>\n",
       "      <th>YYY_pvoixECO</th>\n",
       "      <th>YYY_pvoixENS</th>\n",
       "      <th>TAR_electeurs</th>\n",
       "      <th>YYY_pvoixLR_UDI</th>\n",
       "      <th>YYY_pvoixEXTREMD</th>\n",
       "      <th>YYY_pvoixCENTRE</th>\n",
       "      <th>...</th>\n",
       "      <th>TER_surf68</th>\n",
       "      <th>NAT_petranger22</th>\n",
       "      <th>NAT_pimmigre22</th>\n",
       "      <th>NAT_pimmnatur22</th>\n",
       "      <th>NAT_pnatur22</th>\n",
       "      <th>NAT_petranger12</th>\n",
       "      <th>NAT_pimmigre12</th>\n",
       "      <th>NAT_pimmnatur12</th>\n",
       "      <th>NAT_petranger02</th>\n",
       "      <th>NAT_petranger92</th>\n",
       "    </tr>\n",
       "    <tr>\n",
       "      <th>key</th>\n",
       "      <th></th>\n",
       "      <th></th>\n",
       "      <th></th>\n",
       "      <th></th>\n",
       "      <th></th>\n",
       "      <th></th>\n",
       "      <th></th>\n",
       "      <th></th>\n",
       "      <th></th>\n",
       "      <th></th>\n",
       "      <th></th>\n",
       "      <th></th>\n",
       "      <th></th>\n",
       "      <th></th>\n",
       "      <th></th>\n",
       "      <th></th>\n",
       "      <th></th>\n",
       "      <th></th>\n",
       "      <th></th>\n",
       "      <th></th>\n",
       "      <th></th>\n",
       "    </tr>\n",
       "  </thead>\n",
       "  <tbody>\n",
       "    <tr>\n",
       "      <th>01001</th>\n",
       "      <td>644.0</td>\n",
       "      <td>343.0</td>\n",
       "      <td>339.0</td>\n",
       "      <td>0.153392</td>\n",
       "      <td>0.023599</td>\n",
       "      <td>0.147493</td>\n",
       "      <td>644.0</td>\n",
       "      <td>0.271386</td>\n",
       "      <td>0.318584</td>\n",
       "      <td>0.073746</td>\n",
       "      <td>...</td>\n",
       "      <td>0.0</td>\n",
       "      <td>0.005161</td>\n",
       "      <td>0.014194</td>\n",
       "      <td>0.009032</td>\n",
       "      <td>0.014194</td>\n",
       "      <td>0.025740</td>\n",
       "      <td>0.037323</td>\n",
       "      <td>0.011583</td>\n",
       "      <td>0.018543</td>\n",
       "      <td>0.014634</td>\n",
       "    </tr>\n",
       "    <tr>\n",
       "      <th>01002</th>\n",
       "      <td>218.0</td>\n",
       "      <td>133.0</td>\n",
       "      <td>128.0</td>\n",
       "      <td>0.343750</td>\n",
       "      <td>0.000000</td>\n",
       "      <td>0.000000</td>\n",
       "      <td>218.0</td>\n",
       "      <td>0.109375</td>\n",
       "      <td>0.078125</td>\n",
       "      <td>0.437500</td>\n",
       "      <td>...</td>\n",
       "      <td>0.0</td>\n",
       "      <td>0.003891</td>\n",
       "      <td>0.003891</td>\n",
       "      <td>0.000000</td>\n",
       "      <td>0.000000</td>\n",
       "      <td>0.012766</td>\n",
       "      <td>0.021277</td>\n",
       "      <td>0.008511</td>\n",
       "      <td>0.005618</td>\n",
       "      <td>0.037736</td>\n",
       "    </tr>\n",
       "  </tbody>\n",
       "</table>\n",
       "<p>2 rows × 268 columns</p>\n",
       "</div>"
      ],
      "text/plain": [
       "       TAR_inscrits  TAR_votants  TAR_exprimes  YYY_pvoixNUP  YYY_pvoixECO  \\\n",
       "key                                                                          \n",
       "01001         644.0        343.0         339.0      0.153392      0.023599   \n",
       "01002         218.0        133.0         128.0      0.343750      0.000000   \n",
       "\n",
       "       YYY_pvoixENS  TAR_electeurs  YYY_pvoixLR_UDI  YYY_pvoixEXTREMD  \\\n",
       "key                                                                     \n",
       "01001      0.147493          644.0         0.271386          0.318584   \n",
       "01002      0.000000          218.0         0.109375          0.078125   \n",
       "\n",
       "       YYY_pvoixCENTRE  ...  TER_surf68  NAT_petranger22  NAT_pimmigre22  \\\n",
       "key                     ...                                                \n",
       "01001         0.073746  ...         0.0         0.005161        0.014194   \n",
       "01002         0.437500  ...         0.0         0.003891        0.003891   \n",
       "\n",
       "       NAT_pimmnatur22  NAT_pnatur22  NAT_petranger12  NAT_pimmigre12  \\\n",
       "key                                                                     \n",
       "01001         0.009032      0.014194         0.025740        0.037323   \n",
       "01002         0.000000      0.000000         0.012766        0.021277   \n",
       "\n",
       "       NAT_pimmnatur12  NAT_petranger02  NAT_petranger92  \n",
       "key                                                       \n",
       "01001         0.011583         0.018543         0.014634  \n",
       "01002         0.008511         0.005618         0.037736  \n",
       "\n",
       "[2 rows x 268 columns]"
      ]
     },
     "execution_count": 12,
     "metadata": {},
     "output_type": "execute_result"
    }
   ],
   "source": [
    "df_FULL.index = df_info.index \n",
    "df_FULL.head(2)"
   ]
  },
  {
   "cell_type": "code",
   "execution_count": 13,
   "id": "f10f9e3b-9adf-49da-bfba-1d028e050cdf",
   "metadata": {},
   "outputs": [
    {
     "data": {
      "text/plain": [
       "(33803, 272)"
      ]
     },
     "execution_count": 13,
     "metadata": {},
     "output_type": "execute_result"
    }
   ],
   "source": [
    "# result = pd.concat([df1, df2], axis=0, ignore_index=True)\n",
    "df_FULL = pd.concat([df_FULL, df_info], axis=1)\n",
    "df_FULL.shape"
   ]
  },
  {
   "cell_type": "code",
   "execution_count": 14,
   "id": "ce7f8feb-a7f2-4ec3-a4e3-8024ea0e4c72",
   "metadata": {},
   "outputs": [
    {
     "data": {
      "text/html": [
       "<div>\n",
       "<style scoped>\n",
       "    .dataframe tbody tr th:only-of-type {\n",
       "        vertical-align: middle;\n",
       "    }\n",
       "\n",
       "    .dataframe tbody tr th {\n",
       "        vertical-align: top;\n",
       "    }\n",
       "\n",
       "    .dataframe thead th {\n",
       "        text-align: right;\n",
       "    }\n",
       "</style>\n",
       "<table border=\"1\" class=\"dataframe\">\n",
       "  <thead>\n",
       "    <tr style=\"text-align: right;\">\n",
       "      <th></th>\n",
       "      <th>TAR_inscrits</th>\n",
       "      <th>TAR_votants</th>\n",
       "      <th>TAR_exprimes</th>\n",
       "      <th>YYY_pvoixNUP</th>\n",
       "      <th>YYY_pvoixECO</th>\n",
       "      <th>YYY_pvoixENS</th>\n",
       "      <th>TAR_electeurs</th>\n",
       "      <th>YYY_pvoixLR_UDI</th>\n",
       "      <th>YYY_pvoixEXTREMD</th>\n",
       "      <th>YYY_pvoixCENTRE</th>\n",
       "      <th>...</th>\n",
       "      <th>NAT_pnatur22</th>\n",
       "      <th>NAT_petranger12</th>\n",
       "      <th>NAT_pimmigre12</th>\n",
       "      <th>NAT_pimmnatur12</th>\n",
       "      <th>NAT_petranger02</th>\n",
       "      <th>NAT_petranger92</th>\n",
       "      <th>dep</th>\n",
       "      <th>nomdep</th>\n",
       "      <th>codecommune</th>\n",
       "      <th>nomcommune</th>\n",
       "    </tr>\n",
       "    <tr>\n",
       "      <th>key</th>\n",
       "      <th></th>\n",
       "      <th></th>\n",
       "      <th></th>\n",
       "      <th></th>\n",
       "      <th></th>\n",
       "      <th></th>\n",
       "      <th></th>\n",
       "      <th></th>\n",
       "      <th></th>\n",
       "      <th></th>\n",
       "      <th></th>\n",
       "      <th></th>\n",
       "      <th></th>\n",
       "      <th></th>\n",
       "      <th></th>\n",
       "      <th></th>\n",
       "      <th></th>\n",
       "      <th></th>\n",
       "      <th></th>\n",
       "      <th></th>\n",
       "      <th></th>\n",
       "    </tr>\n",
       "  </thead>\n",
       "  <tbody>\n",
       "    <tr>\n",
       "      <th>01001</th>\n",
       "      <td>644.0</td>\n",
       "      <td>343.0</td>\n",
       "      <td>339.0</td>\n",
       "      <td>0.153392</td>\n",
       "      <td>0.023599</td>\n",
       "      <td>0.147493</td>\n",
       "      <td>644.0000</td>\n",
       "      <td>0.271386</td>\n",
       "      <td>0.318584</td>\n",
       "      <td>0.073746</td>\n",
       "      <td>...</td>\n",
       "      <td>0.014194</td>\n",
       "      <td>0.025740</td>\n",
       "      <td>0.037323</td>\n",
       "      <td>0.011583</td>\n",
       "      <td>0.018543</td>\n",
       "      <td>0.014634</td>\n",
       "      <td>01</td>\n",
       "      <td>AIN</td>\n",
       "      <td>01001</td>\n",
       "      <td>L'ABERGEMENT-CLÉMENCIAT</td>\n",
       "    </tr>\n",
       "    <tr>\n",
       "      <th>01002</th>\n",
       "      <td>218.0</td>\n",
       "      <td>133.0</td>\n",
       "      <td>128.0</td>\n",
       "      <td>0.343750</td>\n",
       "      <td>0.000000</td>\n",
       "      <td>0.000000</td>\n",
       "      <td>218.0000</td>\n",
       "      <td>0.109375</td>\n",
       "      <td>0.078125</td>\n",
       "      <td>0.437500</td>\n",
       "      <td>...</td>\n",
       "      <td>0.000000</td>\n",
       "      <td>0.012766</td>\n",
       "      <td>0.021277</td>\n",
       "      <td>0.008511</td>\n",
       "      <td>0.005618</td>\n",
       "      <td>0.037736</td>\n",
       "      <td>01</td>\n",
       "      <td>AIN</td>\n",
       "      <td>01002</td>\n",
       "      <td>L'ABERGEMENT-DE-VAREY</td>\n",
       "    </tr>\n",
       "    <tr>\n",
       "      <th>01004</th>\n",
       "      <td>8844.0</td>\n",
       "      <td>4123.0</td>\n",
       "      <td>4012.0</td>\n",
       "      <td>0.298106</td>\n",
       "      <td>0.000000</td>\n",
       "      <td>0.000000</td>\n",
       "      <td>9887.9053</td>\n",
       "      <td>0.087488</td>\n",
       "      <td>0.262961</td>\n",
       "      <td>0.321037</td>\n",
       "      <td>...</td>\n",
       "      <td>0.027062</td>\n",
       "      <td>0.079042</td>\n",
       "      <td>0.102438</td>\n",
       "      <td>0.023396</td>\n",
       "      <td>0.066773</td>\n",
       "      <td>0.060427</td>\n",
       "      <td>01</td>\n",
       "      <td>AIN</td>\n",
       "      <td>01004</td>\n",
       "      <td>AMBÉRIEU-EN-BUGEY</td>\n",
       "    </tr>\n",
       "    <tr>\n",
       "      <th>01005</th>\n",
       "      <td>1299.0</td>\n",
       "      <td>636.0</td>\n",
       "      <td>622.0</td>\n",
       "      <td>0.160772</td>\n",
       "      <td>0.024116</td>\n",
       "      <td>0.178457</td>\n",
       "      <td>1531.4249</td>\n",
       "      <td>0.204180</td>\n",
       "      <td>0.376206</td>\n",
       "      <td>0.048232</td>\n",
       "      <td>...</td>\n",
       "      <td>0.042948</td>\n",
       "      <td>0.014007</td>\n",
       "      <td>0.036541</td>\n",
       "      <td>0.022533</td>\n",
       "      <td>0.026063</td>\n",
       "      <td>0.043729</td>\n",
       "      <td>01</td>\n",
       "      <td>AIN</td>\n",
       "      <td>01005</td>\n",
       "      <td>AMBÉRIEUX-EN-DOMBES</td>\n",
       "    </tr>\n",
       "    <tr>\n",
       "      <th>01006</th>\n",
       "      <td>101.0</td>\n",
       "      <td>63.0</td>\n",
       "      <td>59.0</td>\n",
       "      <td>0.220339</td>\n",
       "      <td>0.000000</td>\n",
       "      <td>0.288136</td>\n",
       "      <td>101.0000</td>\n",
       "      <td>0.288136</td>\n",
       "      <td>0.152542</td>\n",
       "      <td>0.000000</td>\n",
       "      <td>...</td>\n",
       "      <td>0.000000</td>\n",
       "      <td>0.090909</td>\n",
       "      <td>0.100000</td>\n",
       "      <td>0.009091</td>\n",
       "      <td>0.000000</td>\n",
       "      <td>0.000000</td>\n",
       "      <td>01</td>\n",
       "      <td>AIN</td>\n",
       "      <td>01006</td>\n",
       "      <td>AMBLÉON</td>\n",
       "    </tr>\n",
       "  </tbody>\n",
       "</table>\n",
       "<p>5 rows × 272 columns</p>\n",
       "</div>"
      ],
      "text/plain": [
       "       TAR_inscrits  TAR_votants  TAR_exprimes  YYY_pvoixNUP  YYY_pvoixECO  \\\n",
       "key                                                                          \n",
       "01001         644.0        343.0         339.0      0.153392      0.023599   \n",
       "01002         218.0        133.0         128.0      0.343750      0.000000   \n",
       "01004        8844.0       4123.0        4012.0      0.298106      0.000000   \n",
       "01005        1299.0        636.0         622.0      0.160772      0.024116   \n",
       "01006         101.0         63.0          59.0      0.220339      0.000000   \n",
       "\n",
       "       YYY_pvoixENS  TAR_electeurs  YYY_pvoixLR_UDI  YYY_pvoixEXTREMD  \\\n",
       "key                                                                     \n",
       "01001      0.147493       644.0000         0.271386          0.318584   \n",
       "01002      0.000000       218.0000         0.109375          0.078125   \n",
       "01004      0.000000      9887.9053         0.087488          0.262961   \n",
       "01005      0.178457      1531.4249         0.204180          0.376206   \n",
       "01006      0.288136       101.0000         0.288136          0.152542   \n",
       "\n",
       "       YYY_pvoixCENTRE  ...  NAT_pnatur22  NAT_petranger12  NAT_pimmigre12  \\\n",
       "key                     ...                                                  \n",
       "01001         0.073746  ...      0.014194         0.025740        0.037323   \n",
       "01002         0.437500  ...      0.000000         0.012766        0.021277   \n",
       "01004         0.321037  ...      0.027062         0.079042        0.102438   \n",
       "01005         0.048232  ...      0.042948         0.014007        0.036541   \n",
       "01006         0.000000  ...      0.000000         0.090909        0.100000   \n",
       "\n",
       "       NAT_pimmnatur12  NAT_petranger02  NAT_petranger92  dep  nomdep  \\\n",
       "key                                                                     \n",
       "01001         0.011583         0.018543         0.014634   01     AIN   \n",
       "01002         0.008511         0.005618         0.037736   01     AIN   \n",
       "01004         0.023396         0.066773         0.060427   01     AIN   \n",
       "01005         0.022533         0.026063         0.043729   01     AIN   \n",
       "01006         0.009091         0.000000         0.000000   01     AIN   \n",
       "\n",
       "       codecommune               nomcommune  \n",
       "key                                          \n",
       "01001        01001  L'ABERGEMENT-CLÉMENCIAT  \n",
       "01002        01002    L'ABERGEMENT-DE-VAREY  \n",
       "01004        01004        AMBÉRIEU-EN-BUGEY  \n",
       "01005        01005      AMBÉRIEUX-EN-DOMBES  \n",
       "01006        01006                  AMBLÉON  \n",
       "\n",
       "[5 rows x 272 columns]"
      ]
     },
     "execution_count": 14,
     "metadata": {},
     "output_type": "execute_result"
    }
   ],
   "source": [
    "df_FULL.head(5)"
   ]
  },
  {
   "cell_type": "markdown",
   "id": "0c20409f-1f99-4bac-b016-80745630045d",
   "metadata": {},
   "source": [
    "## FILTRES 200 inscrits"
   ]
  },
  {
   "cell_type": "code",
   "execution_count": 15,
   "id": "a973eee8-4b3f-4ead-ad31-f3ba2f1c4170",
   "metadata": {},
   "outputs": [
    {
     "name": "stdout",
     "output_type": "stream",
     "text": [
      "['01001', '01002', '01004', '01005', '01007', '01008', '01009', '01010', '01011', '01012'] 23973\n"
     ]
    }
   ],
   "source": [
    "# Specify the file path\n",
    "file_path = '../DATA/list_codecommune_leg2022_200inscrits.txt'\n",
    "\n",
    "# Open the text file and read lines into a list\n",
    "with open(file_path, 'r', encoding='utf-8') as file:\n",
    "    lines = [line.strip() for line in file.readlines()]\n",
    "\n",
    "# Print or manipulate the list of lines as needed\n",
    "print(lines[0:10], len(lines))"
   ]
  },
  {
   "cell_type": "code",
   "execution_count": 16,
   "id": "2f9e7696-2025-4145-9235-a59f61721197",
   "metadata": {},
   "outputs": [],
   "source": [
    "index_suppr = ['13201','13202','13203','13204','13205','13206','13207','13208','13209','13210','13211','13212','13213','13214','13215','13216',\n",
    "               '69380','69381','69382','69383','69384','69385','69386','69387','69388','69389','75056']\n"
   ]
  },
  {
   "cell_type": "code",
   "execution_count": 17,
   "id": "235fb8cf-f87d-4afa-846f-4f16f3ee0864",
   "metadata": {},
   "outputs": [
    {
     "data": {
      "text/plain": [
       "23946"
      ]
     },
     "execution_count": 17,
     "metadata": {},
     "output_type": "execute_result"
    }
   ],
   "source": [
    "linesC = list(set(lines) - set(index_suppr))\n",
    "len (linesC)"
   ]
  },
  {
   "cell_type": "code",
   "execution_count": 18,
   "id": "daeb1b9a-64fe-497d-a70e-f1659d4bf987",
   "metadata": {},
   "outputs": [
    {
     "data": {
      "text/plain": [
       "((23946, 272), (33803, 272))"
      ]
     },
     "execution_count": 18,
     "metadata": {},
     "output_type": "execute_result"
    }
   ],
   "source": [
    "df_filtered = df_FULL[df_FULL['codecommune'].isin(linesC)]\n",
    "df_filtered.shape,df_FULL.shape"
   ]
  },
  {
   "cell_type": "markdown",
   "id": "b5d8ecf7-4402-46b1-aecc-675879cb1706",
   "metadata": {},
   "source": [
    "## SLPIT\n",
    "infoc X & y"
   ]
  },
  {
   "cell_type": "code",
   "execution_count": 19,
   "id": "4042a267-6f0c-4aea-9546-4b87ff872cb9",
   "metadata": {},
   "outputs": [
    {
     "data": {
      "text/plain": [
       "(23946, 4)"
      ]
     },
     "execution_count": 19,
     "metadata": {},
     "output_type": "execute_result"
    }
   ],
   "source": [
    "df_infoC = df_filtered.iloc[:, -4:] \n",
    "df_infoC.shape"
   ]
  },
  {
   "cell_type": "code",
   "execution_count": 20,
   "id": "7b5c5e52-1a6f-4da1-831d-91dc2a6b2fb9",
   "metadata": {},
   "outputs": [
    {
     "data": {
      "text/plain": [
       "(23946, 268)"
      ]
     },
     "execution_count": 20,
     "metadata": {},
     "output_type": "execute_result"
    }
   ],
   "source": [
    "df_XY = df_filtered.iloc[:, 0:-4] \n",
    "df_XY.shape"
   ]
  },
  {
   "cell_type": "code",
   "execution_count": 21,
   "id": "e15673fb-577e-4e71-8e41-6ef42200f125",
   "metadata": {},
   "outputs": [
    {
     "data": {
      "text/plain": [
       "((23946, 261), (23946, 7))"
      ]
     },
     "execution_count": 21,
     "metadata": {},
     "output_type": "execute_result"
    }
   ],
   "source": [
    "# SPLIT\n",
    "y = df_XY.filter(like='YYY', axis=1)\n",
    "# Filter columns NOT starting with 'YYY'\n",
    "X = df_XY.loc[:, ~df.columns.str.startswith('YYY')]\n",
    "X.shape, y.shape"
   ]
  },
  {
   "cell_type": "code",
   "execution_count": 110,
   "id": "ad83504f-db1d-4d9e-8553-e0241fcc3efb",
   "metadata": {},
   "outputs": [
    {
     "data": {
      "text/plain": [
       "['TAR_inscrits',\n",
       " 'TAR_votants',\n",
       " 'TAR_exprimes',\n",
       " 'TAR_electeurs',\n",
       " 'RSA_nrsa2017',\n",
       " 'RSA_nrsa2021',\n",
       " 'RSA_prsa2017',\n",
       " 'RSA_prsa2021',\n",
       " 'AGE_pop_22',\n",
       " 'AGE_propf_22',\n",
       " 'AGE_popf014_22',\n",
       " 'AGE_popf1539_22',\n",
       " 'AGE_popf4059_22',\n",
       " 'AGE_popf60p_22',\n",
       " 'AGE_poph014_22',\n",
       " 'AGE_poph1539_22',\n",
       " 'AGE_poph4059_22',\n",
       " 'AGE_poph60p_22',\n",
       " 'AGE_prop014_22',\n",
       " 'AGE_prop1539_22',\n",
       " 'AGE_prop4059_22',\n",
       " 'AGE_prop60p_22',\n",
       " 'AGE_propf014_22',\n",
       " 'AGE_propf1539_22',\n",
       " 'AGE_propf4059_22',\n",
       " 'AGE_propf60p_22',\n",
       " 'AGE_age_22',\n",
       " 'AGE_agef_22',\n",
       " 'AGE_ageh_22',\n",
       " 'AGE_pop_12',\n",
       " 'AGE_propf_12',\n",
       " 'AGE_popf014_12',\n",
       " 'AGE_popf1539_12',\n",
       " 'AGE_popf4059_12',\n",
       " 'AGE_popf60p_12',\n",
       " 'AGE_poph014_12',\n",
       " 'AGE_poph1539_12',\n",
       " 'AGE_poph4059_12',\n",
       " 'AGE_poph60p_12',\n",
       " 'AGE_prop014_12',\n",
       " 'AGE_prop1539_12',\n",
       " 'AGE_prop4059_12',\n",
       " 'AGE_prop60p_12',\n",
       " 'AGE_propf014_12',\n",
       " 'AGE_propf1539_12',\n",
       " 'AGE_propf4059_12',\n",
       " 'AGE_propf60p_12',\n",
       " 'AGE_age_12',\n",
       " 'AGE_agef_12',\n",
       " 'AGE_ageh_12',\n",
       " 'AGE_pop_02',\n",
       " 'AGE_propf_02',\n",
       " 'AGE_popf014_02',\n",
       " 'AGE_popf1539_02',\n",
       " 'AGE_popf4059_02',\n",
       " 'AGE_popf60p_02',\n",
       " 'AGE_poph014_02',\n",
       " 'AGE_poph1539_02',\n",
       " 'AGE_poph4059_02',\n",
       " 'AGE_poph60p_02',\n",
       " 'AGE_prop014_02',\n",
       " 'AGE_prop1539_02',\n",
       " 'AGE_prop4059_02',\n",
       " 'AGE_prop60p_02',\n",
       " 'AGE_propf014_02',\n",
       " 'AGE_propf1539_02',\n",
       " 'AGE_propf4059_02',\n",
       " 'AGE_propf60p_02',\n",
       " 'AGE_age_02',\n",
       " 'AGE_agef_02',\n",
       " 'AGE_ageh_02',\n",
       " 'AGE_pop_92',\n",
       " 'AGE_propf_92',\n",
       " 'AGE_popf014_92',\n",
       " 'AGE_popf1539_92',\n",
       " 'AGE_popf4059_92',\n",
       " 'AGE_popf60p_92',\n",
       " 'AGE_poph014_92',\n",
       " 'AGE_poph1539_92',\n",
       " 'AGE_poph4059_92',\n",
       " 'AGE_poph60p_92',\n",
       " 'AGE_prop014_92',\n",
       " 'AGE_prop1539_92',\n",
       " 'AGE_prop4059_92',\n",
       " 'AGE_prop60p_92',\n",
       " 'AGE_propf014_92',\n",
       " 'AGE_propf1539_92',\n",
       " 'AGE_propf4059_92',\n",
       " 'AGE_propf60p_92',\n",
       " 'AGE_age_92',\n",
       " 'AGE_agef_92',\n",
       " 'AGE_ageh_92',\n",
       " 'BFL_baseimpotslocauxratio20',\n",
       " 'BFL_recetteimpotslocauxratio20',\n",
       " 'BFL_tauximpotslocauxratio20',\n",
       " 'BFL_baseimpotslocauxtot20',\n",
       " 'BFL_recetteimpotslocauxtot20',\n",
       " 'BFL_tauximpotslocaux20',\n",
       " 'BFL_recettetot20',\n",
       " 'BFL_baseimpotslocaux20',\n",
       " 'BFL_recetteimpotslocaux20',\n",
       " 'BFL_recettefoncieretot20',\n",
       " 'BFL_recettehabitationtot20',\n",
       " 'BFL_recettefonciere20',\n",
       " 'BFL_recettehabitation20',\n",
       " 'BFL_recettefonciereratio20',\n",
       " 'BFL_recettehabitationratio20',\n",
       " 'BFL_basehabitationratio20',\n",
       " 'BFL_basefonciereratio20',\n",
       " 'BFL_tauxhabitationratio20',\n",
       " 'BFL_tauxfoncierratio20',\n",
       " 'BFL_basehabitationtot20',\n",
       " 'BFL_basefoncieretot20',\n",
       " 'BFL_tauxhabitation20',\n",
       " 'BFL_tauxfoncier20',\n",
       " 'BFL_basehabitation20',\n",
       " 'BFL_basefonciere20',\n",
       " 'BFL_recetteratio20',\n",
       " 'PIB_pibratio1992',\n",
       " 'PIB_pibratio2002',\n",
       " 'PIB_pibratio2012',\n",
       " 'PIB_pibratio2022',\n",
       " 'PIB_pibtot1992',\n",
       " 'PIB_pibtot2002',\n",
       " 'PIB_pibtot2012',\n",
       " 'PIB_pibtot2022',\n",
       " 'GEO_latitude',\n",
       " 'GEO_longitude',\n",
       " 'KP0_Pri_P1',\n",
       " 'KP0_Surf_P1',\n",
       " 'KP0_SurfTer_P1',\n",
       " 'KP0_transac_P1',\n",
       " 'KP0_prim2_P1',\n",
       " 'KP0_Pri_P2',\n",
       " 'KP0_Surf_P2',\n",
       " 'KP0_SurfTer_P2',\n",
       " 'KP0_transac_P2',\n",
       " 'KP0_prim2_P2',\n",
       " 'REV_revmoyfoy1992',\n",
       " 'REV_revmoyfoy2002',\n",
       " 'REV_revmoyfoy2012',\n",
       " 'REV_revmoyfoy2022',\n",
       " 'KP1_capitalimmo22',\n",
       " 'KP1_prixbien22',\n",
       " 'KP1_capitalimmo12',\n",
       " 'KP1_prixbien12',\n",
       " 'KP1_capitalimmo02',\n",
       " 'KP1_prixbien02',\n",
       " 'KP1_capitalimmo92',\n",
       " 'KP1_prixbien92',\n",
       " 'PO0_electeurs1992',\n",
       " 'PO0_electeurs2002',\n",
       " 'PO0_electeurs2012',\n",
       " 'PO0_electeurs2022',\n",
       " 'PRO_ppropri22',\n",
       " 'PRO_nlogement22',\n",
       " 'PRO_ppropri12',\n",
       " 'PRO_nlogement12',\n",
       " 'PRO_ppropri02',\n",
       " 'PRO_nlogement02',\n",
       " 'PRO_ppropri92',\n",
       " 'PRO_nlogement92',\n",
       " 'EMP_emp2006',\n",
       " 'EMP_adm2006',\n",
       " 'EMP_agr2006',\n",
       " 'EMP_cre2006',\n",
       " 'EMP_loi2006',\n",
       " 'EMP_dis2006',\n",
       " 'EMP_edu2006',\n",
       " 'EMP_fab2006',\n",
       " 'EMP_bag2006',\n",
       " 'EMP_tra2006',\n",
       " 'EMP_san2006',\n",
       " 'EMP_res2006',\n",
       " 'EMP_emp2016',\n",
       " 'EMP_adm2016',\n",
       " 'EMP_agr2016',\n",
       " 'EMP_cre2016',\n",
       " 'EMP_loi2016',\n",
       " 'EMP_dis2016',\n",
       " 'EMP_edu2016',\n",
       " 'EMP_fab2016',\n",
       " 'EMP_bag2016',\n",
       " 'EMP_tra2016',\n",
       " 'EMP_san2016',\n",
       " 'EMP_res2016',\n",
       " 'EMP_btp_cie2006',\n",
       " 'EMP_btp_cie2016',\n",
       " 'EMP_rep_con2016',\n",
       " 'EMP_rep_con2006',\n",
       " 'DIP_bach1992',\n",
       " 'DIP_bach2002',\n",
       " 'DIP_bach2012',\n",
       " 'DIP_bach2017',\n",
       " 'DIP_bach2022',\n",
       " 'DIP_suph1992',\n",
       " 'DIP_suph2002',\n",
       " 'DIP_suph2012',\n",
       " 'DIP_suph2017',\n",
       " 'DIP_suph2022',\n",
       " 'DIP_bacf1992',\n",
       " 'DIP_bacf2002',\n",
       " 'DIP_bacf2012',\n",
       " 'DIP_bacf2017',\n",
       " 'DIP_bacf2022',\n",
       " 'DIP_supf1992',\n",
       " 'DIP_supf2002',\n",
       " 'DIP_supf2012',\n",
       " 'DIP_supf2017',\n",
       " 'DIP_supf2022',\n",
       " 'CED_nviolences2016',\n",
       " 'CED_nviolences2020',\n",
       " 'CED_ncambriolages2016',\n",
       " 'CED_ncambriolages2020',\n",
       " 'CED_nvolsvoitures2016',\n",
       " 'CED_nvolsvoitures2020',\n",
       " 'CED_nautresvols2016',\n",
       " 'CED_nautresvols2020',\n",
       " 'CED_ncrimesdelits2016',\n",
       " 'CED_ncrimesdelits2020',\n",
       " 'CSP_peragri1992',\n",
       " 'CSP_peragri2002',\n",
       " 'CSP_peragri2012',\n",
       " 'CSP_peragri2022',\n",
       " 'CSP_perindp1992',\n",
       " 'CSP_perindp2002',\n",
       " 'CSP_perindp2012',\n",
       " 'CSP_perindp2022',\n",
       " 'CSP_percadr1992',\n",
       " 'CSP_percadr2002',\n",
       " 'CSP_percadr2012',\n",
       " 'CSP_percadr2022',\n",
       " 'CSP_perpint1992',\n",
       " 'CSP_perpint2002',\n",
       " 'CSP_perpint2012',\n",
       " 'CSP_perpint2022',\n",
       " 'CSP_perempl1992',\n",
       " 'CSP_perempl2002',\n",
       " 'CSP_perempl2012',\n",
       " 'CSP_perempl2022',\n",
       " 'CSP_perouvr1992',\n",
       " 'CSP_perouvr2002',\n",
       " 'CSP_perouvr2012',\n",
       " 'CSP_perouvr2022',\n",
       " 'CSP_perchom1992',\n",
       " 'CSP_perchom2002',\n",
       " 'CSP_perchom2012',\n",
       " 'CSP_perchom2022',\n",
       " 'TER_nexploit',\n",
       " 'TER_surf',\n",
       " 'TER_nexploit68',\n",
       " 'TER_surf68',\n",
       " 'NAT_petranger22',\n",
       " 'NAT_pimmigre22',\n",
       " 'NAT_pimmnatur22',\n",
       " 'NAT_pnatur22',\n",
       " 'NAT_petranger12',\n",
       " 'NAT_pimmigre12',\n",
       " 'NAT_pimmnatur12',\n",
       " 'NAT_petranger02',\n",
       " 'NAT_petranger92']"
      ]
     },
     "execution_count": 110,
     "metadata": {},
     "output_type": "execute_result"
    }
   ],
   "source": [
    "list_colX=X.columns.tolist()\n",
    "list_colX"
   ]
  },
  {
   "cell_type": "code",
   "execution_count": 22,
   "id": "a63b790c-6db8-4bc4-b573-8ea2d3600ead",
   "metadata": {},
   "outputs": [
    {
     "name": "stdout",
     "output_type": "stream",
     "text": [
      "       YYY_pvoixNUP  YYY_pvoixECO  YYY_pvoixENS  YYY_pvoixLR_UDI  \\\n",
      "key                                                                \n",
      "01001      0.153392      0.023599      0.147493         0.271386   \n",
      "01002      0.343750      0.000000      0.000000         0.109375   \n",
      "01004      0.298106      0.000000      0.000000         0.087488   \n",
      "01005      0.160772      0.024116      0.178457         0.204180   \n",
      "01007      0.251241      0.000000      0.000000         0.049652   \n",
      "...             ...           ...           ...              ...   \n",
      "95675      0.235772      0.010840      0.157182         0.165312   \n",
      "95676      0.140351      0.087719      0.232456         0.166667   \n",
      "95678      0.184874      0.047619      0.282913         0.131653   \n",
      "95680      0.460476      0.010000      0.235714         0.031667   \n",
      "95690      0.161677      0.083832      0.305389         0.209581   \n",
      "\n",
      "       YYY_pvoixEXTREMD  YYY_pvoixCENTRE  YYY_pvoixOTR  \n",
      "key                                                     \n",
      "01001          0.318584         0.073746      0.011799  \n",
      "01002          0.078125         0.437500      0.031250  \n",
      "01004          0.262961         0.321037      0.030409  \n",
      "01005          0.376206         0.048232      0.008039  \n",
      "01007          0.290963         0.397219      0.010924  \n",
      "...                 ...              ...           ...  \n",
      "95675          0.371274         0.040650      0.018970  \n",
      "95676          0.328947         0.026316      0.017544  \n",
      "95678          0.296919         0.025210      0.030812  \n",
      "95680          0.132619         0.105476      0.024048  \n",
      "95690          0.221557         0.017964      0.000000  \n",
      "\n",
      "[23946 rows x 7 columns]\n"
     ]
    }
   ],
   "source": [
    "print(y)"
   ]
  },
  {
   "cell_type": "code",
   "execution_count": 23,
   "id": "65e9b1cc-7c67-4791-9d45-8f85a0659a70",
   "metadata": {},
   "outputs": [
    {
     "name": "stdout",
     "output_type": "stream",
     "text": [
      "            NUP       ECO       ENS    LR_UDI   EXTREMD    CENTRE       OTR\n",
      "key                                                                        \n",
      "01001  0.153392  0.023599  0.147493  0.271386  0.318584  0.073746  0.011799\n",
      "01002  0.343750  0.000000  0.000000  0.109375  0.078125  0.437500  0.031250\n",
      "01004  0.298106  0.000000  0.000000  0.087488  0.262961  0.321037  0.030409\n",
      "01005  0.160772  0.024116  0.178457  0.204180  0.376206  0.048232  0.008039\n",
      "01007  0.251241  0.000000  0.000000  0.049652  0.290963  0.397219  0.010924\n",
      "...         ...       ...       ...       ...       ...       ...       ...\n",
      "95675  0.235772  0.010840  0.157182  0.165312  0.371274  0.040650  0.018970\n",
      "95676  0.140351  0.087719  0.232456  0.166667  0.328947  0.026316  0.017544\n",
      "95678  0.184874  0.047619  0.282913  0.131653  0.296919  0.025210  0.030812\n",
      "95680  0.460476  0.010000  0.235714  0.031667  0.132619  0.105476  0.024048\n",
      "95690  0.161677  0.083832  0.305389  0.209581  0.221557  0.017964  0.000000\n",
      "\n",
      "[23946 rows x 7 columns]\n"
     ]
    }
   ],
   "source": [
    "column_mapping = {col: col[9:] for col in y.columns}\n",
    "y.rename(columns=column_mapping, inplace=True)\n",
    "print(y)"
   ]
  },
  {
   "cell_type": "code",
   "execution_count": 24,
   "id": "0f8a663e-a968-46ec-8322-93edcea6b68b",
   "metadata": {},
   "outputs": [
    {
     "data": {
      "text/plain": [
       "Index(['01001', '01002', '01004', '01005', '01007', '01008', '01009', '01010',\n",
       "       '01011', '01012',\n",
       "       ...\n",
       "       '95651', '95652', '95656', '95658', '95660', '95675', '95676', '95678',\n",
       "       '95680', '95690'],\n",
       "      dtype='object', name='key', length=23946)"
      ]
     },
     "execution_count": 24,
     "metadata": {},
     "output_type": "execute_result"
    }
   ],
   "source": [
    "y.index"
   ]
  },
  {
   "cell_type": "code",
   "execution_count": 25,
   "id": "c55a827c-ce65-4f7f-be72-dce81df71b13",
   "metadata": {},
   "outputs": [
    {
     "data": {
      "text/plain": [
       "pandas.core.frame.DataFrame"
      ]
     },
     "execution_count": 25,
     "metadata": {},
     "output_type": "execute_result"
    }
   ],
   "source": [
    "type(y)"
   ]
  },
  {
   "cell_type": "markdown",
   "id": "b1bf9187-cd4f-4596-a5ab-88732c96e92a",
   "metadata": {},
   "source": [
    "### CREATION TABLE y_resultats200_tbl\n",
    "tables des resultats sur le communes filtrees"
   ]
  },
  {
   "cell_type": "code",
   "execution_count": 26,
   "id": "bf27d4cf-3181-4c48-be98-fb48b64504a3",
   "metadata": {},
   "outputs": [
    {
     "data": {
      "text/plain": [
       "dict_keys(['XGBoost_reg200_importance_tbl', 'XGBoost_reg200_resultats_tbl', 'X_col_titr', 'y_resultats200_tbl'])"
      ]
     },
     "execution_count": 26,
     "metadata": {},
     "output_type": "execute_result"
    }
   ],
   "source": [
    "## CREATION \n",
    "tbl_result = 'y_resultats200_tbl'\n",
    "if tbl_result not in tbl_db_names :\n",
    "    # Convert DataFrame to a SQL table, using the index as the ID column\n",
    "    y.to_sql(tbl_result, con=engine, index=True, if_exists='replace')\n",
    "    metadata.reflect(bind=engine)\n",
    "tbl_db_names = metadata.tables.keys()\n",
    "tbl_db_names"
   ]
  },
  {
   "cell_type": "code",
   "execution_count": 28,
   "id": "a4e26825-ea3b-4f3a-8a13-93500fe49ed1",
   "metadata": {},
   "outputs": [
    {
     "name": "stdout",
     "output_type": "stream",
     "text": [
      "The size of y_resultats200_tbl is: 23946 rows\n"
     ]
    }
   ],
   "source": [
    "import sqlite3\n",
    "conn = sqlite3.connect(db_path)\n",
    "cursor = conn.cursor()\n",
    "cursor.execute(\"select COUNT(*) from \"+tbl_result)\n",
    "# Fetch the result using fetchone() method\n",
    "row_count = cursor.fetchone()[0]\n",
    "\n",
    "# Close the cursor and connection\n",
    "cursor.close()\n",
    "conn.close()\n",
    "\n",
    "print(f\"The size of {tbl_result} is: {row_count} rows\")"
   ]
  },
  {
   "cell_type": "code",
   "execution_count": 30,
   "id": "be109d61-ddb0-46fa-90d2-20bc1388157e",
   "metadata": {},
   "outputs": [
    {
     "name": "stdout",
     "output_type": "stream",
     "text": [
      "Première ligne de resultats_tbl avec titres de colonnes:\n",
      "key: 01001\n",
      "NUP: 0.15339233\n",
      "ECO: 0.02359882\n",
      "ENS: 0.14749263\n",
      "LR_UDI: 0.271386436\n",
      "EXTREMD: 0.318584062\n",
      "CENTRE: 0.073746312\n",
      "OTR: 0.01179941\n"
     ]
    }
   ],
   "source": [
    "conn = sqlite3.connect(db_path)\n",
    "cursor = conn.cursor()\n",
    "\n",
    "# Execute a SQL query to get the column names from 'resultats_tbl'\n",
    "cursor.execute(\"PRAGMA table_info(\"+tbl_result+\")\")\n",
    "columns = [column[1] for column in cursor.fetchall()]\n",
    "\n",
    "\n",
    "cursor.execute(\"SELECT * FROM \"+tbl_result+\" LIMIT 1\")\n",
    "# Fetch the result using fetchone() method\n",
    "first_row = cursor.fetchone()\n",
    "\n",
    "# Close the cursor and connection\n",
    "cursor.close()\n",
    "conn.close()\n",
    "\n",
    "print(\"Première ligne de resultats_tbl avec titres de colonnes:\")\n",
    "for column, value in zip(columns, first_row):\n",
    "    print(f\"{column}: {value}\")\n"
   ]
  },
  {
   "cell_type": "code",
   "execution_count": 31,
   "id": "9944c5f2-9865-4e80-99f3-e7c20552d133",
   "metadata": {},
   "outputs": [
    {
     "data": {
      "text/plain": [
       "(23946, 7)"
      ]
     },
     "execution_count": 31,
     "metadata": {},
     "output_type": "execute_result"
    }
   ],
   "source": [
    "y.shape"
   ]
  },
  {
   "cell_type": "code",
   "execution_count": 33,
   "id": "b4ac9ebd-7c52-4b59-90e0-907899fee110",
   "metadata": {},
   "outputs": [
    {
     "data": {
      "text/plain": [
       "(23946, '01001')"
      ]
     },
     "execution_count": 33,
     "metadata": {},
     "output_type": "execute_result"
    }
   ],
   "source": [
    "y_index_list = y.index\n",
    "len(y_index_list) , y_index_list[0]"
   ]
  },
  {
   "cell_type": "code",
   "execution_count": 34,
   "id": "358a79ce-1e4c-4fc3-b3c4-df49d00923fa",
   "metadata": {},
   "outputs": [
    {
     "data": {
      "text/plain": [
       "['NUP', 'ECO', 'ENS', 'LR_UDI', 'EXTREMD', 'CENTRE', 'OTR']"
      ]
     },
     "execution_count": 34,
     "metadata": {},
     "output_type": "execute_result"
    }
   ],
   "source": [
    "y_column_names_list = y.columns.tolist()\n",
    "y_column_names_list"
   ]
  },
  {
   "cell_type": "code",
   "execution_count": 35,
   "id": "3e0ffc0d-5892-474f-820e-767985a35c0e",
   "metadata": {},
   "outputs": [
    {
     "data": {
      "text/plain": [
       "['pred_NUP',\n",
       " 'pred_ECO',\n",
       " 'pred_ENS',\n",
       " 'pred_LR_UDI',\n",
       " 'pred_EXTREMD',\n",
       " 'pred_CENTRE',\n",
       " 'pred_OTR']"
      ]
     },
     "execution_count": 35,
     "metadata": {},
     "output_type": "execute_result"
    }
   ],
   "source": [
    "pred_column_names_list = ['pred_' + column for column in y_column_names_list]\n",
    "pred_column_names_list"
   ]
  },
  {
   "cell_type": "code",
   "execution_count": 36,
   "id": "6b9f69e5-85dc-4e93-909d-e1b1c353eba6",
   "metadata": {},
   "outputs": [
    {
     "data": {
      "text/plain": [
       "'TAR_inscrits'"
      ]
     },
     "execution_count": 36,
     "metadata": {},
     "output_type": "execute_result"
    }
   ],
   "source": [
    "titr_cols_list = X.columns.tolist()\n",
    "titr_cols_list[0]"
   ]
  },
  {
   "cell_type": "code",
   "execution_count": 37,
   "id": "6c992453-0fcb-4a99-9b76-73589b0e45d9",
   "metadata": {},
   "outputs": [],
   "source": [
    "## CREATION \n",
    "connection = sqlite3.connect(db_path)\n",
    "\n",
    "# Create a cursor object to execute SQL queries\n",
    "cursor = connection.cursor()\n",
    "\n",
    "# Specify the table name to be deleted\n",
    "table_name = 'X_col_titr'\n",
    "\n",
    "# Define the SQL command to drop the table\n",
    "drop_table_sql = f\"DROP TABLE IF EXISTS {table_name};\"\n",
    "\n",
    "# Execute the SQL command to drop the table\n",
    "cursor.execute(drop_table_sql)\n",
    "\n",
    "# Commit the changes to the database\n",
    "connection.commit()"
   ]
  },
  {
   "cell_type": "code",
   "execution_count": 38,
   "id": "bd99dafa-99dd-4d87-93f1-ad9cd43a0705",
   "metadata": {},
   "outputs": [],
   "source": [
    "## CREATION \n",
    "connection = sqlite3.connect(db_path)\n",
    "\n",
    "# Create a cursor object to execute SQL queries\n",
    "cursor = connection.cursor()\n",
    "\n",
    "# Define the SQL command to create the table\n",
    "table_name = 'X_col_titr'\n",
    "\n",
    "create_table_sql = f\"\"\"\n",
    "CREATE TABLE IF NOT EXISTS {table_name} (\n",
    "    indice INTEGER PRIMARY KEY,\n",
    "    titr_col_value TEXT\n",
    ");\n",
    "\"\"\"\n",
    "\n",
    "# Execute the SQL command to create the table\n",
    "cursor.execute(create_table_sql)\n",
    "\n",
    "# Insert data into the table\n",
    "# ko ! insert_data_sql = f\"INSERT INTO {table_name} (titr_col_value) VALUES (?)\"\n",
    "# ko ! cursor.executemany(insert_data_sql, [(value,) for value in titr_cols_list])\n",
    "\n",
    "# Insert data into the table starting with indice 0\n",
    "insert_data_sql = f\"INSERT INTO {table_name} (indice, titr_col_value) VALUES (?, ?)\"\n",
    "cursor.executemany(insert_data_sql, [(i, value) for i, value in enumerate(titr_cols_list)])\n",
    "\n",
    "\n",
    "\n",
    "# Commit the changes to the database\n",
    "connection.commit()\n",
    "\n",
    "# Close the cursor and connection\n",
    "cursor.close()\n",
    "connection.close()\n"
   ]
  },
  {
   "cell_type": "code",
   "execution_count": 39,
   "id": "02318aa2-8799-4d66-a589-a01fdfe411c0",
   "metadata": {},
   "outputs": [
    {
     "data": {
      "text/plain": [
       "dict_keys(['XGBoost_reg200_importance_tbl', 'XGBoost_reg200_resultats_tbl', 'X_col_titr', 'y_resultats200_tbl'])"
      ]
     },
     "execution_count": 39,
     "metadata": {},
     "output_type": "execute_result"
    }
   ],
   "source": [
    "tbl_db_names = metadata.tables.keys()\n",
    "tbl_db_names\n"
   ]
  },
  {
   "cell_type": "markdown",
   "id": "c95ebcdb-8ab5-495f-9fbc-2d7e97f80723",
   "metadata": {},
   "source": [
    "# MODEL XGBOOST200"
   ]
  },
  {
   "cell_type": "code",
   "execution_count": 61,
   "id": "b1a37e10-a4b8-457a-abe5-1e395c5aecaf",
   "metadata": {},
   "outputs": [
    {
     "name": "stdout",
     "output_type": "stream",
     "text": [
      "X_train shape :  (21551, 261)\n",
      "X_test shape :  (2395, 261)\n",
      "y_train shape :  (21551, 7)\n",
      "y_test shape :  (2395, 7)\n"
     ]
    }
   ],
   "source": [
    "X_train, X_test, y_train, y_test = train_test_split(X, y, test_size=0.1, random_state=42)\n",
    "print('X_train shape : ', X_train.shape)\n",
    "print('X_test shape : ', X_test.shape)\n",
    "print('y_train shape : ', y_train.shape)\n",
    "print('y_test shape : ', y_test.shape)"
   ]
  },
  {
   "cell_type": "markdown",
   "id": "bcbbdaac-bd7a-412f-b586-3e1130365c61",
   "metadata": {},
   "source": [
    "### StandardScaler"
   ]
  },
  {
   "cell_type": "code",
   "execution_count": 62,
   "id": "6cd6ca9c-3da0-4cc0-95d7-f5e3786be9f1",
   "metadata": {},
   "outputs": [],
   "source": [
    "scaler = StandardScaler()\n",
    "X_train_scaled = scaler.fit_transform(X_train)\n",
    "X_test_scaled = scaler.transform(X_test)"
   ]
  },
  {
   "cell_type": "code",
   "execution_count": 63,
   "id": "f4d2d3c3-943d-4c11-a147-4632314a9527",
   "metadata": {},
   "outputs": [
    {
     "name": "stdout",
     "output_type": "stream",
     "text": [
      "X_train_scaled shape :  (21551, 261)\n",
      "X_test_scaled shape :  (2395, 261)\n",
      "y_train shape :  (21551, 7)\n",
      "y_test shape :  (2395, 7)\n"
     ]
    }
   ],
   "source": [
    "print('X_train_scaled shape : ', X_train_scaled.shape)\n",
    "print('X_test_scaled shape : ', X_test_scaled.shape)\n",
    "print('y_train shape : ', y_train.shape)\n",
    "print('y_test shape : ', y_test.shape)"
   ]
  },
  {
   "cell_type": "code",
   "execution_count": 64,
   "id": "17c9a06d-c834-4d26-b364-a6c10c991e70",
   "metadata": {},
   "outputs": [],
   "source": [
    "X2= X.copy()\n",
    "X_train_scaled2= X_train_scaled.copy()\n",
    "X_test_scaled2= X_test_scaled.copy()\n",
    "y_train2= y_train.copy()\n",
    "y_test2= y_test.copy()"
   ]
  },
  {
   "cell_type": "code",
   "execution_count": 65,
   "id": "77035314-f9b6-4e42-9ee2-e834e40ad434",
   "metadata": {},
   "outputs": [
    {
     "data": {
      "text/html": [
       "<div>\n",
       "<style scoped>\n",
       "    .dataframe tbody tr th:only-of-type {\n",
       "        vertical-align: middle;\n",
       "    }\n",
       "\n",
       "    .dataframe tbody tr th {\n",
       "        vertical-align: top;\n",
       "    }\n",
       "\n",
       "    .dataframe thead th {\n",
       "        text-align: right;\n",
       "    }\n",
       "</style>\n",
       "<table border=\"1\" class=\"dataframe\">\n",
       "  <thead>\n",
       "    <tr style=\"text-align: right;\">\n",
       "      <th></th>\n",
       "      <th>NUP</th>\n",
       "      <th>ECO</th>\n",
       "      <th>ENS</th>\n",
       "      <th>LR_UDI</th>\n",
       "      <th>EXTREMD</th>\n",
       "      <th>CENTRE</th>\n",
       "      <th>OTR</th>\n",
       "    </tr>\n",
       "    <tr>\n",
       "      <th>key</th>\n",
       "      <th></th>\n",
       "      <th></th>\n",
       "      <th></th>\n",
       "      <th></th>\n",
       "      <th></th>\n",
       "      <th></th>\n",
       "      <th></th>\n",
       "    </tr>\n",
       "  </thead>\n",
       "  <tbody>\n",
       "    <tr>\n",
       "      <th>01001</th>\n",
       "      <td>0.153392</td>\n",
       "      <td>0.023599</td>\n",
       "      <td>0.147493</td>\n",
       "      <td>0.271386</td>\n",
       "      <td>0.318584</td>\n",
       "      <td>0.073746</td>\n",
       "      <td>0.011799</td>\n",
       "    </tr>\n",
       "    <tr>\n",
       "      <th>01002</th>\n",
       "      <td>0.343750</td>\n",
       "      <td>0.000000</td>\n",
       "      <td>0.000000</td>\n",
       "      <td>0.109375</td>\n",
       "      <td>0.078125</td>\n",
       "      <td>0.437500</td>\n",
       "      <td>0.031250</td>\n",
       "    </tr>\n",
       "    <tr>\n",
       "      <th>01004</th>\n",
       "      <td>0.298106</td>\n",
       "      <td>0.000000</td>\n",
       "      <td>0.000000</td>\n",
       "      <td>0.087488</td>\n",
       "      <td>0.262961</td>\n",
       "      <td>0.321037</td>\n",
       "      <td>0.030409</td>\n",
       "    </tr>\n",
       "    <tr>\n",
       "      <th>01005</th>\n",
       "      <td>0.160772</td>\n",
       "      <td>0.024116</td>\n",
       "      <td>0.178457</td>\n",
       "      <td>0.204180</td>\n",
       "      <td>0.376206</td>\n",
       "      <td>0.048232</td>\n",
       "      <td>0.008039</td>\n",
       "    </tr>\n",
       "    <tr>\n",
       "      <th>01007</th>\n",
       "      <td>0.251241</td>\n",
       "      <td>0.000000</td>\n",
       "      <td>0.000000</td>\n",
       "      <td>0.049652</td>\n",
       "      <td>0.290963</td>\n",
       "      <td>0.397219</td>\n",
       "      <td>0.010924</td>\n",
       "    </tr>\n",
       "    <tr>\n",
       "      <th>...</th>\n",
       "      <td>...</td>\n",
       "      <td>...</td>\n",
       "      <td>...</td>\n",
       "      <td>...</td>\n",
       "      <td>...</td>\n",
       "      <td>...</td>\n",
       "      <td>...</td>\n",
       "    </tr>\n",
       "    <tr>\n",
       "      <th>95675</th>\n",
       "      <td>0.235772</td>\n",
       "      <td>0.010840</td>\n",
       "      <td>0.157182</td>\n",
       "      <td>0.165312</td>\n",
       "      <td>0.371274</td>\n",
       "      <td>0.040650</td>\n",
       "      <td>0.018970</td>\n",
       "    </tr>\n",
       "    <tr>\n",
       "      <th>95676</th>\n",
       "      <td>0.140351</td>\n",
       "      <td>0.087719</td>\n",
       "      <td>0.232456</td>\n",
       "      <td>0.166667</td>\n",
       "      <td>0.328947</td>\n",
       "      <td>0.026316</td>\n",
       "      <td>0.017544</td>\n",
       "    </tr>\n",
       "    <tr>\n",
       "      <th>95678</th>\n",
       "      <td>0.184874</td>\n",
       "      <td>0.047619</td>\n",
       "      <td>0.282913</td>\n",
       "      <td>0.131653</td>\n",
       "      <td>0.296919</td>\n",
       "      <td>0.025210</td>\n",
       "      <td>0.030812</td>\n",
       "    </tr>\n",
       "    <tr>\n",
       "      <th>95680</th>\n",
       "      <td>0.460476</td>\n",
       "      <td>0.010000</td>\n",
       "      <td>0.235714</td>\n",
       "      <td>0.031667</td>\n",
       "      <td>0.132619</td>\n",
       "      <td>0.105476</td>\n",
       "      <td>0.024048</td>\n",
       "    </tr>\n",
       "    <tr>\n",
       "      <th>95690</th>\n",
       "      <td>0.161677</td>\n",
       "      <td>0.083832</td>\n",
       "      <td>0.305389</td>\n",
       "      <td>0.209581</td>\n",
       "      <td>0.221557</td>\n",
       "      <td>0.017964</td>\n",
       "      <td>0.000000</td>\n",
       "    </tr>\n",
       "  </tbody>\n",
       "</table>\n",
       "<p>23946 rows × 7 columns</p>\n",
       "</div>"
      ],
      "text/plain": [
       "            NUP       ECO       ENS    LR_UDI   EXTREMD    CENTRE       OTR\n",
       "key                                                                        \n",
       "01001  0.153392  0.023599  0.147493  0.271386  0.318584  0.073746  0.011799\n",
       "01002  0.343750  0.000000  0.000000  0.109375  0.078125  0.437500  0.031250\n",
       "01004  0.298106  0.000000  0.000000  0.087488  0.262961  0.321037  0.030409\n",
       "01005  0.160772  0.024116  0.178457  0.204180  0.376206  0.048232  0.008039\n",
       "01007  0.251241  0.000000  0.000000  0.049652  0.290963  0.397219  0.010924\n",
       "...         ...       ...       ...       ...       ...       ...       ...\n",
       "95675  0.235772  0.010840  0.157182  0.165312  0.371274  0.040650  0.018970\n",
       "95676  0.140351  0.087719  0.232456  0.166667  0.328947  0.026316  0.017544\n",
       "95678  0.184874  0.047619  0.282913  0.131653  0.296919  0.025210  0.030812\n",
       "95680  0.460476  0.010000  0.235714  0.031667  0.132619  0.105476  0.024048\n",
       "95690  0.161677  0.083832  0.305389  0.209581  0.221557  0.017964  0.000000\n",
       "\n",
       "[23946 rows x 7 columns]"
      ]
     },
     "execution_count": 65,
     "metadata": {},
     "output_type": "execute_result"
    }
   ],
   "source": [
    "y"
   ]
  },
  {
   "cell_type": "markdown",
   "id": "b8718790-7ddf-4f96-97b8-ae0d53c2b8a2",
   "metadata": {},
   "source": [
    "# xgboost grid search"
   ]
  },
  {
   "cell_type": "code",
   "execution_count": 71,
   "id": "f582398a-f911-4231-87d2-369cd6e6850d",
   "metadata": {},
   "outputs": [
    {
     "name": "stdout",
     "output_type": "stream",
     "text": [
      "Fitting 3 folds for each of 36 candidates, totalling 108 fits\n",
      "[CV] END estimator__learning_rate=0.01, estimator__max_depth=2, estimator__n_estimators=250; total time=   6.8s\n",
      "[CV] END estimator__learning_rate=0.01, estimator__max_depth=2, estimator__n_estimators=250; total time=   7.1s\n",
      "[CV] END estimator__learning_rate=0.01, estimator__max_depth=2, estimator__n_estimators=250; total time=   6.5s\n",
      "[CV] END estimator__learning_rate=0.01, estimator__max_depth=2, estimator__n_estimators=500; total time=  13.4s\n",
      "[CV] END estimator__learning_rate=0.01, estimator__max_depth=2, estimator__n_estimators=500; total time=  15.2s\n",
      "[CV] END estimator__learning_rate=0.01, estimator__max_depth=2, estimator__n_estimators=500; total time=  12.9s\n",
      "[CV] END estimator__learning_rate=0.01, estimator__max_depth=2, estimator__n_estimators=1000; total time=  26.2s\n",
      "[CV] END estimator__learning_rate=0.01, estimator__max_depth=2, estimator__n_estimators=1000; total time=  26.9s\n",
      "[CV] END estimator__learning_rate=0.01, estimator__max_depth=2, estimator__n_estimators=1000; total time=  26.6s\n",
      "[CV] END estimator__learning_rate=0.01, estimator__max_depth=2, estimator__n_estimators=1500; total time=  41.0s\n",
      "[CV] END estimator__learning_rate=0.01, estimator__max_depth=2, estimator__n_estimators=1500; total time=  47.4s\n",
      "[CV] END estimator__learning_rate=0.01, estimator__max_depth=2, estimator__n_estimators=1500; total time=  39.1s\n",
      "[CV] END estimator__learning_rate=0.01, estimator__max_depth=3, estimator__n_estimators=250; total time=   6.7s\n",
      "[CV] END estimator__learning_rate=0.01, estimator__max_depth=3, estimator__n_estimators=250; total time=   6.7s\n",
      "[CV] END estimator__learning_rate=0.01, estimator__max_depth=3, estimator__n_estimators=250; total time=  10.6s\n",
      "[CV] END estimator__learning_rate=0.01, estimator__max_depth=3, estimator__n_estimators=500; total time=  13.7s\n",
      "[CV] END estimator__learning_rate=0.01, estimator__max_depth=3, estimator__n_estimators=500; total time=  14.0s\n",
      "[CV] END estimator__learning_rate=0.01, estimator__max_depth=3, estimator__n_estimators=500; total time=  13.4s\n",
      "[CV] END estimator__learning_rate=0.01, estimator__max_depth=3, estimator__n_estimators=1000; total time=  28.7s\n",
      "[CV] END estimator__learning_rate=0.01, estimator__max_depth=3, estimator__n_estimators=1000; total time=  27.3s\n",
      "[CV] END estimator__learning_rate=0.01, estimator__max_depth=3, estimator__n_estimators=1000; total time=  27.4s\n",
      "[CV] END estimator__learning_rate=0.01, estimator__max_depth=3, estimator__n_estimators=1500; total time=  40.9s\n",
      "[CV] END estimator__learning_rate=0.01, estimator__max_depth=3, estimator__n_estimators=1500; total time=  46.6s\n",
      "[CV] END estimator__learning_rate=0.01, estimator__max_depth=3, estimator__n_estimators=1500; total time=  49.1s\n",
      "[CV] END estimator__learning_rate=0.01, estimator__max_depth=4, estimator__n_estimators=250; total time=   7.8s\n",
      "[CV] END estimator__learning_rate=0.01, estimator__max_depth=4, estimator__n_estimators=250; total time=   7.1s\n",
      "[CV] END estimator__learning_rate=0.01, estimator__max_depth=4, estimator__n_estimators=250; total time=   7.1s\n",
      "[CV] END estimator__learning_rate=0.01, estimator__max_depth=4, estimator__n_estimators=500; total time=  14.4s\n",
      "[CV] END estimator__learning_rate=0.01, estimator__max_depth=4, estimator__n_estimators=500; total time=  14.6s\n",
      "[CV] END estimator__learning_rate=0.01, estimator__max_depth=4, estimator__n_estimators=500; total time=  14.1s\n",
      "[CV] END estimator__learning_rate=0.01, estimator__max_depth=4, estimator__n_estimators=1000; total time=  29.3s\n",
      "[CV] END estimator__learning_rate=0.01, estimator__max_depth=4, estimator__n_estimators=1000; total time=  28.4s\n",
      "[CV] END estimator__learning_rate=0.01, estimator__max_depth=4, estimator__n_estimators=1000; total time=  29.5s\n",
      "[CV] END estimator__learning_rate=0.01, estimator__max_depth=4, estimator__n_estimators=1500; total time=  43.4s\n",
      "[CV] END estimator__learning_rate=0.01, estimator__max_depth=4, estimator__n_estimators=1500; total time=  44.1s\n",
      "[CV] END estimator__learning_rate=0.01, estimator__max_depth=4, estimator__n_estimators=1500; total time=  44.4s\n",
      "[CV] END estimator__learning_rate=0.1, estimator__max_depth=2, estimator__n_estimators=250; total time=   6.5s\n",
      "[CV] END estimator__learning_rate=0.1, estimator__max_depth=2, estimator__n_estimators=250; total time=   6.5s\n",
      "[CV] END estimator__learning_rate=0.1, estimator__max_depth=2, estimator__n_estimators=250; total time=   6.5s\n",
      "[CV] END estimator__learning_rate=0.1, estimator__max_depth=2, estimator__n_estimators=500; total time=  13.4s\n",
      "[CV] END estimator__learning_rate=0.1, estimator__max_depth=2, estimator__n_estimators=500; total time=  12.9s\n",
      "[CV] END estimator__learning_rate=0.1, estimator__max_depth=2, estimator__n_estimators=500; total time=  16.7s\n",
      "[CV] END estimator__learning_rate=0.1, estimator__max_depth=2, estimator__n_estimators=1000; total time=  25.6s\n",
      "[CV] END estimator__learning_rate=0.1, estimator__max_depth=2, estimator__n_estimators=1000; total time=  26.9s\n",
      "[CV] END estimator__learning_rate=0.1, estimator__max_depth=2, estimator__n_estimators=1000; total time=  26.5s\n",
      "[CV] END estimator__learning_rate=0.1, estimator__max_depth=2, estimator__n_estimators=1500; total time=  39.7s\n",
      "[CV] END estimator__learning_rate=0.1, estimator__max_depth=2, estimator__n_estimators=1500; total time=  41.6s\n",
      "[CV] END estimator__learning_rate=0.1, estimator__max_depth=2, estimator__n_estimators=1500; total time=  42.6s\n",
      "[CV] END estimator__learning_rate=0.1, estimator__max_depth=3, estimator__n_estimators=250; total time=  14.4s\n",
      "[CV] END estimator__learning_rate=0.1, estimator__max_depth=3, estimator__n_estimators=250; total time=   6.7s\n",
      "[CV] END estimator__learning_rate=0.1, estimator__max_depth=3, estimator__n_estimators=250; total time=   7.0s\n",
      "[CV] END estimator__learning_rate=0.1, estimator__max_depth=3, estimator__n_estimators=500; total time=  14.1s\n",
      "[CV] END estimator__learning_rate=0.1, estimator__max_depth=3, estimator__n_estimators=500; total time=  13.4s\n",
      "[CV] END estimator__learning_rate=0.1, estimator__max_depth=3, estimator__n_estimators=500; total time=  15.0s\n",
      "[CV] END estimator__learning_rate=0.1, estimator__max_depth=3, estimator__n_estimators=1000; total time=  27.1s\n",
      "[CV] END estimator__learning_rate=0.1, estimator__max_depth=3, estimator__n_estimators=1000; total time=  27.4s\n",
      "[CV] END estimator__learning_rate=0.1, estimator__max_depth=3, estimator__n_estimators=1000; total time=  27.2s\n",
      "[CV] END estimator__learning_rate=0.1, estimator__max_depth=3, estimator__n_estimators=1500; total time=  42.0s\n",
      "[CV] END estimator__learning_rate=0.1, estimator__max_depth=3, estimator__n_estimators=1500; total time=  42.6s\n",
      "[CV] END estimator__learning_rate=0.1, estimator__max_depth=3, estimator__n_estimators=1500; total time=  40.8s\n",
      "[CV] END estimator__learning_rate=0.1, estimator__max_depth=4, estimator__n_estimators=250; total time=   9.3s\n",
      "[CV] END estimator__learning_rate=0.1, estimator__max_depth=4, estimator__n_estimators=250; total time=   7.1s\n",
      "[CV] END estimator__learning_rate=0.1, estimator__max_depth=4, estimator__n_estimators=250; total time=   7.0s\n",
      "[CV] END estimator__learning_rate=0.1, estimator__max_depth=4, estimator__n_estimators=500; total time=  14.5s\n",
      "[CV] END estimator__learning_rate=0.1, estimator__max_depth=4, estimator__n_estimators=500; total time=  13.9s\n",
      "[CV] END estimator__learning_rate=0.1, estimator__max_depth=4, estimator__n_estimators=500; total time=  13.9s\n",
      "[CV] END estimator__learning_rate=0.1, estimator__max_depth=4, estimator__n_estimators=1000; total time=  28.7s\n",
      "[CV] END estimator__learning_rate=0.1, estimator__max_depth=4, estimator__n_estimators=1000; total time=  31.5s\n",
      "[CV] END estimator__learning_rate=0.1, estimator__max_depth=4, estimator__n_estimators=1000; total time=  32.5s\n",
      "[CV] END estimator__learning_rate=0.1, estimator__max_depth=4, estimator__n_estimators=1500; total time=  43.1s\n",
      "[CV] END estimator__learning_rate=0.1, estimator__max_depth=4, estimator__n_estimators=1500; total time=  42.7s\n",
      "[CV] END estimator__learning_rate=0.1, estimator__max_depth=4, estimator__n_estimators=1500; total time=  43.5s\n",
      "[CV] END estimator__learning_rate=0.15, estimator__max_depth=2, estimator__n_estimators=250; total time=   6.5s\n",
      "[CV] END estimator__learning_rate=0.15, estimator__max_depth=2, estimator__n_estimators=250; total time=   6.5s\n",
      "[CV] END estimator__learning_rate=0.15, estimator__max_depth=2, estimator__n_estimators=250; total time=   9.8s\n",
      "[CV] END estimator__learning_rate=0.15, estimator__max_depth=2, estimator__n_estimators=500; total time=  13.6s\n",
      "[CV] END estimator__learning_rate=0.15, estimator__max_depth=2, estimator__n_estimators=500; total time=  13.0s\n",
      "[CV] END estimator__learning_rate=0.15, estimator__max_depth=2, estimator__n_estimators=500; total time=  13.4s\n",
      "[CV] END estimator__learning_rate=0.15, estimator__max_depth=2, estimator__n_estimators=1000; total time=  26.1s\n",
      "[CV] END estimator__learning_rate=0.15, estimator__max_depth=2, estimator__n_estimators=1000; total time=  28.4s\n",
      "[CV] END estimator__learning_rate=0.15, estimator__max_depth=2, estimator__n_estimators=1000; total time=  27.7s\n",
      "[CV] END estimator__learning_rate=0.15, estimator__max_depth=2, estimator__n_estimators=1500; total time=  42.2s\n",
      "[CV] END estimator__learning_rate=0.15, estimator__max_depth=2, estimator__n_estimators=1500; total time=  39.6s\n",
      "[CV] END estimator__learning_rate=0.15, estimator__max_depth=2, estimator__n_estimators=1500; total time=  40.3s\n",
      "[CV] END estimator__learning_rate=0.15, estimator__max_depth=3, estimator__n_estimators=250; total time=   7.4s\n",
      "[CV] END estimator__learning_rate=0.15, estimator__max_depth=3, estimator__n_estimators=250; total time=   7.3s\n",
      "[CV] END estimator__learning_rate=0.15, estimator__max_depth=3, estimator__n_estimators=250; total time=   6.8s\n",
      "[CV] END estimator__learning_rate=0.15, estimator__max_depth=3, estimator__n_estimators=500; total time=  14.1s\n",
      "[CV] END estimator__learning_rate=0.15, estimator__max_depth=3, estimator__n_estimators=500; total time=  13.5s\n",
      "[CV] END estimator__learning_rate=0.15, estimator__max_depth=3, estimator__n_estimators=500; total time=  13.7s\n",
      "[CV] END estimator__learning_rate=0.15, estimator__max_depth=3, estimator__n_estimators=1000; total time=  36.0s\n",
      "[CV] END estimator__learning_rate=0.15, estimator__max_depth=3, estimator__n_estimators=1000; total time=  27.5s\n",
      "[CV] END estimator__learning_rate=0.15, estimator__max_depth=3, estimator__n_estimators=1000; total time=  31.9s\n",
      "[CV] END estimator__learning_rate=0.15, estimator__max_depth=3, estimator__n_estimators=1500; total time=  41.0s\n",
      "[CV] END estimator__learning_rate=0.15, estimator__max_depth=3, estimator__n_estimators=1500; total time=  41.4s\n",
      "[CV] END estimator__learning_rate=0.15, estimator__max_depth=3, estimator__n_estimators=1500; total time=  41.6s\n",
      "[CV] END estimator__learning_rate=0.15, estimator__max_depth=4, estimator__n_estimators=250; total time=   7.5s\n",
      "[CV] END estimator__learning_rate=0.15, estimator__max_depth=4, estimator__n_estimators=250; total time=   7.1s\n",
      "[CV] END estimator__learning_rate=0.15, estimator__max_depth=4, estimator__n_estimators=250; total time=   7.0s\n",
      "[CV] END estimator__learning_rate=0.15, estimator__max_depth=4, estimator__n_estimators=500; total time=  14.9s\n",
      "[CV] END estimator__learning_rate=0.15, estimator__max_depth=4, estimator__n_estimators=500; total time=  14.4s\n",
      "[CV] END estimator__learning_rate=0.15, estimator__max_depth=4, estimator__n_estimators=500; total time=  18.3s\n",
      "[CV] END estimator__learning_rate=0.15, estimator__max_depth=4, estimator__n_estimators=1000; total time=  28.7s\n",
      "[CV] END estimator__learning_rate=0.15, estimator__max_depth=4, estimator__n_estimators=1000; total time=  30.1s\n",
      "[CV] END estimator__learning_rate=0.15, estimator__max_depth=4, estimator__n_estimators=1000; total time=  28.7s\n",
      "[CV] END estimator__learning_rate=0.15, estimator__max_depth=4, estimator__n_estimators=1500; total time=  44.9s\n",
      "[CV] END estimator__learning_rate=0.15, estimator__max_depth=4, estimator__n_estimators=1500; total time=  44.9s\n",
      "[CV] END estimator__learning_rate=0.15, estimator__max_depth=4, estimator__n_estimators=1500; total time=  43.8s\n",
      "Best Parameters: {'estimator__learning_rate': 0.15, 'estimator__max_depth': 2, 'estimator__n_estimators': 1500}\n"
     ]
    }
   ],
   "source": [
    "from sklearn.multioutput import MultiOutputRegressor\n",
    "from sklearn.model_selection import GridSearchCV\n",
    "from xgboost import XGBRegressor\n",
    "from sklearn.datasets import make_regression\n",
    "\n",
    "# Example data (replace with your actual data)\n",
    "X_train_scaled, y_train = make_regression(n_samples=1000, n_features=5, n_targets=7, random_state=42)\n",
    "\n",
    "# Create the MultiOutputRegressor with the XGBoostRegressor\n",
    "xgb_regressor = xgb.XGBRegressor(objective='reg:squarederror')\n",
    "multioutputregressor = MultiOutputRegressor(xgb_regressor)\n",
    "\n",
    "# Define the parameter grid for grid search\n",
    "param_grid = {\n",
    "    'estimator__n_estimators': [250, 500, 1000, 1500],\n",
    "    'estimator__learning_rate': [0.01, 0.1, 0.15],\n",
    "    'estimator__max_depth': [2, 3, 4]\n",
    "}\n",
    "\n",
    "# Create the GridSearchCV object\n",
    "grid_search = GridSearchCV(multioutputregressor, param_grid, cv=3, verbose=2)\n",
    "\n",
    "# Fit the model to the data\n",
    "grid_search.fit(X_train_scaled, y_train)\n",
    "\n",
    "# Print the best parameters and the corresponding estimator\n",
    "print(\"Best Parameters:\", grid_search.best_params_)\n",
    "best_estimator = grid_search.best_estimator_\n"
   ]
  },
  {
   "cell_type": "code",
   "execution_count": 98,
   "id": "bbee4b1d-a2f1-44ce-9e9c-d6fbd7a96d66",
   "metadata": {},
   "outputs": [
    {
     "name": "stdout",
     "output_type": "stream",
     "text": [
      "Fitting 3 folds for each of 3 candidates, totalling 9 fits\n",
      "[CV] END estimator__learning_rate=0.15, estimator__max_depth=2, estimator__n_estimators=1500; total time=  48.5s\n",
      "[CV] END estimator__learning_rate=0.15, estimator__max_depth=2, estimator__n_estimators=1500; total time=  49.1s\n",
      "[CV] END estimator__learning_rate=0.15, estimator__max_depth=2, estimator__n_estimators=1500; total time=  51.7s\n",
      "[CV] END estimator__learning_rate=0.15, estimator__max_depth=2, estimator__n_estimators=2250; total time= 1.1min\n",
      "[CV] END estimator__learning_rate=0.15, estimator__max_depth=2, estimator__n_estimators=2250; total time= 1.2min\n",
      "[CV] END estimator__learning_rate=0.15, estimator__max_depth=2, estimator__n_estimators=2250; total time= 1.0min\n",
      "[CV] END estimator__learning_rate=0.15, estimator__max_depth=2, estimator__n_estimators=3000; total time= 1.3min\n",
      "[CV] END estimator__learning_rate=0.15, estimator__max_depth=2, estimator__n_estimators=3000; total time= 1.3min\n",
      "[CV] END estimator__learning_rate=0.15, estimator__max_depth=2, estimator__n_estimators=3000; total time= 1.5min\n",
      "best_estimator MultiOutputRegressor(estimator=XGBRegressor(base_score=None, booster=None,\n",
      "                                            callbacks=None,\n",
      "                                            colsample_bylevel=None,\n",
      "                                            colsample_bynode=None,\n",
      "                                            colsample_bytree=None,\n",
      "                                            early_stopping_rounds=None,\n",
      "                                            enable_categorical=False,\n",
      "                                            eval_metric=None, gamma=None,\n",
      "                                            gpu_id=None, grow_policy=None,\n",
      "                                            importance_type=None,\n",
      "                                            interaction_constraints=None,\n",
      "                                            learning_rate=0.15, max_bin=None,\n",
      "                                            max_cat_to_onehot=None,\n",
      "                                            max_delta_step=None, max_depth=2,\n",
      "                                            max_leaves=None,\n",
      "                                            min_child_weight=None, missing=nan,\n",
      "                                            monotone_constraints=None,\n",
      "                                            n_estimators=3000, n_jobs=None,\n",
      "                                            num_parallel_tree=None,\n",
      "                                            predictor=None, random_state=None,\n",
      "                                            reg_alpha=None, reg_lambda=None, ...))\n"
     ]
    },
    {
     "ename": "ValueError",
     "evalue": "Feature shape mismatch, expected: 5, got 261",
     "output_type": "error",
     "traceback": [
      "\u001b[0;31m---------------------------------------------------------------------------\u001b[0m",
      "\u001b[0;31mValueError\u001b[0m                                Traceback (most recent call last)",
      "Cell \u001b[0;32mIn [98], line 32\u001b[0m\n\u001b[1;32m     29\u001b[0m \u001b[38;5;28mprint\u001b[39m (\u001b[38;5;124m'\u001b[39m\u001b[38;5;124mbest_estimator\u001b[39m\u001b[38;5;124m'\u001b[39m,best_estimator)\n\u001b[1;32m     31\u001b[0m \u001b[38;5;66;03m# Make predictions on the test data\u001b[39;00m\n\u001b[0;32m---> 32\u001b[0m y_pred \u001b[38;5;241m=\u001b[39m \u001b[43mbest_estimator\u001b[49m\u001b[38;5;241;43m.\u001b[39;49m\u001b[43mpredict\u001b[49m\u001b[43m(\u001b[49m\u001b[43mX_test_scaled\u001b[49m\u001b[43m)\u001b[49m\n\u001b[1;32m     34\u001b[0m \u001b[38;5;66;03m# Evaluate the performance of the model\u001b[39;00m\n\u001b[1;32m     35\u001b[0m mse \u001b[38;5;241m=\u001b[39m mean_squared_error(y_test, y_pred)\n",
      "File \u001b[0;32m~/.pyenv/versions/3.10.12/envs/artefact/lib/python3.10/site-packages/sklearn/multioutput.py:305\u001b[0m, in \u001b[0;36m_MultiOutputEstimator.predict\u001b[0;34m(self, X)\u001b[0m\n\u001b[1;32m    302\u001b[0m \u001b[38;5;28;01mif\u001b[39;00m \u001b[38;5;129;01mnot\u001b[39;00m \u001b[38;5;28mhasattr\u001b[39m(\u001b[38;5;28mself\u001b[39m\u001b[38;5;241m.\u001b[39mestimators_[\u001b[38;5;241m0\u001b[39m], \u001b[38;5;124m\"\u001b[39m\u001b[38;5;124mpredict\u001b[39m\u001b[38;5;124m\"\u001b[39m):\n\u001b[1;32m    303\u001b[0m     \u001b[38;5;28;01mraise\u001b[39;00m \u001b[38;5;167;01mValueError\u001b[39;00m(\u001b[38;5;124m\"\u001b[39m\u001b[38;5;124mThe base estimator should implement a predict method\u001b[39m\u001b[38;5;124m\"\u001b[39m)\n\u001b[0;32m--> 305\u001b[0m y \u001b[38;5;241m=\u001b[39m \u001b[43mParallel\u001b[49m\u001b[43m(\u001b[49m\u001b[43mn_jobs\u001b[49m\u001b[38;5;241;43m=\u001b[39;49m\u001b[38;5;28;43mself\u001b[39;49m\u001b[38;5;241;43m.\u001b[39;49m\u001b[43mn_jobs\u001b[49m\u001b[43m)\u001b[49m\u001b[43m(\u001b[49m\n\u001b[1;32m    306\u001b[0m \u001b[43m    \u001b[49m\u001b[43mdelayed\u001b[49m\u001b[43m(\u001b[49m\u001b[43me\u001b[49m\u001b[38;5;241;43m.\u001b[39;49m\u001b[43mpredict\u001b[49m\u001b[43m)\u001b[49m\u001b[43m(\u001b[49m\u001b[43mX\u001b[49m\u001b[43m)\u001b[49m\u001b[43m \u001b[49m\u001b[38;5;28;43;01mfor\u001b[39;49;00m\u001b[43m \u001b[49m\u001b[43me\u001b[49m\u001b[43m \u001b[49m\u001b[38;5;129;43;01min\u001b[39;49;00m\u001b[43m \u001b[49m\u001b[38;5;28;43mself\u001b[39;49m\u001b[38;5;241;43m.\u001b[39;49m\u001b[43mestimators_\u001b[49m\n\u001b[1;32m    307\u001b[0m \u001b[43m\u001b[49m\u001b[43m)\u001b[49m\n\u001b[1;32m    309\u001b[0m \u001b[38;5;28;01mreturn\u001b[39;00m np\u001b[38;5;241m.\u001b[39masarray(y)\u001b[38;5;241m.\u001b[39mT\n",
      "File \u001b[0;32m~/.pyenv/versions/3.10.12/envs/artefact/lib/python3.10/site-packages/sklearn/utils/parallel.py:65\u001b[0m, in \u001b[0;36mParallel.__call__\u001b[0;34m(self, iterable)\u001b[0m\n\u001b[1;32m     60\u001b[0m config \u001b[38;5;241m=\u001b[39m get_config()\n\u001b[1;32m     61\u001b[0m iterable_with_config \u001b[38;5;241m=\u001b[39m (\n\u001b[1;32m     62\u001b[0m     (_with_config(delayed_func, config), args, kwargs)\n\u001b[1;32m     63\u001b[0m     \u001b[38;5;28;01mfor\u001b[39;00m delayed_func, args, kwargs \u001b[38;5;129;01min\u001b[39;00m iterable\n\u001b[1;32m     64\u001b[0m )\n\u001b[0;32m---> 65\u001b[0m \u001b[38;5;28;01mreturn\u001b[39;00m \u001b[38;5;28;43msuper\u001b[39;49m\u001b[43m(\u001b[49m\u001b[43m)\u001b[49m\u001b[38;5;241;43m.\u001b[39;49m\u001b[38;5;21;43m__call__\u001b[39;49m\u001b[43m(\u001b[49m\u001b[43miterable_with_config\u001b[49m\u001b[43m)\u001b[49m\n",
      "File \u001b[0;32m~/.pyenv/versions/3.10.12/envs/artefact/lib/python3.10/site-packages/joblib/parallel.py:1863\u001b[0m, in \u001b[0;36mParallel.__call__\u001b[0;34m(self, iterable)\u001b[0m\n\u001b[1;32m   1861\u001b[0m     output \u001b[38;5;241m=\u001b[39m \u001b[38;5;28mself\u001b[39m\u001b[38;5;241m.\u001b[39m_get_sequential_output(iterable)\n\u001b[1;32m   1862\u001b[0m     \u001b[38;5;28mnext\u001b[39m(output)\n\u001b[0;32m-> 1863\u001b[0m     \u001b[38;5;28;01mreturn\u001b[39;00m output \u001b[38;5;28;01mif\u001b[39;00m \u001b[38;5;28mself\u001b[39m\u001b[38;5;241m.\u001b[39mreturn_generator \u001b[38;5;28;01melse\u001b[39;00m \u001b[38;5;28;43mlist\u001b[39;49m\u001b[43m(\u001b[49m\u001b[43moutput\u001b[49m\u001b[43m)\u001b[49m\n\u001b[1;32m   1865\u001b[0m \u001b[38;5;66;03m# Let's create an ID that uniquely identifies the current call. If the\u001b[39;00m\n\u001b[1;32m   1866\u001b[0m \u001b[38;5;66;03m# call is interrupted early and that the same instance is immediately\u001b[39;00m\n\u001b[1;32m   1867\u001b[0m \u001b[38;5;66;03m# re-used, this id will be used to prevent workers that were\u001b[39;00m\n\u001b[1;32m   1868\u001b[0m \u001b[38;5;66;03m# concurrently finalizing a task from the previous call to run the\u001b[39;00m\n\u001b[1;32m   1869\u001b[0m \u001b[38;5;66;03m# callback.\u001b[39;00m\n\u001b[1;32m   1870\u001b[0m \u001b[38;5;28;01mwith\u001b[39;00m \u001b[38;5;28mself\u001b[39m\u001b[38;5;241m.\u001b[39m_lock:\n",
      "File \u001b[0;32m~/.pyenv/versions/3.10.12/envs/artefact/lib/python3.10/site-packages/joblib/parallel.py:1792\u001b[0m, in \u001b[0;36mParallel._get_sequential_output\u001b[0;34m(self, iterable)\u001b[0m\n\u001b[1;32m   1790\u001b[0m \u001b[38;5;28mself\u001b[39m\u001b[38;5;241m.\u001b[39mn_dispatched_batches \u001b[38;5;241m+\u001b[39m\u001b[38;5;241m=\u001b[39m \u001b[38;5;241m1\u001b[39m\n\u001b[1;32m   1791\u001b[0m \u001b[38;5;28mself\u001b[39m\u001b[38;5;241m.\u001b[39mn_dispatched_tasks \u001b[38;5;241m+\u001b[39m\u001b[38;5;241m=\u001b[39m \u001b[38;5;241m1\u001b[39m\n\u001b[0;32m-> 1792\u001b[0m res \u001b[38;5;241m=\u001b[39m \u001b[43mfunc\u001b[49m\u001b[43m(\u001b[49m\u001b[38;5;241;43m*\u001b[39;49m\u001b[43margs\u001b[49m\u001b[43m,\u001b[49m\u001b[43m \u001b[49m\u001b[38;5;241;43m*\u001b[39;49m\u001b[38;5;241;43m*\u001b[39;49m\u001b[43mkwargs\u001b[49m\u001b[43m)\u001b[49m\n\u001b[1;32m   1793\u001b[0m \u001b[38;5;28mself\u001b[39m\u001b[38;5;241m.\u001b[39mn_completed_tasks \u001b[38;5;241m+\u001b[39m\u001b[38;5;241m=\u001b[39m \u001b[38;5;241m1\u001b[39m\n\u001b[1;32m   1794\u001b[0m \u001b[38;5;28mself\u001b[39m\u001b[38;5;241m.\u001b[39mprint_progress()\n",
      "File \u001b[0;32m~/.pyenv/versions/3.10.12/envs/artefact/lib/python3.10/site-packages/sklearn/utils/parallel.py:127\u001b[0m, in \u001b[0;36m_FuncWrapper.__call__\u001b[0;34m(self, *args, **kwargs)\u001b[0m\n\u001b[1;32m    125\u001b[0m     config \u001b[38;5;241m=\u001b[39m {}\n\u001b[1;32m    126\u001b[0m \u001b[38;5;28;01mwith\u001b[39;00m config_context(\u001b[38;5;241m*\u001b[39m\u001b[38;5;241m*\u001b[39mconfig):\n\u001b[0;32m--> 127\u001b[0m     \u001b[38;5;28;01mreturn\u001b[39;00m \u001b[38;5;28;43mself\u001b[39;49m\u001b[38;5;241;43m.\u001b[39;49m\u001b[43mfunction\u001b[49m\u001b[43m(\u001b[49m\u001b[38;5;241;43m*\u001b[39;49m\u001b[43margs\u001b[49m\u001b[43m,\u001b[49m\u001b[43m \u001b[49m\u001b[38;5;241;43m*\u001b[39;49m\u001b[38;5;241;43m*\u001b[39;49m\u001b[43mkwargs\u001b[49m\u001b[43m)\u001b[49m\n",
      "File \u001b[0;32m~/.pyenv/versions/3.10.12/envs/artefact/lib/python3.10/site-packages/xgboost/sklearn.py:1049\u001b[0m, in \u001b[0;36mXGBModel.predict\u001b[0;34m(self, X, output_margin, ntree_limit, validate_features, base_margin, iteration_range)\u001b[0m\n\u001b[1;32m   1047\u001b[0m \u001b[38;5;28;01mif\u001b[39;00m \u001b[38;5;28mself\u001b[39m\u001b[38;5;241m.\u001b[39m_can_use_inplace_predict():\n\u001b[1;32m   1048\u001b[0m     \u001b[38;5;28;01mtry\u001b[39;00m:\n\u001b[0;32m-> 1049\u001b[0m         predts \u001b[38;5;241m=\u001b[39m \u001b[38;5;28;43mself\u001b[39;49m\u001b[38;5;241;43m.\u001b[39;49m\u001b[43mget_booster\u001b[49m\u001b[43m(\u001b[49m\u001b[43m)\u001b[49m\u001b[38;5;241;43m.\u001b[39;49m\u001b[43minplace_predict\u001b[49m\u001b[43m(\u001b[49m\n\u001b[1;32m   1050\u001b[0m \u001b[43m            \u001b[49m\u001b[43mdata\u001b[49m\u001b[38;5;241;43m=\u001b[39;49m\u001b[43mX\u001b[49m\u001b[43m,\u001b[49m\n\u001b[1;32m   1051\u001b[0m \u001b[43m            \u001b[49m\u001b[43miteration_range\u001b[49m\u001b[38;5;241;43m=\u001b[39;49m\u001b[43miteration_range\u001b[49m\u001b[43m,\u001b[49m\n\u001b[1;32m   1052\u001b[0m \u001b[43m            \u001b[49m\u001b[43mpredict_type\u001b[49m\u001b[38;5;241;43m=\u001b[39;49m\u001b[38;5;124;43m\"\u001b[39;49m\u001b[38;5;124;43mmargin\u001b[39;49m\u001b[38;5;124;43m\"\u001b[39;49m\u001b[43m \u001b[49m\u001b[38;5;28;43;01mif\u001b[39;49;00m\u001b[43m \u001b[49m\u001b[43moutput_margin\u001b[49m\u001b[43m \u001b[49m\u001b[38;5;28;43;01melse\u001b[39;49;00m\u001b[43m \u001b[49m\u001b[38;5;124;43m\"\u001b[39;49m\u001b[38;5;124;43mvalue\u001b[39;49m\u001b[38;5;124;43m\"\u001b[39;49m\u001b[43m,\u001b[49m\n\u001b[1;32m   1053\u001b[0m \u001b[43m            \u001b[49m\u001b[43mmissing\u001b[49m\u001b[38;5;241;43m=\u001b[39;49m\u001b[38;5;28;43mself\u001b[39;49m\u001b[38;5;241;43m.\u001b[39;49m\u001b[43mmissing\u001b[49m\u001b[43m,\u001b[49m\n\u001b[1;32m   1054\u001b[0m \u001b[43m            \u001b[49m\u001b[43mbase_margin\u001b[49m\u001b[38;5;241;43m=\u001b[39;49m\u001b[43mbase_margin\u001b[49m\u001b[43m,\u001b[49m\n\u001b[1;32m   1055\u001b[0m \u001b[43m            \u001b[49m\u001b[43mvalidate_features\u001b[49m\u001b[38;5;241;43m=\u001b[39;49m\u001b[43mvalidate_features\u001b[49m\u001b[43m,\u001b[49m\n\u001b[1;32m   1056\u001b[0m \u001b[43m        \u001b[49m\u001b[43m)\u001b[49m\n\u001b[1;32m   1057\u001b[0m         \u001b[38;5;28;01mif\u001b[39;00m _is_cupy_array(predts):\n\u001b[1;32m   1058\u001b[0m             \u001b[38;5;28;01mimport\u001b[39;00m \u001b[38;5;21;01mcupy\u001b[39;00m     \u001b[38;5;66;03m# pylint: disable=import-error\u001b[39;00m\n",
      "File \u001b[0;32m~/.pyenv/versions/3.10.12/envs/artefact/lib/python3.10/site-packages/xgboost/core.py:2128\u001b[0m, in \u001b[0;36mBooster.inplace_predict\u001b[0;34m(self, data, iteration_range, predict_type, missing, validate_features, base_margin, strict_shape)\u001b[0m\n\u001b[1;32m   2124\u001b[0m         \u001b[38;5;28;01mraise\u001b[39;00m \u001b[38;5;167;01mTypeError\u001b[39;00m(\n\u001b[1;32m   2125\u001b[0m             \u001b[38;5;124m\"\u001b[39m\u001b[38;5;124m`shape` attribute is required when `validate_features` is True.\u001b[39m\u001b[38;5;124m\"\u001b[39m\n\u001b[1;32m   2126\u001b[0m         )\n\u001b[1;32m   2127\u001b[0m     \u001b[38;5;28;01mif\u001b[39;00m \u001b[38;5;28mlen\u001b[39m(data\u001b[38;5;241m.\u001b[39mshape) \u001b[38;5;241m!=\u001b[39m \u001b[38;5;241m1\u001b[39m \u001b[38;5;129;01mand\u001b[39;00m \u001b[38;5;28mself\u001b[39m\u001b[38;5;241m.\u001b[39mnum_features() \u001b[38;5;241m!=\u001b[39m data\u001b[38;5;241m.\u001b[39mshape[\u001b[38;5;241m1\u001b[39m]:\n\u001b[0;32m-> 2128\u001b[0m         \u001b[38;5;28;01mraise\u001b[39;00m \u001b[38;5;167;01mValueError\u001b[39;00m(\n\u001b[1;32m   2129\u001b[0m             \u001b[38;5;124mf\u001b[39m\u001b[38;5;124m\"\u001b[39m\u001b[38;5;124mFeature shape mismatch, expected: \u001b[39m\u001b[38;5;132;01m{\u001b[39;00m\u001b[38;5;28mself\u001b[39m\u001b[38;5;241m.\u001b[39mnum_features()\u001b[38;5;132;01m}\u001b[39;00m\u001b[38;5;124m, \u001b[39m\u001b[38;5;124m\"\u001b[39m\n\u001b[1;32m   2130\u001b[0m             \u001b[38;5;124mf\u001b[39m\u001b[38;5;124m\"\u001b[39m\u001b[38;5;124mgot \u001b[39m\u001b[38;5;132;01m{\u001b[39;00mdata\u001b[38;5;241m.\u001b[39mshape[\u001b[38;5;241m1\u001b[39m]\u001b[38;5;132;01m}\u001b[39;00m\u001b[38;5;124m\"\u001b[39m\n\u001b[1;32m   2131\u001b[0m         )\n\u001b[1;32m   2133\u001b[0m \u001b[38;5;28;01mfrom\u001b[39;00m \u001b[38;5;21;01m.\u001b[39;00m\u001b[38;5;21;01mdata\u001b[39;00m \u001b[38;5;28;01mimport\u001b[39;00m (\n\u001b[1;32m   2134\u001b[0m     _is_pandas_df,\n\u001b[1;32m   2135\u001b[0m     _transform_pandas_df,\n\u001b[0;32m   (...)\u001b[0m\n\u001b[1;32m   2138\u001b[0m     _array_interface,\n\u001b[1;32m   2139\u001b[0m )\n\u001b[1;32m   2140\u001b[0m enable_categorical \u001b[38;5;241m=\u001b[39m _has_categorical(\u001b[38;5;28mself\u001b[39m, data)\n",
      "\u001b[0;31mValueError\u001b[0m: Feature shape mismatch, expected: 5, got 261"
     ]
    }
   ],
   "source": [
    "from sklearn.multioutput import MultiOutputRegressor\n",
    "from xgboost import XGBRegressor\n",
    "from sklearn.model_selection import GridSearchCV\n",
    "from sklearn.metrics import mean_squared_error\n",
    "\n",
    "# Assuming X_train_scaled, y_train, X_test_scaled, and y_test are already defined\n",
    "\n",
    "# Create the MultiOutputRegressor with the XGBoostRegressor\n",
    "xgb_regressor = XGBRegressor(objective='reg:squarederror')\n",
    "\n",
    "# Create the MultiOutputRegressor\n",
    "multioutputregressor = MultiOutputRegressor(xgb_regressor)\n",
    "\n",
    "# Define the parameter grid for grid search\n",
    "param_grid = {\n",
    "    'estimator__n_estimators': [1500,2250,3000],\n",
    "    'estimator__learning_rate': [0.15],\n",
    "    'estimator__max_depth': [2]\n",
    "}\n",
    "\n",
    "# Create the GridSearchCV object\n",
    "grid_search = GridSearchCV(multioutputregressor, param_grid, cv=3, verbose=2)\n",
    "\n",
    "# Fit the grid_search object on the training data\n",
    "grid_search.fit(X_train_scaled, y_train)\n",
    "\n",
    "# Get the best estimator\n",
    "best_estimator = grid_search.best_estimator_\n",
    "print ('best_estimator',best_estimator)\n",
    "\n",
    "# Make predictions on the test data\n",
    "y_pred = best_estimator.predict(X_test_scaled)\n",
    "\n",
    "# Evaluate the performance of the model\n",
    "mse = mean_squared_error(y_test, y_pred)\n",
    "print(f'Mean Squared Error on Test Data: {mse}')"
   ]
  },
  {
   "cell_type": "code",
   "execution_count": 105,
   "id": "5052f4c8-c1d4-4642-8446-de7d9ea8ed14",
   "metadata": {},
   "outputs": [
    {
     "name": "stdout",
     "output_type": "stream",
     "text": [
      "XGBoost feature names: None\n"
     ]
    }
   ],
   "source": [
    "xgb_regressor_0 = best_estimator.estimators_[0]\n",
    "feature_names = xgb_regressor_0.get_booster().feature_names\n",
    "\n",
    "print(\"XGBoost feature names:\", feature_names)\n"
   ]
  },
  {
   "cell_type": "code",
   "execution_count": 117,
   "id": "954c947a-bd4a-4d4b-a55d-407611e005a3",
   "metadata": {},
   "outputs": [
    {
     "ename": "ValueError",
     "evalue": "('feature_names must have the same length as data, ', 'expected 5, got 261')",
     "output_type": "error",
     "traceback": [
      "\u001b[0;31m---------------------------------------------------------------------------\u001b[0m",
      "\u001b[0;31mValueError\u001b[0m                                Traceback (most recent call last)",
      "Cell \u001b[0;32mIn [117], line 2\u001b[0m\n\u001b[1;32m      1\u001b[0m feature_names \u001b[38;5;241m=\u001b[39m [list_colX[i] \u001b[38;5;28;01mfor\u001b[39;00m i \u001b[38;5;129;01min\u001b[39;00m \u001b[38;5;28mrange\u001b[39m(\u001b[38;5;28mlen\u001b[39m(list_colX))]\n\u001b[0;32m----> 2\u001b[0m dtrain \u001b[38;5;241m=\u001b[39m \u001b[43mxgb\u001b[49m\u001b[38;5;241;43m.\u001b[39;49m\u001b[43mDMatrix\u001b[49m\u001b[43m(\u001b[49m\u001b[43mX_train_scaled\u001b[49m\u001b[43m,\u001b[49m\u001b[43m \u001b[49m\u001b[43mlabel\u001b[49m\u001b[38;5;241;43m=\u001b[39;49m\u001b[43my_train\u001b[49m\u001b[43m,\u001b[49m\u001b[43m \u001b[49m\u001b[43mfeature_names\u001b[49m\u001b[38;5;241;43m=\u001b[39;49m\u001b[43mfeature_names\u001b[49m\u001b[43m)\u001b[49m\n\u001b[1;32m      3\u001b[0m feature_names\n",
      "File \u001b[0;32m~/.pyenv/versions/3.10.12/envs/artefact/lib/python3.10/site-packages/xgboost/core.py:575\u001b[0m, in \u001b[0;36m_deprecate_positional_args.<locals>.inner_f\u001b[0;34m(*args, **kwargs)\u001b[0m\n\u001b[1;32m    573\u001b[0m \u001b[38;5;28;01mfor\u001b[39;00m k, arg \u001b[38;5;129;01min\u001b[39;00m \u001b[38;5;28mzip\u001b[39m(sig\u001b[38;5;241m.\u001b[39mparameters, args):\n\u001b[1;32m    574\u001b[0m     kwargs[k] \u001b[38;5;241m=\u001b[39m arg\n\u001b[0;32m--> 575\u001b[0m \u001b[38;5;28;01mreturn\u001b[39;00m \u001b[43mf\u001b[49m\u001b[43m(\u001b[49m\u001b[38;5;241;43m*\u001b[39;49m\u001b[38;5;241;43m*\u001b[39;49m\u001b[43mkwargs\u001b[49m\u001b[43m)\u001b[49m\n",
      "File \u001b[0;32m~/.pyenv/versions/3.10.12/envs/artefact/lib/python3.10/site-packages/xgboost/core.py:709\u001b[0m, in \u001b[0;36mDMatrix.__init__\u001b[0;34m(self, data, label, weight, base_margin, missing, silent, feature_names, feature_types, nthread, group, qid, label_lower_bound, label_upper_bound, feature_weights, enable_categorical)\u001b[0m\n\u001b[1;32m    697\u001b[0m \u001b[38;5;28mself\u001b[39m\u001b[38;5;241m.\u001b[39mset_info(\n\u001b[1;32m    698\u001b[0m     label\u001b[38;5;241m=\u001b[39mlabel,\n\u001b[1;32m    699\u001b[0m     weight\u001b[38;5;241m=\u001b[39mweight,\n\u001b[0;32m   (...)\u001b[0m\n\u001b[1;32m    705\u001b[0m     feature_weights\u001b[38;5;241m=\u001b[39mfeature_weights,\n\u001b[1;32m    706\u001b[0m )\n\u001b[1;32m    708\u001b[0m \u001b[38;5;28;01mif\u001b[39;00m feature_names \u001b[38;5;129;01mis\u001b[39;00m \u001b[38;5;129;01mnot\u001b[39;00m \u001b[38;5;28;01mNone\u001b[39;00m:\n\u001b[0;32m--> 709\u001b[0m     \u001b[38;5;28;43mself\u001b[39;49m\u001b[38;5;241;43m.\u001b[39;49m\u001b[43mfeature_names\u001b[49m \u001b[38;5;241m=\u001b[39m feature_names\n\u001b[1;32m    710\u001b[0m \u001b[38;5;28;01mif\u001b[39;00m feature_types \u001b[38;5;129;01mis\u001b[39;00m \u001b[38;5;129;01mnot\u001b[39;00m \u001b[38;5;28;01mNone\u001b[39;00m:\n\u001b[1;32m    711\u001b[0m     \u001b[38;5;28mself\u001b[39m\u001b[38;5;241m.\u001b[39mfeature_types \u001b[38;5;241m=\u001b[39m feature_types\n",
      "File \u001b[0;32m~/.pyenv/versions/3.10.12/envs/artefact/lib/python3.10/site-packages/xgboost/core.py:1082\u001b[0m, in \u001b[0;36mDMatrix.feature_names\u001b[0;34m(self, feature_names)\u001b[0m\n\u001b[1;32m   1079\u001b[0m \u001b[38;5;28;01mif\u001b[39;00m \u001b[38;5;28mlen\u001b[39m(feature_names) \u001b[38;5;241m!=\u001b[39m \u001b[38;5;28mself\u001b[39m\u001b[38;5;241m.\u001b[39mnum_col() \u001b[38;5;129;01mand\u001b[39;00m \u001b[38;5;28mself\u001b[39m\u001b[38;5;241m.\u001b[39mnum_col() \u001b[38;5;241m!=\u001b[39m \u001b[38;5;241m0\u001b[39m:\n\u001b[1;32m   1080\u001b[0m     msg \u001b[38;5;241m=\u001b[39m (\u001b[38;5;124m\"\u001b[39m\u001b[38;5;124mfeature_names must have the same length as data, \u001b[39m\u001b[38;5;124m\"\u001b[39m,\n\u001b[1;32m   1081\u001b[0m            \u001b[38;5;124mf\u001b[39m\u001b[38;5;124m\"\u001b[39m\u001b[38;5;124mexpected \u001b[39m\u001b[38;5;132;01m{\u001b[39;00m\u001b[38;5;28mself\u001b[39m\u001b[38;5;241m.\u001b[39mnum_col()\u001b[38;5;132;01m}\u001b[39;00m\u001b[38;5;124m, got \u001b[39m\u001b[38;5;132;01m{\u001b[39;00m\u001b[38;5;28mlen\u001b[39m(feature_names)\u001b[38;5;132;01m}\u001b[39;00m\u001b[38;5;124m\"\u001b[39m)\n\u001b[0;32m-> 1082\u001b[0m     \u001b[38;5;28;01mraise\u001b[39;00m \u001b[38;5;167;01mValueError\u001b[39;00m(msg)\n\u001b[1;32m   1083\u001b[0m \u001b[38;5;66;03m# prohibit to use symbols may affect to parse. e.g. []<\u001b[39;00m\n\u001b[1;32m   1084\u001b[0m \u001b[38;5;28;01mif\u001b[39;00m \u001b[38;5;129;01mnot\u001b[39;00m \u001b[38;5;28mall\u001b[39m(\u001b[38;5;28misinstance\u001b[39m(f, \u001b[38;5;28mstr\u001b[39m) \u001b[38;5;129;01mand\u001b[39;00m\n\u001b[1;32m   1085\u001b[0m            \u001b[38;5;129;01mnot\u001b[39;00m \u001b[38;5;28many\u001b[39m(x \u001b[38;5;129;01min\u001b[39;00m f \u001b[38;5;28;01mfor\u001b[39;00m x \u001b[38;5;129;01min\u001b[39;00m \u001b[38;5;28mset\u001b[39m((\u001b[38;5;124m'\u001b[39m\u001b[38;5;124m[\u001b[39m\u001b[38;5;124m'\u001b[39m, \u001b[38;5;124m'\u001b[39m\u001b[38;5;124m]\u001b[39m\u001b[38;5;124m'\u001b[39m, \u001b[38;5;124m'\u001b[39m\u001b[38;5;124m<\u001b[39m\u001b[38;5;124m'\u001b[39m)))\n\u001b[1;32m   1086\u001b[0m            \u001b[38;5;28;01mfor\u001b[39;00m f \u001b[38;5;129;01min\u001b[39;00m feature_names):\n",
      "\u001b[0;31mValueError\u001b[0m: ('feature_names must have the same length as data, ', 'expected 5, got 261')"
     ]
    }
   ],
   "source": [
    "feature_names = [list_colX[i] for i in range(len(list_colX))]\n",
    "dtrain = xgb.DMatrix(X_train_scaled, label=y_train, feature_names=feature_names)\n",
    "feature_names"
   ]
  },
  {
   "cell_type": "code",
   "execution_count": null,
   "id": "c19d2e50-73fa-477c-a74f-a6045cce6a79",
   "metadata": {},
   "outputs": [],
   "source": []
  },
  {
   "cell_type": "code",
   "execution_count": 112,
   "id": "24f03324-95bf-4207-b1d9-f943b74d7393",
   "metadata": {},
   "outputs": [
    {
     "name": "stdout",
     "output_type": "stream",
     "text": [
      "[13:47:26] WARNING: ../src/learner.cc:627: \n",
      "Parameters: { \"n_estimators\" } might not be used.\n",
      "\n",
      "  This could be a false alarm, with some parameters getting used by language bindings but\n",
      "  then being mistakenly passed down to XGBoost core, or some parameter actually being used\n",
      "  but getting flagged wrongly here. Please open an issue if you find any such cases.\n",
      "\n",
      "\n"
     ]
    }
   ],
   "source": [
    "# Create DMatrix\n",
    "dtrain = xgb.DMatrix(X_train_scaled, label=y_train)\n",
    "\n",
    "# Define parameters for XGBoost\n",
    "params = {\n",
    "    'objective': 'reg:squarederror',  # for regression tasks\n",
    "    'learning_rate': 0.15,\n",
    "    'max_depth': 2,\n",
    "    'n_estimators': 3000\n",
    "    # add other parameters as needed\n",
    "}\n",
    "\n",
    "# Train the model\n",
    "model = xgb.train(params, dtrain, num_boost_round=params['n_estimators'])\n",
    "\n"
   ]
  },
  {
   "cell_type": "code",
   "execution_count": 113,
   "id": "b7ef207e-6881-407a-a404-9eae96653891",
   "metadata": {},
   "outputs": [
    {
     "ename": "XGBoostError",
     "evalue": "[13:47:50] ../src/learner.cc:1343: Check failed: learner_model_param_.num_feature >= p_fmat->Info().num_col_ (5 vs. 261) : Number of columns does not match number of features in booster.\nStack trace:\n  [bt] (0) /home/nicolas/.pyenv/versions/3.10.12/envs/artefact/lib/python3.10/site-packages/xgboost/lib/libxgboost.so(+0x20d889) [0x7fa578c0d889]\n  [bt] (1) /home/nicolas/.pyenv/versions/3.10.12/envs/artefact/lib/python3.10/site-packages/xgboost/lib/libxgboost.so(+0x219b6d) [0x7fa578c19b6d]\n  [bt] (2) /home/nicolas/.pyenv/versions/3.10.12/envs/artefact/lib/python3.10/site-packages/xgboost/lib/libxgboost.so(+0x219bfd) [0x7fa578c19bfd]\n  [bt] (3) /home/nicolas/.pyenv/versions/3.10.12/envs/artefact/lib/python3.10/site-packages/xgboost/lib/libxgboost.so(+0x219eed) [0x7fa578c19eed]\n  [bt] (4) /home/nicolas/.pyenv/versions/3.10.12/envs/artefact/lib/python3.10/site-packages/xgboost/lib/libxgboost.so(XGBoosterPredictFromDMatrix+0x3fd) [0x7fa578ac2dad]\n  [bt] (5) /lib/x86_64-linux-gnu/libffi.so.8(+0x7e2e) [0x7fa5f4105e2e]\n  [bt] (6) /lib/x86_64-linux-gnu/libffi.so.8(+0x4493) [0x7fa5f4102493]\n  [bt] (7) /home/nicolas/.pyenv/versions/3.10.12/lib/python3.10/lib-dynload/_ctypes.cpython-310-x86_64-linux-gnu.so(+0x12ea5) [0x7fa5f4123ea5]\n  [bt] (8) /home/nicolas/.pyenv/versions/3.10.12/lib/python3.10/lib-dynload/_ctypes.cpython-310-x86_64-linux-gnu.so(+0xc940) [0x7fa5f411d940]\n\n",
     "output_type": "error",
     "traceback": [
      "\u001b[0;31m---------------------------------------------------------------------------\u001b[0m",
      "\u001b[0;31mXGBoostError\u001b[0m                              Traceback (most recent call last)",
      "Cell \u001b[0;32mIn [113], line 5\u001b[0m\n\u001b[1;32m      2\u001b[0m dtest \u001b[38;5;241m=\u001b[39m xgb\u001b[38;5;241m.\u001b[39mDMatrix(X_test_scaled)\n\u001b[1;32m      4\u001b[0m \u001b[38;5;66;03m# Make predictions\u001b[39;00m\n\u001b[0;32m----> 5\u001b[0m predictions \u001b[38;5;241m=\u001b[39m \u001b[43mmodel\u001b[49m\u001b[38;5;241;43m.\u001b[39;49m\u001b[43mpredict\u001b[49m\u001b[43m(\u001b[49m\u001b[43mdtest\u001b[49m\u001b[43m)\u001b[49m\n",
      "File \u001b[0;32m~/.pyenv/versions/3.10.12/envs/artefact/lib/python3.10/site-packages/xgboost/core.py:2023\u001b[0m, in \u001b[0;36mBooster.predict\u001b[0;34m(self, data, output_margin, ntree_limit, pred_leaf, pred_contribs, approx_contribs, pred_interactions, validate_features, training, iteration_range, strict_shape)\u001b[0m\n\u001b[1;32m   2021\u001b[0m shape \u001b[38;5;241m=\u001b[39m ctypes\u001b[38;5;241m.\u001b[39mPOINTER(c_bst_ulong)()\n\u001b[1;32m   2022\u001b[0m dims \u001b[38;5;241m=\u001b[39m c_bst_ulong()\n\u001b[0;32m-> 2023\u001b[0m \u001b[43m_check_call\u001b[49m\u001b[43m(\u001b[49m\n\u001b[1;32m   2024\u001b[0m \u001b[43m    \u001b[49m\u001b[43m_LIB\u001b[49m\u001b[38;5;241;43m.\u001b[39;49m\u001b[43mXGBoosterPredictFromDMatrix\u001b[49m\u001b[43m(\u001b[49m\n\u001b[1;32m   2025\u001b[0m \u001b[43m        \u001b[49m\u001b[38;5;28;43mself\u001b[39;49m\u001b[38;5;241;43m.\u001b[39;49m\u001b[43mhandle\u001b[49m\u001b[43m,\u001b[49m\n\u001b[1;32m   2026\u001b[0m \u001b[43m        \u001b[49m\u001b[43mdata\u001b[49m\u001b[38;5;241;43m.\u001b[39;49m\u001b[43mhandle\u001b[49m\u001b[43m,\u001b[49m\n\u001b[1;32m   2027\u001b[0m \u001b[43m        \u001b[49m\u001b[43mfrom_pystr_to_cstr\u001b[49m\u001b[43m(\u001b[49m\u001b[43mjson\u001b[49m\u001b[38;5;241;43m.\u001b[39;49m\u001b[43mdumps\u001b[49m\u001b[43m(\u001b[49m\u001b[43margs\u001b[49m\u001b[43m)\u001b[49m\u001b[43m)\u001b[49m\u001b[43m,\u001b[49m\n\u001b[1;32m   2028\u001b[0m \u001b[43m        \u001b[49m\u001b[43mctypes\u001b[49m\u001b[38;5;241;43m.\u001b[39;49m\u001b[43mbyref\u001b[49m\u001b[43m(\u001b[49m\u001b[43mshape\u001b[49m\u001b[43m)\u001b[49m\u001b[43m,\u001b[49m\n\u001b[1;32m   2029\u001b[0m \u001b[43m        \u001b[49m\u001b[43mctypes\u001b[49m\u001b[38;5;241;43m.\u001b[39;49m\u001b[43mbyref\u001b[49m\u001b[43m(\u001b[49m\u001b[43mdims\u001b[49m\u001b[43m)\u001b[49m\u001b[43m,\u001b[49m\n\u001b[1;32m   2030\u001b[0m \u001b[43m        \u001b[49m\u001b[43mctypes\u001b[49m\u001b[38;5;241;43m.\u001b[39;49m\u001b[43mbyref\u001b[49m\u001b[43m(\u001b[49m\u001b[43mpreds\u001b[49m\u001b[43m)\u001b[49m\n\u001b[1;32m   2031\u001b[0m \u001b[43m    \u001b[49m\u001b[43m)\u001b[49m\n\u001b[1;32m   2032\u001b[0m \u001b[43m\u001b[49m\u001b[43m)\u001b[49m\n\u001b[1;32m   2033\u001b[0m \u001b[38;5;28;01mreturn\u001b[39;00m _prediction_output(shape, dims, preds, \u001b[38;5;28;01mFalse\u001b[39;00m)\n",
      "File \u001b[0;32m~/.pyenv/versions/3.10.12/envs/artefact/lib/python3.10/site-packages/xgboost/core.py:246\u001b[0m, in \u001b[0;36m_check_call\u001b[0;34m(ret)\u001b[0m\n\u001b[1;32m    235\u001b[0m \u001b[38;5;124;03m\"\"\"Check the return value of C API call\u001b[39;00m\n\u001b[1;32m    236\u001b[0m \n\u001b[1;32m    237\u001b[0m \u001b[38;5;124;03mThis function will raise exception when error occurs.\u001b[39;00m\n\u001b[0;32m   (...)\u001b[0m\n\u001b[1;32m    243\u001b[0m \u001b[38;5;124;03m    return value from API calls\u001b[39;00m\n\u001b[1;32m    244\u001b[0m \u001b[38;5;124;03m\"\"\"\u001b[39;00m\n\u001b[1;32m    245\u001b[0m \u001b[38;5;28;01mif\u001b[39;00m ret \u001b[38;5;241m!=\u001b[39m \u001b[38;5;241m0\u001b[39m:\n\u001b[0;32m--> 246\u001b[0m     \u001b[38;5;28;01mraise\u001b[39;00m XGBoostError(py_str(_LIB\u001b[38;5;241m.\u001b[39mXGBGetLastError()))\n",
      "\u001b[0;31mXGBoostError\u001b[0m: [13:47:50] ../src/learner.cc:1343: Check failed: learner_model_param_.num_feature >= p_fmat->Info().num_col_ (5 vs. 261) : Number of columns does not match number of features in booster.\nStack trace:\n  [bt] (0) /home/nicolas/.pyenv/versions/3.10.12/envs/artefact/lib/python3.10/site-packages/xgboost/lib/libxgboost.so(+0x20d889) [0x7fa578c0d889]\n  [bt] (1) /home/nicolas/.pyenv/versions/3.10.12/envs/artefact/lib/python3.10/site-packages/xgboost/lib/libxgboost.so(+0x219b6d) [0x7fa578c19b6d]\n  [bt] (2) /home/nicolas/.pyenv/versions/3.10.12/envs/artefact/lib/python3.10/site-packages/xgboost/lib/libxgboost.so(+0x219bfd) [0x7fa578c19bfd]\n  [bt] (3) /home/nicolas/.pyenv/versions/3.10.12/envs/artefact/lib/python3.10/site-packages/xgboost/lib/libxgboost.so(+0x219eed) [0x7fa578c19eed]\n  [bt] (4) /home/nicolas/.pyenv/versions/3.10.12/envs/artefact/lib/python3.10/site-packages/xgboost/lib/libxgboost.so(XGBoosterPredictFromDMatrix+0x3fd) [0x7fa578ac2dad]\n  [bt] (5) /lib/x86_64-linux-gnu/libffi.so.8(+0x7e2e) [0x7fa5f4105e2e]\n  [bt] (6) /lib/x86_64-linux-gnu/libffi.so.8(+0x4493) [0x7fa5f4102493]\n  [bt] (7) /home/nicolas/.pyenv/versions/3.10.12/lib/python3.10/lib-dynload/_ctypes.cpython-310-x86_64-linux-gnu.so(+0x12ea5) [0x7fa5f4123ea5]\n  [bt] (8) /home/nicolas/.pyenv/versions/3.10.12/lib/python3.10/lib-dynload/_ctypes.cpython-310-x86_64-linux-gnu.so(+0xc940) [0x7fa5f411d940]\n\n"
     ]
    }
   ],
   "source": [
    "# Assuming X_test_scaled is your test data\n",
    "dtest = xgb.DMatrix(X_test_scaled)\n",
    "\n",
    "# Make predictions\n",
    "predictions = model.predict(dtest)"
   ]
  },
  {
   "cell_type": "code",
   "execution_count": 99,
   "id": "b0d21b27-9987-47b3-9925-a620a84e3404",
   "metadata": {},
   "outputs": [
    {
     "ename": "ValueError",
     "evalue": "Feature shape mismatch, expected: 5, got 261",
     "output_type": "error",
     "traceback": [
      "\u001b[0;31m---------------------------------------------------------------------------\u001b[0m",
      "\u001b[0;31mValueError\u001b[0m                                Traceback (most recent call last)",
      "Cell \u001b[0;32mIn [99], line 16\u001b[0m\n\u001b[1;32m     12\u001b[0m \u001b[38;5;66;03m# Fit the model on the training data\u001b[39;00m\n\u001b[1;32m     13\u001b[0m multioutputregressor\u001b[38;5;241m.\u001b[39mfit(X_train_scaled, y_train)\n\u001b[0;32m---> 16\u001b[0m y_pred \u001b[38;5;241m=\u001b[39m \u001b[43mmultioutputregressor\u001b[49m\u001b[38;5;241;43m.\u001b[39;49m\u001b[43mpredict\u001b[49m\u001b[43m(\u001b[49m\u001b[43mX_test_scaled\u001b[49m\u001b[43m)\u001b[49m\n\u001b[1;32m     18\u001b[0m \u001b[38;5;66;03m# Evaluate the performance of the model\u001b[39;00m\n\u001b[1;32m     19\u001b[0m mse \u001b[38;5;241m=\u001b[39m mean_squared_error(y_test, y_pred)\n",
      "File \u001b[0;32m~/.pyenv/versions/3.10.12/envs/artefact/lib/python3.10/site-packages/sklearn/multioutput.py:305\u001b[0m, in \u001b[0;36m_MultiOutputEstimator.predict\u001b[0;34m(self, X)\u001b[0m\n\u001b[1;32m    302\u001b[0m \u001b[38;5;28;01mif\u001b[39;00m \u001b[38;5;129;01mnot\u001b[39;00m \u001b[38;5;28mhasattr\u001b[39m(\u001b[38;5;28mself\u001b[39m\u001b[38;5;241m.\u001b[39mestimators_[\u001b[38;5;241m0\u001b[39m], \u001b[38;5;124m\"\u001b[39m\u001b[38;5;124mpredict\u001b[39m\u001b[38;5;124m\"\u001b[39m):\n\u001b[1;32m    303\u001b[0m     \u001b[38;5;28;01mraise\u001b[39;00m \u001b[38;5;167;01mValueError\u001b[39;00m(\u001b[38;5;124m\"\u001b[39m\u001b[38;5;124mThe base estimator should implement a predict method\u001b[39m\u001b[38;5;124m\"\u001b[39m)\n\u001b[0;32m--> 305\u001b[0m y \u001b[38;5;241m=\u001b[39m \u001b[43mParallel\u001b[49m\u001b[43m(\u001b[49m\u001b[43mn_jobs\u001b[49m\u001b[38;5;241;43m=\u001b[39;49m\u001b[38;5;28;43mself\u001b[39;49m\u001b[38;5;241;43m.\u001b[39;49m\u001b[43mn_jobs\u001b[49m\u001b[43m)\u001b[49m\u001b[43m(\u001b[49m\n\u001b[1;32m    306\u001b[0m \u001b[43m    \u001b[49m\u001b[43mdelayed\u001b[49m\u001b[43m(\u001b[49m\u001b[43me\u001b[49m\u001b[38;5;241;43m.\u001b[39;49m\u001b[43mpredict\u001b[49m\u001b[43m)\u001b[49m\u001b[43m(\u001b[49m\u001b[43mX\u001b[49m\u001b[43m)\u001b[49m\u001b[43m \u001b[49m\u001b[38;5;28;43;01mfor\u001b[39;49;00m\u001b[43m \u001b[49m\u001b[43me\u001b[49m\u001b[43m \u001b[49m\u001b[38;5;129;43;01min\u001b[39;49;00m\u001b[43m \u001b[49m\u001b[38;5;28;43mself\u001b[39;49m\u001b[38;5;241;43m.\u001b[39;49m\u001b[43mestimators_\u001b[49m\n\u001b[1;32m    307\u001b[0m \u001b[43m\u001b[49m\u001b[43m)\u001b[49m\n\u001b[1;32m    309\u001b[0m \u001b[38;5;28;01mreturn\u001b[39;00m np\u001b[38;5;241m.\u001b[39masarray(y)\u001b[38;5;241m.\u001b[39mT\n",
      "File \u001b[0;32m~/.pyenv/versions/3.10.12/envs/artefact/lib/python3.10/site-packages/sklearn/utils/parallel.py:65\u001b[0m, in \u001b[0;36mParallel.__call__\u001b[0;34m(self, iterable)\u001b[0m\n\u001b[1;32m     60\u001b[0m config \u001b[38;5;241m=\u001b[39m get_config()\n\u001b[1;32m     61\u001b[0m iterable_with_config \u001b[38;5;241m=\u001b[39m (\n\u001b[1;32m     62\u001b[0m     (_with_config(delayed_func, config), args, kwargs)\n\u001b[1;32m     63\u001b[0m     \u001b[38;5;28;01mfor\u001b[39;00m delayed_func, args, kwargs \u001b[38;5;129;01min\u001b[39;00m iterable\n\u001b[1;32m     64\u001b[0m )\n\u001b[0;32m---> 65\u001b[0m \u001b[38;5;28;01mreturn\u001b[39;00m \u001b[38;5;28;43msuper\u001b[39;49m\u001b[43m(\u001b[49m\u001b[43m)\u001b[49m\u001b[38;5;241;43m.\u001b[39;49m\u001b[38;5;21;43m__call__\u001b[39;49m\u001b[43m(\u001b[49m\u001b[43miterable_with_config\u001b[49m\u001b[43m)\u001b[49m\n",
      "File \u001b[0;32m~/.pyenv/versions/3.10.12/envs/artefact/lib/python3.10/site-packages/joblib/parallel.py:1863\u001b[0m, in \u001b[0;36mParallel.__call__\u001b[0;34m(self, iterable)\u001b[0m\n\u001b[1;32m   1861\u001b[0m     output \u001b[38;5;241m=\u001b[39m \u001b[38;5;28mself\u001b[39m\u001b[38;5;241m.\u001b[39m_get_sequential_output(iterable)\n\u001b[1;32m   1862\u001b[0m     \u001b[38;5;28mnext\u001b[39m(output)\n\u001b[0;32m-> 1863\u001b[0m     \u001b[38;5;28;01mreturn\u001b[39;00m output \u001b[38;5;28;01mif\u001b[39;00m \u001b[38;5;28mself\u001b[39m\u001b[38;5;241m.\u001b[39mreturn_generator \u001b[38;5;28;01melse\u001b[39;00m \u001b[38;5;28;43mlist\u001b[39;49m\u001b[43m(\u001b[49m\u001b[43moutput\u001b[49m\u001b[43m)\u001b[49m\n\u001b[1;32m   1865\u001b[0m \u001b[38;5;66;03m# Let's create an ID that uniquely identifies the current call. If the\u001b[39;00m\n\u001b[1;32m   1866\u001b[0m \u001b[38;5;66;03m# call is interrupted early and that the same instance is immediately\u001b[39;00m\n\u001b[1;32m   1867\u001b[0m \u001b[38;5;66;03m# re-used, this id will be used to prevent workers that were\u001b[39;00m\n\u001b[1;32m   1868\u001b[0m \u001b[38;5;66;03m# concurrently finalizing a task from the previous call to run the\u001b[39;00m\n\u001b[1;32m   1869\u001b[0m \u001b[38;5;66;03m# callback.\u001b[39;00m\n\u001b[1;32m   1870\u001b[0m \u001b[38;5;28;01mwith\u001b[39;00m \u001b[38;5;28mself\u001b[39m\u001b[38;5;241m.\u001b[39m_lock:\n",
      "File \u001b[0;32m~/.pyenv/versions/3.10.12/envs/artefact/lib/python3.10/site-packages/joblib/parallel.py:1792\u001b[0m, in \u001b[0;36mParallel._get_sequential_output\u001b[0;34m(self, iterable)\u001b[0m\n\u001b[1;32m   1790\u001b[0m \u001b[38;5;28mself\u001b[39m\u001b[38;5;241m.\u001b[39mn_dispatched_batches \u001b[38;5;241m+\u001b[39m\u001b[38;5;241m=\u001b[39m \u001b[38;5;241m1\u001b[39m\n\u001b[1;32m   1791\u001b[0m \u001b[38;5;28mself\u001b[39m\u001b[38;5;241m.\u001b[39mn_dispatched_tasks \u001b[38;5;241m+\u001b[39m\u001b[38;5;241m=\u001b[39m \u001b[38;5;241m1\u001b[39m\n\u001b[0;32m-> 1792\u001b[0m res \u001b[38;5;241m=\u001b[39m \u001b[43mfunc\u001b[49m\u001b[43m(\u001b[49m\u001b[38;5;241;43m*\u001b[39;49m\u001b[43margs\u001b[49m\u001b[43m,\u001b[49m\u001b[43m \u001b[49m\u001b[38;5;241;43m*\u001b[39;49m\u001b[38;5;241;43m*\u001b[39;49m\u001b[43mkwargs\u001b[49m\u001b[43m)\u001b[49m\n\u001b[1;32m   1793\u001b[0m \u001b[38;5;28mself\u001b[39m\u001b[38;5;241m.\u001b[39mn_completed_tasks \u001b[38;5;241m+\u001b[39m\u001b[38;5;241m=\u001b[39m \u001b[38;5;241m1\u001b[39m\n\u001b[1;32m   1794\u001b[0m \u001b[38;5;28mself\u001b[39m\u001b[38;5;241m.\u001b[39mprint_progress()\n",
      "File \u001b[0;32m~/.pyenv/versions/3.10.12/envs/artefact/lib/python3.10/site-packages/sklearn/utils/parallel.py:127\u001b[0m, in \u001b[0;36m_FuncWrapper.__call__\u001b[0;34m(self, *args, **kwargs)\u001b[0m\n\u001b[1;32m    125\u001b[0m     config \u001b[38;5;241m=\u001b[39m {}\n\u001b[1;32m    126\u001b[0m \u001b[38;5;28;01mwith\u001b[39;00m config_context(\u001b[38;5;241m*\u001b[39m\u001b[38;5;241m*\u001b[39mconfig):\n\u001b[0;32m--> 127\u001b[0m     \u001b[38;5;28;01mreturn\u001b[39;00m \u001b[38;5;28;43mself\u001b[39;49m\u001b[38;5;241;43m.\u001b[39;49m\u001b[43mfunction\u001b[49m\u001b[43m(\u001b[49m\u001b[38;5;241;43m*\u001b[39;49m\u001b[43margs\u001b[49m\u001b[43m,\u001b[49m\u001b[43m \u001b[49m\u001b[38;5;241;43m*\u001b[39;49m\u001b[38;5;241;43m*\u001b[39;49m\u001b[43mkwargs\u001b[49m\u001b[43m)\u001b[49m\n",
      "File \u001b[0;32m~/.pyenv/versions/3.10.12/envs/artefact/lib/python3.10/site-packages/xgboost/sklearn.py:1049\u001b[0m, in \u001b[0;36mXGBModel.predict\u001b[0;34m(self, X, output_margin, ntree_limit, validate_features, base_margin, iteration_range)\u001b[0m\n\u001b[1;32m   1047\u001b[0m \u001b[38;5;28;01mif\u001b[39;00m \u001b[38;5;28mself\u001b[39m\u001b[38;5;241m.\u001b[39m_can_use_inplace_predict():\n\u001b[1;32m   1048\u001b[0m     \u001b[38;5;28;01mtry\u001b[39;00m:\n\u001b[0;32m-> 1049\u001b[0m         predts \u001b[38;5;241m=\u001b[39m \u001b[38;5;28;43mself\u001b[39;49m\u001b[38;5;241;43m.\u001b[39;49m\u001b[43mget_booster\u001b[49m\u001b[43m(\u001b[49m\u001b[43m)\u001b[49m\u001b[38;5;241;43m.\u001b[39;49m\u001b[43minplace_predict\u001b[49m\u001b[43m(\u001b[49m\n\u001b[1;32m   1050\u001b[0m \u001b[43m            \u001b[49m\u001b[43mdata\u001b[49m\u001b[38;5;241;43m=\u001b[39;49m\u001b[43mX\u001b[49m\u001b[43m,\u001b[49m\n\u001b[1;32m   1051\u001b[0m \u001b[43m            \u001b[49m\u001b[43miteration_range\u001b[49m\u001b[38;5;241;43m=\u001b[39;49m\u001b[43miteration_range\u001b[49m\u001b[43m,\u001b[49m\n\u001b[1;32m   1052\u001b[0m \u001b[43m            \u001b[49m\u001b[43mpredict_type\u001b[49m\u001b[38;5;241;43m=\u001b[39;49m\u001b[38;5;124;43m\"\u001b[39;49m\u001b[38;5;124;43mmargin\u001b[39;49m\u001b[38;5;124;43m\"\u001b[39;49m\u001b[43m \u001b[49m\u001b[38;5;28;43;01mif\u001b[39;49;00m\u001b[43m \u001b[49m\u001b[43moutput_margin\u001b[49m\u001b[43m \u001b[49m\u001b[38;5;28;43;01melse\u001b[39;49;00m\u001b[43m \u001b[49m\u001b[38;5;124;43m\"\u001b[39;49m\u001b[38;5;124;43mvalue\u001b[39;49m\u001b[38;5;124;43m\"\u001b[39;49m\u001b[43m,\u001b[49m\n\u001b[1;32m   1053\u001b[0m \u001b[43m            \u001b[49m\u001b[43mmissing\u001b[49m\u001b[38;5;241;43m=\u001b[39;49m\u001b[38;5;28;43mself\u001b[39;49m\u001b[38;5;241;43m.\u001b[39;49m\u001b[43mmissing\u001b[49m\u001b[43m,\u001b[49m\n\u001b[1;32m   1054\u001b[0m \u001b[43m            \u001b[49m\u001b[43mbase_margin\u001b[49m\u001b[38;5;241;43m=\u001b[39;49m\u001b[43mbase_margin\u001b[49m\u001b[43m,\u001b[49m\n\u001b[1;32m   1055\u001b[0m \u001b[43m            \u001b[49m\u001b[43mvalidate_features\u001b[49m\u001b[38;5;241;43m=\u001b[39;49m\u001b[43mvalidate_features\u001b[49m\u001b[43m,\u001b[49m\n\u001b[1;32m   1056\u001b[0m \u001b[43m        \u001b[49m\u001b[43m)\u001b[49m\n\u001b[1;32m   1057\u001b[0m         \u001b[38;5;28;01mif\u001b[39;00m _is_cupy_array(predts):\n\u001b[1;32m   1058\u001b[0m             \u001b[38;5;28;01mimport\u001b[39;00m \u001b[38;5;21;01mcupy\u001b[39;00m     \u001b[38;5;66;03m# pylint: disable=import-error\u001b[39;00m\n",
      "File \u001b[0;32m~/.pyenv/versions/3.10.12/envs/artefact/lib/python3.10/site-packages/xgboost/core.py:2128\u001b[0m, in \u001b[0;36mBooster.inplace_predict\u001b[0;34m(self, data, iteration_range, predict_type, missing, validate_features, base_margin, strict_shape)\u001b[0m\n\u001b[1;32m   2124\u001b[0m         \u001b[38;5;28;01mraise\u001b[39;00m \u001b[38;5;167;01mTypeError\u001b[39;00m(\n\u001b[1;32m   2125\u001b[0m             \u001b[38;5;124m\"\u001b[39m\u001b[38;5;124m`shape` attribute is required when `validate_features` is True.\u001b[39m\u001b[38;5;124m\"\u001b[39m\n\u001b[1;32m   2126\u001b[0m         )\n\u001b[1;32m   2127\u001b[0m     \u001b[38;5;28;01mif\u001b[39;00m \u001b[38;5;28mlen\u001b[39m(data\u001b[38;5;241m.\u001b[39mshape) \u001b[38;5;241m!=\u001b[39m \u001b[38;5;241m1\u001b[39m \u001b[38;5;129;01mand\u001b[39;00m \u001b[38;5;28mself\u001b[39m\u001b[38;5;241m.\u001b[39mnum_features() \u001b[38;5;241m!=\u001b[39m data\u001b[38;5;241m.\u001b[39mshape[\u001b[38;5;241m1\u001b[39m]:\n\u001b[0;32m-> 2128\u001b[0m         \u001b[38;5;28;01mraise\u001b[39;00m \u001b[38;5;167;01mValueError\u001b[39;00m(\n\u001b[1;32m   2129\u001b[0m             \u001b[38;5;124mf\u001b[39m\u001b[38;5;124m\"\u001b[39m\u001b[38;5;124mFeature shape mismatch, expected: \u001b[39m\u001b[38;5;132;01m{\u001b[39;00m\u001b[38;5;28mself\u001b[39m\u001b[38;5;241m.\u001b[39mnum_features()\u001b[38;5;132;01m}\u001b[39;00m\u001b[38;5;124m, \u001b[39m\u001b[38;5;124m\"\u001b[39m\n\u001b[1;32m   2130\u001b[0m             \u001b[38;5;124mf\u001b[39m\u001b[38;5;124m\"\u001b[39m\u001b[38;5;124mgot \u001b[39m\u001b[38;5;132;01m{\u001b[39;00mdata\u001b[38;5;241m.\u001b[39mshape[\u001b[38;5;241m1\u001b[39m]\u001b[38;5;132;01m}\u001b[39;00m\u001b[38;5;124m\"\u001b[39m\n\u001b[1;32m   2131\u001b[0m         )\n\u001b[1;32m   2133\u001b[0m \u001b[38;5;28;01mfrom\u001b[39;00m \u001b[38;5;21;01m.\u001b[39;00m\u001b[38;5;21;01mdata\u001b[39;00m \u001b[38;5;28;01mimport\u001b[39;00m (\n\u001b[1;32m   2134\u001b[0m     _is_pandas_df,\n\u001b[1;32m   2135\u001b[0m     _transform_pandas_df,\n\u001b[0;32m   (...)\u001b[0m\n\u001b[1;32m   2138\u001b[0m     _array_interface,\n\u001b[1;32m   2139\u001b[0m )\n\u001b[1;32m   2140\u001b[0m enable_categorical \u001b[38;5;241m=\u001b[39m _has_categorical(\u001b[38;5;28mself\u001b[39m, data)\n",
      "\u001b[0;31mValueError\u001b[0m: Feature shape mismatch, expected: 5, got 261"
     ]
    }
   ],
   "source": [
    "from sklearn.multioutput import MultiOutputRegressor\n",
    "from xgboost import XGBRegressor\n",
    "\n",
    "# Assuming X_train_scaled and y_train are already defined\n",
    "\n",
    "# Define the parameters for the XGBRegressor\n",
    "xgb_params = {'objective': 'reg:squarederror', 'learning_rate': 0.15, 'max_depth': 2, 'n_estimators': 3000}\n",
    "\n",
    "# Create the MultiOutputRegressor with the specified XGBRegressor parameters\n",
    "multioutputregressor = MultiOutputRegressor(XGBRegressor(**xgb_params))\n",
    "\n",
    "# Fit the model on the training data\n",
    "multioutputregressor.fit(X_train_scaled, y_train)\n",
    "\n",
    "\n",
    "y_pred = multioutputregressor.predict(X_test_scaled)\n",
    "\n",
    "# Evaluate the performance of the model\n",
    "mse = mean_squared_error(y_test, y_pred)\n",
    "print(f'Mean Squared Error on Test Data: {mse}')"
   ]
  },
  {
   "cell_type": "code",
   "execution_count": null,
   "id": "a1256e0d-3c29-4ab0-ba29-083c52e17b6e",
   "metadata": {},
   "outputs": [],
   "source": []
  },
  {
   "cell_type": "code",
   "execution_count": null,
   "id": "2ecab1d1-03b6-462a-9089-ecd2aeb1d1fc",
   "metadata": {},
   "outputs": [],
   "source": []
  },
  {
   "cell_type": "code",
   "execution_count": null,
   "id": "cda989a0-4311-47f9-b8b9-5ee9a9eea5b4",
   "metadata": {},
   "outputs": [],
   "source": []
  },
  {
   "cell_type": "code",
   "execution_count": 97,
   "id": "28a99147-50b3-4aff-8eda-da7c55ed1f7b",
   "metadata": {},
   "outputs": [
    {
     "name": "stdout",
     "output_type": "stream",
     "text": [
      "Fitting 3 folds for each of 2 candidates, totalling 6 fits\n",
      "[CV] END estimator__learning_rate=0.15, estimator__max_depth=2, estimator__n_estimators=1500; total time=  40.8s\n",
      "[CV] END estimator__learning_rate=0.15, estimator__max_depth=2, estimator__n_estimators=1500; total time=  42.2s\n",
      "[CV] END estimator__learning_rate=0.15, estimator__max_depth=2, estimator__n_estimators=1500; total time=  42.4s\n",
      "[CV] END estimator__learning_rate=0.15, estimator__max_depth=2, estimator__n_estimators=2500; total time= 1.1min\n",
      "[CV] END estimator__learning_rate=0.15, estimator__max_depth=2, estimator__n_estimators=2500; total time= 1.1min\n",
      "[CV] END estimator__learning_rate=0.15, estimator__max_depth=2, estimator__n_estimators=2500; total time= 1.1min\n",
      "[13:14:58] WARNING: ../src/learner.cc:627: \n",
      "Parameters: { \"estimator__learning_rate\", \"estimator__max_depth\", \"estimator__n_estimators\" } might not be used.\n",
      "\n",
      "  This could be a false alarm, with some parameters getting used by language bindings but\n",
      "  then being mistakenly passed down to XGBoost core, or some parameter actually being used\n",
      "  but getting flagged wrongly here. Please open an issue if you find any such cases.\n",
      "\n",
      "\n",
      "[13:14:59] WARNING: ../src/learner.cc:627: \n",
      "Parameters: { \"estimator__learning_rate\", \"estimator__max_depth\", \"estimator__n_estimators\" } might not be used.\n",
      "\n",
      "  This could be a false alarm, with some parameters getting used by language bindings but\n",
      "  then being mistakenly passed down to XGBoost core, or some parameter actually being used\n",
      "  but getting flagged wrongly here. Please open an issue if you find any such cases.\n",
      "\n",
      "\n",
      "[13:14:59] WARNING: ../src/learner.cc:627: \n",
      "Parameters: { \"estimator__learning_rate\", \"estimator__max_depth\", \"estimator__n_estimators\" } might not be used.\n",
      "\n",
      "  This could be a false alarm, with some parameters getting used by language bindings but\n",
      "  then being mistakenly passed down to XGBoost core, or some parameter actually being used\n",
      "  but getting flagged wrongly here. Please open an issue if you find any such cases.\n",
      "\n",
      "\n",
      "[13:15:00] WARNING: ../src/learner.cc:627: \n",
      "Parameters: { \"estimator__learning_rate\", \"estimator__max_depth\", \"estimator__n_estimators\" } might not be used.\n",
      "\n",
      "  This could be a false alarm, with some parameters getting used by language bindings but\n",
      "  then being mistakenly passed down to XGBoost core, or some parameter actually being used\n",
      "  but getting flagged wrongly here. Please open an issue if you find any such cases.\n",
      "\n",
      "\n",
      "[13:15:01] WARNING: ../src/learner.cc:627: \n",
      "Parameters: { \"estimator__learning_rate\", \"estimator__max_depth\", \"estimator__n_estimators\" } might not be used.\n",
      "\n",
      "  This could be a false alarm, with some parameters getting used by language bindings but\n",
      "  then being mistakenly passed down to XGBoost core, or some parameter actually being used\n",
      "  but getting flagged wrongly here. Please open an issue if you find any such cases.\n",
      "\n",
      "\n",
      "[13:15:01] WARNING: ../src/learner.cc:627: \n",
      "Parameters: { \"estimator__learning_rate\", \"estimator__max_depth\", \"estimator__n_estimators\" } might not be used.\n",
      "\n",
      "  This could be a false alarm, with some parameters getting used by language bindings but\n",
      "  then being mistakenly passed down to XGBoost core, or some parameter actually being used\n",
      "  but getting flagged wrongly here. Please open an issue if you find any such cases.\n",
      "\n",
      "\n",
      "[13:15:02] WARNING: ../src/learner.cc:627: \n",
      "Parameters: { \"estimator__learning_rate\", \"estimator__max_depth\", \"estimator__n_estimators\" } might not be used.\n",
      "\n",
      "  This could be a false alarm, with some parameters getting used by language bindings but\n",
      "  then being mistakenly passed down to XGBoost core, or some parameter actually being used\n",
      "  but getting flagged wrongly here. Please open an issue if you find any such cases.\n",
      "\n",
      "\n"
     ]
    },
    {
     "ename": "ValueError",
     "evalue": "Feature shape mismatch, expected: 5, got 261",
     "output_type": "error",
     "traceback": [
      "\u001b[0;31m---------------------------------------------------------------------------\u001b[0m",
      "\u001b[0;31mValueError\u001b[0m                                Traceback (most recent call last)",
      "Cell \u001b[0;32mIn [97], line 29\u001b[0m\n\u001b[1;32m     26\u001b[0m best_estimator\u001b[38;5;241m.\u001b[39mfit(X_train_scaled, y_train)\n\u001b[1;32m     28\u001b[0m \u001b[38;5;66;03m# Make predictions on the test data\u001b[39;00m\n\u001b[0;32m---> 29\u001b[0m y_pred \u001b[38;5;241m=\u001b[39m \u001b[43mbest_estimator\u001b[49m\u001b[38;5;241;43m.\u001b[39;49m\u001b[43mpredict\u001b[49m\u001b[43m(\u001b[49m\u001b[43mX_test_scaled\u001b[49m\u001b[43m)\u001b[49m\n\u001b[1;32m     31\u001b[0m \u001b[38;5;66;03m# Evaluate the performance of the model\u001b[39;00m\n\u001b[1;32m     32\u001b[0m mse \u001b[38;5;241m=\u001b[39m mean_squared_error(y_test, y_pred)\n",
      "File \u001b[0;32m~/.pyenv/versions/3.10.12/envs/artefact/lib/python3.10/site-packages/sklearn/multioutput.py:305\u001b[0m, in \u001b[0;36m_MultiOutputEstimator.predict\u001b[0;34m(self, X)\u001b[0m\n\u001b[1;32m    302\u001b[0m \u001b[38;5;28;01mif\u001b[39;00m \u001b[38;5;129;01mnot\u001b[39;00m \u001b[38;5;28mhasattr\u001b[39m(\u001b[38;5;28mself\u001b[39m\u001b[38;5;241m.\u001b[39mestimators_[\u001b[38;5;241m0\u001b[39m], \u001b[38;5;124m\"\u001b[39m\u001b[38;5;124mpredict\u001b[39m\u001b[38;5;124m\"\u001b[39m):\n\u001b[1;32m    303\u001b[0m     \u001b[38;5;28;01mraise\u001b[39;00m \u001b[38;5;167;01mValueError\u001b[39;00m(\u001b[38;5;124m\"\u001b[39m\u001b[38;5;124mThe base estimator should implement a predict method\u001b[39m\u001b[38;5;124m\"\u001b[39m)\n\u001b[0;32m--> 305\u001b[0m y \u001b[38;5;241m=\u001b[39m \u001b[43mParallel\u001b[49m\u001b[43m(\u001b[49m\u001b[43mn_jobs\u001b[49m\u001b[38;5;241;43m=\u001b[39;49m\u001b[38;5;28;43mself\u001b[39;49m\u001b[38;5;241;43m.\u001b[39;49m\u001b[43mn_jobs\u001b[49m\u001b[43m)\u001b[49m\u001b[43m(\u001b[49m\n\u001b[1;32m    306\u001b[0m \u001b[43m    \u001b[49m\u001b[43mdelayed\u001b[49m\u001b[43m(\u001b[49m\u001b[43me\u001b[49m\u001b[38;5;241;43m.\u001b[39;49m\u001b[43mpredict\u001b[49m\u001b[43m)\u001b[49m\u001b[43m(\u001b[49m\u001b[43mX\u001b[49m\u001b[43m)\u001b[49m\u001b[43m \u001b[49m\u001b[38;5;28;43;01mfor\u001b[39;49;00m\u001b[43m \u001b[49m\u001b[43me\u001b[49m\u001b[43m \u001b[49m\u001b[38;5;129;43;01min\u001b[39;49;00m\u001b[43m \u001b[49m\u001b[38;5;28;43mself\u001b[39;49m\u001b[38;5;241;43m.\u001b[39;49m\u001b[43mestimators_\u001b[49m\n\u001b[1;32m    307\u001b[0m \u001b[43m\u001b[49m\u001b[43m)\u001b[49m\n\u001b[1;32m    309\u001b[0m \u001b[38;5;28;01mreturn\u001b[39;00m np\u001b[38;5;241m.\u001b[39masarray(y)\u001b[38;5;241m.\u001b[39mT\n",
      "File \u001b[0;32m~/.pyenv/versions/3.10.12/envs/artefact/lib/python3.10/site-packages/sklearn/utils/parallel.py:65\u001b[0m, in \u001b[0;36mParallel.__call__\u001b[0;34m(self, iterable)\u001b[0m\n\u001b[1;32m     60\u001b[0m config \u001b[38;5;241m=\u001b[39m get_config()\n\u001b[1;32m     61\u001b[0m iterable_with_config \u001b[38;5;241m=\u001b[39m (\n\u001b[1;32m     62\u001b[0m     (_with_config(delayed_func, config), args, kwargs)\n\u001b[1;32m     63\u001b[0m     \u001b[38;5;28;01mfor\u001b[39;00m delayed_func, args, kwargs \u001b[38;5;129;01min\u001b[39;00m iterable\n\u001b[1;32m     64\u001b[0m )\n\u001b[0;32m---> 65\u001b[0m \u001b[38;5;28;01mreturn\u001b[39;00m \u001b[38;5;28;43msuper\u001b[39;49m\u001b[43m(\u001b[49m\u001b[43m)\u001b[49m\u001b[38;5;241;43m.\u001b[39;49m\u001b[38;5;21;43m__call__\u001b[39;49m\u001b[43m(\u001b[49m\u001b[43miterable_with_config\u001b[49m\u001b[43m)\u001b[49m\n",
      "File \u001b[0;32m~/.pyenv/versions/3.10.12/envs/artefact/lib/python3.10/site-packages/joblib/parallel.py:1863\u001b[0m, in \u001b[0;36mParallel.__call__\u001b[0;34m(self, iterable)\u001b[0m\n\u001b[1;32m   1861\u001b[0m     output \u001b[38;5;241m=\u001b[39m \u001b[38;5;28mself\u001b[39m\u001b[38;5;241m.\u001b[39m_get_sequential_output(iterable)\n\u001b[1;32m   1862\u001b[0m     \u001b[38;5;28mnext\u001b[39m(output)\n\u001b[0;32m-> 1863\u001b[0m     \u001b[38;5;28;01mreturn\u001b[39;00m output \u001b[38;5;28;01mif\u001b[39;00m \u001b[38;5;28mself\u001b[39m\u001b[38;5;241m.\u001b[39mreturn_generator \u001b[38;5;28;01melse\u001b[39;00m \u001b[38;5;28;43mlist\u001b[39;49m\u001b[43m(\u001b[49m\u001b[43moutput\u001b[49m\u001b[43m)\u001b[49m\n\u001b[1;32m   1865\u001b[0m \u001b[38;5;66;03m# Let's create an ID that uniquely identifies the current call. If the\u001b[39;00m\n\u001b[1;32m   1866\u001b[0m \u001b[38;5;66;03m# call is interrupted early and that the same instance is immediately\u001b[39;00m\n\u001b[1;32m   1867\u001b[0m \u001b[38;5;66;03m# re-used, this id will be used to prevent workers that were\u001b[39;00m\n\u001b[1;32m   1868\u001b[0m \u001b[38;5;66;03m# concurrently finalizing a task from the previous call to run the\u001b[39;00m\n\u001b[1;32m   1869\u001b[0m \u001b[38;5;66;03m# callback.\u001b[39;00m\n\u001b[1;32m   1870\u001b[0m \u001b[38;5;28;01mwith\u001b[39;00m \u001b[38;5;28mself\u001b[39m\u001b[38;5;241m.\u001b[39m_lock:\n",
      "File \u001b[0;32m~/.pyenv/versions/3.10.12/envs/artefact/lib/python3.10/site-packages/joblib/parallel.py:1792\u001b[0m, in \u001b[0;36mParallel._get_sequential_output\u001b[0;34m(self, iterable)\u001b[0m\n\u001b[1;32m   1790\u001b[0m \u001b[38;5;28mself\u001b[39m\u001b[38;5;241m.\u001b[39mn_dispatched_batches \u001b[38;5;241m+\u001b[39m\u001b[38;5;241m=\u001b[39m \u001b[38;5;241m1\u001b[39m\n\u001b[1;32m   1791\u001b[0m \u001b[38;5;28mself\u001b[39m\u001b[38;5;241m.\u001b[39mn_dispatched_tasks \u001b[38;5;241m+\u001b[39m\u001b[38;5;241m=\u001b[39m \u001b[38;5;241m1\u001b[39m\n\u001b[0;32m-> 1792\u001b[0m res \u001b[38;5;241m=\u001b[39m \u001b[43mfunc\u001b[49m\u001b[43m(\u001b[49m\u001b[38;5;241;43m*\u001b[39;49m\u001b[43margs\u001b[49m\u001b[43m,\u001b[49m\u001b[43m \u001b[49m\u001b[38;5;241;43m*\u001b[39;49m\u001b[38;5;241;43m*\u001b[39;49m\u001b[43mkwargs\u001b[49m\u001b[43m)\u001b[49m\n\u001b[1;32m   1793\u001b[0m \u001b[38;5;28mself\u001b[39m\u001b[38;5;241m.\u001b[39mn_completed_tasks \u001b[38;5;241m+\u001b[39m\u001b[38;5;241m=\u001b[39m \u001b[38;5;241m1\u001b[39m\n\u001b[1;32m   1794\u001b[0m \u001b[38;5;28mself\u001b[39m\u001b[38;5;241m.\u001b[39mprint_progress()\n",
      "File \u001b[0;32m~/.pyenv/versions/3.10.12/envs/artefact/lib/python3.10/site-packages/sklearn/utils/parallel.py:127\u001b[0m, in \u001b[0;36m_FuncWrapper.__call__\u001b[0;34m(self, *args, **kwargs)\u001b[0m\n\u001b[1;32m    125\u001b[0m     config \u001b[38;5;241m=\u001b[39m {}\n\u001b[1;32m    126\u001b[0m \u001b[38;5;28;01mwith\u001b[39;00m config_context(\u001b[38;5;241m*\u001b[39m\u001b[38;5;241m*\u001b[39mconfig):\n\u001b[0;32m--> 127\u001b[0m     \u001b[38;5;28;01mreturn\u001b[39;00m \u001b[38;5;28;43mself\u001b[39;49m\u001b[38;5;241;43m.\u001b[39;49m\u001b[43mfunction\u001b[49m\u001b[43m(\u001b[49m\u001b[38;5;241;43m*\u001b[39;49m\u001b[43margs\u001b[49m\u001b[43m,\u001b[49m\u001b[43m \u001b[49m\u001b[38;5;241;43m*\u001b[39;49m\u001b[38;5;241;43m*\u001b[39;49m\u001b[43mkwargs\u001b[49m\u001b[43m)\u001b[49m\n",
      "File \u001b[0;32m~/.pyenv/versions/3.10.12/envs/artefact/lib/python3.10/site-packages/xgboost/sklearn.py:1049\u001b[0m, in \u001b[0;36mXGBModel.predict\u001b[0;34m(self, X, output_margin, ntree_limit, validate_features, base_margin, iteration_range)\u001b[0m\n\u001b[1;32m   1047\u001b[0m \u001b[38;5;28;01mif\u001b[39;00m \u001b[38;5;28mself\u001b[39m\u001b[38;5;241m.\u001b[39m_can_use_inplace_predict():\n\u001b[1;32m   1048\u001b[0m     \u001b[38;5;28;01mtry\u001b[39;00m:\n\u001b[0;32m-> 1049\u001b[0m         predts \u001b[38;5;241m=\u001b[39m \u001b[38;5;28;43mself\u001b[39;49m\u001b[38;5;241;43m.\u001b[39;49m\u001b[43mget_booster\u001b[49m\u001b[43m(\u001b[49m\u001b[43m)\u001b[49m\u001b[38;5;241;43m.\u001b[39;49m\u001b[43minplace_predict\u001b[49m\u001b[43m(\u001b[49m\n\u001b[1;32m   1050\u001b[0m \u001b[43m            \u001b[49m\u001b[43mdata\u001b[49m\u001b[38;5;241;43m=\u001b[39;49m\u001b[43mX\u001b[49m\u001b[43m,\u001b[49m\n\u001b[1;32m   1051\u001b[0m \u001b[43m            \u001b[49m\u001b[43miteration_range\u001b[49m\u001b[38;5;241;43m=\u001b[39;49m\u001b[43miteration_range\u001b[49m\u001b[43m,\u001b[49m\n\u001b[1;32m   1052\u001b[0m \u001b[43m            \u001b[49m\u001b[43mpredict_type\u001b[49m\u001b[38;5;241;43m=\u001b[39;49m\u001b[38;5;124;43m\"\u001b[39;49m\u001b[38;5;124;43mmargin\u001b[39;49m\u001b[38;5;124;43m\"\u001b[39;49m\u001b[43m \u001b[49m\u001b[38;5;28;43;01mif\u001b[39;49;00m\u001b[43m \u001b[49m\u001b[43moutput_margin\u001b[49m\u001b[43m \u001b[49m\u001b[38;5;28;43;01melse\u001b[39;49;00m\u001b[43m \u001b[49m\u001b[38;5;124;43m\"\u001b[39;49m\u001b[38;5;124;43mvalue\u001b[39;49m\u001b[38;5;124;43m\"\u001b[39;49m\u001b[43m,\u001b[49m\n\u001b[1;32m   1053\u001b[0m \u001b[43m            \u001b[49m\u001b[43mmissing\u001b[49m\u001b[38;5;241;43m=\u001b[39;49m\u001b[38;5;28;43mself\u001b[39;49m\u001b[38;5;241;43m.\u001b[39;49m\u001b[43mmissing\u001b[49m\u001b[43m,\u001b[49m\n\u001b[1;32m   1054\u001b[0m \u001b[43m            \u001b[49m\u001b[43mbase_margin\u001b[49m\u001b[38;5;241;43m=\u001b[39;49m\u001b[43mbase_margin\u001b[49m\u001b[43m,\u001b[49m\n\u001b[1;32m   1055\u001b[0m \u001b[43m            \u001b[49m\u001b[43mvalidate_features\u001b[49m\u001b[38;5;241;43m=\u001b[39;49m\u001b[43mvalidate_features\u001b[49m\u001b[43m,\u001b[49m\n\u001b[1;32m   1056\u001b[0m \u001b[43m        \u001b[49m\u001b[43m)\u001b[49m\n\u001b[1;32m   1057\u001b[0m         \u001b[38;5;28;01mif\u001b[39;00m _is_cupy_array(predts):\n\u001b[1;32m   1058\u001b[0m             \u001b[38;5;28;01mimport\u001b[39;00m \u001b[38;5;21;01mcupy\u001b[39;00m     \u001b[38;5;66;03m# pylint: disable=import-error\u001b[39;00m\n",
      "File \u001b[0;32m~/.pyenv/versions/3.10.12/envs/artefact/lib/python3.10/site-packages/xgboost/core.py:2128\u001b[0m, in \u001b[0;36mBooster.inplace_predict\u001b[0;34m(self, data, iteration_range, predict_type, missing, validate_features, base_margin, strict_shape)\u001b[0m\n\u001b[1;32m   2124\u001b[0m         \u001b[38;5;28;01mraise\u001b[39;00m \u001b[38;5;167;01mTypeError\u001b[39;00m(\n\u001b[1;32m   2125\u001b[0m             \u001b[38;5;124m\"\u001b[39m\u001b[38;5;124m`shape` attribute is required when `validate_features` is True.\u001b[39m\u001b[38;5;124m\"\u001b[39m\n\u001b[1;32m   2126\u001b[0m         )\n\u001b[1;32m   2127\u001b[0m     \u001b[38;5;28;01mif\u001b[39;00m \u001b[38;5;28mlen\u001b[39m(data\u001b[38;5;241m.\u001b[39mshape) \u001b[38;5;241m!=\u001b[39m \u001b[38;5;241m1\u001b[39m \u001b[38;5;129;01mand\u001b[39;00m \u001b[38;5;28mself\u001b[39m\u001b[38;5;241m.\u001b[39mnum_features() \u001b[38;5;241m!=\u001b[39m data\u001b[38;5;241m.\u001b[39mshape[\u001b[38;5;241m1\u001b[39m]:\n\u001b[0;32m-> 2128\u001b[0m         \u001b[38;5;28;01mraise\u001b[39;00m \u001b[38;5;167;01mValueError\u001b[39;00m(\n\u001b[1;32m   2129\u001b[0m             \u001b[38;5;124mf\u001b[39m\u001b[38;5;124m\"\u001b[39m\u001b[38;5;124mFeature shape mismatch, expected: \u001b[39m\u001b[38;5;132;01m{\u001b[39;00m\u001b[38;5;28mself\u001b[39m\u001b[38;5;241m.\u001b[39mnum_features()\u001b[38;5;132;01m}\u001b[39;00m\u001b[38;5;124m, \u001b[39m\u001b[38;5;124m\"\u001b[39m\n\u001b[1;32m   2130\u001b[0m             \u001b[38;5;124mf\u001b[39m\u001b[38;5;124m\"\u001b[39m\u001b[38;5;124mgot \u001b[39m\u001b[38;5;132;01m{\u001b[39;00mdata\u001b[38;5;241m.\u001b[39mshape[\u001b[38;5;241m1\u001b[39m]\u001b[38;5;132;01m}\u001b[39;00m\u001b[38;5;124m\"\u001b[39m\n\u001b[1;32m   2131\u001b[0m         )\n\u001b[1;32m   2133\u001b[0m \u001b[38;5;28;01mfrom\u001b[39;00m \u001b[38;5;21;01m.\u001b[39;00m\u001b[38;5;21;01mdata\u001b[39;00m \u001b[38;5;28;01mimport\u001b[39;00m (\n\u001b[1;32m   2134\u001b[0m     _is_pandas_df,\n\u001b[1;32m   2135\u001b[0m     _transform_pandas_df,\n\u001b[0;32m   (...)\u001b[0m\n\u001b[1;32m   2138\u001b[0m     _array_interface,\n\u001b[1;32m   2139\u001b[0m )\n\u001b[1;32m   2140\u001b[0m enable_categorical \u001b[38;5;241m=\u001b[39m _has_categorical(\u001b[38;5;28mself\u001b[39m, data)\n",
      "\u001b[0;31mValueError\u001b[0m: Feature shape mismatch, expected: 5, got 261"
     ]
    }
   ],
   "source": [
    "xgb_regressor = XGBRegressor(objective='reg:squarederror')\n",
    "\n",
    "# Create the MultiOutputRegressor with the XGBoostRegressor\n",
    "multioutputregressor = MultiOutputRegressor(xgb_regressor)\n",
    "\n",
    "# Define the parameter grid for grid search\n",
    "param_grid = {\n",
    "    'estimator__n_estimators': [1500,2500],\n",
    "    'estimator__learning_rate': [0.15],\n",
    "    'estimator__max_depth': [2]\n",
    "}\n",
    "\n",
    "# Create the GridSearchCV object\n",
    "grid_search = GridSearchCV(multioutputregressor, param_grid, cv=3, verbose=2)\n",
    "\n",
    "# Fit the grid_search object on the training data\n",
    "grid_search.fit(X_train_scaled, y_train)\n",
    "\n",
    "# Get the best parameters\n",
    "best_params = grid_search.best_params_\n",
    "\n",
    "# Create the MultiOutputRegressor with the best parameters\n",
    "best_estimator = MultiOutputRegressor(XGBRegressor(objective='reg:squarederror', **best_params))\n",
    "\n",
    "# Train the model on the training data\n",
    "best_estimator.fit(X_train_scaled, y_train)\n",
    "\n",
    "# Make predictions on the test data\n",
    "y_pred = best_estimator.predict(X_test_scaled)\n",
    "\n",
    "# Evaluate the performance of the model\n",
    "mse = mean_squared_error(y_test, y_pred)\n",
    "print(f'Mean Squared Error on Test Data: {mse}')"
   ]
  },
  {
   "cell_type": "code",
   "execution_count": 96,
   "id": "f769cb00-dbc4-4c69-b30a-b04358e63555",
   "metadata": {},
   "outputs": [
    {
     "ename": "TypeError",
     "evalue": "xgboost.sklearn.XGBRegressor() argument after ** must be a mapping, not MultiOutputRegressor",
     "output_type": "error",
     "traceback": [
      "\u001b[0;31m---------------------------------------------------------------------------\u001b[0m",
      "\u001b[0;31mTypeError\u001b[0m                                 Traceback (most recent call last)",
      "Cell \u001b[0;32mIn [96], line 2\u001b[0m\n\u001b[1;32m      1\u001b[0m \u001b[38;5;66;03m# Create the MultiOutputRegressor with the best parameters\u001b[39;00m\n\u001b[0;32m----> 2\u001b[0m best_estimator \u001b[38;5;241m=\u001b[39m MultiOutputRegressor(XGBRegressor(objective\u001b[38;5;241m=\u001b[39m\u001b[38;5;124m'\u001b[39m\u001b[38;5;124mreg:squarederror\u001b[39m\u001b[38;5;124m'\u001b[39m, \u001b[38;5;241m*\u001b[39m\u001b[38;5;241m*\u001b[39mbest_params))\n\u001b[1;32m      4\u001b[0m \u001b[38;5;66;03m# Train the model on the training data\u001b[39;00m\n\u001b[1;32m      5\u001b[0m best_estimator\u001b[38;5;241m.\u001b[39mfit(X_train_scaled, y_train)\n",
      "\u001b[0;31mTypeError\u001b[0m: xgboost.sklearn.XGBRegressor() argument after ** must be a mapping, not MultiOutputRegressor"
     ]
    }
   ],
   "source": [
    "# Create the MultiOutputRegressor with the best parameters\n",
    "best_estimator = MultiOutputRegressor(XGBRegressor(objective='reg:squarederror', **best_params))\n",
    "\n",
    "# Train the model on the training data\n",
    "best_estimator.fit(X_train_scaled, y_train)\n",
    "\n",
    "# Make predictions on the test data\n",
    "y_pred = best_estimator.predict(X_test_scaled)\n",
    "\n",
    "# Evaluate the performance of the model\n",
    "mse = mean_squared_error(y_test, y_pred)\n",
    "print(f'Mean Squared Error on Test Data: {mse}')"
   ]
  },
  {
   "cell_type": "code",
   "execution_count": 95,
   "id": "1ca75d55-34cd-4754-9d9f-642396e7c242",
   "metadata": {},
   "outputs": [
    {
     "ename": "TypeError",
     "evalue": "xgboost.sklearn.XGBRegressor() argument after ** must be a mapping, not MultiOutputRegressor",
     "output_type": "error",
     "traceback": [
      "\u001b[0;31m---------------------------------------------------------------------------\u001b[0m",
      "\u001b[0;31mTypeError\u001b[0m                                 Traceback (most recent call last)",
      "Cell \u001b[0;32mIn [95], line 4\u001b[0m\n\u001b[1;32m      1\u001b[0m best_params \u001b[38;5;241m=\u001b[39m grid_search\u001b[38;5;241m.\u001b[39mbest_estimator_\n\u001b[1;32m      3\u001b[0m \u001b[38;5;66;03m# Create the MultiOutputRegressor with the best parameters\u001b[39;00m\n\u001b[0;32m----> 4\u001b[0m best_estimator \u001b[38;5;241m=\u001b[39m MultiOutputRegressor(XGBRegressor(objective\u001b[38;5;241m=\u001b[39m\u001b[38;5;124m'\u001b[39m\u001b[38;5;124mreg:squarederror\u001b[39m\u001b[38;5;124m'\u001b[39m, \u001b[38;5;241m*\u001b[39m\u001b[38;5;241m*\u001b[39mbest_params))\n\u001b[1;32m      6\u001b[0m \u001b[38;5;66;03m# Train the model on the training data\u001b[39;00m\n\u001b[1;32m      7\u001b[0m best_estimator\u001b[38;5;241m.\u001b[39mfit(X_train_scaled, y_train)\n",
      "\u001b[0;31mTypeError\u001b[0m: xgboost.sklearn.XGBRegressor() argument after ** must be a mapping, not MultiOutputRegressor"
     ]
    }
   ],
   "source": [
    "\n",
    "best_params = grid_search.best_estimator_\n",
    "\n",
    "# Create the MultiOutputRegressor with the best parameters\n",
    "best_estimator = MultiOutputRegressor(XGBRegressor(objective='reg:squarederror', **best_params))\n",
    "\n",
    "# Train the model on the training data\n",
    "best_estimator.fit(X_train_scaled, y_train)\n",
    "\n",
    "# Make predictions on the test data\n",
    "y_pred = best_estimator.predict(X_test_scaled)\n",
    "\n",
    "# Evaluate the performance of the model\n",
    "mse = mean_squared_error(y_test, y_pred)\n",
    "print(f'Mean Squared Error on Test Data: {mse}')"
   ]
  },
  {
   "cell_type": "code",
   "execution_count": null,
   "id": "60bbf5fe-0aba-453e-a241-93739c5117a6",
   "metadata": {},
   "outputs": [],
   "source": []
  },
  {
   "cell_type": "code",
   "execution_count": null,
   "id": "364a7bdc-45a5-4cd0-93eb-f748be077c6c",
   "metadata": {},
   "outputs": [],
   "source": []
  },
  {
   "cell_type": "code",
   "execution_count": 89,
   "id": "1e8e9d12-b507-482d-9fd3-669b473149da",
   "metadata": {},
   "outputs": [
    {
     "name": "stdout",
     "output_type": "stream",
     "text": [
      "Fitting 3 folds for each of 36 candidates, totalling 108 fits\n",
      "[CV] END estimator__learning_rate=0.01, estimator__max_depth=2, estimator__n_estimators=250; total time=   7.0s\n",
      "[CV] END estimator__learning_rate=0.01, estimator__max_depth=2, estimator__n_estimators=250; total time=   6.9s\n",
      "[CV] END estimator__learning_rate=0.01, estimator__max_depth=2, estimator__n_estimators=250; total time=   7.0s\n",
      "[CV] END estimator__learning_rate=0.01, estimator__max_depth=2, estimator__n_estimators=500; total time=  14.3s\n",
      "[CV] END estimator__learning_rate=0.01, estimator__max_depth=2, estimator__n_estimators=500; total time=  20.6s\n",
      "[CV] END estimator__learning_rate=0.01, estimator__max_depth=2, estimator__n_estimators=500; total time=  21.7s\n"
     ]
    },
    {
     "ename": "KeyboardInterrupt",
     "evalue": "",
     "output_type": "error",
     "traceback": [
      "\u001b[0;31m---------------------------------------------------------------------------\u001b[0m",
      "\u001b[0;31mKeyboardInterrupt\u001b[0m                         Traceback (most recent call last)",
      "Cell \u001b[0;32mIn [89], line 1\u001b[0m\n\u001b[0;32m----> 1\u001b[0m \u001b[43mgrid_search\u001b[49m\u001b[38;5;241;43m.\u001b[39;49m\u001b[43mfit\u001b[49m\u001b[43m(\u001b[49m\u001b[43mX_train_scaled\u001b[49m\u001b[43m,\u001b[49m\u001b[43m \u001b[49m\u001b[43my_train\u001b[49m\u001b[43m)\u001b[49m\n\u001b[1;32m      3\u001b[0m \u001b[38;5;66;03m# Print the best parameters and the corresponding estimator\u001b[39;00m\n\u001b[1;32m      4\u001b[0m \u001b[38;5;28mprint\u001b[39m(\u001b[38;5;124m\"\u001b[39m\u001b[38;5;124mBest Parameters:\u001b[39m\u001b[38;5;124m\"\u001b[39m, grid_search\u001b[38;5;241m.\u001b[39mbest_params_)\n",
      "File \u001b[0;32m~/.pyenv/versions/3.10.12/envs/artefact/lib/python3.10/site-packages/sklearn/base.py:1152\u001b[0m, in \u001b[0;36m_fit_context.<locals>.decorator.<locals>.wrapper\u001b[0;34m(estimator, *args, **kwargs)\u001b[0m\n\u001b[1;32m   1145\u001b[0m     estimator\u001b[38;5;241m.\u001b[39m_validate_params()\n\u001b[1;32m   1147\u001b[0m \u001b[38;5;28;01mwith\u001b[39;00m config_context(\n\u001b[1;32m   1148\u001b[0m     skip_parameter_validation\u001b[38;5;241m=\u001b[39m(\n\u001b[1;32m   1149\u001b[0m         prefer_skip_nested_validation \u001b[38;5;129;01mor\u001b[39;00m global_skip_validation\n\u001b[1;32m   1150\u001b[0m     )\n\u001b[1;32m   1151\u001b[0m ):\n\u001b[0;32m-> 1152\u001b[0m     \u001b[38;5;28;01mreturn\u001b[39;00m \u001b[43mfit_method\u001b[49m\u001b[43m(\u001b[49m\u001b[43mestimator\u001b[49m\u001b[43m,\u001b[49m\u001b[43m \u001b[49m\u001b[38;5;241;43m*\u001b[39;49m\u001b[43margs\u001b[49m\u001b[43m,\u001b[49m\u001b[43m \u001b[49m\u001b[38;5;241;43m*\u001b[39;49m\u001b[38;5;241;43m*\u001b[39;49m\u001b[43mkwargs\u001b[49m\u001b[43m)\u001b[49m\n",
      "File \u001b[0;32m~/.pyenv/versions/3.10.12/envs/artefact/lib/python3.10/site-packages/sklearn/model_selection/_search.py:898\u001b[0m, in \u001b[0;36mBaseSearchCV.fit\u001b[0;34m(self, X, y, groups, **fit_params)\u001b[0m\n\u001b[1;32m    892\u001b[0m     results \u001b[38;5;241m=\u001b[39m \u001b[38;5;28mself\u001b[39m\u001b[38;5;241m.\u001b[39m_format_results(\n\u001b[1;32m    893\u001b[0m         all_candidate_params, n_splits, all_out, all_more_results\n\u001b[1;32m    894\u001b[0m     )\n\u001b[1;32m    896\u001b[0m     \u001b[38;5;28;01mreturn\u001b[39;00m results\n\u001b[0;32m--> 898\u001b[0m \u001b[38;5;28;43mself\u001b[39;49m\u001b[38;5;241;43m.\u001b[39;49m\u001b[43m_run_search\u001b[49m\u001b[43m(\u001b[49m\u001b[43mevaluate_candidates\u001b[49m\u001b[43m)\u001b[49m\n\u001b[1;32m    900\u001b[0m \u001b[38;5;66;03m# multimetric is determined here because in the case of a callable\u001b[39;00m\n\u001b[1;32m    901\u001b[0m \u001b[38;5;66;03m# self.scoring the return type is only known after calling\u001b[39;00m\n\u001b[1;32m    902\u001b[0m first_test_score \u001b[38;5;241m=\u001b[39m all_out[\u001b[38;5;241m0\u001b[39m][\u001b[38;5;124m\"\u001b[39m\u001b[38;5;124mtest_scores\u001b[39m\u001b[38;5;124m\"\u001b[39m]\n",
      "File \u001b[0;32m~/.pyenv/versions/3.10.12/envs/artefact/lib/python3.10/site-packages/sklearn/model_selection/_search.py:1422\u001b[0m, in \u001b[0;36mGridSearchCV._run_search\u001b[0;34m(self, evaluate_candidates)\u001b[0m\n\u001b[1;32m   1420\u001b[0m \u001b[38;5;28;01mdef\u001b[39;00m \u001b[38;5;21m_run_search\u001b[39m(\u001b[38;5;28mself\u001b[39m, evaluate_candidates):\n\u001b[1;32m   1421\u001b[0m     \u001b[38;5;124;03m\"\"\"Search all candidates in param_grid\"\"\"\u001b[39;00m\n\u001b[0;32m-> 1422\u001b[0m     \u001b[43mevaluate_candidates\u001b[49m\u001b[43m(\u001b[49m\u001b[43mParameterGrid\u001b[49m\u001b[43m(\u001b[49m\u001b[38;5;28;43mself\u001b[39;49m\u001b[38;5;241;43m.\u001b[39;49m\u001b[43mparam_grid\u001b[49m\u001b[43m)\u001b[49m\u001b[43m)\u001b[49m\n",
      "File \u001b[0;32m~/.pyenv/versions/3.10.12/envs/artefact/lib/python3.10/site-packages/sklearn/model_selection/_search.py:845\u001b[0m, in \u001b[0;36mBaseSearchCV.fit.<locals>.evaluate_candidates\u001b[0;34m(candidate_params, cv, more_results)\u001b[0m\n\u001b[1;32m    837\u001b[0m \u001b[38;5;28;01mif\u001b[39;00m \u001b[38;5;28mself\u001b[39m\u001b[38;5;241m.\u001b[39mverbose \u001b[38;5;241m>\u001b[39m \u001b[38;5;241m0\u001b[39m:\n\u001b[1;32m    838\u001b[0m     \u001b[38;5;28mprint\u001b[39m(\n\u001b[1;32m    839\u001b[0m         \u001b[38;5;124m\"\u001b[39m\u001b[38;5;124mFitting \u001b[39m\u001b[38;5;132;01m{0}\u001b[39;00m\u001b[38;5;124m folds for each of \u001b[39m\u001b[38;5;132;01m{1}\u001b[39;00m\u001b[38;5;124m candidates,\u001b[39m\u001b[38;5;124m\"\u001b[39m\n\u001b[1;32m    840\u001b[0m         \u001b[38;5;124m\"\u001b[39m\u001b[38;5;124m totalling \u001b[39m\u001b[38;5;132;01m{2}\u001b[39;00m\u001b[38;5;124m fits\u001b[39m\u001b[38;5;124m\"\u001b[39m\u001b[38;5;241m.\u001b[39mformat(\n\u001b[1;32m    841\u001b[0m             n_splits, n_candidates, n_candidates \u001b[38;5;241m*\u001b[39m n_splits\n\u001b[1;32m    842\u001b[0m         )\n\u001b[1;32m    843\u001b[0m     )\n\u001b[0;32m--> 845\u001b[0m out \u001b[38;5;241m=\u001b[39m \u001b[43mparallel\u001b[49m\u001b[43m(\u001b[49m\n\u001b[1;32m    846\u001b[0m \u001b[43m    \u001b[49m\u001b[43mdelayed\u001b[49m\u001b[43m(\u001b[49m\u001b[43m_fit_and_score\u001b[49m\u001b[43m)\u001b[49m\u001b[43m(\u001b[49m\n\u001b[1;32m    847\u001b[0m \u001b[43m        \u001b[49m\u001b[43mclone\u001b[49m\u001b[43m(\u001b[49m\u001b[43mbase_estimator\u001b[49m\u001b[43m)\u001b[49m\u001b[43m,\u001b[49m\n\u001b[1;32m    848\u001b[0m \u001b[43m        \u001b[49m\u001b[43mX\u001b[49m\u001b[43m,\u001b[49m\n\u001b[1;32m    849\u001b[0m \u001b[43m        \u001b[49m\u001b[43my\u001b[49m\u001b[43m,\u001b[49m\n\u001b[1;32m    850\u001b[0m \u001b[43m        \u001b[49m\u001b[43mtrain\u001b[49m\u001b[38;5;241;43m=\u001b[39;49m\u001b[43mtrain\u001b[49m\u001b[43m,\u001b[49m\n\u001b[1;32m    851\u001b[0m \u001b[43m        \u001b[49m\u001b[43mtest\u001b[49m\u001b[38;5;241;43m=\u001b[39;49m\u001b[43mtest\u001b[49m\u001b[43m,\u001b[49m\n\u001b[1;32m    852\u001b[0m \u001b[43m        \u001b[49m\u001b[43mparameters\u001b[49m\u001b[38;5;241;43m=\u001b[39;49m\u001b[43mparameters\u001b[49m\u001b[43m,\u001b[49m\n\u001b[1;32m    853\u001b[0m \u001b[43m        \u001b[49m\u001b[43msplit_progress\u001b[49m\u001b[38;5;241;43m=\u001b[39;49m\u001b[43m(\u001b[49m\u001b[43msplit_idx\u001b[49m\u001b[43m,\u001b[49m\u001b[43m \u001b[49m\u001b[43mn_splits\u001b[49m\u001b[43m)\u001b[49m\u001b[43m,\u001b[49m\n\u001b[1;32m    854\u001b[0m \u001b[43m        \u001b[49m\u001b[43mcandidate_progress\u001b[49m\u001b[38;5;241;43m=\u001b[39;49m\u001b[43m(\u001b[49m\u001b[43mcand_idx\u001b[49m\u001b[43m,\u001b[49m\u001b[43m \u001b[49m\u001b[43mn_candidates\u001b[49m\u001b[43m)\u001b[49m\u001b[43m,\u001b[49m\n\u001b[1;32m    855\u001b[0m \u001b[43m        \u001b[49m\u001b[38;5;241;43m*\u001b[39;49m\u001b[38;5;241;43m*\u001b[39;49m\u001b[43mfit_and_score_kwargs\u001b[49m\u001b[43m,\u001b[49m\n\u001b[1;32m    856\u001b[0m \u001b[43m    \u001b[49m\u001b[43m)\u001b[49m\n\u001b[1;32m    857\u001b[0m \u001b[43m    \u001b[49m\u001b[38;5;28;43;01mfor\u001b[39;49;00m\u001b[43m \u001b[49m\u001b[43m(\u001b[49m\u001b[43mcand_idx\u001b[49m\u001b[43m,\u001b[49m\u001b[43m \u001b[49m\u001b[43mparameters\u001b[49m\u001b[43m)\u001b[49m\u001b[43m,\u001b[49m\u001b[43m \u001b[49m\u001b[43m(\u001b[49m\u001b[43msplit_idx\u001b[49m\u001b[43m,\u001b[49m\u001b[43m \u001b[49m\u001b[43m(\u001b[49m\u001b[43mtrain\u001b[49m\u001b[43m,\u001b[49m\u001b[43m \u001b[49m\u001b[43mtest\u001b[49m\u001b[43m)\u001b[49m\u001b[43m)\u001b[49m\u001b[43m \u001b[49m\u001b[38;5;129;43;01min\u001b[39;49;00m\u001b[43m \u001b[49m\u001b[43mproduct\u001b[49m\u001b[43m(\u001b[49m\n\u001b[1;32m    858\u001b[0m \u001b[43m        \u001b[49m\u001b[38;5;28;43menumerate\u001b[39;49m\u001b[43m(\u001b[49m\u001b[43mcandidate_params\u001b[49m\u001b[43m)\u001b[49m\u001b[43m,\u001b[49m\u001b[43m \u001b[49m\u001b[38;5;28;43menumerate\u001b[39;49m\u001b[43m(\u001b[49m\u001b[43mcv\u001b[49m\u001b[38;5;241;43m.\u001b[39;49m\u001b[43msplit\u001b[49m\u001b[43m(\u001b[49m\u001b[43mX\u001b[49m\u001b[43m,\u001b[49m\u001b[43m \u001b[49m\u001b[43my\u001b[49m\u001b[43m,\u001b[49m\u001b[43m \u001b[49m\u001b[43mgroups\u001b[49m\u001b[43m)\u001b[49m\u001b[43m)\u001b[49m\n\u001b[1;32m    859\u001b[0m \u001b[43m    \u001b[49m\u001b[43m)\u001b[49m\n\u001b[1;32m    860\u001b[0m \u001b[43m\u001b[49m\u001b[43m)\u001b[49m\n\u001b[1;32m    862\u001b[0m \u001b[38;5;28;01mif\u001b[39;00m \u001b[38;5;28mlen\u001b[39m(out) \u001b[38;5;241m<\u001b[39m \u001b[38;5;241m1\u001b[39m:\n\u001b[1;32m    863\u001b[0m     \u001b[38;5;28;01mraise\u001b[39;00m \u001b[38;5;167;01mValueError\u001b[39;00m(\n\u001b[1;32m    864\u001b[0m         \u001b[38;5;124m\"\u001b[39m\u001b[38;5;124mNo fits were performed. \u001b[39m\u001b[38;5;124m\"\u001b[39m\n\u001b[1;32m    865\u001b[0m         \u001b[38;5;124m\"\u001b[39m\u001b[38;5;124mWas the CV iterator empty? \u001b[39m\u001b[38;5;124m\"\u001b[39m\n\u001b[1;32m    866\u001b[0m         \u001b[38;5;124m\"\u001b[39m\u001b[38;5;124mWere there no candidates?\u001b[39m\u001b[38;5;124m\"\u001b[39m\n\u001b[1;32m    867\u001b[0m     )\n",
      "File \u001b[0;32m~/.pyenv/versions/3.10.12/envs/artefact/lib/python3.10/site-packages/sklearn/utils/parallel.py:65\u001b[0m, in \u001b[0;36mParallel.__call__\u001b[0;34m(self, iterable)\u001b[0m\n\u001b[1;32m     60\u001b[0m config \u001b[38;5;241m=\u001b[39m get_config()\n\u001b[1;32m     61\u001b[0m iterable_with_config \u001b[38;5;241m=\u001b[39m (\n\u001b[1;32m     62\u001b[0m     (_with_config(delayed_func, config), args, kwargs)\n\u001b[1;32m     63\u001b[0m     \u001b[38;5;28;01mfor\u001b[39;00m delayed_func, args, kwargs \u001b[38;5;129;01min\u001b[39;00m iterable\n\u001b[1;32m     64\u001b[0m )\n\u001b[0;32m---> 65\u001b[0m \u001b[38;5;28;01mreturn\u001b[39;00m \u001b[38;5;28;43msuper\u001b[39;49m\u001b[43m(\u001b[49m\u001b[43m)\u001b[49m\u001b[38;5;241;43m.\u001b[39;49m\u001b[38;5;21;43m__call__\u001b[39;49m\u001b[43m(\u001b[49m\u001b[43miterable_with_config\u001b[49m\u001b[43m)\u001b[49m\n",
      "File \u001b[0;32m~/.pyenv/versions/3.10.12/envs/artefact/lib/python3.10/site-packages/joblib/parallel.py:1863\u001b[0m, in \u001b[0;36mParallel.__call__\u001b[0;34m(self, iterable)\u001b[0m\n\u001b[1;32m   1861\u001b[0m     output \u001b[38;5;241m=\u001b[39m \u001b[38;5;28mself\u001b[39m\u001b[38;5;241m.\u001b[39m_get_sequential_output(iterable)\n\u001b[1;32m   1862\u001b[0m     \u001b[38;5;28mnext\u001b[39m(output)\n\u001b[0;32m-> 1863\u001b[0m     \u001b[38;5;28;01mreturn\u001b[39;00m output \u001b[38;5;28;01mif\u001b[39;00m \u001b[38;5;28mself\u001b[39m\u001b[38;5;241m.\u001b[39mreturn_generator \u001b[38;5;28;01melse\u001b[39;00m \u001b[38;5;28;43mlist\u001b[39;49m\u001b[43m(\u001b[49m\u001b[43moutput\u001b[49m\u001b[43m)\u001b[49m\n\u001b[1;32m   1865\u001b[0m \u001b[38;5;66;03m# Let's create an ID that uniquely identifies the current call. If the\u001b[39;00m\n\u001b[1;32m   1866\u001b[0m \u001b[38;5;66;03m# call is interrupted early and that the same instance is immediately\u001b[39;00m\n\u001b[1;32m   1867\u001b[0m \u001b[38;5;66;03m# re-used, this id will be used to prevent workers that were\u001b[39;00m\n\u001b[1;32m   1868\u001b[0m \u001b[38;5;66;03m# concurrently finalizing a task from the previous call to run the\u001b[39;00m\n\u001b[1;32m   1869\u001b[0m \u001b[38;5;66;03m# callback.\u001b[39;00m\n\u001b[1;32m   1870\u001b[0m \u001b[38;5;28;01mwith\u001b[39;00m \u001b[38;5;28mself\u001b[39m\u001b[38;5;241m.\u001b[39m_lock:\n",
      "File \u001b[0;32m~/.pyenv/versions/3.10.12/envs/artefact/lib/python3.10/site-packages/joblib/parallel.py:1792\u001b[0m, in \u001b[0;36mParallel._get_sequential_output\u001b[0;34m(self, iterable)\u001b[0m\n\u001b[1;32m   1790\u001b[0m \u001b[38;5;28mself\u001b[39m\u001b[38;5;241m.\u001b[39mn_dispatched_batches \u001b[38;5;241m+\u001b[39m\u001b[38;5;241m=\u001b[39m \u001b[38;5;241m1\u001b[39m\n\u001b[1;32m   1791\u001b[0m \u001b[38;5;28mself\u001b[39m\u001b[38;5;241m.\u001b[39mn_dispatched_tasks \u001b[38;5;241m+\u001b[39m\u001b[38;5;241m=\u001b[39m \u001b[38;5;241m1\u001b[39m\n\u001b[0;32m-> 1792\u001b[0m res \u001b[38;5;241m=\u001b[39m \u001b[43mfunc\u001b[49m\u001b[43m(\u001b[49m\u001b[38;5;241;43m*\u001b[39;49m\u001b[43margs\u001b[49m\u001b[43m,\u001b[49m\u001b[43m \u001b[49m\u001b[38;5;241;43m*\u001b[39;49m\u001b[38;5;241;43m*\u001b[39;49m\u001b[43mkwargs\u001b[49m\u001b[43m)\u001b[49m\n\u001b[1;32m   1793\u001b[0m \u001b[38;5;28mself\u001b[39m\u001b[38;5;241m.\u001b[39mn_completed_tasks \u001b[38;5;241m+\u001b[39m\u001b[38;5;241m=\u001b[39m \u001b[38;5;241m1\u001b[39m\n\u001b[1;32m   1794\u001b[0m \u001b[38;5;28mself\u001b[39m\u001b[38;5;241m.\u001b[39mprint_progress()\n",
      "File \u001b[0;32m~/.pyenv/versions/3.10.12/envs/artefact/lib/python3.10/site-packages/sklearn/utils/parallel.py:127\u001b[0m, in \u001b[0;36m_FuncWrapper.__call__\u001b[0;34m(self, *args, **kwargs)\u001b[0m\n\u001b[1;32m    125\u001b[0m     config \u001b[38;5;241m=\u001b[39m {}\n\u001b[1;32m    126\u001b[0m \u001b[38;5;28;01mwith\u001b[39;00m config_context(\u001b[38;5;241m*\u001b[39m\u001b[38;5;241m*\u001b[39mconfig):\n\u001b[0;32m--> 127\u001b[0m     \u001b[38;5;28;01mreturn\u001b[39;00m \u001b[38;5;28;43mself\u001b[39;49m\u001b[38;5;241;43m.\u001b[39;49m\u001b[43mfunction\u001b[49m\u001b[43m(\u001b[49m\u001b[38;5;241;43m*\u001b[39;49m\u001b[43margs\u001b[49m\u001b[43m,\u001b[49m\u001b[43m \u001b[49m\u001b[38;5;241;43m*\u001b[39;49m\u001b[38;5;241;43m*\u001b[39;49m\u001b[43mkwargs\u001b[49m\u001b[43m)\u001b[49m\n",
      "File \u001b[0;32m~/.pyenv/versions/3.10.12/envs/artefact/lib/python3.10/site-packages/sklearn/model_selection/_validation.py:729\u001b[0m, in \u001b[0;36m_fit_and_score\u001b[0;34m(estimator, X, y, scorer, train, test, verbose, parameters, fit_params, return_train_score, return_parameters, return_n_test_samples, return_times, return_estimator, split_progress, candidate_progress, error_score)\u001b[0m\n\u001b[1;32m    727\u001b[0m         estimator\u001b[38;5;241m.\u001b[39mfit(X_train, \u001b[38;5;241m*\u001b[39m\u001b[38;5;241m*\u001b[39mfit_params)\n\u001b[1;32m    728\u001b[0m     \u001b[38;5;28;01melse\u001b[39;00m:\n\u001b[0;32m--> 729\u001b[0m         \u001b[43mestimator\u001b[49m\u001b[38;5;241;43m.\u001b[39;49m\u001b[43mfit\u001b[49m\u001b[43m(\u001b[49m\u001b[43mX_train\u001b[49m\u001b[43m,\u001b[49m\u001b[43m \u001b[49m\u001b[43my_train\u001b[49m\u001b[43m,\u001b[49m\u001b[43m \u001b[49m\u001b[38;5;241;43m*\u001b[39;49m\u001b[38;5;241;43m*\u001b[39;49m\u001b[43mfit_params\u001b[49m\u001b[43m)\u001b[49m\n\u001b[1;32m    731\u001b[0m \u001b[38;5;28;01mexcept\u001b[39;00m \u001b[38;5;167;01mException\u001b[39;00m:\n\u001b[1;32m    732\u001b[0m     \u001b[38;5;66;03m# Note fit time as time until error\u001b[39;00m\n\u001b[1;32m    733\u001b[0m     fit_time \u001b[38;5;241m=\u001b[39m time\u001b[38;5;241m.\u001b[39mtime() \u001b[38;5;241m-\u001b[39m start_time\n",
      "File \u001b[0;32m~/.pyenv/versions/3.10.12/envs/artefact/lib/python3.10/site-packages/sklearn/base.py:1152\u001b[0m, in \u001b[0;36m_fit_context.<locals>.decorator.<locals>.wrapper\u001b[0;34m(estimator, *args, **kwargs)\u001b[0m\n\u001b[1;32m   1145\u001b[0m     estimator\u001b[38;5;241m.\u001b[39m_validate_params()\n\u001b[1;32m   1147\u001b[0m \u001b[38;5;28;01mwith\u001b[39;00m config_context(\n\u001b[1;32m   1148\u001b[0m     skip_parameter_validation\u001b[38;5;241m=\u001b[39m(\n\u001b[1;32m   1149\u001b[0m         prefer_skip_nested_validation \u001b[38;5;129;01mor\u001b[39;00m global_skip_validation\n\u001b[1;32m   1150\u001b[0m     )\n\u001b[1;32m   1151\u001b[0m ):\n\u001b[0;32m-> 1152\u001b[0m     \u001b[38;5;28;01mreturn\u001b[39;00m \u001b[43mfit_method\u001b[49m\u001b[43m(\u001b[49m\u001b[43mestimator\u001b[49m\u001b[43m,\u001b[49m\u001b[43m \u001b[49m\u001b[38;5;241;43m*\u001b[39;49m\u001b[43margs\u001b[49m\u001b[43m,\u001b[49m\u001b[43m \u001b[49m\u001b[38;5;241;43m*\u001b[39;49m\u001b[38;5;241;43m*\u001b[39;49m\u001b[43mkwargs\u001b[49m\u001b[43m)\u001b[49m\n",
      "File \u001b[0;32m~/.pyenv/versions/3.10.12/envs/artefact/lib/python3.10/site-packages/sklearn/multioutput.py:273\u001b[0m, in \u001b[0;36m_MultiOutputEstimator.fit\u001b[0;34m(self, X, y, sample_weight, **fit_params)\u001b[0m\n\u001b[1;32m    270\u001b[0m     \u001b[38;5;28;01mif\u001b[39;00m sample_weight \u001b[38;5;129;01mis\u001b[39;00m \u001b[38;5;129;01mnot\u001b[39;00m \u001b[38;5;28;01mNone\u001b[39;00m:\n\u001b[1;32m    271\u001b[0m         routed_params\u001b[38;5;241m.\u001b[39mestimator\u001b[38;5;241m.\u001b[39mfit[\u001b[38;5;124m\"\u001b[39m\u001b[38;5;124msample_weight\u001b[39m\u001b[38;5;124m\"\u001b[39m] \u001b[38;5;241m=\u001b[39m sample_weight\n\u001b[0;32m--> 273\u001b[0m \u001b[38;5;28mself\u001b[39m\u001b[38;5;241m.\u001b[39mestimators_ \u001b[38;5;241m=\u001b[39m \u001b[43mParallel\u001b[49m\u001b[43m(\u001b[49m\u001b[43mn_jobs\u001b[49m\u001b[38;5;241;43m=\u001b[39;49m\u001b[38;5;28;43mself\u001b[39;49m\u001b[38;5;241;43m.\u001b[39;49m\u001b[43mn_jobs\u001b[49m\u001b[43m)\u001b[49m\u001b[43m(\u001b[49m\n\u001b[1;32m    274\u001b[0m \u001b[43m    \u001b[49m\u001b[43mdelayed\u001b[49m\u001b[43m(\u001b[49m\u001b[43m_fit_estimator\u001b[49m\u001b[43m)\u001b[49m\u001b[43m(\u001b[49m\n\u001b[1;32m    275\u001b[0m \u001b[43m        \u001b[49m\u001b[38;5;28;43mself\u001b[39;49m\u001b[38;5;241;43m.\u001b[39;49m\u001b[43mestimator\u001b[49m\u001b[43m,\u001b[49m\u001b[43m \u001b[49m\u001b[43mX\u001b[49m\u001b[43m,\u001b[49m\u001b[43m \u001b[49m\u001b[43my\u001b[49m\u001b[43m[\u001b[49m\u001b[43m:\u001b[49m\u001b[43m,\u001b[49m\u001b[43m \u001b[49m\u001b[43mi\u001b[49m\u001b[43m]\u001b[49m\u001b[43m,\u001b[49m\u001b[43m \u001b[49m\u001b[38;5;241;43m*\u001b[39;49m\u001b[38;5;241;43m*\u001b[39;49m\u001b[43mrouted_params\u001b[49m\u001b[38;5;241;43m.\u001b[39;49m\u001b[43mestimator\u001b[49m\u001b[38;5;241;43m.\u001b[39;49m\u001b[43mfit\u001b[49m\n\u001b[1;32m    276\u001b[0m \u001b[43m    \u001b[49m\u001b[43m)\u001b[49m\n\u001b[1;32m    277\u001b[0m \u001b[43m    \u001b[49m\u001b[38;5;28;43;01mfor\u001b[39;49;00m\u001b[43m \u001b[49m\u001b[43mi\u001b[49m\u001b[43m \u001b[49m\u001b[38;5;129;43;01min\u001b[39;49;00m\u001b[43m \u001b[49m\u001b[38;5;28;43mrange\u001b[39;49m\u001b[43m(\u001b[49m\u001b[43my\u001b[49m\u001b[38;5;241;43m.\u001b[39;49m\u001b[43mshape\u001b[49m\u001b[43m[\u001b[49m\u001b[38;5;241;43m1\u001b[39;49m\u001b[43m]\u001b[49m\u001b[43m)\u001b[49m\n\u001b[1;32m    278\u001b[0m \u001b[43m\u001b[49m\u001b[43m)\u001b[49m\n\u001b[1;32m    280\u001b[0m \u001b[38;5;28;01mif\u001b[39;00m \u001b[38;5;28mhasattr\u001b[39m(\u001b[38;5;28mself\u001b[39m\u001b[38;5;241m.\u001b[39mestimators_[\u001b[38;5;241m0\u001b[39m], \u001b[38;5;124m\"\u001b[39m\u001b[38;5;124mn_features_in_\u001b[39m\u001b[38;5;124m\"\u001b[39m):\n\u001b[1;32m    281\u001b[0m     \u001b[38;5;28mself\u001b[39m\u001b[38;5;241m.\u001b[39mn_features_in_ \u001b[38;5;241m=\u001b[39m \u001b[38;5;28mself\u001b[39m\u001b[38;5;241m.\u001b[39mestimators_[\u001b[38;5;241m0\u001b[39m]\u001b[38;5;241m.\u001b[39mn_features_in_\n",
      "File \u001b[0;32m~/.pyenv/versions/3.10.12/envs/artefact/lib/python3.10/site-packages/sklearn/utils/parallel.py:65\u001b[0m, in \u001b[0;36mParallel.__call__\u001b[0;34m(self, iterable)\u001b[0m\n\u001b[1;32m     60\u001b[0m config \u001b[38;5;241m=\u001b[39m get_config()\n\u001b[1;32m     61\u001b[0m iterable_with_config \u001b[38;5;241m=\u001b[39m (\n\u001b[1;32m     62\u001b[0m     (_with_config(delayed_func, config), args, kwargs)\n\u001b[1;32m     63\u001b[0m     \u001b[38;5;28;01mfor\u001b[39;00m delayed_func, args, kwargs \u001b[38;5;129;01min\u001b[39;00m iterable\n\u001b[1;32m     64\u001b[0m )\n\u001b[0;32m---> 65\u001b[0m \u001b[38;5;28;01mreturn\u001b[39;00m \u001b[38;5;28;43msuper\u001b[39;49m\u001b[43m(\u001b[49m\u001b[43m)\u001b[49m\u001b[38;5;241;43m.\u001b[39;49m\u001b[38;5;21;43m__call__\u001b[39;49m\u001b[43m(\u001b[49m\u001b[43miterable_with_config\u001b[49m\u001b[43m)\u001b[49m\n",
      "File \u001b[0;32m~/.pyenv/versions/3.10.12/envs/artefact/lib/python3.10/site-packages/joblib/parallel.py:1863\u001b[0m, in \u001b[0;36mParallel.__call__\u001b[0;34m(self, iterable)\u001b[0m\n\u001b[1;32m   1861\u001b[0m     output \u001b[38;5;241m=\u001b[39m \u001b[38;5;28mself\u001b[39m\u001b[38;5;241m.\u001b[39m_get_sequential_output(iterable)\n\u001b[1;32m   1862\u001b[0m     \u001b[38;5;28mnext\u001b[39m(output)\n\u001b[0;32m-> 1863\u001b[0m     \u001b[38;5;28;01mreturn\u001b[39;00m output \u001b[38;5;28;01mif\u001b[39;00m \u001b[38;5;28mself\u001b[39m\u001b[38;5;241m.\u001b[39mreturn_generator \u001b[38;5;28;01melse\u001b[39;00m \u001b[38;5;28;43mlist\u001b[39;49m\u001b[43m(\u001b[49m\u001b[43moutput\u001b[49m\u001b[43m)\u001b[49m\n\u001b[1;32m   1865\u001b[0m \u001b[38;5;66;03m# Let's create an ID that uniquely identifies the current call. If the\u001b[39;00m\n\u001b[1;32m   1866\u001b[0m \u001b[38;5;66;03m# call is interrupted early and that the same instance is immediately\u001b[39;00m\n\u001b[1;32m   1867\u001b[0m \u001b[38;5;66;03m# re-used, this id will be used to prevent workers that were\u001b[39;00m\n\u001b[1;32m   1868\u001b[0m \u001b[38;5;66;03m# concurrently finalizing a task from the previous call to run the\u001b[39;00m\n\u001b[1;32m   1869\u001b[0m \u001b[38;5;66;03m# callback.\u001b[39;00m\n\u001b[1;32m   1870\u001b[0m \u001b[38;5;28;01mwith\u001b[39;00m \u001b[38;5;28mself\u001b[39m\u001b[38;5;241m.\u001b[39m_lock:\n",
      "File \u001b[0;32m~/.pyenv/versions/3.10.12/envs/artefact/lib/python3.10/site-packages/joblib/parallel.py:1792\u001b[0m, in \u001b[0;36mParallel._get_sequential_output\u001b[0;34m(self, iterable)\u001b[0m\n\u001b[1;32m   1790\u001b[0m \u001b[38;5;28mself\u001b[39m\u001b[38;5;241m.\u001b[39mn_dispatched_batches \u001b[38;5;241m+\u001b[39m\u001b[38;5;241m=\u001b[39m \u001b[38;5;241m1\u001b[39m\n\u001b[1;32m   1791\u001b[0m \u001b[38;5;28mself\u001b[39m\u001b[38;5;241m.\u001b[39mn_dispatched_tasks \u001b[38;5;241m+\u001b[39m\u001b[38;5;241m=\u001b[39m \u001b[38;5;241m1\u001b[39m\n\u001b[0;32m-> 1792\u001b[0m res \u001b[38;5;241m=\u001b[39m \u001b[43mfunc\u001b[49m\u001b[43m(\u001b[49m\u001b[38;5;241;43m*\u001b[39;49m\u001b[43margs\u001b[49m\u001b[43m,\u001b[49m\u001b[43m \u001b[49m\u001b[38;5;241;43m*\u001b[39;49m\u001b[38;5;241;43m*\u001b[39;49m\u001b[43mkwargs\u001b[49m\u001b[43m)\u001b[49m\n\u001b[1;32m   1793\u001b[0m \u001b[38;5;28mself\u001b[39m\u001b[38;5;241m.\u001b[39mn_completed_tasks \u001b[38;5;241m+\u001b[39m\u001b[38;5;241m=\u001b[39m \u001b[38;5;241m1\u001b[39m\n\u001b[1;32m   1794\u001b[0m \u001b[38;5;28mself\u001b[39m\u001b[38;5;241m.\u001b[39mprint_progress()\n",
      "File \u001b[0;32m~/.pyenv/versions/3.10.12/envs/artefact/lib/python3.10/site-packages/sklearn/utils/parallel.py:127\u001b[0m, in \u001b[0;36m_FuncWrapper.__call__\u001b[0;34m(self, *args, **kwargs)\u001b[0m\n\u001b[1;32m    125\u001b[0m     config \u001b[38;5;241m=\u001b[39m {}\n\u001b[1;32m    126\u001b[0m \u001b[38;5;28;01mwith\u001b[39;00m config_context(\u001b[38;5;241m*\u001b[39m\u001b[38;5;241m*\u001b[39mconfig):\n\u001b[0;32m--> 127\u001b[0m     \u001b[38;5;28;01mreturn\u001b[39;00m \u001b[38;5;28;43mself\u001b[39;49m\u001b[38;5;241;43m.\u001b[39;49m\u001b[43mfunction\u001b[49m\u001b[43m(\u001b[49m\u001b[38;5;241;43m*\u001b[39;49m\u001b[43margs\u001b[49m\u001b[43m,\u001b[49m\u001b[43m \u001b[49m\u001b[38;5;241;43m*\u001b[39;49m\u001b[38;5;241;43m*\u001b[39;49m\u001b[43mkwargs\u001b[49m\u001b[43m)\u001b[49m\n",
      "File \u001b[0;32m~/.pyenv/versions/3.10.12/envs/artefact/lib/python3.10/site-packages/sklearn/multioutput.py:60\u001b[0m, in \u001b[0;36m_fit_estimator\u001b[0;34m(estimator, X, y, sample_weight, **fit_params)\u001b[0m\n\u001b[1;32m     58\u001b[0m     estimator\u001b[38;5;241m.\u001b[39mfit(X, y, sample_weight\u001b[38;5;241m=\u001b[39msample_weight, \u001b[38;5;241m*\u001b[39m\u001b[38;5;241m*\u001b[39mfit_params)\n\u001b[1;32m     59\u001b[0m \u001b[38;5;28;01melse\u001b[39;00m:\n\u001b[0;32m---> 60\u001b[0m     \u001b[43mestimator\u001b[49m\u001b[38;5;241;43m.\u001b[39;49m\u001b[43mfit\u001b[49m\u001b[43m(\u001b[49m\u001b[43mX\u001b[49m\u001b[43m,\u001b[49m\u001b[43m \u001b[49m\u001b[43my\u001b[49m\u001b[43m,\u001b[49m\u001b[43m \u001b[49m\u001b[38;5;241;43m*\u001b[39;49m\u001b[38;5;241;43m*\u001b[39;49m\u001b[43mfit_params\u001b[49m\u001b[43m)\u001b[49m\n\u001b[1;32m     61\u001b[0m \u001b[38;5;28;01mreturn\u001b[39;00m estimator\n",
      "File \u001b[0;32m~/.pyenv/versions/3.10.12/envs/artefact/lib/python3.10/site-packages/xgboost/core.py:575\u001b[0m, in \u001b[0;36m_deprecate_positional_args.<locals>.inner_f\u001b[0;34m(*args, **kwargs)\u001b[0m\n\u001b[1;32m    573\u001b[0m \u001b[38;5;28;01mfor\u001b[39;00m k, arg \u001b[38;5;129;01min\u001b[39;00m \u001b[38;5;28mzip\u001b[39m(sig\u001b[38;5;241m.\u001b[39mparameters, args):\n\u001b[1;32m    574\u001b[0m     kwargs[k] \u001b[38;5;241m=\u001b[39m arg\n\u001b[0;32m--> 575\u001b[0m \u001b[38;5;28;01mreturn\u001b[39;00m \u001b[43mf\u001b[49m\u001b[43m(\u001b[49m\u001b[38;5;241;43m*\u001b[39;49m\u001b[38;5;241;43m*\u001b[39;49m\u001b[43mkwargs\u001b[49m\u001b[43m)\u001b[49m\n",
      "File \u001b[0;32m~/.pyenv/versions/3.10.12/envs/artefact/lib/python3.10/site-packages/xgboost/sklearn.py:961\u001b[0m, in \u001b[0;36mXGBModel.fit\u001b[0;34m(self, X, y, sample_weight, base_margin, eval_set, eval_metric, early_stopping_rounds, verbose, xgb_model, sample_weight_eval_set, base_margin_eval_set, feature_weights, callbacks)\u001b[0m\n\u001b[1;32m    956\u001b[0m     obj \u001b[38;5;241m=\u001b[39m \u001b[38;5;28;01mNone\u001b[39;00m\n\u001b[1;32m    958\u001b[0m model, metric, params, early_stopping_rounds, callbacks \u001b[38;5;241m=\u001b[39m \u001b[38;5;28mself\u001b[39m\u001b[38;5;241m.\u001b[39m_configure_fit(\n\u001b[1;32m    959\u001b[0m     xgb_model, eval_metric, params, early_stopping_rounds, callbacks\n\u001b[1;32m    960\u001b[0m )\n\u001b[0;32m--> 961\u001b[0m \u001b[38;5;28mself\u001b[39m\u001b[38;5;241m.\u001b[39m_Booster \u001b[38;5;241m=\u001b[39m \u001b[43mtrain\u001b[49m\u001b[43m(\u001b[49m\n\u001b[1;32m    962\u001b[0m \u001b[43m    \u001b[49m\u001b[43mparams\u001b[49m\u001b[43m,\u001b[49m\n\u001b[1;32m    963\u001b[0m \u001b[43m    \u001b[49m\u001b[43mtrain_dmatrix\u001b[49m\u001b[43m,\u001b[49m\n\u001b[1;32m    964\u001b[0m \u001b[43m    \u001b[49m\u001b[38;5;28;43mself\u001b[39;49m\u001b[38;5;241;43m.\u001b[39;49m\u001b[43mget_num_boosting_rounds\u001b[49m\u001b[43m(\u001b[49m\u001b[43m)\u001b[49m\u001b[43m,\u001b[49m\n\u001b[1;32m    965\u001b[0m \u001b[43m    \u001b[49m\u001b[43mevals\u001b[49m\u001b[38;5;241;43m=\u001b[39;49m\u001b[43mevals\u001b[49m\u001b[43m,\u001b[49m\n\u001b[1;32m    966\u001b[0m \u001b[43m    \u001b[49m\u001b[43mearly_stopping_rounds\u001b[49m\u001b[38;5;241;43m=\u001b[39;49m\u001b[43mearly_stopping_rounds\u001b[49m\u001b[43m,\u001b[49m\n\u001b[1;32m    967\u001b[0m \u001b[43m    \u001b[49m\u001b[43mevals_result\u001b[49m\u001b[38;5;241;43m=\u001b[39;49m\u001b[43mevals_result\u001b[49m\u001b[43m,\u001b[49m\n\u001b[1;32m    968\u001b[0m \u001b[43m    \u001b[49m\u001b[43mobj\u001b[49m\u001b[38;5;241;43m=\u001b[39;49m\u001b[43mobj\u001b[49m\u001b[43m,\u001b[49m\n\u001b[1;32m    969\u001b[0m \u001b[43m    \u001b[49m\u001b[43mcustom_metric\u001b[49m\u001b[38;5;241;43m=\u001b[39;49m\u001b[43mmetric\u001b[49m\u001b[43m,\u001b[49m\n\u001b[1;32m    970\u001b[0m \u001b[43m    \u001b[49m\u001b[43mverbose_eval\u001b[49m\u001b[38;5;241;43m=\u001b[39;49m\u001b[43mverbose\u001b[49m\u001b[43m,\u001b[49m\n\u001b[1;32m    971\u001b[0m \u001b[43m    \u001b[49m\u001b[43mxgb_model\u001b[49m\u001b[38;5;241;43m=\u001b[39;49m\u001b[43mmodel\u001b[49m\u001b[43m,\u001b[49m\n\u001b[1;32m    972\u001b[0m \u001b[43m    \u001b[49m\u001b[43mcallbacks\u001b[49m\u001b[38;5;241;43m=\u001b[39;49m\u001b[43mcallbacks\u001b[49m\u001b[43m,\u001b[49m\n\u001b[1;32m    973\u001b[0m \u001b[43m\u001b[49m\u001b[43m)\u001b[49m\n\u001b[1;32m    975\u001b[0m \u001b[38;5;28mself\u001b[39m\u001b[38;5;241m.\u001b[39m_set_evaluation_result(evals_result)\n\u001b[1;32m    976\u001b[0m \u001b[38;5;28;01mreturn\u001b[39;00m \u001b[38;5;28mself\u001b[39m\n",
      "File \u001b[0;32m~/.pyenv/versions/3.10.12/envs/artefact/lib/python3.10/site-packages/xgboost/core.py:575\u001b[0m, in \u001b[0;36m_deprecate_positional_args.<locals>.inner_f\u001b[0;34m(*args, **kwargs)\u001b[0m\n\u001b[1;32m    573\u001b[0m \u001b[38;5;28;01mfor\u001b[39;00m k, arg \u001b[38;5;129;01min\u001b[39;00m \u001b[38;5;28mzip\u001b[39m(sig\u001b[38;5;241m.\u001b[39mparameters, args):\n\u001b[1;32m    574\u001b[0m     kwargs[k] \u001b[38;5;241m=\u001b[39m arg\n\u001b[0;32m--> 575\u001b[0m \u001b[38;5;28;01mreturn\u001b[39;00m \u001b[43mf\u001b[49m\u001b[43m(\u001b[49m\u001b[38;5;241;43m*\u001b[39;49m\u001b[38;5;241;43m*\u001b[39;49m\u001b[43mkwargs\u001b[49m\u001b[43m)\u001b[49m\n",
      "File \u001b[0;32m~/.pyenv/versions/3.10.12/envs/artefact/lib/python3.10/site-packages/xgboost/training.py:181\u001b[0m, in \u001b[0;36mtrain\u001b[0;34m(params, dtrain, num_boost_round, evals, obj, feval, maximize, early_stopping_rounds, evals_result, verbose_eval, xgb_model, callbacks, custom_metric)\u001b[0m\n\u001b[1;32m    179\u001b[0m \u001b[38;5;28;01mif\u001b[39;00m cb_container\u001b[38;5;241m.\u001b[39mbefore_iteration(bst, i, dtrain, evals):\n\u001b[1;32m    180\u001b[0m     \u001b[38;5;28;01mbreak\u001b[39;00m\n\u001b[0;32m--> 181\u001b[0m \u001b[43mbst\u001b[49m\u001b[38;5;241;43m.\u001b[39;49m\u001b[43mupdate\u001b[49m\u001b[43m(\u001b[49m\u001b[43mdtrain\u001b[49m\u001b[43m,\u001b[49m\u001b[43m \u001b[49m\u001b[43mi\u001b[49m\u001b[43m,\u001b[49m\u001b[43m \u001b[49m\u001b[43mobj\u001b[49m\u001b[43m)\u001b[49m\n\u001b[1;32m    182\u001b[0m \u001b[38;5;28;01mif\u001b[39;00m cb_container\u001b[38;5;241m.\u001b[39mafter_iteration(bst, i, dtrain, evals):\n\u001b[1;32m    183\u001b[0m     \u001b[38;5;28;01mbreak\u001b[39;00m\n",
      "File \u001b[0;32m~/.pyenv/versions/3.10.12/envs/artefact/lib/python3.10/site-packages/xgboost/core.py:1778\u001b[0m, in \u001b[0;36mBooster.update\u001b[0;34m(self, dtrain, iteration, fobj)\u001b[0m\n\u001b[1;32m   1775\u001b[0m \u001b[38;5;28mself\u001b[39m\u001b[38;5;241m.\u001b[39m_validate_features(dtrain)\n\u001b[1;32m   1777\u001b[0m \u001b[38;5;28;01mif\u001b[39;00m fobj \u001b[38;5;129;01mis\u001b[39;00m \u001b[38;5;28;01mNone\u001b[39;00m:\n\u001b[0;32m-> 1778\u001b[0m     _check_call(\u001b[43m_LIB\u001b[49m\u001b[38;5;241;43m.\u001b[39;49m\u001b[43mXGBoosterUpdateOneIter\u001b[49m\u001b[43m(\u001b[49m\u001b[38;5;28;43mself\u001b[39;49m\u001b[38;5;241;43m.\u001b[39;49m\u001b[43mhandle\u001b[49m\u001b[43m,\u001b[49m\n\u001b[1;32m   1779\u001b[0m \u001b[43m                                            \u001b[49m\u001b[43mctypes\u001b[49m\u001b[38;5;241;43m.\u001b[39;49m\u001b[43mc_int\u001b[49m\u001b[43m(\u001b[49m\u001b[43miteration\u001b[49m\u001b[43m)\u001b[49m\u001b[43m,\u001b[49m\n\u001b[1;32m   1780\u001b[0m \u001b[43m                                            \u001b[49m\u001b[43mdtrain\u001b[49m\u001b[38;5;241;43m.\u001b[39;49m\u001b[43mhandle\u001b[49m\u001b[43m)\u001b[49m)\n\u001b[1;32m   1781\u001b[0m \u001b[38;5;28;01melse\u001b[39;00m:\n\u001b[1;32m   1782\u001b[0m     pred \u001b[38;5;241m=\u001b[39m \u001b[38;5;28mself\u001b[39m\u001b[38;5;241m.\u001b[39mpredict(dtrain, output_margin\u001b[38;5;241m=\u001b[39m\u001b[38;5;28;01mTrue\u001b[39;00m, training\u001b[38;5;241m=\u001b[39m\u001b[38;5;28;01mTrue\u001b[39;00m)\n",
      "\u001b[0;31mKeyboardInterrupt\u001b[0m: "
     ]
    }
   ],
   "source": [
    "grid_search.fit(X_train_scaled, y_train)\n",
    "\n",
    "# Print the best parameters and the corresponding estimator\n",
    "print(\"Best Parameters:\", grid_search.best_params_)\n",
    "best_estimator = grid_search.best_estimator_"
   ]
  },
  {
   "cell_type": "code",
   "execution_count": 90,
   "id": "1507e2d2-a311-4a02-9784-196a5296d05e",
   "metadata": {},
   "outputs": [
    {
     "data": {
      "text/html": [
       "<style>#sk-container-id-4 {color: black;}#sk-container-id-4 pre{padding: 0;}#sk-container-id-4 div.sk-toggleable {background-color: white;}#sk-container-id-4 label.sk-toggleable__label {cursor: pointer;display: block;width: 100%;margin-bottom: 0;padding: 0.3em;box-sizing: border-box;text-align: center;}#sk-container-id-4 label.sk-toggleable__label-arrow:before {content: \"▸\";float: left;margin-right: 0.25em;color: #696969;}#sk-container-id-4 label.sk-toggleable__label-arrow:hover:before {color: black;}#sk-container-id-4 div.sk-estimator:hover label.sk-toggleable__label-arrow:before {color: black;}#sk-container-id-4 div.sk-toggleable__content {max-height: 0;max-width: 0;overflow: hidden;text-align: left;background-color: #f0f8ff;}#sk-container-id-4 div.sk-toggleable__content pre {margin: 0.2em;color: black;border-radius: 0.25em;background-color: #f0f8ff;}#sk-container-id-4 input.sk-toggleable__control:checked~div.sk-toggleable__content {max-height: 200px;max-width: 100%;overflow: auto;}#sk-container-id-4 input.sk-toggleable__control:checked~label.sk-toggleable__label-arrow:before {content: \"▾\";}#sk-container-id-4 div.sk-estimator input.sk-toggleable__control:checked~label.sk-toggleable__label {background-color: #d4ebff;}#sk-container-id-4 div.sk-label input.sk-toggleable__control:checked~label.sk-toggleable__label {background-color: #d4ebff;}#sk-container-id-4 input.sk-hidden--visually {border: 0;clip: rect(1px 1px 1px 1px);clip: rect(1px, 1px, 1px, 1px);height: 1px;margin: -1px;overflow: hidden;padding: 0;position: absolute;width: 1px;}#sk-container-id-4 div.sk-estimator {font-family: monospace;background-color: #f0f8ff;border: 1px dotted black;border-radius: 0.25em;box-sizing: border-box;margin-bottom: 0.5em;}#sk-container-id-4 div.sk-estimator:hover {background-color: #d4ebff;}#sk-container-id-4 div.sk-parallel-item::after {content: \"\";width: 100%;border-bottom: 1px solid gray;flex-grow: 1;}#sk-container-id-4 div.sk-label:hover label.sk-toggleable__label {background-color: #d4ebff;}#sk-container-id-4 div.sk-serial::before {content: \"\";position: absolute;border-left: 1px solid gray;box-sizing: border-box;top: 0;bottom: 0;left: 50%;z-index: 0;}#sk-container-id-4 div.sk-serial {display: flex;flex-direction: column;align-items: center;background-color: white;padding-right: 0.2em;padding-left: 0.2em;position: relative;}#sk-container-id-4 div.sk-item {position: relative;z-index: 1;}#sk-container-id-4 div.sk-parallel {display: flex;align-items: stretch;justify-content: center;background-color: white;position: relative;}#sk-container-id-4 div.sk-item::before, #sk-container-id-4 div.sk-parallel-item::before {content: \"\";position: absolute;border-left: 1px solid gray;box-sizing: border-box;top: 0;bottom: 0;left: 50%;z-index: -1;}#sk-container-id-4 div.sk-parallel-item {display: flex;flex-direction: column;z-index: 1;position: relative;background-color: white;}#sk-container-id-4 div.sk-parallel-item:first-child::after {align-self: flex-end;width: 50%;}#sk-container-id-4 div.sk-parallel-item:last-child::after {align-self: flex-start;width: 50%;}#sk-container-id-4 div.sk-parallel-item:only-child::after {width: 0;}#sk-container-id-4 div.sk-dashed-wrapped {border: 1px dashed gray;margin: 0 0.4em 0.5em 0.4em;box-sizing: border-box;padding-bottom: 0.4em;background-color: white;}#sk-container-id-4 div.sk-label label {font-family: monospace;font-weight: bold;display: inline-block;line-height: 1.2em;}#sk-container-id-4 div.sk-label-container {text-align: center;}#sk-container-id-4 div.sk-container {/* jupyter's `normalize.less` sets `[hidden] { display: none; }` but bootstrap.min.css set `[hidden] { display: none !important; }` so we also need the `!important` here to be able to override the default hidden behavior on the sphinx rendered scikit-learn.org. See: https://github.com/scikit-learn/scikit-learn/issues/21755 */display: inline-block !important;position: relative;}#sk-container-id-4 div.sk-text-repr-fallback {display: none;}</style><div id=\"sk-container-id-4\" class=\"sk-top-container\"><div class=\"sk-text-repr-fallback\"><pre>MultiOutputRegressor(estimator=XGBRegressor(base_score=None, booster=None,\n",
       "                                            callbacks=None,\n",
       "                                            colsample_bylevel=None,\n",
       "                                            colsample_bynode=None,\n",
       "                                            colsample_bytree=None,\n",
       "                                            early_stopping_rounds=None,\n",
       "                                            enable_categorical=False,\n",
       "                                            eval_metric=None, gamma=None,\n",
       "                                            gpu_id=None, grow_policy=None,\n",
       "                                            importance_type=None,\n",
       "                                            interaction_constraints=None,\n",
       "                                            learning_rate=0.15, max_bin=None,\n",
       "                                            max_cat_to_onehot=None,\n",
       "                                            max_delta_step=None, max_depth=2,\n",
       "                                            max_leaves=None,\n",
       "                                            min_child_weight=None, missing=nan,\n",
       "                                            monotone_constraints=None,\n",
       "                                            n_estimators=1500, n_jobs=None,\n",
       "                                            num_parallel_tree=None,\n",
       "                                            predictor=None, random_state=None,\n",
       "                                            reg_alpha=None, reg_lambda=None, ...))</pre><b>In a Jupyter environment, please rerun this cell to show the HTML representation or trust the notebook. <br />On GitHub, the HTML representation is unable to render, please try loading this page with nbviewer.org.</b></div><div class=\"sk-container\" hidden><div class=\"sk-item sk-dashed-wrapped\"><div class=\"sk-label-container\"><div class=\"sk-label sk-toggleable\"><input class=\"sk-toggleable__control sk-hidden--visually\" id=\"sk-estimator-id-10\" type=\"checkbox\" ><label for=\"sk-estimator-id-10\" class=\"sk-toggleable__label sk-toggleable__label-arrow\">MultiOutputRegressor</label><div class=\"sk-toggleable__content\"><pre>MultiOutputRegressor(estimator=XGBRegressor(base_score=None, booster=None,\n",
       "                                            callbacks=None,\n",
       "                                            colsample_bylevel=None,\n",
       "                                            colsample_bynode=None,\n",
       "                                            colsample_bytree=None,\n",
       "                                            early_stopping_rounds=None,\n",
       "                                            enable_categorical=False,\n",
       "                                            eval_metric=None, gamma=None,\n",
       "                                            gpu_id=None, grow_policy=None,\n",
       "                                            importance_type=None,\n",
       "                                            interaction_constraints=None,\n",
       "                                            learning_rate=0.15, max_bin=None,\n",
       "                                            max_cat_to_onehot=None,\n",
       "                                            max_delta_step=None, max_depth=2,\n",
       "                                            max_leaves=None,\n",
       "                                            min_child_weight=None, missing=nan,\n",
       "                                            monotone_constraints=None,\n",
       "                                            n_estimators=1500, n_jobs=None,\n",
       "                                            num_parallel_tree=None,\n",
       "                                            predictor=None, random_state=None,\n",
       "                                            reg_alpha=None, reg_lambda=None, ...))</pre></div></div></div><div class=\"sk-parallel\"><div class=\"sk-parallel-item\"><div class=\"sk-item\"><div class=\"sk-label-container\"><div class=\"sk-label sk-toggleable\"><input class=\"sk-toggleable__control sk-hidden--visually\" id=\"sk-estimator-id-11\" type=\"checkbox\" ><label for=\"sk-estimator-id-11\" class=\"sk-toggleable__label sk-toggleable__label-arrow\">estimator: XGBRegressor</label><div class=\"sk-toggleable__content\"><pre>XGBRegressor(base_score=None, booster=None, callbacks=None,\n",
       "             colsample_bylevel=None, colsample_bynode=None,\n",
       "             colsample_bytree=None, early_stopping_rounds=None,\n",
       "             enable_categorical=False, eval_metric=None, gamma=None,\n",
       "             gpu_id=None, grow_policy=None, importance_type=None,\n",
       "             interaction_constraints=None, learning_rate=0.15, max_bin=None,\n",
       "             max_cat_to_onehot=None, max_delta_step=None, max_depth=2,\n",
       "             max_leaves=None, min_child_weight=None, missing=nan,\n",
       "             monotone_constraints=None, n_estimators=1500, n_jobs=None,\n",
       "             num_parallel_tree=None, predictor=None, random_state=None,\n",
       "             reg_alpha=None, reg_lambda=None, ...)</pre></div></div></div><div class=\"sk-serial\"><div class=\"sk-item\"><div class=\"sk-estimator sk-toggleable\"><input class=\"sk-toggleable__control sk-hidden--visually\" id=\"sk-estimator-id-12\" type=\"checkbox\" ><label for=\"sk-estimator-id-12\" class=\"sk-toggleable__label sk-toggleable__label-arrow\">XGBRegressor</label><div class=\"sk-toggleable__content\"><pre>XGBRegressor(base_score=None, booster=None, callbacks=None,\n",
       "             colsample_bylevel=None, colsample_bynode=None,\n",
       "             colsample_bytree=None, early_stopping_rounds=None,\n",
       "             enable_categorical=False, eval_metric=None, gamma=None,\n",
       "             gpu_id=None, grow_policy=None, importance_type=None,\n",
       "             interaction_constraints=None, learning_rate=0.15, max_bin=None,\n",
       "             max_cat_to_onehot=None, max_delta_step=None, max_depth=2,\n",
       "             max_leaves=None, min_child_weight=None, missing=nan,\n",
       "             monotone_constraints=None, n_estimators=1500, n_jobs=None,\n",
       "             num_parallel_tree=None, predictor=None, random_state=None,\n",
       "             reg_alpha=None, reg_lambda=None, ...)</pre></div></div></div></div></div></div></div></div></div></div>"
      ],
      "text/plain": [
       "MultiOutputRegressor(estimator=XGBRegressor(base_score=None, booster=None,\n",
       "                                            callbacks=None,\n",
       "                                            colsample_bylevel=None,\n",
       "                                            colsample_bynode=None,\n",
       "                                            colsample_bytree=None,\n",
       "                                            early_stopping_rounds=None,\n",
       "                                            enable_categorical=False,\n",
       "                                            eval_metric=None, gamma=None,\n",
       "                                            gpu_id=None, grow_policy=None,\n",
       "                                            importance_type=None,\n",
       "                                            interaction_constraints=None,\n",
       "                                            learning_rate=0.15, max_bin=None,\n",
       "                                            max_cat_to_onehot=None,\n",
       "                                            max_delta_step=None, max_depth=2,\n",
       "                                            max_leaves=None,\n",
       "                                            min_child_weight=None, missing=nan,\n",
       "                                            monotone_constraints=None,\n",
       "                                            n_estimators=1500, n_jobs=None,\n",
       "                                            num_parallel_tree=None,\n",
       "                                            predictor=None, random_state=None,\n",
       "                                            reg_alpha=None, reg_lambda=None, ...))"
      ]
     },
     "execution_count": 90,
     "metadata": {},
     "output_type": "execute_result"
    }
   ],
   "source": [
    "best_estimator"
   ]
  },
  {
   "cell_type": "code",
   "execution_count": 91,
   "id": "cab9a8e3-0aca-403e-acd9-554391e78d03",
   "metadata": {},
   "outputs": [
    {
     "ename": "ValueError",
     "evalue": "Feature shape mismatch, expected: 5, got 261",
     "output_type": "error",
     "traceback": [
      "\u001b[0;31m---------------------------------------------------------------------------\u001b[0m",
      "\u001b[0;31mValueError\u001b[0m                                Traceback (most recent call last)",
      "Cell \u001b[0;32mIn [91], line 4\u001b[0m\n\u001b[1;32m      1\u001b[0m best_estimator \u001b[38;5;241m=\u001b[39m grid_search\u001b[38;5;241m.\u001b[39mbest_estimator_\n\u001b[1;32m      3\u001b[0m \u001b[38;5;66;03m# Make predictions on the test data\u001b[39;00m\n\u001b[0;32m----> 4\u001b[0m y_pred \u001b[38;5;241m=\u001b[39m \u001b[43mbest_estimator\u001b[49m\u001b[38;5;241;43m.\u001b[39;49m\u001b[43mpredict\u001b[49m\u001b[43m(\u001b[49m\u001b[43mX_test_scaled\u001b[49m\u001b[43m)\u001b[49m\n\u001b[1;32m      6\u001b[0m \u001b[38;5;66;03m# Evaluate the performance of the model using Mean Squared Error (MSE)\u001b[39;00m\n\u001b[1;32m      7\u001b[0m mse \u001b[38;5;241m=\u001b[39m mean_squared_error(y_test, y_pred)\n",
      "File \u001b[0;32m~/.pyenv/versions/3.10.12/envs/artefact/lib/python3.10/site-packages/sklearn/multioutput.py:305\u001b[0m, in \u001b[0;36m_MultiOutputEstimator.predict\u001b[0;34m(self, X)\u001b[0m\n\u001b[1;32m    302\u001b[0m \u001b[38;5;28;01mif\u001b[39;00m \u001b[38;5;129;01mnot\u001b[39;00m \u001b[38;5;28mhasattr\u001b[39m(\u001b[38;5;28mself\u001b[39m\u001b[38;5;241m.\u001b[39mestimators_[\u001b[38;5;241m0\u001b[39m], \u001b[38;5;124m\"\u001b[39m\u001b[38;5;124mpredict\u001b[39m\u001b[38;5;124m\"\u001b[39m):\n\u001b[1;32m    303\u001b[0m     \u001b[38;5;28;01mraise\u001b[39;00m \u001b[38;5;167;01mValueError\u001b[39;00m(\u001b[38;5;124m\"\u001b[39m\u001b[38;5;124mThe base estimator should implement a predict method\u001b[39m\u001b[38;5;124m\"\u001b[39m)\n\u001b[0;32m--> 305\u001b[0m y \u001b[38;5;241m=\u001b[39m \u001b[43mParallel\u001b[49m\u001b[43m(\u001b[49m\u001b[43mn_jobs\u001b[49m\u001b[38;5;241;43m=\u001b[39;49m\u001b[38;5;28;43mself\u001b[39;49m\u001b[38;5;241;43m.\u001b[39;49m\u001b[43mn_jobs\u001b[49m\u001b[43m)\u001b[49m\u001b[43m(\u001b[49m\n\u001b[1;32m    306\u001b[0m \u001b[43m    \u001b[49m\u001b[43mdelayed\u001b[49m\u001b[43m(\u001b[49m\u001b[43me\u001b[49m\u001b[38;5;241;43m.\u001b[39;49m\u001b[43mpredict\u001b[49m\u001b[43m)\u001b[49m\u001b[43m(\u001b[49m\u001b[43mX\u001b[49m\u001b[43m)\u001b[49m\u001b[43m \u001b[49m\u001b[38;5;28;43;01mfor\u001b[39;49;00m\u001b[43m \u001b[49m\u001b[43me\u001b[49m\u001b[43m \u001b[49m\u001b[38;5;129;43;01min\u001b[39;49;00m\u001b[43m \u001b[49m\u001b[38;5;28;43mself\u001b[39;49m\u001b[38;5;241;43m.\u001b[39;49m\u001b[43mestimators_\u001b[49m\n\u001b[1;32m    307\u001b[0m \u001b[43m\u001b[49m\u001b[43m)\u001b[49m\n\u001b[1;32m    309\u001b[0m \u001b[38;5;28;01mreturn\u001b[39;00m np\u001b[38;5;241m.\u001b[39masarray(y)\u001b[38;5;241m.\u001b[39mT\n",
      "File \u001b[0;32m~/.pyenv/versions/3.10.12/envs/artefact/lib/python3.10/site-packages/sklearn/utils/parallel.py:65\u001b[0m, in \u001b[0;36mParallel.__call__\u001b[0;34m(self, iterable)\u001b[0m\n\u001b[1;32m     60\u001b[0m config \u001b[38;5;241m=\u001b[39m get_config()\n\u001b[1;32m     61\u001b[0m iterable_with_config \u001b[38;5;241m=\u001b[39m (\n\u001b[1;32m     62\u001b[0m     (_with_config(delayed_func, config), args, kwargs)\n\u001b[1;32m     63\u001b[0m     \u001b[38;5;28;01mfor\u001b[39;00m delayed_func, args, kwargs \u001b[38;5;129;01min\u001b[39;00m iterable\n\u001b[1;32m     64\u001b[0m )\n\u001b[0;32m---> 65\u001b[0m \u001b[38;5;28;01mreturn\u001b[39;00m \u001b[38;5;28;43msuper\u001b[39;49m\u001b[43m(\u001b[49m\u001b[43m)\u001b[49m\u001b[38;5;241;43m.\u001b[39;49m\u001b[38;5;21;43m__call__\u001b[39;49m\u001b[43m(\u001b[49m\u001b[43miterable_with_config\u001b[49m\u001b[43m)\u001b[49m\n",
      "File \u001b[0;32m~/.pyenv/versions/3.10.12/envs/artefact/lib/python3.10/site-packages/joblib/parallel.py:1863\u001b[0m, in \u001b[0;36mParallel.__call__\u001b[0;34m(self, iterable)\u001b[0m\n\u001b[1;32m   1861\u001b[0m     output \u001b[38;5;241m=\u001b[39m \u001b[38;5;28mself\u001b[39m\u001b[38;5;241m.\u001b[39m_get_sequential_output(iterable)\n\u001b[1;32m   1862\u001b[0m     \u001b[38;5;28mnext\u001b[39m(output)\n\u001b[0;32m-> 1863\u001b[0m     \u001b[38;5;28;01mreturn\u001b[39;00m output \u001b[38;5;28;01mif\u001b[39;00m \u001b[38;5;28mself\u001b[39m\u001b[38;5;241m.\u001b[39mreturn_generator \u001b[38;5;28;01melse\u001b[39;00m \u001b[38;5;28;43mlist\u001b[39;49m\u001b[43m(\u001b[49m\u001b[43moutput\u001b[49m\u001b[43m)\u001b[49m\n\u001b[1;32m   1865\u001b[0m \u001b[38;5;66;03m# Let's create an ID that uniquely identifies the current call. If the\u001b[39;00m\n\u001b[1;32m   1866\u001b[0m \u001b[38;5;66;03m# call is interrupted early and that the same instance is immediately\u001b[39;00m\n\u001b[1;32m   1867\u001b[0m \u001b[38;5;66;03m# re-used, this id will be used to prevent workers that were\u001b[39;00m\n\u001b[1;32m   1868\u001b[0m \u001b[38;5;66;03m# concurrently finalizing a task from the previous call to run the\u001b[39;00m\n\u001b[1;32m   1869\u001b[0m \u001b[38;5;66;03m# callback.\u001b[39;00m\n\u001b[1;32m   1870\u001b[0m \u001b[38;5;28;01mwith\u001b[39;00m \u001b[38;5;28mself\u001b[39m\u001b[38;5;241m.\u001b[39m_lock:\n",
      "File \u001b[0;32m~/.pyenv/versions/3.10.12/envs/artefact/lib/python3.10/site-packages/joblib/parallel.py:1792\u001b[0m, in \u001b[0;36mParallel._get_sequential_output\u001b[0;34m(self, iterable)\u001b[0m\n\u001b[1;32m   1790\u001b[0m \u001b[38;5;28mself\u001b[39m\u001b[38;5;241m.\u001b[39mn_dispatched_batches \u001b[38;5;241m+\u001b[39m\u001b[38;5;241m=\u001b[39m \u001b[38;5;241m1\u001b[39m\n\u001b[1;32m   1791\u001b[0m \u001b[38;5;28mself\u001b[39m\u001b[38;5;241m.\u001b[39mn_dispatched_tasks \u001b[38;5;241m+\u001b[39m\u001b[38;5;241m=\u001b[39m \u001b[38;5;241m1\u001b[39m\n\u001b[0;32m-> 1792\u001b[0m res \u001b[38;5;241m=\u001b[39m \u001b[43mfunc\u001b[49m\u001b[43m(\u001b[49m\u001b[38;5;241;43m*\u001b[39;49m\u001b[43margs\u001b[49m\u001b[43m,\u001b[49m\u001b[43m \u001b[49m\u001b[38;5;241;43m*\u001b[39;49m\u001b[38;5;241;43m*\u001b[39;49m\u001b[43mkwargs\u001b[49m\u001b[43m)\u001b[49m\n\u001b[1;32m   1793\u001b[0m \u001b[38;5;28mself\u001b[39m\u001b[38;5;241m.\u001b[39mn_completed_tasks \u001b[38;5;241m+\u001b[39m\u001b[38;5;241m=\u001b[39m \u001b[38;5;241m1\u001b[39m\n\u001b[1;32m   1794\u001b[0m \u001b[38;5;28mself\u001b[39m\u001b[38;5;241m.\u001b[39mprint_progress()\n",
      "File \u001b[0;32m~/.pyenv/versions/3.10.12/envs/artefact/lib/python3.10/site-packages/sklearn/utils/parallel.py:127\u001b[0m, in \u001b[0;36m_FuncWrapper.__call__\u001b[0;34m(self, *args, **kwargs)\u001b[0m\n\u001b[1;32m    125\u001b[0m     config \u001b[38;5;241m=\u001b[39m {}\n\u001b[1;32m    126\u001b[0m \u001b[38;5;28;01mwith\u001b[39;00m config_context(\u001b[38;5;241m*\u001b[39m\u001b[38;5;241m*\u001b[39mconfig):\n\u001b[0;32m--> 127\u001b[0m     \u001b[38;5;28;01mreturn\u001b[39;00m \u001b[38;5;28;43mself\u001b[39;49m\u001b[38;5;241;43m.\u001b[39;49m\u001b[43mfunction\u001b[49m\u001b[43m(\u001b[49m\u001b[38;5;241;43m*\u001b[39;49m\u001b[43margs\u001b[49m\u001b[43m,\u001b[49m\u001b[43m \u001b[49m\u001b[38;5;241;43m*\u001b[39;49m\u001b[38;5;241;43m*\u001b[39;49m\u001b[43mkwargs\u001b[49m\u001b[43m)\u001b[49m\n",
      "File \u001b[0;32m~/.pyenv/versions/3.10.12/envs/artefact/lib/python3.10/site-packages/xgboost/sklearn.py:1049\u001b[0m, in \u001b[0;36mXGBModel.predict\u001b[0;34m(self, X, output_margin, ntree_limit, validate_features, base_margin, iteration_range)\u001b[0m\n\u001b[1;32m   1047\u001b[0m \u001b[38;5;28;01mif\u001b[39;00m \u001b[38;5;28mself\u001b[39m\u001b[38;5;241m.\u001b[39m_can_use_inplace_predict():\n\u001b[1;32m   1048\u001b[0m     \u001b[38;5;28;01mtry\u001b[39;00m:\n\u001b[0;32m-> 1049\u001b[0m         predts \u001b[38;5;241m=\u001b[39m \u001b[38;5;28;43mself\u001b[39;49m\u001b[38;5;241;43m.\u001b[39;49m\u001b[43mget_booster\u001b[49m\u001b[43m(\u001b[49m\u001b[43m)\u001b[49m\u001b[38;5;241;43m.\u001b[39;49m\u001b[43minplace_predict\u001b[49m\u001b[43m(\u001b[49m\n\u001b[1;32m   1050\u001b[0m \u001b[43m            \u001b[49m\u001b[43mdata\u001b[49m\u001b[38;5;241;43m=\u001b[39;49m\u001b[43mX\u001b[49m\u001b[43m,\u001b[49m\n\u001b[1;32m   1051\u001b[0m \u001b[43m            \u001b[49m\u001b[43miteration_range\u001b[49m\u001b[38;5;241;43m=\u001b[39;49m\u001b[43miteration_range\u001b[49m\u001b[43m,\u001b[49m\n\u001b[1;32m   1052\u001b[0m \u001b[43m            \u001b[49m\u001b[43mpredict_type\u001b[49m\u001b[38;5;241;43m=\u001b[39;49m\u001b[38;5;124;43m\"\u001b[39;49m\u001b[38;5;124;43mmargin\u001b[39;49m\u001b[38;5;124;43m\"\u001b[39;49m\u001b[43m \u001b[49m\u001b[38;5;28;43;01mif\u001b[39;49;00m\u001b[43m \u001b[49m\u001b[43moutput_margin\u001b[49m\u001b[43m \u001b[49m\u001b[38;5;28;43;01melse\u001b[39;49;00m\u001b[43m \u001b[49m\u001b[38;5;124;43m\"\u001b[39;49m\u001b[38;5;124;43mvalue\u001b[39;49m\u001b[38;5;124;43m\"\u001b[39;49m\u001b[43m,\u001b[49m\n\u001b[1;32m   1053\u001b[0m \u001b[43m            \u001b[49m\u001b[43mmissing\u001b[49m\u001b[38;5;241;43m=\u001b[39;49m\u001b[38;5;28;43mself\u001b[39;49m\u001b[38;5;241;43m.\u001b[39;49m\u001b[43mmissing\u001b[49m\u001b[43m,\u001b[49m\n\u001b[1;32m   1054\u001b[0m \u001b[43m            \u001b[49m\u001b[43mbase_margin\u001b[49m\u001b[38;5;241;43m=\u001b[39;49m\u001b[43mbase_margin\u001b[49m\u001b[43m,\u001b[49m\n\u001b[1;32m   1055\u001b[0m \u001b[43m            \u001b[49m\u001b[43mvalidate_features\u001b[49m\u001b[38;5;241;43m=\u001b[39;49m\u001b[43mvalidate_features\u001b[49m\u001b[43m,\u001b[49m\n\u001b[1;32m   1056\u001b[0m \u001b[43m        \u001b[49m\u001b[43m)\u001b[49m\n\u001b[1;32m   1057\u001b[0m         \u001b[38;5;28;01mif\u001b[39;00m _is_cupy_array(predts):\n\u001b[1;32m   1058\u001b[0m             \u001b[38;5;28;01mimport\u001b[39;00m \u001b[38;5;21;01mcupy\u001b[39;00m     \u001b[38;5;66;03m# pylint: disable=import-error\u001b[39;00m\n",
      "File \u001b[0;32m~/.pyenv/versions/3.10.12/envs/artefact/lib/python3.10/site-packages/xgboost/core.py:2128\u001b[0m, in \u001b[0;36mBooster.inplace_predict\u001b[0;34m(self, data, iteration_range, predict_type, missing, validate_features, base_margin, strict_shape)\u001b[0m\n\u001b[1;32m   2124\u001b[0m         \u001b[38;5;28;01mraise\u001b[39;00m \u001b[38;5;167;01mTypeError\u001b[39;00m(\n\u001b[1;32m   2125\u001b[0m             \u001b[38;5;124m\"\u001b[39m\u001b[38;5;124m`shape` attribute is required when `validate_features` is True.\u001b[39m\u001b[38;5;124m\"\u001b[39m\n\u001b[1;32m   2126\u001b[0m         )\n\u001b[1;32m   2127\u001b[0m     \u001b[38;5;28;01mif\u001b[39;00m \u001b[38;5;28mlen\u001b[39m(data\u001b[38;5;241m.\u001b[39mshape) \u001b[38;5;241m!=\u001b[39m \u001b[38;5;241m1\u001b[39m \u001b[38;5;129;01mand\u001b[39;00m \u001b[38;5;28mself\u001b[39m\u001b[38;5;241m.\u001b[39mnum_features() \u001b[38;5;241m!=\u001b[39m data\u001b[38;5;241m.\u001b[39mshape[\u001b[38;5;241m1\u001b[39m]:\n\u001b[0;32m-> 2128\u001b[0m         \u001b[38;5;28;01mraise\u001b[39;00m \u001b[38;5;167;01mValueError\u001b[39;00m(\n\u001b[1;32m   2129\u001b[0m             \u001b[38;5;124mf\u001b[39m\u001b[38;5;124m\"\u001b[39m\u001b[38;5;124mFeature shape mismatch, expected: \u001b[39m\u001b[38;5;132;01m{\u001b[39;00m\u001b[38;5;28mself\u001b[39m\u001b[38;5;241m.\u001b[39mnum_features()\u001b[38;5;132;01m}\u001b[39;00m\u001b[38;5;124m, \u001b[39m\u001b[38;5;124m\"\u001b[39m\n\u001b[1;32m   2130\u001b[0m             \u001b[38;5;124mf\u001b[39m\u001b[38;5;124m\"\u001b[39m\u001b[38;5;124mgot \u001b[39m\u001b[38;5;132;01m{\u001b[39;00mdata\u001b[38;5;241m.\u001b[39mshape[\u001b[38;5;241m1\u001b[39m]\u001b[38;5;132;01m}\u001b[39;00m\u001b[38;5;124m\"\u001b[39m\n\u001b[1;32m   2131\u001b[0m         )\n\u001b[1;32m   2133\u001b[0m \u001b[38;5;28;01mfrom\u001b[39;00m \u001b[38;5;21;01m.\u001b[39;00m\u001b[38;5;21;01mdata\u001b[39;00m \u001b[38;5;28;01mimport\u001b[39;00m (\n\u001b[1;32m   2134\u001b[0m     _is_pandas_df,\n\u001b[1;32m   2135\u001b[0m     _transform_pandas_df,\n\u001b[0;32m   (...)\u001b[0m\n\u001b[1;32m   2138\u001b[0m     _array_interface,\n\u001b[1;32m   2139\u001b[0m )\n\u001b[1;32m   2140\u001b[0m enable_categorical \u001b[38;5;241m=\u001b[39m _has_categorical(\u001b[38;5;28mself\u001b[39m, data)\n",
      "\u001b[0;31mValueError\u001b[0m: Feature shape mismatch, expected: 5, got 261"
     ]
    }
   ],
   "source": [
    "best_estimator = grid_search.best_estimator_\n",
    "\n",
    "# Make predictions on the test data\n",
    "y_pred = best_estimator.predict(X_test_scaled)\n",
    "\n",
    "# Evaluate the performance of the model using Mean Squared Error (MSE)\n",
    "mse = mean_squared_error(y_test, y_pred)\n",
    "print(f'Mean Squared Error on Test Data: {mse}')"
   ]
  },
  {
   "cell_type": "code",
   "execution_count": null,
   "id": "202e22fc-fc23-4cd4-86a1-67d6aaaf6b06",
   "metadata": {},
   "outputs": [],
   "source": []
  },
  {
   "cell_type": "code",
   "execution_count": null,
   "id": "59d97d1c-f4f8-4b85-8d93-3dd26a83a192",
   "metadata": {},
   "outputs": [],
   "source": []
  },
  {
   "cell_type": "code",
   "execution_count": 88,
   "id": "9e1c3816-1fe3-4234-a60c-4e9861e9d2b8",
   "metadata": {},
   "outputs": [
    {
     "ename": "ValueError",
     "evalue": "Feature shape mismatch, expected: 5, got 261",
     "output_type": "error",
     "traceback": [
      "\u001b[0;31m---------------------------------------------------------------------------\u001b[0m",
      "\u001b[0;31mValueError\u001b[0m                                Traceback (most recent call last)",
      "Cell \u001b[0;32mIn [88], line 11\u001b[0m\n\u001b[1;32m      8\u001b[0m best_estimator\u001b[38;5;241m.\u001b[39mfit(X_train_scaled, y_train)\n\u001b[1;32m     10\u001b[0m \u001b[38;5;66;03m# Make predictions on the test data\u001b[39;00m\n\u001b[0;32m---> 11\u001b[0m y_pred \u001b[38;5;241m=\u001b[39m \u001b[43mbest_estimator\u001b[49m\u001b[38;5;241;43m.\u001b[39;49m\u001b[43mpredict\u001b[49m\u001b[43m(\u001b[49m\u001b[43mX_test_scaled\u001b[49m\u001b[43m)\u001b[49m\n\u001b[1;32m     13\u001b[0m \u001b[38;5;66;03m# Evaluate the performance of the model\u001b[39;00m\n\u001b[1;32m     14\u001b[0m mse \u001b[38;5;241m=\u001b[39m mean_squared_error(y_test, y_pred)\n",
      "File \u001b[0;32m~/.pyenv/versions/3.10.12/envs/artefact/lib/python3.10/site-packages/sklearn/multioutput.py:305\u001b[0m, in \u001b[0;36m_MultiOutputEstimator.predict\u001b[0;34m(self, X)\u001b[0m\n\u001b[1;32m    302\u001b[0m \u001b[38;5;28;01mif\u001b[39;00m \u001b[38;5;129;01mnot\u001b[39;00m \u001b[38;5;28mhasattr\u001b[39m(\u001b[38;5;28mself\u001b[39m\u001b[38;5;241m.\u001b[39mestimators_[\u001b[38;5;241m0\u001b[39m], \u001b[38;5;124m\"\u001b[39m\u001b[38;5;124mpredict\u001b[39m\u001b[38;5;124m\"\u001b[39m):\n\u001b[1;32m    303\u001b[0m     \u001b[38;5;28;01mraise\u001b[39;00m \u001b[38;5;167;01mValueError\u001b[39;00m(\u001b[38;5;124m\"\u001b[39m\u001b[38;5;124mThe base estimator should implement a predict method\u001b[39m\u001b[38;5;124m\"\u001b[39m)\n\u001b[0;32m--> 305\u001b[0m y \u001b[38;5;241m=\u001b[39m \u001b[43mParallel\u001b[49m\u001b[43m(\u001b[49m\u001b[43mn_jobs\u001b[49m\u001b[38;5;241;43m=\u001b[39;49m\u001b[38;5;28;43mself\u001b[39;49m\u001b[38;5;241;43m.\u001b[39;49m\u001b[43mn_jobs\u001b[49m\u001b[43m)\u001b[49m\u001b[43m(\u001b[49m\n\u001b[1;32m    306\u001b[0m \u001b[43m    \u001b[49m\u001b[43mdelayed\u001b[49m\u001b[43m(\u001b[49m\u001b[43me\u001b[49m\u001b[38;5;241;43m.\u001b[39;49m\u001b[43mpredict\u001b[49m\u001b[43m)\u001b[49m\u001b[43m(\u001b[49m\u001b[43mX\u001b[49m\u001b[43m)\u001b[49m\u001b[43m \u001b[49m\u001b[38;5;28;43;01mfor\u001b[39;49;00m\u001b[43m \u001b[49m\u001b[43me\u001b[49m\u001b[43m \u001b[49m\u001b[38;5;129;43;01min\u001b[39;49;00m\u001b[43m \u001b[49m\u001b[38;5;28;43mself\u001b[39;49m\u001b[38;5;241;43m.\u001b[39;49m\u001b[43mestimators_\u001b[49m\n\u001b[1;32m    307\u001b[0m \u001b[43m\u001b[49m\u001b[43m)\u001b[49m\n\u001b[1;32m    309\u001b[0m \u001b[38;5;28;01mreturn\u001b[39;00m np\u001b[38;5;241m.\u001b[39masarray(y)\u001b[38;5;241m.\u001b[39mT\n",
      "File \u001b[0;32m~/.pyenv/versions/3.10.12/envs/artefact/lib/python3.10/site-packages/sklearn/utils/parallel.py:65\u001b[0m, in \u001b[0;36mParallel.__call__\u001b[0;34m(self, iterable)\u001b[0m\n\u001b[1;32m     60\u001b[0m config \u001b[38;5;241m=\u001b[39m get_config()\n\u001b[1;32m     61\u001b[0m iterable_with_config \u001b[38;5;241m=\u001b[39m (\n\u001b[1;32m     62\u001b[0m     (_with_config(delayed_func, config), args, kwargs)\n\u001b[1;32m     63\u001b[0m     \u001b[38;5;28;01mfor\u001b[39;00m delayed_func, args, kwargs \u001b[38;5;129;01min\u001b[39;00m iterable\n\u001b[1;32m     64\u001b[0m )\n\u001b[0;32m---> 65\u001b[0m \u001b[38;5;28;01mreturn\u001b[39;00m \u001b[38;5;28;43msuper\u001b[39;49m\u001b[43m(\u001b[49m\u001b[43m)\u001b[49m\u001b[38;5;241;43m.\u001b[39;49m\u001b[38;5;21;43m__call__\u001b[39;49m\u001b[43m(\u001b[49m\u001b[43miterable_with_config\u001b[49m\u001b[43m)\u001b[49m\n",
      "File \u001b[0;32m~/.pyenv/versions/3.10.12/envs/artefact/lib/python3.10/site-packages/joblib/parallel.py:1863\u001b[0m, in \u001b[0;36mParallel.__call__\u001b[0;34m(self, iterable)\u001b[0m\n\u001b[1;32m   1861\u001b[0m     output \u001b[38;5;241m=\u001b[39m \u001b[38;5;28mself\u001b[39m\u001b[38;5;241m.\u001b[39m_get_sequential_output(iterable)\n\u001b[1;32m   1862\u001b[0m     \u001b[38;5;28mnext\u001b[39m(output)\n\u001b[0;32m-> 1863\u001b[0m     \u001b[38;5;28;01mreturn\u001b[39;00m output \u001b[38;5;28;01mif\u001b[39;00m \u001b[38;5;28mself\u001b[39m\u001b[38;5;241m.\u001b[39mreturn_generator \u001b[38;5;28;01melse\u001b[39;00m \u001b[38;5;28;43mlist\u001b[39;49m\u001b[43m(\u001b[49m\u001b[43moutput\u001b[49m\u001b[43m)\u001b[49m\n\u001b[1;32m   1865\u001b[0m \u001b[38;5;66;03m# Let's create an ID that uniquely identifies the current call. If the\u001b[39;00m\n\u001b[1;32m   1866\u001b[0m \u001b[38;5;66;03m# call is interrupted early and that the same instance is immediately\u001b[39;00m\n\u001b[1;32m   1867\u001b[0m \u001b[38;5;66;03m# re-used, this id will be used to prevent workers that were\u001b[39;00m\n\u001b[1;32m   1868\u001b[0m \u001b[38;5;66;03m# concurrently finalizing a task from the previous call to run the\u001b[39;00m\n\u001b[1;32m   1869\u001b[0m \u001b[38;5;66;03m# callback.\u001b[39;00m\n\u001b[1;32m   1870\u001b[0m \u001b[38;5;28;01mwith\u001b[39;00m \u001b[38;5;28mself\u001b[39m\u001b[38;5;241m.\u001b[39m_lock:\n",
      "File \u001b[0;32m~/.pyenv/versions/3.10.12/envs/artefact/lib/python3.10/site-packages/joblib/parallel.py:1792\u001b[0m, in \u001b[0;36mParallel._get_sequential_output\u001b[0;34m(self, iterable)\u001b[0m\n\u001b[1;32m   1790\u001b[0m \u001b[38;5;28mself\u001b[39m\u001b[38;5;241m.\u001b[39mn_dispatched_batches \u001b[38;5;241m+\u001b[39m\u001b[38;5;241m=\u001b[39m \u001b[38;5;241m1\u001b[39m\n\u001b[1;32m   1791\u001b[0m \u001b[38;5;28mself\u001b[39m\u001b[38;5;241m.\u001b[39mn_dispatched_tasks \u001b[38;5;241m+\u001b[39m\u001b[38;5;241m=\u001b[39m \u001b[38;5;241m1\u001b[39m\n\u001b[0;32m-> 1792\u001b[0m res \u001b[38;5;241m=\u001b[39m \u001b[43mfunc\u001b[49m\u001b[43m(\u001b[49m\u001b[38;5;241;43m*\u001b[39;49m\u001b[43margs\u001b[49m\u001b[43m,\u001b[49m\u001b[43m \u001b[49m\u001b[38;5;241;43m*\u001b[39;49m\u001b[38;5;241;43m*\u001b[39;49m\u001b[43mkwargs\u001b[49m\u001b[43m)\u001b[49m\n\u001b[1;32m   1793\u001b[0m \u001b[38;5;28mself\u001b[39m\u001b[38;5;241m.\u001b[39mn_completed_tasks \u001b[38;5;241m+\u001b[39m\u001b[38;5;241m=\u001b[39m \u001b[38;5;241m1\u001b[39m\n\u001b[1;32m   1794\u001b[0m \u001b[38;5;28mself\u001b[39m\u001b[38;5;241m.\u001b[39mprint_progress()\n",
      "File \u001b[0;32m~/.pyenv/versions/3.10.12/envs/artefact/lib/python3.10/site-packages/sklearn/utils/parallel.py:127\u001b[0m, in \u001b[0;36m_FuncWrapper.__call__\u001b[0;34m(self, *args, **kwargs)\u001b[0m\n\u001b[1;32m    125\u001b[0m     config \u001b[38;5;241m=\u001b[39m {}\n\u001b[1;32m    126\u001b[0m \u001b[38;5;28;01mwith\u001b[39;00m config_context(\u001b[38;5;241m*\u001b[39m\u001b[38;5;241m*\u001b[39mconfig):\n\u001b[0;32m--> 127\u001b[0m     \u001b[38;5;28;01mreturn\u001b[39;00m \u001b[38;5;28;43mself\u001b[39;49m\u001b[38;5;241;43m.\u001b[39;49m\u001b[43mfunction\u001b[49m\u001b[43m(\u001b[49m\u001b[38;5;241;43m*\u001b[39;49m\u001b[43margs\u001b[49m\u001b[43m,\u001b[49m\u001b[43m \u001b[49m\u001b[38;5;241;43m*\u001b[39;49m\u001b[38;5;241;43m*\u001b[39;49m\u001b[43mkwargs\u001b[49m\u001b[43m)\u001b[49m\n",
      "File \u001b[0;32m~/.pyenv/versions/3.10.12/envs/artefact/lib/python3.10/site-packages/xgboost/sklearn.py:1049\u001b[0m, in \u001b[0;36mXGBModel.predict\u001b[0;34m(self, X, output_margin, ntree_limit, validate_features, base_margin, iteration_range)\u001b[0m\n\u001b[1;32m   1047\u001b[0m \u001b[38;5;28;01mif\u001b[39;00m \u001b[38;5;28mself\u001b[39m\u001b[38;5;241m.\u001b[39m_can_use_inplace_predict():\n\u001b[1;32m   1048\u001b[0m     \u001b[38;5;28;01mtry\u001b[39;00m:\n\u001b[0;32m-> 1049\u001b[0m         predts \u001b[38;5;241m=\u001b[39m \u001b[38;5;28;43mself\u001b[39;49m\u001b[38;5;241;43m.\u001b[39;49m\u001b[43mget_booster\u001b[49m\u001b[43m(\u001b[49m\u001b[43m)\u001b[49m\u001b[38;5;241;43m.\u001b[39;49m\u001b[43minplace_predict\u001b[49m\u001b[43m(\u001b[49m\n\u001b[1;32m   1050\u001b[0m \u001b[43m            \u001b[49m\u001b[43mdata\u001b[49m\u001b[38;5;241;43m=\u001b[39;49m\u001b[43mX\u001b[49m\u001b[43m,\u001b[49m\n\u001b[1;32m   1051\u001b[0m \u001b[43m            \u001b[49m\u001b[43miteration_range\u001b[49m\u001b[38;5;241;43m=\u001b[39;49m\u001b[43miteration_range\u001b[49m\u001b[43m,\u001b[49m\n\u001b[1;32m   1052\u001b[0m \u001b[43m            \u001b[49m\u001b[43mpredict_type\u001b[49m\u001b[38;5;241;43m=\u001b[39;49m\u001b[38;5;124;43m\"\u001b[39;49m\u001b[38;5;124;43mmargin\u001b[39;49m\u001b[38;5;124;43m\"\u001b[39;49m\u001b[43m \u001b[49m\u001b[38;5;28;43;01mif\u001b[39;49;00m\u001b[43m \u001b[49m\u001b[43moutput_margin\u001b[49m\u001b[43m \u001b[49m\u001b[38;5;28;43;01melse\u001b[39;49;00m\u001b[43m \u001b[49m\u001b[38;5;124;43m\"\u001b[39;49m\u001b[38;5;124;43mvalue\u001b[39;49m\u001b[38;5;124;43m\"\u001b[39;49m\u001b[43m,\u001b[49m\n\u001b[1;32m   1053\u001b[0m \u001b[43m            \u001b[49m\u001b[43mmissing\u001b[49m\u001b[38;5;241;43m=\u001b[39;49m\u001b[38;5;28;43mself\u001b[39;49m\u001b[38;5;241;43m.\u001b[39;49m\u001b[43mmissing\u001b[49m\u001b[43m,\u001b[49m\n\u001b[1;32m   1054\u001b[0m \u001b[43m            \u001b[49m\u001b[43mbase_margin\u001b[49m\u001b[38;5;241;43m=\u001b[39;49m\u001b[43mbase_margin\u001b[49m\u001b[43m,\u001b[49m\n\u001b[1;32m   1055\u001b[0m \u001b[43m            \u001b[49m\u001b[43mvalidate_features\u001b[49m\u001b[38;5;241;43m=\u001b[39;49m\u001b[43mvalidate_features\u001b[49m\u001b[43m,\u001b[49m\n\u001b[1;32m   1056\u001b[0m \u001b[43m        \u001b[49m\u001b[43m)\u001b[49m\n\u001b[1;32m   1057\u001b[0m         \u001b[38;5;28;01mif\u001b[39;00m _is_cupy_array(predts):\n\u001b[1;32m   1058\u001b[0m             \u001b[38;5;28;01mimport\u001b[39;00m \u001b[38;5;21;01mcupy\u001b[39;00m     \u001b[38;5;66;03m# pylint: disable=import-error\u001b[39;00m\n",
      "File \u001b[0;32m~/.pyenv/versions/3.10.12/envs/artefact/lib/python3.10/site-packages/xgboost/core.py:2128\u001b[0m, in \u001b[0;36mBooster.inplace_predict\u001b[0;34m(self, data, iteration_range, predict_type, missing, validate_features, base_margin, strict_shape)\u001b[0m\n\u001b[1;32m   2124\u001b[0m         \u001b[38;5;28;01mraise\u001b[39;00m \u001b[38;5;167;01mTypeError\u001b[39;00m(\n\u001b[1;32m   2125\u001b[0m             \u001b[38;5;124m\"\u001b[39m\u001b[38;5;124m`shape` attribute is required when `validate_features` is True.\u001b[39m\u001b[38;5;124m\"\u001b[39m\n\u001b[1;32m   2126\u001b[0m         )\n\u001b[1;32m   2127\u001b[0m     \u001b[38;5;28;01mif\u001b[39;00m \u001b[38;5;28mlen\u001b[39m(data\u001b[38;5;241m.\u001b[39mshape) \u001b[38;5;241m!=\u001b[39m \u001b[38;5;241m1\u001b[39m \u001b[38;5;129;01mand\u001b[39;00m \u001b[38;5;28mself\u001b[39m\u001b[38;5;241m.\u001b[39mnum_features() \u001b[38;5;241m!=\u001b[39m data\u001b[38;5;241m.\u001b[39mshape[\u001b[38;5;241m1\u001b[39m]:\n\u001b[0;32m-> 2128\u001b[0m         \u001b[38;5;28;01mraise\u001b[39;00m \u001b[38;5;167;01mValueError\u001b[39;00m(\n\u001b[1;32m   2129\u001b[0m             \u001b[38;5;124mf\u001b[39m\u001b[38;5;124m\"\u001b[39m\u001b[38;5;124mFeature shape mismatch, expected: \u001b[39m\u001b[38;5;132;01m{\u001b[39;00m\u001b[38;5;28mself\u001b[39m\u001b[38;5;241m.\u001b[39mnum_features()\u001b[38;5;132;01m}\u001b[39;00m\u001b[38;5;124m, \u001b[39m\u001b[38;5;124m\"\u001b[39m\n\u001b[1;32m   2130\u001b[0m             \u001b[38;5;124mf\u001b[39m\u001b[38;5;124m\"\u001b[39m\u001b[38;5;124mgot \u001b[39m\u001b[38;5;132;01m{\u001b[39;00mdata\u001b[38;5;241m.\u001b[39mshape[\u001b[38;5;241m1\u001b[39m]\u001b[38;5;132;01m}\u001b[39;00m\u001b[38;5;124m\"\u001b[39m\n\u001b[1;32m   2131\u001b[0m         )\n\u001b[1;32m   2133\u001b[0m \u001b[38;5;28;01mfrom\u001b[39;00m \u001b[38;5;21;01m.\u001b[39;00m\u001b[38;5;21;01mdata\u001b[39;00m \u001b[38;5;28;01mimport\u001b[39;00m (\n\u001b[1;32m   2134\u001b[0m     _is_pandas_df,\n\u001b[1;32m   2135\u001b[0m     _transform_pandas_df,\n\u001b[0;32m   (...)\u001b[0m\n\u001b[1;32m   2138\u001b[0m     _array_interface,\n\u001b[1;32m   2139\u001b[0m )\n\u001b[1;32m   2140\u001b[0m enable_categorical \u001b[38;5;241m=\u001b[39m _has_categorical(\u001b[38;5;28mself\u001b[39m, data)\n",
      "\u001b[0;31mValueError\u001b[0m: Feature shape mismatch, expected: 5, got 261"
     ]
    }
   ],
   "source": [
    "# Create the MultiOutputRegressor with the updated XGBRegressor\n",
    "best_estimator = MultiOutputRegressor(XGBRegressor(objective='reg:squarederror', \n",
    "                                                    learning_rate=0.15, \n",
    "                                                    max_depth=2, \n",
    "                                                    n_estimators=1500))\n",
    "\n",
    "# Fit the model on the training data\n",
    "best_estimator.fit(X_train_scaled, y_train)\n",
    "\n",
    "# Make predictions on the test data\n",
    "y_pred = best_estimator.predict(X_test_scaled)\n",
    "\n",
    "# Evaluate the performance of the model\n",
    "mse = mean_squared_error(y_test, y_pred)\n",
    "print(f'Mean Squared Error on Test Data: {mse}')"
   ]
  },
  {
   "cell_type": "code",
   "execution_count": 92,
   "id": "7e6e0bfb-d31d-4ede-a806-9783960ada04",
   "metadata": {},
   "outputs": [
    {
     "ename": "AttributeError",
     "evalue": "'XGBRegressor' object has no attribute 'estimator'",
     "output_type": "error",
     "traceback": [
      "\u001b[0;31m---------------------------------------------------------------------------\u001b[0m",
      "\u001b[0;31mAttributeError\u001b[0m                            Traceback (most recent call last)",
      "Cell \u001b[0;32mIn [92], line 1\u001b[0m\n\u001b[0;32m----> 1\u001b[0m \u001b[38;5;28mprint\u001b[39m(\u001b[38;5;124m\"\u001b[39m\u001b[38;5;124mXGBoost feature names:\u001b[39m\u001b[38;5;124m\"\u001b[39m, \u001b[43mbest_estimator\u001b[49m\u001b[38;5;241;43m.\u001b[39;49m\u001b[43mestimators_\u001b[49m\u001b[43m[\u001b[49m\u001b[38;5;241;43m0\u001b[39;49m\u001b[43m]\u001b[49m\u001b[38;5;241;43m.\u001b[39;49m\u001b[43mestimator\u001b[49m\u001b[38;5;241m.\u001b[39mget_booster()\u001b[38;5;241m.\u001b[39mfeature_names)\n",
      "\u001b[0;31mAttributeError\u001b[0m: 'XGBRegressor' object has no attribute 'estimator'"
     ]
    }
   ],
   "source": [
    "print(\"XGBoost feature names:\", best_estimator.estimators_[0].estimator.get_booster().feature_names)"
   ]
  },
  {
   "cell_type": "code",
   "execution_count": 93,
   "id": "605b3f01-2aa1-4662-ba43-24ceb8f1f53c",
   "metadata": {},
   "outputs": [
    {
     "ename": "AttributeError",
     "evalue": "'XGBRegressor' object has no attribute 'estimator'",
     "output_type": "error",
     "traceback": [
      "\u001b[0;31m---------------------------------------------------------------------------\u001b[0m",
      "\u001b[0;31mAttributeError\u001b[0m                            Traceback (most recent call last)",
      "Cell \u001b[0;32mIn [93], line 16\u001b[0m\n\u001b[1;32m     13\u001b[0m updated_best_estimator\u001b[38;5;241m.\u001b[39mfit(X_train_scaled, y_train)\n\u001b[1;32m     15\u001b[0m \u001b[38;5;66;03m# Print the feature names\u001b[39;00m\n\u001b[0;32m---> 16\u001b[0m \u001b[38;5;28mprint\u001b[39m(\u001b[38;5;124m\"\u001b[39m\u001b[38;5;124mXGBoost feature names:\u001b[39m\u001b[38;5;124m\"\u001b[39m, \u001b[43mupdated_best_estimator\u001b[49m\u001b[38;5;241;43m.\u001b[39;49m\u001b[43mestimators_\u001b[49m\u001b[43m[\u001b[49m\u001b[38;5;241;43m0\u001b[39;49m\u001b[43m]\u001b[49m\u001b[38;5;241;43m.\u001b[39;49m\u001b[43mestimator\u001b[49m\u001b[38;5;241m.\u001b[39mget_booster()\u001b[38;5;241m.\u001b[39mfeature_names)\n\u001b[1;32m     18\u001b[0m \u001b[38;5;66;03m# Make predictions on the test data\u001b[39;00m\n\u001b[1;32m     19\u001b[0m y_pred \u001b[38;5;241m=\u001b[39m updated_best_estimator\u001b[38;5;241m.\u001b[39mpredict(X_test_scaled)\n",
      "\u001b[0;31mAttributeError\u001b[0m: 'XGBRegressor' object has no attribute 'estimator'"
     ]
    }
   ],
   "source": [
    "num_features_test = X_test_scaled.shape[1]\n",
    "\n",
    "# Update the XGBRegressor with feature_names\n",
    "xgb_regressor_with_names = XGBRegressor(objective='reg:squarederror', feature_names=[f'feature_{i}' for i in range(num_features_test)])\n",
    "\n",
    "# Create a new MultiOutputRegressor with the updated XGBRegressor\n",
    "updated_best_estimator = MultiOutputRegressor(xgb_regressor_with_names)\n",
    "\n",
    "# Copy the parameters from the best_estimator to the updated_best_estimator\n",
    "updated_best_estimator.set_params(**best_estimator.get_params())\n",
    "\n",
    "# Fit the updated_best_estimator on the training data\n",
    "updated_best_estimator.fit(X_train_scaled, y_train)\n",
    "\n",
    "# Print the feature names\n",
    "print(\"XGBoost feature names:\", updated_best_estimator.estimators_[0].estimator.get_booster().feature_names)\n",
    "\n",
    "# Make predictions on the test data\n",
    "y_pred = updated_best_estimator.predict(X_test_scaled)"
   ]
  },
  {
   "cell_type": "code",
   "execution_count": null,
   "id": "a35c1cd2-0bfc-4f17-bece-cee9709735e4",
   "metadata": {},
   "outputs": [],
   "source": []
  },
  {
   "cell_type": "code",
   "execution_count": null,
   "id": "c2ef155f-df75-43a8-8b90-cd146982952f",
   "metadata": {},
   "outputs": [],
   "source": []
  },
  {
   "cell_type": "code",
   "execution_count": 81,
   "id": "c5017e8f-56ab-4df5-b380-ff5b4676b7f6",
   "metadata": {},
   "outputs": [
    {
     "name": "stdout",
     "output_type": "stream",
     "text": [
      "X_test_scaled shape :  (2395, 261)\n"
     ]
    }
   ],
   "source": [
    "\n",
    "print('X_test_scaled shape : ', X_test_scaled.shape)\n"
   ]
  },
  {
   "cell_type": "code",
   "execution_count": 74,
   "id": "4e3d1f64-a31c-4468-8df8-dde24afcc769",
   "metadata": {},
   "outputs": [
    {
     "name": "stdout",
     "output_type": "stream",
     "text": [
      "Feature Names: None\n",
      "Test Data Shape: (2395, 261)\n"
     ]
    },
    {
     "ename": "ValueError",
     "evalue": "Feature shape mismatch, expected: 5, got 261",
     "output_type": "error",
     "traceback": [
      "\u001b[0;31m---------------------------------------------------------------------------\u001b[0m",
      "\u001b[0;31mValueError\u001b[0m                                Traceback (most recent call last)",
      "Cell \u001b[0;32mIn [74], line 8\u001b[0m\n\u001b[1;32m      5\u001b[0m \u001b[38;5;28mprint\u001b[39m(\u001b[38;5;124m\"\u001b[39m\u001b[38;5;124mTest Data Shape:\u001b[39m\u001b[38;5;124m\"\u001b[39m, X_test_scaled\u001b[38;5;241m.\u001b[39mshape)\n\u001b[1;32m      7\u001b[0m \u001b[38;5;66;03m# Make predictions on the test data\u001b[39;00m\n\u001b[0;32m----> 8\u001b[0m y_pred \u001b[38;5;241m=\u001b[39m \u001b[43mbest_estimator\u001b[49m\u001b[38;5;241;43m.\u001b[39;49m\u001b[43mpredict\u001b[49m\u001b[43m(\u001b[49m\u001b[43mX_test_scaled\u001b[49m\u001b[43m)\u001b[49m\n",
      "File \u001b[0;32m~/.pyenv/versions/3.10.12/envs/artefact/lib/python3.10/site-packages/sklearn/multioutput.py:305\u001b[0m, in \u001b[0;36m_MultiOutputEstimator.predict\u001b[0;34m(self, X)\u001b[0m\n\u001b[1;32m    302\u001b[0m \u001b[38;5;28;01mif\u001b[39;00m \u001b[38;5;129;01mnot\u001b[39;00m \u001b[38;5;28mhasattr\u001b[39m(\u001b[38;5;28mself\u001b[39m\u001b[38;5;241m.\u001b[39mestimators_[\u001b[38;5;241m0\u001b[39m], \u001b[38;5;124m\"\u001b[39m\u001b[38;5;124mpredict\u001b[39m\u001b[38;5;124m\"\u001b[39m):\n\u001b[1;32m    303\u001b[0m     \u001b[38;5;28;01mraise\u001b[39;00m \u001b[38;5;167;01mValueError\u001b[39;00m(\u001b[38;5;124m\"\u001b[39m\u001b[38;5;124mThe base estimator should implement a predict method\u001b[39m\u001b[38;5;124m\"\u001b[39m)\n\u001b[0;32m--> 305\u001b[0m y \u001b[38;5;241m=\u001b[39m \u001b[43mParallel\u001b[49m\u001b[43m(\u001b[49m\u001b[43mn_jobs\u001b[49m\u001b[38;5;241;43m=\u001b[39;49m\u001b[38;5;28;43mself\u001b[39;49m\u001b[38;5;241;43m.\u001b[39;49m\u001b[43mn_jobs\u001b[49m\u001b[43m)\u001b[49m\u001b[43m(\u001b[49m\n\u001b[1;32m    306\u001b[0m \u001b[43m    \u001b[49m\u001b[43mdelayed\u001b[49m\u001b[43m(\u001b[49m\u001b[43me\u001b[49m\u001b[38;5;241;43m.\u001b[39;49m\u001b[43mpredict\u001b[49m\u001b[43m)\u001b[49m\u001b[43m(\u001b[49m\u001b[43mX\u001b[49m\u001b[43m)\u001b[49m\u001b[43m \u001b[49m\u001b[38;5;28;43;01mfor\u001b[39;49;00m\u001b[43m \u001b[49m\u001b[43me\u001b[49m\u001b[43m \u001b[49m\u001b[38;5;129;43;01min\u001b[39;49;00m\u001b[43m \u001b[49m\u001b[38;5;28;43mself\u001b[39;49m\u001b[38;5;241;43m.\u001b[39;49m\u001b[43mestimators_\u001b[49m\n\u001b[1;32m    307\u001b[0m \u001b[43m\u001b[49m\u001b[43m)\u001b[49m\n\u001b[1;32m    309\u001b[0m \u001b[38;5;28;01mreturn\u001b[39;00m np\u001b[38;5;241m.\u001b[39masarray(y)\u001b[38;5;241m.\u001b[39mT\n",
      "File \u001b[0;32m~/.pyenv/versions/3.10.12/envs/artefact/lib/python3.10/site-packages/sklearn/utils/parallel.py:65\u001b[0m, in \u001b[0;36mParallel.__call__\u001b[0;34m(self, iterable)\u001b[0m\n\u001b[1;32m     60\u001b[0m config \u001b[38;5;241m=\u001b[39m get_config()\n\u001b[1;32m     61\u001b[0m iterable_with_config \u001b[38;5;241m=\u001b[39m (\n\u001b[1;32m     62\u001b[0m     (_with_config(delayed_func, config), args, kwargs)\n\u001b[1;32m     63\u001b[0m     \u001b[38;5;28;01mfor\u001b[39;00m delayed_func, args, kwargs \u001b[38;5;129;01min\u001b[39;00m iterable\n\u001b[1;32m     64\u001b[0m )\n\u001b[0;32m---> 65\u001b[0m \u001b[38;5;28;01mreturn\u001b[39;00m \u001b[38;5;28;43msuper\u001b[39;49m\u001b[43m(\u001b[49m\u001b[43m)\u001b[49m\u001b[38;5;241;43m.\u001b[39;49m\u001b[38;5;21;43m__call__\u001b[39;49m\u001b[43m(\u001b[49m\u001b[43miterable_with_config\u001b[49m\u001b[43m)\u001b[49m\n",
      "File \u001b[0;32m~/.pyenv/versions/3.10.12/envs/artefact/lib/python3.10/site-packages/joblib/parallel.py:1863\u001b[0m, in \u001b[0;36mParallel.__call__\u001b[0;34m(self, iterable)\u001b[0m\n\u001b[1;32m   1861\u001b[0m     output \u001b[38;5;241m=\u001b[39m \u001b[38;5;28mself\u001b[39m\u001b[38;5;241m.\u001b[39m_get_sequential_output(iterable)\n\u001b[1;32m   1862\u001b[0m     \u001b[38;5;28mnext\u001b[39m(output)\n\u001b[0;32m-> 1863\u001b[0m     \u001b[38;5;28;01mreturn\u001b[39;00m output \u001b[38;5;28;01mif\u001b[39;00m \u001b[38;5;28mself\u001b[39m\u001b[38;5;241m.\u001b[39mreturn_generator \u001b[38;5;28;01melse\u001b[39;00m \u001b[38;5;28;43mlist\u001b[39;49m\u001b[43m(\u001b[49m\u001b[43moutput\u001b[49m\u001b[43m)\u001b[49m\n\u001b[1;32m   1865\u001b[0m \u001b[38;5;66;03m# Let's create an ID that uniquely identifies the current call. If the\u001b[39;00m\n\u001b[1;32m   1866\u001b[0m \u001b[38;5;66;03m# call is interrupted early and that the same instance is immediately\u001b[39;00m\n\u001b[1;32m   1867\u001b[0m \u001b[38;5;66;03m# re-used, this id will be used to prevent workers that were\u001b[39;00m\n\u001b[1;32m   1868\u001b[0m \u001b[38;5;66;03m# concurrently finalizing a task from the previous call to run the\u001b[39;00m\n\u001b[1;32m   1869\u001b[0m \u001b[38;5;66;03m# callback.\u001b[39;00m\n\u001b[1;32m   1870\u001b[0m \u001b[38;5;28;01mwith\u001b[39;00m \u001b[38;5;28mself\u001b[39m\u001b[38;5;241m.\u001b[39m_lock:\n",
      "File \u001b[0;32m~/.pyenv/versions/3.10.12/envs/artefact/lib/python3.10/site-packages/joblib/parallel.py:1792\u001b[0m, in \u001b[0;36mParallel._get_sequential_output\u001b[0;34m(self, iterable)\u001b[0m\n\u001b[1;32m   1790\u001b[0m \u001b[38;5;28mself\u001b[39m\u001b[38;5;241m.\u001b[39mn_dispatched_batches \u001b[38;5;241m+\u001b[39m\u001b[38;5;241m=\u001b[39m \u001b[38;5;241m1\u001b[39m\n\u001b[1;32m   1791\u001b[0m \u001b[38;5;28mself\u001b[39m\u001b[38;5;241m.\u001b[39mn_dispatched_tasks \u001b[38;5;241m+\u001b[39m\u001b[38;5;241m=\u001b[39m \u001b[38;5;241m1\u001b[39m\n\u001b[0;32m-> 1792\u001b[0m res \u001b[38;5;241m=\u001b[39m \u001b[43mfunc\u001b[49m\u001b[43m(\u001b[49m\u001b[38;5;241;43m*\u001b[39;49m\u001b[43margs\u001b[49m\u001b[43m,\u001b[49m\u001b[43m \u001b[49m\u001b[38;5;241;43m*\u001b[39;49m\u001b[38;5;241;43m*\u001b[39;49m\u001b[43mkwargs\u001b[49m\u001b[43m)\u001b[49m\n\u001b[1;32m   1793\u001b[0m \u001b[38;5;28mself\u001b[39m\u001b[38;5;241m.\u001b[39mn_completed_tasks \u001b[38;5;241m+\u001b[39m\u001b[38;5;241m=\u001b[39m \u001b[38;5;241m1\u001b[39m\n\u001b[1;32m   1794\u001b[0m \u001b[38;5;28mself\u001b[39m\u001b[38;5;241m.\u001b[39mprint_progress()\n",
      "File \u001b[0;32m~/.pyenv/versions/3.10.12/envs/artefact/lib/python3.10/site-packages/sklearn/utils/parallel.py:127\u001b[0m, in \u001b[0;36m_FuncWrapper.__call__\u001b[0;34m(self, *args, **kwargs)\u001b[0m\n\u001b[1;32m    125\u001b[0m     config \u001b[38;5;241m=\u001b[39m {}\n\u001b[1;32m    126\u001b[0m \u001b[38;5;28;01mwith\u001b[39;00m config_context(\u001b[38;5;241m*\u001b[39m\u001b[38;5;241m*\u001b[39mconfig):\n\u001b[0;32m--> 127\u001b[0m     \u001b[38;5;28;01mreturn\u001b[39;00m \u001b[38;5;28;43mself\u001b[39;49m\u001b[38;5;241;43m.\u001b[39;49m\u001b[43mfunction\u001b[49m\u001b[43m(\u001b[49m\u001b[38;5;241;43m*\u001b[39;49m\u001b[43margs\u001b[49m\u001b[43m,\u001b[49m\u001b[43m \u001b[49m\u001b[38;5;241;43m*\u001b[39;49m\u001b[38;5;241;43m*\u001b[39;49m\u001b[43mkwargs\u001b[49m\u001b[43m)\u001b[49m\n",
      "File \u001b[0;32m~/.pyenv/versions/3.10.12/envs/artefact/lib/python3.10/site-packages/xgboost/sklearn.py:1049\u001b[0m, in \u001b[0;36mXGBModel.predict\u001b[0;34m(self, X, output_margin, ntree_limit, validate_features, base_margin, iteration_range)\u001b[0m\n\u001b[1;32m   1047\u001b[0m \u001b[38;5;28;01mif\u001b[39;00m \u001b[38;5;28mself\u001b[39m\u001b[38;5;241m.\u001b[39m_can_use_inplace_predict():\n\u001b[1;32m   1048\u001b[0m     \u001b[38;5;28;01mtry\u001b[39;00m:\n\u001b[0;32m-> 1049\u001b[0m         predts \u001b[38;5;241m=\u001b[39m \u001b[38;5;28;43mself\u001b[39;49m\u001b[38;5;241;43m.\u001b[39;49m\u001b[43mget_booster\u001b[49m\u001b[43m(\u001b[49m\u001b[43m)\u001b[49m\u001b[38;5;241;43m.\u001b[39;49m\u001b[43minplace_predict\u001b[49m\u001b[43m(\u001b[49m\n\u001b[1;32m   1050\u001b[0m \u001b[43m            \u001b[49m\u001b[43mdata\u001b[49m\u001b[38;5;241;43m=\u001b[39;49m\u001b[43mX\u001b[49m\u001b[43m,\u001b[49m\n\u001b[1;32m   1051\u001b[0m \u001b[43m            \u001b[49m\u001b[43miteration_range\u001b[49m\u001b[38;5;241;43m=\u001b[39;49m\u001b[43miteration_range\u001b[49m\u001b[43m,\u001b[49m\n\u001b[1;32m   1052\u001b[0m \u001b[43m            \u001b[49m\u001b[43mpredict_type\u001b[49m\u001b[38;5;241;43m=\u001b[39;49m\u001b[38;5;124;43m\"\u001b[39;49m\u001b[38;5;124;43mmargin\u001b[39;49m\u001b[38;5;124;43m\"\u001b[39;49m\u001b[43m \u001b[49m\u001b[38;5;28;43;01mif\u001b[39;49;00m\u001b[43m \u001b[49m\u001b[43moutput_margin\u001b[49m\u001b[43m \u001b[49m\u001b[38;5;28;43;01melse\u001b[39;49;00m\u001b[43m \u001b[49m\u001b[38;5;124;43m\"\u001b[39;49m\u001b[38;5;124;43mvalue\u001b[39;49m\u001b[38;5;124;43m\"\u001b[39;49m\u001b[43m,\u001b[49m\n\u001b[1;32m   1053\u001b[0m \u001b[43m            \u001b[49m\u001b[43mmissing\u001b[49m\u001b[38;5;241;43m=\u001b[39;49m\u001b[38;5;28;43mself\u001b[39;49m\u001b[38;5;241;43m.\u001b[39;49m\u001b[43mmissing\u001b[49m\u001b[43m,\u001b[49m\n\u001b[1;32m   1054\u001b[0m \u001b[43m            \u001b[49m\u001b[43mbase_margin\u001b[49m\u001b[38;5;241;43m=\u001b[39;49m\u001b[43mbase_margin\u001b[49m\u001b[43m,\u001b[49m\n\u001b[1;32m   1055\u001b[0m \u001b[43m            \u001b[49m\u001b[43mvalidate_features\u001b[49m\u001b[38;5;241;43m=\u001b[39;49m\u001b[43mvalidate_features\u001b[49m\u001b[43m,\u001b[49m\n\u001b[1;32m   1056\u001b[0m \u001b[43m        \u001b[49m\u001b[43m)\u001b[49m\n\u001b[1;32m   1057\u001b[0m         \u001b[38;5;28;01mif\u001b[39;00m _is_cupy_array(predts):\n\u001b[1;32m   1058\u001b[0m             \u001b[38;5;28;01mimport\u001b[39;00m \u001b[38;5;21;01mcupy\u001b[39;00m     \u001b[38;5;66;03m# pylint: disable=import-error\u001b[39;00m\n",
      "File \u001b[0;32m~/.pyenv/versions/3.10.12/envs/artefact/lib/python3.10/site-packages/xgboost/core.py:2128\u001b[0m, in \u001b[0;36mBooster.inplace_predict\u001b[0;34m(self, data, iteration_range, predict_type, missing, validate_features, base_margin, strict_shape)\u001b[0m\n\u001b[1;32m   2124\u001b[0m         \u001b[38;5;28;01mraise\u001b[39;00m \u001b[38;5;167;01mTypeError\u001b[39;00m(\n\u001b[1;32m   2125\u001b[0m             \u001b[38;5;124m\"\u001b[39m\u001b[38;5;124m`shape` attribute is required when `validate_features` is True.\u001b[39m\u001b[38;5;124m\"\u001b[39m\n\u001b[1;32m   2126\u001b[0m         )\n\u001b[1;32m   2127\u001b[0m     \u001b[38;5;28;01mif\u001b[39;00m \u001b[38;5;28mlen\u001b[39m(data\u001b[38;5;241m.\u001b[39mshape) \u001b[38;5;241m!=\u001b[39m \u001b[38;5;241m1\u001b[39m \u001b[38;5;129;01mand\u001b[39;00m \u001b[38;5;28mself\u001b[39m\u001b[38;5;241m.\u001b[39mnum_features() \u001b[38;5;241m!=\u001b[39m data\u001b[38;5;241m.\u001b[39mshape[\u001b[38;5;241m1\u001b[39m]:\n\u001b[0;32m-> 2128\u001b[0m         \u001b[38;5;28;01mraise\u001b[39;00m \u001b[38;5;167;01mValueError\u001b[39;00m(\n\u001b[1;32m   2129\u001b[0m             \u001b[38;5;124mf\u001b[39m\u001b[38;5;124m\"\u001b[39m\u001b[38;5;124mFeature shape mismatch, expected: \u001b[39m\u001b[38;5;132;01m{\u001b[39;00m\u001b[38;5;28mself\u001b[39m\u001b[38;5;241m.\u001b[39mnum_features()\u001b[38;5;132;01m}\u001b[39;00m\u001b[38;5;124m, \u001b[39m\u001b[38;5;124m\"\u001b[39m\n\u001b[1;32m   2130\u001b[0m             \u001b[38;5;124mf\u001b[39m\u001b[38;5;124m\"\u001b[39m\u001b[38;5;124mgot \u001b[39m\u001b[38;5;132;01m{\u001b[39;00mdata\u001b[38;5;241m.\u001b[39mshape[\u001b[38;5;241m1\u001b[39m]\u001b[38;5;132;01m}\u001b[39;00m\u001b[38;5;124m\"\u001b[39m\n\u001b[1;32m   2131\u001b[0m         )\n\u001b[1;32m   2133\u001b[0m \u001b[38;5;28;01mfrom\u001b[39;00m \u001b[38;5;21;01m.\u001b[39;00m\u001b[38;5;21;01mdata\u001b[39;00m \u001b[38;5;28;01mimport\u001b[39;00m (\n\u001b[1;32m   2134\u001b[0m     _is_pandas_df,\n\u001b[1;32m   2135\u001b[0m     _transform_pandas_df,\n\u001b[0;32m   (...)\u001b[0m\n\u001b[1;32m   2138\u001b[0m     _array_interface,\n\u001b[1;32m   2139\u001b[0m )\n\u001b[1;32m   2140\u001b[0m enable_categorical \u001b[38;5;241m=\u001b[39m _has_categorical(\u001b[38;5;28mself\u001b[39m, data)\n",
      "\u001b[0;31mValueError\u001b[0m: Feature shape mismatch, expected: 5, got 261"
     ]
    }
   ],
   "source": [
    "feature_names = best_estimator.estimators_[0].get_booster().feature_names\n",
    "print(\"Feature Names:\", feature_names)\n",
    "\n",
    "# Print the shape of the test data\n",
    "print(\"Test Data Shape:\", X_test_scaled.shape)\n",
    "\n",
    "# Make predictions on the test data\n",
    "y_pred = best_estimator.predict(X_test_scaled)"
   ]
  },
  {
   "cell_type": "code",
   "execution_count": 73,
   "id": "ade20fa8-d2d6-4897-95ae-578babf4b47d",
   "metadata": {},
   "outputs": [
    {
     "ename": "ValueError",
     "evalue": "Feature shape mismatch, expected: 5, got 261",
     "output_type": "error",
     "traceback": [
      "\u001b[0;31m---------------------------------------------------------------------------\u001b[0m",
      "\u001b[0;31mValueError\u001b[0m                                Traceback (most recent call last)",
      "Cell \u001b[0;32mIn [73], line 1\u001b[0m\n\u001b[0;32m----> 1\u001b[0m y_pred \u001b[38;5;241m=\u001b[39m \u001b[43mbest_estimator\u001b[49m\u001b[38;5;241;43m.\u001b[39;49m\u001b[43mpredict\u001b[49m\u001b[43m(\u001b[49m\u001b[43mX_test_scaled\u001b[49m\u001b[43m)\u001b[49m\n",
      "File \u001b[0;32m~/.pyenv/versions/3.10.12/envs/artefact/lib/python3.10/site-packages/sklearn/multioutput.py:305\u001b[0m, in \u001b[0;36m_MultiOutputEstimator.predict\u001b[0;34m(self, X)\u001b[0m\n\u001b[1;32m    302\u001b[0m \u001b[38;5;28;01mif\u001b[39;00m \u001b[38;5;129;01mnot\u001b[39;00m \u001b[38;5;28mhasattr\u001b[39m(\u001b[38;5;28mself\u001b[39m\u001b[38;5;241m.\u001b[39mestimators_[\u001b[38;5;241m0\u001b[39m], \u001b[38;5;124m\"\u001b[39m\u001b[38;5;124mpredict\u001b[39m\u001b[38;5;124m\"\u001b[39m):\n\u001b[1;32m    303\u001b[0m     \u001b[38;5;28;01mraise\u001b[39;00m \u001b[38;5;167;01mValueError\u001b[39;00m(\u001b[38;5;124m\"\u001b[39m\u001b[38;5;124mThe base estimator should implement a predict method\u001b[39m\u001b[38;5;124m\"\u001b[39m)\n\u001b[0;32m--> 305\u001b[0m y \u001b[38;5;241m=\u001b[39m \u001b[43mParallel\u001b[49m\u001b[43m(\u001b[49m\u001b[43mn_jobs\u001b[49m\u001b[38;5;241;43m=\u001b[39;49m\u001b[38;5;28;43mself\u001b[39;49m\u001b[38;5;241;43m.\u001b[39;49m\u001b[43mn_jobs\u001b[49m\u001b[43m)\u001b[49m\u001b[43m(\u001b[49m\n\u001b[1;32m    306\u001b[0m \u001b[43m    \u001b[49m\u001b[43mdelayed\u001b[49m\u001b[43m(\u001b[49m\u001b[43me\u001b[49m\u001b[38;5;241;43m.\u001b[39;49m\u001b[43mpredict\u001b[49m\u001b[43m)\u001b[49m\u001b[43m(\u001b[49m\u001b[43mX\u001b[49m\u001b[43m)\u001b[49m\u001b[43m \u001b[49m\u001b[38;5;28;43;01mfor\u001b[39;49;00m\u001b[43m \u001b[49m\u001b[43me\u001b[49m\u001b[43m \u001b[49m\u001b[38;5;129;43;01min\u001b[39;49;00m\u001b[43m \u001b[49m\u001b[38;5;28;43mself\u001b[39;49m\u001b[38;5;241;43m.\u001b[39;49m\u001b[43mestimators_\u001b[49m\n\u001b[1;32m    307\u001b[0m \u001b[43m\u001b[49m\u001b[43m)\u001b[49m\n\u001b[1;32m    309\u001b[0m \u001b[38;5;28;01mreturn\u001b[39;00m np\u001b[38;5;241m.\u001b[39masarray(y)\u001b[38;5;241m.\u001b[39mT\n",
      "File \u001b[0;32m~/.pyenv/versions/3.10.12/envs/artefact/lib/python3.10/site-packages/sklearn/utils/parallel.py:65\u001b[0m, in \u001b[0;36mParallel.__call__\u001b[0;34m(self, iterable)\u001b[0m\n\u001b[1;32m     60\u001b[0m config \u001b[38;5;241m=\u001b[39m get_config()\n\u001b[1;32m     61\u001b[0m iterable_with_config \u001b[38;5;241m=\u001b[39m (\n\u001b[1;32m     62\u001b[0m     (_with_config(delayed_func, config), args, kwargs)\n\u001b[1;32m     63\u001b[0m     \u001b[38;5;28;01mfor\u001b[39;00m delayed_func, args, kwargs \u001b[38;5;129;01min\u001b[39;00m iterable\n\u001b[1;32m     64\u001b[0m )\n\u001b[0;32m---> 65\u001b[0m \u001b[38;5;28;01mreturn\u001b[39;00m \u001b[38;5;28;43msuper\u001b[39;49m\u001b[43m(\u001b[49m\u001b[43m)\u001b[49m\u001b[38;5;241;43m.\u001b[39;49m\u001b[38;5;21;43m__call__\u001b[39;49m\u001b[43m(\u001b[49m\u001b[43miterable_with_config\u001b[49m\u001b[43m)\u001b[49m\n",
      "File \u001b[0;32m~/.pyenv/versions/3.10.12/envs/artefact/lib/python3.10/site-packages/joblib/parallel.py:1863\u001b[0m, in \u001b[0;36mParallel.__call__\u001b[0;34m(self, iterable)\u001b[0m\n\u001b[1;32m   1861\u001b[0m     output \u001b[38;5;241m=\u001b[39m \u001b[38;5;28mself\u001b[39m\u001b[38;5;241m.\u001b[39m_get_sequential_output(iterable)\n\u001b[1;32m   1862\u001b[0m     \u001b[38;5;28mnext\u001b[39m(output)\n\u001b[0;32m-> 1863\u001b[0m     \u001b[38;5;28;01mreturn\u001b[39;00m output \u001b[38;5;28;01mif\u001b[39;00m \u001b[38;5;28mself\u001b[39m\u001b[38;5;241m.\u001b[39mreturn_generator \u001b[38;5;28;01melse\u001b[39;00m \u001b[38;5;28;43mlist\u001b[39;49m\u001b[43m(\u001b[49m\u001b[43moutput\u001b[49m\u001b[43m)\u001b[49m\n\u001b[1;32m   1865\u001b[0m \u001b[38;5;66;03m# Let's create an ID that uniquely identifies the current call. If the\u001b[39;00m\n\u001b[1;32m   1866\u001b[0m \u001b[38;5;66;03m# call is interrupted early and that the same instance is immediately\u001b[39;00m\n\u001b[1;32m   1867\u001b[0m \u001b[38;5;66;03m# re-used, this id will be used to prevent workers that were\u001b[39;00m\n\u001b[1;32m   1868\u001b[0m \u001b[38;5;66;03m# concurrently finalizing a task from the previous call to run the\u001b[39;00m\n\u001b[1;32m   1869\u001b[0m \u001b[38;5;66;03m# callback.\u001b[39;00m\n\u001b[1;32m   1870\u001b[0m \u001b[38;5;28;01mwith\u001b[39;00m \u001b[38;5;28mself\u001b[39m\u001b[38;5;241m.\u001b[39m_lock:\n",
      "File \u001b[0;32m~/.pyenv/versions/3.10.12/envs/artefact/lib/python3.10/site-packages/joblib/parallel.py:1792\u001b[0m, in \u001b[0;36mParallel._get_sequential_output\u001b[0;34m(self, iterable)\u001b[0m\n\u001b[1;32m   1790\u001b[0m \u001b[38;5;28mself\u001b[39m\u001b[38;5;241m.\u001b[39mn_dispatched_batches \u001b[38;5;241m+\u001b[39m\u001b[38;5;241m=\u001b[39m \u001b[38;5;241m1\u001b[39m\n\u001b[1;32m   1791\u001b[0m \u001b[38;5;28mself\u001b[39m\u001b[38;5;241m.\u001b[39mn_dispatched_tasks \u001b[38;5;241m+\u001b[39m\u001b[38;5;241m=\u001b[39m \u001b[38;5;241m1\u001b[39m\n\u001b[0;32m-> 1792\u001b[0m res \u001b[38;5;241m=\u001b[39m \u001b[43mfunc\u001b[49m\u001b[43m(\u001b[49m\u001b[38;5;241;43m*\u001b[39;49m\u001b[43margs\u001b[49m\u001b[43m,\u001b[49m\u001b[43m \u001b[49m\u001b[38;5;241;43m*\u001b[39;49m\u001b[38;5;241;43m*\u001b[39;49m\u001b[43mkwargs\u001b[49m\u001b[43m)\u001b[49m\n\u001b[1;32m   1793\u001b[0m \u001b[38;5;28mself\u001b[39m\u001b[38;5;241m.\u001b[39mn_completed_tasks \u001b[38;5;241m+\u001b[39m\u001b[38;5;241m=\u001b[39m \u001b[38;5;241m1\u001b[39m\n\u001b[1;32m   1794\u001b[0m \u001b[38;5;28mself\u001b[39m\u001b[38;5;241m.\u001b[39mprint_progress()\n",
      "File \u001b[0;32m~/.pyenv/versions/3.10.12/envs/artefact/lib/python3.10/site-packages/sklearn/utils/parallel.py:127\u001b[0m, in \u001b[0;36m_FuncWrapper.__call__\u001b[0;34m(self, *args, **kwargs)\u001b[0m\n\u001b[1;32m    125\u001b[0m     config \u001b[38;5;241m=\u001b[39m {}\n\u001b[1;32m    126\u001b[0m \u001b[38;5;28;01mwith\u001b[39;00m config_context(\u001b[38;5;241m*\u001b[39m\u001b[38;5;241m*\u001b[39mconfig):\n\u001b[0;32m--> 127\u001b[0m     \u001b[38;5;28;01mreturn\u001b[39;00m \u001b[38;5;28;43mself\u001b[39;49m\u001b[38;5;241;43m.\u001b[39;49m\u001b[43mfunction\u001b[49m\u001b[43m(\u001b[49m\u001b[38;5;241;43m*\u001b[39;49m\u001b[43margs\u001b[49m\u001b[43m,\u001b[49m\u001b[43m \u001b[49m\u001b[38;5;241;43m*\u001b[39;49m\u001b[38;5;241;43m*\u001b[39;49m\u001b[43mkwargs\u001b[49m\u001b[43m)\u001b[49m\n",
      "File \u001b[0;32m~/.pyenv/versions/3.10.12/envs/artefact/lib/python3.10/site-packages/xgboost/sklearn.py:1049\u001b[0m, in \u001b[0;36mXGBModel.predict\u001b[0;34m(self, X, output_margin, ntree_limit, validate_features, base_margin, iteration_range)\u001b[0m\n\u001b[1;32m   1047\u001b[0m \u001b[38;5;28;01mif\u001b[39;00m \u001b[38;5;28mself\u001b[39m\u001b[38;5;241m.\u001b[39m_can_use_inplace_predict():\n\u001b[1;32m   1048\u001b[0m     \u001b[38;5;28;01mtry\u001b[39;00m:\n\u001b[0;32m-> 1049\u001b[0m         predts \u001b[38;5;241m=\u001b[39m \u001b[38;5;28;43mself\u001b[39;49m\u001b[38;5;241;43m.\u001b[39;49m\u001b[43mget_booster\u001b[49m\u001b[43m(\u001b[49m\u001b[43m)\u001b[49m\u001b[38;5;241;43m.\u001b[39;49m\u001b[43minplace_predict\u001b[49m\u001b[43m(\u001b[49m\n\u001b[1;32m   1050\u001b[0m \u001b[43m            \u001b[49m\u001b[43mdata\u001b[49m\u001b[38;5;241;43m=\u001b[39;49m\u001b[43mX\u001b[49m\u001b[43m,\u001b[49m\n\u001b[1;32m   1051\u001b[0m \u001b[43m            \u001b[49m\u001b[43miteration_range\u001b[49m\u001b[38;5;241;43m=\u001b[39;49m\u001b[43miteration_range\u001b[49m\u001b[43m,\u001b[49m\n\u001b[1;32m   1052\u001b[0m \u001b[43m            \u001b[49m\u001b[43mpredict_type\u001b[49m\u001b[38;5;241;43m=\u001b[39;49m\u001b[38;5;124;43m\"\u001b[39;49m\u001b[38;5;124;43mmargin\u001b[39;49m\u001b[38;5;124;43m\"\u001b[39;49m\u001b[43m \u001b[49m\u001b[38;5;28;43;01mif\u001b[39;49;00m\u001b[43m \u001b[49m\u001b[43moutput_margin\u001b[49m\u001b[43m \u001b[49m\u001b[38;5;28;43;01melse\u001b[39;49;00m\u001b[43m \u001b[49m\u001b[38;5;124;43m\"\u001b[39;49m\u001b[38;5;124;43mvalue\u001b[39;49m\u001b[38;5;124;43m\"\u001b[39;49m\u001b[43m,\u001b[49m\n\u001b[1;32m   1053\u001b[0m \u001b[43m            \u001b[49m\u001b[43mmissing\u001b[49m\u001b[38;5;241;43m=\u001b[39;49m\u001b[38;5;28;43mself\u001b[39;49m\u001b[38;5;241;43m.\u001b[39;49m\u001b[43mmissing\u001b[49m\u001b[43m,\u001b[49m\n\u001b[1;32m   1054\u001b[0m \u001b[43m            \u001b[49m\u001b[43mbase_margin\u001b[49m\u001b[38;5;241;43m=\u001b[39;49m\u001b[43mbase_margin\u001b[49m\u001b[43m,\u001b[49m\n\u001b[1;32m   1055\u001b[0m \u001b[43m            \u001b[49m\u001b[43mvalidate_features\u001b[49m\u001b[38;5;241;43m=\u001b[39;49m\u001b[43mvalidate_features\u001b[49m\u001b[43m,\u001b[49m\n\u001b[1;32m   1056\u001b[0m \u001b[43m        \u001b[49m\u001b[43m)\u001b[49m\n\u001b[1;32m   1057\u001b[0m         \u001b[38;5;28;01mif\u001b[39;00m _is_cupy_array(predts):\n\u001b[1;32m   1058\u001b[0m             \u001b[38;5;28;01mimport\u001b[39;00m \u001b[38;5;21;01mcupy\u001b[39;00m     \u001b[38;5;66;03m# pylint: disable=import-error\u001b[39;00m\n",
      "File \u001b[0;32m~/.pyenv/versions/3.10.12/envs/artefact/lib/python3.10/site-packages/xgboost/core.py:2128\u001b[0m, in \u001b[0;36mBooster.inplace_predict\u001b[0;34m(self, data, iteration_range, predict_type, missing, validate_features, base_margin, strict_shape)\u001b[0m\n\u001b[1;32m   2124\u001b[0m         \u001b[38;5;28;01mraise\u001b[39;00m \u001b[38;5;167;01mTypeError\u001b[39;00m(\n\u001b[1;32m   2125\u001b[0m             \u001b[38;5;124m\"\u001b[39m\u001b[38;5;124m`shape` attribute is required when `validate_features` is True.\u001b[39m\u001b[38;5;124m\"\u001b[39m\n\u001b[1;32m   2126\u001b[0m         )\n\u001b[1;32m   2127\u001b[0m     \u001b[38;5;28;01mif\u001b[39;00m \u001b[38;5;28mlen\u001b[39m(data\u001b[38;5;241m.\u001b[39mshape) \u001b[38;5;241m!=\u001b[39m \u001b[38;5;241m1\u001b[39m \u001b[38;5;129;01mand\u001b[39;00m \u001b[38;5;28mself\u001b[39m\u001b[38;5;241m.\u001b[39mnum_features() \u001b[38;5;241m!=\u001b[39m data\u001b[38;5;241m.\u001b[39mshape[\u001b[38;5;241m1\u001b[39m]:\n\u001b[0;32m-> 2128\u001b[0m         \u001b[38;5;28;01mraise\u001b[39;00m \u001b[38;5;167;01mValueError\u001b[39;00m(\n\u001b[1;32m   2129\u001b[0m             \u001b[38;5;124mf\u001b[39m\u001b[38;5;124m\"\u001b[39m\u001b[38;5;124mFeature shape mismatch, expected: \u001b[39m\u001b[38;5;132;01m{\u001b[39;00m\u001b[38;5;28mself\u001b[39m\u001b[38;5;241m.\u001b[39mnum_features()\u001b[38;5;132;01m}\u001b[39;00m\u001b[38;5;124m, \u001b[39m\u001b[38;5;124m\"\u001b[39m\n\u001b[1;32m   2130\u001b[0m             \u001b[38;5;124mf\u001b[39m\u001b[38;5;124m\"\u001b[39m\u001b[38;5;124mgot \u001b[39m\u001b[38;5;132;01m{\u001b[39;00mdata\u001b[38;5;241m.\u001b[39mshape[\u001b[38;5;241m1\u001b[39m]\u001b[38;5;132;01m}\u001b[39;00m\u001b[38;5;124m\"\u001b[39m\n\u001b[1;32m   2131\u001b[0m         )\n\u001b[1;32m   2133\u001b[0m \u001b[38;5;28;01mfrom\u001b[39;00m \u001b[38;5;21;01m.\u001b[39;00m\u001b[38;5;21;01mdata\u001b[39;00m \u001b[38;5;28;01mimport\u001b[39;00m (\n\u001b[1;32m   2134\u001b[0m     _is_pandas_df,\n\u001b[1;32m   2135\u001b[0m     _transform_pandas_df,\n\u001b[0;32m   (...)\u001b[0m\n\u001b[1;32m   2138\u001b[0m     _array_interface,\n\u001b[1;32m   2139\u001b[0m )\n\u001b[1;32m   2140\u001b[0m enable_categorical \u001b[38;5;241m=\u001b[39m _has_categorical(\u001b[38;5;28mself\u001b[39m, data)\n",
      "\u001b[0;31mValueError\u001b[0m: Feature shape mismatch, expected: 5, got 261"
     ]
    }
   ],
   "source": [
    "y_pred = best_estimator.predict(X_test_scaled)"
   ]
  },
  {
   "cell_type": "code",
   "execution_count": null,
   "id": "5d4e203c-0541-42ce-94fc-122036a5ff8f",
   "metadata": {},
   "outputs": [],
   "source": []
  },
  {
   "cell_type": "code",
   "execution_count": null,
   "id": "6124441b-a240-4dfb-ab70-577f79386476",
   "metadata": {},
   "outputs": [],
   "source": [
    "from sklearn.metrics import mean_squared_error\n",
    "\n",
    "# Create the MultiOutputRegressor with the best parameters\n",
    "# best_estimator2 = MultiOutputRegressor(XGBRegressor(objective='reg:squarederror', **best_params))\n",
    "\n",
    "# Train the model on the training data\n",
    "best_estimator.fit(X_train_scaled, y_train)\n",
    "\n",
    "# Make predictions on the test data\n",
    "y_pred = best_estimator2.predict(X_test_scaled)\n",
    "\n",
    "# Evaluate the performance of the model\n",
    "mse = mean_squared_error(y_test, y_pred)\n",
    "print(f'Mean Squared Error on Test Data: {mse}')"
   ]
  },
  {
   "cell_type": "markdown",
   "id": "7ef0338c-c51c-4da9-9c86-d485877fe86f",
   "metadata": {},
   "source": [
    "### Best_estimator saved"
   ]
  },
  {
   "cell_type": "code",
   "execution_count": 67,
   "id": "16799312-541f-485c-b6de-8d5e997d96a7",
   "metadata": {},
   "outputs": [
    {
     "name": "stdout",
     "output_type": "stream",
     "text": [
      "Best_estimator saved to EXPORT_MODELS/XGBoost_reg200_model.joblib\n"
     ]
    }
   ],
   "source": [
    "file_path = 'EXPORT_MODELS/XGBoost_reg200_model.joblib'\n",
    "joblib.dump(best_estimator, file_path)\n",
    "print(f\"Best_estimator saved to {file_path}\")"
   ]
  },
  {
   "cell_type": "code",
   "execution_count": 68,
   "id": "983137d8-dd1d-4323-b765-16347eb944a1",
   "metadata": {},
   "outputs": [
    {
     "name": "stdout",
     "output_type": "stream",
     "text": [
      "X_train_scaled shape :  (100, 5)\n",
      "X_test_scaled shape :  (2395, 261)\n",
      "X_test_scaled2 shape :  (2395, 261)\n",
      "y_train shape :  (100, 7)\n",
      "y_test shape :  (2395, 7)\n"
     ]
    }
   ],
   "source": [
    "print('X_train_scaled shape : ', X_train_scaled.shape)\n",
    "print('X_test_scaled shape : ', X_test_scaled.shape)\n",
    "print('X_test_scaled2 shape : ', X_test_scaled2.shape)\n",
    "print('y_train shape : ', y_train.shape)\n",
    "print('y_test shape : ', y_test.shape)"
   ]
  },
  {
   "cell_type": "code",
   "execution_count": 69,
   "id": "955e8f52-fc8d-40e2-897f-a2af7b29f135",
   "metadata": {},
   "outputs": [
    {
     "ename": "ValueError",
     "evalue": "Feature shape mismatch, expected: 5, got 261",
     "output_type": "error",
     "traceback": [
      "\u001b[0;31m---------------------------------------------------------------------------\u001b[0m",
      "\u001b[0;31mValueError\u001b[0m                                Traceback (most recent call last)",
      "Cell \u001b[0;32mIn [69], line 2\u001b[0m\n\u001b[1;32m      1\u001b[0m \u001b[38;5;66;03m# Make predictions on the test data\u001b[39;00m\n\u001b[0;32m----> 2\u001b[0m y_pred \u001b[38;5;241m=\u001b[39m \u001b[43mbest_estimator\u001b[49m\u001b[38;5;241;43m.\u001b[39;49m\u001b[43mpredict\u001b[49m\u001b[43m(\u001b[49m\u001b[43mX_test_scaled2\u001b[49m\u001b[43m)\u001b[49m\n",
      "File \u001b[0;32m~/.pyenv/versions/3.10.12/envs/artefact/lib/python3.10/site-packages/sklearn/multioutput.py:305\u001b[0m, in \u001b[0;36m_MultiOutputEstimator.predict\u001b[0;34m(self, X)\u001b[0m\n\u001b[1;32m    302\u001b[0m \u001b[38;5;28;01mif\u001b[39;00m \u001b[38;5;129;01mnot\u001b[39;00m \u001b[38;5;28mhasattr\u001b[39m(\u001b[38;5;28mself\u001b[39m\u001b[38;5;241m.\u001b[39mestimators_[\u001b[38;5;241m0\u001b[39m], \u001b[38;5;124m\"\u001b[39m\u001b[38;5;124mpredict\u001b[39m\u001b[38;5;124m\"\u001b[39m):\n\u001b[1;32m    303\u001b[0m     \u001b[38;5;28;01mraise\u001b[39;00m \u001b[38;5;167;01mValueError\u001b[39;00m(\u001b[38;5;124m\"\u001b[39m\u001b[38;5;124mThe base estimator should implement a predict method\u001b[39m\u001b[38;5;124m\"\u001b[39m)\n\u001b[0;32m--> 305\u001b[0m y \u001b[38;5;241m=\u001b[39m \u001b[43mParallel\u001b[49m\u001b[43m(\u001b[49m\u001b[43mn_jobs\u001b[49m\u001b[38;5;241;43m=\u001b[39;49m\u001b[38;5;28;43mself\u001b[39;49m\u001b[38;5;241;43m.\u001b[39;49m\u001b[43mn_jobs\u001b[49m\u001b[43m)\u001b[49m\u001b[43m(\u001b[49m\n\u001b[1;32m    306\u001b[0m \u001b[43m    \u001b[49m\u001b[43mdelayed\u001b[49m\u001b[43m(\u001b[49m\u001b[43me\u001b[49m\u001b[38;5;241;43m.\u001b[39;49m\u001b[43mpredict\u001b[49m\u001b[43m)\u001b[49m\u001b[43m(\u001b[49m\u001b[43mX\u001b[49m\u001b[43m)\u001b[49m\u001b[43m \u001b[49m\u001b[38;5;28;43;01mfor\u001b[39;49;00m\u001b[43m \u001b[49m\u001b[43me\u001b[49m\u001b[43m \u001b[49m\u001b[38;5;129;43;01min\u001b[39;49;00m\u001b[43m \u001b[49m\u001b[38;5;28;43mself\u001b[39;49m\u001b[38;5;241;43m.\u001b[39;49m\u001b[43mestimators_\u001b[49m\n\u001b[1;32m    307\u001b[0m \u001b[43m\u001b[49m\u001b[43m)\u001b[49m\n\u001b[1;32m    309\u001b[0m \u001b[38;5;28;01mreturn\u001b[39;00m np\u001b[38;5;241m.\u001b[39masarray(y)\u001b[38;5;241m.\u001b[39mT\n",
      "File \u001b[0;32m~/.pyenv/versions/3.10.12/envs/artefact/lib/python3.10/site-packages/sklearn/utils/parallel.py:65\u001b[0m, in \u001b[0;36mParallel.__call__\u001b[0;34m(self, iterable)\u001b[0m\n\u001b[1;32m     60\u001b[0m config \u001b[38;5;241m=\u001b[39m get_config()\n\u001b[1;32m     61\u001b[0m iterable_with_config \u001b[38;5;241m=\u001b[39m (\n\u001b[1;32m     62\u001b[0m     (_with_config(delayed_func, config), args, kwargs)\n\u001b[1;32m     63\u001b[0m     \u001b[38;5;28;01mfor\u001b[39;00m delayed_func, args, kwargs \u001b[38;5;129;01min\u001b[39;00m iterable\n\u001b[1;32m     64\u001b[0m )\n\u001b[0;32m---> 65\u001b[0m \u001b[38;5;28;01mreturn\u001b[39;00m \u001b[38;5;28;43msuper\u001b[39;49m\u001b[43m(\u001b[49m\u001b[43m)\u001b[49m\u001b[38;5;241;43m.\u001b[39;49m\u001b[38;5;21;43m__call__\u001b[39;49m\u001b[43m(\u001b[49m\u001b[43miterable_with_config\u001b[49m\u001b[43m)\u001b[49m\n",
      "File \u001b[0;32m~/.pyenv/versions/3.10.12/envs/artefact/lib/python3.10/site-packages/joblib/parallel.py:1863\u001b[0m, in \u001b[0;36mParallel.__call__\u001b[0;34m(self, iterable)\u001b[0m\n\u001b[1;32m   1861\u001b[0m     output \u001b[38;5;241m=\u001b[39m \u001b[38;5;28mself\u001b[39m\u001b[38;5;241m.\u001b[39m_get_sequential_output(iterable)\n\u001b[1;32m   1862\u001b[0m     \u001b[38;5;28mnext\u001b[39m(output)\n\u001b[0;32m-> 1863\u001b[0m     \u001b[38;5;28;01mreturn\u001b[39;00m output \u001b[38;5;28;01mif\u001b[39;00m \u001b[38;5;28mself\u001b[39m\u001b[38;5;241m.\u001b[39mreturn_generator \u001b[38;5;28;01melse\u001b[39;00m \u001b[38;5;28;43mlist\u001b[39;49m\u001b[43m(\u001b[49m\u001b[43moutput\u001b[49m\u001b[43m)\u001b[49m\n\u001b[1;32m   1865\u001b[0m \u001b[38;5;66;03m# Let's create an ID that uniquely identifies the current call. If the\u001b[39;00m\n\u001b[1;32m   1866\u001b[0m \u001b[38;5;66;03m# call is interrupted early and that the same instance is immediately\u001b[39;00m\n\u001b[1;32m   1867\u001b[0m \u001b[38;5;66;03m# re-used, this id will be used to prevent workers that were\u001b[39;00m\n\u001b[1;32m   1868\u001b[0m \u001b[38;5;66;03m# concurrently finalizing a task from the previous call to run the\u001b[39;00m\n\u001b[1;32m   1869\u001b[0m \u001b[38;5;66;03m# callback.\u001b[39;00m\n\u001b[1;32m   1870\u001b[0m \u001b[38;5;28;01mwith\u001b[39;00m \u001b[38;5;28mself\u001b[39m\u001b[38;5;241m.\u001b[39m_lock:\n",
      "File \u001b[0;32m~/.pyenv/versions/3.10.12/envs/artefact/lib/python3.10/site-packages/joblib/parallel.py:1792\u001b[0m, in \u001b[0;36mParallel._get_sequential_output\u001b[0;34m(self, iterable)\u001b[0m\n\u001b[1;32m   1790\u001b[0m \u001b[38;5;28mself\u001b[39m\u001b[38;5;241m.\u001b[39mn_dispatched_batches \u001b[38;5;241m+\u001b[39m\u001b[38;5;241m=\u001b[39m \u001b[38;5;241m1\u001b[39m\n\u001b[1;32m   1791\u001b[0m \u001b[38;5;28mself\u001b[39m\u001b[38;5;241m.\u001b[39mn_dispatched_tasks \u001b[38;5;241m+\u001b[39m\u001b[38;5;241m=\u001b[39m \u001b[38;5;241m1\u001b[39m\n\u001b[0;32m-> 1792\u001b[0m res \u001b[38;5;241m=\u001b[39m \u001b[43mfunc\u001b[49m\u001b[43m(\u001b[49m\u001b[38;5;241;43m*\u001b[39;49m\u001b[43margs\u001b[49m\u001b[43m,\u001b[49m\u001b[43m \u001b[49m\u001b[38;5;241;43m*\u001b[39;49m\u001b[38;5;241;43m*\u001b[39;49m\u001b[43mkwargs\u001b[49m\u001b[43m)\u001b[49m\n\u001b[1;32m   1793\u001b[0m \u001b[38;5;28mself\u001b[39m\u001b[38;5;241m.\u001b[39mn_completed_tasks \u001b[38;5;241m+\u001b[39m\u001b[38;5;241m=\u001b[39m \u001b[38;5;241m1\u001b[39m\n\u001b[1;32m   1794\u001b[0m \u001b[38;5;28mself\u001b[39m\u001b[38;5;241m.\u001b[39mprint_progress()\n",
      "File \u001b[0;32m~/.pyenv/versions/3.10.12/envs/artefact/lib/python3.10/site-packages/sklearn/utils/parallel.py:127\u001b[0m, in \u001b[0;36m_FuncWrapper.__call__\u001b[0;34m(self, *args, **kwargs)\u001b[0m\n\u001b[1;32m    125\u001b[0m     config \u001b[38;5;241m=\u001b[39m {}\n\u001b[1;32m    126\u001b[0m \u001b[38;5;28;01mwith\u001b[39;00m config_context(\u001b[38;5;241m*\u001b[39m\u001b[38;5;241m*\u001b[39mconfig):\n\u001b[0;32m--> 127\u001b[0m     \u001b[38;5;28;01mreturn\u001b[39;00m \u001b[38;5;28;43mself\u001b[39;49m\u001b[38;5;241;43m.\u001b[39;49m\u001b[43mfunction\u001b[49m\u001b[43m(\u001b[49m\u001b[38;5;241;43m*\u001b[39;49m\u001b[43margs\u001b[49m\u001b[43m,\u001b[49m\u001b[43m \u001b[49m\u001b[38;5;241;43m*\u001b[39;49m\u001b[38;5;241;43m*\u001b[39;49m\u001b[43mkwargs\u001b[49m\u001b[43m)\u001b[49m\n",
      "File \u001b[0;32m~/.pyenv/versions/3.10.12/envs/artefact/lib/python3.10/site-packages/xgboost/sklearn.py:1049\u001b[0m, in \u001b[0;36mXGBModel.predict\u001b[0;34m(self, X, output_margin, ntree_limit, validate_features, base_margin, iteration_range)\u001b[0m\n\u001b[1;32m   1047\u001b[0m \u001b[38;5;28;01mif\u001b[39;00m \u001b[38;5;28mself\u001b[39m\u001b[38;5;241m.\u001b[39m_can_use_inplace_predict():\n\u001b[1;32m   1048\u001b[0m     \u001b[38;5;28;01mtry\u001b[39;00m:\n\u001b[0;32m-> 1049\u001b[0m         predts \u001b[38;5;241m=\u001b[39m \u001b[38;5;28;43mself\u001b[39;49m\u001b[38;5;241;43m.\u001b[39;49m\u001b[43mget_booster\u001b[49m\u001b[43m(\u001b[49m\u001b[43m)\u001b[49m\u001b[38;5;241;43m.\u001b[39;49m\u001b[43minplace_predict\u001b[49m\u001b[43m(\u001b[49m\n\u001b[1;32m   1050\u001b[0m \u001b[43m            \u001b[49m\u001b[43mdata\u001b[49m\u001b[38;5;241;43m=\u001b[39;49m\u001b[43mX\u001b[49m\u001b[43m,\u001b[49m\n\u001b[1;32m   1051\u001b[0m \u001b[43m            \u001b[49m\u001b[43miteration_range\u001b[49m\u001b[38;5;241;43m=\u001b[39;49m\u001b[43miteration_range\u001b[49m\u001b[43m,\u001b[49m\n\u001b[1;32m   1052\u001b[0m \u001b[43m            \u001b[49m\u001b[43mpredict_type\u001b[49m\u001b[38;5;241;43m=\u001b[39;49m\u001b[38;5;124;43m\"\u001b[39;49m\u001b[38;5;124;43mmargin\u001b[39;49m\u001b[38;5;124;43m\"\u001b[39;49m\u001b[43m \u001b[49m\u001b[38;5;28;43;01mif\u001b[39;49;00m\u001b[43m \u001b[49m\u001b[43moutput_margin\u001b[49m\u001b[43m \u001b[49m\u001b[38;5;28;43;01melse\u001b[39;49;00m\u001b[43m \u001b[49m\u001b[38;5;124;43m\"\u001b[39;49m\u001b[38;5;124;43mvalue\u001b[39;49m\u001b[38;5;124;43m\"\u001b[39;49m\u001b[43m,\u001b[49m\n\u001b[1;32m   1053\u001b[0m \u001b[43m            \u001b[49m\u001b[43mmissing\u001b[49m\u001b[38;5;241;43m=\u001b[39;49m\u001b[38;5;28;43mself\u001b[39;49m\u001b[38;5;241;43m.\u001b[39;49m\u001b[43mmissing\u001b[49m\u001b[43m,\u001b[49m\n\u001b[1;32m   1054\u001b[0m \u001b[43m            \u001b[49m\u001b[43mbase_margin\u001b[49m\u001b[38;5;241;43m=\u001b[39;49m\u001b[43mbase_margin\u001b[49m\u001b[43m,\u001b[49m\n\u001b[1;32m   1055\u001b[0m \u001b[43m            \u001b[49m\u001b[43mvalidate_features\u001b[49m\u001b[38;5;241;43m=\u001b[39;49m\u001b[43mvalidate_features\u001b[49m\u001b[43m,\u001b[49m\n\u001b[1;32m   1056\u001b[0m \u001b[43m        \u001b[49m\u001b[43m)\u001b[49m\n\u001b[1;32m   1057\u001b[0m         \u001b[38;5;28;01mif\u001b[39;00m _is_cupy_array(predts):\n\u001b[1;32m   1058\u001b[0m             \u001b[38;5;28;01mimport\u001b[39;00m \u001b[38;5;21;01mcupy\u001b[39;00m     \u001b[38;5;66;03m# pylint: disable=import-error\u001b[39;00m\n",
      "File \u001b[0;32m~/.pyenv/versions/3.10.12/envs/artefact/lib/python3.10/site-packages/xgboost/core.py:2128\u001b[0m, in \u001b[0;36mBooster.inplace_predict\u001b[0;34m(self, data, iteration_range, predict_type, missing, validate_features, base_margin, strict_shape)\u001b[0m\n\u001b[1;32m   2124\u001b[0m         \u001b[38;5;28;01mraise\u001b[39;00m \u001b[38;5;167;01mTypeError\u001b[39;00m(\n\u001b[1;32m   2125\u001b[0m             \u001b[38;5;124m\"\u001b[39m\u001b[38;5;124m`shape` attribute is required when `validate_features` is True.\u001b[39m\u001b[38;5;124m\"\u001b[39m\n\u001b[1;32m   2126\u001b[0m         )\n\u001b[1;32m   2127\u001b[0m     \u001b[38;5;28;01mif\u001b[39;00m \u001b[38;5;28mlen\u001b[39m(data\u001b[38;5;241m.\u001b[39mshape) \u001b[38;5;241m!=\u001b[39m \u001b[38;5;241m1\u001b[39m \u001b[38;5;129;01mand\u001b[39;00m \u001b[38;5;28mself\u001b[39m\u001b[38;5;241m.\u001b[39mnum_features() \u001b[38;5;241m!=\u001b[39m data\u001b[38;5;241m.\u001b[39mshape[\u001b[38;5;241m1\u001b[39m]:\n\u001b[0;32m-> 2128\u001b[0m         \u001b[38;5;28;01mraise\u001b[39;00m \u001b[38;5;167;01mValueError\u001b[39;00m(\n\u001b[1;32m   2129\u001b[0m             \u001b[38;5;124mf\u001b[39m\u001b[38;5;124m\"\u001b[39m\u001b[38;5;124mFeature shape mismatch, expected: \u001b[39m\u001b[38;5;132;01m{\u001b[39;00m\u001b[38;5;28mself\u001b[39m\u001b[38;5;241m.\u001b[39mnum_features()\u001b[38;5;132;01m}\u001b[39;00m\u001b[38;5;124m, \u001b[39m\u001b[38;5;124m\"\u001b[39m\n\u001b[1;32m   2130\u001b[0m             \u001b[38;5;124mf\u001b[39m\u001b[38;5;124m\"\u001b[39m\u001b[38;5;124mgot \u001b[39m\u001b[38;5;132;01m{\u001b[39;00mdata\u001b[38;5;241m.\u001b[39mshape[\u001b[38;5;241m1\u001b[39m]\u001b[38;5;132;01m}\u001b[39;00m\u001b[38;5;124m\"\u001b[39m\n\u001b[1;32m   2131\u001b[0m         )\n\u001b[1;32m   2133\u001b[0m \u001b[38;5;28;01mfrom\u001b[39;00m \u001b[38;5;21;01m.\u001b[39;00m\u001b[38;5;21;01mdata\u001b[39;00m \u001b[38;5;28;01mimport\u001b[39;00m (\n\u001b[1;32m   2134\u001b[0m     _is_pandas_df,\n\u001b[1;32m   2135\u001b[0m     _transform_pandas_df,\n\u001b[0;32m   (...)\u001b[0m\n\u001b[1;32m   2138\u001b[0m     _array_interface,\n\u001b[1;32m   2139\u001b[0m )\n\u001b[1;32m   2140\u001b[0m enable_categorical \u001b[38;5;241m=\u001b[39m _has_categorical(\u001b[38;5;28mself\u001b[39m, data)\n",
      "\u001b[0;31mValueError\u001b[0m: Feature shape mismatch, expected: 5, got 261"
     ]
    }
   ],
   "source": [
    "# Make predictions on the test data\n",
    "y_pred = best_estimator.predict(X_test_scaled2)"
   ]
  },
  {
   "cell_type": "code",
   "execution_count": null,
   "id": "b9789308-1d98-4e19-a61b-66bc27d78d5f",
   "metadata": {},
   "outputs": [],
   "source": [
    "# Assuming you have already performed the grid search and obtained the best parameters\n",
    "best_params = {'estimator__n_estimators': 100, 'estimator__learning_rate': 0.1, 'estimator__max_depth': 3}\n",
    "\n",
    "# Create the MultiOutputRegressor with the best parameters\n",
    "best_estimator = MultiOutputRegressor(XGBRegressor(objective='reg:squarederror', **best_params))\n",
    "\n",
    "# Train the model on the training data\n",
    "best_estimator.fit(X_train_scaled, y_train)\n",
    "\n",
    "# Make predictions on the test data\n",
    "y_pred = best_estimator.predict(X_test_scaled)\n",
    "\n",
    "# Evaluate the performance of the model\n",
    "mse = mean_squared_error(y_test, y_pred)\n",
    "print(f'Mean Squared Error on Test Data: {mse}')"
   ]
  },
  {
   "cell_type": "code",
   "execution_count": null,
   "id": "16104126-97c6-40a5-b74e-2efb0cd9c71b",
   "metadata": {},
   "outputs": [],
   "source": []
  },
  {
   "cell_type": "code",
   "execution_count": null,
   "id": "28e2c53c-fac3-45b8-863f-e0340f1dd062",
   "metadata": {},
   "outputs": [],
   "source": []
  },
  {
   "cell_type": "code",
   "execution_count": null,
   "id": "b8c6628c-fb9d-4d03-9b5b-daf7fd1785a3",
   "metadata": {},
   "outputs": [],
   "source": []
  },
  {
   "cell_type": "code",
   "execution_count": null,
   "id": "1e12d81b-061f-4ec3-a040-d00bcc3446a3",
   "metadata": {},
   "outputs": [],
   "source": []
  },
  {
   "cell_type": "code",
   "execution_count": null,
   "id": "8ecfdde6-a825-4956-a700-f16712668bbb",
   "metadata": {},
   "outputs": [],
   "source": []
  },
  {
   "cell_type": "code",
   "execution_count": null,
   "id": "674af4b6-a5c8-4099-9baf-f357cd4599b6",
   "metadata": {},
   "outputs": [],
   "source": []
  },
  {
   "cell_type": "code",
   "execution_count": null,
   "id": "e2e5d036-b6f2-4e17-855d-bc80b1eca2b2",
   "metadata": {},
   "outputs": [],
   "source": [
    "x = np.random.randint(len(y_test))\n",
    "print ('X:',x)\n",
    "print (df_infoC.iloc[x])\n",
    "pred = best_estimator.predict([X_test_scaled[x]]) \n",
    "for i in range (len(pred[0])) :\n",
    "    print (y_column_names_list[i] , ':', pred[0][i], '>', y_test.iloc[x,i] ,' >>> ', pred[0][i] - y_test.iloc[x,i],' >>> ', (pred[0][i] - y_test.iloc[x,i])/pred[0][i])\n",
    "    \n",
    "values1 = pred[0]    \n",
    "values2 = y_test.iloc[x]\n",
    "\n",
    "# Create a figure with two subplots\n",
    "fig, axs = plt.subplots(1, 2, figsize=(12, 6))\n",
    "\n",
    "# Plot the first pie chart\n",
    "axs[0].pie(values1, labels=y_column_names_list , autopct='%1.1f%%', startangle=90)\n",
    "axs[0].set_title('MODEL')\n",
    "\n",
    "# Plot the second pie chart\n",
    "axs[1].pie(values2, labels=y_column_names_list, autopct='%1.1f%%', startangle=90)\n",
    "axs[1].set_title('REALITE')\n",
    "\n",
    "# Adjust layout\n",
    "plt.tight_layout()\n",
    "\n",
    "# Show the plot\n",
    "plt.show()    "
   ]
  },
  {
   "cell_type": "code",
   "execution_count": null,
   "id": "2964327e-b567-4486-9017-416b02d815fb",
   "metadata": {},
   "outputs": [],
   "source": []
  },
  {
   "cell_type": "code",
   "execution_count": null,
   "id": "c9d89985-ce03-4cc0-9364-3b10b8026c57",
   "metadata": {},
   "outputs": [],
   "source": []
  },
  {
   "cell_type": "code",
   "execution_count": null,
   "id": "e6f7c763-7d01-4782-9358-881457edccc6",
   "metadata": {},
   "outputs": [],
   "source": []
  },
  {
   "cell_type": "code",
   "execution_count": null,
   "id": "799326ae-c125-4d5d-8ae5-c2b84c47f9a8",
   "metadata": {},
   "outputs": [],
   "source": []
  },
  {
   "cell_type": "code",
   "execution_count": null,
   "id": "125754c3-932b-4f99-bae5-d26ff3ba4b54",
   "metadata": {},
   "outputs": [],
   "source": []
  },
  {
   "cell_type": "markdown",
   "id": "fadb2e5e-c34d-4cbb-8b26-3d50f8801c57",
   "metadata": {},
   "source": [
    "## xgboost as xgb verion 1"
   ]
  },
  {
   "cell_type": "code",
   "execution_count": 229,
   "id": "cf37cf52-9d9f-451d-b03d-63f1d6836b01",
   "metadata": {},
   "outputs": [],
   "source": [
    "# import xgboost as xgb\n",
    "from sklearn.multioutput import MultiOutputRegressor\n",
    "multioutputregressor = MultiOutputRegressor(xgb.XGBRegressor(objective='reg:squarederror')).fit(X_train_scaled, y_train)"
   ]
  },
  {
   "cell_type": "code",
   "execution_count": 230,
   "id": "3b398423-b51a-4eb6-b2d0-e3739edad4ea",
   "metadata": {},
   "outputs": [
    {
     "name": "stdout",
     "output_type": "stream",
     "text": [
      "NUP        0.004016\n",
      "ECO        0.000343\n",
      "ENS        0.004960\n",
      "LR_UDI     0.006520\n",
      "EXTREMD    0.003769\n",
      "CENTRE     0.004554\n",
      "OTR        0.000832\n",
      "dtype: float64\n"
     ]
    }
   ],
   "source": [
    "# predicting\n",
    "print(np.mean((multioutputregressor.predict(X_test_scaled ) - y_test)**2, axis=0))"
   ]
  },
  {
   "cell_type": "code",
   "execution_count": 231,
   "id": "c1749035-5053-4282-b40a-084b92dcf4ce",
   "metadata": {},
   "outputs": [
    {
     "data": {
      "text/plain": [
       "(1, 7)"
      ]
     },
     "execution_count": 231,
     "metadata": {},
     "output_type": "execute_result"
    }
   ],
   "source": [
    "pred0 = multioutputregressor.predict([X_test_scaled[0]]) \n",
    "pred0.shape"
   ]
  },
  {
   "cell_type": "code",
   "execution_count": 232,
   "id": "e8dbe49e-aed8-4aa7-8f44-58e1504c0b13",
   "metadata": {},
   "outputs": [
    {
     "data": {
      "text/plain": [
       "NUP        0.269939\n",
       "ECO        0.012270\n",
       "ENS        0.429448\n",
       "LR_UDI     0.000000\n",
       "EXTREMD    0.245399\n",
       "CENTRE     0.036810\n",
       "OTR        0.006135\n",
       "Name: 38404, dtype: float64"
      ]
     },
     "execution_count": 232,
     "metadata": {},
     "output_type": "execute_result"
    }
   ],
   "source": [
    "y_test.iloc[0]"
   ]
  },
  {
   "cell_type": "code",
   "execution_count": 298,
   "id": "e7815bb0-b316-4b57-b830-5921724d0f44",
   "metadata": {},
   "outputs": [
    {
     "name": "stdout",
     "output_type": "stream",
     "text": [
      "X: 1484\n",
      "dep                       07\n",
      "nomdep               ARDECHE\n",
      "codecommune            07241\n",
      "nomcommune     SAINT-GERMAIN\n",
      "Name: 07241, dtype: object\n",
      "NUP : 0.27650532 > 0.32857144  >>>  -0.052066118735733025  >>>  -0.1883006030324147\n",
      "ECO : 0.022263527 > 0.025714286  >>>  -0.003450759083496093  >>>  -0.15499606582720066\n",
      "ENS : 0.25163782 > 0.25  >>>  0.0016378164291381836  >>>  0.006508625978319108\n",
      "LR_UDI : 0.047759727 > 0.059999999  >>>  -0.012240272356437681  >>>  -0.2562885765194719\n",
      "EXTREMD : 0.3019111 > 0.318571426  >>>  -0.016660340155960074  >>>  -0.05518293609319934\n",
      "CENTRE : 0.047669612 > 0.0  >>>  0.04766961187124252  >>>  1.0\n",
      "OTR : 0.025697272 > 0.017142856  >>>  0.008554416270917891  >>>  0.33289199650186574\n"
     ]
    },
    {
     "data": {
      "image/png": "[encoded data removed]",
      "text/plain": [
       "<Figure size 1200x600 with 2 Axes>"
      ]
     },
     "metadata": {},
     "output_type": "display_data"
    }
   ],
   "source": [
    "x = np.random.randint(len(y_test))\n",
    "print ('X:',x)\n",
    "print (df_infoC.iloc[x])\n",
    "pred = multioutputregressor.predict([X_test_scaled[x]]) \n",
    "for i in range (len(pred[0])) :\n",
    "    print (y_column_names_list[i] , ':', pred[0][i], '>', y_test.iloc[x,i] ,' >>> ', pred[0][i] - y_test.iloc[x,i],' >>> ', (pred[0][i] - y_test.iloc[x,i])/pred[0][i])\n",
    "    \n",
    "values1 = pred[0]    \n",
    "values2 = y_test.iloc[x]\n",
    "\n",
    "# Create a figure with two subplots\n",
    "fig, axs = plt.subplots(1, 2, figsize=(12, 6))\n",
    "\n",
    "# Plot the first pie chart\n",
    "axs[0].pie(values1, labels=y_column_names_list , autopct='%1.1f%%', startangle=90)\n",
    "axs[0].set_title('MODEL')\n",
    "\n",
    "# Plot the second pie chart\n",
    "axs[1].pie(values2, labels=y_column_names_list, autopct='%1.1f%%', startangle=90)\n",
    "axs[1].set_title('REALITE')\n",
    "\n",
    "# Adjust layout\n",
    "plt.tight_layout()\n",
    "\n",
    "# Show the plot\n",
    "plt.show()    "
   ]
  },
  {
   "cell_type": "code",
   "execution_count": 365,
   "id": "0e5cc3ec-1481-427f-bc01-348e3b9fb628",
   "metadata": {},
   "outputs": [
    {
     "name": "stdout",
     "output_type": "stream",
     "text": [
      "X: 1563\n",
      "dep                 07\n",
      "nomdep         ARDECHE\n",
      "codecommune      07348\n",
      "nomcommune       VOGÜÉ\n",
      "Name: 07348, dtype: object\n",
      "NUP : 0.2780005 > 0.16805555  >>>  0.10994495377845764  >>>  0.3954847285675218\n",
      "ECO : 0.014203132 > 0.0097222226  >>>  0.004480909530205631  >>>  0.31548742130449764\n",
      "ENS : 0.35828274 > 0.3201389  >>>  0.03814384488449096  >>>  0.10646296934223946\n",
      "LR_UDI : 0.25277102 > 0.274305556  >>>  -0.021534536064392096  >>>  -0.08519384884342321\n",
      "EXTREMD : 0.16119395 > 0.171527776  >>>  -0.010333824035621636  >>>  -0.06410801341917138\n",
      "CENTRE : 0.028357504 > 0.0055555557  >>>  0.022801948235694695  >>>  0.8040886915647394\n",
      "OTR : 0.039885316 > 0.0506944435  >>>  -0.01080912745590782  >>>  -0.2710051850650653\n"
     ]
    },
    {
     "data": {
      "image/png": "[encoded data removed]",
      "text/plain": [
       "<Figure size 1200x600 with 2 Axes>"
      ]
     },
     "metadata": {},
     "output_type": "display_data"
    }
   ],
   "source": [
    "x = np.random.randint(len(y_test))\n",
    "print ('X:',x)\n",
    "print (df_infoC.iloc[x])\n",
    "pred = best_estimator.predict([X_test_scaled[x]]) \n",
    "for i in range (len(pred[0])) :\n",
    "    print (y_column_names_list[i] , ':', pred[0][i], '>', y_test.iloc[x,i] ,' >>> ', pred[0][i] - y_test.iloc[x,i],' >>> ', (pred[0][i] - y_test.iloc[x,i])/pred[0][i])\n",
    "    \n",
    "values1 = pred[0]    \n",
    "values2 = y_test.iloc[x]\n",
    "\n",
    "# Create a figure with two subplots\n",
    "fig, axs = plt.subplots(1, 2, figsize=(12, 6))\n",
    "\n",
    "# Plot the first pie chart\n",
    "axs[0].pie(values1, labels=y_column_names_list , autopct='%1.1f%%', startangle=90)\n",
    "axs[0].set_title('MODEL')\n",
    "\n",
    "# Plot the second pie chart\n",
    "axs[1].pie(values2, labels=y_column_names_list, autopct='%1.1f%%', startangle=90)\n",
    "axs[1].set_title('REALITE')\n",
    "\n",
    "# Adjust layout\n",
    "plt.tight_layout()\n",
    "\n",
    "# Show the plot\n",
    "plt.show()    "
   ]
  },
  {
   "cell_type": "markdown",
   "id": "15c59aec-1bf5-4903-b14f-d7b3b70cb086",
   "metadata": {},
   "source": [
    "# EXPORT INFO\n",
    "## RESULATS"
   ]
  },
  {
   "cell_type": "code",
   "execution_count": 366,
   "id": "70f6823d-5f2e-4cea-9244-019d7f08500d",
   "metadata": {},
   "outputs": [],
   "source": [
    "X_scaled = scaler.fit_transform(X)"
   ]
  },
  {
   "cell_type": "code",
   "execution_count": 367,
   "id": "1c189321-4f28-4a0b-a5ca-2cb8157b4e1b",
   "metadata": {},
   "outputs": [
    {
     "data": {
      "text/plain": [
       "(23946, 7)"
      ]
     },
     "execution_count": 367,
     "metadata": {},
     "output_type": "execute_result"
    }
   ],
   "source": [
    "predFULL = best_estimator.predict(X_scaled) \n",
    "predFULL.shape"
   ]
  },
  {
   "cell_type": "code",
   "execution_count": 368,
   "id": "52c0b5b4-d48d-4e71-b420-ddc35d6ccdb3",
   "metadata": {},
   "outputs": [
    {
     "data": {
      "text/plain": [
       "(23946, 7)"
      ]
     },
     "execution_count": 368,
     "metadata": {},
     "output_type": "execute_result"
    }
   ],
   "source": [
    "# Convert the NumPy array to a Pandas DataFrame\n",
    "df_result_to_export = pd.DataFrame(data=predFULL, index=y_index_list, columns=pred_column_names_list)\n",
    "df_result_to_export.shape"
   ]
  },
  {
   "cell_type": "code",
   "execution_count": 369,
   "id": "c7d71b56-fbdc-4237-ad4e-f0eca1c60e46",
   "metadata": {},
   "outputs": [
    {
     "data": {
      "text/html": [
       "<div>\n",
       "<style scoped>\n",
       "    .dataframe tbody tr th:only-of-type {\n",
       "        vertical-align: middle;\n",
       "    }\n",
       "\n",
       "    .dataframe tbody tr th {\n",
       "        vertical-align: top;\n",
       "    }\n",
       "\n",
       "    .dataframe thead th {\n",
       "        text-align: right;\n",
       "    }\n",
       "</style>\n",
       "<table border=\"1\" class=\"dataframe\">\n",
       "  <thead>\n",
       "    <tr style=\"text-align: right;\">\n",
       "      <th></th>\n",
       "      <th>pred_NUP</th>\n",
       "      <th>pred_ECO</th>\n",
       "      <th>pred_ENS</th>\n",
       "      <th>pred_LR_UDI</th>\n",
       "      <th>pred_EXTREMD</th>\n",
       "      <th>pred_CENTRE</th>\n",
       "      <th>pred_OTR</th>\n",
       "    </tr>\n",
       "    <tr>\n",
       "      <th>key</th>\n",
       "      <th></th>\n",
       "      <th></th>\n",
       "      <th></th>\n",
       "      <th></th>\n",
       "      <th></th>\n",
       "      <th></th>\n",
       "      <th></th>\n",
       "    </tr>\n",
       "  </thead>\n",
       "  <tbody>\n",
       "    <tr>\n",
       "      <th>01001</th>\n",
       "      <td>0.189106</td>\n",
       "      <td>0.016039</td>\n",
       "      <td>0.147474</td>\n",
       "      <td>0.214840</td>\n",
       "      <td>0.329129</td>\n",
       "      <td>0.075621</td>\n",
       "      <td>0.013825</td>\n",
       "    </tr>\n",
       "    <tr>\n",
       "      <th>01002</th>\n",
       "      <td>0.308355</td>\n",
       "      <td>0.009436</td>\n",
       "      <td>0.061995</td>\n",
       "      <td>0.145182</td>\n",
       "      <td>0.080410</td>\n",
       "      <td>0.424157</td>\n",
       "      <td>0.027729</td>\n",
       "    </tr>\n",
       "  </tbody>\n",
       "</table>\n",
       "</div>"
      ],
      "text/plain": [
       "       pred_NUP  pred_ECO  pred_ENS  pred_LR_UDI  pred_EXTREMD  pred_CENTRE  \\\n",
       "key                                                                           \n",
       "01001  0.189106  0.016039  0.147474     0.214840      0.329129     0.075621   \n",
       "01002  0.308355  0.009436  0.061995     0.145182      0.080410     0.424157   \n",
       "\n",
       "       pred_OTR  \n",
       "key              \n",
       "01001  0.013825  \n",
       "01002  0.027729  "
      ]
     },
     "execution_count": 369,
     "metadata": {},
     "output_type": "execute_result"
    }
   ],
   "source": [
    "df_result_to_export.head(2)"
   ]
  },
  {
   "cell_type": "code",
   "execution_count": 370,
   "id": "33b39cbe-d445-41f1-bfb7-4274acf5d974",
   "metadata": {},
   "outputs": [
    {
     "data": {
      "text/plain": [
       "dict_keys(['XGBoost_reg200_importance_tbl', 'XGBoost_reg200_resultats_tbl', 'X_col_titr', 'y_resultats200_tbl'])"
      ]
     },
     "execution_count": 370,
     "metadata": {},
     "output_type": "execute_result"
    }
   ],
   "source": [
    "tabl_export='XGBoost_reg200_resultats_tbl'\n",
    "if tabl_export not in tbl_db_names :\n",
    "    # Convert DataFrame to a SQL table, using the index as the ID column\n",
    "    df_result_to_export.to_sql(tabl_export, con=engine, index=True, if_exists='replace')\n",
    "    metadata.reflect(bind=engine)\n",
    "tbl_db_names = metadata.tables.keys()\n",
    "tbl_db_names"
   ]
  },
  {
   "cell_type": "markdown",
   "id": "37320585-e560-4fc1-971c-4a82a040f56e",
   "metadata": {},
   "source": [
    "## feature_importances"
   ]
  },
  {
   "cell_type": "code",
   "execution_count": 371,
   "id": "6e8c74a0-3d3a-4a63-8617-38fa42727453",
   "metadata": {},
   "outputs": [
    {
     "name": "stdout",
     "output_type": "stream",
     "text": [
      "     estimator_0_indice  estimator_0_importance  estimator_1_indice  \\\n",
      "0                    35                0.082898                 145   \n",
      "1                   127                0.027993                 212   \n",
      "2                   208                0.024794                 132   \n",
      "3                   215                0.023977                 213   \n",
      "4                   126                0.021999                 248   \n",
      "..                  ...                     ...                 ...   \n",
      "256                 105                0.000000                 113   \n",
      "257                 100                0.000000                 114   \n",
      "258                  99                0.000000                 115   \n",
      "259                  97                0.000000                 116   \n",
      "260                 116                0.000000                 155   \n",
      "\n",
      "     estimator_1_importance  estimator_2_indice  estimator_2_importance  \\\n",
      "0                  0.087281                 119                0.077441   \n",
      "1                  0.030243                 141                0.045365   \n",
      "2                  0.020844                 124                0.034870   \n",
      "3                  0.019002                 127                0.023309   \n",
      "4                  0.014843                 195                0.018825   \n",
      "..                      ...                 ...                     ...   \n",
      "256                0.000000                 249                0.000000   \n",
      "257                0.000000                 156                0.000000   \n",
      "258                0.000000                 115                0.000000   \n",
      "259                0.000000                 116                0.000000   \n",
      "260                0.000000                  99                0.000000   \n",
      "\n",
      "     estimator_3_indice  estimator_3_importance  estimator_4_indice  \\\n",
      "0                   126                0.031630                 241   \n",
      "1                   127                0.028505                 205   \n",
      "2                   212                0.025914                 126   \n",
      "3                   214                0.023697                 127   \n",
      "4                   213                0.022479                 240   \n",
      "..                  ...                     ...                 ...   \n",
      "256                 113                0.000000                 113   \n",
      "257                 106                0.000000                 106   \n",
      "258                 105                0.000000                 249   \n",
      "259                 100                0.000000                 105   \n",
      "260                 115                0.000000                 100   \n",
      "\n",
      "     estimator_4_importance  estimator_5_indice  estimator_5_importance  \\\n",
      "0                  0.051162                 147                0.045450   \n",
      "1                  0.035382                 213                0.041113   \n",
      "2                  0.033193                 212                0.033893   \n",
      "3                  0.029764                 126                0.030199   \n",
      "4                  0.023228                 127                0.028266   \n",
      "..                      ...                 ...                     ...   \n",
      "256                0.000000                  97                0.000000   \n",
      "257                0.000000                  71                0.000000   \n",
      "258                0.000000                 255                0.000000   \n",
      "259                0.000000                 249                0.000000   \n",
      "260                0.000000                 106                0.000000   \n",
      "\n",
      "     estimator_6_indice  estimator_6_importance  \n",
      "0                   127                0.161983  \n",
      "1                   120                0.045778  \n",
      "2                   126                0.041665  \n",
      "3                   179                0.036994  \n",
      "4                   212                0.026143  \n",
      "..                  ...                     ...  \n",
      "256                 105                0.000000  \n",
      "257                  99                0.000000  \n",
      "258                  97                0.000000  \n",
      "259                 249                0.000000  \n",
      "260                 100                0.000000  \n",
      "\n",
      "[261 rows x 14 columns]\n"
     ]
    }
   ],
   "source": [
    "feature_importance_df = pd.DataFrame()\n",
    "\n",
    "# Iterate over each estimator in multioutputregressor\n",
    "for i, estimator in enumerate(multioutputregressor.estimators_):\n",
    "    # Get the feature importances and their indices\n",
    "    importances = estimator.feature_importances_\n",
    "    indices = importances.argsort()[::-1]  # Sort in descending order\n",
    "\n",
    "    # Create column names based on the index i\n",
    "    col_name_indice = f'estimator_{i}_indice'\n",
    "    col_name_importance = f'estimator_{i}_importance'\n",
    "\n",
    "    # Create a new column in the DataFrame for indices and importances\n",
    "    feature_importance_df[col_name_indice] = indices\n",
    "    feature_importance_df[col_name_importance] = importances[indices]\n",
    "\n",
    "# Display the DataFrame\n",
    "print(feature_importance_df)"
   ]
  },
  {
   "cell_type": "code",
   "execution_count": 374,
   "id": "9eb7f99a-5db3-4365-9207-85c5a07e48e4",
   "metadata": {},
   "outputs": [
    {
     "name": "stdout",
     "output_type": "stream",
     "text": [
      "     estimator_0_indice  estimator_0_importance  estimator_1_indice  \\\n",
      "0                    35                0.082898                 145   \n",
      "1                   127                0.027993                 212   \n",
      "2                   208                0.024794                 132   \n",
      "3                   215                0.023977                 213   \n",
      "4                   126                0.021999                 248   \n",
      "..                  ...                     ...                 ...   \n",
      "256                 105                0.000000                 113   \n",
      "257                 100                0.000000                 114   \n",
      "258                  99                0.000000                 115   \n",
      "259                  97                0.000000                 116   \n",
      "260                 116                0.000000                 155   \n",
      "\n",
      "     estimator_1_importance  estimator_2_indice  estimator_2_importance  \\\n",
      "0                  0.087281                 119                0.077441   \n",
      "1                  0.030243                 141                0.045365   \n",
      "2                  0.020844                 124                0.034870   \n",
      "3                  0.019002                 127                0.023309   \n",
      "4                  0.014843                 195                0.018825   \n",
      "..                      ...                 ...                     ...   \n",
      "256                0.000000                 249                0.000000   \n",
      "257                0.000000                 156                0.000000   \n",
      "258                0.000000                 115                0.000000   \n",
      "259                0.000000                 116                0.000000   \n",
      "260                0.000000                  99                0.000000   \n",
      "\n",
      "     estimator_3_indice  estimator_3_importance  estimator_4_indice  \\\n",
      "0                   126                0.031630                 241   \n",
      "1                   127                0.028505                 205   \n",
      "2                   212                0.025914                 126   \n",
      "3                   214                0.023697                 127   \n",
      "4                   213                0.022479                 240   \n",
      "..                  ...                     ...                 ...   \n",
      "256                 113                0.000000                 113   \n",
      "257                 106                0.000000                 106   \n",
      "258                 105                0.000000                 249   \n",
      "259                 100                0.000000                 105   \n",
      "260                 115                0.000000                 100   \n",
      "\n",
      "     estimator_4_importance  estimator_5_indice  estimator_5_importance  \\\n",
      "0                  0.051162                 147                0.045450   \n",
      "1                  0.035382                 213                0.041113   \n",
      "2                  0.033193                 212                0.033893   \n",
      "3                  0.029764                 126                0.030199   \n",
      "4                  0.023228                 127                0.028266   \n",
      "..                      ...                 ...                     ...   \n",
      "256                0.000000                  97                0.000000   \n",
      "257                0.000000                  71                0.000000   \n",
      "258                0.000000                 255                0.000000   \n",
      "259                0.000000                 249                0.000000   \n",
      "260                0.000000                 106                0.000000   \n",
      "\n",
      "     estimator_6_indice  estimator_6_importance  \n",
      "0                   127                0.161983  \n",
      "1                   120                0.045778  \n",
      "2                   126                0.041665  \n",
      "3                   179                0.036994  \n",
      "4                   212                0.026143  \n",
      "..                  ...                     ...  \n",
      "256                 105                0.000000  \n",
      "257                  99                0.000000  \n",
      "258                  97                0.000000  \n",
      "259                 249                0.000000  \n",
      "260                 100                0.000000  \n",
      "\n",
      "[261 rows x 14 columns]\n"
     ]
    }
   ],
   "source": [
    "feature_importance_df = pd.DataFrame()\n",
    "\n",
    "# Iterate over each estimator in multioutputregressor\n",
    "for i, estimator in enumerate(best_estimator.estimators_):\n",
    "    # Get the feature importances and their indices\n",
    "    importances = estimator.feature_importances_\n",
    "    indices = importances.argsort()[::-1]  # Sort in descending order\n",
    "\n",
    "    # Create column names based on the index i\n",
    "    col_name_indice = f'estimator_{i}_indice'\n",
    "    col_name_importance = f'estimator_{i}_importance'\n",
    "\n",
    "    # Create a new column in the DataFrame for indices and importances\n",
    "    feature_importance_df[col_name_indice] = indices\n",
    "    feature_importance_df[col_name_importance] = importances[indices]\n",
    "\n",
    "# Display the DataFrame\n",
    "print(feature_importance_df)"
   ]
  },
  {
   "cell_type": "code",
   "execution_count": 240,
   "id": "f860337e-6e27-4f27-b1b8-65887bb75804",
   "metadata": {},
   "outputs": [
    {
     "data": {
      "text/html": [
       "<div>\n",
       "<style scoped>\n",
       "    .dataframe tbody tr th:only-of-type {\n",
       "        vertical-align: middle;\n",
       "    }\n",
       "\n",
       "    .dataframe tbody tr th {\n",
       "        vertical-align: top;\n",
       "    }\n",
       "\n",
       "    .dataframe thead th {\n",
       "        text-align: right;\n",
       "    }\n",
       "</style>\n",
       "<table border=\"1\" class=\"dataframe\">\n",
       "  <thead>\n",
       "    <tr style=\"text-align: right;\">\n",
       "      <th></th>\n",
       "      <th>estimator_0_indice</th>\n",
       "      <th>estimator_0_importance</th>\n",
       "      <th>estimator_1_indice</th>\n",
       "      <th>estimator_1_importance</th>\n",
       "      <th>estimator_2_indice</th>\n",
       "      <th>estimator_2_importance</th>\n",
       "      <th>estimator_3_indice</th>\n",
       "      <th>estimator_3_importance</th>\n",
       "      <th>estimator_4_indice</th>\n",
       "      <th>estimator_4_importance</th>\n",
       "      <th>estimator_5_indice</th>\n",
       "      <th>estimator_5_importance</th>\n",
       "      <th>estimator_6_indice</th>\n",
       "      <th>estimator_6_importance</th>\n",
       "    </tr>\n",
       "  </thead>\n",
       "  <tbody>\n",
       "    <tr>\n",
       "      <th>0</th>\n",
       "      <td>35</td>\n",
       "      <td>0.082898</td>\n",
       "      <td>145</td>\n",
       "      <td>0.087281</td>\n",
       "      <td>119</td>\n",
       "      <td>0.077441</td>\n",
       "      <td>126</td>\n",
       "      <td>0.031630</td>\n",
       "      <td>241</td>\n",
       "      <td>0.051162</td>\n",
       "      <td>147</td>\n",
       "      <td>0.045450</td>\n",
       "      <td>127</td>\n",
       "      <td>0.161983</td>\n",
       "    </tr>\n",
       "    <tr>\n",
       "      <th>1</th>\n",
       "      <td>127</td>\n",
       "      <td>0.027993</td>\n",
       "      <td>212</td>\n",
       "      <td>0.030243</td>\n",
       "      <td>141</td>\n",
       "      <td>0.045365</td>\n",
       "      <td>127</td>\n",
       "      <td>0.028505</td>\n",
       "      <td>205</td>\n",
       "      <td>0.035382</td>\n",
       "      <td>213</td>\n",
       "      <td>0.041113</td>\n",
       "      <td>120</td>\n",
       "      <td>0.045778</td>\n",
       "    </tr>\n",
       "  </tbody>\n",
       "</table>\n",
       "</div>"
      ],
      "text/plain": [
       "   estimator_0_indice  estimator_0_importance  estimator_1_indice  \\\n",
       "0                  35                0.082898                 145   \n",
       "1                 127                0.027993                 212   \n",
       "\n",
       "   estimator_1_importance  estimator_2_indice  estimator_2_importance  \\\n",
       "0                0.087281                 119                0.077441   \n",
       "1                0.030243                 141                0.045365   \n",
       "\n",
       "   estimator_3_indice  estimator_3_importance  estimator_4_indice  \\\n",
       "0                 126                0.031630                 241   \n",
       "1                 127                0.028505                 205   \n",
       "\n",
       "   estimator_4_importance  estimator_5_indice  estimator_5_importance  \\\n",
       "0                0.051162                 147                0.045450   \n",
       "1                0.035382                 213                0.041113   \n",
       "\n",
       "   estimator_6_indice  estimator_6_importance  \n",
       "0                 127                0.161983  \n",
       "1                 120                0.045778  "
      ]
     },
     "execution_count": 240,
     "metadata": {},
     "output_type": "execute_result"
    }
   ],
   "source": [
    "feature_importance_df.head(2)"
   ]
  },
  {
   "cell_type": "code",
   "execution_count": 241,
   "id": "c041f183-be59-4b09-8e9f-e176bf49c0f8",
   "metadata": {},
   "outputs": [
    {
     "data": {
      "text/plain": [
       "(14,\n",
       " ['NUP_estim_indice',\n",
       "  'NUP_import',\n",
       "  'ECO_estim_indice',\n",
       "  'ECO_import',\n",
       "  'ENS_estim_indice',\n",
       "  'ENS_import',\n",
       "  'LR_UDI_estim_indice',\n",
       "  'LR_UDI_import',\n",
       "  'EXTREMD_estim_indice',\n",
       "  'EXTREMD_import',\n",
       "  'CENTRE_estim_indice',\n",
       "  'CENTRE_import',\n",
       "  'OTR_estim_indice',\n",
       "  'OTR_import'])"
      ]
     },
     "execution_count": 241,
     "metadata": {},
     "output_type": "execute_result"
    }
   ],
   "source": [
    "column_mapping = []\n",
    "for c in y_column_names_list:\n",
    "    column_mapping.append(f'{c}_estim_indice')\n",
    "    column_mapping.append(f'{c}_import')\n",
    "len(column_mapping) , column_mapping"
   ]
  },
  {
   "cell_type": "code",
   "execution_count": 242,
   "id": "cdd65dbe-57f7-4b69-a561-a09f2590b619",
   "metadata": {},
   "outputs": [
    {
     "data": {
      "text/html": [
       "<div>\n",
       "<style scoped>\n",
       "    .dataframe tbody tr th:only-of-type {\n",
       "        vertical-align: middle;\n",
       "    }\n",
       "\n",
       "    .dataframe tbody tr th {\n",
       "        vertical-align: top;\n",
       "    }\n",
       "\n",
       "    .dataframe thead th {\n",
       "        text-align: right;\n",
       "    }\n",
       "</style>\n",
       "<table border=\"1\" class=\"dataframe\">\n",
       "  <thead>\n",
       "    <tr style=\"text-align: right;\">\n",
       "      <th></th>\n",
       "      <th>NUP_estim_indice</th>\n",
       "      <th>NUP_import</th>\n",
       "      <th>ECO_estim_indice</th>\n",
       "      <th>ECO_import</th>\n",
       "      <th>ENS_estim_indice</th>\n",
       "      <th>ENS_import</th>\n",
       "      <th>LR_UDI_estim_indice</th>\n",
       "      <th>LR_UDI_import</th>\n",
       "      <th>EXTREMD_estim_indice</th>\n",
       "      <th>EXTREMD_import</th>\n",
       "      <th>CENTRE_estim_indice</th>\n",
       "      <th>CENTRE_import</th>\n",
       "      <th>OTR_estim_indice</th>\n",
       "      <th>OTR_import</th>\n",
       "    </tr>\n",
       "  </thead>\n",
       "  <tbody>\n",
       "    <tr>\n",
       "      <th>0</th>\n",
       "      <td>35</td>\n",
       "      <td>0.082898</td>\n",
       "      <td>145</td>\n",
       "      <td>0.087281</td>\n",
       "      <td>119</td>\n",
       "      <td>0.077441</td>\n",
       "      <td>126</td>\n",
       "      <td>0.031630</td>\n",
       "      <td>241</td>\n",
       "      <td>0.051162</td>\n",
       "      <td>147</td>\n",
       "      <td>0.045450</td>\n",
       "      <td>127</td>\n",
       "      <td>0.161983</td>\n",
       "    </tr>\n",
       "    <tr>\n",
       "      <th>1</th>\n",
       "      <td>127</td>\n",
       "      <td>0.027993</td>\n",
       "      <td>212</td>\n",
       "      <td>0.030243</td>\n",
       "      <td>141</td>\n",
       "      <td>0.045365</td>\n",
       "      <td>127</td>\n",
       "      <td>0.028505</td>\n",
       "      <td>205</td>\n",
       "      <td>0.035382</td>\n",
       "      <td>213</td>\n",
       "      <td>0.041113</td>\n",
       "      <td>120</td>\n",
       "      <td>0.045778</td>\n",
       "    </tr>\n",
       "  </tbody>\n",
       "</table>\n",
       "</div>"
      ],
      "text/plain": [
       "   NUP_estim_indice  NUP_import  ECO_estim_indice  ECO_import  \\\n",
       "0                35    0.082898               145    0.087281   \n",
       "1               127    0.027993               212    0.030243   \n",
       "\n",
       "   ENS_estim_indice  ENS_import  LR_UDI_estim_indice  LR_UDI_import  \\\n",
       "0               119    0.077441                  126       0.031630   \n",
       "1               141    0.045365                  127       0.028505   \n",
       "\n",
       "   EXTREMD_estim_indice  EXTREMD_import  CENTRE_estim_indice  CENTRE_import  \\\n",
       "0                   241        0.051162                  147       0.045450   \n",
       "1                   205        0.035382                  213       0.041113   \n",
       "\n",
       "   OTR_estim_indice  OTR_import  \n",
       "0               127    0.161983  \n",
       "1               120    0.045778  "
      ]
     },
     "execution_count": 242,
     "metadata": {},
     "output_type": "execute_result"
    }
   ],
   "source": [
    "feature_importance_df.rename(columns=dict(zip(feature_importance_df.columns, column_mapping)), inplace=True)\n",
    "feature_importance_df.head(2)"
   ]
  },
  {
   "cell_type": "code",
   "execution_count": 243,
   "id": "3e9d923d-a54c-4efc-9b53-ecd61348fe68",
   "metadata": {},
   "outputs": [
    {
     "data": {
      "text/plain": [
       "dict_keys(['y_resultats200_tbl', 'XGBoost_reg200_resultats_tbl', 'XGBoost_reg200_importance_tbl'])"
      ]
     },
     "execution_count": 243,
     "metadata": {},
     "output_type": "execute_result"
    }
   ],
   "source": [
    "tabl_export='XGBoost_reg200_importance_tbl'\n",
    "if tabl_export not in tbl_db_names :\n",
    "    # Convert DataFrame to a SQL table, using the index as the ID column\n",
    "    feature_importance_df.to_sql(tabl_export, con=engine, index=True, if_exists='replace')\n",
    "    metadata.reflect(bind=engine)\n",
    "tbl_db_names = metadata.tables.keys()\n",
    "tbl_db_names"
   ]
  },
  {
   "cell_type": "markdown",
   "id": "4877c529-1b9d-4943-a6fc-f9a672364a05",
   "metadata": {},
   "source": [
    "### TEST SQL preparation \n",
    "tables des colonnes\n",
    "\n",
    "tables des resultats et delta"
   ]
  },
  {
   "cell_type": "code",
   "execution_count": 294,
   "id": "62f9d8b9-9abc-4a99-8db2-860101211232",
   "metadata": {},
   "outputs": [
    {
     "data": {
      "text/html": [
       "<div>\n",
       "<style scoped>\n",
       "    .dataframe tbody tr th:only-of-type {\n",
       "        vertical-align: middle;\n",
       "    }\n",
       "\n",
       "    .dataframe tbody tr th {\n",
       "        vertical-align: top;\n",
       "    }\n",
       "\n",
       "    .dataframe thead th {\n",
       "        text-align: right;\n",
       "    }\n",
       "</style>\n",
       "<table border=\"1\" class=\"dataframe\">\n",
       "  <thead>\n",
       "    <tr style=\"text-align: right;\">\n",
       "      <th></th>\n",
       "      <th>NUP</th>\n",
       "      <th>pred_NUP</th>\n",
       "      <th>delta_NUP</th>\n",
       "      <th>ECO</th>\n",
       "      <th>pred_ECO</th>\n",
       "      <th>delta_ECO</th>\n",
       "      <th>ENS</th>\n",
       "      <th>pred_ENS</th>\n",
       "      <th>delta_ENS</th>\n",
       "      <th>LR_UDI</th>\n",
       "      <th>...</th>\n",
       "      <th>delta_LR_UDI</th>\n",
       "      <th>EXTREMD</th>\n",
       "      <th>pred_EXTREMD</th>\n",
       "      <th>delta_EXTREMD</th>\n",
       "      <th>CENTRE</th>\n",
       "      <th>pred_CENTRE</th>\n",
       "      <th>delta_CENTRE</th>\n",
       "      <th>OTR</th>\n",
       "      <th>pred_OTR</th>\n",
       "      <th>delta_OTR</th>\n",
       "    </tr>\n",
       "  </thead>\n",
       "  <tbody>\n",
       "    <tr>\n",
       "      <th>0</th>\n",
       "      <td>0.153392</td>\n",
       "      <td>0.189106</td>\n",
       "      <td>0.035713</td>\n",
       "      <td>0.023599</td>\n",
       "      <td>0.016039</td>\n",
       "      <td>-0.007560</td>\n",
       "      <td>0.147493</td>\n",
       "      <td>0.147474</td>\n",
       "      <td>-0.000019</td>\n",
       "      <td>0.271386</td>\n",
       "      <td>...</td>\n",
       "      <td>-0.056546</td>\n",
       "      <td>0.318584</td>\n",
       "      <td>0.329129</td>\n",
       "      <td>0.010545</td>\n",
       "      <td>0.073746</td>\n",
       "      <td>0.075621</td>\n",
       "      <td>0.001874</td>\n",
       "      <td>0.011799</td>\n",
       "      <td>0.013825</td>\n",
       "      <td>0.002026</td>\n",
       "    </tr>\n",
       "    <tr>\n",
       "      <th>1</th>\n",
       "      <td>0.343750</td>\n",
       "      <td>0.308355</td>\n",
       "      <td>-0.035395</td>\n",
       "      <td>0.000000</td>\n",
       "      <td>0.009436</td>\n",
       "      <td>0.009436</td>\n",
       "      <td>0.000000</td>\n",
       "      <td>0.061995</td>\n",
       "      <td>0.061995</td>\n",
       "      <td>0.109375</td>\n",
       "      <td>...</td>\n",
       "      <td>0.035807</td>\n",
       "      <td>0.078125</td>\n",
       "      <td>0.080410</td>\n",
       "      <td>0.002285</td>\n",
       "      <td>0.437500</td>\n",
       "      <td>0.424157</td>\n",
       "      <td>-0.013343</td>\n",
       "      <td>0.031250</td>\n",
       "      <td>0.027729</td>\n",
       "      <td>-0.003521</td>\n",
       "    </tr>\n",
       "  </tbody>\n",
       "</table>\n",
       "<p>2 rows × 21 columns</p>\n",
       "</div>"
      ],
      "text/plain": [
       "        NUP  pred_NUP  delta_NUP       ECO  pred_ECO  delta_ECO       ENS  \\\n",
       "0  0.153392  0.189106   0.035713  0.023599  0.016039  -0.007560  0.147493   \n",
       "1  0.343750  0.308355  -0.035395  0.000000  0.009436   0.009436  0.000000   \n",
       "\n",
       "   pred_ENS  delta_ENS    LR_UDI  ...  delta_LR_UDI   EXTREMD  pred_EXTREMD  \\\n",
       "0  0.147474  -0.000019  0.271386  ...     -0.056546  0.318584      0.329129   \n",
       "1  0.061995   0.061995  0.109375  ...      0.035807  0.078125      0.080410   \n",
       "\n",
       "   delta_EXTREMD    CENTRE  pred_CENTRE  delta_CENTRE       OTR  pred_OTR  \\\n",
       "0       0.010545  0.073746     0.075621      0.001874  0.011799  0.013825   \n",
       "1       0.002285  0.437500     0.424157     -0.013343  0.031250  0.027729   \n",
       "\n",
       "   delta_OTR  \n",
       "0   0.002026  \n",
       "1  -0.003521  \n",
       "\n",
       "[2 rows x 21 columns]"
      ]
     },
     "execution_count": 294,
     "metadata": {},
     "output_type": "execute_result"
    }
   ],
   "source": [
    "connection = sqlite3.connect(db_path)\n",
    "\n",
    "# Create a cursor object to execute SQL queries\n",
    "cursor = connection.cursor()\n",
    "\n",
    "# Define the SQL query for the join\n",
    "sql_query = \"\"\"\n",
    "SELECT \n",
    "    y.NUP, xg.pred_NUP, xg.pred_NUP-y.NUP AS delta_NUP,\n",
    "    y.ECO, xg.pred_ECO, xg.pred_ECO-y.ECO AS delta_ECO,\n",
    "    y.ENS, xg.pred_ENS, xg.pred_ENS-y.ENS AS delta_ENS,\n",
    "    y.LR_UDI, xg.pred_LR_UDI, xg.pred_LR_UDI-y.LR_UDI AS delta_LR_UDI,\n",
    "    y.EXTREMD, xg.pred_EXTREMD, xg.pred_EXTREMD-y.EXTREMD AS delta_EXTREMD,\n",
    "    y.CENTRE, xg.pred_CENTRE, xg.pred_CENTRE-y.CENTRE AS delta_CENTRE,\n",
    "    y.OTR, xg.pred_OTR, xg.pred_OTR-y.OTR AS delta_OTR\n",
    "FROM y_resultats200_tbl AS y\n",
    "JOIN XGBoost_reg200_resultats_tbl AS xg\n",
    "ON y.key = xg.key;\n",
    "\"\"\"\n",
    "\n",
    "# Execute the SQL query and fetch the result into a DataFrame\n",
    "result_df = pd.read_sql_query(sql_query, connection)\n",
    "\n",
    "# Display the result DataFrame\n",
    "result_df.head(2)"
   ]
  },
  {
   "cell_type": "code",
   "execution_count": 261,
   "id": "d0a9542d-5dbd-43cc-b1ca-2889dd2a3a80",
   "metadata": {},
   "outputs": [
    {
     "name": "stdout",
     "output_type": "stream",
     "text": [
      "     indice   titr_col_value\n",
      "0         0     TAR_inscrits\n",
      "1         1      TAR_votants\n",
      "2         2     TAR_exprimes\n",
      "3         3    TAR_electeurs\n",
      "4         4     RSA_nrsa2017\n",
      "..      ...              ...\n",
      "256     256  NAT_petranger12\n",
      "257     257   NAT_pimmigre12\n",
      "258     258  NAT_pimmnatur12\n",
      "259     259  NAT_petranger02\n",
      "260     260  NAT_petranger92\n",
      "\n",
      "[261 rows x 2 columns]\n"
     ]
    }
   ],
   "source": [
    "# X_col_titr\n",
    "connection = sqlite3.connect(db_path)\n",
    "\n",
    "# Create a cursor object to execute SQL queries\n",
    "cursor = connection.cursor()\n",
    "\n",
    "# Define the SQL query for the join\n",
    "sql_query = \"\"\"\n",
    "SELECT *\n",
    "FROM X_col_titr LIMIT 500\n",
    "\"\"\"\n",
    "\n",
    "# Execute the SQL query and fetch the result into a DataFrame\n",
    "test_df = pd.read_sql_query(sql_query, connection)\n",
    "\n",
    "# Display the result DataFrame\n",
    "print(test_df)"
   ]
  },
  {
   "cell_type": "code",
   "execution_count": 299,
   "id": "39c48b3b-ea59-4794-aaa4-88ff0cf6a65c",
   "metadata": {},
   "outputs": [
    {
     "data": {
      "text/html": [
       "<div>\n",
       "<style scoped>\n",
       "    .dataframe tbody tr th:only-of-type {\n",
       "        vertical-align: middle;\n",
       "    }\n",
       "\n",
       "    .dataframe tbody tr th {\n",
       "        vertical-align: top;\n",
       "    }\n",
       "\n",
       "    .dataframe thead th {\n",
       "        text-align: right;\n",
       "    }\n",
       "</style>\n",
       "<table border=\"1\" class=\"dataframe\">\n",
       "  <thead>\n",
       "    <tr style=\"text-align: right;\">\n",
       "      <th></th>\n",
       "      <th>NUP_est</th>\n",
       "      <th>NUP_import</th>\n",
       "      <th>ECO_est</th>\n",
       "      <th>ECO_import</th>\n",
       "      <th>ENS_est</th>\n",
       "      <th>ENS_import</th>\n",
       "      <th>LR_UDI_est</th>\n",
       "      <th>LR_UDI_import</th>\n",
       "      <th>EXTREMD_est</th>\n",
       "      <th>EXTREMD_import</th>\n",
       "      <th>CENTRE_est</th>\n",
       "      <th>CENTRE_import</th>\n",
       "      <th>OTR_est</th>\n",
       "      <th>OTR_import</th>\n",
       "    </tr>\n",
       "  </thead>\n",
       "  <tbody>\n",
       "    <tr>\n",
       "      <th>0</th>\n",
       "      <td>AGE_poph014_12</td>\n",
       "      <td>8.289752</td>\n",
       "      <td>KP1_prixbien12</td>\n",
       "      <td>8.728079</td>\n",
       "      <td>PIB_pibratio2002</td>\n",
       "      <td>7.744120</td>\n",
       "      <td>GEO_latitude</td>\n",
       "      <td>3.162980</td>\n",
       "      <td>CSP_perouvr2002</td>\n",
       "      <td>5.116199</td>\n",
       "      <td>KP1_prixbien02</td>\n",
       "      <td>4.545013</td>\n",
       "      <td>GEO_longitude</td>\n",
       "      <td>16.198291</td>\n",
       "    </tr>\n",
       "    <tr>\n",
       "      <th>1</th>\n",
       "      <td>GEO_longitude</td>\n",
       "      <td>2.799277</td>\n",
       "      <td>CED_ncambriolages2016</td>\n",
       "      <td>3.024339</td>\n",
       "      <td>REV_revmoyfoy2022</td>\n",
       "      <td>4.536536</td>\n",
       "      <td>GEO_longitude</td>\n",
       "      <td>2.850486</td>\n",
       "      <td>DIP_supf1992</td>\n",
       "      <td>3.538232</td>\n",
       "      <td>CED_ncambriolages2020</td>\n",
       "      <td>4.111254</td>\n",
       "      <td>PIB_pibratio2012</td>\n",
       "      <td>4.577763</td>\n",
       "    </tr>\n",
       "    <tr>\n",
       "      <th>2</th>\n",
       "      <td>DIP_supf2017</td>\n",
       "      <td>2.479366</td>\n",
       "      <td>KP0_prim2_P1</td>\n",
       "      <td>2.084358</td>\n",
       "      <td>PIB_pibtot2012</td>\n",
       "      <td>3.487021</td>\n",
       "      <td>CED_ncambriolages2016</td>\n",
       "      <td>2.591365</td>\n",
       "      <td>GEO_latitude</td>\n",
       "      <td>3.319266</td>\n",
       "      <td>CED_ncambriolages2016</td>\n",
       "      <td>3.389312</td>\n",
       "      <td>GEO_latitude</td>\n",
       "      <td>4.166541</td>\n",
       "    </tr>\n",
       "    <tr>\n",
       "      <th>3</th>\n",
       "      <td>CED_nvolsvoitures2020</td>\n",
       "      <td>2.397747</td>\n",
       "      <td>CED_ncambriolages2020</td>\n",
       "      <td>1.900223</td>\n",
       "      <td>GEO_longitude</td>\n",
       "      <td>2.330942</td>\n",
       "      <td>CED_nvolsvoitures2016</td>\n",
       "      <td>2.369666</td>\n",
       "      <td>GEO_longitude</td>\n",
       "      <td>2.976396</td>\n",
       "      <td>GEO_latitude</td>\n",
       "      <td>3.019913</td>\n",
       "      <td>EMP_dis2016</td>\n",
       "      <td>3.699439</td>\n",
       "    </tr>\n",
       "    <tr>\n",
       "      <th>4</th>\n",
       "      <td>GEO_latitude</td>\n",
       "      <td>2.199881</td>\n",
       "      <td>TER_nexploit</td>\n",
       "      <td>1.484254</td>\n",
       "      <td>DIP_suph1992</td>\n",
       "      <td>1.882487</td>\n",
       "      <td>CED_ncambriolages2020</td>\n",
       "      <td>2.247937</td>\n",
       "      <td>CSP_perouvr1992</td>\n",
       "      <td>2.322812</td>\n",
       "      <td>GEO_longitude</td>\n",
       "      <td>2.826620</td>\n",
       "      <td>CED_ncambriolages2016</td>\n",
       "      <td>2.614269</td>\n",
       "    </tr>\n",
       "  </tbody>\n",
       "</table>\n",
       "</div>"
      ],
      "text/plain": [
       "                 NUP_est  NUP_import                ECO_est  ECO_import  \\\n",
       "0         AGE_poph014_12    8.289752         KP1_prixbien12    8.728079   \n",
       "1          GEO_longitude    2.799277  CED_ncambriolages2016    3.024339   \n",
       "2           DIP_supf2017    2.479366           KP0_prim2_P1    2.084358   \n",
       "3  CED_nvolsvoitures2020    2.397747  CED_ncambriolages2020    1.900223   \n",
       "4           GEO_latitude    2.199881           TER_nexploit    1.484254   \n",
       "\n",
       "             ENS_est  ENS_import             LR_UDI_est  LR_UDI_import  \\\n",
       "0   PIB_pibratio2002    7.744120           GEO_latitude       3.162980   \n",
       "1  REV_revmoyfoy2022    4.536536          GEO_longitude       2.850486   \n",
       "2     PIB_pibtot2012    3.487021  CED_ncambriolages2016       2.591365   \n",
       "3      GEO_longitude    2.330942  CED_nvolsvoitures2016       2.369666   \n",
       "4       DIP_suph1992    1.882487  CED_ncambriolages2020       2.247937   \n",
       "\n",
       "       EXTREMD_est  EXTREMD_import             CENTRE_est  CENTRE_import  \\\n",
       "0  CSP_perouvr2002        5.116199         KP1_prixbien02       4.545013   \n",
       "1     DIP_supf1992        3.538232  CED_ncambriolages2020       4.111254   \n",
       "2     GEO_latitude        3.319266  CED_ncambriolages2016       3.389312   \n",
       "3    GEO_longitude        2.976396           GEO_latitude       3.019913   \n",
       "4  CSP_perouvr1992        2.322812          GEO_longitude       2.826620   \n",
       "\n",
       "                 OTR_est  OTR_import  \n",
       "0          GEO_longitude   16.198291  \n",
       "1       PIB_pibratio2012    4.577763  \n",
       "2           GEO_latitude    4.166541  \n",
       "3            EMP_dis2016    3.699439  \n",
       "4  CED_ncambriolages2016    2.614269  "
      ]
     },
     "execution_count": 299,
     "metadata": {},
     "output_type": "execute_result"
    }
   ],
   "source": [
    "connection = sqlite3.connect(db_path)\n",
    "\n",
    "# Create a cursor object to execute SQL queries\n",
    "cursor = connection.cursor()\n",
    "\n",
    "# Define the SQL query for the join\n",
    "sql_query = \"\"\"\n",
    "SELECT \n",
    "    NUP_titr.titr_col_value AS NUP_est, FI.NUP_import * 100 AS NUP_import,\n",
    "    ECO_titr.titr_col_value AS ECO_est, FI.ECO_import * 100 AS ECO_import,\n",
    "    ENS_titr.titr_col_value AS ENS_est, FI.ENS_import * 100 AS ENS_import,\n",
    "    LR_UDI_titr.titr_col_value AS LR_UDI_est, FI.LR_UDI_import * 100 AS LR_UDI_import,\n",
    "    EXTREMD_titr.titr_col_value AS EXTREMD_est, FI.EXTREMD_import * 100 AS EXTREMD_import,\n",
    "    CENTRE_titr.titr_col_value AS CENTRE_est, FI.CENTRE_import * 100 AS CENTRE_import,\n",
    "    OTR_titr.titr_col_value AS OTR_est, FI.OTR_import * 100 AS OTR_import\n",
    "FROM \n",
    "    XGBoost_reg200_importance_tbl FI\n",
    "    JOIN X_col_titr AS NUP_titr ON NUP_titr.indice = FI.NUP_estim_indice\n",
    "    JOIN X_col_titr AS ECO_titr ON ECO_titr.indice = FI.ECO_estim_indice\n",
    "    JOIN X_col_titr AS ENS_titr ON ENS_titr.indice = FI.ENS_estim_indice\n",
    "    JOIN X_col_titr AS LR_UDI_titr ON LR_UDI_titr.indice = FI.LR_UDI_estim_indice\n",
    "    JOIN X_col_titr AS EXTREMD_titr ON EXTREMD_titr.indice = FI.EXTREMD_estim_indice\n",
    "    JOIN X_col_titr AS CENTRE_titr ON CENTRE_titr.indice = FI.CENTRE_estim_indice\n",
    "    JOIN X_col_titr AS OTR_titr ON OTR_titr.indice = FI.OTR_estim_indice\n",
    "LIMIT 100;\n",
    "\"\"\"\n",
    "\n",
    "# Execute the SQL query and fetch the result into a DataFrame\n",
    "test_df = pd.read_sql_query(sql_query, connection)\n",
    "\n",
    "# Display the result DataFrame\n",
    "test_df.head(5)"
   ]
  },
  {
   "cell_type": "code",
   "execution_count": null,
   "id": "c6247fe4-9bd8-4d69-b767-f451b9cbc7b1",
   "metadata": {},
   "outputs": [],
   "source": []
  },
  {
   "cell_type": "code",
   "execution_count": null,
   "id": "1b54ed75-eade-4e80-8500-b25d925eb8e3",
   "metadata": {},
   "outputs": [],
   "source": []
  },
  {
   "cell_type": "code",
   "execution_count": 305,
   "id": "d1b14da0-d6a3-4592-be73-080187824b24",
   "metadata": {},
   "outputs": [
    {
     "name": "stdout",
     "output_type": "stream",
     "text": [
      "Best Parameters: {'estimator__learning_rate': 0.1, 'estimator__max_depth': 3, 'estimator__n_estimators': 500}\n"
     ]
    }
   ],
   "source": []
  },
  {
   "cell_type": "code",
   "execution_count": 307,
   "id": "ecfa348c-8205-4331-a12c-bd883bfadb3b",
   "metadata": {},
   "outputs": [
    {
     "name": "stdout",
     "output_type": "stream",
     "text": [
      "X_train_scaled, shape :  (100, 5)\n",
      "X_test_scaled, shape :  (2395, 261)\n",
      "y_train shape :  (100, 7)\n",
      "y_test shape :  (2395, 7)\n"
     ]
    }
   ],
   "source": [
    "print('X_train_scaled, shape : ', X_train_scaled.shape)\n",
    "print('X_test_scaled, shape : ', X_test_scaled.shape)\n",
    "print('y_train shape : ', y_train.shape)\n",
    "print('y_test shape : ', y_test.shape)"
   ]
  },
  {
   "cell_type": "code",
   "execution_count": 306,
   "id": "cf2e8110-d56d-4e57-965a-97f548970e37",
   "metadata": {},
   "outputs": [
    {
     "ename": "ValueError",
     "evalue": "Feature shape mismatch, expected: 5, got 261",
     "output_type": "error",
     "traceback": [
      "\u001b[0;31m---------------------------------------------------------------------------\u001b[0m",
      "\u001b[0;31mValueError\u001b[0m                                Traceback (most recent call last)",
      "Cell \u001b[0;32mIn [306], line 2\u001b[0m\n\u001b[1;32m      1\u001b[0m \u001b[38;5;66;03m# Make predictions on the test data\u001b[39;00m\n\u001b[0;32m----> 2\u001b[0m y_pred \u001b[38;5;241m=\u001b[39m \u001b[43mbest_estimator\u001b[49m\u001b[38;5;241;43m.\u001b[39;49m\u001b[43mpredict\u001b[49m\u001b[43m(\u001b[49m\u001b[43mX_test_scaled\u001b[49m\u001b[43m)\u001b[49m\n",
      "File \u001b[0;32m~/.pyenv/versions/3.10.12/envs/artefact/lib/python3.10/site-packages/sklearn/multioutput.py:305\u001b[0m, in \u001b[0;36m_MultiOutputEstimator.predict\u001b[0;34m(self, X)\u001b[0m\n\u001b[1;32m    302\u001b[0m \u001b[38;5;28;01mif\u001b[39;00m \u001b[38;5;129;01mnot\u001b[39;00m \u001b[38;5;28mhasattr\u001b[39m(\u001b[38;5;28mself\u001b[39m\u001b[38;5;241m.\u001b[39mestimators_[\u001b[38;5;241m0\u001b[39m], \u001b[38;5;124m\"\u001b[39m\u001b[38;5;124mpredict\u001b[39m\u001b[38;5;124m\"\u001b[39m):\n\u001b[1;32m    303\u001b[0m     \u001b[38;5;28;01mraise\u001b[39;00m \u001b[38;5;167;01mValueError\u001b[39;00m(\u001b[38;5;124m\"\u001b[39m\u001b[38;5;124mThe base estimator should implement a predict method\u001b[39m\u001b[38;5;124m\"\u001b[39m)\n\u001b[0;32m--> 305\u001b[0m y \u001b[38;5;241m=\u001b[39m \u001b[43mParallel\u001b[49m\u001b[43m(\u001b[49m\u001b[43mn_jobs\u001b[49m\u001b[38;5;241;43m=\u001b[39;49m\u001b[38;5;28;43mself\u001b[39;49m\u001b[38;5;241;43m.\u001b[39;49m\u001b[43mn_jobs\u001b[49m\u001b[43m)\u001b[49m\u001b[43m(\u001b[49m\n\u001b[1;32m    306\u001b[0m \u001b[43m    \u001b[49m\u001b[43mdelayed\u001b[49m\u001b[43m(\u001b[49m\u001b[43me\u001b[49m\u001b[38;5;241;43m.\u001b[39;49m\u001b[43mpredict\u001b[49m\u001b[43m)\u001b[49m\u001b[43m(\u001b[49m\u001b[43mX\u001b[49m\u001b[43m)\u001b[49m\u001b[43m \u001b[49m\u001b[38;5;28;43;01mfor\u001b[39;49;00m\u001b[43m \u001b[49m\u001b[43me\u001b[49m\u001b[43m \u001b[49m\u001b[38;5;129;43;01min\u001b[39;49;00m\u001b[43m \u001b[49m\u001b[38;5;28;43mself\u001b[39;49m\u001b[38;5;241;43m.\u001b[39;49m\u001b[43mestimators_\u001b[49m\n\u001b[1;32m    307\u001b[0m \u001b[43m\u001b[49m\u001b[43m)\u001b[49m\n\u001b[1;32m    309\u001b[0m \u001b[38;5;28;01mreturn\u001b[39;00m np\u001b[38;5;241m.\u001b[39masarray(y)\u001b[38;5;241m.\u001b[39mT\n",
      "File \u001b[0;32m~/.pyenv/versions/3.10.12/envs/artefact/lib/python3.10/site-packages/sklearn/utils/parallel.py:65\u001b[0m, in \u001b[0;36mParallel.__call__\u001b[0;34m(self, iterable)\u001b[0m\n\u001b[1;32m     60\u001b[0m config \u001b[38;5;241m=\u001b[39m get_config()\n\u001b[1;32m     61\u001b[0m iterable_with_config \u001b[38;5;241m=\u001b[39m (\n\u001b[1;32m     62\u001b[0m     (_with_config(delayed_func, config), args, kwargs)\n\u001b[1;32m     63\u001b[0m     \u001b[38;5;28;01mfor\u001b[39;00m delayed_func, args, kwargs \u001b[38;5;129;01min\u001b[39;00m iterable\n\u001b[1;32m     64\u001b[0m )\n\u001b[0;32m---> 65\u001b[0m \u001b[38;5;28;01mreturn\u001b[39;00m \u001b[38;5;28;43msuper\u001b[39;49m\u001b[43m(\u001b[49m\u001b[43m)\u001b[49m\u001b[38;5;241;43m.\u001b[39;49m\u001b[38;5;21;43m__call__\u001b[39;49m\u001b[43m(\u001b[49m\u001b[43miterable_with_config\u001b[49m\u001b[43m)\u001b[49m\n",
      "File \u001b[0;32m~/.pyenv/versions/3.10.12/envs/artefact/lib/python3.10/site-packages/joblib/parallel.py:1863\u001b[0m, in \u001b[0;36mParallel.__call__\u001b[0;34m(self, iterable)\u001b[0m\n\u001b[1;32m   1861\u001b[0m     output \u001b[38;5;241m=\u001b[39m \u001b[38;5;28mself\u001b[39m\u001b[38;5;241m.\u001b[39m_get_sequential_output(iterable)\n\u001b[1;32m   1862\u001b[0m     \u001b[38;5;28mnext\u001b[39m(output)\n\u001b[0;32m-> 1863\u001b[0m     \u001b[38;5;28;01mreturn\u001b[39;00m output \u001b[38;5;28;01mif\u001b[39;00m \u001b[38;5;28mself\u001b[39m\u001b[38;5;241m.\u001b[39mreturn_generator \u001b[38;5;28;01melse\u001b[39;00m \u001b[38;5;28;43mlist\u001b[39;49m\u001b[43m(\u001b[49m\u001b[43moutput\u001b[49m\u001b[43m)\u001b[49m\n\u001b[1;32m   1865\u001b[0m \u001b[38;5;66;03m# Let's create an ID that uniquely identifies the current call. If the\u001b[39;00m\n\u001b[1;32m   1866\u001b[0m \u001b[38;5;66;03m# call is interrupted early and that the same instance is immediately\u001b[39;00m\n\u001b[1;32m   1867\u001b[0m \u001b[38;5;66;03m# re-used, this id will be used to prevent workers that were\u001b[39;00m\n\u001b[1;32m   1868\u001b[0m \u001b[38;5;66;03m# concurrently finalizing a task from the previous call to run the\u001b[39;00m\n\u001b[1;32m   1869\u001b[0m \u001b[38;5;66;03m# callback.\u001b[39;00m\n\u001b[1;32m   1870\u001b[0m \u001b[38;5;28;01mwith\u001b[39;00m \u001b[38;5;28mself\u001b[39m\u001b[38;5;241m.\u001b[39m_lock:\n",
      "File \u001b[0;32m~/.pyenv/versions/3.10.12/envs/artefact/lib/python3.10/site-packages/joblib/parallel.py:1792\u001b[0m, in \u001b[0;36mParallel._get_sequential_output\u001b[0;34m(self, iterable)\u001b[0m\n\u001b[1;32m   1790\u001b[0m \u001b[38;5;28mself\u001b[39m\u001b[38;5;241m.\u001b[39mn_dispatched_batches \u001b[38;5;241m+\u001b[39m\u001b[38;5;241m=\u001b[39m \u001b[38;5;241m1\u001b[39m\n\u001b[1;32m   1791\u001b[0m \u001b[38;5;28mself\u001b[39m\u001b[38;5;241m.\u001b[39mn_dispatched_tasks \u001b[38;5;241m+\u001b[39m\u001b[38;5;241m=\u001b[39m \u001b[38;5;241m1\u001b[39m\n\u001b[0;32m-> 1792\u001b[0m res \u001b[38;5;241m=\u001b[39m \u001b[43mfunc\u001b[49m\u001b[43m(\u001b[49m\u001b[38;5;241;43m*\u001b[39;49m\u001b[43margs\u001b[49m\u001b[43m,\u001b[49m\u001b[43m \u001b[49m\u001b[38;5;241;43m*\u001b[39;49m\u001b[38;5;241;43m*\u001b[39;49m\u001b[43mkwargs\u001b[49m\u001b[43m)\u001b[49m\n\u001b[1;32m   1793\u001b[0m \u001b[38;5;28mself\u001b[39m\u001b[38;5;241m.\u001b[39mn_completed_tasks \u001b[38;5;241m+\u001b[39m\u001b[38;5;241m=\u001b[39m \u001b[38;5;241m1\u001b[39m\n\u001b[1;32m   1794\u001b[0m \u001b[38;5;28mself\u001b[39m\u001b[38;5;241m.\u001b[39mprint_progress()\n",
      "File \u001b[0;32m~/.pyenv/versions/3.10.12/envs/artefact/lib/python3.10/site-packages/sklearn/utils/parallel.py:127\u001b[0m, in \u001b[0;36m_FuncWrapper.__call__\u001b[0;34m(self, *args, **kwargs)\u001b[0m\n\u001b[1;32m    125\u001b[0m     config \u001b[38;5;241m=\u001b[39m {}\n\u001b[1;32m    126\u001b[0m \u001b[38;5;28;01mwith\u001b[39;00m config_context(\u001b[38;5;241m*\u001b[39m\u001b[38;5;241m*\u001b[39mconfig):\n\u001b[0;32m--> 127\u001b[0m     \u001b[38;5;28;01mreturn\u001b[39;00m \u001b[38;5;28;43mself\u001b[39;49m\u001b[38;5;241;43m.\u001b[39;49m\u001b[43mfunction\u001b[49m\u001b[43m(\u001b[49m\u001b[38;5;241;43m*\u001b[39;49m\u001b[43margs\u001b[49m\u001b[43m,\u001b[49m\u001b[43m \u001b[49m\u001b[38;5;241;43m*\u001b[39;49m\u001b[38;5;241;43m*\u001b[39;49m\u001b[43mkwargs\u001b[49m\u001b[43m)\u001b[49m\n",
      "File \u001b[0;32m~/.pyenv/versions/3.10.12/envs/artefact/lib/python3.10/site-packages/xgboost/sklearn.py:1049\u001b[0m, in \u001b[0;36mXGBModel.predict\u001b[0;34m(self, X, output_margin, ntree_limit, validate_features, base_margin, iteration_range)\u001b[0m\n\u001b[1;32m   1047\u001b[0m \u001b[38;5;28;01mif\u001b[39;00m \u001b[38;5;28mself\u001b[39m\u001b[38;5;241m.\u001b[39m_can_use_inplace_predict():\n\u001b[1;32m   1048\u001b[0m     \u001b[38;5;28;01mtry\u001b[39;00m:\n\u001b[0;32m-> 1049\u001b[0m         predts \u001b[38;5;241m=\u001b[39m \u001b[38;5;28;43mself\u001b[39;49m\u001b[38;5;241;43m.\u001b[39;49m\u001b[43mget_booster\u001b[49m\u001b[43m(\u001b[49m\u001b[43m)\u001b[49m\u001b[38;5;241;43m.\u001b[39;49m\u001b[43minplace_predict\u001b[49m\u001b[43m(\u001b[49m\n\u001b[1;32m   1050\u001b[0m \u001b[43m            \u001b[49m\u001b[43mdata\u001b[49m\u001b[38;5;241;43m=\u001b[39;49m\u001b[43mX\u001b[49m\u001b[43m,\u001b[49m\n\u001b[1;32m   1051\u001b[0m \u001b[43m            \u001b[49m\u001b[43miteration_range\u001b[49m\u001b[38;5;241;43m=\u001b[39;49m\u001b[43miteration_range\u001b[49m\u001b[43m,\u001b[49m\n\u001b[1;32m   1052\u001b[0m \u001b[43m            \u001b[49m\u001b[43mpredict_type\u001b[49m\u001b[38;5;241;43m=\u001b[39;49m\u001b[38;5;124;43m\"\u001b[39;49m\u001b[38;5;124;43mmargin\u001b[39;49m\u001b[38;5;124;43m\"\u001b[39;49m\u001b[43m \u001b[49m\u001b[38;5;28;43;01mif\u001b[39;49;00m\u001b[43m \u001b[49m\u001b[43moutput_margin\u001b[49m\u001b[43m \u001b[49m\u001b[38;5;28;43;01melse\u001b[39;49;00m\u001b[43m \u001b[49m\u001b[38;5;124;43m\"\u001b[39;49m\u001b[38;5;124;43mvalue\u001b[39;49m\u001b[38;5;124;43m\"\u001b[39;49m\u001b[43m,\u001b[49m\n\u001b[1;32m   1053\u001b[0m \u001b[43m            \u001b[49m\u001b[43mmissing\u001b[49m\u001b[38;5;241;43m=\u001b[39;49m\u001b[38;5;28;43mself\u001b[39;49m\u001b[38;5;241;43m.\u001b[39;49m\u001b[43mmissing\u001b[49m\u001b[43m,\u001b[49m\n\u001b[1;32m   1054\u001b[0m \u001b[43m            \u001b[49m\u001b[43mbase_margin\u001b[49m\u001b[38;5;241;43m=\u001b[39;49m\u001b[43mbase_margin\u001b[49m\u001b[43m,\u001b[49m\n\u001b[1;32m   1055\u001b[0m \u001b[43m            \u001b[49m\u001b[43mvalidate_features\u001b[49m\u001b[38;5;241;43m=\u001b[39;49m\u001b[43mvalidate_features\u001b[49m\u001b[43m,\u001b[49m\n\u001b[1;32m   1056\u001b[0m \u001b[43m        \u001b[49m\u001b[43m)\u001b[49m\n\u001b[1;32m   1057\u001b[0m         \u001b[38;5;28;01mif\u001b[39;00m _is_cupy_array(predts):\n\u001b[1;32m   1058\u001b[0m             \u001b[38;5;28;01mimport\u001b[39;00m \u001b[38;5;21;01mcupy\u001b[39;00m     \u001b[38;5;66;03m# pylint: disable=import-error\u001b[39;00m\n",
      "File \u001b[0;32m~/.pyenv/versions/3.10.12/envs/artefact/lib/python3.10/site-packages/xgboost/core.py:2128\u001b[0m, in \u001b[0;36mBooster.inplace_predict\u001b[0;34m(self, data, iteration_range, predict_type, missing, validate_features, base_margin, strict_shape)\u001b[0m\n\u001b[1;32m   2124\u001b[0m         \u001b[38;5;28;01mraise\u001b[39;00m \u001b[38;5;167;01mTypeError\u001b[39;00m(\n\u001b[1;32m   2125\u001b[0m             \u001b[38;5;124m\"\u001b[39m\u001b[38;5;124m`shape` attribute is required when `validate_features` is True.\u001b[39m\u001b[38;5;124m\"\u001b[39m\n\u001b[1;32m   2126\u001b[0m         )\n\u001b[1;32m   2127\u001b[0m     \u001b[38;5;28;01mif\u001b[39;00m \u001b[38;5;28mlen\u001b[39m(data\u001b[38;5;241m.\u001b[39mshape) \u001b[38;5;241m!=\u001b[39m \u001b[38;5;241m1\u001b[39m \u001b[38;5;129;01mand\u001b[39;00m \u001b[38;5;28mself\u001b[39m\u001b[38;5;241m.\u001b[39mnum_features() \u001b[38;5;241m!=\u001b[39m data\u001b[38;5;241m.\u001b[39mshape[\u001b[38;5;241m1\u001b[39m]:\n\u001b[0;32m-> 2128\u001b[0m         \u001b[38;5;28;01mraise\u001b[39;00m \u001b[38;5;167;01mValueError\u001b[39;00m(\n\u001b[1;32m   2129\u001b[0m             \u001b[38;5;124mf\u001b[39m\u001b[38;5;124m\"\u001b[39m\u001b[38;5;124mFeature shape mismatch, expected: \u001b[39m\u001b[38;5;132;01m{\u001b[39;00m\u001b[38;5;28mself\u001b[39m\u001b[38;5;241m.\u001b[39mnum_features()\u001b[38;5;132;01m}\u001b[39;00m\u001b[38;5;124m, \u001b[39m\u001b[38;5;124m\"\u001b[39m\n\u001b[1;32m   2130\u001b[0m             \u001b[38;5;124mf\u001b[39m\u001b[38;5;124m\"\u001b[39m\u001b[38;5;124mgot \u001b[39m\u001b[38;5;132;01m{\u001b[39;00mdata\u001b[38;5;241m.\u001b[39mshape[\u001b[38;5;241m1\u001b[39m]\u001b[38;5;132;01m}\u001b[39;00m\u001b[38;5;124m\"\u001b[39m\n\u001b[1;32m   2131\u001b[0m         )\n\u001b[1;32m   2133\u001b[0m \u001b[38;5;28;01mfrom\u001b[39;00m \u001b[38;5;21;01m.\u001b[39;00m\u001b[38;5;21;01mdata\u001b[39;00m \u001b[38;5;28;01mimport\u001b[39;00m (\n\u001b[1;32m   2134\u001b[0m     _is_pandas_df,\n\u001b[1;32m   2135\u001b[0m     _transform_pandas_df,\n\u001b[0;32m   (...)\u001b[0m\n\u001b[1;32m   2138\u001b[0m     _array_interface,\n\u001b[1;32m   2139\u001b[0m )\n\u001b[1;32m   2140\u001b[0m enable_categorical \u001b[38;5;241m=\u001b[39m _has_categorical(\u001b[38;5;28mself\u001b[39m, data)\n",
      "\u001b[0;31mValueError\u001b[0m: Feature shape mismatch, expected: 5, got 261"
     ]
    }
   ],
   "source": [
    "\n",
    "# Make predictions on the test data\n",
    "y_pred = best_estimator.predict(X_test_scaled)\n",
    "\n"
   ]
  },
  {
   "cell_type": "code",
   "execution_count": null,
   "id": "09bc32fa-b219-472b-943c-3a975137bc16",
   "metadata": {},
   "outputs": [],
   "source": []
  },
  {
   "cell_type": "code",
   "execution_count": null,
   "id": "71a15c5f-c499-44ba-9093-02a0b7d5131e",
   "metadata": {},
   "outputs": [],
   "source": []
  },
  {
   "cell_type": "code",
   "execution_count": null,
   "id": "0c048028-f04c-4fb2-9c80-5c71b6daf257",
   "metadata": {},
   "outputs": [],
   "source": []
  },
  {
   "cell_type": "code",
   "execution_count": null,
   "id": "8daa2c28-879d-486c-9010-a5b9d40274e0",
   "metadata": {},
   "outputs": [],
   "source": []
  },
  {
   "cell_type": "code",
   "execution_count": null,
   "id": "7a883a21-4aaa-4e40-9f90-c6e12a34863d",
   "metadata": {},
   "outputs": [],
   "source": []
  },
  {
   "cell_type": "markdown",
   "id": "b69949d7-bdbf-4e35-8bae-0023702d189e",
   "metadata": {},
   "source": [
    "### BAC A SABLE ANCIENNE VERSION"
   ]
  },
  {
   "cell_type": "code",
   "execution_count": 173,
   "id": "a133dc70-9331-474a-8be7-40db8086c272",
   "metadata": {},
   "outputs": [],
   "source": [
    "feature_importances_target1 = multioutputregressor.estimators_[0].feature_importances_\n",
    "arg_importances_target1 = multioutputregressor.estimators_[0].feature_importances_.argsort()[::-1][:10]\n",
    "feature_importances_target2 = multioutputregressor.estimators_[1].feature_importances_\n",
    "arg_importances_target1 = multioutputregressor.estimators_[1].feature_importances_.argsort()[::-1][:10]"
   ]
  },
  {
   "cell_type": "code",
   "execution_count": 174,
   "id": "d1c0125a-6d4c-45f7-bd54-fff2cd76ad3a",
   "metadata": {},
   "outputs": [
    {
     "data": {
      "text/plain": [
       "(0.08289752, 0.0)"
      ]
     },
     "execution_count": 174,
     "metadata": {},
     "output_type": "execute_result"
    }
   ],
   "source": [
    "feature_importances_target1.max(),feature_importances_target1.min()"
   ]
  },
  {
   "cell_type": "code",
   "execution_count": 175,
   "id": "527daff5-ec12-4a7d-bf11-7dac755fb8ae",
   "metadata": {},
   "outputs": [
    {
     "data": {
      "text/plain": [
       "(array([145, 212, 132, 213, 248, 126, 107, 215, 127, 214]),\n",
       " array([0.00018913, 0.00074091, 0.00112173, 0.00110235, 0.00042073,\n",
       "        0.00928955, 0.00273058, 0.01190062, 0.00047944, 0.00074529,\n",
       "        0.00061451, 0.00078978, 0.00141578, 0.00328917, 0.00128194,\n",
       "        0.00402633, 0.00111661, 0.00189087, 0.00134679, 0.00306337,\n",
       "        0.00231643, 0.00160367, 0.00145234, 0.00135178, 0.00104806,\n",
       "        0.00219494, 0.0031202 , 0.00313133, 0.00272353, 0.00133564,\n",
       "        0.00151583, 0.00437662, 0.00180399, 0.01142614, 0.00445023,\n",
       "        0.08289752, 0.0030495 , 0.00208572, 0.00086537, 0.00271711,\n",
       "        0.00215387, 0.00264982, 0.00252093, 0.00325054, 0.00191166,\n",
       "        0.00257345, 0.00273214, 0.00318569, 0.00174286, 0.00456685,\n",
       "        0.00190498, 0.00155476, 0.00158979, 0.00125119, 0.00191694,\n",
       "        0.00163142, 0.00144138, 0.0026218 , 0.0021549 , 0.00257659,\n",
       "        0.00208301, 0.00245666, 0.00254126, 0.003289  , 0.00197459,\n",
       "        0.00201634, 0.00205839, 0.00207314, 0.00162274, 0.00226835,\n",
       "        0.00677573, 0.00331317, 0.00207311, 0.00350553, 0.00228583,\n",
       "        0.00798414, 0.00201299, 0.00701661, 0.00730257, 0.0014122 ,\n",
       "        0.00144926, 0.00176486, 0.00257112, 0.00212221, 0.0044824 ,\n",
       "        0.00155459, 0.00201466, 0.00143528, 0.00154081, 0.00190313,\n",
       "        0.00256227, 0.0027759 , 0.00258821, 0.00176804, 0.00299661,\n",
       "        0.00143604, 0.00247434, 0.        , 0.00175892, 0.        ,\n",
       "        0.        , 0.00244535, 0.00244253, 0.00192442, 0.00713943,\n",
       "        0.        , 0.        , 0.0104838 , 0.00346756, 0.00323044,\n",
       "        0.00869233, 0.00229804, 0.00201763, 0.        , 0.        ,\n",
       "        0.        , 0.        , 0.00415495, 0.00266571, 0.00312266,\n",
       "        0.00958801, 0.00366484, 0.0019782 , 0.00216312, 0.00334027,\n",
       "        0.00314928, 0.02199881, 0.02799277, 0.00213921, 0.00230462,\n",
       "        0.00294379, 0.00214606, 0.00811053, 0.0021099 , 0.00209202,\n",
       "        0.00284689, 0.00147216, 0.00662426, 0.01214766, 0.0080727 ,\n",
       "        0.00514332, 0.00653874, 0.00381365, 0.00674966, 0.00398905,\n",
       "        0.00388089, 0.00167881, 0.0038444 , 0.00472878, 0.00625615,\n",
       "        0.0017228 , 0.00299094, 0.0026496 , 0.00403027, 0.00189374,\n",
       "        0.0010917 , 0.00172594, 0.00149402, 0.00278919, 0.00389775,\n",
       "        0.00223888, 0.00279258, 0.00263093, 0.0014867 , 0.00938473,\n",
       "        0.00217211, 0.00195774, 0.00239613, 0.002165  , 0.00185975,\n",
       "        0.00719369, 0.00198528, 0.0017342 , 0.00147288, 0.00273571,\n",
       "        0.00136549, 0.00340922, 0.00263348, 0.00261191, 0.00214295,\n",
       "        0.00253319, 0.0020233 , 0.00202371, 0.00597693, 0.00147927,\n",
       "        0.00200039, 0.00252779, 0.00272636, 0.00162913, 0.00245937,\n",
       "        0.00168558, 0.00162547, 0.00157291, 0.00142115, 0.00251649,\n",
       "        0.00231139, 0.00155233, 0.00870855, 0.00337677, 0.00189198,\n",
       "        0.00215469, 0.00128917, 0.00193256, 0.00223841, 0.00145508,\n",
       "        0.0030715 , 0.00373561, 0.00871756, 0.02479366, 0.00173653,\n",
       "        0.00272985, 0.00224132, 0.01939382, 0.0061049 , 0.00672925,\n",
       "        0.02397747, 0.00315682, 0.00246305, 0.00581737, 0.00206413,\n",
       "        0.0037773 , 0.00514349, 0.00457818, 0.00172728, 0.00463693,\n",
       "        0.003637  , 0.00320502, 0.00257941, 0.00214219, 0.00479885,\n",
       "        0.00952085, 0.00365295, 0.00308881, 0.00951419, 0.00670068,\n",
       "        0.00207343, 0.00360922, 0.0021072 , 0.00220008, 0.00202093,\n",
       "        0.00241209, 0.00485793, 0.00337228, 0.00269714, 0.0024715 ,\n",
       "        0.00446776, 0.00256214, 0.00182905, 0.00922893, 0.        ,\n",
       "        0.00731251, 0.00674058, 0.00476209, 0.00983433, 0.00189852,\n",
       "        0.00252479, 0.00448064, 0.01650278, 0.00440143, 0.00389909,\n",
       "        0.00271975], dtype=float32))"
      ]
     },
     "execution_count": 175,
     "metadata": {},
     "output_type": "execute_result"
    }
   ],
   "source": [
    "arg_importances_target1, feature_importances_target1"
   ]
  },
  {
   "cell_type": "code",
   "execution_count": 177,
   "id": "a7eb99bc-c793-44dc-a512-ae1c4a18c687",
   "metadata": {},
   "outputs": [
    {
     "data": {
      "text/plain": [
       "261"
      ]
     },
     "execution_count": 177,
     "metadata": {},
     "output_type": "execute_result"
    }
   ],
   "source": [
    "arg_importances_target1 = multioutputregressor.estimators_[0].feature_importances_.argsort()[::-1]\n",
    "len(arg_importances_target1)"
   ]
  },
  {
   "cell_type": "code",
   "execution_count": 179,
   "id": "682a43d8-5f41-4611-bc67-f8262d007cec",
   "metadata": {},
   "outputs": [
    {
     "data": {
      "text/plain": [
       "array([ 35, 127, 208, 215, 126, 212, 257, 138,   7,  33, 107, 253, 120,\n",
       "       230, 233, 164,   5, 248, 207, 197, 110, 132, 139,  75, 250,  78,\n",
       "       170, 104,  77,  70, 143, 251, 214, 234, 137, 141, 149, 213, 183,\n",
       "       218, 221, 140, 241, 229, 252, 148, 224, 222,  49,  84, 256, 245,\n",
       "        34, 258,  31, 117, 153,  15, 144, 259, 159, 145, 147, 142, 220,\n",
       "       206, 121, 231, 225, 236,  73, 108, 176, 198, 242, 124,  71,  13,\n",
       "        63,  43, 109, 226,  47, 216, 125,  27, 119,  26, 232, 205,  19,\n",
       "        36,  94, 151, 130, 135, 161, 158,  91, 174,  46,   6, 210, 187,\n",
       "        28, 260,  39, 243, 118,  41, 152, 177, 162,  57, 178,  92, 227,\n",
       "        59,  45,  82,  90, 246,  62, 180, 186, 255,  42, 194,  96, 244,\n",
       "       217, 189,  61, 101, 102, 240, 167,  20, 195, 129, 111,  74,  69,\n",
       "       211, 160, 203, 238,  25, 165, 168, 123,  58, 200,  40, 131, 179,\n",
       "       228, 128,  83, 133, 237, 134,  37,  60, 235,  67,  72, 219,  66,\n",
       "       182, 181, 239, 112,  65,  86,  76, 185, 171, 122,  64, 166, 202,\n",
       "       103,  54,  44,  50,  89, 254, 154, 199,  17, 169, 247,  32,  93,\n",
       "        81,  98,  48, 209, 172, 223, 156, 150, 190, 146,  55, 188, 191,\n",
       "        68,  21,  52, 192,  51,  85, 196,  88,  30, 157, 163, 184, 173,\n",
       "       136, 204,  22,  80,  56,  95,  87, 193,  12,  79, 175,  23,  18,\n",
       "        29, 201,  14,  53,   2,  16,   3, 155,  24,  38,  11,   9,   1,\n",
       "        10,   8,   4,   0, 115, 114, 249, 113, 106, 105, 100,  99,  97,\n",
       "       116])"
      ]
     },
     "execution_count": 179,
     "metadata": {},
     "output_type": "execute_result"
    }
   ],
   "source": [
    "arg_importances_target1"
   ]
  },
  {
   "cell_type": "code",
   "execution_count": 178,
   "id": "d9d6a0d7-fa42-4f40-bc26-b5076b1236e7",
   "metadata": {},
   "outputs": [
    {
     "data": {
      "text/plain": [
       "array([0.00018913, 0.00074091, 0.00112173, 0.00110235, 0.00042073,\n",
       "       0.00928955, 0.00273058, 0.01190062, 0.00047944, 0.00074529,\n",
       "       0.00061451, 0.00078978, 0.00141578, 0.00328917, 0.00128194,\n",
       "       0.00402633, 0.00111661, 0.00189087, 0.00134679, 0.00306337,\n",
       "       0.00231643, 0.00160367, 0.00145234, 0.00135178, 0.00104806,\n",
       "       0.00219494, 0.0031202 , 0.00313133, 0.00272353, 0.00133564,\n",
       "       0.00151583, 0.00437662, 0.00180399, 0.01142614, 0.00445023,\n",
       "       0.08289752, 0.0030495 , 0.00208572, 0.00086537, 0.00271711,\n",
       "       0.00215387, 0.00264982, 0.00252093, 0.00325054, 0.00191166,\n",
       "       0.00257345, 0.00273214, 0.00318569, 0.00174286, 0.00456685,\n",
       "       0.00190498, 0.00155476, 0.00158979, 0.00125119, 0.00191694,\n",
       "       0.00163142, 0.00144138, 0.0026218 , 0.0021549 , 0.00257659,\n",
       "       0.00208301, 0.00245666, 0.00254126, 0.003289  , 0.00197459,\n",
       "       0.00201634, 0.00205839, 0.00207314, 0.00162274, 0.00226835,\n",
       "       0.00677573, 0.00331317, 0.00207311, 0.00350553, 0.00228583,\n",
       "       0.00798414, 0.00201299, 0.00701661, 0.00730257, 0.0014122 ,\n",
       "       0.00144926, 0.00176486, 0.00257112, 0.00212221, 0.0044824 ,\n",
       "       0.00155459, 0.00201466, 0.00143528, 0.00154081, 0.00190313,\n",
       "       0.00256227, 0.0027759 , 0.00258821, 0.00176804, 0.00299661,\n",
       "       0.00143604, 0.00247434, 0.        , 0.00175892, 0.        ,\n",
       "       0.        , 0.00244535, 0.00244253, 0.00192442, 0.00713943,\n",
       "       0.        , 0.        , 0.0104838 , 0.00346756, 0.00323044,\n",
       "       0.00869233, 0.00229804, 0.00201763, 0.        , 0.        ,\n",
       "       0.        , 0.        , 0.00415495, 0.00266571, 0.00312266,\n",
       "       0.00958801, 0.00366484, 0.0019782 , 0.00216312, 0.00334027,\n",
       "       0.00314928, 0.02199881, 0.02799277, 0.00213921, 0.00230462,\n",
       "       0.00294379, 0.00214606, 0.00811053, 0.0021099 , 0.00209202,\n",
       "       0.00284689, 0.00147216, 0.00662426, 0.01214766, 0.0080727 ,\n",
       "       0.00514332, 0.00653874, 0.00381365, 0.00674966, 0.00398905,\n",
       "       0.00388089, 0.00167881, 0.0038444 , 0.00472878, 0.00625615,\n",
       "       0.0017228 , 0.00299094, 0.0026496 , 0.00403027, 0.00189374,\n",
       "       0.0010917 , 0.00172594, 0.00149402, 0.00278919, 0.00389775,\n",
       "       0.00223888, 0.00279258, 0.00263093, 0.0014867 , 0.00938473,\n",
       "       0.00217211, 0.00195774, 0.00239613, 0.002165  , 0.00185975,\n",
       "       0.00719369, 0.00198528, 0.0017342 , 0.00147288, 0.00273571,\n",
       "       0.00136549, 0.00340922, 0.00263348, 0.00261191, 0.00214295,\n",
       "       0.00253319, 0.0020233 , 0.00202371, 0.00597693, 0.00147927,\n",
       "       0.00200039, 0.00252779, 0.00272636, 0.00162913, 0.00245937,\n",
       "       0.00168558, 0.00162547, 0.00157291, 0.00142115, 0.00251649,\n",
       "       0.00231139, 0.00155233, 0.00870855, 0.00337677, 0.00189198,\n",
       "       0.00215469, 0.00128917, 0.00193256, 0.00223841, 0.00145508,\n",
       "       0.0030715 , 0.00373561, 0.00871756, 0.02479366, 0.00173653,\n",
       "       0.00272985, 0.00224132, 0.01939382, 0.0061049 , 0.00672925,\n",
       "       0.02397747, 0.00315682, 0.00246305, 0.00581737, 0.00206413,\n",
       "       0.0037773 , 0.00514349, 0.00457818, 0.00172728, 0.00463693,\n",
       "       0.003637  , 0.00320502, 0.00257941, 0.00214219, 0.00479885,\n",
       "       0.00952085, 0.00365295, 0.00308881, 0.00951419, 0.00670068,\n",
       "       0.00207343, 0.00360922, 0.0021072 , 0.00220008, 0.00202093,\n",
       "       0.00241209, 0.00485793, 0.00337228, 0.00269714, 0.0024715 ,\n",
       "       0.00446776, 0.00256214, 0.00182905, 0.00922893, 0.        ,\n",
       "       0.00731251, 0.00674058, 0.00476209, 0.00983433, 0.00189852,\n",
       "       0.00252479, 0.00448064, 0.01650278, 0.00440143, 0.00389909,\n",
       "       0.00271975], dtype=float32)"
      ]
     },
     "execution_count": 178,
     "metadata": {},
     "output_type": "execute_result"
    }
   ],
   "source": [
    "feature_importances_target1"
   ]
  },
  {
   "cell_type": "code",
   "execution_count": 35,
   "id": "6a0f9c82-5e3a-40ec-8524-c8f498cfdb79",
   "metadata": {},
   "outputs": [
    {
     "data": {
      "text/plain": [
       "'KP1_capitalimmo12'"
      ]
     },
     "execution_count": 35,
     "metadata": {},
     "output_type": "execute_result"
    }
   ],
   "source": [
    "titr_cols_list[113]"
   ]
  },
  {
   "cell_type": "code",
   "execution_count": 60,
   "id": "c008f49c-02fc-4b4c-93a7-cff4c2f21456",
   "metadata": {},
   "outputs": [
    {
     "name": "stdout",
     "output_type": "stream",
     "text": [
      "Top Features for Target1:\n",
      "    Feature_Index  Feature_Importance                       info\n",
      "0              35            0.082898             AGE_poph014_12\n",
      "1             127            0.027993              GEO_longitude\n",
      "2             208            0.024794               DIP_supf2017\n",
      "3             215            0.023977      CED_nvolsvoitures2020\n",
      "4             126            0.021999               GEO_latitude\n",
      "5             212            0.019394      CED_ncambriolages2016\n",
      "6             257            0.016503             NAT_pimmigre12\n",
      "7             138            0.012148          REV_revmoyfoy1992\n",
      "8               7            0.011901               RSA_prsa2021\n",
      "9              33            0.011426            AGE_popf4059_12\n",
      "10            107            0.010484  BFL_basehabitationratio20\n",
      "11            253            0.009834             NAT_pimmigre22\n",
      "12            120            0.009588           PIB_pibratio2012\n",
      "13            230            0.009521            CSP_percadr2012\n",
      "14            233            0.009514            CSP_perpint2002\n",
      "15            164            0.009385                EMP_agr2006\n",
      "16              5            0.009290               RSA_nrsa2021\n",
      "17            248            0.009229               TER_nexploit\n",
      "18            207            0.008718               DIP_supf2012\n",
      "19            197            0.008709               DIP_suph2012\n",
      "20            110            0.008692     BFL_tauxfoncierratio20\n",
      "21            132            0.008111               KP0_prim2_P1\n",
      "22            139            0.008073          REV_revmoyfoy2002\n",
      "23             75            0.007984            AGE_popf4059_92\n",
      "24            250            0.007313             TER_nexploit68\n",
      "25             78            0.007303            AGE_poph1539_92\n",
      "26            170            0.007194                EMP_bag2006\n",
      "27            104            0.007139    BFL_recettehabitation20\n",
      "28             77            0.007017             AGE_poph014_92\n",
      "29             70            0.006776                AGE_ageh_02\n",
      "30            143            0.006750             KP1_prixbien22\n",
      "31            251            0.006741                 TER_surf68\n",
      "32            214            0.006729      CED_nvolsvoitures2016\n",
      "33            234            0.006701            CSP_perpint2012\n",
      "34            137            0.006624               KP0_prim2_P2\n",
      "35            141            0.006539          REV_revmoyfoy2022\n",
      "36            149            0.006256             KP1_prixbien92\n",
      "37            213            0.006105      CED_ncambriolages2020\n",
      "38            183            0.005977                EMP_tra2016\n",
      "39            218            0.005817      CED_ncrimesdelits2016\n",
      "40            221            0.005143            CSP_peragri2002\n",
      "41            140            0.005143          REV_revmoyfoy2012\n",
      "42            241            0.004858            CSP_perouvr2002\n",
      "43            229            0.004799            CSP_percadr2002\n",
      "44            252            0.004762            NAT_petranger22\n",
      "45            148            0.004729          KP1_capitalimmo92\n",
      "46            224            0.004637            CSP_perindp1992\n",
      "47            222            0.004578            CSP_peragri2012\n",
      "48             49            0.004567                AGE_ageh_12\n",
      "49             84            0.004482             AGE_prop60p_92\n"
     ]
    }
   ],
   "source": [
    "\n",
    "# Access feature importances for the first target\n",
    "feature_importances_target1 = multioutputregressor.estimators_[0].feature_importances_\n",
    "\n",
    "# Get the indices of the top 10 features for the first target\n",
    "top_features_indices_target1 = feature_importances_target1.argsort()[::-1][:50]\n",
    "\n",
    "# Create a DataFrame to store the results\n",
    "top_features_df_target1 = pd.DataFrame({\n",
    "    'Feature_Index': top_features_indices_target1,\n",
    "    'Feature_Importance': feature_importances_target1[top_features_indices_target1]\n",
    "})\n",
    "\n",
    "top_features_df_target1['info'] = top_features_df_target1['Feature_Index'].apply(lambda x: titr_cols_list[x])\n",
    "\n",
    "# Print the DataFrame with the top features for the first target\n",
    "print(\"Top Features for Target1:\")\n",
    "print(top_features_df_target1)"
   ]
  },
  {
   "cell_type": "code",
   "execution_count": null,
   "id": "d0fabbaf-584c-4772-9597-3502d14ce8b1",
   "metadata": {},
   "outputs": [],
   "source": []
  },
  {
   "cell_type": "code",
   "execution_count": null,
   "id": "a7297a3e-3b78-43f8-9468-d0005e2078f2",
   "metadata": {},
   "outputs": [],
   "source": []
  },
  {
   "cell_type": "code",
   "execution_count": 40,
   "id": "fbd3ced3-b50b-4ad7-94fd-715660c1bac6",
   "metadata": {},
   "outputs": [
    {
     "data": {
      "text/plain": [
       "array([[ 1.2073030e-02,  2.0008838e-01,  9.6360259e-03,  1.6450570e-03,\n",
       "        -2.7248161e-04,  2.7795851e-01,  1.4061260e-03,  1.9512649e-01,\n",
       "         2.8967749e-02,  3.8176954e-02,  1.7173229e-01]], dtype=float32)"
      ]
     },
     "execution_count": 40,
     "metadata": {},
     "output_type": "execute_result"
    }
   ],
   "source": [
    "pred0"
   ]
  },
  {
   "cell_type": "code",
   "execution_count": 51,
   "id": "a19db921-1747-48a6-bf16-2feef8365c90",
   "metadata": {},
   "outputs": [
    {
     "ename": "AttributeError",
     "evalue": "'MultiOutputRegressor' object has no attribute 'best_estimator_'",
     "output_type": "error",
     "traceback": [
      "\u001b[0;31m---------------------------------------------------------------------------\u001b[0m",
      "\u001b[0;31mAttributeError\u001b[0m                            Traceback (most recent call last)",
      "Cell \u001b[0;32mIn [51], line 1\u001b[0m\n\u001b[0;32m----> 1\u001b[0m \u001b[43mmultioutputregressor\u001b[49m\u001b[38;5;241;43m.\u001b[39;49m\u001b[43mbest_estimator_\u001b[49m\u001b[38;5;241m.\u001b[39mfeature_importances_\n",
      "\u001b[0;31mAttributeError\u001b[0m: 'MultiOutputRegressor' object has no attribute 'best_estimator_'"
     ]
    }
   ],
   "source": [
    "multioutputregressor.best_estimator_.feature_importances_"
   ]
  },
  {
   "cell_type": "code",
   "execution_count": 19,
   "id": "93a30ce7-7313-4b04-b972-4b0cc44ea3b2",
   "metadata": {},
   "outputs": [
    {
     "ename": "ValueError",
     "evalue": "Invalid classes inferred from unique values of `y`.  Expected: [    0     1     2 ... 62762 62763 62764], got [0.0000000e+00 4.5981240e-05 9.7314129e-05 ... 9.5973152e-01 9.7619045e-01\n 1.0000000e+00]",
     "output_type": "error",
     "traceback": [
      "\u001b[0;31m---------------------------------------------------------------------------\u001b[0m",
      "\u001b[0;31mValueError\u001b[0m                                Traceback (most recent call last)",
      "Cell \u001b[0;32mIn [19], line 5\u001b[0m\n\u001b[1;32m      2\u001b[0m model \u001b[38;5;241m=\u001b[39m xgb\u001b[38;5;241m.\u001b[39mXGBClassifier(objective\u001b[38;5;241m=\u001b[39m\u001b[38;5;124m'\u001b[39m\u001b[38;5;124mmulti:softmax\u001b[39m\u001b[38;5;124m'\u001b[39m, num_class\u001b[38;5;241m=\u001b[39m\u001b[38;5;28mlen\u001b[39m(\u001b[38;5;28mset\u001b[39m(y)))\n\u001b[1;32m      4\u001b[0m \u001b[38;5;66;03m# Train the model\u001b[39;00m\n\u001b[0;32m----> 5\u001b[0m \u001b[43mmodel\u001b[49m\u001b[38;5;241;43m.\u001b[39;49m\u001b[43mfit\u001b[49m\u001b[43m(\u001b[49m\u001b[43mX_train_scaled\u001b[49m\u001b[43m,\u001b[49m\u001b[43m \u001b[49m\u001b[43my_train\u001b[49m\u001b[43m)\u001b[49m\n\u001b[1;32m      7\u001b[0m \u001b[38;5;66;03m# Make predictions on the test set\u001b[39;00m\n\u001b[1;32m      8\u001b[0m y_pred \u001b[38;5;241m=\u001b[39m model\u001b[38;5;241m.\u001b[39mpredict(X_test_scaled)\n",
      "File \u001b[0;32m~/.pyenv/versions/3.10.12/envs/artefact/lib/python3.10/site-packages/xgboost/core.py:575\u001b[0m, in \u001b[0;36m_deprecate_positional_args.<locals>.inner_f\u001b[0;34m(*args, **kwargs)\u001b[0m\n\u001b[1;32m    573\u001b[0m \u001b[38;5;28;01mfor\u001b[39;00m k, arg \u001b[38;5;129;01min\u001b[39;00m \u001b[38;5;28mzip\u001b[39m(sig\u001b[38;5;241m.\u001b[39mparameters, args):\n\u001b[1;32m    574\u001b[0m     kwargs[k] \u001b[38;5;241m=\u001b[39m arg\n\u001b[0;32m--> 575\u001b[0m \u001b[38;5;28;01mreturn\u001b[39;00m \u001b[43mf\u001b[49m\u001b[43m(\u001b[49m\u001b[38;5;241;43m*\u001b[39;49m\u001b[38;5;241;43m*\u001b[39;49m\u001b[43mkwargs\u001b[49m\u001b[43m)\u001b[49m\n",
      "File \u001b[0;32m~/.pyenv/versions/3.10.12/envs/artefact/lib/python3.10/site-packages/xgboost/sklearn.py:1357\u001b[0m, in \u001b[0;36mXGBClassifier.fit\u001b[0;34m(self, X, y, sample_weight, base_margin, eval_set, eval_metric, early_stopping_rounds, verbose, xgb_model, sample_weight_eval_set, base_margin_eval_set, feature_weights, callbacks)\u001b[0m\n\u001b[1;32m   1352\u001b[0m     expected_classes \u001b[38;5;241m=\u001b[39m np\u001b[38;5;241m.\u001b[39marange(\u001b[38;5;28mself\u001b[39m\u001b[38;5;241m.\u001b[39mn_classes_)\n\u001b[1;32m   1353\u001b[0m \u001b[38;5;28;01mif\u001b[39;00m (\n\u001b[1;32m   1354\u001b[0m     \u001b[38;5;28mself\u001b[39m\u001b[38;5;241m.\u001b[39mclasses_\u001b[38;5;241m.\u001b[39mshape \u001b[38;5;241m!=\u001b[39m expected_classes\u001b[38;5;241m.\u001b[39mshape\n\u001b[1;32m   1355\u001b[0m     \u001b[38;5;129;01mor\u001b[39;00m \u001b[38;5;129;01mnot\u001b[39;00m (\u001b[38;5;28mself\u001b[39m\u001b[38;5;241m.\u001b[39mclasses_ \u001b[38;5;241m==\u001b[39m expected_classes)\u001b[38;5;241m.\u001b[39mall()\n\u001b[1;32m   1356\u001b[0m ):\n\u001b[0;32m-> 1357\u001b[0m     \u001b[38;5;28;01mraise\u001b[39;00m \u001b[38;5;167;01mValueError\u001b[39;00m(\n\u001b[1;32m   1358\u001b[0m         \u001b[38;5;124mf\u001b[39m\u001b[38;5;124m\"\u001b[39m\u001b[38;5;124mInvalid classes inferred from unique values of `y`.  \u001b[39m\u001b[38;5;124m\"\u001b[39m\n\u001b[1;32m   1359\u001b[0m         \u001b[38;5;124mf\u001b[39m\u001b[38;5;124m\"\u001b[39m\u001b[38;5;124mExpected: \u001b[39m\u001b[38;5;132;01m{\u001b[39;00mexpected_classes\u001b[38;5;132;01m}\u001b[39;00m\u001b[38;5;124m, got \u001b[39m\u001b[38;5;132;01m{\u001b[39;00m\u001b[38;5;28mself\u001b[39m\u001b[38;5;241m.\u001b[39mclasses_\u001b[38;5;132;01m}\u001b[39;00m\u001b[38;5;124m\"\u001b[39m\n\u001b[1;32m   1360\u001b[0m     )\n\u001b[1;32m   1362\u001b[0m params \u001b[38;5;241m=\u001b[39m \u001b[38;5;28mself\u001b[39m\u001b[38;5;241m.\u001b[39mget_xgb_params()\n\u001b[1;32m   1364\u001b[0m \u001b[38;5;28;01mif\u001b[39;00m callable(\u001b[38;5;28mself\u001b[39m\u001b[38;5;241m.\u001b[39mobjective):\n",
      "\u001b[0;31mValueError\u001b[0m: Invalid classes inferred from unique values of `y`.  Expected: [    0     1     2 ... 62762 62763 62764], got [0.0000000e+00 4.5981240e-05 9.7314129e-05 ... 9.5973152e-01 9.7619045e-01\n 1.0000000e+00]"
     ]
    }
   ],
   "source": [
    "# Create an XGBoost classifier\n",
    "model = xgb.XGBClassifier(objective='multi:softmax', num_class=len(set(y)))\n",
    "\n",
    "# Train the model\n",
    "model.fit(X_train_scaled, y_train)\n",
    "\n",
    "# Make predictions on the test set\n",
    "y_pred = model.predict(X_test_scaled)\n",
    "\n",
    "# Evaluate the model\n",
    "accuracy = accuracy_score(y_test, y_pred)\n",
    "print(f\"Accuracy: {accuracy:.2f}\")\n",
    "\n",
    "# Display classification report\n",
    "print(\"Classification Report:\")\n",
    "print(classification_report(y_test, y_pred))"
   ]
  },
  {
   "cell_type": "code",
   "execution_count": 20,
   "id": "0f397303-749b-497a-a7b4-49db03a1a51d",
   "metadata": {},
   "outputs": [
    {
     "name": "stdout",
     "output_type": "stream",
     "text": [
      "Accuracy: 1.00\n",
      "Classification Report:\n",
      "              precision    recall  f1-score   support\n",
      "\n",
      "           0       1.00      1.00      1.00        10\n",
      "           1       1.00      1.00      1.00         9\n",
      "           2       1.00      1.00      1.00        11\n",
      "\n",
      "    accuracy                           1.00        30\n",
      "   macro avg       1.00      1.00      1.00        30\n",
      "weighted avg       1.00      1.00      1.00        30\n",
      "\n"
     ]
    }
   ],
   "source": [
    "import xgboost as xgb\n",
    "from sklearn.datasets import load_iris\n",
    "from sklearn.model_selection import train_test_split\n",
    "from sklearn.metrics import accuracy_score, classification_report\n",
    "\n",
    "# Load the Iris dataset as an example\n",
    "data = load_iris()\n",
    "X = data.data\n",
    "y = data.target\n",
    "\n",
    "# Split the data into training and testing sets\n",
    "X_train, X_test, y_train, y_test = train_test_split(X, y, test_size=0.2, random_state=42)\n",
    "\n",
    "# Create an XGBoost classifier\n",
    "model = xgb.XGBClassifier(objective='multi:softmax', num_class=len(set(y)))\n",
    "\n",
    "# Train the model\n",
    "model.fit(X_train, y_train)\n",
    "\n",
    "# Make predictions on the test set\n",
    "y_pred = model.predict(X_test)\n",
    "\n",
    "# Evaluate the model\n",
    "accuracy = accuracy_score(y_test, y_pred)\n",
    "print(f\"Accuracy: {accuracy:.2f}\")\n",
    "\n",
    "# Display classification report\n",
    "print(\"Classification Report:\")\n",
    "print(classification_report(y_test, y_pred))"
   ]
  },
  {
   "cell_type": "code",
   "execution_count": 21,
   "id": "08281e8c-bfb1-4bf1-ab89-c2b0ea4f648b",
   "metadata": {},
   "outputs": [
    {
     "data": {
      "text/plain": [
       "array([0, 0, 0, 0, 0, 0, 0, 0, 0, 0, 0, 0, 0, 0, 0, 0, 0, 0, 0, 0, 0, 0,\n",
       "       0, 0, 0, 0, 0, 0, 0, 0, 0, 0, 0, 0, 0, 0, 0, 0, 0, 0, 0, 0, 0, 0,\n",
       "       0, 0, 0, 0, 0, 0, 1, 1, 1, 1, 1, 1, 1, 1, 1, 1, 1, 1, 1, 1, 1, 1,\n",
       "       1, 1, 1, 1, 1, 1, 1, 1, 1, 1, 1, 1, 1, 1, 1, 1, 1, 1, 1, 1, 1, 1,\n",
       "       1, 1, 1, 1, 1, 1, 1, 1, 1, 1, 1, 1, 2, 2, 2, 2, 2, 2, 2, 2, 2, 2,\n",
       "       2, 2, 2, 2, 2, 2, 2, 2, 2, 2, 2, 2, 2, 2, 2, 2, 2, 2, 2, 2, 2, 2,\n",
       "       2, 2, 2, 2, 2, 2, 2, 2, 2, 2, 2, 2, 2, 2, 2, 2, 2, 2])"
      ]
     },
     "execution_count": 21,
     "metadata": {},
     "output_type": "execute_result"
    }
   ],
   "source": [
    "y"
   ]
  },
  {
   "cell_type": "code",
   "execution_count": null,
   "id": "6d3985f0-c0bf-4791-ac0a-5f3677418345",
   "metadata": {},
   "outputs": [],
   "source": []
  }
 ],
 "metadata": {
  "kernelspec": {
   "display_name": "Python 3 (ipykernel)",
   "language": "python",
   "name": "python3"
  },
  "language_info": {
   "codemirror_mode": {
    "name": "ipython",
    "version": 3
   },
   "file_extension": ".py",
   "mimetype": "text/x-python",
   "name": "python",
   "nbconvert_exporter": "python",
   "pygments_lexer": "ipython3",
   "version": "3.10.12"
  }
 },
 "nbformat": 4,
 "nbformat_minor": 5
}
