{
 "cells": [
  {
   "cell_type": "markdown",
   "id": "ea3e4cdc-4ad0-480e-8a5e-0e4e4dee9ac3",
   "metadata": {},
   "source": [
    "# <center>  Model Creat Dataframe proprietairescommunes [PRO]<br/></center>\n",
    "<a name=\"TOP\"></a>\n",
    "- dev : nyx\n",
    "- Fichier CSV : Proprietaires_csv/Proprietaires_csv/proprietairescommunes.csv</a>\n",
    "\n",
    "ALERTES 98 lignes à Nan \n",
    "Faire les plus proches voisins apres FUSION ?\n",
    "    \n",
    "# Description Fichiers : \n",
    "Capital immo pour 2022 , 2012 , 2002 , 1992\n",
    "avec pour chaque année :\n",
    "    4 capital immo\n",
    "    5 prix du bien\n",
    "\n",
    "# Synthese des Actions :\n",
    "Plus de 1000 communes non renseignees flag 1 pour BL_bug\n",
    "creation de lignes avec que des 0\n",
    "  \n",
    "**<u>MENU</u>** \n",
    "- <a href=\"#Import\">P0 : Import CSV</a>\n",
    "- <a href=\"#EDA\">P1 : Mini EDA</a>\n",
    "- <a href=\"#Nan\">P2 : Traitement des Nan</a>\n",
    "- <a href=\"#TRANSCO\">P3 : Filtres et/ou calculs</a>\n",
    "- <a href=\"#EXPORT\">P4 : EXPORT (/DATA/EXPORT_CSV/final_xxxxxxx.csv)</a>\n",
    "\n",
    "\n",
    "\n"
   ]
  },
  {
   "cell_type": "markdown",
   "id": "ca339594-e0cb-478d-b4fb-3e1af6de883d",
   "metadata": {},
   "source": [
    "PREFIXE FICHIER : KP1\n",
    "Structure :\n",
    "\n",
    "    0 dep\n",
    "    1 nomdep\n",
    "    2 codecommune\n",
    "    3 nomcommune\n",
    "    4 KP1_capitalimmo22\n",
    "    5 KP1_prixbien22\n",
    "    6 KP1_capitalimmo12\n",
    "    7 KP1_prixbien12\n",
    "    8 KP1_capitalimmo02\n",
    "    9 KP1_prixbien02\n",
    "    10 KP1_capitalimmo92\n",
    "    11 KP1_prixbien92\n",
    "    12 DBL_bug (flag à 1 poour les lignes ajoutées avec des Nan A TRAITER)\n",
    "\n",
    "\n"
   ]
  },
  {
   "cell_type": "code",
   "execution_count": 1,
   "id": "95d983a2-4b3e-4b94-855b-bf6d33d4ba75",
   "metadata": {},
   "outputs": [],
   "source": [
    "import warnings\n",
    "warnings.filterwarnings(\"ignore\")\n",
    "\n",
    "import os\n",
    "import zipfile\n",
    "import pandas as pd\n",
    "import numpy as np\n",
    "\n",
    "import seaborn as sns\n",
    "import matplotlib.pyplot as plt"
   ]
  },
  {
   "cell_type": "markdown",
   "id": "baa4ba11-c303-401b-b654-f6d5a2f6b7b4",
   "metadata": {},
   "source": [
    "## <a name=\"Import\"></a>Partie 0 : Import CSV&nbsp;&nbsp;&nbsp;&nbsp;&nbsp; <a href=\"#TOP\">&uarr;</a>"
   ]
  },
  {
   "cell_type": "code",
   "execution_count": 2,
   "id": "64bd9ee9-428d-4c50-8304-e1a2635a352b",
   "metadata": {},
   "outputs": [],
   "source": [
    "def df_creat(filename, df_dataframe):  \n",
    "    df = df_dataframe[df_dataframe['filename'] == filename]\n",
    "    if len(df) == 1:\n",
    "        row = df.iloc[0]\n",
    "        file = row['path']\n",
    "        if os.path.exists(file):\n",
    "            print(file)\n",
    "            df_from_csv = pd.read_csv(file, encoding='utf-8', low_memory=False)\n",
    "            return df_from_csv\n",
    "        else:\n",
    "            print('FICHIER NON TROUVE', file)\n",
    "            return pd.DataFrame()\n",
    "    else:\n",
    "        print(f\"filename: '{filename}' return size: {len(df)}\")\n",
    "        return pd.DataFrame()"
   ]
  },
  {
   "cell_type": "code",
   "execution_count": 3,
   "id": "4b858715-3881-4cae-b6f1-59d3e10d9276",
   "metadata": {},
   "outputs": [],
   "source": [
    "csv_file_path = 'df_filtred.csv'\n",
    "# Use pandas to read the CSV file into a DataFrame with UTF-8 encoding\n",
    "df_cat = pd.read_csv(csv_file_path, encoding='utf-8')"
   ]
  },
  {
   "cell_type": "code",
   "execution_count": 4,
   "id": "677ef87c-1d20-4ea9-b483-24fcc6557f7d",
   "metadata": {},
   "outputs": [
    {
     "data": {
      "text/html": [
       "<div>\n",
       "<style scoped>\n",
       "    .dataframe tbody tr th:only-of-type {\n",
       "        vertical-align: middle;\n",
       "    }\n",
       "\n",
       "    .dataframe tbody tr th {\n",
       "        vertical-align: top;\n",
       "    }\n",
       "\n",
       "    .dataframe thead th {\n",
       "        text-align: right;\n",
       "    }\n",
       "</style>\n",
       "<table border=\"1\" class=\"dataframe\">\n",
       "  <thead>\n",
       "    <tr style=\"text-align: right;\">\n",
       "      <th></th>\n",
       "      <th>category</th>\n",
       "      <th>filename</th>\n",
       "      <th>comment</th>\n",
       "      <th>size</th>\n",
       "      <th>depart</th>\n",
       "      <th>district</th>\n",
       "      <th>commune</th>\n",
       "      <th>canton</th>\n",
       "      <th>yyyy</th>\n",
       "      <th>path</th>\n",
       "      <th>codecommune</th>\n",
       "    </tr>\n",
       "  </thead>\n",
       "  <tbody>\n",
       "    <tr>\n",
       "      <th>0</th>\n",
       "      <td>Taille_agglo_commune_csv</td>\n",
       "      <td>codescommunes1999</td>\n",
       "      <td>codes</td>\n",
       "      <td>0</td>\n",
       "      <td>0</td>\n",
       "      <td>0</td>\n",
       "      <td>1</td>\n",
       "      <td>0</td>\n",
       "      <td>1999</td>\n",
       "      <td>../../ProjetCommun/DATA_SOURCES/HCP/Taille_agg...</td>\n",
       "      <td>1</td>\n",
       "    </tr>\n",
       "  </tbody>\n",
       "</table>\n",
       "</div>"
      ],
      "text/plain": [
       "                   category           filename comment  size  depart  \\\n",
       "0  Taille_agglo_commune_csv  codescommunes1999   codes     0       0   \n",
       "\n",
       "   district  commune  canton  yyyy  \\\n",
       "0         0        1       0  1999   \n",
       "\n",
       "                                                path  codecommune  \n",
       "0  ../../ProjetCommun/DATA_SOURCES/HCP/Taille_agg...            1  "
      ]
     },
     "execution_count": 4,
     "metadata": {},
     "output_type": "execute_result"
    }
   ],
   "source": [
    "df_cat.head(1)"
   ]
  },
  {
   "cell_type": "code",
   "execution_count": 20,
   "id": "04da4fb3-c6ba-4332-9b2a-872c14a87126",
   "metadata": {},
   "outputs": [
    {
     "name": "stdout",
     "output_type": "stream",
     "text": [
      "../../ProjetCommun/DATA_SOURCES/HCP/Proprietaires_csv/Proprietaires_csv/proprietairescommunes.csv\n"
     ]
    }
   ],
   "source": [
    "df = df_creat('proprietairescommunes', df_cat)"
   ]
  },
  {
   "cell_type": "markdown",
   "id": "6647aa81-cb46-45dd-a922-b069be341809",
   "metadata": {},
   "source": [
    "## <a name=\"EDA\"></a>Partie 1 : Mini EDA &nbsp;&nbsp;&nbsp;&nbsp;&nbsp; <a href=\"#TOP\">&uarr;</a>"
   ]
  },
  {
   "cell_type": "code",
   "execution_count": 21,
   "id": "cd6d2a1b-246e-4d37-907b-e133b079fa9f",
   "metadata": {},
   "outputs": [
    {
     "data": {
      "text/plain": [
       "(37937, 426)"
      ]
     },
     "execution_count": 21,
     "metadata": {},
     "output_type": "execute_result"
    }
   ],
   "source": [
    "df.shape"
   ]
  },
  {
   "cell_type": "code",
   "execution_count": 22,
   "id": "594cdd42-69ef-4827-8497-f933f546c1ec",
   "metadata": {},
   "outputs": [
    {
     "data": {
      "text/html": [
       "<div>\n",
       "<style scoped>\n",
       "    .dataframe tbody tr th:only-of-type {\n",
       "        vertical-align: middle;\n",
       "    }\n",
       "\n",
       "    .dataframe tbody tr th {\n",
       "        vertical-align: top;\n",
       "    }\n",
       "\n",
       "    .dataframe thead th {\n",
       "        text-align: right;\n",
       "    }\n",
       "</style>\n",
       "<table border=\"1\" class=\"dataframe\">\n",
       "  <thead>\n",
       "    <tr style=\"text-align: right;\">\n",
       "      <th></th>\n",
       "      <th>dep</th>\n",
       "      <th>nomdep</th>\n",
       "      <th>codecommune</th>\n",
       "      <th>nomcommune</th>\n",
       "      <th>ppropri1960</th>\n",
       "      <th>ppropri1961</th>\n",
       "      <th>ppropri1962</th>\n",
       "      <th>ppropri1963</th>\n",
       "      <th>ppropri1964</th>\n",
       "      <th>ppropri1965</th>\n",
       "      <th>...</th>\n",
       "      <th>perpropri1950</th>\n",
       "      <th>perpropri1951</th>\n",
       "      <th>perpropri1952</th>\n",
       "      <th>perpropri1953</th>\n",
       "      <th>perpropri1954</th>\n",
       "      <th>perpropri1955</th>\n",
       "      <th>perpropri1956</th>\n",
       "      <th>perpropri1957</th>\n",
       "      <th>perpropri1958</th>\n",
       "      <th>perpropri1959</th>\n",
       "    </tr>\n",
       "  </thead>\n",
       "  <tbody>\n",
       "    <tr>\n",
       "      <th>0</th>\n",
       "      <td>01</td>\n",
       "      <td>AIN</td>\n",
       "      <td>01001</td>\n",
       "      <td>ABERGEMENT-CLEMENCIAT</td>\n",
       "      <td>0.357664</td>\n",
       "      <td>0.377778</td>\n",
       "      <td>0.401515</td>\n",
       "      <td>0.426357</td>\n",
       "      <td>0.448819</td>\n",
       "      <td>0.483871</td>\n",
       "      <td>...</td>\n",
       "      <td>0.527854</td>\n",
       "      <td>0.527854</td>\n",
       "      <td>0.527854</td>\n",
       "      <td>0.527854</td>\n",
       "      <td>0.527854</td>\n",
       "      <td>0.527854</td>\n",
       "      <td>0.527854</td>\n",
       "      <td>0.527854</td>\n",
       "      <td>0.527854</td>\n",
       "      <td>0.527854</td>\n",
       "    </tr>\n",
       "    <tr>\n",
       "      <th>1</th>\n",
       "      <td>01</td>\n",
       "      <td>AIN</td>\n",
       "      <td>01002</td>\n",
       "      <td>ABERGEMENT-DE-VAREY</td>\n",
       "      <td>0.756098</td>\n",
       "      <td>0.761905</td>\n",
       "      <td>0.785714</td>\n",
       "      <td>0.809524</td>\n",
       "      <td>0.813953</td>\n",
       "      <td>0.837209</td>\n",
       "      <td>...</td>\n",
       "      <td>0.967130</td>\n",
       "      <td>0.967130</td>\n",
       "      <td>0.967130</td>\n",
       "      <td>0.967130</td>\n",
       "      <td>0.967130</td>\n",
       "      <td>0.967130</td>\n",
       "      <td>0.967130</td>\n",
       "      <td>0.967130</td>\n",
       "      <td>0.967130</td>\n",
       "      <td>0.967130</td>\n",
       "    </tr>\n",
       "    <tr>\n",
       "      <th>2</th>\n",
       "      <td>01</td>\n",
       "      <td>NaN</td>\n",
       "      <td>01003</td>\n",
       "      <td>NaN</td>\n",
       "      <td>NaN</td>\n",
       "      <td>NaN</td>\n",
       "      <td>0.421053</td>\n",
       "      <td>NaN</td>\n",
       "      <td>NaN</td>\n",
       "      <td>NaN</td>\n",
       "      <td>...</td>\n",
       "      <td>1.000000</td>\n",
       "      <td>1.000000</td>\n",
       "      <td>1.000000</td>\n",
       "      <td>1.000000</td>\n",
       "      <td>1.000000</td>\n",
       "      <td>1.000000</td>\n",
       "      <td>1.000000</td>\n",
       "      <td>1.000000</td>\n",
       "      <td>1.000000</td>\n",
       "      <td>1.000000</td>\n",
       "    </tr>\n",
       "    <tr>\n",
       "      <th>3</th>\n",
       "      <td>01</td>\n",
       "      <td>AIN</td>\n",
       "      <td>01004</td>\n",
       "      <td>AMBERIEU-EN-BUGEY</td>\n",
       "      <td>0.385695</td>\n",
       "      <td>0.382440</td>\n",
       "      <td>0.379423</td>\n",
       "      <td>0.376618</td>\n",
       "      <td>0.374005</td>\n",
       "      <td>0.371565</td>\n",
       "      <td>...</td>\n",
       "      <td>0.569873</td>\n",
       "      <td>0.569873</td>\n",
       "      <td>0.569873</td>\n",
       "      <td>0.569873</td>\n",
       "      <td>0.569873</td>\n",
       "      <td>0.569873</td>\n",
       "      <td>0.569873</td>\n",
       "      <td>0.569873</td>\n",
       "      <td>0.569873</td>\n",
       "      <td>0.569873</td>\n",
       "    </tr>\n",
       "    <tr>\n",
       "      <th>4</th>\n",
       "      <td>01</td>\n",
       "      <td>AIN</td>\n",
       "      <td>01005</td>\n",
       "      <td>AMBERIEUX-EN-DOMBES</td>\n",
       "      <td>0.300000</td>\n",
       "      <td>0.328125</td>\n",
       "      <td>0.357513</td>\n",
       "      <td>0.386598</td>\n",
       "      <td>0.413265</td>\n",
       "      <td>0.441624</td>\n",
       "      <td>...</td>\n",
       "      <td>0.445979</td>\n",
       "      <td>0.445979</td>\n",
       "      <td>0.445979</td>\n",
       "      <td>0.445979</td>\n",
       "      <td>0.445979</td>\n",
       "      <td>0.445979</td>\n",
       "      <td>0.445979</td>\n",
       "      <td>0.445979</td>\n",
       "      <td>0.445979</td>\n",
       "      <td>0.445979</td>\n",
       "    </tr>\n",
       "  </tbody>\n",
       "</table>\n",
       "<p>5 rows × 426 columns</p>\n",
       "</div>"
      ],
      "text/plain": [
       "  dep nomdep codecommune             nomcommune  ppropri1960  ppropri1961  \\\n",
       "0  01    AIN       01001  ABERGEMENT-CLEMENCIAT     0.357664     0.377778   \n",
       "1  01    AIN       01002    ABERGEMENT-DE-VAREY     0.756098     0.761905   \n",
       "2  01    NaN       01003                    NaN          NaN          NaN   \n",
       "3  01    AIN       01004      AMBERIEU-EN-BUGEY     0.385695     0.382440   \n",
       "4  01    AIN       01005    AMBERIEUX-EN-DOMBES     0.300000     0.328125   \n",
       "\n",
       "   ppropri1962  ppropri1963  ppropri1964  ppropri1965  ...  perpropri1950  \\\n",
       "0     0.401515     0.426357     0.448819     0.483871  ...       0.527854   \n",
       "1     0.785714     0.809524     0.813953     0.837209  ...       0.967130   \n",
       "2     0.421053          NaN          NaN          NaN  ...       1.000000   \n",
       "3     0.379423     0.376618     0.374005     0.371565  ...       0.569873   \n",
       "4     0.357513     0.386598     0.413265     0.441624  ...       0.445979   \n",
       "\n",
       "   perpropri1951  perpropri1952  perpropri1953  perpropri1954  perpropri1955  \\\n",
       "0       0.527854       0.527854       0.527854       0.527854       0.527854   \n",
       "1       0.967130       0.967130       0.967130       0.967130       0.967130   \n",
       "2       1.000000       1.000000       1.000000       1.000000       1.000000   \n",
       "3       0.569873       0.569873       0.569873       0.569873       0.569873   \n",
       "4       0.445979       0.445979       0.445979       0.445979       0.445979   \n",
       "\n",
       "   perpropri1956  perpropri1957  perpropri1958  perpropri1959  \n",
       "0       0.527854       0.527854       0.527854       0.527854  \n",
       "1       0.967130       0.967130       0.967130       0.967130  \n",
       "2       1.000000       1.000000       1.000000       1.000000  \n",
       "3       0.569873       0.569873       0.569873       0.569873  \n",
       "4       0.445979       0.445979       0.445979       0.445979  \n",
       "\n",
       "[5 rows x 426 columns]"
      ]
     },
     "execution_count": 22,
     "metadata": {},
     "output_type": "execute_result"
    }
   ],
   "source": [
    "df.head(5)"
   ]
  },
  {
   "cell_type": "code",
   "execution_count": 23,
   "id": "af0aa5bf-b220-425a-abb7-478085b19a1f",
   "metadata": {},
   "outputs": [
    {
     "name": "stdout",
     "output_type": "stream",
     "text": [
      "ppropri2012\n",
      "nlogement2012\n",
      "npropri2012\n",
      "perpropri2012\n",
      "{'dep': '01', 'nomdep': 'AIN', 'codecommune': '01001', 'nomcommune': 'ABERGEMENT-CLEMENCIAT', 'ppropri2012': 0.81976742, 'nlogement2012': 344, 'npropri2012': 282, 'perpropri2012': 0.88384819}\n"
     ]
    }
   ],
   "source": [
    "dico={}\n",
    "for c in df :\n",
    "    value =df[c].iloc[0]\n",
    "    try:\n",
    "        last4char = int(c[-4:])\n",
    "        if last4char > 0 and last4char == 2012 :\n",
    "            dico[c] = value\n",
    "            print (c)\n",
    "    except ValueError as e:\n",
    "        dico[c] = value\n",
    "print (dico)\n",
    "    "
   ]
  },
  {
   "cell_type": "code",
   "execution_count": 24,
   "id": "9f83feaa-73bc-4fdf-8b5c-4a1faae00f25",
   "metadata": {},
   "outputs": [
    {
     "data": {
      "text/plain": [
       "0.8197674418604651"
      ]
     },
     "execution_count": 24,
     "metadata": {},
     "output_type": "execute_result"
    }
   ],
   "source": [
    "282 / 344"
   ]
  },
  {
   "cell_type": "code",
   "execution_count": 25,
   "id": "b3a3bebe-118e-4a9d-99a7-7ec78389cd6a",
   "metadata": {},
   "outputs": [
    {
     "data": {
      "text/plain": [
       "(37937, 426)"
      ]
     },
     "execution_count": 25,
     "metadata": {},
     "output_type": "execute_result"
    }
   ],
   "source": [
    "df.shape"
   ]
  },
  {
   "cell_type": "code",
   "execution_count": 26,
   "id": "64559a68-bd53-4364-93d3-20069ed9dd2d",
   "metadata": {},
   "outputs": [
    {
     "data": {
      "text/plain": [
       "(37937, 434)"
      ]
     },
     "execution_count": 26,
     "metadata": {},
     "output_type": "execute_result"
    }
   ],
   "source": [
    "list_yyyy = [2022,2012,2002,1992]\n",
    "list_indic = ['ppropri','nlogement']\n",
    "list_col = df.columns.tolist()\n",
    "for yyyy in list_yyyy :\n",
    "    for indic in list_indic :\n",
    "        col_source = str(indic) + str(yyyy)\n",
    "        if col_source in list_col :\n",
    "            yy=str(yyyy)[-2:]\n",
    "            new_col='PRO_'+ str(indic) + str(yy)\n",
    "            df[new_col] = df[col_source]\n",
    "\n",
    "df.shape\n"
   ]
  },
  {
   "cell_type": "code",
   "execution_count": 27,
   "id": "e5174b44-a1e2-46c9-b111-b0b077b98064",
   "metadata": {},
   "outputs": [
    {
     "data": {
      "text/html": [
       "<div>\n",
       "<style scoped>\n",
       "    .dataframe tbody tr th:only-of-type {\n",
       "        vertical-align: middle;\n",
       "    }\n",
       "\n",
       "    .dataframe tbody tr th {\n",
       "        vertical-align: top;\n",
       "    }\n",
       "\n",
       "    .dataframe thead th {\n",
       "        text-align: right;\n",
       "    }\n",
       "</style>\n",
       "<table border=\"1\" class=\"dataframe\">\n",
       "  <thead>\n",
       "    <tr style=\"text-align: right;\">\n",
       "      <th></th>\n",
       "      <th>dep</th>\n",
       "      <th>nomdep</th>\n",
       "      <th>codecommune</th>\n",
       "      <th>nomcommune</th>\n",
       "      <th>PRO_ppropri22</th>\n",
       "      <th>PRO_nlogement22</th>\n",
       "      <th>PRO_ppropri12</th>\n",
       "      <th>PRO_nlogement12</th>\n",
       "      <th>PRO_ppropri02</th>\n",
       "      <th>PRO_nlogement02</th>\n",
       "      <th>PRO_ppropri92</th>\n",
       "      <th>PRO_nlogement92</th>\n",
       "    </tr>\n",
       "  </thead>\n",
       "  <tbody>\n",
       "    <tr>\n",
       "      <th>0</th>\n",
       "      <td>01</td>\n",
       "      <td>AIN</td>\n",
       "      <td>01001</td>\n",
       "      <td>ABERGEMENT-CLEMENCIAT</td>\n",
       "      <td>0.825359</td>\n",
       "      <td>418</td>\n",
       "      <td>0.819767</td>\n",
       "      <td>344</td>\n",
       "      <td>0.806691</td>\n",
       "      <td>269.0</td>\n",
       "      <td>0.768116</td>\n",
       "      <td>207.0</td>\n",
       "    </tr>\n",
       "    <tr>\n",
       "      <th>1</th>\n",
       "      <td>01</td>\n",
       "      <td>AIN</td>\n",
       "      <td>01002</td>\n",
       "      <td>ABERGEMENT-DE-VAREY</td>\n",
       "      <td>0.809524</td>\n",
       "      <td>126</td>\n",
       "      <td>0.800000</td>\n",
       "      <td>100</td>\n",
       "      <td>0.853333</td>\n",
       "      <td>75.0</td>\n",
       "      <td>0.897059</td>\n",
       "      <td>68.0</td>\n",
       "    </tr>\n",
       "  </tbody>\n",
       "</table>\n",
       "</div>"
      ],
      "text/plain": [
       "  dep nomdep codecommune             nomcommune  PRO_ppropri22  \\\n",
       "0  01    AIN       01001  ABERGEMENT-CLEMENCIAT       0.825359   \n",
       "1  01    AIN       01002    ABERGEMENT-DE-VAREY       0.809524   \n",
       "\n",
       "   PRO_nlogement22  PRO_ppropri12  PRO_nlogement12  PRO_ppropri02  \\\n",
       "0              418       0.819767              344       0.806691   \n",
       "1              126       0.800000              100       0.853333   \n",
       "\n",
       "   PRO_nlogement02  PRO_ppropri92  PRO_nlogement92  \n",
       "0            269.0       0.768116            207.0  \n",
       "1             75.0       0.897059             68.0  "
      ]
     },
     "execution_count": 27,
     "metadata": {},
     "output_type": "execute_result"
    }
   ],
   "source": [
    "df = df.drop(df.columns[4:426], axis=1)\n",
    "df.head(2)"
   ]
  },
  {
   "cell_type": "code",
   "execution_count": 28,
   "id": "6847076f-cfab-4a8d-86a9-643225cc710c",
   "metadata": {},
   "outputs": [
    {
     "data": {
      "text/plain": [
       "dep                   0\n",
       "nomdep             1375\n",
       "codecommune           0\n",
       "nomcommune         1375\n",
       "PRO_ppropri22      1392\n",
       "PRO_nlogement22       0\n",
       "PRO_ppropri12      1377\n",
       "PRO_nlogement12       0\n",
       "PRO_ppropri02      1374\n",
       "PRO_nlogement02    1374\n",
       "PRO_ppropri92      1397\n",
       "PRO_nlogement92    1396\n",
       "dtype: int64"
      ]
     },
     "execution_count": 28,
     "metadata": {},
     "output_type": "execute_result"
    }
   ],
   "source": [
    "df.isna().sum()"
   ]
  },
  {
   "cell_type": "code",
   "execution_count": 29,
   "id": "0b693e2e-c6f7-4375-aaca-f0fa37bbcc41",
   "metadata": {},
   "outputs": [
    {
     "data": {
      "text/plain": [
       "(37937, 37937)"
      ]
     },
     "execution_count": 29,
     "metadata": {},
     "output_type": "execute_result"
    }
   ],
   "source": [
    "df['codecommune'].nunique(),len(df)"
   ]
  },
  {
   "cell_type": "markdown",
   "id": "fbfee32e-517c-43a1-b4a8-256c3c6cdeac",
   "metadata": {},
   "source": [
    "## <a name=\"TRANSCO\"></a>Partie 3 : Filtres et/ou calculs&nbsp;&nbsp;&nbsp;&nbsp;&nbsp;<a href=\"#TOP\">&uarr;</a>"
   ]
  },
  {
   "cell_type": "code",
   "execution_count": 30,
   "id": "586534db-a6ba-40ed-a468-fae73a41273e",
   "metadata": {},
   "outputs": [
    {
     "name": "stdout",
     "output_type": "stream",
     "text": [
      "['01001', '01002', '01004', '01005', '01006', '01007', '01008', '01009', '01010', '01011'] 33830\n"
     ]
    }
   ],
   "source": [
    "file_path = '../DATA/list_codecommune_leg2022_50inscrits.txt'\n",
    "\n",
    "# Open the text file and read lines into a list\n",
    "with open(file_path, 'r', encoding='utf-8') as file:\n",
    "    lines = [line.strip() for line in file.readlines()]\n",
    "\n",
    "# Print or manipulate the list of lines as needed\n",
    "print(lines[0:10], len(lines))"
   ]
  },
  {
   "cell_type": "code",
   "execution_count": 31,
   "id": "03039577-4fa4-4435-b16e-f34e14e9db9f",
   "metadata": {},
   "outputs": [
    {
     "data": {
      "text/plain": [
       "((33803, 12), (37937, 12))"
      ]
     },
     "execution_count": 31,
     "metadata": {},
     "output_type": "execute_result"
    }
   ],
   "source": [
    "df_filtered = df[df['codecommune'].isin(lines)]\n",
    "df_filtered.shape,df.shape"
   ]
  },
  {
   "cell_type": "code",
   "execution_count": 32,
   "id": "725e8504-c42f-4817-a33d-7531ac607c87",
   "metadata": {},
   "outputs": [
    {
     "data": {
      "text/plain": [
       "('01002', 33803)"
      ]
     },
     "execution_count": 32,
     "metadata": {},
     "output_type": "execute_result"
    }
   ],
   "source": [
    "codecommune_listdf_filtered= df_filtered['codecommune'].tolist()\n",
    "codecommune_listdf_filtered[1], len(codecommune_listdf_filtered)"
   ]
  },
  {
   "cell_type": "code",
   "execution_count": 33,
   "id": "d961e81b-2143-4343-b848-2d7effed3f5b",
   "metadata": {},
   "outputs": [
    {
     "data": {
      "text/plain": [
       "27"
      ]
     },
     "execution_count": 33,
     "metadata": {},
     "output_type": "execute_result"
    }
   ],
   "source": [
    "absent = [x for x in lines if x not in codecommune_listdf_filtered]\n",
    "len (absent)"
   ]
  },
  {
   "cell_type": "code",
   "execution_count": 34,
   "id": "ecf530ad-3eec-47dd-9932-a0d70ee4f8a7",
   "metadata": {},
   "outputs": [
    {
     "data": {
      "text/plain": [
       "['13201',\n",
       " '13202',\n",
       " '13203',\n",
       " '13204',\n",
       " '13205',\n",
       " '13206',\n",
       " '13207',\n",
       " '13208',\n",
       " '13209',\n",
       " '13210',\n",
       " '13211',\n",
       " '13212',\n",
       " '13213',\n",
       " '13214',\n",
       " '13215',\n",
       " '13216',\n",
       " '69281',\n",
       " '69282',\n",
       " '69283',\n",
       " '69284',\n",
       " '69285',\n",
       " '69286',\n",
       " '69287',\n",
       " '69288',\n",
       " '69289',\n",
       " '69380',\n",
       " '75056']"
      ]
     },
     "execution_count": 34,
     "metadata": {},
     "output_type": "execute_result"
    }
   ],
   "source": [
    "absent"
   ]
  },
  {
   "cell_type": "code",
   "execution_count": 35,
   "id": "bee5655c-c806-4604-9982-5d567a24b7a1",
   "metadata": {},
   "outputs": [],
   "source": [
    "df_filtered['DBL_bug'] = 0"
   ]
  },
  {
   "cell_type": "code",
   "execution_count": 36,
   "id": "faf7578c-aa34-4f8b-a025-7b385c20a2b0",
   "metadata": {},
   "outputs": [
    {
     "data": {
      "text/html": [
       "<div>\n",
       "<style scoped>\n",
       "    .dataframe tbody tr th:only-of-type {\n",
       "        vertical-align: middle;\n",
       "    }\n",
       "\n",
       "    .dataframe tbody tr th {\n",
       "        vertical-align: top;\n",
       "    }\n",
       "\n",
       "    .dataframe thead th {\n",
       "        text-align: right;\n",
       "    }\n",
       "</style>\n",
       "<table border=\"1\" class=\"dataframe\">\n",
       "  <thead>\n",
       "    <tr style=\"text-align: right;\">\n",
       "      <th></th>\n",
       "      <th>dep</th>\n",
       "      <th>nomdep</th>\n",
       "      <th>codecommune</th>\n",
       "      <th>nomcommune</th>\n",
       "      <th>PRO_ppropri22</th>\n",
       "      <th>PRO_nlogement22</th>\n",
       "      <th>PRO_ppropri12</th>\n",
       "      <th>PRO_nlogement12</th>\n",
       "      <th>PRO_ppropri02</th>\n",
       "      <th>PRO_nlogement02</th>\n",
       "      <th>PRO_ppropri92</th>\n",
       "      <th>PRO_nlogement92</th>\n",
       "      <th>DBL_bug</th>\n",
       "    </tr>\n",
       "  </thead>\n",
       "  <tbody>\n",
       "    <tr>\n",
       "      <th>0</th>\n",
       "      <td>01</td>\n",
       "      <td>AIN</td>\n",
       "      <td>01001</td>\n",
       "      <td>ABERGEMENT-CLEMENCIAT</td>\n",
       "      <td>0.825359</td>\n",
       "      <td>418</td>\n",
       "      <td>0.819767</td>\n",
       "      <td>344</td>\n",
       "      <td>0.806691</td>\n",
       "      <td>269.0</td>\n",
       "      <td>0.768116</td>\n",
       "      <td>207.0</td>\n",
       "      <td>0</td>\n",
       "    </tr>\n",
       "  </tbody>\n",
       "</table>\n",
       "</div>"
      ],
      "text/plain": [
       "  dep nomdep codecommune             nomcommune  PRO_ppropri22  \\\n",
       "0  01    AIN       01001  ABERGEMENT-CLEMENCIAT       0.825359   \n",
       "\n",
       "   PRO_nlogement22  PRO_ppropri12  PRO_nlogement12  PRO_ppropri02  \\\n",
       "0              418       0.819767              344       0.806691   \n",
       "\n",
       "   PRO_nlogement02  PRO_ppropri92  PRO_nlogement92  DBL_bug  \n",
       "0            269.0       0.768116            207.0        0  "
      ]
     },
     "execution_count": 36,
     "metadata": {},
     "output_type": "execute_result"
    }
   ],
   "source": [
    "df_filtered.head(1)"
   ]
  },
  {
   "cell_type": "code",
   "execution_count": 37,
   "id": "3e64a0fb-35a4-4332-bc41-928d50127dce",
   "metadata": {},
   "outputs": [
    {
     "data": {
      "text/plain": [
       "(33803, 13)"
      ]
     },
     "execution_count": 37,
     "metadata": {},
     "output_type": "execute_result"
    }
   ],
   "source": [
    "df_filtered.shape"
   ]
  },
  {
   "cell_type": "code",
   "execution_count": 38,
   "id": "7f6301ca-9ce6-4da8-93bf-81fcf7962004",
   "metadata": {},
   "outputs": [
    {
     "data": {
      "text/plain": [
       "(33830, 13)"
      ]
     },
     "execution_count": 38,
     "metadata": {},
     "output_type": "execute_result"
    }
   ],
   "source": [
    "for i,code in enumerate(absent) :\n",
    "    new_row = ['*', '*', code, '*', np.nan, np.nan, np.nan, np.nan, np.nan, np.nan, np.nan, np.nan, 1]\n",
    "    row_df = pd.DataFrame([new_row], columns=df_filtered.columns)\n",
    "    df_filtered = pd.concat([df_filtered, row_df], ignore_index=True)\n",
    "df_filtered.shape"
   ]
  },
  {
   "cell_type": "code",
   "execution_count": 40,
   "id": "32cc8b63-da59-4778-a227-8e4c1cd31067",
   "metadata": {},
   "outputs": [
    {
     "data": {
      "text/plain": [
       "27"
      ]
     },
     "execution_count": 40,
     "metadata": {},
     "output_type": "execute_result"
    }
   ],
   "source": [
    "33830-33803"
   ]
  },
  {
   "cell_type": "code",
   "execution_count": 41,
   "id": "d76d74fa-da7e-402c-8096-ea3d7f47f227",
   "metadata": {},
   "outputs": [
    {
     "data": {
      "text/plain": [
       "dep                 0\n",
       "nomdep             11\n",
       "codecommune         0\n",
       "nomcommune         11\n",
       "PRO_ppropri22      63\n",
       "PRO_nlogement22    27\n",
       "PRO_ppropri12      55\n",
       "PRO_nlogement12    27\n",
       "PRO_ppropri02      54\n",
       "PRO_nlogement02    54\n",
       "PRO_ppropri92      88\n",
       "PRO_nlogement92    88\n",
       "DBL_bug             0\n",
       "dtype: int64"
      ]
     },
     "execution_count": 41,
     "metadata": {},
     "output_type": "execute_result"
    }
   ],
   "source": [
    "df_filtered.isna().sum()"
   ]
  },
  {
   "cell_type": "code",
   "execution_count": 113,
   "id": "cd31b619-bf63-4b59-a198-433b8fc91a96",
   "metadata": {},
   "outputs": [
    {
     "data": {
      "text/plain": [
       "33830"
      ]
     },
     "execution_count": 113,
     "metadata": {},
     "output_type": "execute_result"
    }
   ],
   "source": [
    "len(lines)"
   ]
  },
  {
   "cell_type": "code",
   "execution_count": 114,
   "id": "d003b9a0-0bb3-46e0-ba38-7404e8e5e432",
   "metadata": {},
   "outputs": [
    {
     "data": {
      "text/plain": [
       "33830"
      ]
     },
     "execution_count": 114,
     "metadata": {},
     "output_type": "execute_result"
    }
   ],
   "source": [
    "len(df_filtered)"
   ]
  },
  {
   "cell_type": "markdown",
   "id": "352451f1-99da-4ac0-a95a-8deb6ac94389",
   "metadata": {},
   "source": [
    "## <a name=\"EXPORT\"></a>Partie 4 : EXPORT&nbsp;&nbsp;&nbsp;&nbsp;&nbsp;<a href=\"#TOP\">&uarr;</a>\n",
    "\n"
   ]
  },
  {
   "cell_type": "code",
   "execution_count": 115,
   "id": "d6c0262e-c161-4364-8ee0-353db9958a0a",
   "metadata": {},
   "outputs": [
    {
     "name": "stdout",
     "output_type": "stream",
     "text": [
      "0 dep\n",
      "1 nomdep\n",
      "2 codecommune\n",
      "3 nomcommune\n",
      "4 KP1_capitalimmo22\n",
      "5 KP1_prixbien22\n",
      "6 KP1_capitalimmo12\n",
      "7 KP1_prixbien12\n",
      "8 KP1_capitalimmo02\n",
      "9 KP1_prixbien02\n",
      "10 KP1_capitalimmo92\n",
      "11 KP1_prixbien92\n",
      "12 DBL_bug\n"
     ]
    }
   ],
   "source": [
    "for i,c in enumerate(df_filtered) : \n",
    "    print (i,c)"
   ]
  },
  {
   "cell_type": "code",
   "execution_count": 42,
   "id": "01e85959-eaab-4e7a-8dc5-55ffcac8bf0a",
   "metadata": {},
   "outputs": [],
   "source": [
    "path_export='../DATA/EXPORT_CSV/final_PRO_proprietairescommunes.csv'"
   ]
  },
  {
   "cell_type": "code",
   "execution_count": 43,
   "id": "2f9fa22a-3237-4131-9fae-b4604341807f",
   "metadata": {},
   "outputs": [
    {
     "name": "stdout",
     "output_type": "stream",
     "text": [
      "DataFrame exported to: ../DATA/EXPORT_CSV/final_PRO_proprietairescommunes.csv\n"
     ]
    }
   ],
   "source": [
    "df_filtered.to_csv(path_export, sep=';', index=False)\n",
    "\n",
    "print(f'DataFrame exported to: {path_export}')"
   ]
  },
  {
   "cell_type": "code",
   "execution_count": null,
   "id": "d7c7efd6-a789-4a43-85dc-94c4dc7ec3a7",
   "metadata": {},
   "outputs": [],
   "source": []
  }
 ],
 "metadata": {
  "kernelspec": {
   "display_name": "Python 3 (ipykernel)",
   "language": "python",
   "name": "python3"
  },
  "language_info": {
   "codemirror_mode": {
    "name": "ipython",
    "version": 3
   },
   "file_extension": ".py",
   "mimetype": "text/x-python",
   "name": "python",
   "nbconvert_exporter": "python",
   "pygments_lexer": "ipython3",
   "version": "3.10.12"
  }
 },
 "nbformat": 4,
 "nbformat_minor": 5
}
