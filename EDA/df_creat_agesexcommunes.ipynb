{
 "cells": [
  {
   "cell_type": "markdown",
   "id": "ea3e4cdc-4ad0-480e-8a5e-0e4e4dee9ac3",
   "metadata": {},
   "source": [
    "# <center>  Model Creat Dataframe agesexcommunes [AGE]<br/></center>\n",
    "<a name=\"TOP\"></a>\n",
    "- dev : nyx\n",
    "- Fichier CSV : Proprietaires_csv/Proprietaires_csv/proprietairescommunes.csv</a>\n",
    "\n",
    "ALERTES 98 lignes à Nan \n",
    "Faire les plus proches voisins apres FUSION ?\n",
    "    \n",
    "# Description Fichiers : \n",
    "Capital immo pour 2022 , 2012 , 2002 , 1992\n",
    "avec pour chaque année :\n",
    "    4 capital immo\n",
    "    5 prix du bien\n",
    "\n",
    "# Synthese des Actions :\n",
    "Plus de 1000 communes non renseignees flag 1 pour BL_bug\n",
    "creation de lignes avec que des 0\n",
    "  \n",
    "**<u>MENU</u>** \n",
    "- <a href=\"#Import\">P0 : Import CSV</a>\n",
    "- <a href=\"#EDA\">P1 : Mini EDA</a>\n",
    "- <a href=\"#Nan\">P2 : Traitement des Nan</a>\n",
    "- <a href=\"#TRANSCO\">P3 : Filtres et/ou calculs</a>\n",
    "- <a href=\"#EXPORT\">P4 : EXPORT (/DATA/EXPORT_CSV/final_xxxxxxx.csv)</a>\n",
    "\n",
    "\n",
    "\n"
   ]
  },
  {
   "cell_type": "markdown",
   "id": "ca339594-e0cb-478d-b4fb-3e1af6de883d",
   "metadata": {},
   "source": [
    "PREFIXE FICHIER : KP1\n",
    "Structure :\n",
    "\n",
    "    0 dep\n",
    "    1 nomdep\n",
    "    2 codecommune\n",
    "    3 nomcommune\n",
    "    4 KP1_capitalimmo22\n",
    "    5 KP1_prixbien22\n",
    "    6 KP1_capitalimmo12\n",
    "    7 KP1_prixbien12\n",
    "    8 KP1_capitalimmo02\n",
    "    9 KP1_prixbien02\n",
    "    10 KP1_capitalimmo92\n",
    "    11 KP1_prixbien92\n",
    "    12 DBL_bug (flag à 1 poour les lignes ajoutées avec des Nan A TRAITER)\n",
    "\n",
    "\n"
   ]
  },
  {
   "cell_type": "code",
   "execution_count": 73,
   "id": "95d983a2-4b3e-4b94-855b-bf6d33d4ba75",
   "metadata": {},
   "outputs": [],
   "source": [
    "import warnings\n",
    "warnings.filterwarnings(\"ignore\")\n",
    "\n",
    "import os\n",
    "import zipfile\n",
    "import pandas as pd\n",
    "import numpy as np\n",
    "\n",
    "import seaborn as sns\n",
    "import matplotlib.pyplot as plt"
   ]
  },
  {
   "cell_type": "markdown",
   "id": "baa4ba11-c303-401b-b654-f6d5a2f6b7b4",
   "metadata": {},
   "source": [
    "## <a name=\"Import\"></a>Partie 0 : Import CSV&nbsp;&nbsp;&nbsp;&nbsp;&nbsp; <a href=\"#TOP\">&uarr;</a>"
   ]
  },
  {
   "cell_type": "code",
   "execution_count": 74,
   "id": "64bd9ee9-428d-4c50-8304-e1a2635a352b",
   "metadata": {},
   "outputs": [],
   "source": [
    "def df_creat(filename, df_dataframe):  \n",
    "    df = df_dataframe[df_dataframe['filename'] == filename]\n",
    "    if len(df) == 1:\n",
    "        row = df.iloc[0]\n",
    "        file = row['path']\n",
    "        if os.path.exists(file):\n",
    "            print(file)\n",
    "            df_from_csv = pd.read_csv(file, encoding='utf-8', low_memory=False)\n",
    "            return df_from_csv\n",
    "        else:\n",
    "            print('FICHIER NON TROUVE', file)\n",
    "            return pd.DataFrame()\n",
    "    else:\n",
    "        print(f\"filename: '{filename}' return size: {len(df)}\")\n",
    "        return pd.DataFrame()"
   ]
  },
  {
   "cell_type": "code",
   "execution_count": 75,
   "id": "4b858715-3881-4cae-b6f1-59d3e10d9276",
   "metadata": {},
   "outputs": [],
   "source": [
    "csv_file_path = 'df_filtred.csv'\n",
    "# Use pandas to read the CSV file into a DataFrame with UTF-8 encoding\n",
    "df_cat = pd.read_csv(csv_file_path, encoding='utf-8')"
   ]
  },
  {
   "cell_type": "code",
   "execution_count": 76,
   "id": "677ef87c-1d20-4ea9-b483-24fcc6557f7d",
   "metadata": {},
   "outputs": [
    {
     "data": {
      "text/html": [
       "<div>\n",
       "<style scoped>\n",
       "    .dataframe tbody tr th:only-of-type {\n",
       "        vertical-align: middle;\n",
       "    }\n",
       "\n",
       "    .dataframe tbody tr th {\n",
       "        vertical-align: top;\n",
       "    }\n",
       "\n",
       "    .dataframe thead th {\n",
       "        text-align: right;\n",
       "    }\n",
       "</style>\n",
       "<table border=\"1\" class=\"dataframe\">\n",
       "  <thead>\n",
       "    <tr style=\"text-align: right;\">\n",
       "      <th></th>\n",
       "      <th>category</th>\n",
       "      <th>filename</th>\n",
       "      <th>comment</th>\n",
       "      <th>size</th>\n",
       "      <th>depart</th>\n",
       "      <th>district</th>\n",
       "      <th>commune</th>\n",
       "      <th>canton</th>\n",
       "      <th>yyyy</th>\n",
       "      <th>path</th>\n",
       "      <th>codecommune</th>\n",
       "    </tr>\n",
       "  </thead>\n",
       "  <tbody>\n",
       "    <tr>\n",
       "      <th>0</th>\n",
       "      <td>Taille_agglo_commune_csv</td>\n",
       "      <td>codescommunes1999</td>\n",
       "      <td>codes</td>\n",
       "      <td>0</td>\n",
       "      <td>0</td>\n",
       "      <td>0</td>\n",
       "      <td>1</td>\n",
       "      <td>0</td>\n",
       "      <td>1999</td>\n",
       "      <td>../../ProjetCommun/DATA_SOURCES/HCP/Taille_agg...</td>\n",
       "      <td>1</td>\n",
       "    </tr>\n",
       "  </tbody>\n",
       "</table>\n",
       "</div>"
      ],
      "text/plain": [
       "                   category           filename comment  size  depart  \\\n",
       "0  Taille_agglo_commune_csv  codescommunes1999   codes     0       0   \n",
       "\n",
       "   district  commune  canton  yyyy  \\\n",
       "0         0        1       0  1999   \n",
       "\n",
       "                                                path  codecommune  \n",
       "0  ../../ProjetCommun/DATA_SOURCES/HCP/Taille_agg...            1  "
      ]
     },
     "execution_count": 76,
     "metadata": {},
     "output_type": "execute_result"
    }
   ],
   "source": [
    "df_cat.head(1)"
   ]
  },
  {
   "cell_type": "code",
   "execution_count": 77,
   "id": "cad20927-5d97-49d4-ae0b-fab1a76b4d98",
   "metadata": {},
   "outputs": [
    {
     "name": "stdout",
     "output_type": "stream",
     "text": [
      "['01001', '01002', '01004', '01005', '01006', '01007', '01008', '01009', '01010', '01011'] 33830\n"
     ]
    }
   ],
   "source": [
    "file_path = '../DATA/list_codecommune_leg2022_50inscrits.txt'\n",
    "\n",
    "# Open the text file and read lines into a list\n",
    "with open(file_path, 'r', encoding='utf-8') as file:\n",
    "    lines = [line.strip() for line in file.readlines()]\n",
    "\n",
    "# Print or manipulate the list of lines as needed\n",
    "print(lines[0:10], len(lines))"
   ]
  },
  {
   "cell_type": "code",
   "execution_count": 78,
   "id": "04da4fb3-c6ba-4332-9b2a-872c14a87126",
   "metadata": {},
   "outputs": [
    {
     "name": "stdout",
     "output_type": "stream",
     "text": [
      "../../ProjetCommun/DATA_SOURCES/HCP/Age_csp/agesexcommunes.csv\n"
     ]
    }
   ],
   "source": [
    "df = df_creat('agesexcommunes', df_cat)"
   ]
  },
  {
   "cell_type": "markdown",
   "id": "6647aa81-cb46-45dd-a922-b069be341809",
   "metadata": {},
   "source": [
    "## <a name=\"EDA\"></a>Partie 1 : Mini EDA &nbsp;&nbsp;&nbsp;&nbsp;&nbsp; <a href=\"#TOP\">&uarr;</a>"
   ]
  },
  {
   "cell_type": "code",
   "execution_count": 79,
   "id": "cd6d2a1b-246e-4d37-907b-e133b079fa9f",
   "metadata": {},
   "outputs": [
    {
     "data": {
      "text/plain": [
       "(37985, 2385)"
      ]
     },
     "execution_count": 79,
     "metadata": {},
     "output_type": "execute_result"
    }
   ],
   "source": [
    "df.shape"
   ]
  },
  {
   "cell_type": "code",
   "execution_count": 80,
   "id": "594cdd42-69ef-4827-8497-f933f546c1ec",
   "metadata": {},
   "outputs": [
    {
     "data": {
      "text/html": [
       "<div>\n",
       "<style scoped>\n",
       "    .dataframe tbody tr th:only-of-type {\n",
       "        vertical-align: middle;\n",
       "    }\n",
       "\n",
       "    .dataframe tbody tr th {\n",
       "        vertical-align: top;\n",
       "    }\n",
       "\n",
       "    .dataframe thead th {\n",
       "        text-align: right;\n",
       "    }\n",
       "</style>\n",
       "<table border=\"1\" class=\"dataframe\">\n",
       "  <thead>\n",
       "    <tr style=\"text-align: right;\">\n",
       "      <th></th>\n",
       "      <th>dep</th>\n",
       "      <th>nomdep</th>\n",
       "      <th>codecommune</th>\n",
       "      <th>nomcommune</th>\n",
       "      <th>poph0141962</th>\n",
       "      <th>poph15391962</th>\n",
       "      <th>poph40591962</th>\n",
       "      <th>poph60p1962</th>\n",
       "      <th>popf0141962</th>\n",
       "      <th>popf15391962</th>\n",
       "      <th>...</th>\n",
       "      <th>perprop0141957</th>\n",
       "      <th>perprop60p1957</th>\n",
       "      <th>perpropf1958</th>\n",
       "      <th>perage1958</th>\n",
       "      <th>perprop0141958</th>\n",
       "      <th>perprop60p1958</th>\n",
       "      <th>perpropf1959</th>\n",
       "      <th>perage1959</th>\n",
       "      <th>perprop0141959</th>\n",
       "      <th>perprop60p1959</th>\n",
       "    </tr>\n",
       "  </thead>\n",
       "  <tbody>\n",
       "    <tr>\n",
       "      <th>0</th>\n",
       "      <td>25</td>\n",
       "      <td>DOUBS</td>\n",
       "      <td>25443</td>\n",
       "      <td>PALANTINE</td>\n",
       "      <td>5.0</td>\n",
       "      <td>5.0</td>\n",
       "      <td>6.0</td>\n",
       "      <td>3.0</td>\n",
       "      <td>7.0</td>\n",
       "      <td>6.0</td>\n",
       "      <td>...</td>\n",
       "      <td>0.929899</td>\n",
       "      <td>0.093060</td>\n",
       "      <td>0.946069</td>\n",
       "      <td>0.006167</td>\n",
       "      <td>0.929899</td>\n",
       "      <td>0.093060</td>\n",
       "      <td>0.946069</td>\n",
       "      <td>0.006167</td>\n",
       "      <td>0.929899</td>\n",
       "      <td>0.093060</td>\n",
       "    </tr>\n",
       "    <tr>\n",
       "      <th>1</th>\n",
       "      <td>70</td>\n",
       "      <td>HAUTE-SAONE</td>\n",
       "      <td>70440</td>\n",
       "      <td>RECOLOGNE</td>\n",
       "      <td>3.0</td>\n",
       "      <td>6.0</td>\n",
       "      <td>4.0</td>\n",
       "      <td>2.0</td>\n",
       "      <td>3.0</td>\n",
       "      <td>5.0</td>\n",
       "      <td>...</td>\n",
       "      <td>0.355285</td>\n",
       "      <td>0.711124</td>\n",
       "      <td>0.112636</td>\n",
       "      <td>0.088098</td>\n",
       "      <td>0.355285</td>\n",
       "      <td>0.711124</td>\n",
       "      <td>0.112636</td>\n",
       "      <td>0.088098</td>\n",
       "      <td>0.355285</td>\n",
       "      <td>0.711124</td>\n",
       "    </tr>\n",
       "    <tr>\n",
       "      <th>2</th>\n",
       "      <td>21</td>\n",
       "      <td>COTE-D'OR</td>\n",
       "      <td>21276</td>\n",
       "      <td>FONTAINES-EN-DUESMOIS</td>\n",
       "      <td>32.0</td>\n",
       "      <td>37.0</td>\n",
       "      <td>24.0</td>\n",
       "      <td>16.0</td>\n",
       "      <td>29.0</td>\n",
       "      <td>22.0</td>\n",
       "      <td>...</td>\n",
       "      <td>0.938310</td>\n",
       "      <td>0.188820</td>\n",
       "      <td>0.043178</td>\n",
       "      <td>0.144777</td>\n",
       "      <td>0.938310</td>\n",
       "      <td>0.188820</td>\n",
       "      <td>0.043178</td>\n",
       "      <td>0.144777</td>\n",
       "      <td>0.938310</td>\n",
       "      <td>0.188820</td>\n",
       "    </tr>\n",
       "    <tr>\n",
       "      <th>3</th>\n",
       "      <td>31</td>\n",
       "      <td>HAUTE-GARONNE</td>\n",
       "      <td>31266</td>\n",
       "      <td>LAHAGE</td>\n",
       "      <td>6.0</td>\n",
       "      <td>94.0</td>\n",
       "      <td>17.0</td>\n",
       "      <td>10.0</td>\n",
       "      <td>8.0</td>\n",
       "      <td>14.0</td>\n",
       "      <td>...</td>\n",
       "      <td>0.003273</td>\n",
       "      <td>0.089764</td>\n",
       "      <td>0.001752</td>\n",
       "      <td>0.149059</td>\n",
       "      <td>0.003273</td>\n",
       "      <td>0.089764</td>\n",
       "      <td>0.001752</td>\n",
       "      <td>0.149059</td>\n",
       "      <td>0.003273</td>\n",
       "      <td>0.089764</td>\n",
       "    </tr>\n",
       "    <tr>\n",
       "      <th>4</th>\n",
       "      <td>06</td>\n",
       "      <td>ALPES-MARITIMES</td>\n",
       "      <td>06076</td>\n",
       "      <td>LIEUCHE</td>\n",
       "      <td>1.0</td>\n",
       "      <td>3.0</td>\n",
       "      <td>4.0</td>\n",
       "      <td>2.0</td>\n",
       "      <td>2.0</td>\n",
       "      <td>5.0</td>\n",
       "      <td>...</td>\n",
       "      <td>0.069635</td>\n",
       "      <td>0.323348</td>\n",
       "      <td>0.509821</td>\n",
       "      <td>0.861277</td>\n",
       "      <td>0.069635</td>\n",
       "      <td>0.323348</td>\n",
       "      <td>0.509821</td>\n",
       "      <td>0.861277</td>\n",
       "      <td>0.069635</td>\n",
       "      <td>0.323348</td>\n",
       "    </tr>\n",
       "  </tbody>\n",
       "</table>\n",
       "<p>5 rows × 2385 columns</p>\n",
       "</div>"
      ],
      "text/plain": [
       "  dep           nomdep codecommune             nomcommune  poph0141962  \\\n",
       "0  25            DOUBS       25443              PALANTINE          5.0   \n",
       "1  70      HAUTE-SAONE       70440              RECOLOGNE          3.0   \n",
       "2  21        COTE-D'OR       21276  FONTAINES-EN-DUESMOIS         32.0   \n",
       "3  31    HAUTE-GARONNE       31266                 LAHAGE          6.0   \n",
       "4  06  ALPES-MARITIMES       06076                LIEUCHE          1.0   \n",
       "\n",
       "   poph15391962  poph40591962  poph60p1962  popf0141962  popf15391962  ...  \\\n",
       "0           5.0           6.0          3.0          7.0           6.0  ...   \n",
       "1           6.0           4.0          2.0          3.0           5.0  ...   \n",
       "2          37.0          24.0         16.0         29.0          22.0  ...   \n",
       "3          94.0          17.0         10.0          8.0          14.0  ...   \n",
       "4           3.0           4.0          2.0          2.0           5.0  ...   \n",
       "\n",
       "   perprop0141957  perprop60p1957  perpropf1958  perage1958  perprop0141958  \\\n",
       "0        0.929899        0.093060      0.946069    0.006167        0.929899   \n",
       "1        0.355285        0.711124      0.112636    0.088098        0.355285   \n",
       "2        0.938310        0.188820      0.043178    0.144777        0.938310   \n",
       "3        0.003273        0.089764      0.001752    0.149059        0.003273   \n",
       "4        0.069635        0.323348      0.509821    0.861277        0.069635   \n",
       "\n",
       "   perprop60p1958  perpropf1959  perage1959  perprop0141959  perprop60p1959  \n",
       "0        0.093060      0.946069    0.006167        0.929899        0.093060  \n",
       "1        0.711124      0.112636    0.088098        0.355285        0.711124  \n",
       "2        0.188820      0.043178    0.144777        0.938310        0.188820  \n",
       "3        0.089764      0.001752    0.149059        0.003273        0.089764  \n",
       "4        0.323348      0.509821    0.861277        0.069635        0.323348  \n",
       "\n",
       "[5 rows x 2385 columns]"
      ]
     },
     "execution_count": 80,
     "metadata": {},
     "output_type": "execute_result"
    }
   ],
   "source": [
    "df.head(5)"
   ]
  },
  {
   "cell_type": "code",
   "execution_count": 81,
   "id": "af0aa5bf-b220-425a-abb7-478085b19a1f",
   "metadata": {},
   "outputs": [
    {
     "name": "stdout",
     "output_type": "stream",
     "text": [
      "popf0142022\n",
      "popf15392022\n",
      "popf40592022\n",
      "popf60p2022\n",
      "poph0142022\n",
      "poph15392022\n",
      "poph40592022\n",
      "poph60p2022\n",
      "agef2022\n",
      "ageh2022\n",
      "popf2022\n",
      "poph2022\n",
      "propf2022\n",
      "age2022\n",
      "pop2022\n",
      "propf0142022\n",
      "propf15392022\n",
      "propf40592022\n",
      "propf60p2022\n",
      "prop0142022\n",
      "prop15392022\n",
      "prop40592022\n",
      "prop60p2022\n",
      "perpropf2022\n",
      "perage2022\n",
      "perprop0142022\n",
      "perprop60p2022\n",
      "{'dep': '25', 'nomdep': 'DOUBS', 'codecommune': '25443', 'nomcommune': 'PALANTINE', 'popf0142022': 33, 'popf15392022': 34, 'popf40592022': 1, 'popf60p2022': 0, 'poph0142022': 39, 'poph15392022': 12, 'poph40592022': 8, 'poph60p2022': 0, 'agef2022': 18.0, 'ageh2022': 18.0, 'popf2022': 68, 'poph2022': 59, 'propf2022': 0.53543305, 'age2022': 18.0, 'pop2022': 127, 'propf0142022': 0.45833334, 'propf15392022': 0.73913044, 'propf40592022': 0.11111111, 'propf60p2022': nan, 'prop0142022': 0.56692916, 'prop15392022': 0.36220473, 'prop40592022': 0.070866145, 'prop60p2022': 0.0, 'perpropf2022': 0.77785933, 'perage2022': 8.2635539e-05, 'perprop0142022': 0.99995488, 'perprop60p2022': 1.8888974e-06}\n"
     ]
    }
   ],
   "source": [
    "dico={}\n",
    "for c in df :\n",
    "    value =df[c].iloc[0]\n",
    "    try:\n",
    "        last4char = int(c[-4:])\n",
    "        if last4char > 0 and last4char == 2022 :\n",
    "            dico[c] = value\n",
    "            print (c)\n",
    "    except ValueError as e:\n",
    "        dico[c] = value\n",
    "print (dico)\n",
    "    "
   ]
  },
  {
   "cell_type": "code",
   "execution_count": 82,
   "id": "8f8e1935-ead2-4706-9e1d-2dc208e8b746",
   "metadata": {},
   "outputs": [
    {
     "data": {
      "text/plain": [
       "(37985, 2385)"
      ]
     },
     "execution_count": 82,
     "metadata": {},
     "output_type": "execute_result"
    }
   ],
   "source": [
    "df.shape"
   ]
  },
  {
   "cell_type": "code",
   "execution_count": 83,
   "id": "9804fc64-6055-4209-a3ed-9863dcc2f37c",
   "metadata": {},
   "outputs": [
    {
     "data": {
      "text/plain": [
       "(37985, 2469)"
      ]
     },
     "execution_count": 83,
     "metadata": {},
     "output_type": "execute_result"
    }
   ],
   "source": [
    "list_yyyy = [2022,2012,2002,1992]\n",
    "list_indic = ['pop','propf',\n",
    "              'popf014','popf1539','popf4059','popf60p',\n",
    "              'poph014','poph1539','poph4059','poph60p',              \n",
    "              'prop014','prop1539','prop4059','prop60p',\n",
    "              'propf014','propf1539','propf4059','propf60p',\n",
    "              'age','agef','ageh']\n",
    "list_col = df.columns.tolist()\n",
    "for yyyy in list_yyyy :\n",
    "    for indic in list_indic :\n",
    "        col_source = str(indic) + str(yyyy)\n",
    "        if col_source in list_col :\n",
    "            yy=str(yyyy)[-2:]\n",
    "            new_col='AGE_'+ str(indic) +'_'+ str(yy)\n",
    "            df[new_col] = df[col_source]\n",
    "df.shape"
   ]
  },
  {
   "cell_type": "code",
   "execution_count": 84,
   "id": "b36dd08b-86ae-44d5-bb48-7e10ea832840",
   "metadata": {},
   "outputs": [
    {
     "data": {
      "text/html": [
       "<div>\n",
       "<style scoped>\n",
       "    .dataframe tbody tr th:only-of-type {\n",
       "        vertical-align: middle;\n",
       "    }\n",
       "\n",
       "    .dataframe tbody tr th {\n",
       "        vertical-align: top;\n",
       "    }\n",
       "\n",
       "    .dataframe thead th {\n",
       "        text-align: right;\n",
       "    }\n",
       "</style>\n",
       "<table border=\"1\" class=\"dataframe\">\n",
       "  <thead>\n",
       "    <tr style=\"text-align: right;\">\n",
       "      <th></th>\n",
       "      <th>dep</th>\n",
       "      <th>nomdep</th>\n",
       "      <th>codecommune</th>\n",
       "      <th>nomcommune</th>\n",
       "      <th>AGE_pop_22</th>\n",
       "      <th>AGE_propf_22</th>\n",
       "      <th>AGE_popf014_22</th>\n",
       "      <th>AGE_popf1539_22</th>\n",
       "      <th>AGE_popf4059_22</th>\n",
       "      <th>AGE_popf60p_22</th>\n",
       "      <th>...</th>\n",
       "      <th>AGE_prop1539_92</th>\n",
       "      <th>AGE_prop4059_92</th>\n",
       "      <th>AGE_prop60p_92</th>\n",
       "      <th>AGE_propf014_92</th>\n",
       "      <th>AGE_propf1539_92</th>\n",
       "      <th>AGE_propf4059_92</th>\n",
       "      <th>AGE_propf60p_92</th>\n",
       "      <th>AGE_age_92</th>\n",
       "      <th>AGE_agef_92</th>\n",
       "      <th>AGE_ageh_92</th>\n",
       "    </tr>\n",
       "  </thead>\n",
       "  <tbody>\n",
       "    <tr>\n",
       "      <th>0</th>\n",
       "      <td>25</td>\n",
       "      <td>DOUBS</td>\n",
       "      <td>25443</td>\n",
       "      <td>PALANTINE</td>\n",
       "      <td>127</td>\n",
       "      <td>0.535433</td>\n",
       "      <td>33</td>\n",
       "      <td>34</td>\n",
       "      <td>1</td>\n",
       "      <td>0</td>\n",
       "      <td>...</td>\n",
       "      <td>0.432432</td>\n",
       "      <td>0.324324</td>\n",
       "      <td>0.081081</td>\n",
       "      <td>1.0</td>\n",
       "      <td>0.375</td>\n",
       "      <td>0.333333</td>\n",
       "      <td>0.333333</td>\n",
       "      <td>36.771770</td>\n",
       "      <td>31.666666</td>\n",
       "      <td>41.111111</td>\n",
       "    </tr>\n",
       "    <tr>\n",
       "      <th>1</th>\n",
       "      <td>70</td>\n",
       "      <td>HAUTE-SAONE</td>\n",
       "      <td>70440</td>\n",
       "      <td>RECOLOGNE</td>\n",
       "      <td>48</td>\n",
       "      <td>0.312500</td>\n",
       "      <td>0</td>\n",
       "      <td>0</td>\n",
       "      <td>15</td>\n",
       "      <td>0</td>\n",
       "      <td>...</td>\n",
       "      <td>0.166667</td>\n",
       "      <td>0.111111</td>\n",
       "      <td>0.722222</td>\n",
       "      <td>NaN</td>\n",
       "      <td>1.000</td>\n",
       "      <td>0.500000</td>\n",
       "      <td>0.538462</td>\n",
       "      <td>61.819962</td>\n",
       "      <td>59.407410</td>\n",
       "      <td>65.611115</td>\n",
       "    </tr>\n",
       "  </tbody>\n",
       "</table>\n",
       "<p>2 rows × 88 columns</p>\n",
       "</div>"
      ],
      "text/plain": [
       "  dep       nomdep codecommune nomcommune  AGE_pop_22  AGE_propf_22  \\\n",
       "0  25        DOUBS       25443  PALANTINE         127      0.535433   \n",
       "1  70  HAUTE-SAONE       70440  RECOLOGNE          48      0.312500   \n",
       "\n",
       "   AGE_popf014_22  AGE_popf1539_22  AGE_popf4059_22  AGE_popf60p_22  ...  \\\n",
       "0              33               34                1               0  ...   \n",
       "1               0                0               15               0  ...   \n",
       "\n",
       "   AGE_prop1539_92  AGE_prop4059_92  AGE_prop60p_92  AGE_propf014_92  \\\n",
       "0         0.432432         0.324324        0.081081              1.0   \n",
       "1         0.166667         0.111111        0.722222              NaN   \n",
       "\n",
       "   AGE_propf1539_92  AGE_propf4059_92  AGE_propf60p_92  AGE_age_92  \\\n",
       "0             0.375          0.333333         0.333333   36.771770   \n",
       "1             1.000          0.500000         0.538462   61.819962   \n",
       "\n",
       "   AGE_agef_92  AGE_ageh_92  \n",
       "0    31.666666    41.111111  \n",
       "1    59.407410    65.611115  \n",
       "\n",
       "[2 rows x 88 columns]"
      ]
     },
     "execution_count": 84,
     "metadata": {},
     "output_type": "execute_result"
    }
   ],
   "source": [
    "df = df.drop(df.columns[4:2385], axis=1)\n",
    "df.head(2)"
   ]
  },
  {
   "cell_type": "code",
   "execution_count": 85,
   "id": "47e45df9-bb23-4917-a529-b4e5e0cfbd32",
   "metadata": {},
   "outputs": [
    {
     "name": "stdout",
     "output_type": "stream",
     "text": [
      "0 dep\n",
      "1 nomdep\n",
      "2 codecommune\n",
      "3 nomcommune\n",
      "4 AGE_pop_22\n",
      "5 AGE_propf_22\n",
      "6 AGE_popf014_22\n",
      "7 AGE_popf1539_22\n",
      "8 AGE_popf4059_22\n",
      "9 AGE_popf60p_22\n",
      "10 AGE_poph014_22\n",
      "11 AGE_poph1539_22\n",
      "12 AGE_poph4059_22\n",
      "13 AGE_poph60p_22\n",
      "14 AGE_prop014_22\n",
      "15 AGE_prop1539_22\n",
      "16 AGE_prop4059_22\n",
      "17 AGE_prop60p_22\n",
      "18 AGE_propf014_22\n",
      "19 AGE_propf1539_22\n",
      "20 AGE_propf4059_22\n",
      "21 AGE_propf60p_22\n",
      "22 AGE_age_22\n",
      "23 AGE_agef_22\n",
      "24 AGE_ageh_22\n",
      "25 AGE_pop_12\n",
      "26 AGE_propf_12\n",
      "27 AGE_popf014_12\n",
      "28 AGE_popf1539_12\n",
      "29 AGE_popf4059_12\n",
      "30 AGE_popf60p_12\n",
      "31 AGE_poph014_12\n",
      "32 AGE_poph1539_12\n",
      "33 AGE_poph4059_12\n",
      "34 AGE_poph60p_12\n",
      "35 AGE_prop014_12\n",
      "36 AGE_prop1539_12\n",
      "37 AGE_prop4059_12\n",
      "38 AGE_prop60p_12\n",
      "39 AGE_propf014_12\n",
      "40 AGE_propf1539_12\n",
      "41 AGE_propf4059_12\n",
      "42 AGE_propf60p_12\n",
      "43 AGE_age_12\n",
      "44 AGE_agef_12\n",
      "45 AGE_ageh_12\n",
      "46 AGE_pop_02\n",
      "47 AGE_propf_02\n",
      "48 AGE_popf014_02\n",
      "49 AGE_popf1539_02\n",
      "50 AGE_popf4059_02\n",
      "51 AGE_popf60p_02\n",
      "52 AGE_poph014_02\n",
      "53 AGE_poph1539_02\n",
      "54 AGE_poph4059_02\n",
      "55 AGE_poph60p_02\n",
      "56 AGE_prop014_02\n",
      "57 AGE_prop1539_02\n",
      "58 AGE_prop4059_02\n",
      "59 AGE_prop60p_02\n",
      "60 AGE_propf014_02\n",
      "61 AGE_propf1539_02\n",
      "62 AGE_propf4059_02\n",
      "63 AGE_propf60p_02\n",
      "64 AGE_age_02\n",
      "65 AGE_agef_02\n",
      "66 AGE_ageh_02\n",
      "67 AGE_pop_92\n",
      "68 AGE_propf_92\n",
      "69 AGE_popf014_92\n",
      "70 AGE_popf1539_92\n",
      "71 AGE_popf4059_92\n",
      "72 AGE_popf60p_92\n",
      "73 AGE_poph014_92\n",
      "74 AGE_poph1539_92\n",
      "75 AGE_poph4059_92\n",
      "76 AGE_poph60p_92\n",
      "77 AGE_prop014_92\n",
      "78 AGE_prop1539_92\n",
      "79 AGE_prop4059_92\n",
      "80 AGE_prop60p_92\n",
      "81 AGE_propf014_92\n",
      "82 AGE_propf1539_92\n",
      "83 AGE_propf4059_92\n",
      "84 AGE_propf60p_92\n",
      "85 AGE_age_92\n",
      "86 AGE_agef_92\n",
      "87 AGE_ageh_92\n"
     ]
    }
   ],
   "source": [
    "for i,c in enumerate(df) : \n",
    "    print (i,c)"
   ]
  },
  {
   "cell_type": "code",
   "execution_count": 86,
   "id": "6d073d39-20ce-479f-98d8-1011411021aa",
   "metadata": {},
   "outputs": [
    {
     "data": {
      "text/plain": [
       "dep                    0\n",
       "nomdep               243\n",
       "codecommune            0\n",
       "nomcommune           243\n",
       "AGE_pop_22             0\n",
       "                    ... \n",
       "AGE_propf4059_92    1478\n",
       "AGE_propf60p_92     1471\n",
       "AGE_age_92          1485\n",
       "AGE_agef_92         1472\n",
       "AGE_ageh_92         1463\n",
       "Length: 88, dtype: int64"
      ]
     },
     "execution_count": 86,
     "metadata": {},
     "output_type": "execute_result"
    }
   ],
   "source": [
    "df.isna().sum()"
   ]
  },
  {
   "cell_type": "code",
   "execution_count": 87,
   "id": "bf4dbf68-293f-4d30-a97b-f1bc6d520baf",
   "metadata": {},
   "outputs": [
    {
     "data": {
      "text/plain": [
       "(37985, 88)"
      ]
     },
     "execution_count": 87,
     "metadata": {},
     "output_type": "execute_result"
    }
   ],
   "source": [
    "df.shape"
   ]
  },
  {
   "cell_type": "code",
   "execution_count": 88,
   "id": "be422efa-9b21-4061-a57f-d9251c54f90e",
   "metadata": {},
   "outputs": [
    {
     "data": {
      "text/plain": [
       "(37985, 37985)"
      ]
     },
     "execution_count": 88,
     "metadata": {},
     "output_type": "execute_result"
    }
   ],
   "source": [
    "df['codecommune'].nunique(),len(df)"
   ]
  },
  {
   "cell_type": "markdown",
   "id": "fbfee32e-517c-43a1-b4a8-256c3c6cdeac",
   "metadata": {},
   "source": [
    "## <a name=\"TRANSCO\"></a>Partie 3 : Filtres et/ou calculs&nbsp;&nbsp;&nbsp;&nbsp;&nbsp;<a href=\"#TOP\">&uarr;</a>"
   ]
  },
  {
   "cell_type": "code",
   "execution_count": 89,
   "id": "03039577-4fa4-4435-b16e-f34e14e9db9f",
   "metadata": {},
   "outputs": [
    {
     "data": {
      "text/plain": [
       "((33803, 88), (37985, 88))"
      ]
     },
     "execution_count": 89,
     "metadata": {},
     "output_type": "execute_result"
    }
   ],
   "source": [
    "df_filtered = df[df['codecommune'].isin(lines)]\n",
    "df_filtered.shape,df.shape"
   ]
  },
  {
   "cell_type": "code",
   "execution_count": 90,
   "id": "725e8504-c42f-4817-a33d-7531ac607c87",
   "metadata": {},
   "outputs": [
    {
     "data": {
      "text/plain": [
       "('31266', 33803)"
      ]
     },
     "execution_count": 90,
     "metadata": {},
     "output_type": "execute_result"
    }
   ],
   "source": [
    "codecommune_listdf_filtered= df_filtered['codecommune'].tolist()\n",
    "codecommune_listdf_filtered[1], len(codecommune_listdf_filtered)"
   ]
  },
  {
   "cell_type": "code",
   "execution_count": 91,
   "id": "d961e81b-2143-4343-b848-2d7effed3f5b",
   "metadata": {},
   "outputs": [
    {
     "data": {
      "text/plain": [
       "27"
      ]
     },
     "execution_count": 91,
     "metadata": {},
     "output_type": "execute_result"
    }
   ],
   "source": [
    "absent = [x for x in lines if x not in codecommune_listdf_filtered]\n",
    "len (absent)"
   ]
  },
  {
   "cell_type": "code",
   "execution_count": 92,
   "id": "ecf530ad-3eec-47dd-9932-a0d70ee4f8a7",
   "metadata": {},
   "outputs": [
    {
     "data": {
      "text/plain": [
       "['13201',\n",
       " '13202',\n",
       " '13203',\n",
       " '13204',\n",
       " '13205',\n",
       " '13206',\n",
       " '13207',\n",
       " '13208',\n",
       " '13209',\n",
       " '13210',\n",
       " '13211',\n",
       " '13212',\n",
       " '13213',\n",
       " '13214',\n",
       " '13215',\n",
       " '13216',\n",
       " '69380',\n",
       " '69381',\n",
       " '69382',\n",
       " '69383',\n",
       " '69384',\n",
       " '69385',\n",
       " '69386',\n",
       " '69387',\n",
       " '69388',\n",
       " '69389',\n",
       " '75056']"
      ]
     },
     "execution_count": 92,
     "metadata": {},
     "output_type": "execute_result"
    }
   ],
   "source": [
    "absent"
   ]
  },
  {
   "cell_type": "markdown",
   "id": "6c13f2c4-ae3c-498f-b8cc-44786dc480cf",
   "metadata": {},
   "source": [
    "Toujours les memes 27 communes qui posent pb !!!\n",
    "\n",
    "['13201', '13202','13203','13204','13205','13206','13207', '13208', '13209', '13210', '13211', '13212', '13213', '13214', '13215', '13216', '69281', '69282', '69283', '69284', '69285',\n",
    " '69286', '69287', '69288', '69289', '69380', '75056']\n",
    "\n"
   ]
  },
  {
   "cell_type": "code",
   "execution_count": 93,
   "id": "bee5655c-c806-4604-9982-5d567a24b7a1",
   "metadata": {},
   "outputs": [],
   "source": [
    "df_filtered['DBL_bug'] = 0"
   ]
  },
  {
   "cell_type": "code",
   "execution_count": 94,
   "id": "faf7578c-aa34-4f8b-a025-7b385c20a2b0",
   "metadata": {},
   "outputs": [
    {
     "data": {
      "text/html": [
       "<div>\n",
       "<style scoped>\n",
       "    .dataframe tbody tr th:only-of-type {\n",
       "        vertical-align: middle;\n",
       "    }\n",
       "\n",
       "    .dataframe tbody tr th {\n",
       "        vertical-align: top;\n",
       "    }\n",
       "\n",
       "    .dataframe thead th {\n",
       "        text-align: right;\n",
       "    }\n",
       "</style>\n",
       "<table border=\"1\" class=\"dataframe\">\n",
       "  <thead>\n",
       "    <tr style=\"text-align: right;\">\n",
       "      <th></th>\n",
       "      <th>dep</th>\n",
       "      <th>nomdep</th>\n",
       "      <th>codecommune</th>\n",
       "      <th>nomcommune</th>\n",
       "      <th>AGE_pop_22</th>\n",
       "      <th>AGE_propf_22</th>\n",
       "      <th>AGE_popf014_22</th>\n",
       "      <th>AGE_popf1539_22</th>\n",
       "      <th>AGE_popf4059_22</th>\n",
       "      <th>AGE_popf60p_22</th>\n",
       "      <th>...</th>\n",
       "      <th>AGE_prop4059_92</th>\n",
       "      <th>AGE_prop60p_92</th>\n",
       "      <th>AGE_propf014_92</th>\n",
       "      <th>AGE_propf1539_92</th>\n",
       "      <th>AGE_propf4059_92</th>\n",
       "      <th>AGE_propf60p_92</th>\n",
       "      <th>AGE_age_92</th>\n",
       "      <th>AGE_agef_92</th>\n",
       "      <th>AGE_ageh_92</th>\n",
       "      <th>DBL_bug</th>\n",
       "    </tr>\n",
       "  </thead>\n",
       "  <tbody>\n",
       "    <tr>\n",
       "      <th>2</th>\n",
       "      <td>21</td>\n",
       "      <td>COTE-D'OR</td>\n",
       "      <td>21276</td>\n",
       "      <td>FONTAINES-EN-DUESMOIS</td>\n",
       "      <td>103</td>\n",
       "      <td>0.38835</td>\n",
       "      <td>0</td>\n",
       "      <td>34</td>\n",
       "      <td>6</td>\n",
       "      <td>0</td>\n",
       "      <td>...</td>\n",
       "      <td>0.213675</td>\n",
       "      <td>0.307692</td>\n",
       "      <td>0.214286</td>\n",
       "      <td>0.47619</td>\n",
       "      <td>0.44</td>\n",
       "      <td>0.527778</td>\n",
       "      <td>42.275455</td>\n",
       "      <td>46.926739</td>\n",
       "      <td>38.423611</td>\n",
       "      <td>0</td>\n",
       "    </tr>\n",
       "  </tbody>\n",
       "</table>\n",
       "<p>1 rows × 89 columns</p>\n",
       "</div>"
      ],
      "text/plain": [
       "  dep     nomdep codecommune             nomcommune  AGE_pop_22  AGE_propf_22  \\\n",
       "2  21  COTE-D'OR       21276  FONTAINES-EN-DUESMOIS         103       0.38835   \n",
       "\n",
       "   AGE_popf014_22  AGE_popf1539_22  AGE_popf4059_22  AGE_popf60p_22  ...  \\\n",
       "2               0               34                6               0  ...   \n",
       "\n",
       "   AGE_prop4059_92  AGE_prop60p_92  AGE_propf014_92  AGE_propf1539_92  \\\n",
       "2         0.213675        0.307692         0.214286           0.47619   \n",
       "\n",
       "   AGE_propf4059_92  AGE_propf60p_92  AGE_age_92  AGE_agef_92  AGE_ageh_92  \\\n",
       "2              0.44         0.527778   42.275455    46.926739    38.423611   \n",
       "\n",
       "   DBL_bug  \n",
       "2        0  \n",
       "\n",
       "[1 rows x 89 columns]"
      ]
     },
     "execution_count": 94,
     "metadata": {},
     "output_type": "execute_result"
    }
   ],
   "source": [
    "df_filtered.head(1)"
   ]
  },
  {
   "cell_type": "code",
   "execution_count": 96,
   "id": "ec0119b1-ca98-4677-bf3a-88fa700e0df5",
   "metadata": {},
   "outputs": [
    {
     "data": {
      "text/plain": [
       "89"
      ]
     },
     "execution_count": 96,
     "metadata": {},
     "output_type": "execute_result"
    }
   ],
   "source": [
    "new_row = ['*', '*', 'code', '*'] + [np.nan] * 84 +[1]\n",
    "len (new_row)"
   ]
  },
  {
   "cell_type": "code",
   "execution_count": 97,
   "id": "d63b1627-19a6-46f4-9037-192f5782b442",
   "metadata": {},
   "outputs": [
    {
     "data": {
      "text/plain": [
       "89"
      ]
     },
     "execution_count": 97,
     "metadata": {},
     "output_type": "execute_result"
    }
   ],
   "source": [
    "len(df_filtered.columns)"
   ]
  },
  {
   "cell_type": "code",
   "execution_count": 98,
   "id": "7f6301ca-9ce6-4da8-93bf-81fcf7962004",
   "metadata": {},
   "outputs": [
    {
     "data": {
      "text/plain": [
       "(33830, 89)"
      ]
     },
     "execution_count": 98,
     "metadata": {},
     "output_type": "execute_result"
    }
   ],
   "source": [
    "for i,code in enumerate(absent) :\n",
    "    new_row = ['*', '*', code, '*'] + [np.nan] * 84 + [1]\n",
    "    row_df = pd.DataFrame([new_row], columns=df_filtered.columns)\n",
    "    df_filtered = pd.concat([df_filtered, row_df], ignore_index=True)\n",
    "df_filtered.shape"
   ]
  },
  {
   "cell_type": "markdown",
   "id": "352451f1-99da-4ac0-a95a-8deb6ac94389",
   "metadata": {},
   "source": [
    "## <a name=\"EXPORT\"></a>Partie 4 : EXPORT&nbsp;&nbsp;&nbsp;&nbsp;&nbsp;<a href=\"#TOP\">&uarr;</a>\n",
    "\n"
   ]
  },
  {
   "cell_type": "code",
   "execution_count": 99,
   "id": "01e85959-eaab-4e7a-8dc5-55ffcac8bf0a",
   "metadata": {},
   "outputs": [],
   "source": [
    "path_export='../DATA/EXPORT_CSV/final_AGE_agesexcommunes.csv'"
   ]
  },
  {
   "cell_type": "code",
   "execution_count": 100,
   "id": "2f9fa22a-3237-4131-9fae-b4604341807f",
   "metadata": {},
   "outputs": [
    {
     "name": "stdout",
     "output_type": "stream",
     "text": [
      "DataFrame exported to: ../DATA/EXPORT_CSV/final_AGE_agesexcommunes.csv\n"
     ]
    }
   ],
   "source": [
    "df_filtered.to_csv(path_export, sep=';', index=False)\n",
    "print(f'DataFrame exported to: {path_export}')"
   ]
  },
  {
   "cell_type": "code",
   "execution_count": null,
   "id": "d7c7efd6-a789-4a43-85dc-94c4dc7ec3a7",
   "metadata": {},
   "outputs": [],
   "source": []
  }
 ],
 "metadata": {
  "kernelspec": {
   "display_name": "Python 3 (ipykernel)",
   "language": "python",
   "name": "python3"
  },
  "language_info": {
   "codemirror_mode": {
    "name": "ipython",
    "version": 3
   },
   "file_extension": ".py",
   "mimetype": "text/x-python",
   "name": "python",
   "nbconvert_exporter": "python",
   "pygments_lexer": "ipython3",
   "version": "3.10.12"
  }
 },
 "nbformat": 4,
 "nbformat_minor": 5
}
