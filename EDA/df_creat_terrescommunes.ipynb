{
 "cells": [
  {
   "cell_type": "markdown",
   "id": "ea3e4cdc-4ad0-480e-8a5e-0e4e4dee9ac3",
   "metadata": {},
   "source": [
    "# <center>  Model Creat Dataframe terrescommunes [TER]<br/></center>\n",
    "<a name=\"TOP\"></a>\n",
    "- dev : nyx\n",
    "- Fichier CSV :  Capital_immobilier_csv/Capital_immobilier_csv/terrescommunes.csv</a>\n",
    "    \n",
    "# Description Fichiers : \n",
    "Terre Communes\n",
    "avec pour chaque periode :\n",
    "- prix total des transaction (Pri)\n",
    "- Surface totale des transactions (Surf)\n",
    "- Surface totale des tarrainss (SurfTer)\n",
    "- Nombre de transactions (transac)\n",
    "- Prix m² moyen (prim2)\n",
    "\n",
    "# Synthese des Actions :\n",
    "27 lignes absentes\n",
    "remplacement des Nan par 0\n",
    "  \n",
    "**<u>MENU</u>** \n",
    "- <a href=\"#Import\">P0 : Import CSV</a>\n",
    "- <a href=\"#EDA\">P1 : Mini EDA</a>\n",
    "- <a href=\"#Nan\">P2 : Traitement des Nan</a>\n",
    "- <a href=\"#TRANSCO\">P3 : Filtres et/ou calculs</a>\n",
    "- <a href=\"#EXPORT\">P4 : EXPORT (/DATA/EXPORT_CSV/final_xxxxxxx.csv)</a>\n",
    "\n",
    "\n",
    "\n"
   ]
  },
  {
   "cell_type": "markdown",
   "id": "ca339594-e0cb-478d-b4fb-3e1af6de883d",
   "metadata": {},
   "source": [
    "PREFIXE FICHIER : TER\n",
    "Structure :\n",
    "\n",
    "    0 dep\n",
    "    1 nomdep\n",
    "    2 codecommune\n",
    "    3 nomcommune\n",
    "    4 TER_nexploit\n",
    "    5 TER_surf\n",
    "    6 TER_nexploit68\n",
    "    7 TER_surf68\n",
    "    8 DBL_bug (flag à 1 poour les lignes ajoutées avec des 0)\n",
    "\n"
   ]
  },
  {
   "cell_type": "code",
   "execution_count": 73,
   "id": "95d983a2-4b3e-4b94-855b-bf6d33d4ba75",
   "metadata": {},
   "outputs": [],
   "source": [
    "import warnings\n",
    "warnings.filterwarnings(\"ignore\")\n",
    "\n",
    "import os\n",
    "import zipfile\n",
    "import pandas as pd\n",
    "import numpy as np\n",
    "\n",
    "import seaborn as sns\n",
    "import matplotlib.pyplot as plt"
   ]
  },
  {
   "cell_type": "markdown",
   "id": "baa4ba11-c303-401b-b654-f6d5a2f6b7b4",
   "metadata": {},
   "source": [
    "## <a name=\"Import\"></a>Partie 0 : Import CSV&nbsp;&nbsp;&nbsp;&nbsp;&nbsp; <a href=\"#TOP\">&uarr;</a>"
   ]
  },
  {
   "cell_type": "code",
   "execution_count": 74,
   "id": "64bd9ee9-428d-4c50-8304-e1a2635a352b",
   "metadata": {},
   "outputs": [],
   "source": [
    "def df_creat(filename, df_dataframe):  \n",
    "    df = df_dataframe[df_dataframe['filename'] == filename]\n",
    "    if len(df) == 1:\n",
    "        row = df.iloc[0]\n",
    "        file = row['path']\n",
    "        if os.path.exists(file):\n",
    "            print(file)\n",
    "            df_from_csv = pd.read_csv(file, encoding='utf-8', low_memory=False)\n",
    "            return df_from_csv\n",
    "        else:\n",
    "            print('FICHIER NON TROUVE', file)\n",
    "            return pd.DataFrame()\n",
    "    else:\n",
    "        print(f\"filename: '{filename}' return size: {len(df)}\")\n",
    "        return pd.DataFrame()"
   ]
  },
  {
   "cell_type": "code",
   "execution_count": 75,
   "id": "4b858715-3881-4cae-b6f1-59d3e10d9276",
   "metadata": {},
   "outputs": [],
   "source": [
    "csv_file_path = 'df_filtred.csv'\n",
    "# Use pandas to read the CSV file into a DataFrame with UTF-8 encoding\n",
    "df_cat = pd.read_csv(csv_file_path, encoding='utf-8')"
   ]
  },
  {
   "cell_type": "code",
   "execution_count": 76,
   "id": "677ef87c-1d20-4ea9-b483-24fcc6557f7d",
   "metadata": {},
   "outputs": [
    {
     "data": {
      "text/html": [
       "<div>\n",
       "<style scoped>\n",
       "    .dataframe tbody tr th:only-of-type {\n",
       "        vertical-align: middle;\n",
       "    }\n",
       "\n",
       "    .dataframe tbody tr th {\n",
       "        vertical-align: top;\n",
       "    }\n",
       "\n",
       "    .dataframe thead th {\n",
       "        text-align: right;\n",
       "    }\n",
       "</style>\n",
       "<table border=\"1\" class=\"dataframe\">\n",
       "  <thead>\n",
       "    <tr style=\"text-align: right;\">\n",
       "      <th></th>\n",
       "      <th>category</th>\n",
       "      <th>filename</th>\n",
       "      <th>comment</th>\n",
       "      <th>size</th>\n",
       "      <th>depart</th>\n",
       "      <th>district</th>\n",
       "      <th>commune</th>\n",
       "      <th>canton</th>\n",
       "      <th>yyyy</th>\n",
       "      <th>path</th>\n",
       "      <th>codecommune</th>\n",
       "    </tr>\n",
       "  </thead>\n",
       "  <tbody>\n",
       "    <tr>\n",
       "      <th>0</th>\n",
       "      <td>Taille_agglo_commune_csv</td>\n",
       "      <td>codescommunes1999</td>\n",
       "      <td>codes</td>\n",
       "      <td>0</td>\n",
       "      <td>0</td>\n",
       "      <td>0</td>\n",
       "      <td>1</td>\n",
       "      <td>0</td>\n",
       "      <td>1999</td>\n",
       "      <td>../../ProjetCommun/DATA_SOURCES/HCP/Taille_agg...</td>\n",
       "      <td>1</td>\n",
       "    </tr>\n",
       "  </tbody>\n",
       "</table>\n",
       "</div>"
      ],
      "text/plain": [
       "                   category           filename comment  size  depart  \\\n",
       "0  Taille_agglo_commune_csv  codescommunes1999   codes     0       0   \n",
       "\n",
       "   district  commune  canton  yyyy  \\\n",
       "0         0        1       0  1999   \n",
       "\n",
       "                                                path  codecommune  \n",
       "0  ../../ProjetCommun/DATA_SOURCES/HCP/Taille_agg...            1  "
      ]
     },
     "execution_count": 76,
     "metadata": {},
     "output_type": "execute_result"
    }
   ],
   "source": [
    "df_cat.head(1)"
   ]
  },
  {
   "cell_type": "code",
   "execution_count": 77,
   "id": "04da4fb3-c6ba-4332-9b2a-872c14a87126",
   "metadata": {},
   "outputs": [
    {
     "name": "stdout",
     "output_type": "stream",
     "text": [
      "../../ProjetCommun/DATA_SOURCES/HCP/Capital_immobilier_csv/Capital_immobilier_csv/terrescommunes.csv\n"
     ]
    }
   ],
   "source": [
    "df = df_creat('terrescommunes', df_cat)"
   ]
  },
  {
   "cell_type": "markdown",
   "id": "6647aa81-cb46-45dd-a922-b069be341809",
   "metadata": {},
   "source": [
    "## <a name=\"EDA\"></a>Partie 1 : Mini EDA &nbsp;&nbsp;&nbsp;&nbsp;&nbsp; <a href=\"#TOP\">&uarr;</a>"
   ]
  },
  {
   "cell_type": "code",
   "execution_count": 78,
   "id": "cd6d2a1b-246e-4d37-907b-e133b079fa9f",
   "metadata": {},
   "outputs": [
    {
     "data": {
      "text/plain": [
       "(37936, 25)"
      ]
     },
     "execution_count": 78,
     "metadata": {},
     "output_type": "execute_result"
    }
   ],
   "source": [
    "df.shape"
   ]
  },
  {
   "cell_type": "code",
   "execution_count": 79,
   "id": "594cdd42-69ef-4827-8497-f933f546c1ec",
   "metadata": {},
   "outputs": [
    {
     "data": {
      "text/html": [
       "<div>\n",
       "<style scoped>\n",
       "    .dataframe tbody tr th:only-of-type {\n",
       "        vertical-align: middle;\n",
       "    }\n",
       "\n",
       "    .dataframe tbody tr th {\n",
       "        vertical-align: top;\n",
       "    }\n",
       "\n",
       "    .dataframe thead th {\n",
       "        text-align: right;\n",
       "    }\n",
       "</style>\n",
       "<table border=\"1\" class=\"dataframe\">\n",
       "  <thead>\n",
       "    <tr style=\"text-align: right;\">\n",
       "      <th></th>\n",
       "      <th>dep</th>\n",
       "      <th>nomdep</th>\n",
       "      <th>codecommune</th>\n",
       "      <th>nomcommune</th>\n",
       "      <th>nomcanton</th>\n",
       "      <th>nexploit</th>\n",
       "      <th>nexploit50p</th>\n",
       "      <th>surface</th>\n",
       "      <th>surface50p</th>\n",
       "      <th>pexploit50p</th>\n",
       "      <th>...</th>\n",
       "      <th>surface50pcanton</th>\n",
       "      <th>pexploit50pcanton</th>\n",
       "      <th>psurface50pcanton</th>\n",
       "      <th>persur50pc</th>\n",
       "      <th>nexploit1968</th>\n",
       "      <th>nexploit50p1968</th>\n",
       "      <th>surface1968</th>\n",
       "      <th>surface50p1968</th>\n",
       "      <th>pexploit50p1968</th>\n",
       "      <th>psurface50p1968</th>\n",
       "    </tr>\n",
       "  </thead>\n",
       "  <tbody>\n",
       "    <tr>\n",
       "      <th>0</th>\n",
       "      <td>06</td>\n",
       "      <td>ALPES-MARITIMES</td>\n",
       "      <td>06086</td>\n",
       "      <td>MOULINET</td>\n",
       "      <td>SOSPEL</td>\n",
       "      <td>23.0</td>\n",
       "      <td>0.0</td>\n",
       "      <td>112.0</td>\n",
       "      <td>0.0</td>\n",
       "      <td>0.0</td>\n",
       "      <td>...</td>\n",
       "      <td>0.0</td>\n",
       "      <td>0.0</td>\n",
       "      <td>0.0</td>\n",
       "      <td>0.000007</td>\n",
       "      <td>0.0</td>\n",
       "      <td>0.0</td>\n",
       "      <td>0.0</td>\n",
       "      <td>0.0</td>\n",
       "      <td>NaN</td>\n",
       "      <td>NaN</td>\n",
       "    </tr>\n",
       "    <tr>\n",
       "      <th>1</th>\n",
       "      <td>29</td>\n",
       "      <td>FINISTERE</td>\n",
       "      <td>29111</td>\n",
       "      <td>LANHOUARNEAU</td>\n",
       "      <td>PLOUESCAT</td>\n",
       "      <td>151.0</td>\n",
       "      <td>0.0</td>\n",
       "      <td>1603.0</td>\n",
       "      <td>0.0</td>\n",
       "      <td>0.0</td>\n",
       "      <td>...</td>\n",
       "      <td>0.0</td>\n",
       "      <td>0.0</td>\n",
       "      <td>0.0</td>\n",
       "      <td>0.000038</td>\n",
       "      <td>126.0</td>\n",
       "      <td>0.0</td>\n",
       "      <td>1599.0</td>\n",
       "      <td>0.0</td>\n",
       "      <td>0.0</td>\n",
       "      <td>0.0</td>\n",
       "    </tr>\n",
       "    <tr>\n",
       "      <th>2</th>\n",
       "      <td>61</td>\n",
       "      <td>ORNE</td>\n",
       "      <td>61421</td>\n",
       "      <td>SAINT-MARS-D'EGRENNE</td>\n",
       "      <td>PASSAIS</td>\n",
       "      <td>190.0</td>\n",
       "      <td>0.0</td>\n",
       "      <td>2265.0</td>\n",
       "      <td>0.0</td>\n",
       "      <td>0.0</td>\n",
       "      <td>...</td>\n",
       "      <td>0.0</td>\n",
       "      <td>0.0</td>\n",
       "      <td>0.0</td>\n",
       "      <td>0.000065</td>\n",
       "      <td>168.0</td>\n",
       "      <td>0.0</td>\n",
       "      <td>2322.0</td>\n",
       "      <td>0.0</td>\n",
       "      <td>0.0</td>\n",
       "      <td>0.0</td>\n",
       "    </tr>\n",
       "    <tr>\n",
       "      <th>3</th>\n",
       "      <td>73</td>\n",
       "      <td>SAVOIE</td>\n",
       "      <td>73099</td>\n",
       "      <td>DETRIER</td>\n",
       "      <td>ROCHETTE</td>\n",
       "      <td>7.0</td>\n",
       "      <td>0.0</td>\n",
       "      <td>82.5</td>\n",
       "      <td>0.0</td>\n",
       "      <td>0.0</td>\n",
       "      <td>...</td>\n",
       "      <td>0.0</td>\n",
       "      <td>0.0</td>\n",
       "      <td>0.0</td>\n",
       "      <td>0.000069</td>\n",
       "      <td>NaN</td>\n",
       "      <td>NaN</td>\n",
       "      <td>NaN</td>\n",
       "      <td>NaN</td>\n",
       "      <td>NaN</td>\n",
       "      <td>NaN</td>\n",
       "    </tr>\n",
       "    <tr>\n",
       "      <th>4</th>\n",
       "      <td>72</td>\n",
       "      <td>SARTHE</td>\n",
       "      <td>72008</td>\n",
       "      <td>ARNAGE</td>\n",
       "      <td>MANS-SUD-OUEST</td>\n",
       "      <td>43.0</td>\n",
       "      <td>0.0</td>\n",
       "      <td>394.5</td>\n",
       "      <td>0.0</td>\n",
       "      <td>0.0</td>\n",
       "      <td>...</td>\n",
       "      <td>0.0</td>\n",
       "      <td>0.0</td>\n",
       "      <td>0.0</td>\n",
       "      <td>0.000129</td>\n",
       "      <td>37.0</td>\n",
       "      <td>0.0</td>\n",
       "      <td>366.5</td>\n",
       "      <td>0.0</td>\n",
       "      <td>0.0</td>\n",
       "      <td>0.0</td>\n",
       "    </tr>\n",
       "  </tbody>\n",
       "</table>\n",
       "<p>5 rows × 25 columns</p>\n",
       "</div>"
      ],
      "text/plain": [
       "  dep           nomdep codecommune            nomcommune       nomcanton  \\\n",
       "0  06  ALPES-MARITIMES       06086              MOULINET          SOSPEL   \n",
       "1  29        FINISTERE       29111          LANHOUARNEAU       PLOUESCAT   \n",
       "2  61             ORNE       61421  SAINT-MARS-D'EGRENNE         PASSAIS   \n",
       "3  73           SAVOIE       73099               DETRIER        ROCHETTE   \n",
       "4  72           SARTHE       72008                ARNAGE  MANS-SUD-OUEST   \n",
       "\n",
       "   nexploit  nexploit50p  surface  surface50p  pexploit50p  ...  \\\n",
       "0      23.0          0.0    112.0         0.0          0.0  ...   \n",
       "1     151.0          0.0   1603.0         0.0          0.0  ...   \n",
       "2     190.0          0.0   2265.0         0.0          0.0  ...   \n",
       "3       7.0          0.0     82.5         0.0          0.0  ...   \n",
       "4      43.0          0.0    394.5         0.0          0.0  ...   \n",
       "\n",
       "   surface50pcanton  pexploit50pcanton  psurface50pcanton  persur50pc  \\\n",
       "0               0.0                0.0                0.0    0.000007   \n",
       "1               0.0                0.0                0.0    0.000038   \n",
       "2               0.0                0.0                0.0    0.000065   \n",
       "3               0.0                0.0                0.0    0.000069   \n",
       "4               0.0                0.0                0.0    0.000129   \n",
       "\n",
       "   nexploit1968  nexploit50p1968  surface1968  surface50p1968  \\\n",
       "0           0.0              0.0          0.0             0.0   \n",
       "1         126.0              0.0       1599.0             0.0   \n",
       "2         168.0              0.0       2322.0             0.0   \n",
       "3           NaN              NaN          NaN             NaN   \n",
       "4          37.0              0.0        366.5             0.0   \n",
       "\n",
       "   pexploit50p1968  psurface50p1968  \n",
       "0              NaN              NaN  \n",
       "1              0.0              0.0  \n",
       "2              0.0              0.0  \n",
       "3              NaN              NaN  \n",
       "4              0.0              0.0  \n",
       "\n",
       "[5 rows x 25 columns]"
      ]
     },
     "execution_count": 79,
     "metadata": {},
     "output_type": "execute_result"
    }
   ],
   "source": [
    "df.head(5)"
   ]
  },
  {
   "cell_type": "code",
   "execution_count": 80,
   "id": "af64eb4f-efbb-4756-904c-145230bc72f0",
   "metadata": {},
   "outputs": [
    {
     "data": {
      "text/plain": [
       "(37936, 37936)"
      ]
     },
     "execution_count": 80,
     "metadata": {},
     "output_type": "execute_result"
    }
   ],
   "source": [
    "df['codecommune'].nunique(),len(df)"
   ]
  },
  {
   "cell_type": "code",
   "execution_count": 81,
   "id": "9df3fe27-de25-4b19-b245-5b3a76ace780",
   "metadata": {},
   "outputs": [],
   "source": [
    "df['TER_nexploit'] = df['nexploit']\n",
    "df['TER_surf'] = df['nexploit']\n",
    "df['TER_nexploit68'] = df['nexploit1968']\n",
    "df['TER_surf68'] = df['surface1968']\n",
    "df['DBL_bug']=0"
   ]
  },
  {
   "cell_type": "code",
   "execution_count": 82,
   "id": "e01225cf-217a-43ad-95a7-69ce3003ff3d",
   "metadata": {},
   "outputs": [
    {
     "data": {
      "text/plain": [
       "(37936, 30)"
      ]
     },
     "execution_count": 82,
     "metadata": {},
     "output_type": "execute_result"
    }
   ],
   "source": [
    "df.shape"
   ]
  },
  {
   "cell_type": "code",
   "execution_count": 83,
   "id": "30556145-8174-4c09-b385-b2ff38db8d43",
   "metadata": {},
   "outputs": [
    {
     "name": "stdout",
     "output_type": "stream",
     "text": [
      "0 dep\n",
      "1 nomdep\n",
      "2 codecommune\n",
      "3 nomcommune\n",
      "4 nomcanton\n",
      "5 nexploit\n",
      "6 nexploit50p\n",
      "7 surface\n",
      "8 surface50p\n",
      "9 pexploit50p\n",
      "10 psurface50p\n",
      "11 persur50p\n",
      "12 nexploitcanton\n",
      "13 nexploit50pcanton\n",
      "14 surfacecanton\n",
      "15 surface50pcanton\n",
      "16 pexploit50pcanton\n",
      "17 psurface50pcanton\n",
      "18 persur50pc\n",
      "19 nexploit1968\n",
      "20 nexploit50p1968\n",
      "21 surface1968\n",
      "22 surface50p1968\n",
      "23 pexploit50p1968\n",
      "24 psurface50p1968\n",
      "25 TER_nexploit\n",
      "26 TER_surf\n",
      "27 TER_nexploit68\n",
      "28 TER_surf68\n",
      "29 DBL_bug\n"
     ]
    }
   ],
   "source": [
    "for i,c in enumerate(df) : \n",
    "    print (i,c)"
   ]
  },
  {
   "cell_type": "code",
   "execution_count": 84,
   "id": "828222ae-cfa8-4274-8c1c-2d0d8ebf8536",
   "metadata": {},
   "outputs": [],
   "source": [
    "dfC = df.drop(df.columns[4:25], axis=1)"
   ]
  },
  {
   "cell_type": "code",
   "execution_count": 85,
   "id": "128cfa0a-3cbe-499e-9c33-9c2d49b4fb7a",
   "metadata": {},
   "outputs": [
    {
     "data": {
      "text/html": [
       "<div>\n",
       "<style scoped>\n",
       "    .dataframe tbody tr th:only-of-type {\n",
       "        vertical-align: middle;\n",
       "    }\n",
       "\n",
       "    .dataframe tbody tr th {\n",
       "        vertical-align: top;\n",
       "    }\n",
       "\n",
       "    .dataframe thead th {\n",
       "        text-align: right;\n",
       "    }\n",
       "</style>\n",
       "<table border=\"1\" class=\"dataframe\">\n",
       "  <thead>\n",
       "    <tr style=\"text-align: right;\">\n",
       "      <th></th>\n",
       "      <th>dep</th>\n",
       "      <th>nomdep</th>\n",
       "      <th>codecommune</th>\n",
       "      <th>nomcommune</th>\n",
       "      <th>TER_nexploit</th>\n",
       "      <th>TER_surf</th>\n",
       "      <th>TER_nexploit68</th>\n",
       "      <th>TER_surf68</th>\n",
       "      <th>DBL_bug</th>\n",
       "    </tr>\n",
       "  </thead>\n",
       "  <tbody>\n",
       "    <tr>\n",
       "      <th>0</th>\n",
       "      <td>06</td>\n",
       "      <td>ALPES-MARITIMES</td>\n",
       "      <td>06086</td>\n",
       "      <td>MOULINET</td>\n",
       "      <td>23.0</td>\n",
       "      <td>23.0</td>\n",
       "      <td>0.0</td>\n",
       "      <td>0.0</td>\n",
       "      <td>0</td>\n",
       "    </tr>\n",
       "    <tr>\n",
       "      <th>1</th>\n",
       "      <td>29</td>\n",
       "      <td>FINISTERE</td>\n",
       "      <td>29111</td>\n",
       "      <td>LANHOUARNEAU</td>\n",
       "      <td>151.0</td>\n",
       "      <td>151.0</td>\n",
       "      <td>126.0</td>\n",
       "      <td>1599.0</td>\n",
       "      <td>0</td>\n",
       "    </tr>\n",
       "    <tr>\n",
       "      <th>2</th>\n",
       "      <td>61</td>\n",
       "      <td>ORNE</td>\n",
       "      <td>61421</td>\n",
       "      <td>SAINT-MARS-D'EGRENNE</td>\n",
       "      <td>190.0</td>\n",
       "      <td>190.0</td>\n",
       "      <td>168.0</td>\n",
       "      <td>2322.0</td>\n",
       "      <td>0</td>\n",
       "    </tr>\n",
       "    <tr>\n",
       "      <th>3</th>\n",
       "      <td>73</td>\n",
       "      <td>SAVOIE</td>\n",
       "      <td>73099</td>\n",
       "      <td>DETRIER</td>\n",
       "      <td>7.0</td>\n",
       "      <td>7.0</td>\n",
       "      <td>NaN</td>\n",
       "      <td>NaN</td>\n",
       "      <td>0</td>\n",
       "    </tr>\n",
       "    <tr>\n",
       "      <th>4</th>\n",
       "      <td>72</td>\n",
       "      <td>SARTHE</td>\n",
       "      <td>72008</td>\n",
       "      <td>ARNAGE</td>\n",
       "      <td>43.0</td>\n",
       "      <td>43.0</td>\n",
       "      <td>37.0</td>\n",
       "      <td>366.5</td>\n",
       "      <td>0</td>\n",
       "    </tr>\n",
       "  </tbody>\n",
       "</table>\n",
       "</div>"
      ],
      "text/plain": [
       "  dep           nomdep codecommune            nomcommune  TER_nexploit  \\\n",
       "0  06  ALPES-MARITIMES       06086              MOULINET          23.0   \n",
       "1  29        FINISTERE       29111          LANHOUARNEAU         151.0   \n",
       "2  61             ORNE       61421  SAINT-MARS-D'EGRENNE         190.0   \n",
       "3  73           SAVOIE       73099               DETRIER           7.0   \n",
       "4  72           SARTHE       72008                ARNAGE          43.0   \n",
       "\n",
       "   TER_surf  TER_nexploit68  TER_surf68  DBL_bug  \n",
       "0      23.0             0.0         0.0        0  \n",
       "1     151.0           126.0      1599.0        0  \n",
       "2     190.0           168.0      2322.0        0  \n",
       "3       7.0             NaN         NaN        0  \n",
       "4      43.0            37.0       366.5        0  "
      ]
     },
     "execution_count": 85,
     "metadata": {},
     "output_type": "execute_result"
    }
   ],
   "source": [
    "dfC.head(5)"
   ]
  },
  {
   "cell_type": "code",
   "execution_count": 86,
   "id": "fc113c68-edfc-419c-afef-3189fb28b3fd",
   "metadata": {},
   "outputs": [
    {
     "data": {
      "text/plain": [
       "dep                  0\n",
       "nomdep            1365\n",
       "codecommune          0\n",
       "nomcommune        1365\n",
       "TER_nexploit      1862\n",
       "TER_surf          1862\n",
       "TER_nexploit68    7518\n",
       "TER_surf68        7518\n",
       "DBL_bug              0\n",
       "dtype: int64"
      ]
     },
     "execution_count": 86,
     "metadata": {},
     "output_type": "execute_result"
    }
   ],
   "source": [
    "dfC.isna().sum()"
   ]
  },
  {
   "cell_type": "code",
   "execution_count": 87,
   "id": "6801f5db-9112-4509-aed7-cf92d3ddc8c2",
   "metadata": {},
   "outputs": [
    {
     "data": {
      "text/html": [
       "<div>\n",
       "<style scoped>\n",
       "    .dataframe tbody tr th:only-of-type {\n",
       "        vertical-align: middle;\n",
       "    }\n",
       "\n",
       "    .dataframe tbody tr th {\n",
       "        vertical-align: top;\n",
       "    }\n",
       "\n",
       "    .dataframe thead th {\n",
       "        text-align: right;\n",
       "    }\n",
       "</style>\n",
       "<table border=\"1\" class=\"dataframe\">\n",
       "  <thead>\n",
       "    <tr style=\"text-align: right;\">\n",
       "      <th></th>\n",
       "      <th>dep</th>\n",
       "      <th>nomdep</th>\n",
       "      <th>codecommune</th>\n",
       "      <th>nomcommune</th>\n",
       "      <th>TER_nexploit</th>\n",
       "      <th>TER_surf</th>\n",
       "      <th>TER_nexploit68</th>\n",
       "      <th>TER_surf68</th>\n",
       "      <th>DBL_bug</th>\n",
       "    </tr>\n",
       "  </thead>\n",
       "  <tbody>\n",
       "    <tr>\n",
       "      <th>0</th>\n",
       "      <td>06</td>\n",
       "      <td>ALPES-MARITIMES</td>\n",
       "      <td>06086</td>\n",
       "      <td>MOULINET</td>\n",
       "      <td>23.0</td>\n",
       "      <td>23.0</td>\n",
       "      <td>0.0</td>\n",
       "      <td>0.0</td>\n",
       "      <td>0</td>\n",
       "    </tr>\n",
       "    <tr>\n",
       "      <th>1</th>\n",
       "      <td>29</td>\n",
       "      <td>FINISTERE</td>\n",
       "      <td>29111</td>\n",
       "      <td>LANHOUARNEAU</td>\n",
       "      <td>151.0</td>\n",
       "      <td>151.0</td>\n",
       "      <td>126.0</td>\n",
       "      <td>1599.0</td>\n",
       "      <td>0</td>\n",
       "    </tr>\n",
       "    <tr>\n",
       "      <th>2</th>\n",
       "      <td>61</td>\n",
       "      <td>ORNE</td>\n",
       "      <td>61421</td>\n",
       "      <td>SAINT-MARS-D'EGRENNE</td>\n",
       "      <td>190.0</td>\n",
       "      <td>190.0</td>\n",
       "      <td>168.0</td>\n",
       "      <td>2322.0</td>\n",
       "      <td>0</td>\n",
       "    </tr>\n",
       "    <tr>\n",
       "      <th>3</th>\n",
       "      <td>73</td>\n",
       "      <td>SAVOIE</td>\n",
       "      <td>73099</td>\n",
       "      <td>DETRIER</td>\n",
       "      <td>7.0</td>\n",
       "      <td>7.0</td>\n",
       "      <td>NaN</td>\n",
       "      <td>NaN</td>\n",
       "      <td>2</td>\n",
       "    </tr>\n",
       "    <tr>\n",
       "      <th>4</th>\n",
       "      <td>72</td>\n",
       "      <td>SARTHE</td>\n",
       "      <td>72008</td>\n",
       "      <td>ARNAGE</td>\n",
       "      <td>43.0</td>\n",
       "      <td>43.0</td>\n",
       "      <td>37.0</td>\n",
       "      <td>366.5</td>\n",
       "      <td>0</td>\n",
       "    </tr>\n",
       "  </tbody>\n",
       "</table>\n",
       "</div>"
      ],
      "text/plain": [
       "  dep           nomdep codecommune            nomcommune  TER_nexploit  \\\n",
       "0  06  ALPES-MARITIMES       06086              MOULINET          23.0   \n",
       "1  29        FINISTERE       29111          LANHOUARNEAU         151.0   \n",
       "2  61             ORNE       61421  SAINT-MARS-D'EGRENNE         190.0   \n",
       "3  73           SAVOIE       73099               DETRIER           7.0   \n",
       "4  72           SARTHE       72008                ARNAGE          43.0   \n",
       "\n",
       "   TER_surf  TER_nexploit68  TER_surf68  DBL_bug  \n",
       "0      23.0             0.0         0.0        0  \n",
       "1     151.0           126.0      1599.0        0  \n",
       "2     190.0           168.0      2322.0        0  \n",
       "3       7.0             NaN         NaN        2  \n",
       "4      43.0            37.0       366.5        0  "
      ]
     },
     "execution_count": 87,
     "metadata": {},
     "output_type": "execute_result"
    }
   ],
   "source": [
    "dfC['DBL_bug'] = dfC.apply(lambda row: 2 if row.isna().any() else 0, axis=1)\n",
    "dfC.head(5)"
   ]
  },
  {
   "cell_type": "code",
   "execution_count": 88,
   "id": "50337d6d-4235-4d02-9487-9f5acd97337e",
   "metadata": {},
   "outputs": [
    {
     "name": "stdout",
     "output_type": "stream",
     "text": [
      "['01001', '01002', '01004', '01005', '01006', '01007', '01008', '01009', '01010', '01011'] 33830\n"
     ]
    }
   ],
   "source": [
    "file_path = '../DATA/list_codecommune_leg2022_50inscrits.txt'\n",
    "\n",
    "# Open the text file and read lines into a list\n",
    "with open(file_path, 'r', encoding='utf-8') as file:\n",
    "    lines = [line.strip() for line in file.readlines()]\n",
    "\n",
    "# Print or manipulate the list of lines as needed\n",
    "print(lines[0:10], len(lines))"
   ]
  },
  {
   "cell_type": "code",
   "execution_count": 89,
   "id": "5c5bf757-bb72-4c80-bb35-98f184254ce6",
   "metadata": {},
   "outputs": [
    {
     "data": {
      "text/plain": [
       "((33803, 9), (37936, 9))"
      ]
     },
     "execution_count": 89,
     "metadata": {},
     "output_type": "execute_result"
    }
   ],
   "source": [
    "df_filtered = dfC[dfC['codecommune'].isin(lines)]\n",
    "df_filtered.shape,dfC.shape"
   ]
  },
  {
   "cell_type": "code",
   "execution_count": 90,
   "id": "e4cba11e-cff4-4e72-a7c0-e8b09970fe7e",
   "metadata": {},
   "outputs": [
    {
     "data": {
      "text/plain": [
       "('29111', 33803)"
      ]
     },
     "execution_count": 90,
     "metadata": {},
     "output_type": "execute_result"
    }
   ],
   "source": [
    "codecommune_listdf_filtered= df_filtered['codecommune'].tolist()\n",
    "codecommune_listdf_filtered[1], len(codecommune_listdf_filtered)"
   ]
  },
  {
   "cell_type": "code",
   "execution_count": 91,
   "id": "0d743b3b-8b82-4a9f-9190-edb187cec670",
   "metadata": {},
   "outputs": [
    {
     "data": {
      "text/plain": [
       "27"
      ]
     },
     "execution_count": 91,
     "metadata": {},
     "output_type": "execute_result"
    }
   ],
   "source": [
    "absent = [x for x in lines if x not in codecommune_listdf_filtered]\n",
    "len (absent)"
   ]
  },
  {
   "cell_type": "code",
   "execution_count": 108,
   "id": "d28a556f-4b3c-4b15-a06d-4b833b8f2bd8",
   "metadata": {},
   "outputs": [
    {
     "data": {
      "text/plain": [
       "(33803, 9)"
      ]
     },
     "execution_count": 108,
     "metadata": {},
     "output_type": "execute_result"
    }
   ],
   "source": [
    "df_filtered.shape"
   ]
  },
  {
   "cell_type": "code",
   "execution_count": 109,
   "id": "0cc6b2ec-6929-4633-891e-9c8fc4185e22",
   "metadata": {},
   "outputs": [
    {
     "data": {
      "text/plain": [
       "(33830, 9)"
      ]
     },
     "execution_count": 109,
     "metadata": {},
     "output_type": "execute_result"
    }
   ],
   "source": [
    "for i,code in enumerate(absent) :\n",
    "    new_row = ['*', '*', code, '*', 0, 0, 0, 0, 1]\n",
    "    row_df = pd.DataFrame([new_row], columns=tmp.columns)\n",
    "    df_filtered = pd.concat([df_filtered, row_df], ignore_index=True)\n",
    "df_filtered.shape"
   ]
  },
  {
   "cell_type": "code",
   "execution_count": 110,
   "id": "c25fb91e-5ef8-44a4-a716-bd5cf990f90a",
   "metadata": {},
   "outputs": [
    {
     "data": {
      "text/html": [
       "<div>\n",
       "<style scoped>\n",
       "    .dataframe tbody tr th:only-of-type {\n",
       "        vertical-align: middle;\n",
       "    }\n",
       "\n",
       "    .dataframe tbody tr th {\n",
       "        vertical-align: top;\n",
       "    }\n",
       "\n",
       "    .dataframe thead th {\n",
       "        text-align: right;\n",
       "    }\n",
       "</style>\n",
       "<table border=\"1\" class=\"dataframe\">\n",
       "  <thead>\n",
       "    <tr style=\"text-align: right;\">\n",
       "      <th></th>\n",
       "      <th>dep</th>\n",
       "      <th>nomdep</th>\n",
       "      <th>codecommune</th>\n",
       "      <th>nomcommune</th>\n",
       "      <th>TER_nexploit</th>\n",
       "      <th>TER_surf</th>\n",
       "      <th>TER_nexploit68</th>\n",
       "      <th>TER_surf68</th>\n",
       "      <th>DBL_bug</th>\n",
       "    </tr>\n",
       "  </thead>\n",
       "  <tbody>\n",
       "    <tr>\n",
       "      <th>0</th>\n",
       "      <td>06</td>\n",
       "      <td>ALPES-MARITIMES</td>\n",
       "      <td>06086</td>\n",
       "      <td>MOULINET</td>\n",
       "      <td>23.0</td>\n",
       "      <td>23.0</td>\n",
       "      <td>0.0</td>\n",
       "      <td>0.0</td>\n",
       "      <td>0</td>\n",
       "    </tr>\n",
       "    <tr>\n",
       "      <th>1</th>\n",
       "      <td>29</td>\n",
       "      <td>FINISTERE</td>\n",
       "      <td>29111</td>\n",
       "      <td>LANHOUARNEAU</td>\n",
       "      <td>151.0</td>\n",
       "      <td>151.0</td>\n",
       "      <td>126.0</td>\n",
       "      <td>1599.0</td>\n",
       "      <td>0</td>\n",
       "    </tr>\n",
       "    <tr>\n",
       "      <th>2</th>\n",
       "      <td>61</td>\n",
       "      <td>ORNE</td>\n",
       "      <td>61421</td>\n",
       "      <td>SAINT-MARS-D'EGRENNE</td>\n",
       "      <td>190.0</td>\n",
       "      <td>190.0</td>\n",
       "      <td>168.0</td>\n",
       "      <td>2322.0</td>\n",
       "      <td>0</td>\n",
       "    </tr>\n",
       "    <tr>\n",
       "      <th>3</th>\n",
       "      <td>73</td>\n",
       "      <td>SAVOIE</td>\n",
       "      <td>73099</td>\n",
       "      <td>DETRIER</td>\n",
       "      <td>7.0</td>\n",
       "      <td>7.0</td>\n",
       "      <td>NaN</td>\n",
       "      <td>NaN</td>\n",
       "      <td>2</td>\n",
       "    </tr>\n",
       "    <tr>\n",
       "      <th>4</th>\n",
       "      <td>72</td>\n",
       "      <td>SARTHE</td>\n",
       "      <td>72008</td>\n",
       "      <td>ARNAGE</td>\n",
       "      <td>43.0</td>\n",
       "      <td>43.0</td>\n",
       "      <td>37.0</td>\n",
       "      <td>366.5</td>\n",
       "      <td>0</td>\n",
       "    </tr>\n",
       "    <tr>\n",
       "      <th>...</th>\n",
       "      <td>...</td>\n",
       "      <td>...</td>\n",
       "      <td>...</td>\n",
       "      <td>...</td>\n",
       "      <td>...</td>\n",
       "      <td>...</td>\n",
       "      <td>...</td>\n",
       "      <td>...</td>\n",
       "      <td>...</td>\n",
       "    </tr>\n",
       "    <tr>\n",
       "      <th>33815</th>\n",
       "      <td>*</td>\n",
       "      <td>*</td>\n",
       "      <td>13213</td>\n",
       "      <td>*</td>\n",
       "      <td>0.0</td>\n",
       "      <td>0.0</td>\n",
       "      <td>0.0</td>\n",
       "      <td>0.0</td>\n",
       "      <td>1</td>\n",
       "    </tr>\n",
       "    <tr>\n",
       "      <th>33816</th>\n",
       "      <td>*</td>\n",
       "      <td>*</td>\n",
       "      <td>13214</td>\n",
       "      <td>*</td>\n",
       "      <td>0.0</td>\n",
       "      <td>0.0</td>\n",
       "      <td>0.0</td>\n",
       "      <td>0.0</td>\n",
       "      <td>1</td>\n",
       "    </tr>\n",
       "    <tr>\n",
       "      <th>33817</th>\n",
       "      <td>*</td>\n",
       "      <td>*</td>\n",
       "      <td>13215</td>\n",
       "      <td>*</td>\n",
       "      <td>0.0</td>\n",
       "      <td>0.0</td>\n",
       "      <td>0.0</td>\n",
       "      <td>0.0</td>\n",
       "      <td>1</td>\n",
       "    </tr>\n",
       "    <tr>\n",
       "      <th>33818</th>\n",
       "      <td>*</td>\n",
       "      <td>*</td>\n",
       "      <td>13216</td>\n",
       "      <td>*</td>\n",
       "      <td>0.0</td>\n",
       "      <td>0.0</td>\n",
       "      <td>0.0</td>\n",
       "      <td>0.0</td>\n",
       "      <td>1</td>\n",
       "    </tr>\n",
       "    <tr>\n",
       "      <th>33819</th>\n",
       "      <td>*</td>\n",
       "      <td>*</td>\n",
       "      <td>69380</td>\n",
       "      <td>*</td>\n",
       "      <td>0.0</td>\n",
       "      <td>0.0</td>\n",
       "      <td>0.0</td>\n",
       "      <td>0.0</td>\n",
       "      <td>1</td>\n",
       "    </tr>\n",
       "  </tbody>\n",
       "</table>\n",
       "<p>33820 rows × 9 columns</p>\n",
       "</div>"
      ],
      "text/plain": [
       "      dep           nomdep codecommune            nomcommune  TER_nexploit  \\\n",
       "0      06  ALPES-MARITIMES       06086              MOULINET          23.0   \n",
       "1      29        FINISTERE       29111          LANHOUARNEAU         151.0   \n",
       "2      61             ORNE       61421  SAINT-MARS-D'EGRENNE         190.0   \n",
       "3      73           SAVOIE       73099               DETRIER           7.0   \n",
       "4      72           SARTHE       72008                ARNAGE          43.0   \n",
       "...    ..              ...         ...                   ...           ...   \n",
       "33815   *                *       13213                     *           0.0   \n",
       "33816   *                *       13214                     *           0.0   \n",
       "33817   *                *       13215                     *           0.0   \n",
       "33818   *                *       13216                     *           0.0   \n",
       "33819   *                *       69380                     *           0.0   \n",
       "\n",
       "       TER_surf  TER_nexploit68  TER_surf68  DBL_bug  \n",
       "0          23.0             0.0         0.0        0  \n",
       "1         151.0           126.0      1599.0        0  \n",
       "2         190.0           168.0      2322.0        0  \n",
       "3           7.0             NaN         NaN        2  \n",
       "4          43.0            37.0       366.5        0  \n",
       "...         ...             ...         ...      ...  \n",
       "33815       0.0             0.0         0.0        1  \n",
       "33816       0.0             0.0         0.0        1  \n",
       "33817       0.0             0.0         0.0        1  \n",
       "33818       0.0             0.0         0.0        1  \n",
       "33819       0.0             0.0         0.0        1  \n",
       "\n",
       "[33820 rows x 9 columns]"
      ]
     },
     "execution_count": 110,
     "metadata": {},
     "output_type": "execute_result"
    }
   ],
   "source": [
    "df_filtered.head(-10)"
   ]
  },
  {
   "cell_type": "code",
   "execution_count": 111,
   "id": "6ae1224d-445f-4227-978a-73ba8c99ac2c",
   "metadata": {},
   "outputs": [],
   "source": [
    "columns_to_fill = ['TER_nexploit','TER_surf','TER_nexploit68','TER_surf68']\n",
    "df_filtered[columns_to_fill] = df_filtered[columns_to_fill].fillna(0)"
   ]
  },
  {
   "cell_type": "code",
   "execution_count": 113,
   "id": "c1c46012-9663-4759-b55d-b6c51816a372",
   "metadata": {},
   "outputs": [
    {
     "data": {
      "text/plain": [
       "dep               0\n",
       "nomdep            2\n",
       "codecommune       0\n",
       "nomcommune        2\n",
       "TER_nexploit      0\n",
       "TER_surf          0\n",
       "TER_nexploit68    0\n",
       "TER_surf68        0\n",
       "DBL_bug           0\n",
       "dtype: int64"
      ]
     },
     "execution_count": 113,
     "metadata": {},
     "output_type": "execute_result"
    }
   ],
   "source": [
    "df_filtered.isna().sum()"
   ]
  },
  {
   "cell_type": "code",
   "execution_count": 114,
   "id": "c0201b37-bc81-4445-8b43-abe41e10ca92",
   "metadata": {},
   "outputs": [
    {
     "data": {
      "text/plain": [
       "dep               0\n",
       "nomdep            0\n",
       "codecommune       0\n",
       "nomcommune        0\n",
       "TER_nexploit      0\n",
       "TER_surf          0\n",
       "TER_nexploit68    0\n",
       "TER_surf68        0\n",
       "DBL_bug           0\n",
       "dtype: int64"
      ]
     },
     "execution_count": 114,
     "metadata": {},
     "output_type": "execute_result"
    }
   ],
   "source": [
    "columns_to_fill = ['nomdep', 'nomcommune']\n",
    "df_filtered[columns_to_fill] = df_filtered[columns_to_fill].fillna('*')\n",
    "df_filtered.isna().sum()"
   ]
  },
  {
   "cell_type": "code",
   "execution_count": null,
   "id": "b45cdd8c-6e5d-43ea-9731-2d35e83f2cb4",
   "metadata": {},
   "outputs": [],
   "source": []
  },
  {
   "cell_type": "markdown",
   "id": "fbfee32e-517c-43a1-b4a8-256c3c6cdeac",
   "metadata": {},
   "source": [
    "## <a name=\"TRANSCO\"></a>Partie 3 : Filtres et/ou calculs&nbsp;&nbsp;&nbsp;&nbsp;&nbsp;<a href=\"#TOP\">&uarr;</a>"
   ]
  },
  {
   "cell_type": "code",
   "execution_count": 115,
   "id": "cd31b619-bf63-4b59-a198-433b8fc91a96",
   "metadata": {},
   "outputs": [
    {
     "data": {
      "text/plain": [
       "33830"
      ]
     },
     "execution_count": 115,
     "metadata": {},
     "output_type": "execute_result"
    }
   ],
   "source": [
    "len(lines)"
   ]
  },
  {
   "cell_type": "code",
   "execution_count": 116,
   "id": "d003b9a0-0bb3-46e0-ba38-7404e8e5e432",
   "metadata": {},
   "outputs": [
    {
     "data": {
      "text/plain": [
       "33830"
      ]
     },
     "execution_count": 116,
     "metadata": {},
     "output_type": "execute_result"
    }
   ],
   "source": [
    "len(df_filtered)"
   ]
  },
  {
   "cell_type": "markdown",
   "id": "352451f1-99da-4ac0-a95a-8deb6ac94389",
   "metadata": {},
   "source": [
    "## <a name=\"EXPORT\"></a>Partie 4 : EXPORT&nbsp;&nbsp;&nbsp;&nbsp;&nbsp;<a href=\"#TOP\">&uarr;</a>\n",
    "\n"
   ]
  },
  {
   "cell_type": "code",
   "execution_count": 117,
   "id": "d6c0262e-c161-4364-8ee0-353db9958a0a",
   "metadata": {},
   "outputs": [
    {
     "name": "stdout",
     "output_type": "stream",
     "text": [
      "0 dep\n",
      "1 nomdep\n",
      "2 codecommune\n",
      "3 nomcommune\n",
      "4 TER_nexploit\n",
      "5 TER_surf\n",
      "6 TER_nexploit68\n",
      "7 TER_surf68\n",
      "8 DBL_bug\n"
     ]
    }
   ],
   "source": [
    "for i,c in enumerate(df_filtered) : \n",
    "    print (i,c)"
   ]
  },
  {
   "cell_type": "code",
   "execution_count": 120,
   "id": "01e85959-eaab-4e7a-8dc5-55ffcac8bf0a",
   "metadata": {},
   "outputs": [],
   "source": [
    "path_export='../DATA/EXPORT_CSV/final_TER_terrescommunes.csv'"
   ]
  },
  {
   "cell_type": "code",
   "execution_count": 121,
   "id": "2f9fa22a-3237-4131-9fae-b4604341807f",
   "metadata": {},
   "outputs": [
    {
     "name": "stdout",
     "output_type": "stream",
     "text": [
      "DataFrame exported to: ../DATA/EXPORT_CSV/final_TER_terrescommunes.csv\n"
     ]
    }
   ],
   "source": [
    "df_filtered.to_csv(path_export, sep=';', index=False)\n",
    "\n",
    "print(f'DataFrame exported to: {path_export}')"
   ]
  },
  {
   "cell_type": "code",
   "execution_count": null,
   "id": "d7c7efd6-a789-4a43-85dc-94c4dc7ec3a7",
   "metadata": {},
   "outputs": [],
   "source": []
  }
 ],
 "metadata": {
  "kernelspec": {
   "display_name": "Python 3 (ipykernel)",
   "language": "python",
   "name": "python3"
  },
  "language_info": {
   "codemirror_mode": {
    "name": "ipython",
    "version": 3
   },
   "file_extension": ".py",
   "mimetype": "text/x-python",
   "name": "python",
   "nbconvert_exporter": "python",
   "pygments_lexer": "ipython3",
   "version": "3.10.12"
  }
 },
 "nbformat": 4,
 "nbformat_minor": 5
}
