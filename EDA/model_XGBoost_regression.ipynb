{
 "cells": [
  {
   "cell_type": "markdown",
   "id": "f75d5881-1b31-4145-8f88-b18972b95b6a",
   "metadata": {},
   "source": [
    "# model_XGBoost_regression"
   ]
  },
  {
   "cell_type": "code",
   "execution_count": 75,
   "id": "5e844807-14f7-4a1c-bc6e-dfca1efeef01",
   "metadata": {},
   "outputs": [],
   "source": [
    "import warnings\n",
    "warnings.filterwarnings(\"ignore\")\n",
    "\n",
    "import os\n",
    "import pandas as pd\n",
    "import numpy as np"
   ]
  },
  {
   "cell_type": "markdown",
   "id": "4912b5a9-f11f-4865-a577-3df643540030",
   "metadata": {},
   "source": [
    "## IMPORT"
   ]
  },
  {
   "cell_type": "code",
   "execution_count": 95,
   "id": "2cb73ae9-96f1-4cd0-b1fa-4f196ec82a3e",
   "metadata": {},
   "outputs": [],
   "source": [
    "from sklearn.model_selection import train_test_split\n",
    "from sklearn.preprocessing import StandardScaler\n",
    "import xgboost as xgb\n",
    "from sklearn.metrics import accuracy_score, classification_report\n",
    "\n",
    "import xgboost as xgb\n",
    "from sklearn.model_selection import train_test_split\n",
    "from sklearn.metrics import mean_squared_error"
   ]
  },
  {
   "cell_type": "code",
   "execution_count": 96,
   "id": "42918a36-c855-4396-9858-c78d03a5f9ce",
   "metadata": {},
   "outputs": [
    {
     "data": {
      "text/plain": [
       "(33803, 180)"
      ]
     },
     "execution_count": 96,
     "metadata": {},
     "output_type": "execute_result"
    }
   ],
   "source": [
    "file_path='../DATA/final_DATA.csv'\n",
    "df = pd.read_csv(file_path, encoding='utf-8', sep=';', index_col=0, low_memory=False)\n",
    "df.shape"
   ]
  },
  {
   "cell_type": "code",
   "execution_count": 97,
   "id": "e620840c-3e4e-4d66-a940-dc1e1d9b06d0",
   "metadata": {},
   "outputs": [
    {
     "data": {
      "text/plain": [
       "(33803, 4)"
      ]
     },
     "execution_count": 97,
     "metadata": {},
     "output_type": "execute_result"
    }
   ],
   "source": [
    "file_path='../DATA/final_4first_col.csv'\n",
    "df_info = pd.read_csv(file_path, encoding='utf-8', sep=';', index_col=0, low_memory=False)\n",
    "df_info.shape\n"
   ]
  },
  {
   "cell_type": "code",
   "execution_count": 98,
   "id": "671d2b45-f433-4641-8eee-b0b2c2f5745a",
   "metadata": {},
   "outputs": [
    {
     "data": {
      "text/html": [
       "<div>\n",
       "<style scoped>\n",
       "    .dataframe tbody tr th:only-of-type {\n",
       "        vertical-align: middle;\n",
       "    }\n",
       "\n",
       "    .dataframe tbody tr th {\n",
       "        vertical-align: top;\n",
       "    }\n",
       "\n",
       "    .dataframe thead th {\n",
       "        text-align: right;\n",
       "    }\n",
       "</style>\n",
       "<table border=\"1\" class=\"dataframe\">\n",
       "  <thead>\n",
       "    <tr style=\"text-align: right;\">\n",
       "      <th></th>\n",
       "      <th>dep</th>\n",
       "      <th>nomdep</th>\n",
       "      <th>codecommune</th>\n",
       "      <th>nomcommune</th>\n",
       "    </tr>\n",
       "    <tr>\n",
       "      <th>key</th>\n",
       "      <th></th>\n",
       "      <th></th>\n",
       "      <th></th>\n",
       "      <th></th>\n",
       "    </tr>\n",
       "  </thead>\n",
       "  <tbody>\n",
       "    <tr>\n",
       "      <th>01001</th>\n",
       "      <td>01</td>\n",
       "      <td>AIN</td>\n",
       "      <td>01001</td>\n",
       "      <td>L'ABERGEMENT-CLÉMENCIAT</td>\n",
       "    </tr>\n",
       "    <tr>\n",
       "      <th>01002</th>\n",
       "      <td>01</td>\n",
       "      <td>AIN</td>\n",
       "      <td>01002</td>\n",
       "      <td>L'ABERGEMENT-DE-VAREY</td>\n",
       "    </tr>\n",
       "    <tr>\n",
       "      <th>01004</th>\n",
       "      <td>01</td>\n",
       "      <td>AIN</td>\n",
       "      <td>01004</td>\n",
       "      <td>AMBÉRIEU-EN-BUGEY</td>\n",
       "    </tr>\n",
       "    <tr>\n",
       "      <th>01005</th>\n",
       "      <td>01</td>\n",
       "      <td>AIN</td>\n",
       "      <td>01005</td>\n",
       "      <td>AMBÉRIEUX-EN-DOMBES</td>\n",
       "    </tr>\n",
       "    <tr>\n",
       "      <th>01006</th>\n",
       "      <td>01</td>\n",
       "      <td>AIN</td>\n",
       "      <td>01006</td>\n",
       "      <td>AMBLÉON</td>\n",
       "    </tr>\n",
       "  </tbody>\n",
       "</table>\n",
       "</div>"
      ],
      "text/plain": [
       "      dep nomdep codecommune               nomcommune\n",
       "key                                                  \n",
       "01001  01    AIN       01001  L'ABERGEMENT-CLÉMENCIAT\n",
       "01002  01    AIN       01002    L'ABERGEMENT-DE-VAREY\n",
       "01004  01    AIN       01004        AMBÉRIEU-EN-BUGEY\n",
       "01005  01    AIN       01005      AMBÉRIEUX-EN-DOMBES\n",
       "01006  01    AIN       01006                  AMBLÉON"
      ]
     },
     "execution_count": 98,
     "metadata": {},
     "output_type": "execute_result"
    }
   ],
   "source": [
    "df_info.head(5)"
   ]
  },
  {
   "cell_type": "code",
   "execution_count": 99,
   "id": "6fdf1517-c955-464a-882d-f897f888e723",
   "metadata": {},
   "outputs": [
    {
     "data": {
      "text/html": [
       "<div>\n",
       "<style scoped>\n",
       "    .dataframe tbody tr th:only-of-type {\n",
       "        vertical-align: middle;\n",
       "    }\n",
       "\n",
       "    .dataframe tbody tr th {\n",
       "        vertical-align: top;\n",
       "    }\n",
       "\n",
       "    .dataframe thead th {\n",
       "        text-align: right;\n",
       "    }\n",
       "</style>\n",
       "<table border=\"1\" class=\"dataframe\">\n",
       "  <thead>\n",
       "    <tr style=\"text-align: right;\">\n",
       "      <th></th>\n",
       "      <th>TAR_inscrits</th>\n",
       "      <th>TAR_votants</th>\n",
       "      <th>TAR_exprimes</th>\n",
       "      <th>YYY_pvoixAUG</th>\n",
       "      <th>YYY_pvoixNUP</th>\n",
       "      <th>YYY_pvoixDVG</th>\n",
       "      <th>YYY_pvoixECO</th>\n",
       "      <th>YYY_pvoixREG</th>\n",
       "      <th>YYY_pvoixENS</th>\n",
       "      <th>YYY_pvoixUDI</th>\n",
       "      <th>...</th>\n",
       "      <th>TER_surf68</th>\n",
       "      <th>NAT_petranger22</th>\n",
       "      <th>NAT_pimmigre22</th>\n",
       "      <th>NAT_pimmnatur22</th>\n",
       "      <th>NAT_pnatur22</th>\n",
       "      <th>NAT_petranger12</th>\n",
       "      <th>NAT_pimmigre12</th>\n",
       "      <th>NAT_pimmnatur12</th>\n",
       "      <th>NAT_petranger02</th>\n",
       "      <th>NAT_petranger92</th>\n",
       "    </tr>\n",
       "  </thead>\n",
       "  <tbody>\n",
       "    <tr>\n",
       "      <th>0</th>\n",
       "      <td>644.0</td>\n",
       "      <td>343.0</td>\n",
       "      <td>339.0</td>\n",
       "      <td>0.011799</td>\n",
       "      <td>0.153392</td>\n",
       "      <td>0.047198</td>\n",
       "      <td>0.023599</td>\n",
       "      <td>0.000000</td>\n",
       "      <td>0.147493</td>\n",
       "      <td>0.097345</td>\n",
       "      <td>...</td>\n",
       "      <td>0.0</td>\n",
       "      <td>0.005161</td>\n",
       "      <td>0.014194</td>\n",
       "      <td>0.009032</td>\n",
       "      <td>0.014194</td>\n",
       "      <td>0.025740</td>\n",
       "      <td>0.037323</td>\n",
       "      <td>0.011583</td>\n",
       "      <td>0.018543</td>\n",
       "      <td>0.014634</td>\n",
       "    </tr>\n",
       "    <tr>\n",
       "      <th>1</th>\n",
       "      <td>218.0</td>\n",
       "      <td>133.0</td>\n",
       "      <td>128.0</td>\n",
       "      <td>0.031250</td>\n",
       "      <td>0.343750</td>\n",
       "      <td>0.000000</td>\n",
       "      <td>0.000000</td>\n",
       "      <td>0.000000</td>\n",
       "      <td>0.000000</td>\n",
       "      <td>0.000000</td>\n",
       "      <td>...</td>\n",
       "      <td>0.0</td>\n",
       "      <td>0.003891</td>\n",
       "      <td>0.003891</td>\n",
       "      <td>0.000000</td>\n",
       "      <td>0.000000</td>\n",
       "      <td>0.012766</td>\n",
       "      <td>0.021277</td>\n",
       "      <td>0.008511</td>\n",
       "      <td>0.005618</td>\n",
       "      <td>0.037736</td>\n",
       "    </tr>\n",
       "    <tr>\n",
       "      <th>2</th>\n",
       "      <td>8844.0</td>\n",
       "      <td>4123.0</td>\n",
       "      <td>4012.0</td>\n",
       "      <td>0.016451</td>\n",
       "      <td>0.298106</td>\n",
       "      <td>0.008225</td>\n",
       "      <td>0.000000</td>\n",
       "      <td>0.013958</td>\n",
       "      <td>0.000000</td>\n",
       "      <td>0.000000</td>\n",
       "      <td>...</td>\n",
       "      <td>0.0</td>\n",
       "      <td>0.089823</td>\n",
       "      <td>0.107816</td>\n",
       "      <td>0.017993</td>\n",
       "      <td>0.027062</td>\n",
       "      <td>0.079042</td>\n",
       "      <td>0.102438</td>\n",
       "      <td>0.023396</td>\n",
       "      <td>0.066773</td>\n",
       "      <td>0.060427</td>\n",
       "    </tr>\n",
       "    <tr>\n",
       "      <th>3</th>\n",
       "      <td>1299.0</td>\n",
       "      <td>636.0</td>\n",
       "      <td>622.0</td>\n",
       "      <td>0.008039</td>\n",
       "      <td>0.160772</td>\n",
       "      <td>0.038585</td>\n",
       "      <td>0.024116</td>\n",
       "      <td>0.000000</td>\n",
       "      <td>0.178457</td>\n",
       "      <td>0.093248</td>\n",
       "      <td>...</td>\n",
       "      <td>0.0</td>\n",
       "      <td>0.013349</td>\n",
       "      <td>0.041788</td>\n",
       "      <td>0.028439</td>\n",
       "      <td>0.042948</td>\n",
       "      <td>0.014007</td>\n",
       "      <td>0.036541</td>\n",
       "      <td>0.022533</td>\n",
       "      <td>0.026063</td>\n",
       "      <td>0.043729</td>\n",
       "    </tr>\n",
       "    <tr>\n",
       "      <th>4</th>\n",
       "      <td>101.0</td>\n",
       "      <td>63.0</td>\n",
       "      <td>59.0</td>\n",
       "      <td>0.050847</td>\n",
       "      <td>0.220339</td>\n",
       "      <td>0.000000</td>\n",
       "      <td>0.000000</td>\n",
       "      <td>0.000000</td>\n",
       "      <td>0.288136</td>\n",
       "      <td>0.000000</td>\n",
       "      <td>...</td>\n",
       "      <td>0.0</td>\n",
       "      <td>0.044643</td>\n",
       "      <td>0.044643</td>\n",
       "      <td>0.000000</td>\n",
       "      <td>0.000000</td>\n",
       "      <td>0.090909</td>\n",
       "      <td>0.100000</td>\n",
       "      <td>0.009091</td>\n",
       "      <td>0.000000</td>\n",
       "      <td>0.000000</td>\n",
       "    </tr>\n",
       "  </tbody>\n",
       "</table>\n",
       "<p>5 rows × 180 columns</p>\n",
       "</div>"
      ],
      "text/plain": [
       "   TAR_inscrits  TAR_votants  TAR_exprimes  YYY_pvoixAUG  YYY_pvoixNUP  \\\n",
       "0         644.0        343.0         339.0      0.011799      0.153392   \n",
       "1         218.0        133.0         128.0      0.031250      0.343750   \n",
       "2        8844.0       4123.0        4012.0      0.016451      0.298106   \n",
       "3        1299.0        636.0         622.0      0.008039      0.160772   \n",
       "4         101.0         63.0          59.0      0.050847      0.220339   \n",
       "\n",
       "   YYY_pvoixDVG  YYY_pvoixECO  YYY_pvoixREG  YYY_pvoixENS  YYY_pvoixUDI  ...  \\\n",
       "0      0.047198      0.023599      0.000000      0.147493      0.097345  ...   \n",
       "1      0.000000      0.000000      0.000000      0.000000      0.000000  ...   \n",
       "2      0.008225      0.000000      0.013958      0.000000      0.000000  ...   \n",
       "3      0.038585      0.024116      0.000000      0.178457      0.093248  ...   \n",
       "4      0.000000      0.000000      0.000000      0.288136      0.000000  ...   \n",
       "\n",
       "   TER_surf68  NAT_petranger22  NAT_pimmigre22  NAT_pimmnatur22  NAT_pnatur22  \\\n",
       "0         0.0         0.005161        0.014194         0.009032      0.014194   \n",
       "1         0.0         0.003891        0.003891         0.000000      0.000000   \n",
       "2         0.0         0.089823        0.107816         0.017993      0.027062   \n",
       "3         0.0         0.013349        0.041788         0.028439      0.042948   \n",
       "4         0.0         0.044643        0.044643         0.000000      0.000000   \n",
       "\n",
       "   NAT_petranger12  NAT_pimmigre12  NAT_pimmnatur12  NAT_petranger02  \\\n",
       "0         0.025740        0.037323         0.011583         0.018543   \n",
       "1         0.012766        0.021277         0.008511         0.005618   \n",
       "2         0.079042        0.102438         0.023396         0.066773   \n",
       "3         0.014007        0.036541         0.022533         0.026063   \n",
       "4         0.090909        0.100000         0.009091         0.000000   \n",
       "\n",
       "   NAT_petranger92  \n",
       "0         0.014634  \n",
       "1         0.037736  \n",
       "2         0.060427  \n",
       "3         0.043729  \n",
       "4         0.000000  \n",
       "\n",
       "[5 rows x 180 columns]"
      ]
     },
     "execution_count": 99,
     "metadata": {},
     "output_type": "execute_result"
    }
   ],
   "source": [
    "df.head()"
   ]
  },
  {
   "cell_type": "markdown",
   "id": "f0443e03-d112-4102-8644-be92f65de8f1",
   "metadata": {},
   "source": [
    "### Fusion "
   ]
  },
  {
   "cell_type": "code",
   "execution_count": 100,
   "id": "fa84bcb5-604b-453b-aa24-1aa31f1c0c5f",
   "metadata": {},
   "outputs": [
    {
     "data": {
      "text/plain": [
       "(33803, 180)"
      ]
     },
     "execution_count": 100,
     "metadata": {},
     "output_type": "execute_result"
    }
   ],
   "source": [
    "df_FULL = df.copy()\n",
    "df_FULL.shape"
   ]
  },
  {
   "cell_type": "code",
   "execution_count": 101,
   "id": "97aed9f1-90a8-49a4-804c-8b7d0b029ce3",
   "metadata": {},
   "outputs": [
    {
     "data": {
      "text/html": [
       "<div>\n",
       "<style scoped>\n",
       "    .dataframe tbody tr th:only-of-type {\n",
       "        vertical-align: middle;\n",
       "    }\n",
       "\n",
       "    .dataframe tbody tr th {\n",
       "        vertical-align: top;\n",
       "    }\n",
       "\n",
       "    .dataframe thead th {\n",
       "        text-align: right;\n",
       "    }\n",
       "</style>\n",
       "<table border=\"1\" class=\"dataframe\">\n",
       "  <thead>\n",
       "    <tr style=\"text-align: right;\">\n",
       "      <th></th>\n",
       "      <th>TAR_inscrits</th>\n",
       "      <th>TAR_votants</th>\n",
       "      <th>TAR_exprimes</th>\n",
       "      <th>YYY_pvoixAUG</th>\n",
       "      <th>YYY_pvoixNUP</th>\n",
       "      <th>YYY_pvoixDVG</th>\n",
       "      <th>YYY_pvoixECO</th>\n",
       "      <th>YYY_pvoixREG</th>\n",
       "      <th>YYY_pvoixENS</th>\n",
       "      <th>YYY_pvoixUDI</th>\n",
       "      <th>...</th>\n",
       "      <th>TER_surf68</th>\n",
       "      <th>NAT_petranger22</th>\n",
       "      <th>NAT_pimmigre22</th>\n",
       "      <th>NAT_pimmnatur22</th>\n",
       "      <th>NAT_pnatur22</th>\n",
       "      <th>NAT_petranger12</th>\n",
       "      <th>NAT_pimmigre12</th>\n",
       "      <th>NAT_pimmnatur12</th>\n",
       "      <th>NAT_petranger02</th>\n",
       "      <th>NAT_petranger92</th>\n",
       "    </tr>\n",
       "    <tr>\n",
       "      <th>key</th>\n",
       "      <th></th>\n",
       "      <th></th>\n",
       "      <th></th>\n",
       "      <th></th>\n",
       "      <th></th>\n",
       "      <th></th>\n",
       "      <th></th>\n",
       "      <th></th>\n",
       "      <th></th>\n",
       "      <th></th>\n",
       "      <th></th>\n",
       "      <th></th>\n",
       "      <th></th>\n",
       "      <th></th>\n",
       "      <th></th>\n",
       "      <th></th>\n",
       "      <th></th>\n",
       "      <th></th>\n",
       "      <th></th>\n",
       "      <th></th>\n",
       "      <th></th>\n",
       "    </tr>\n",
       "  </thead>\n",
       "  <tbody>\n",
       "    <tr>\n",
       "      <th>01001</th>\n",
       "      <td>644.0</td>\n",
       "      <td>343.0</td>\n",
       "      <td>339.0</td>\n",
       "      <td>0.011799</td>\n",
       "      <td>0.153392</td>\n",
       "      <td>0.047198</td>\n",
       "      <td>0.023599</td>\n",
       "      <td>0.0</td>\n",
       "      <td>0.147493</td>\n",
       "      <td>0.097345</td>\n",
       "      <td>...</td>\n",
       "      <td>0.0</td>\n",
       "      <td>0.005161</td>\n",
       "      <td>0.014194</td>\n",
       "      <td>0.009032</td>\n",
       "      <td>0.014194</td>\n",
       "      <td>0.025740</td>\n",
       "      <td>0.037323</td>\n",
       "      <td>0.011583</td>\n",
       "      <td>0.018543</td>\n",
       "      <td>0.014634</td>\n",
       "    </tr>\n",
       "    <tr>\n",
       "      <th>01002</th>\n",
       "      <td>218.0</td>\n",
       "      <td>133.0</td>\n",
       "      <td>128.0</td>\n",
       "      <td>0.031250</td>\n",
       "      <td>0.343750</td>\n",
       "      <td>0.000000</td>\n",
       "      <td>0.000000</td>\n",
       "      <td>0.0</td>\n",
       "      <td>0.000000</td>\n",
       "      <td>0.000000</td>\n",
       "      <td>...</td>\n",
       "      <td>0.0</td>\n",
       "      <td>0.003891</td>\n",
       "      <td>0.003891</td>\n",
       "      <td>0.000000</td>\n",
       "      <td>0.000000</td>\n",
       "      <td>0.012766</td>\n",
       "      <td>0.021277</td>\n",
       "      <td>0.008511</td>\n",
       "      <td>0.005618</td>\n",
       "      <td>0.037736</td>\n",
       "    </tr>\n",
       "  </tbody>\n",
       "</table>\n",
       "<p>2 rows × 180 columns</p>\n",
       "</div>"
      ],
      "text/plain": [
       "       TAR_inscrits  TAR_votants  TAR_exprimes  YYY_pvoixAUG  YYY_pvoixNUP  \\\n",
       "key                                                                          \n",
       "01001         644.0        343.0         339.0      0.011799      0.153392   \n",
       "01002         218.0        133.0         128.0      0.031250      0.343750   \n",
       "\n",
       "       YYY_pvoixDVG  YYY_pvoixECO  YYY_pvoixREG  YYY_pvoixENS  YYY_pvoixUDI  \\\n",
       "key                                                                           \n",
       "01001      0.047198      0.023599           0.0      0.147493      0.097345   \n",
       "01002      0.000000      0.000000           0.0      0.000000      0.000000   \n",
       "\n",
       "       ...  TER_surf68  NAT_petranger22  NAT_pimmigre22  NAT_pimmnatur22  \\\n",
       "key    ...                                                                 \n",
       "01001  ...         0.0         0.005161        0.014194         0.009032   \n",
       "01002  ...         0.0         0.003891        0.003891         0.000000   \n",
       "\n",
       "       NAT_pnatur22  NAT_petranger12  NAT_pimmigre12  NAT_pimmnatur12  \\\n",
       "key                                                                     \n",
       "01001      0.014194         0.025740        0.037323         0.011583   \n",
       "01002      0.000000         0.012766        0.021277         0.008511   \n",
       "\n",
       "       NAT_petranger02  NAT_petranger92  \n",
       "key                                      \n",
       "01001         0.018543         0.014634  \n",
       "01002         0.005618         0.037736  \n",
       "\n",
       "[2 rows x 180 columns]"
      ]
     },
     "execution_count": 101,
     "metadata": {},
     "output_type": "execute_result"
    }
   ],
   "source": [
    "df_FULL.index = df_info.index \n",
    "df_FULL.head(2)"
   ]
  },
  {
   "cell_type": "code",
   "execution_count": 102,
   "id": "f10f9e3b-9adf-49da-bfba-1d028e050cdf",
   "metadata": {},
   "outputs": [
    {
     "data": {
      "text/plain": [
       "(33803, 184)"
      ]
     },
     "execution_count": 102,
     "metadata": {},
     "output_type": "execute_result"
    }
   ],
   "source": [
    "# result = pd.concat([df1, df2], axis=0, ignore_index=True)\n",
    "df_FULL = pd.concat([df_FULL, df_info], axis=1)\n",
    "df_FULL.shape"
   ]
  },
  {
   "cell_type": "code",
   "execution_count": 103,
   "id": "ce7f8feb-a7f2-4ec3-a4e3-8024ea0e4c72",
   "metadata": {},
   "outputs": [
    {
     "data": {
      "text/html": [
       "<div>\n",
       "<style scoped>\n",
       "    .dataframe tbody tr th:only-of-type {\n",
       "        vertical-align: middle;\n",
       "    }\n",
       "\n",
       "    .dataframe tbody tr th {\n",
       "        vertical-align: top;\n",
       "    }\n",
       "\n",
       "    .dataframe thead th {\n",
       "        text-align: right;\n",
       "    }\n",
       "</style>\n",
       "<table border=\"1\" class=\"dataframe\">\n",
       "  <thead>\n",
       "    <tr style=\"text-align: right;\">\n",
       "      <th></th>\n",
       "      <th>TAR_inscrits</th>\n",
       "      <th>TAR_votants</th>\n",
       "      <th>TAR_exprimes</th>\n",
       "      <th>YYY_pvoixAUG</th>\n",
       "      <th>YYY_pvoixNUP</th>\n",
       "      <th>YYY_pvoixDVG</th>\n",
       "      <th>YYY_pvoixECO</th>\n",
       "      <th>YYY_pvoixREG</th>\n",
       "      <th>YYY_pvoixENS</th>\n",
       "      <th>YYY_pvoixUDI</th>\n",
       "      <th>...</th>\n",
       "      <th>NAT_pnatur22</th>\n",
       "      <th>NAT_petranger12</th>\n",
       "      <th>NAT_pimmigre12</th>\n",
       "      <th>NAT_pimmnatur12</th>\n",
       "      <th>NAT_petranger02</th>\n",
       "      <th>NAT_petranger92</th>\n",
       "      <th>dep</th>\n",
       "      <th>nomdep</th>\n",
       "      <th>codecommune</th>\n",
       "      <th>nomcommune</th>\n",
       "    </tr>\n",
       "    <tr>\n",
       "      <th>key</th>\n",
       "      <th></th>\n",
       "      <th></th>\n",
       "      <th></th>\n",
       "      <th></th>\n",
       "      <th></th>\n",
       "      <th></th>\n",
       "      <th></th>\n",
       "      <th></th>\n",
       "      <th></th>\n",
       "      <th></th>\n",
       "      <th></th>\n",
       "      <th></th>\n",
       "      <th></th>\n",
       "      <th></th>\n",
       "      <th></th>\n",
       "      <th></th>\n",
       "      <th></th>\n",
       "      <th></th>\n",
       "      <th></th>\n",
       "      <th></th>\n",
       "      <th></th>\n",
       "    </tr>\n",
       "  </thead>\n",
       "  <tbody>\n",
       "    <tr>\n",
       "      <th>01001</th>\n",
       "      <td>644.0</td>\n",
       "      <td>343.0</td>\n",
       "      <td>339.0</td>\n",
       "      <td>0.011799</td>\n",
       "      <td>0.153392</td>\n",
       "      <td>0.047198</td>\n",
       "      <td>0.023599</td>\n",
       "      <td>0.000000</td>\n",
       "      <td>0.147493</td>\n",
       "      <td>0.097345</td>\n",
       "      <td>...</td>\n",
       "      <td>0.014194</td>\n",
       "      <td>0.025740</td>\n",
       "      <td>0.037323</td>\n",
       "      <td>0.011583</td>\n",
       "      <td>0.018543</td>\n",
       "      <td>0.014634</td>\n",
       "      <td>01</td>\n",
       "      <td>AIN</td>\n",
       "      <td>01001</td>\n",
       "      <td>L'ABERGEMENT-CLÉMENCIAT</td>\n",
       "    </tr>\n",
       "    <tr>\n",
       "      <th>01002</th>\n",
       "      <td>218.0</td>\n",
       "      <td>133.0</td>\n",
       "      <td>128.0</td>\n",
       "      <td>0.031250</td>\n",
       "      <td>0.343750</td>\n",
       "      <td>0.000000</td>\n",
       "      <td>0.000000</td>\n",
       "      <td>0.000000</td>\n",
       "      <td>0.000000</td>\n",
       "      <td>0.000000</td>\n",
       "      <td>...</td>\n",
       "      <td>0.000000</td>\n",
       "      <td>0.012766</td>\n",
       "      <td>0.021277</td>\n",
       "      <td>0.008511</td>\n",
       "      <td>0.005618</td>\n",
       "      <td>0.037736</td>\n",
       "      <td>01</td>\n",
       "      <td>AIN</td>\n",
       "      <td>01002</td>\n",
       "      <td>L'ABERGEMENT-DE-VAREY</td>\n",
       "    </tr>\n",
       "    <tr>\n",
       "      <th>01004</th>\n",
       "      <td>8844.0</td>\n",
       "      <td>4123.0</td>\n",
       "      <td>4012.0</td>\n",
       "      <td>0.016451</td>\n",
       "      <td>0.298106</td>\n",
       "      <td>0.008225</td>\n",
       "      <td>0.000000</td>\n",
       "      <td>0.013958</td>\n",
       "      <td>0.000000</td>\n",
       "      <td>0.000000</td>\n",
       "      <td>...</td>\n",
       "      <td>0.027062</td>\n",
       "      <td>0.079042</td>\n",
       "      <td>0.102438</td>\n",
       "      <td>0.023396</td>\n",
       "      <td>0.066773</td>\n",
       "      <td>0.060427</td>\n",
       "      <td>01</td>\n",
       "      <td>AIN</td>\n",
       "      <td>01004</td>\n",
       "      <td>AMBÉRIEU-EN-BUGEY</td>\n",
       "    </tr>\n",
       "    <tr>\n",
       "      <th>01005</th>\n",
       "      <td>1299.0</td>\n",
       "      <td>636.0</td>\n",
       "      <td>622.0</td>\n",
       "      <td>0.008039</td>\n",
       "      <td>0.160772</td>\n",
       "      <td>0.038585</td>\n",
       "      <td>0.024116</td>\n",
       "      <td>0.000000</td>\n",
       "      <td>0.178457</td>\n",
       "      <td>0.093248</td>\n",
       "      <td>...</td>\n",
       "      <td>0.042948</td>\n",
       "      <td>0.014007</td>\n",
       "      <td>0.036541</td>\n",
       "      <td>0.022533</td>\n",
       "      <td>0.026063</td>\n",
       "      <td>0.043729</td>\n",
       "      <td>01</td>\n",
       "      <td>AIN</td>\n",
       "      <td>01005</td>\n",
       "      <td>AMBÉRIEUX-EN-DOMBES</td>\n",
       "    </tr>\n",
       "    <tr>\n",
       "      <th>01006</th>\n",
       "      <td>101.0</td>\n",
       "      <td>63.0</td>\n",
       "      <td>59.0</td>\n",
       "      <td>0.050847</td>\n",
       "      <td>0.220339</td>\n",
       "      <td>0.000000</td>\n",
       "      <td>0.000000</td>\n",
       "      <td>0.000000</td>\n",
       "      <td>0.288136</td>\n",
       "      <td>0.000000</td>\n",
       "      <td>...</td>\n",
       "      <td>0.000000</td>\n",
       "      <td>0.090909</td>\n",
       "      <td>0.100000</td>\n",
       "      <td>0.009091</td>\n",
       "      <td>0.000000</td>\n",
       "      <td>0.000000</td>\n",
       "      <td>01</td>\n",
       "      <td>AIN</td>\n",
       "      <td>01006</td>\n",
       "      <td>AMBLÉON</td>\n",
       "    </tr>\n",
       "  </tbody>\n",
       "</table>\n",
       "<p>5 rows × 184 columns</p>\n",
       "</div>"
      ],
      "text/plain": [
       "       TAR_inscrits  TAR_votants  TAR_exprimes  YYY_pvoixAUG  YYY_pvoixNUP  \\\n",
       "key                                                                          \n",
       "01001         644.0        343.0         339.0      0.011799      0.153392   \n",
       "01002         218.0        133.0         128.0      0.031250      0.343750   \n",
       "01004        8844.0       4123.0        4012.0      0.016451      0.298106   \n",
       "01005        1299.0        636.0         622.0      0.008039      0.160772   \n",
       "01006         101.0         63.0          59.0      0.050847      0.220339   \n",
       "\n",
       "       YYY_pvoixDVG  YYY_pvoixECO  YYY_pvoixREG  YYY_pvoixENS  YYY_pvoixUDI  \\\n",
       "key                                                                           \n",
       "01001      0.047198      0.023599      0.000000      0.147493      0.097345   \n",
       "01002      0.000000      0.000000      0.000000      0.000000      0.000000   \n",
       "01004      0.008225      0.000000      0.013958      0.000000      0.000000   \n",
       "01005      0.038585      0.024116      0.000000      0.178457      0.093248   \n",
       "01006      0.000000      0.000000      0.000000      0.288136      0.000000   \n",
       "\n",
       "       ...  NAT_pnatur22  NAT_petranger12  NAT_pimmigre12  NAT_pimmnatur12  \\\n",
       "key    ...                                                                   \n",
       "01001  ...      0.014194         0.025740        0.037323         0.011583   \n",
       "01002  ...      0.000000         0.012766        0.021277         0.008511   \n",
       "01004  ...      0.027062         0.079042        0.102438         0.023396   \n",
       "01005  ...      0.042948         0.014007        0.036541         0.022533   \n",
       "01006  ...      0.000000         0.090909        0.100000         0.009091   \n",
       "\n",
       "       NAT_petranger02  NAT_petranger92  dep  nomdep  codecommune  \\\n",
       "key                                                                 \n",
       "01001         0.018543         0.014634   01     AIN        01001   \n",
       "01002         0.005618         0.037736   01     AIN        01002   \n",
       "01004         0.066773         0.060427   01     AIN        01004   \n",
       "01005         0.026063         0.043729   01     AIN        01005   \n",
       "01006         0.000000         0.000000   01     AIN        01006   \n",
       "\n",
       "                    nomcommune  \n",
       "key                             \n",
       "01001  L'ABERGEMENT-CLÉMENCIAT  \n",
       "01002    L'ABERGEMENT-DE-VAREY  \n",
       "01004        AMBÉRIEU-EN-BUGEY  \n",
       "01005      AMBÉRIEUX-EN-DOMBES  \n",
       "01006                  AMBLÉON  \n",
       "\n",
       "[5 rows x 184 columns]"
      ]
     },
     "execution_count": 103,
     "metadata": {},
     "output_type": "execute_result"
    }
   ],
   "source": [
    "df_FULL.head(5)"
   ]
  },
  {
   "cell_type": "markdown",
   "id": "0c20409f-1f99-4bac-b016-80745630045d",
   "metadata": {},
   "source": [
    "### FILTRES"
   ]
  },
  {
   "cell_type": "code",
   "execution_count": 104,
   "id": "a973eee8-4b3f-4ead-ad31-f3ba2f1c4170",
   "metadata": {},
   "outputs": [
    {
     "name": "stdout",
     "output_type": "stream",
     "text": [
      "['01001', '01002', '01004', '01005', '01006', '01007', '01008', '01009', '01010', '01011'] 33830\n"
     ]
    }
   ],
   "source": [
    "# Specify the file path\n",
    "file_path = '../DATA/list_codecommune_leg2022_50inscrits.txt'\n",
    "\n",
    "# Open the text file and read lines into a list\n",
    "with open(file_path, 'r', encoding='utf-8') as file:\n",
    "    lines = [line.strip() for line in file.readlines()]\n",
    "\n",
    "# Print or manipulate the list of lines as needed\n",
    "print(lines[0:10], len(lines))"
   ]
  },
  {
   "cell_type": "code",
   "execution_count": 105,
   "id": "2f9e7696-2025-4145-9235-a59f61721197",
   "metadata": {},
   "outputs": [],
   "source": [
    "index_suppr = ['13201','13202','13203','13204','13205','13206','13207','13208','13209','13210','13211','13212','13213','13214','13215','13216',\n",
    "               '69380','69381','69382','69383','69384','69385','69386','69387','69388','69389','75056']\n"
   ]
  },
  {
   "cell_type": "code",
   "execution_count": 106,
   "id": "235fb8cf-f87d-4afa-846f-4f16f3ee0864",
   "metadata": {},
   "outputs": [
    {
     "data": {
      "text/plain": [
       "33803"
      ]
     },
     "execution_count": 106,
     "metadata": {},
     "output_type": "execute_result"
    }
   ],
   "source": [
    "linesC = list(set(lines) - set(index_suppr))\n",
    "len (linesC)"
   ]
  },
  {
   "cell_type": "code",
   "execution_count": 107,
   "id": "daeb1b9a-64fe-497d-a70e-f1659d4bf987",
   "metadata": {},
   "outputs": [
    {
     "data": {
      "text/plain": [
       "((33803, 184), (33803, 184))"
      ]
     },
     "execution_count": 107,
     "metadata": {},
     "output_type": "execute_result"
    }
   ],
   "source": [
    "df_filtered = df_FULL[df_FULL['codecommune'].isin(linesC)]\n",
    "df_filtered.shape,df_FULL.shape"
   ]
  },
  {
   "cell_type": "markdown",
   "id": "b5d8ecf7-4402-46b1-aecc-675879cb1706",
   "metadata": {},
   "source": [
    "# SLPIT"
   ]
  },
  {
   "cell_type": "code",
   "execution_count": 113,
   "id": "4042a267-6f0c-4aea-9546-4b87ff872cb9",
   "metadata": {},
   "outputs": [
    {
     "data": {
      "text/plain": [
       "(33803, 4)"
      ]
     },
     "execution_count": 113,
     "metadata": {},
     "output_type": "execute_result"
    }
   ],
   "source": [
    "df_infoC = df_filtered.iloc[:, -4:] \n",
    "df_infoC.shape"
   ]
  },
  {
   "cell_type": "code",
   "execution_count": 114,
   "id": "7b5c5e52-1a6f-4da1-831d-91dc2a6b2fb9",
   "metadata": {},
   "outputs": [
    {
     "data": {
      "text/plain": [
       "(33803, 180)"
      ]
     },
     "execution_count": 114,
     "metadata": {},
     "output_type": "execute_result"
    }
   ],
   "source": [
    "df_XY = df_filtered.iloc[:, 0:-4] \n",
    "df_XY.shape"
   ]
  },
  {
   "cell_type": "code",
   "execution_count": 115,
   "id": "e15673fb-577e-4e71-8e41-6ef42200f125",
   "metadata": {},
   "outputs": [
    {
     "data": {
      "text/plain": [
       "((33803, 169), (33803, 11))"
      ]
     },
     "execution_count": 115,
     "metadata": {},
     "output_type": "execute_result"
    }
   ],
   "source": [
    "# SPLIT\n",
    "y = df_XY.filter(like='YYY', axis=1)\n",
    "# Filter columns NOT starting with 'YYY'\n",
    "X = df_XY.loc[:, ~df.columns.str.startswith('YYY')]\n",
    "X.shape, y.shape"
   ]
  },
  {
   "cell_type": "code",
   "execution_count": 116,
   "id": "6b9f69e5-85dc-4e93-909d-e1b1c353eba6",
   "metadata": {},
   "outputs": [
    {
     "data": {
      "text/plain": [
       "'TAR_inscrits'"
      ]
     },
     "execution_count": 116,
     "metadata": {},
     "output_type": "execute_result"
    }
   ],
   "source": [
    "titr_cols_list = X.columns.tolist()\n",
    "titr_cols_list[0]"
   ]
  },
  {
   "cell_type": "code",
   "execution_count": 117,
   "id": "b1a37e10-a4b8-457a-abe5-1e395c5aecaf",
   "metadata": {},
   "outputs": [
    {
     "name": "stdout",
     "output_type": "stream",
     "text": [
      "X_train shape :  (30422, 169)\n",
      "X_test shape :  (3381, 169)\n",
      "y_train shape :  (30422, 11)\n",
      "y_test shape :  (3381, 11)\n"
     ]
    }
   ],
   "source": [
    "X_train, X_test, y_train, y_test = train_test_split(X, y, test_size=0.1, random_state=42)\n",
    "print('X_train shape : ', X_train.shape)\n",
    "print('X_test shape : ', X_test.shape)\n",
    "print('y_train shape : ', y_train.shape)\n",
    "print('y_test shape : ', y_test.shape)"
   ]
  },
  {
   "cell_type": "markdown",
   "id": "bcbbdaac-bd7a-412f-b586-3e1130365c61",
   "metadata": {},
   "source": [
    "### StandardScaler"
   ]
  },
  {
   "cell_type": "code",
   "execution_count": 118,
   "id": "6cd6ca9c-3da0-4cc0-95d7-f5e3786be9f1",
   "metadata": {},
   "outputs": [],
   "source": [
    "scaler = StandardScaler()\n",
    "X_train_scaled = scaler.fit_transform(X_train)\n",
    "X_test_scaled = scaler.transform(X_test)"
   ]
  },
  {
   "cell_type": "code",
   "execution_count": 119,
   "id": "52a638f6-b7ec-42de-8844-653a5f84e9a3",
   "metadata": {},
   "outputs": [
    {
     "data": {
      "text/plain": [
       "{'YYY_pvoixAUG',\n",
       " 'YYY_pvoixDVD',\n",
       " 'YYY_pvoixDVG',\n",
       " 'YYY_pvoixECO',\n",
       " 'YYY_pvoixENS',\n",
       " 'YYY_pvoixLR',\n",
       " 'YYY_pvoixNUP',\n",
       " 'YYY_pvoixREC',\n",
       " 'YYY_pvoixREG',\n",
       " 'YYY_pvoixRN',\n",
       " 'YYY_pvoixUDI'}"
      ]
     },
     "execution_count": 119,
     "metadata": {},
     "output_type": "execute_result"
    }
   ],
   "source": [
    "set(y)"
   ]
  },
  {
   "cell_type": "code",
   "execution_count": 120,
   "id": "77035314-f9b6-4e42-9ee2-e834e40ad434",
   "metadata": {},
   "outputs": [
    {
     "data": {
      "text/html": [
       "<div>\n",
       "<style scoped>\n",
       "    .dataframe tbody tr th:only-of-type {\n",
       "        vertical-align: middle;\n",
       "    }\n",
       "\n",
       "    .dataframe tbody tr th {\n",
       "        vertical-align: top;\n",
       "    }\n",
       "\n",
       "    .dataframe thead th {\n",
       "        text-align: right;\n",
       "    }\n",
       "</style>\n",
       "<table border=\"1\" class=\"dataframe\">\n",
       "  <thead>\n",
       "    <tr style=\"text-align: right;\">\n",
       "      <th></th>\n",
       "      <th>YYY_pvoixAUG</th>\n",
       "      <th>YYY_pvoixNUP</th>\n",
       "      <th>YYY_pvoixDVG</th>\n",
       "      <th>YYY_pvoixECO</th>\n",
       "      <th>YYY_pvoixREG</th>\n",
       "      <th>YYY_pvoixENS</th>\n",
       "      <th>YYY_pvoixUDI</th>\n",
       "      <th>YYY_pvoixLR</th>\n",
       "      <th>YYY_pvoixDVD</th>\n",
       "      <th>YYY_pvoixREC</th>\n",
       "      <th>YYY_pvoixRN</th>\n",
       "    </tr>\n",
       "    <tr>\n",
       "      <th>key</th>\n",
       "      <th></th>\n",
       "      <th></th>\n",
       "      <th></th>\n",
       "      <th></th>\n",
       "      <th></th>\n",
       "      <th></th>\n",
       "      <th></th>\n",
       "      <th></th>\n",
       "      <th></th>\n",
       "      <th></th>\n",
       "      <th></th>\n",
       "    </tr>\n",
       "  </thead>\n",
       "  <tbody>\n",
       "    <tr>\n",
       "      <th>01001</th>\n",
       "      <td>0.011799</td>\n",
       "      <td>0.153392</td>\n",
       "      <td>0.047198</td>\n",
       "      <td>0.023599</td>\n",
       "      <td>0.000000</td>\n",
       "      <td>0.147493</td>\n",
       "      <td>0.097345</td>\n",
       "      <td>0.174041</td>\n",
       "      <td>0.026549</td>\n",
       "      <td>0.061947</td>\n",
       "      <td>0.256637</td>\n",
       "    </tr>\n",
       "    <tr>\n",
       "      <th>01002</th>\n",
       "      <td>0.031250</td>\n",
       "      <td>0.343750</td>\n",
       "      <td>0.000000</td>\n",
       "      <td>0.000000</td>\n",
       "      <td>0.000000</td>\n",
       "      <td>0.000000</td>\n",
       "      <td>0.000000</td>\n",
       "      <td>0.109375</td>\n",
       "      <td>0.437500</td>\n",
       "      <td>0.015625</td>\n",
       "      <td>0.062500</td>\n",
       "    </tr>\n",
       "    <tr>\n",
       "      <th>01004</th>\n",
       "      <td>0.016451</td>\n",
       "      <td>0.298106</td>\n",
       "      <td>0.008225</td>\n",
       "      <td>0.000000</td>\n",
       "      <td>0.013958</td>\n",
       "      <td>0.000000</td>\n",
       "      <td>0.000000</td>\n",
       "      <td>0.087488</td>\n",
       "      <td>0.312812</td>\n",
       "      <td>0.057079</td>\n",
       "      <td>0.205882</td>\n",
       "    </tr>\n",
       "    <tr>\n",
       "      <th>01005</th>\n",
       "      <td>0.008039</td>\n",
       "      <td>0.160772</td>\n",
       "      <td>0.038585</td>\n",
       "      <td>0.024116</td>\n",
       "      <td>0.000000</td>\n",
       "      <td>0.178457</td>\n",
       "      <td>0.093248</td>\n",
       "      <td>0.110932</td>\n",
       "      <td>0.009646</td>\n",
       "      <td>0.059486</td>\n",
       "      <td>0.316720</td>\n",
       "    </tr>\n",
       "    <tr>\n",
       "      <th>01006</th>\n",
       "      <td>0.050847</td>\n",
       "      <td>0.220339</td>\n",
       "      <td>0.000000</td>\n",
       "      <td>0.000000</td>\n",
       "      <td>0.000000</td>\n",
       "      <td>0.288136</td>\n",
       "      <td>0.000000</td>\n",
       "      <td>0.288136</td>\n",
       "      <td>0.000000</td>\n",
       "      <td>0.016949</td>\n",
       "      <td>0.135593</td>\n",
       "    </tr>\n",
       "    <tr>\n",
       "      <th>...</th>\n",
       "      <td>...</td>\n",
       "      <td>...</td>\n",
       "      <td>...</td>\n",
       "      <td>...</td>\n",
       "      <td>...</td>\n",
       "      <td>...</td>\n",
       "      <td>...</td>\n",
       "      <td>...</td>\n",
       "      <td>...</td>\n",
       "      <td>...</td>\n",
       "      <td>...</td>\n",
       "    </tr>\n",
       "    <tr>\n",
       "      <th>95676</th>\n",
       "      <td>0.017544</td>\n",
       "      <td>0.140351</td>\n",
       "      <td>0.000000</td>\n",
       "      <td>0.087719</td>\n",
       "      <td>0.000000</td>\n",
       "      <td>0.232456</td>\n",
       "      <td>0.000000</td>\n",
       "      <td>0.166667</td>\n",
       "      <td>0.026316</td>\n",
       "      <td>0.092105</td>\n",
       "      <td>0.236842</td>\n",
       "    </tr>\n",
       "    <tr>\n",
       "      <th>95678</th>\n",
       "      <td>0.008403</td>\n",
       "      <td>0.184874</td>\n",
       "      <td>0.011204</td>\n",
       "      <td>0.047619</td>\n",
       "      <td>0.022409</td>\n",
       "      <td>0.282913</td>\n",
       "      <td>0.000000</td>\n",
       "      <td>0.131653</td>\n",
       "      <td>0.014006</td>\n",
       "      <td>0.064426</td>\n",
       "      <td>0.232493</td>\n",
       "    </tr>\n",
       "    <tr>\n",
       "      <th>95680</th>\n",
       "      <td>0.008571</td>\n",
       "      <td>0.460476</td>\n",
       "      <td>0.105476</td>\n",
       "      <td>0.010000</td>\n",
       "      <td>0.015476</td>\n",
       "      <td>0.235714</td>\n",
       "      <td>0.031667</td>\n",
       "      <td>0.000000</td>\n",
       "      <td>0.000000</td>\n",
       "      <td>0.022857</td>\n",
       "      <td>0.109762</td>\n",
       "    </tr>\n",
       "    <tr>\n",
       "      <th>95682</th>\n",
       "      <td>0.000000</td>\n",
       "      <td>0.266667</td>\n",
       "      <td>0.066667</td>\n",
       "      <td>0.016667</td>\n",
       "      <td>0.016667</td>\n",
       "      <td>0.333333</td>\n",
       "      <td>0.000000</td>\n",
       "      <td>0.083333</td>\n",
       "      <td>0.000000</td>\n",
       "      <td>0.033333</td>\n",
       "      <td>0.183333</td>\n",
       "    </tr>\n",
       "    <tr>\n",
       "      <th>95690</th>\n",
       "      <td>0.000000</td>\n",
       "      <td>0.161677</td>\n",
       "      <td>0.000000</td>\n",
       "      <td>0.083832</td>\n",
       "      <td>0.000000</td>\n",
       "      <td>0.305389</td>\n",
       "      <td>0.000000</td>\n",
       "      <td>0.209581</td>\n",
       "      <td>0.017964</td>\n",
       "      <td>0.089820</td>\n",
       "      <td>0.131737</td>\n",
       "    </tr>\n",
       "  </tbody>\n",
       "</table>\n",
       "<p>33803 rows × 11 columns</p>\n",
       "</div>"
      ],
      "text/plain": [
       "       YYY_pvoixAUG  YYY_pvoixNUP  YYY_pvoixDVG  YYY_pvoixECO  YYY_pvoixREG  \\\n",
       "key                                                                           \n",
       "01001      0.011799      0.153392      0.047198      0.023599      0.000000   \n",
       "01002      0.031250      0.343750      0.000000      0.000000      0.000000   \n",
       "01004      0.016451      0.298106      0.008225      0.000000      0.013958   \n",
       "01005      0.008039      0.160772      0.038585      0.024116      0.000000   \n",
       "01006      0.050847      0.220339      0.000000      0.000000      0.000000   \n",
       "...             ...           ...           ...           ...           ...   \n",
       "95676      0.017544      0.140351      0.000000      0.087719      0.000000   \n",
       "95678      0.008403      0.184874      0.011204      0.047619      0.022409   \n",
       "95680      0.008571      0.460476      0.105476      0.010000      0.015476   \n",
       "95682      0.000000      0.266667      0.066667      0.016667      0.016667   \n",
       "95690      0.000000      0.161677      0.000000      0.083832      0.000000   \n",
       "\n",
       "       YYY_pvoixENS  YYY_pvoixUDI  YYY_pvoixLR  YYY_pvoixDVD  YYY_pvoixREC  \\\n",
       "key                                                                          \n",
       "01001      0.147493      0.097345     0.174041      0.026549      0.061947   \n",
       "01002      0.000000      0.000000     0.109375      0.437500      0.015625   \n",
       "01004      0.000000      0.000000     0.087488      0.312812      0.057079   \n",
       "01005      0.178457      0.093248     0.110932      0.009646      0.059486   \n",
       "01006      0.288136      0.000000     0.288136      0.000000      0.016949   \n",
       "...             ...           ...          ...           ...           ...   \n",
       "95676      0.232456      0.000000     0.166667      0.026316      0.092105   \n",
       "95678      0.282913      0.000000     0.131653      0.014006      0.064426   \n",
       "95680      0.235714      0.031667     0.000000      0.000000      0.022857   \n",
       "95682      0.333333      0.000000     0.083333      0.000000      0.033333   \n",
       "95690      0.305389      0.000000     0.209581      0.017964      0.089820   \n",
       "\n",
       "       YYY_pvoixRN  \n",
       "key                 \n",
       "01001     0.256637  \n",
       "01002     0.062500  \n",
       "01004     0.205882  \n",
       "01005     0.316720  \n",
       "01006     0.135593  \n",
       "...            ...  \n",
       "95676     0.236842  \n",
       "95678     0.232493  \n",
       "95680     0.109762  \n",
       "95682     0.183333  \n",
       "95690     0.131737  \n",
       "\n",
       "[33803 rows x 11 columns]"
      ]
     },
     "execution_count": 120,
     "metadata": {},
     "output_type": "execute_result"
    }
   ],
   "source": [
    "y"
   ]
  },
  {
   "cell_type": "markdown",
   "id": "f2c50e74-c436-452a-bd21-6c75a13a0292",
   "metadata": {},
   "source": [
    "## xgboost as xgb verion 0"
   ]
  },
  {
   "cell_type": "code",
   "execution_count": 123,
   "id": "e49210ef-0f1c-436a-a078-2ce13f18cf9d",
   "metadata": {},
   "outputs": [
    {
     "name": "stdout",
     "output_type": "stream",
     "text": [
      "Mean Squared Error for y1: 0.000166\n",
      "Mean Squared Error for y2: 0.005610\n",
      "Mean Squared Error for y3: 0.002537\n",
      "Mean Squared Error for y4: 0.000348\n",
      "Mean Squared Error for y5: 0.001100\n",
      "Mean Squared Error for y6: 0.006538\n",
      "Mean Squared Error for y7: 0.001184\n",
      "Mean Squared Error for y8: 0.008721\n",
      "Mean Squared Error for y9: 0.003891\n",
      "Mean Squared Error for y10: 0.000666\n",
      "Mean Squared Error for y11: 0.004826\n"
     ]
    }
   ],
   "source": [
    "model = xgb.XGBRegressor(objective='reg:squarederror')\n",
    "\n",
    "# Train the model separately for each dimension of y\n",
    "for i in range(y_train.shape[1]):\n",
    "    model.fit(X_train, y_train.iloc[:, i])\n",
    "    y_pred = model.predict(X_test)\n",
    "    mse = mean_squared_error(y_test.iloc[:, i], y_pred)\n",
    "    print(f\"Mean Squared Error for y{i+1}: {mse:.6f}\")"
   ]
  },
  {
   "cell_type": "markdown",
   "id": "fadb2e5e-c34d-4cbb-8b26-3d50f8801c57",
   "metadata": {},
   "source": [
    "## xgboost as xgb verion 1"
   ]
  },
  {
   "cell_type": "code",
   "execution_count": 127,
   "id": "cf37cf52-9d9f-451d-b03d-63f1d6836b01",
   "metadata": {},
   "outputs": [],
   "source": [
    "# import xgboost as xgb\n",
    "from sklearn.multioutput import MultiOutputRegressor\n",
    "# fitting\n",
    "multioutputregressor = MultiOutputRegressor(xgb.XGBRegressor(objective='reg:squarederror')).fit(X_train_scaled, y_train)"
   ]
  },
  {
   "cell_type": "code",
   "execution_count": 128,
   "id": "3b398423-b51a-4eb6-b2d0-e3739edad4ea",
   "metadata": {},
   "outputs": [
    {
     "name": "stdout",
     "output_type": "stream",
     "text": [
      "YYY_pvoixAUG    0.000166\n",
      "YYY_pvoixNUP    0.005657\n",
      "YYY_pvoixDVG    0.002504\n",
      "YYY_pvoixECO    0.000341\n",
      "YYY_pvoixREG    0.001087\n",
      "YYY_pvoixENS    0.006543\n",
      "YYY_pvoixUDI    0.001184\n",
      "YYY_pvoixLR     0.008724\n",
      "YYY_pvoixDVD    0.003891\n",
      "YYY_pvoixREC    0.000666\n",
      "YYY_pvoixRN     0.004829\n",
      "dtype: float64\n"
     ]
    }
   ],
   "source": [
    "# predicting\n",
    "print(np.mean((multioutputregressor.predict(X_test_scaled ) - y_test)**2, axis=0))"
   ]
  },
  {
   "cell_type": "code",
   "execution_count": 130,
   "id": "c1749035-5053-4282-b40a-084b92dcf4ce",
   "metadata": {},
   "outputs": [
    {
     "data": {
      "text/plain": [
       "(1, 11)"
      ]
     },
     "execution_count": 130,
     "metadata": {},
     "output_type": "execute_result"
    }
   ],
   "source": [
    "pred0 = multioutputregressor.predict([X_test_scaled[0]]) \n",
    "pred0.shape"
   ]
  },
  {
   "cell_type": "code",
   "execution_count": 165,
   "id": "e8dbe49e-aed8-4aa7-8f44-58e1504c0b13",
   "metadata": {},
   "outputs": [
    {
     "data": {
      "text/plain": [
       "YYY_pvoixAUG    0.009592\n",
       "YYY_pvoixNUP    0.294964\n",
       "YYY_pvoixDVG    0.000000\n",
       "YYY_pvoixECO    0.000000\n",
       "YYY_pvoixREG    0.000000\n",
       "YYY_pvoixENS    0.395683\n",
       "YYY_pvoixUDI    0.000000\n",
       "YYY_pvoixLR     0.088729\n",
       "YYY_pvoixDVD    0.000000\n",
       "YYY_pvoixREC    0.040767\n",
       "YYY_pvoixRN     0.170264\n",
       "Name: 39177, dtype: float64"
      ]
     },
     "execution_count": 165,
     "metadata": {},
     "output_type": "execute_result"
    }
   ],
   "source": [
    "y_test.iloc[0]"
   ]
  },
  {
   "cell_type": "code",
   "execution_count": 167,
   "id": "614305eb-11e2-4576-9b39-49da79d33a6d",
   "metadata": {},
   "outputs": [
    {
     "data": {
      "text/plain": [
       "['AUG', 'NUP', 'DVG', 'ECO', 'REG', 'ENS', 'UDI', 'LR', 'DVD', 'REC', 'RN']"
      ]
     },
     "execution_count": 167,
     "metadata": {},
     "output_type": "execute_result"
    }
   ],
   "source": [
    "target_title=[]\n",
    "for c in y_test : \n",
    "    target_title.append(c[9:])\n",
    "target_title  "
   ]
  },
  {
   "cell_type": "code",
   "execution_count": 171,
   "id": "e7815bb0-b316-4b57-b830-5921724d0f44",
   "metadata": {},
   "outputs": [
    {
     "name": "stdout",
     "output_type": "stream",
     "text": [
      "X: 1475\n",
      "dep                                 04\n",
      "nomdep         ALPES-DE-HAUTE-PROVENCE\n",
      "codecommune                      04013\n",
      "nomcommune                   AUBIGNOSC\n",
      "Name: 04013, dtype: object\n",
      "AUG : 0.019658107 > 0.012948208  >>>  0.006709899310533524  >>>  0.3413298749741852\n",
      "NUP : 0.28878126 > 0.27191234  >>>  0.016868915483627345  >>>  0.05841416353487577\n",
      "DVG : 0.026710555 > 0.0  >>>  0.02671055495738983  >>>  1.0\n",
      "ECO : 0.02362611 > 0.04681275  >>>  -0.023186640414834023  >>>  -0.9813990039812613\n",
      "REG : 0.016958749 > 0.0  >>>  0.016958748921751976  >>>  1.0\n",
      "ENS : 0.15867114 > 0.24601594  >>>  -0.08734479932922362  >>>  -0.5504769106718255\n",
      "UDI : 0.0010576048 > 0.0  >>>  0.001057604793459177  >>>  1.0\n",
      "LR : 0.050214782 > 0.0  >>>  0.05021478235721588  >>>  1.0\n",
      "DVD : 0.033202764 > 0.070717134  >>>  -0.03751437035315895  >>>  -1.1298568622834537\n",
      "REC : 0.037619688 > 0.048804782  >>>  -0.011185094383174894  >>>  -0.2973202355399796\n",
      "RN : 0.29964826 > 0.30278885  >>>  -0.003140594890213011  >>>  -0.010480938355747609\n"
     ]
    }
   ],
   "source": [
    "import random \n",
    "x = np.random.randint(len(y_test))\n",
    "print ('X:',x)\n",
    "print (df_infoC.iloc[x])\n",
    "pred = multioutputregressor.predict([X_test_scaled[x]]) \n",
    "for i in range (len(pred[0])) :\n",
    "    print (target_title[i] , ':', pred[0][i], '>', y_test.iloc[x,i] ,' >>> ', pred[0][i] - y_test.iloc[x,i],' >>> ', (pred[0][i] - y_test.iloc[x,i])/pred[0][i])"
   ]
  },
  {
   "cell_type": "code",
   "execution_count": 172,
   "id": "4c3c0d42-99bb-4ac9-916a-65fa4a28fea6",
   "metadata": {},
   "outputs": [
    {
     "data": {
      "image/png": "[encoded data removed]",
      "text/plain": [
       "<Figure size 1200x600 with 2 Axes>"
      ]
     },
     "metadata": {},
     "output_type": "display_data"
    }
   ],
   "source": [
    "import matplotlib.pyplot as plt\n",
    "\n",
    "values1 = y_test.iloc[x]\n",
    "values2 = pred[0]\n",
    "# Create a figure with two subplots\n",
    "fig, axs = plt.subplots(1, 2, figsize=(12, 6))\n",
    "\n",
    "# Plot the first pie chart\n",
    "axs[0].pie(values1, labels=target_title , autopct='%1.1f%%', startangle=90)\n",
    "axs[0].set_title('MODEL')\n",
    "\n",
    "# Plot the second pie chart\n",
    "axs[1].pie(values2, labels=target_title , autopct='%1.1f%%', startangle=90)\n",
    "axs[1].set_title('REALITE')\n",
    "\n",
    "# Adjust layout\n",
    "plt.tight_layout()\n",
    "\n",
    "# Show the plot\n",
    "plt.show()"
   ]
  },
  {
   "cell_type": "code",
   "execution_count": 147,
   "id": "a133dc70-9331-474a-8be7-40db8086c272",
   "metadata": {},
   "outputs": [],
   "source": [
    "feature_importances_target1 = multioutputregressor.estimators_[0].feature_importances_\n",
    "arg_importances_target1 = multioutputregressor.estimators_[0].feature_importances_.argsort()[::-1][:10]\n",
    "feature_importances_target2 = multioutputregressor.estimators_[1].feature_importances_\n",
    "arg_importances_target1 = multioutputregressor.estimators_[1].feature_importances_.argsort()[::-1][:10]"
   ]
  },
  {
   "cell_type": "code",
   "execution_count": 29,
   "id": "d1c0125a-6d4c-45f7-bd54-fff2cd76ad3a",
   "metadata": {},
   "outputs": [
    {
     "data": {
      "text/plain": [
       "(0.0138891665, 0.0)"
      ]
     },
     "execution_count": 29,
     "metadata": {},
     "output_type": "execute_result"
    }
   ],
   "source": [
    "feature_importances_target1.max(),feature_importances_target1.min()"
   ]
  },
  {
   "cell_type": "code",
   "execution_count": 30,
   "id": "527daff5-ec12-4a7d-bf11-7dac755fb8ae",
   "metadata": {},
   "outputs": [
    {
     "data": {
      "text/plain": [
       "(array([ 93,  32,  89,  27,  88, 135,  95, 147, 165,  98]),\n",
       " array([0.00246969, 0.00482557, 0.00779676, 0.00457637, 0.00788087,\n",
       "        0.00407182, 0.00301046, 0.01029533, 0.00363317, 0.00559809,\n",
       "        0.00448724, 0.00340748, 0.00270983, 0.00447869, 0.00473015,\n",
       "        0.00585159, 0.00587648, 0.00486557, 0.00537816, 0.0046176 ,\n",
       "        0.00420564, 0.00456455, 0.00505351, 0.00572109, 0.00620401,\n",
       "        0.00537334, 0.00572823, 0.00541269, 0.0053479 , 0.00486672,\n",
       "        0.00519859, 0.00376551, 0.00304091, 0.00676603, 0.0055177 ,\n",
       "        0.00521203, 0.00544576, 0.00581332, 0.00439198, 0.00602599,\n",
       "        0.00628504, 0.00585694, 0.00554956, 0.00629267, 0.00643094,\n",
       "        0.00739308, 0.00408618, 0.00612746, 0.01026104, 0.00446481,\n",
       "        0.00500153, 0.00496477, 0.00568664, 0.00475938, 0.00518042,\n",
       "        0.00598802, 0.00647969, 0.00529708, 0.00434462, 0.00472525,\n",
       "        0.00505065, 0.00850956, 0.0072604 , 0.00672032, 0.00614903,\n",
       "        0.00544744, 0.00533441, 0.01368646, 0.00568049, 0.00514957,\n",
       "        0.0086732 , 0.00592081, 0.00561299, 0.00462767, 0.00666516,\n",
       "        0.00632729, 0.00664767, 0.00671106, 0.00449684, 0.00630233,\n",
       "        0.0048866 , 0.00679832, 0.00569633, 0.00517224, 0.00587879,\n",
       "        0.00464586, 0.00611191, 0.00602329, 0.0090525 , 0.01077321,\n",
       "        0.00436358, 0.00543658, 0.00724275, 0.00532811, 0.00468878,\n",
       "        0.00707027, 0.00459089, 0.00670416, 0.00542143, 0.00746511,\n",
       "        0.0065994 , 0.00867276, 0.00479571, 0.00900083, 0.00706564,\n",
       "        0.00959894, 0.00745226, 0.0063113 , 0.00391925, 0.0073679 ,\n",
       "        0.0060218 , 0.00849531, 0.00487832, 0.01388917, 0.00519714,\n",
       "        0.00666386, 0.00432803, 0.00547061, 0.00707254, 0.00641236,\n",
       "        0.00506449, 0.00649222, 0.00395267, 0.00478925, 0.0045023 ,\n",
       "        0.00557021, 0.0075498 , 0.00527868, 0.00745546, 0.00689116,\n",
       "        0.00516747, 0.004793  , 0.00820774, 0.0052251 , 0.00722224,\n",
       "        0.00651796, 0.00415447, 0.00710066, 0.00450448, 0.00566761,\n",
       "        0.00456955, 0.00591876, 0.00709085, 0.00711042, 0.00784285,\n",
       "        0.0046687 , 0.00565939, 0.00539016, 0.00871092, 0.00628267,\n",
       "        0.00950013, 0.00561862, 0.00451086, 0.00261553, 0.01295635,\n",
       "        0.00637539, 0.0094535 , 0.        , 0.00471258, 0.00701917,\n",
       "        0.00438205, 0.00525259, 0.00389316, 0.00559613, 0.00428594,\n",
       "        0.00535408, 0.00567248, 0.00525846, 0.00526306], dtype=float32))"
      ]
     },
     "execution_count": 30,
     "metadata": {},
     "output_type": "execute_result"
    }
   ],
   "source": [
    "arg_importances_target1, feature_importances_target1"
   ]
  },
  {
   "cell_type": "code",
   "execution_count": 35,
   "id": "6a0f9c82-5e3a-40ec-8524-c8f498cfdb79",
   "metadata": {},
   "outputs": [
    {
     "data": {
      "text/plain": [
       "'KP1_capitalimmo12'"
      ]
     },
     "execution_count": 35,
     "metadata": {},
     "output_type": "execute_result"
    }
   ],
   "source": [
    "titr_cols_list[113]"
   ]
  },
  {
   "cell_type": "code",
   "execution_count": 44,
   "id": "c008f49c-02fc-4b4c-93a7-cff4c2f21456",
   "metadata": {},
   "outputs": [
    {
     "name": "stdout",
     "output_type": "stream",
     "text": [
      "Top Features for Target1:\n",
      "    Feature_Index  Feature_Importance               info\n",
      "0             113            0.013889  KP1_capitalimmo12\n",
      "1              67            0.013686     AGE_prop014_02\n",
      "2             154            0.012956        DIP_supf_02\n",
      "3              89            0.010773    AGE_prop1539_92\n",
      "4               7            0.010295       YYY_pvoixREG\n",
      "5              48            0.010261    AGE_prop4059_12\n",
      "6             105            0.009599       KP0_prim2_P1\n",
      "7             150            0.009500         DIP_bac_02\n",
      "8             156            0.009453        DIP_psup_02\n",
      "9              88            0.009053     AGE_prop014_92\n",
      "10            103            0.009001     KP0_SurfTer_P1\n",
      "11            148            0.008711      DIP_nodipf_02\n",
      "12             70            0.008673     AGE_prop60p_02\n",
      "13            101            0.008673         KP0_Pri_P1\n",
      "14             61            0.008510    AGE_popf4059_02\n",
      "15            111            0.008495  KP1_capitalimmo22\n",
      "16            132            0.008208        DIP_bach_22\n",
      "17              4            0.007881       YYY_pvoixNUP\n",
      "18            144            0.007843        DIP_supf_12\n",
      "19              2            0.007797       TAR_exprimes\n",
      "20            126            0.007550    PRO_nlogement92\n",
      "21             99            0.007465       GEO_latitude\n",
      "22            128            0.007455      DIP_nodipf_22\n",
      "23            106            0.007452         KP0_Pri_P2\n",
      "24             45            0.007393     AGE_poph60p_12\n",
      "25            109            0.007368     KP0_transac_P2\n",
      "26             62            0.007260     AGE_popf60p_02\n",
      "27             92            0.007243    AGE_propf014_92\n",
      "28            134            0.007222        DIP_supf_22\n",
      "29            143            0.007110         DIP_sup_12\n",
      "30            137            0.007101       DIP_nodip_12\n",
      "31            142            0.007091        DIP_bach_12\n",
      "32            118            0.007073     KP1_prixbien92\n",
      "33             95            0.007070    AGE_propf60p_92\n",
      "34            104            0.007066     KP0_transac_P1\n",
      "35            159            0.007019      DIP_nodiph_92\n",
      "36            129            0.006891      DIP_nodiph_22\n",
      "37             81            0.006798    AGE_popf1539_92\n",
      "38             33            0.006766         AGE_age_22\n",
      "39             63            0.006720     AGE_poph014_02\n",
      "40             77            0.006711        AGE_ageh_02\n",
      "41             97            0.006704        AGE_agef_92\n",
      "42             74            0.006665    AGE_propf60p_02\n",
      "43            115            0.006664  KP1_capitalimmo02\n",
      "44             76            0.006648        AGE_agef_02\n",
      "45            100            0.006599      GEO_longitude\n",
      "46            135            0.006518        DIP_pbac_22\n",
      "47            121            0.006492      PRO_ppropri12\n",
      "48             56            0.006480        AGE_ageh_12\n",
      "49             44            0.006431    AGE_poph4059_12\n"
     ]
    }
   ],
   "source": [
    "\n",
    "# Access feature importances for the first target\n",
    "feature_importances_target1 = multioutputregressor.estimators_[0].feature_importances_\n",
    "\n",
    "# Get the indices of the top 10 features for the first target\n",
    "top_features_indices_target1 = feature_importances_target1.argsort()[::-1][:50]\n",
    "\n",
    "# Create a DataFrame to store the results\n",
    "top_features_df_target1 = pd.DataFrame({\n",
    "    'Feature_Index': top_features_indices_target1,\n",
    "    'Feature_Importance': feature_importances_target1[top_features_indices_target1]\n",
    "})\n",
    "\n",
    "top_features_df_target1['info'] = top_features_df_target1['Feature_Index'].apply(lambda x: titr_cols_list[x])\n",
    "\n",
    "# Print the DataFrame with the top features for the first target\n",
    "print(\"Top Features for Target1:\")\n",
    "print(top_features_df_target1)"
   ]
  },
  {
   "cell_type": "code",
   "execution_count": null,
   "id": "d0fabbaf-584c-4772-9597-3502d14ce8b1",
   "metadata": {},
   "outputs": [],
   "source": []
  },
  {
   "cell_type": "code",
   "execution_count": null,
   "id": "a7297a3e-3b78-43f8-9468-d0005e2078f2",
   "metadata": {},
   "outputs": [],
   "source": []
  },
  {
   "cell_type": "code",
   "execution_count": 40,
   "id": "fbd3ced3-b50b-4ad7-94fd-715660c1bac6",
   "metadata": {},
   "outputs": [
    {
     "data": {
      "text/plain": [
       "array([[ 1.2073030e-02,  2.0008838e-01,  9.6360259e-03,  1.6450570e-03,\n",
       "        -2.7248161e-04,  2.7795851e-01,  1.4061260e-03,  1.9512649e-01,\n",
       "         2.8967749e-02,  3.8176954e-02,  1.7173229e-01]], dtype=float32)"
      ]
     },
     "execution_count": 40,
     "metadata": {},
     "output_type": "execute_result"
    }
   ],
   "source": [
    "pred0"
   ]
  },
  {
   "cell_type": "code",
   "execution_count": 51,
   "id": "a19db921-1747-48a6-bf16-2feef8365c90",
   "metadata": {},
   "outputs": [
    {
     "ename": "AttributeError",
     "evalue": "'MultiOutputRegressor' object has no attribute 'best_estimator_'",
     "output_type": "error",
     "traceback": [
      "\u001b[0;31m---------------------------------------------------------------------------\u001b[0m",
      "\u001b[0;31mAttributeError\u001b[0m                            Traceback (most recent call last)",
      "Cell \u001b[0;32mIn [51], line 1\u001b[0m\n\u001b[0;32m----> 1\u001b[0m \u001b[43mmultioutputregressor\u001b[49m\u001b[38;5;241;43m.\u001b[39;49m\u001b[43mbest_estimator_\u001b[49m\u001b[38;5;241m.\u001b[39mfeature_importances_\n",
      "\u001b[0;31mAttributeError\u001b[0m: 'MultiOutputRegressor' object has no attribute 'best_estimator_'"
     ]
    }
   ],
   "source": [
    "multioutputregressor.best_estimator_.feature_importances_"
   ]
  },
  {
   "cell_type": "code",
   "execution_count": 19,
   "id": "93a30ce7-7313-4b04-b972-4b0cc44ea3b2",
   "metadata": {},
   "outputs": [
    {
     "ename": "ValueError",
     "evalue": "Invalid classes inferred from unique values of `y`.  Expected: [    0     1     2 ... 62762 62763 62764], got [0.0000000e+00 4.5981240e-05 9.7314129e-05 ... 9.5973152e-01 9.7619045e-01\n 1.0000000e+00]",
     "output_type": "error",
     "traceback": [
      "\u001b[0;31m---------------------------------------------------------------------------\u001b[0m",
      "\u001b[0;31mValueError\u001b[0m                                Traceback (most recent call last)",
      "Cell \u001b[0;32mIn [19], line 5\u001b[0m\n\u001b[1;32m      2\u001b[0m model \u001b[38;5;241m=\u001b[39m xgb\u001b[38;5;241m.\u001b[39mXGBClassifier(objective\u001b[38;5;241m=\u001b[39m\u001b[38;5;124m'\u001b[39m\u001b[38;5;124mmulti:softmax\u001b[39m\u001b[38;5;124m'\u001b[39m, num_class\u001b[38;5;241m=\u001b[39m\u001b[38;5;28mlen\u001b[39m(\u001b[38;5;28mset\u001b[39m(y)))\n\u001b[1;32m      4\u001b[0m \u001b[38;5;66;03m# Train the model\u001b[39;00m\n\u001b[0;32m----> 5\u001b[0m \u001b[43mmodel\u001b[49m\u001b[38;5;241;43m.\u001b[39;49m\u001b[43mfit\u001b[49m\u001b[43m(\u001b[49m\u001b[43mX_train_scaled\u001b[49m\u001b[43m,\u001b[49m\u001b[43m \u001b[49m\u001b[43my_train\u001b[49m\u001b[43m)\u001b[49m\n\u001b[1;32m      7\u001b[0m \u001b[38;5;66;03m# Make predictions on the test set\u001b[39;00m\n\u001b[1;32m      8\u001b[0m y_pred \u001b[38;5;241m=\u001b[39m model\u001b[38;5;241m.\u001b[39mpredict(X_test_scaled)\n",
      "File \u001b[0;32m~/.pyenv/versions/3.10.12/envs/artefact/lib/python3.10/site-packages/xgboost/core.py:575\u001b[0m, in \u001b[0;36m_deprecate_positional_args.<locals>.inner_f\u001b[0;34m(*args, **kwargs)\u001b[0m\n\u001b[1;32m    573\u001b[0m \u001b[38;5;28;01mfor\u001b[39;00m k, arg \u001b[38;5;129;01min\u001b[39;00m \u001b[38;5;28mzip\u001b[39m(sig\u001b[38;5;241m.\u001b[39mparameters, args):\n\u001b[1;32m    574\u001b[0m     kwargs[k] \u001b[38;5;241m=\u001b[39m arg\n\u001b[0;32m--> 575\u001b[0m \u001b[38;5;28;01mreturn\u001b[39;00m \u001b[43mf\u001b[49m\u001b[43m(\u001b[49m\u001b[38;5;241;43m*\u001b[39;49m\u001b[38;5;241;43m*\u001b[39;49m\u001b[43mkwargs\u001b[49m\u001b[43m)\u001b[49m\n",
      "File \u001b[0;32m~/.pyenv/versions/3.10.12/envs/artefact/lib/python3.10/site-packages/xgboost/sklearn.py:1357\u001b[0m, in \u001b[0;36mXGBClassifier.fit\u001b[0;34m(self, X, y, sample_weight, base_margin, eval_set, eval_metric, early_stopping_rounds, verbose, xgb_model, sample_weight_eval_set, base_margin_eval_set, feature_weights, callbacks)\u001b[0m\n\u001b[1;32m   1352\u001b[0m     expected_classes \u001b[38;5;241m=\u001b[39m np\u001b[38;5;241m.\u001b[39marange(\u001b[38;5;28mself\u001b[39m\u001b[38;5;241m.\u001b[39mn_classes_)\n\u001b[1;32m   1353\u001b[0m \u001b[38;5;28;01mif\u001b[39;00m (\n\u001b[1;32m   1354\u001b[0m     \u001b[38;5;28mself\u001b[39m\u001b[38;5;241m.\u001b[39mclasses_\u001b[38;5;241m.\u001b[39mshape \u001b[38;5;241m!=\u001b[39m expected_classes\u001b[38;5;241m.\u001b[39mshape\n\u001b[1;32m   1355\u001b[0m     \u001b[38;5;129;01mor\u001b[39;00m \u001b[38;5;129;01mnot\u001b[39;00m (\u001b[38;5;28mself\u001b[39m\u001b[38;5;241m.\u001b[39mclasses_ \u001b[38;5;241m==\u001b[39m expected_classes)\u001b[38;5;241m.\u001b[39mall()\n\u001b[1;32m   1356\u001b[0m ):\n\u001b[0;32m-> 1357\u001b[0m     \u001b[38;5;28;01mraise\u001b[39;00m \u001b[38;5;167;01mValueError\u001b[39;00m(\n\u001b[1;32m   1358\u001b[0m         \u001b[38;5;124mf\u001b[39m\u001b[38;5;124m\"\u001b[39m\u001b[38;5;124mInvalid classes inferred from unique values of `y`.  \u001b[39m\u001b[38;5;124m\"\u001b[39m\n\u001b[1;32m   1359\u001b[0m         \u001b[38;5;124mf\u001b[39m\u001b[38;5;124m\"\u001b[39m\u001b[38;5;124mExpected: \u001b[39m\u001b[38;5;132;01m{\u001b[39;00mexpected_classes\u001b[38;5;132;01m}\u001b[39;00m\u001b[38;5;124m, got \u001b[39m\u001b[38;5;132;01m{\u001b[39;00m\u001b[38;5;28mself\u001b[39m\u001b[38;5;241m.\u001b[39mclasses_\u001b[38;5;132;01m}\u001b[39;00m\u001b[38;5;124m\"\u001b[39m\n\u001b[1;32m   1360\u001b[0m     )\n\u001b[1;32m   1362\u001b[0m params \u001b[38;5;241m=\u001b[39m \u001b[38;5;28mself\u001b[39m\u001b[38;5;241m.\u001b[39mget_xgb_params()\n\u001b[1;32m   1364\u001b[0m \u001b[38;5;28;01mif\u001b[39;00m callable(\u001b[38;5;28mself\u001b[39m\u001b[38;5;241m.\u001b[39mobjective):\n",
      "\u001b[0;31mValueError\u001b[0m: Invalid classes inferred from unique values of `y`.  Expected: [    0     1     2 ... 62762 62763 62764], got [0.0000000e+00 4.5981240e-05 9.7314129e-05 ... 9.5973152e-01 9.7619045e-01\n 1.0000000e+00]"
     ]
    }
   ],
   "source": [
    "# Create an XGBoost classifier\n",
    "model = xgb.XGBClassifier(objective='multi:softmax', num_class=len(set(y)))\n",
    "\n",
    "# Train the model\n",
    "model.fit(X_train_scaled, y_train)\n",
    "\n",
    "# Make predictions on the test set\n",
    "y_pred = model.predict(X_test_scaled)\n",
    "\n",
    "# Evaluate the model\n",
    "accuracy = accuracy_score(y_test, y_pred)\n",
    "print(f\"Accuracy: {accuracy:.2f}\")\n",
    "\n",
    "# Display classification report\n",
    "print(\"Classification Report:\")\n",
    "print(classification_report(y_test, y_pred))"
   ]
  },
  {
   "cell_type": "code",
   "execution_count": 20,
   "id": "0f397303-749b-497a-a7b4-49db03a1a51d",
   "metadata": {},
   "outputs": [
    {
     "name": "stdout",
     "output_type": "stream",
     "text": [
      "Accuracy: 1.00\n",
      "Classification Report:\n",
      "              precision    recall  f1-score   support\n",
      "\n",
      "           0       1.00      1.00      1.00        10\n",
      "           1       1.00      1.00      1.00         9\n",
      "           2       1.00      1.00      1.00        11\n",
      "\n",
      "    accuracy                           1.00        30\n",
      "   macro avg       1.00      1.00      1.00        30\n",
      "weighted avg       1.00      1.00      1.00        30\n",
      "\n"
     ]
    }
   ],
   "source": [
    "import xgboost as xgb\n",
    "from sklearn.datasets import load_iris\n",
    "from sklearn.model_selection import train_test_split\n",
    "from sklearn.metrics import accuracy_score, classification_report\n",
    "\n",
    "# Load the Iris dataset as an example\n",
    "data = load_iris()\n",
    "X = data.data\n",
    "y = data.target\n",
    "\n",
    "# Split the data into training and testing sets\n",
    "X_train, X_test, y_train, y_test = train_test_split(X, y, test_size=0.2, random_state=42)\n",
    "\n",
    "# Create an XGBoost classifier\n",
    "model = xgb.XGBClassifier(objective='multi:softmax', num_class=len(set(y)))\n",
    "\n",
    "# Train the model\n",
    "model.fit(X_train, y_train)\n",
    "\n",
    "# Make predictions on the test set\n",
    "y_pred = model.predict(X_test)\n",
    "\n",
    "# Evaluate the model\n",
    "accuracy = accuracy_score(y_test, y_pred)\n",
    "print(f\"Accuracy: {accuracy:.2f}\")\n",
    "\n",
    "# Display classification report\n",
    "print(\"Classification Report:\")\n",
    "print(classification_report(y_test, y_pred))"
   ]
  },
  {
   "cell_type": "code",
   "execution_count": 21,
   "id": "08281e8c-bfb1-4bf1-ab89-c2b0ea4f648b",
   "metadata": {},
   "outputs": [
    {
     "data": {
      "text/plain": [
       "array([0, 0, 0, 0, 0, 0, 0, 0, 0, 0, 0, 0, 0, 0, 0, 0, 0, 0, 0, 0, 0, 0,\n",
       "       0, 0, 0, 0, 0, 0, 0, 0, 0, 0, 0, 0, 0, 0, 0, 0, 0, 0, 0, 0, 0, 0,\n",
       "       0, 0, 0, 0, 0, 0, 1, 1, 1, 1, 1, 1, 1, 1, 1, 1, 1, 1, 1, 1, 1, 1,\n",
       "       1, 1, 1, 1, 1, 1, 1, 1, 1, 1, 1, 1, 1, 1, 1, 1, 1, 1, 1, 1, 1, 1,\n",
       "       1, 1, 1, 1, 1, 1, 1, 1, 1, 1, 1, 1, 2, 2, 2, 2, 2, 2, 2, 2, 2, 2,\n",
       "       2, 2, 2, 2, 2, 2, 2, 2, 2, 2, 2, 2, 2, 2, 2, 2, 2, 2, 2, 2, 2, 2,\n",
       "       2, 2, 2, 2, 2, 2, 2, 2, 2, 2, 2, 2, 2, 2, 2, 2, 2, 2])"
      ]
     },
     "execution_count": 21,
     "metadata": {},
     "output_type": "execute_result"
    }
   ],
   "source": [
    "y"
   ]
  },
  {
   "cell_type": "code",
   "execution_count": null,
   "id": "6d3985f0-c0bf-4791-ac0a-5f3677418345",
   "metadata": {},
   "outputs": [],
   "source": []
  }
 ],
 "metadata": {
  "kernelspec": {
   "display_name": "Python 3 (ipykernel)",
   "language": "python",
   "name": "python3"
  },
  "language_info": {
   "codemirror_mode": {
    "name": "ipython",
    "version": 3
   },
   "file_extension": ".py",
   "mimetype": "text/x-python",
   "name": "python",
   "nbconvert_exporter": "python",
   "pygments_lexer": "ipython3",
   "version": "3.10.12"
  }
 },
 "nbformat": 4,
 "nbformat_minor": 5
}
