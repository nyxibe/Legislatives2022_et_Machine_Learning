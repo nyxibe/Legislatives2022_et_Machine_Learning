{
 "cells": [
  {
   "cell_type": "code",
   "execution_count": 1,
   "metadata": {},
   "outputs": [
    {
     "name": "stderr",
     "output_type": "stream",
     "text": [
      "/tmp/ipykernel_38182/4080736814.py:1: DeprecationWarning: \n",
      "Pyarrow will become a required dependency of pandas in the next major release of pandas (pandas 3.0),\n",
      "(to allow more performant data types, such as the Arrow string type, and better interoperability with other libraries)\n",
      "but was not found to be installed on your system.\n",
      "If this would cause problems for you,\n",
      "please provide us feedback at https://github.com/pandas-dev/pandas/issues/54466\n",
      "        \n",
      "  import pandas as pd\n"
     ]
    }
   ],
   "source": [
    "import pandas as pd"
   ]
  },
  {
   "cell_type": "code",
   "execution_count": 2,
   "metadata": {},
   "outputs": [
    {
     "name": "stderr",
     "output_type": "stream",
     "text": [
      "/tmp/ipykernel_38182/1955961357.py:1: DtypeWarning: Columns (0,2) have mixed types. Specify dtype option on import or set low_memory=False.\n",
      "  df = pd.read_csv('religiositecommunes.csv')\n"
     ]
    }
   ],
   "source": [
    "df = pd.read_csv('religiositecommunes.csv')"
   ]
  },
  {
   "cell_type": "code",
   "execution_count": 3,
   "metadata": {},
   "outputs": [
    {
     "data": {
      "text/plain": [
       "Index(['dep', 'nomdep', 'codecommune', 'nomcommune', 'perrefra', 'perpriv',\n",
       "       'perprivf', 'perprive', 'perprives', 'prefract1791', 'nclerge1791',\n",
       "       'nrefract1791', 'privecanton1894_prim', 'privecanton1894f_prim',\n",
       "       'ncantonprim1894', 'ncantonprim1894_pr', 'ncantonprim1894f_pr',\n",
       "       'ncantonprim1894f', 'privecanton2021_prim', 'privecanton2021_seco',\n",
       "       'ncantonprim2021_pr', 'ncantonprim2021', 'ncantonseco2021_pr',\n",
       "       'ncantonseco2021'],\n",
       "      dtype='object')"
      ]
     },
     "execution_count": 3,
     "metadata": {},
     "output_type": "execute_result"
    }
   ],
   "source": [
    "df.columns"
   ]
  },
  {
   "cell_type": "code",
   "execution_count": 5,
   "metadata": {},
   "outputs": [
    {
     "data": {
      "text/plain": [
       "(36629, 24)"
      ]
     },
     "execution_count": 5,
     "metadata": {},
     "output_type": "execute_result"
    }
   ],
   "source": [
    "df.shape"
   ]
  },
  {
   "cell_type": "code",
   "execution_count": 4,
   "metadata": {},
   "outputs": [
    {
     "data": {
      "text/plain": [
       "dep                         0\n",
       "nomdep                     35\n",
       "codecommune                 0\n",
       "nomcommune                  0\n",
       "perrefra                 2521\n",
       "perpriv                  4930\n",
       "perprivf                 4930\n",
       "perprive                   36\n",
       "perprives                  36\n",
       "prefract1791             5609\n",
       "nclerge1791              2521\n",
       "nrefract1791             2521\n",
       "privecanton1894_prim     5829\n",
       "privecanton1894f_prim    5861\n",
       "ncantonprim1894          4930\n",
       "ncantonprim1894_pr       4930\n",
       "ncantonprim1894f_pr      4930\n",
       "ncantonprim1894f         4930\n",
       "privecanton2021_prim       36\n",
       "privecanton2021_seco       36\n",
       "ncantonprim2021_pr         36\n",
       "ncantonprim2021            36\n",
       "ncantonseco2021_pr         36\n",
       "ncantonseco2021            36\n",
       "dtype: int64"
      ]
     },
     "execution_count": 4,
     "metadata": {},
     "output_type": "execute_result"
    }
   ],
   "source": [
    "df.isna().sum()"
   ]
  },
  {
   "cell_type": "code",
   "execution_count": null,
   "metadata": {},
   "outputs": [],
   "source": []
  }
 ],
 "metadata": {
  "kernelspec": {
   "display_name": ".hcp",
   "language": "python",
   "name": "python3"
  },
  "language_info": {
   "codemirror_mode": {
    "name": "ipython",
    "version": 3
   },
   "file_extension": ".py",
   "mimetype": "text/x-python",
   "name": "python",
   "nbconvert_exporter": "python",
   "pygments_lexer": "ipython3",
   "version": "3.10.4"
  }
 },
 "nbformat": 4,
 "nbformat_minor": 2
}
