{
 "cells": [
  {
   "cell_type": "markdown",
   "id": "ea3e4cdc-4ad0-480e-8a5e-0e4e4dee9ac3",
   "metadata": {},
   "source": [
    "# <center>  Model Creat Dataframe diplomescommuness [DIP]<br/></center>\n",
    "<a name=\"TOP\"></a>\n",
    "- dev : nyx\n",
    "- Fichier CSV : Diplomes_csv/Diplomes_csv/diplomescommunes.csv</a>\n",
    "\n",
    "ALERTES 98 lignes à Nan \n",
    "Faire les plus proches voisins apres FUSION ?\n",
    "    \n",
    "# Description Fichiers : \n",
    "Capital immo pour 2022 , 2012 , 2002 , 1992\n",
    "avec pour chaque année :\n",
    "    4 capital immo\n",
    "    5 prix du bien\n",
    "\n",
    "# Synthese des Actions :\n",
    "Plus de 1000 communes non renseignees flag 1 pour BL_bug\n",
    "creation de lignes avec que des 0\n",
    "  \n",
    "**<u>MENU</u>** \n",
    "- <a href=\"#Import\">P0 : Import CSV</a>\n",
    "- <a href=\"#EDA\">P1 : Mini EDA</a>\n",
    "- <a href=\"#Nan\">P2 : Traitement des Nan</a>\n",
    "- <a href=\"#TRANSCO\">P3 : Filtres et/ou calculs</a>\n",
    "- <a href=\"#EXPORT\">P4 : EXPORT (/DATA/EXPORT_CSV/final_xxxxxxx.csv)</a>\n",
    "\n",
    "\n",
    "\n"
   ]
  },
  {
   "cell_type": "markdown",
   "id": "ca339594-e0cb-478d-b4fb-3e1af6de883d",
   "metadata": {},
   "source": [
    "PREFIXE FICHIER : KP1\n",
    "Structure :\n",
    "\n",
    "    0 dep\n",
    "    1 nomdep\n",
    "    2 codecommune\n",
    "    3 nomcommune\n",
    "    4 KP1_capitalimmo22\n",
    "    5 KP1_prixbien22\n",
    "    6 KP1_capitalimmo12\n",
    "    7 KP1_prixbien12\n",
    "    8 KP1_capitalimmo02\n",
    "    9 KP1_prixbien02\n",
    "    10 KP1_capitalimmo92\n",
    "    11 KP1_prixbien92\n",
    "    12 DBL_bug (flag à 1 poour les lignes ajoutées avec des Nan A TRAITER)\n",
    "\n",
    "\n"
   ]
  },
  {
   "cell_type": "code",
   "execution_count": 1,
   "id": "95d983a2-4b3e-4b94-855b-bf6d33d4ba75",
   "metadata": {},
   "outputs": [],
   "source": [
    "import warnings\n",
    "warnings.filterwarnings(\"ignore\")\n",
    "\n",
    "import os\n",
    "import zipfile\n",
    "import pandas as pd\n",
    "import numpy as np\n",
    "\n",
    "import seaborn as sns\n",
    "import matplotlib.pyplot as plt"
   ]
  },
  {
   "cell_type": "markdown",
   "id": "baa4ba11-c303-401b-b654-f6d5a2f6b7b4",
   "metadata": {},
   "source": [
    "## <a name=\"Import\"></a>Partie 0 : Import CSV&nbsp;&nbsp;&nbsp;&nbsp;&nbsp; <a href=\"#TOP\">&uarr;</a>"
   ]
  },
  {
   "cell_type": "code",
   "execution_count": 2,
   "id": "64bd9ee9-428d-4c50-8304-e1a2635a352b",
   "metadata": {},
   "outputs": [],
   "source": [
    "def df_creat(filename, df_dataframe):  \n",
    "    df = df_dataframe[df_dataframe['filename'] == filename]\n",
    "    if len(df) == 1:\n",
    "        row = df.iloc[0]\n",
    "        file = row['path']\n",
    "        if os.path.exists(file):\n",
    "            print(file)\n",
    "            df_from_csv = pd.read_csv(file, encoding='utf-8', low_memory=False)\n",
    "            return df_from_csv\n",
    "        else:\n",
    "            print('FICHIER NON TROUVE', file)\n",
    "            return pd.DataFrame()\n",
    "    else:\n",
    "        print(f\"filename: '{filename}' return size: {len(df)}\")\n",
    "        return pd.DataFrame()"
   ]
  },
  {
   "cell_type": "code",
   "execution_count": 3,
   "id": "4b858715-3881-4cae-b6f1-59d3e10d9276",
   "metadata": {},
   "outputs": [],
   "source": [
    "csv_file_path = 'df_filtred.csv'\n",
    "# Use pandas to read the CSV file into a DataFrame with UTF-8 encoding\n",
    "df_cat = pd.read_csv(csv_file_path, encoding='utf-8')"
   ]
  },
  {
   "cell_type": "code",
   "execution_count": 4,
   "id": "677ef87c-1d20-4ea9-b483-24fcc6557f7d",
   "metadata": {},
   "outputs": [
    {
     "data": {
      "text/html": [
       "<div>\n",
       "<style scoped>\n",
       "    .dataframe tbody tr th:only-of-type {\n",
       "        vertical-align: middle;\n",
       "    }\n",
       "\n",
       "    .dataframe tbody tr th {\n",
       "        vertical-align: top;\n",
       "    }\n",
       "\n",
       "    .dataframe thead th {\n",
       "        text-align: right;\n",
       "    }\n",
       "</style>\n",
       "<table border=\"1\" class=\"dataframe\">\n",
       "  <thead>\n",
       "    <tr style=\"text-align: right;\">\n",
       "      <th></th>\n",
       "      <th>category</th>\n",
       "      <th>filename</th>\n",
       "      <th>comment</th>\n",
       "      <th>size</th>\n",
       "      <th>depart</th>\n",
       "      <th>district</th>\n",
       "      <th>commune</th>\n",
       "      <th>canton</th>\n",
       "      <th>yyyy</th>\n",
       "      <th>path</th>\n",
       "      <th>codecommune</th>\n",
       "    </tr>\n",
       "  </thead>\n",
       "  <tbody>\n",
       "    <tr>\n",
       "      <th>0</th>\n",
       "      <td>Taille_agglo_commune_csv</td>\n",
       "      <td>codescommunes1999</td>\n",
       "      <td>codes</td>\n",
       "      <td>0</td>\n",
       "      <td>0</td>\n",
       "      <td>0</td>\n",
       "      <td>1</td>\n",
       "      <td>0</td>\n",
       "      <td>1999</td>\n",
       "      <td>../../ProjetCommun/DATA_SOURCES/HCP/Taille_agg...</td>\n",
       "      <td>1</td>\n",
       "    </tr>\n",
       "  </tbody>\n",
       "</table>\n",
       "</div>"
      ],
      "text/plain": [
       "                   category           filename comment  size  depart  \\\n",
       "0  Taille_agglo_commune_csv  codescommunes1999   codes     0       0   \n",
       "\n",
       "   district  commune  canton  yyyy  \\\n",
       "0         0        1       0  1999   \n",
       "\n",
       "                                                path  codecommune  \n",
       "0  ../../ProjetCommun/DATA_SOURCES/HCP/Taille_agg...            1  "
      ]
     },
     "execution_count": 4,
     "metadata": {},
     "output_type": "execute_result"
    }
   ],
   "source": [
    "df_cat.head(1)"
   ]
  },
  {
   "cell_type": "code",
   "execution_count": 5,
   "id": "cad20927-5d97-49d4-ae0b-fab1a76b4d98",
   "metadata": {},
   "outputs": [
    {
     "name": "stdout",
     "output_type": "stream",
     "text": [
      "['01001', '01002', '01004', '01005', '01006', '01007', '01008', '01009', '01010', '01011'] 33830\n"
     ]
    }
   ],
   "source": [
    "file_path = '../DATA/list_codecommune_leg2022_50inscrits.txt'\n",
    "\n",
    "# Open the text file and read lines into a list\n",
    "with open(file_path, 'r', encoding='utf-8') as file:\n",
    "    lines = [line.strip() for line in file.readlines()]\n",
    "\n",
    "# Print or manipulate the list of lines as needed\n",
    "print(lines[0:10], len(lines))"
   ]
  },
  {
   "cell_type": "code",
   "execution_count": 6,
   "id": "04da4fb3-c6ba-4332-9b2a-872c14a87126",
   "metadata": {},
   "outputs": [
    {
     "name": "stdout",
     "output_type": "stream",
     "text": [
      "../../ProjetCommun/DATA_SOURCES/HCP/Diplomes_csv/Diplomes_csv/diplomescommunes.csv\n"
     ]
    }
   ],
   "source": [
    "df = df_creat('diplomescommunes', df_cat)"
   ]
  },
  {
   "cell_type": "markdown",
   "id": "6647aa81-cb46-45dd-a922-b069be341809",
   "metadata": {},
   "source": [
    "## <a name=\"EDA\"></a>Partie 1 : Mini EDA &nbsp;&nbsp;&nbsp;&nbsp;&nbsp; <a href=\"#TOP\">&uarr;</a>"
   ]
  },
  {
   "cell_type": "code",
   "execution_count": 7,
   "id": "cd6d2a1b-246e-4d37-907b-e133b079fa9f",
   "metadata": {},
   "outputs": [
    {
     "data": {
      "text/plain": [
       "(37985, 1163)"
      ]
     },
     "execution_count": 7,
     "metadata": {},
     "output_type": "execute_result"
    }
   ],
   "source": [
    "df.shape"
   ]
  },
  {
   "cell_type": "code",
   "execution_count": 8,
   "id": "594cdd42-69ef-4827-8497-f933f546c1ec",
   "metadata": {},
   "outputs": [
    {
     "data": {
      "text/html": [
       "<div>\n",
       "<style scoped>\n",
       "    .dataframe tbody tr th:only-of-type {\n",
       "        vertical-align: middle;\n",
       "    }\n",
       "\n",
       "    .dataframe tbody tr th {\n",
       "        vertical-align: top;\n",
       "    }\n",
       "\n",
       "    .dataframe thead th {\n",
       "        text-align: right;\n",
       "    }\n",
       "</style>\n",
       "<table border=\"1\" class=\"dataframe\">\n",
       "  <thead>\n",
       "    <tr style=\"text-align: right;\">\n",
       "      <th></th>\n",
       "      <th>dep</th>\n",
       "      <th>nomdep</th>\n",
       "      <th>codecommune</th>\n",
       "      <th>nomcommune</th>\n",
       "      <th>nodiph1962</th>\n",
       "      <th>bach1962</th>\n",
       "      <th>suph1962</th>\n",
       "      <th>nodipf1962</th>\n",
       "      <th>bacf1962</th>\n",
       "      <th>supf1962</th>\n",
       "      <th>...</th>\n",
       "      <th>perbac1955</th>\n",
       "      <th>persup1955</th>\n",
       "      <th>perbac1956</th>\n",
       "      <th>persup1956</th>\n",
       "      <th>perbac1957</th>\n",
       "      <th>persup1957</th>\n",
       "      <th>perbac1958</th>\n",
       "      <th>persup1958</th>\n",
       "      <th>perbac1959</th>\n",
       "      <th>persup1959</th>\n",
       "    </tr>\n",
       "  </thead>\n",
       "  <tbody>\n",
       "    <tr>\n",
       "      <th>0</th>\n",
       "      <td>01</td>\n",
       "      <td>AIN</td>\n",
       "      <td>01001</td>\n",
       "      <td>ABERGEMENT-CLEMENCIAT</td>\n",
       "      <td>121.0</td>\n",
       "      <td>4.0</td>\n",
       "      <td>0.0</td>\n",
       "      <td>116.0</td>\n",
       "      <td>0.0</td>\n",
       "      <td>2.0</td>\n",
       "      <td>...</td>\n",
       "      <td>0.263747</td>\n",
       "      <td>0.258736</td>\n",
       "      <td>0.263747</td>\n",
       "      <td>0.258736</td>\n",
       "      <td>0.263747</td>\n",
       "      <td>0.258736</td>\n",
       "      <td>0.263747</td>\n",
       "      <td>0.258736</td>\n",
       "      <td>0.263747</td>\n",
       "      <td>0.258736</td>\n",
       "    </tr>\n",
       "    <tr>\n",
       "      <th>1</th>\n",
       "      <td>01</td>\n",
       "      <td>AIN</td>\n",
       "      <td>01002</td>\n",
       "      <td>ABERGEMENT-DE-VAREY</td>\n",
       "      <td>40.0</td>\n",
       "      <td>0.0</td>\n",
       "      <td>2.0</td>\n",
       "      <td>19.0</td>\n",
       "      <td>0.0</td>\n",
       "      <td>0.0</td>\n",
       "      <td>...</td>\n",
       "      <td>0.263809</td>\n",
       "      <td>0.642062</td>\n",
       "      <td>0.263809</td>\n",
       "      <td>0.642062</td>\n",
       "      <td>0.263809</td>\n",
       "      <td>0.642062</td>\n",
       "      <td>0.263809</td>\n",
       "      <td>0.642062</td>\n",
       "      <td>0.263809</td>\n",
       "      <td>0.642062</td>\n",
       "    </tr>\n",
       "    <tr>\n",
       "      <th>2</th>\n",
       "      <td>01</td>\n",
       "      <td>AIN</td>\n",
       "      <td>01003</td>\n",
       "      <td>AMAREINS</td>\n",
       "      <td>32.0</td>\n",
       "      <td>0.0</td>\n",
       "      <td>0.0</td>\n",
       "      <td>35.0</td>\n",
       "      <td>0.0</td>\n",
       "      <td>0.0</td>\n",
       "      <td>...</td>\n",
       "      <td>0.047666</td>\n",
       "      <td>0.092142</td>\n",
       "      <td>0.047666</td>\n",
       "      <td>0.092142</td>\n",
       "      <td>0.047666</td>\n",
       "      <td>0.092142</td>\n",
       "      <td>0.047666</td>\n",
       "      <td>0.092142</td>\n",
       "      <td>0.047666</td>\n",
       "      <td>0.092142</td>\n",
       "    </tr>\n",
       "    <tr>\n",
       "      <th>3</th>\n",
       "      <td>01</td>\n",
       "      <td>AIN</td>\n",
       "      <td>01004</td>\n",
       "      <td>AMBERIEU-EN-BUGEY</td>\n",
       "      <td>2241.0</td>\n",
       "      <td>89.0</td>\n",
       "      <td>40.0</td>\n",
       "      <td>2430.0</td>\n",
       "      <td>57.0</td>\n",
       "      <td>16.0</td>\n",
       "      <td>...</td>\n",
       "      <td>0.475746</td>\n",
       "      <td>0.405178</td>\n",
       "      <td>0.475746</td>\n",
       "      <td>0.405178</td>\n",
       "      <td>0.475746</td>\n",
       "      <td>0.405178</td>\n",
       "      <td>0.475746</td>\n",
       "      <td>0.405178</td>\n",
       "      <td>0.475746</td>\n",
       "      <td>0.405178</td>\n",
       "    </tr>\n",
       "    <tr>\n",
       "      <th>4</th>\n",
       "      <td>01</td>\n",
       "      <td>AIN</td>\n",
       "      <td>01005</td>\n",
       "      <td>AMBERIEUX-EN-DOMBES</td>\n",
       "      <td>181.0</td>\n",
       "      <td>0.0</td>\n",
       "      <td>2.0</td>\n",
       "      <td>163.0</td>\n",
       "      <td>0.0</td>\n",
       "      <td>2.0</td>\n",
       "      <td>...</td>\n",
       "      <td>0.140375</td>\n",
       "      <td>0.416333</td>\n",
       "      <td>0.140375</td>\n",
       "      <td>0.416333</td>\n",
       "      <td>0.140375</td>\n",
       "      <td>0.416333</td>\n",
       "      <td>0.140375</td>\n",
       "      <td>0.416333</td>\n",
       "      <td>0.140375</td>\n",
       "      <td>0.416333</td>\n",
       "    </tr>\n",
       "  </tbody>\n",
       "</table>\n",
       "<p>5 rows × 1163 columns</p>\n",
       "</div>"
      ],
      "text/plain": [
       "  dep nomdep codecommune             nomcommune  nodiph1962  bach1962  \\\n",
       "0  01    AIN       01001  ABERGEMENT-CLEMENCIAT       121.0       4.0   \n",
       "1  01    AIN       01002    ABERGEMENT-DE-VAREY        40.0       0.0   \n",
       "2  01    AIN       01003               AMAREINS        32.0       0.0   \n",
       "3  01    AIN       01004      AMBERIEU-EN-BUGEY      2241.0      89.0   \n",
       "4  01    AIN       01005    AMBERIEUX-EN-DOMBES       181.0       0.0   \n",
       "\n",
       "   suph1962  nodipf1962  bacf1962  supf1962  ...  perbac1955  persup1955  \\\n",
       "0       0.0       116.0       0.0       2.0  ...    0.263747    0.258736   \n",
       "1       2.0        19.0       0.0       0.0  ...    0.263809    0.642062   \n",
       "2       0.0        35.0       0.0       0.0  ...    0.047666    0.092142   \n",
       "3      40.0      2430.0      57.0      16.0  ...    0.475746    0.405178   \n",
       "4       2.0       163.0       0.0       2.0  ...    0.140375    0.416333   \n",
       "\n",
       "   perbac1956  persup1956  perbac1957  persup1957  perbac1958  persup1958  \\\n",
       "0    0.263747    0.258736    0.263747    0.258736    0.263747    0.258736   \n",
       "1    0.263809    0.642062    0.263809    0.642062    0.263809    0.642062   \n",
       "2    0.047666    0.092142    0.047666    0.092142    0.047666    0.092142   \n",
       "3    0.475746    0.405178    0.475746    0.405178    0.475746    0.405178   \n",
       "4    0.140375    0.416333    0.140375    0.416333    0.140375    0.416333   \n",
       "\n",
       "   perbac1959  persup1959  \n",
       "0    0.263747    0.258736  \n",
       "1    0.263809    0.642062  \n",
       "2    0.047666    0.092142  \n",
       "3    0.475746    0.405178  \n",
       "4    0.140375    0.416333  \n",
       "\n",
       "[5 rows x 1163 columns]"
      ]
     },
     "execution_count": 8,
     "metadata": {},
     "output_type": "execute_result"
    }
   ],
   "source": [
    "df.head(5)"
   ]
  },
  {
   "cell_type": "code",
   "execution_count": 9,
   "id": "96bc1077-1b6a-45bc-b0e8-2a4ed793f390",
   "metadata": {},
   "outputs": [
    {
     "data": {
      "text/plain": [
       "('01002', 37985)"
      ]
     },
     "execution_count": 9,
     "metadata": {},
     "output_type": "execute_result"
    }
   ],
   "source": [
    "codecommune_listdf = df['codecommune'].tolist()\n",
    "codecommune_listdf[1], len(codecommune_listdf)"
   ]
  },
  {
   "cell_type": "code",
   "execution_count": 10,
   "id": "e8f19ac5-9a03-48b6-ae83-eac8aad6d232",
   "metadata": {},
   "outputs": [
    {
     "data": {
      "text/plain": [
       "(37985, 37985)"
      ]
     },
     "execution_count": 10,
     "metadata": {},
     "output_type": "execute_result"
    }
   ],
   "source": [
    "df['codecommune'].nunique(),len(df)"
   ]
  },
  {
   "cell_type": "code",
   "execution_count": 11,
   "id": "78874cf3-1b32-48f3-b782-10745a8dadca",
   "metadata": {},
   "outputs": [
    {
     "data": {
      "text/plain": [
       "27"
      ]
     },
     "execution_count": 11,
     "metadata": {},
     "output_type": "execute_result"
    }
   ],
   "source": [
    "absent = [x for x in lines if x not in codecommune_listdf]\n",
    "len (absent)"
   ]
  },
  {
   "cell_type": "code",
   "execution_count": null,
   "id": "f8df397f-f52b-44dd-b154-04a631d29711",
   "metadata": {},
   "outputs": [],
   "source": []
  },
  {
   "cell_type": "code",
   "execution_count": 12,
   "id": "af0aa5bf-b220-425a-abb7-478085b19a1f",
   "metadata": {},
   "outputs": [
    {
     "name": "stdout",
     "output_type": "stream",
     "text": [
      "nodiph1992\n",
      "nodiph2002\n",
      "nodiph2012\n",
      "nodiph2022\n",
      "bach1992\n",
      "bach2002\n",
      "bach2012\n",
      "bach2022\n",
      "suph1992\n",
      "suph2002\n",
      "suph2012\n",
      "suph2022\n",
      "nodipf1992\n",
      "nodipf2002\n",
      "nodipf2012\n",
      "nodipf2022\n",
      "bacf1992\n",
      "bacf2002\n",
      "bacf2012\n",
      "bacf2022\n",
      "supf1992\n",
      "supf2002\n",
      "supf2012\n",
      "supf2022\n",
      "nodip1992\n",
      "nodip2002\n",
      "nodip2012\n",
      "nodip2022\n",
      "bac1992\n",
      "bac2002\n",
      "bac2012\n",
      "bac2022\n",
      "sup1992\n",
      "sup2002\n",
      "sup2012\n",
      "sup2022\n",
      "pbac1992\n",
      "perbac1992\n",
      "pbac2002\n",
      "perbac2002\n",
      "pbac2012\n",
      "perbac2012\n",
      "pbac2022\n",
      "perbac2022\n",
      "psup1992\n",
      "persup1992\n",
      "psup2002\n",
      "persup2002\n",
      "psup2012\n",
      "persup2012\n",
      "psup2022\n",
      "persup2022\n",
      "{'dep': '01', 'nomdep': 'AIN', 'codecommune': '01001', 'nomcommune': 'ABERGEMENT-CLEMENCIAT', 'nodiph1992': 171.0, 'nodiph2002': 194.0, 'nodiph2012': 163.0, 'nodiph2022': 155, 'bach1992': 9.0, 'bach2002': 29.0, 'bach2012': 42.0, 'bach2022': 62, 'suph1992': 14.0, 'suph2002': 32.0, 'suph2012': 65.0, 'suph2022': 77, 'nodipf1992': 178.0, 'nodipf2002': 195.0, 'nodipf2012': 149.0, 'nodipf2022': 163, 'bacf1992': 6.0, 'bacf2002': 26.0, 'bacf2012': 42.0, 'bacf2022': 62, 'supf1992': 11.0, 'supf2002': 29.0, 'supf2012': 71.0, 'supf2022': 57, 'nodip1992': 349.0, 'nodip2002': 389.0, 'nodip2012': 313.0, 'nodip2022': 319, 'bac1992': 15.0, 'bac2002': 55.0, 'bac2012': 84.0, 'bac2022': 124, 'sup1992': 24.0, 'sup2002': 61.0, 'sup2012': 136.0, 'sup2022': 134, 'pbac1992': 0.10051546, 'perbac1992': 0.057499167, 'pbac2002': 0.22970296, 'perbac2002': 0.2231572, 'pbac2012': 0.41275796, 'perbac2012': 0.48860568, 'pbac2022': 0.4471404, 'perbac2022': 0.35838944, 'psup1992': 0.06185567, 'persup1992': 0.19213118, 'psup2002': 0.12079208, 'persup2002': 0.23248839, 'psup2012': 0.25515947, 'persup2012': 0.52931195, 'psup2022': 0.2322357, 'persup2022': 0.24207345}\n"
     ]
    }
   ],
   "source": [
    "dico={}\n",
    "list_year=[2022,2012,2002,1992]\n",
    "for c in df :\n",
    "    value =df[c].iloc[0]\n",
    "    try:\n",
    "        last4char = int(c[-4:])\n",
    "        if last4char > 0 and last4char in list_year :\n",
    "            dico[c] = value\n",
    "            print (c)\n",
    "    except ValueError as e:\n",
    "        dico[c] = value\n",
    "print (dico)\n",
    "    "
   ]
  },
  {
   "cell_type": "code",
   "execution_count": 13,
   "id": "8f8e1935-ead2-4706-9e1d-2dc208e8b746",
   "metadata": {},
   "outputs": [
    {
     "data": {
      "text/plain": [
       "(37985, 1163)"
      ]
     },
     "execution_count": 13,
     "metadata": {},
     "output_type": "execute_result"
    }
   ],
   "source": [
    "df.shape"
   ]
  },
  {
   "cell_type": "code",
   "execution_count": 14,
   "id": "f4425fa1-4f56-4b9b-a011-f7ecd86d8103",
   "metadata": {},
   "outputs": [],
   "source": [
    "index_col_sup = df.shape[1]"
   ]
  },
  {
   "cell_type": "code",
   "execution_count": 15,
   "id": "9804fc64-6055-4209-a3ed-9863dcc2f37c",
   "metadata": {},
   "outputs": [
    {
     "data": {
      "text/plain": [
       "(37985, 1203)"
      ]
     },
     "execution_count": 15,
     "metadata": {},
     "output_type": "execute_result"
    }
   ],
   "source": [
    "list_yyyy = [2022,2012,2002,1992]\n",
    "list_indic = ['nodip','nodipf','nodiph',\n",
    "              'bac','bacf','bach',\n",
    "              'sup','supf','supf',             \n",
    "              'pbac','psup']\n",
    "list_col = df.columns.tolist()\n",
    "for yyyy in list_yyyy :\n",
    "    for indic in list_indic :\n",
    "        col_source = str(indic) + str(yyyy)\n",
    "        if col_source in list_col :\n",
    "            yy=str(yyyy)[-2:]\n",
    "            new_col='DIP_'+ str(indic) +'_'+ str(yy)\n",
    "            df[new_col] = df[col_source]\n",
    "df.shape"
   ]
  },
  {
   "cell_type": "code",
   "execution_count": 16,
   "id": "b36dd08b-86ae-44d5-bb48-7e10ea832840",
   "metadata": {},
   "outputs": [
    {
     "data": {
      "text/html": [
       "<div>\n",
       "<style scoped>\n",
       "    .dataframe tbody tr th:only-of-type {\n",
       "        vertical-align: middle;\n",
       "    }\n",
       "\n",
       "    .dataframe tbody tr th {\n",
       "        vertical-align: top;\n",
       "    }\n",
       "\n",
       "    .dataframe thead th {\n",
       "        text-align: right;\n",
       "    }\n",
       "</style>\n",
       "<table border=\"1\" class=\"dataframe\">\n",
       "  <thead>\n",
       "    <tr style=\"text-align: right;\">\n",
       "      <th></th>\n",
       "      <th>dep</th>\n",
       "      <th>nomdep</th>\n",
       "      <th>codecommune</th>\n",
       "      <th>nomcommune</th>\n",
       "      <th>DIP_nodip_22</th>\n",
       "      <th>DIP_nodipf_22</th>\n",
       "      <th>DIP_nodiph_22</th>\n",
       "      <th>DIP_bac_22</th>\n",
       "      <th>DIP_bacf_22</th>\n",
       "      <th>DIP_bach_22</th>\n",
       "      <th>...</th>\n",
       "      <th>DIP_nodip_92</th>\n",
       "      <th>DIP_nodipf_92</th>\n",
       "      <th>DIP_nodiph_92</th>\n",
       "      <th>DIP_bac_92</th>\n",
       "      <th>DIP_bacf_92</th>\n",
       "      <th>DIP_bach_92</th>\n",
       "      <th>DIP_sup_92</th>\n",
       "      <th>DIP_supf_92</th>\n",
       "      <th>DIP_pbac_92</th>\n",
       "      <th>DIP_psup_92</th>\n",
       "    </tr>\n",
       "  </thead>\n",
       "  <tbody>\n",
       "    <tr>\n",
       "      <th>0</th>\n",
       "      <td>01</td>\n",
       "      <td>AIN</td>\n",
       "      <td>01001</td>\n",
       "      <td>ABERGEMENT-CLEMENCIAT</td>\n",
       "      <td>319</td>\n",
       "      <td>163</td>\n",
       "      <td>155</td>\n",
       "      <td>124</td>\n",
       "      <td>62</td>\n",
       "      <td>62</td>\n",
       "      <td>...</td>\n",
       "      <td>349.0</td>\n",
       "      <td>178.0</td>\n",
       "      <td>171.0</td>\n",
       "      <td>15.0</td>\n",
       "      <td>6.0</td>\n",
       "      <td>9.0</td>\n",
       "      <td>24.0</td>\n",
       "      <td>11.0</td>\n",
       "      <td>0.100515</td>\n",
       "      <td>0.061856</td>\n",
       "    </tr>\n",
       "    <tr>\n",
       "      <th>1</th>\n",
       "      <td>01</td>\n",
       "      <td>AIN</td>\n",
       "      <td>01002</td>\n",
       "      <td>ABERGEMENT-DE-VAREY</td>\n",
       "      <td>57</td>\n",
       "      <td>17</td>\n",
       "      <td>40</td>\n",
       "      <td>102</td>\n",
       "      <td>55</td>\n",
       "      <td>47</td>\n",
       "      <td>...</td>\n",
       "      <td>89.0</td>\n",
       "      <td>54.0</td>\n",
       "      <td>35.0</td>\n",
       "      <td>14.0</td>\n",
       "      <td>4.0</td>\n",
       "      <td>10.0</td>\n",
       "      <td>12.0</td>\n",
       "      <td>2.0</td>\n",
       "      <td>0.226087</td>\n",
       "      <td>0.104348</td>\n",
       "    </tr>\n",
       "  </tbody>\n",
       "</table>\n",
       "<p>2 rows × 44 columns</p>\n",
       "</div>"
      ],
      "text/plain": [
       "  dep nomdep codecommune             nomcommune  DIP_nodip_22  DIP_nodipf_22  \\\n",
       "0  01    AIN       01001  ABERGEMENT-CLEMENCIAT           319            163   \n",
       "1  01    AIN       01002    ABERGEMENT-DE-VAREY            57             17   \n",
       "\n",
       "   DIP_nodiph_22  DIP_bac_22  DIP_bacf_22  DIP_bach_22  ...  DIP_nodip_92  \\\n",
       "0            155         124           62           62  ...         349.0   \n",
       "1             40         102           55           47  ...          89.0   \n",
       "\n",
       "   DIP_nodipf_92  DIP_nodiph_92  DIP_bac_92  DIP_bacf_92  DIP_bach_92  \\\n",
       "0          178.0          171.0        15.0          6.0          9.0   \n",
       "1           54.0           35.0        14.0          4.0         10.0   \n",
       "\n",
       "   DIP_sup_92  DIP_supf_92  DIP_pbac_92  DIP_psup_92  \n",
       "0        24.0         11.0     0.100515     0.061856  \n",
       "1        12.0          2.0     0.226087     0.104348  \n",
       "\n",
       "[2 rows x 44 columns]"
      ]
     },
     "execution_count": 16,
     "metadata": {},
     "output_type": "execute_result"
    }
   ],
   "source": [
    "df = df.drop(df.columns[4:index_col_sup], axis=1)\n",
    "df.head(2)"
   ]
  },
  {
   "cell_type": "code",
   "execution_count": 17,
   "id": "47e45df9-bb23-4917-a529-b4e5e0cfbd32",
   "metadata": {},
   "outputs": [
    {
     "name": "stdout",
     "output_type": "stream",
     "text": [
      "0 dep\n",
      "1 nomdep\n",
      "2 codecommune\n",
      "3 nomcommune\n",
      "4 DIP_nodip_22\n",
      "5 DIP_nodipf_22\n",
      "6 DIP_nodiph_22\n",
      "7 DIP_bac_22\n",
      "8 DIP_bacf_22\n",
      "9 DIP_bach_22\n",
      "10 DIP_sup_22\n",
      "11 DIP_supf_22\n",
      "12 DIP_pbac_22\n",
      "13 DIP_psup_22\n",
      "14 DIP_nodip_12\n",
      "15 DIP_nodipf_12\n",
      "16 DIP_nodiph_12\n",
      "17 DIP_bac_12\n",
      "18 DIP_bacf_12\n",
      "19 DIP_bach_12\n",
      "20 DIP_sup_12\n",
      "21 DIP_supf_12\n",
      "22 DIP_pbac_12\n",
      "23 DIP_psup_12\n",
      "24 DIP_nodip_02\n",
      "25 DIP_nodipf_02\n",
      "26 DIP_nodiph_02\n",
      "27 DIP_bac_02\n",
      "28 DIP_bacf_02\n",
      "29 DIP_bach_02\n",
      "30 DIP_sup_02\n",
      "31 DIP_supf_02\n",
      "32 DIP_pbac_02\n",
      "33 DIP_psup_02\n",
      "34 DIP_nodip_92\n",
      "35 DIP_nodipf_92\n",
      "36 DIP_nodiph_92\n",
      "37 DIP_bac_92\n",
      "38 DIP_bacf_92\n",
      "39 DIP_bach_92\n",
      "40 DIP_sup_92\n",
      "41 DIP_supf_92\n",
      "42 DIP_pbac_92\n",
      "43 DIP_psup_92\n"
     ]
    }
   ],
   "source": [
    "for i,c in enumerate(df) : \n",
    "    print (i,c)"
   ]
  },
  {
   "cell_type": "code",
   "execution_count": 18,
   "id": "6d073d39-20ce-479f-98d8-1011411021aa",
   "metadata": {},
   "outputs": [
    {
     "data": {
      "text/plain": [
       "dep                 0\n",
       "nomdep            243\n",
       "codecommune         0\n",
       "nomcommune          0\n",
       "DIP_nodip_22        0\n",
       "DIP_nodipf_22       0\n",
       "DIP_nodiph_22       0\n",
       "DIP_bac_22          0\n",
       "DIP_bacf_22         0\n",
       "DIP_bach_22         0\n",
       "DIP_sup_22          0\n",
       "DIP_supf_22         0\n",
       "DIP_pbac_22      2763\n",
       "DIP_psup_22      2763\n",
       "DIP_nodip_12     2697\n",
       "DIP_nodipf_12    2697\n",
       "DIP_nodiph_12    2697\n",
       "DIP_bac_12       2697\n",
       "DIP_bacf_12      2697\n",
       "DIP_bach_12      2697\n",
       "DIP_sup_12       2697\n",
       "DIP_supf_12      2697\n",
       "DIP_pbac_12      2708\n",
       "DIP_psup_12      2708\n",
       "DIP_nodip_02     1416\n",
       "DIP_nodipf_02    1416\n",
       "DIP_nodiph_02    1416\n",
       "DIP_bac_02       1416\n",
       "DIP_bacf_02      1416\n",
       "DIP_bach_02      1416\n",
       "DIP_sup_02       1416\n",
       "DIP_supf_02      1416\n",
       "DIP_pbac_02      1425\n",
       "DIP_psup_02      1425\n",
       "DIP_nodip_92     1429\n",
       "DIP_nodipf_92    1429\n",
       "DIP_nodiph_92    1429\n",
       "DIP_bac_92       1429\n",
       "DIP_bacf_92      1429\n",
       "DIP_bach_92      1429\n",
       "DIP_sup_92       1429\n",
       "DIP_supf_92      1429\n",
       "DIP_pbac_92      1436\n",
       "DIP_psup_92      1436\n",
       "dtype: int64"
      ]
     },
     "execution_count": 18,
     "metadata": {},
     "output_type": "execute_result"
    }
   ],
   "source": [
    "df.isna().sum()"
   ]
  },
  {
   "cell_type": "code",
   "execution_count": 19,
   "id": "bf4dbf68-293f-4d30-a97b-f1bc6d520baf",
   "metadata": {},
   "outputs": [
    {
     "data": {
      "text/plain": [
       "(37985, 44)"
      ]
     },
     "execution_count": 19,
     "metadata": {},
     "output_type": "execute_result"
    }
   ],
   "source": [
    "df.shape"
   ]
  },
  {
   "cell_type": "code",
   "execution_count": 20,
   "id": "be422efa-9b21-4061-a57f-d9251c54f90e",
   "metadata": {},
   "outputs": [
    {
     "data": {
      "text/plain": [
       "(37985, 37985)"
      ]
     },
     "execution_count": 20,
     "metadata": {},
     "output_type": "execute_result"
    }
   ],
   "source": [
    "df['codecommune'].nunique(),len(df)"
   ]
  },
  {
   "cell_type": "markdown",
   "id": "fbfee32e-517c-43a1-b4a8-256c3c6cdeac",
   "metadata": {},
   "source": [
    "## <a name=\"TRANSCO\"></a>Partie 3 : Filtres et/ou calculs&nbsp;&nbsp;&nbsp;&nbsp;&nbsp;<a href=\"#TOP\">&uarr;</a>"
   ]
  },
  {
   "cell_type": "code",
   "execution_count": 21,
   "id": "03039577-4fa4-4435-b16e-f34e14e9db9f",
   "metadata": {},
   "outputs": [
    {
     "data": {
      "text/plain": [
       "((33803, 44), (37985, 44))"
      ]
     },
     "execution_count": 21,
     "metadata": {},
     "output_type": "execute_result"
    }
   ],
   "source": [
    "df_filtered = df[df['codecommune'].isin(lines)]\n",
    "df_filtered.shape,df.shape"
   ]
  },
  {
   "cell_type": "code",
   "execution_count": 22,
   "id": "725e8504-c42f-4817-a33d-7531ac607c87",
   "metadata": {},
   "outputs": [
    {
     "data": {
      "text/plain": [
       "('01002', 33803)"
      ]
     },
     "execution_count": 22,
     "metadata": {},
     "output_type": "execute_result"
    }
   ],
   "source": [
    "codecommune_listdf_filtered= df_filtered['codecommune'].tolist()\n",
    "codecommune_listdf_filtered[1], len(codecommune_listdf_filtered)"
   ]
  },
  {
   "cell_type": "code",
   "execution_count": 23,
   "id": "d961e81b-2143-4343-b848-2d7effed3f5b",
   "metadata": {},
   "outputs": [
    {
     "data": {
      "text/plain": [
       "27"
      ]
     },
     "execution_count": 23,
     "metadata": {},
     "output_type": "execute_result"
    }
   ],
   "source": [
    "absent = [x for x in lines if x not in codecommune_listdf_filtered]\n",
    "len (absent)"
   ]
  },
  {
   "cell_type": "code",
   "execution_count": 24,
   "id": "ecf530ad-3eec-47dd-9932-a0d70ee4f8a7",
   "metadata": {},
   "outputs": [
    {
     "data": {
      "text/plain": [
       "['13201',\n",
       " '13202',\n",
       " '13203',\n",
       " '13204',\n",
       " '13205',\n",
       " '13206',\n",
       " '13207',\n",
       " '13208',\n",
       " '13209',\n",
       " '13210',\n",
       " '13211',\n",
       " '13212',\n",
       " '13213',\n",
       " '13214',\n",
       " '13215',\n",
       " '13216',\n",
       " '69380',\n",
       " '69381',\n",
       " '69382',\n",
       " '69383',\n",
       " '69384',\n",
       " '69385',\n",
       " '69386',\n",
       " '69387',\n",
       " '69388',\n",
       " '69389',\n",
       " '75056']"
      ]
     },
     "execution_count": 24,
     "metadata": {},
     "output_type": "execute_result"
    }
   ],
   "source": [
    "absent"
   ]
  },
  {
   "cell_type": "markdown",
   "id": "6c13f2c4-ae3c-498f-b8cc-44786dc480cf",
   "metadata": {},
   "source": [
    "Toujours les memes 27 communes qui posent pb !!!\n",
    "\n",
    "['13201', '13202','13203','13204','13205','13206','13207', '13208', '13209', '13210', '13211', '13212', '13213', '13214', '13215', '13216', '69281', '69282', '69283', '69284', '69285',\n",
    " '69286', '69287', '69288', '69289', '69380', '75056']\n",
    "\n"
   ]
  },
  {
   "cell_type": "code",
   "execution_count": 25,
   "id": "bee5655c-c806-4604-9982-5d567a24b7a1",
   "metadata": {},
   "outputs": [],
   "source": [
    "df_filtered['DBL_bug'] = 0"
   ]
  },
  {
   "cell_type": "code",
   "execution_count": 26,
   "id": "faf7578c-aa34-4f8b-a025-7b385c20a2b0",
   "metadata": {},
   "outputs": [
    {
     "data": {
      "text/html": [
       "<div>\n",
       "<style scoped>\n",
       "    .dataframe tbody tr th:only-of-type {\n",
       "        vertical-align: middle;\n",
       "    }\n",
       "\n",
       "    .dataframe tbody tr th {\n",
       "        vertical-align: top;\n",
       "    }\n",
       "\n",
       "    .dataframe thead th {\n",
       "        text-align: right;\n",
       "    }\n",
       "</style>\n",
       "<table border=\"1\" class=\"dataframe\">\n",
       "  <thead>\n",
       "    <tr style=\"text-align: right;\">\n",
       "      <th></th>\n",
       "      <th>dep</th>\n",
       "      <th>nomdep</th>\n",
       "      <th>codecommune</th>\n",
       "      <th>nomcommune</th>\n",
       "      <th>DIP_nodip_22</th>\n",
       "      <th>DIP_nodipf_22</th>\n",
       "      <th>DIP_nodiph_22</th>\n",
       "      <th>DIP_bac_22</th>\n",
       "      <th>DIP_bacf_22</th>\n",
       "      <th>DIP_bach_22</th>\n",
       "      <th>...</th>\n",
       "      <th>DIP_nodipf_92</th>\n",
       "      <th>DIP_nodiph_92</th>\n",
       "      <th>DIP_bac_92</th>\n",
       "      <th>DIP_bacf_92</th>\n",
       "      <th>DIP_bach_92</th>\n",
       "      <th>DIP_sup_92</th>\n",
       "      <th>DIP_supf_92</th>\n",
       "      <th>DIP_pbac_92</th>\n",
       "      <th>DIP_psup_92</th>\n",
       "      <th>DBL_bug</th>\n",
       "    </tr>\n",
       "  </thead>\n",
       "  <tbody>\n",
       "    <tr>\n",
       "      <th>0</th>\n",
       "      <td>01</td>\n",
       "      <td>AIN</td>\n",
       "      <td>01001</td>\n",
       "      <td>ABERGEMENT-CLEMENCIAT</td>\n",
       "      <td>319</td>\n",
       "      <td>163</td>\n",
       "      <td>155</td>\n",
       "      <td>124</td>\n",
       "      <td>62</td>\n",
       "      <td>62</td>\n",
       "      <td>...</td>\n",
       "      <td>178.0</td>\n",
       "      <td>171.0</td>\n",
       "      <td>15.0</td>\n",
       "      <td>6.0</td>\n",
       "      <td>9.0</td>\n",
       "      <td>24.0</td>\n",
       "      <td>11.0</td>\n",
       "      <td>0.100515</td>\n",
       "      <td>0.061856</td>\n",
       "      <td>0</td>\n",
       "    </tr>\n",
       "  </tbody>\n",
       "</table>\n",
       "<p>1 rows × 45 columns</p>\n",
       "</div>"
      ],
      "text/plain": [
       "  dep nomdep codecommune             nomcommune  DIP_nodip_22  DIP_nodipf_22  \\\n",
       "0  01    AIN       01001  ABERGEMENT-CLEMENCIAT           319            163   \n",
       "\n",
       "   DIP_nodiph_22  DIP_bac_22  DIP_bacf_22  DIP_bach_22  ...  DIP_nodipf_92  \\\n",
       "0            155         124           62           62  ...          178.0   \n",
       "\n",
       "   DIP_nodiph_92  DIP_bac_92  DIP_bacf_92  DIP_bach_92  DIP_sup_92  \\\n",
       "0          171.0        15.0          6.0          9.0        24.0   \n",
       "\n",
       "   DIP_supf_92  DIP_pbac_92  DIP_psup_92  DBL_bug  \n",
       "0         11.0     0.100515     0.061856        0  \n",
       "\n",
       "[1 rows x 45 columns]"
      ]
     },
     "execution_count": 26,
     "metadata": {},
     "output_type": "execute_result"
    }
   ],
   "source": [
    "df_filtered.head(1)"
   ]
  },
  {
   "cell_type": "code",
   "execution_count": 27,
   "id": "ec0119b1-ca98-4677-bf3a-88fa700e0df5",
   "metadata": {},
   "outputs": [
    {
     "data": {
      "text/plain": [
       "45"
      ]
     },
     "execution_count": 27,
     "metadata": {},
     "output_type": "execute_result"
    }
   ],
   "source": [
    "new_row = ['*', '*', 'code', '*'] + [np.nan] * 40 +[1]\n",
    "len (new_row)"
   ]
  },
  {
   "cell_type": "code",
   "execution_count": 28,
   "id": "d63b1627-19a6-46f4-9037-192f5782b442",
   "metadata": {},
   "outputs": [
    {
     "data": {
      "text/plain": [
       "45"
      ]
     },
     "execution_count": 28,
     "metadata": {},
     "output_type": "execute_result"
    }
   ],
   "source": [
    "len(df_filtered.columns)"
   ]
  },
  {
   "cell_type": "code",
   "execution_count": 29,
   "id": "7f6301ca-9ce6-4da8-93bf-81fcf7962004",
   "metadata": {},
   "outputs": [
    {
     "data": {
      "text/plain": [
       "(33830, 45)"
      ]
     },
     "execution_count": 29,
     "metadata": {},
     "output_type": "execute_result"
    }
   ],
   "source": [
    "for i,code in enumerate(absent) :\n",
    "    new_row = ['*', '*', code, '*'] + [np.nan] * 40 + [1]\n",
    "    row_df = pd.DataFrame([new_row], columns=df_filtered.columns)\n",
    "    df_filtered = pd.concat([df_filtered, row_df], ignore_index=True)\n",
    "df_filtered.shape"
   ]
  },
  {
   "cell_type": "markdown",
   "id": "352451f1-99da-4ac0-a95a-8deb6ac94389",
   "metadata": {},
   "source": [
    "## <a name=\"EXPORT\"></a>Partie 4 : EXPORT&nbsp;&nbsp;&nbsp;&nbsp;&nbsp;<a href=\"#TOP\">&uarr;</a>\n",
    "\n"
   ]
  },
  {
   "cell_type": "code",
   "execution_count": 30,
   "id": "01e85959-eaab-4e7a-8dc5-55ffcac8bf0a",
   "metadata": {},
   "outputs": [],
   "source": [
    "path_export='../DATA/EXPORT_CSV/final_DIP_diplomescommunes.csv'"
   ]
  },
  {
   "cell_type": "code",
   "execution_count": 31,
   "id": "2f9fa22a-3237-4131-9fae-b4604341807f",
   "metadata": {},
   "outputs": [
    {
     "name": "stdout",
     "output_type": "stream",
     "text": [
      "DataFrame exported to: ../DATA/EXPORT_CSV/final_DIP_diplomescommunes.csv\n"
     ]
    }
   ],
   "source": [
    "df_filtered.to_csv(path_export, sep=';', index=False)\n",
    "print(f'DataFrame exported to: {path_export}')"
   ]
  },
  {
   "cell_type": "code",
   "execution_count": null,
   "id": "d7c7efd6-a789-4a43-85dc-94c4dc7ec3a7",
   "metadata": {},
   "outputs": [],
   "source": []
  }
 ],
 "metadata": {
  "kernelspec": {
   "display_name": "Python 3 (ipykernel)",
   "language": "python",
   "name": "python3"
  },
  "language_info": {
   "codemirror_mode": {
    "name": "ipython",
    "version": 3
   },
   "file_extension": ".py",
   "mimetype": "text/x-python",
   "name": "python",
   "nbconvert_exporter": "python",
   "pygments_lexer": "ipython3",
   "version": "3.10.12"
  }
 },
 "nbformat": 4,
 "nbformat_minor": 5
}
