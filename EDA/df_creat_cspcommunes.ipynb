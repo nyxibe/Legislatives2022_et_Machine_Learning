{
 "cells": [
  {
   "cell_type": "markdown",
   "id": "ea3e4cdc-4ad0-480e-8a5e-0e4e4dee9ac3",
   "metadata": {},
   "source": [
    "# <center>  Model Creat Dataframe cspcommunes [CSP]<br/></center>\n",
    "<a name=\"TOP\"></a>\n",
    "- dev : nyx\n",
    "- Fichier CSV : Capital_immobilier_csv/Capital_immobilier_csv/basesfiscalescommunes.csv</a>\n",
    "\n",
    "ALERTES 98 lignes à Nan \n",
    "Faire les plus proches voisins apres FUSION ?\n",
    "    \n",
    "# Description Fichiers : \n",
    "Capital immo pour 2022 , 2012 , 2002 , 1992\n",
    "avec pour chaque année :\n",
    "    4 capital immo\n",
    "    5 prix du bien\n",
    "\n",
    "# Synthese des Actions :\n",
    "Plus de 1000 communes non renseignees flag 1 pour BL_bug\n",
    "creation de lignes avec que des 0\n",
    "  \n",
    "**<u>MENU</u>** \n",
    "- <a href=\"#Import\">P0 : Import CSV</a>\n",
    "- <a href=\"#EDA\">P1 : Mini EDA</a>\n",
    "- <a href=\"#Nan\">P2 : Traitement des Nan</a>\n",
    "- <a href=\"#TRANSCO\">P3 : Filtres et/ou calculs</a>\n",
    "- <a href=\"#EXPORT\">P4 : EXPORT (/DATA/EXPORT_CSV/final_xxxxxxx.csv)</a>\n",
    "\n",
    "\n",
    "\n"
   ]
  },
  {
   "cell_type": "markdown",
   "id": "ca339594-e0cb-478d-b4fb-3e1af6de883d",
   "metadata": {},
   "source": [
    "PREFIXE FICHIER : KP1\n",
    "Structure :\n",
    "\n",
    "    0 dep\n",
    "    1 nomdep\n",
    "    2 codecommune\n",
    "    3 nomcommune\n",
    "    4 KP1_capitalimmo22\n",
    "    5 KP1_prixbien22\n",
    "    6 KP1_capitalimmo12\n",
    "    7 KP1_prixbien12\n",
    "    8 KP1_capitalimmo02\n",
    "    9 KP1_prixbien02\n",
    "    10 KP1_capitalimmo92\n",
    "    11 KP1_prixbien92\n",
    "    12 DBL_bug (flag à 1 poour les lignes ajoutées avec des Nan A TRAITER)\n",
    "\n",
    "\n"
   ]
  },
  {
   "cell_type": "code",
   "execution_count": 1,
   "id": "95d983a2-4b3e-4b94-855b-bf6d33d4ba75",
   "metadata": {},
   "outputs": [],
   "source": [
    "import warnings\n",
    "warnings.filterwarnings(\"ignore\")\n",
    "\n",
    "import os\n",
    "import zipfile\n",
    "import pandas as pd\n",
    "import numpy as np\n",
    "\n",
    "import seaborn as sns\n",
    "import matplotlib.pyplot as plt"
   ]
  },
  {
   "cell_type": "markdown",
   "id": "baa4ba11-c303-401b-b654-f6d5a2f6b7b4",
   "metadata": {},
   "source": [
    "## <a name=\"Import\"></a>Partie 0 : Import CSV&nbsp;&nbsp;&nbsp;&nbsp;&nbsp; <a href=\"#TOP\">&uarr;</a>"
   ]
  },
  {
   "cell_type": "code",
   "execution_count": 2,
   "id": "64bd9ee9-428d-4c50-8304-e1a2635a352b",
   "metadata": {},
   "outputs": [],
   "source": [
    "def df_creat(filename, df_dataframe):  \n",
    "    df = df_dataframe[df_dataframe['filename'] == filename]\n",
    "    if len(df) == 1:\n",
    "        row = df.iloc[0]\n",
    "        file = row['path']\n",
    "        if os.path.exists(file):\n",
    "            print(file)\n",
    "            df_from_csv = pd.read_csv(file, encoding='utf-8', low_memory=False)\n",
    "            return df_from_csv\n",
    "        else:\n",
    "            print('FICHIER NON TROUVE', file)\n",
    "            return pd.DataFrame()\n",
    "    else:\n",
    "        print(f\"filename: '{filename}' return size: {len(df)}\")\n",
    "        return pd.DataFrame()"
   ]
  },
  {
   "cell_type": "code",
   "execution_count": 3,
   "id": "4b858715-3881-4cae-b6f1-59d3e10d9276",
   "metadata": {},
   "outputs": [],
   "source": [
    "csv_file_path = 'df_filtred.csv'\n",
    "# Use pandas to read the CSV file into a DataFrame with UTF-8 encoding\n",
    "df_cat = pd.read_csv(csv_file_path, encoding='utf-8')"
   ]
  },
  {
   "cell_type": "code",
   "execution_count": 4,
   "id": "677ef87c-1d20-4ea9-b483-24fcc6557f7d",
   "metadata": {},
   "outputs": [
    {
     "data": {
      "text/html": [
       "<div>\n",
       "<style scoped>\n",
       "    .dataframe tbody tr th:only-of-type {\n",
       "        vertical-align: middle;\n",
       "    }\n",
       "\n",
       "    .dataframe tbody tr th {\n",
       "        vertical-align: top;\n",
       "    }\n",
       "\n",
       "    .dataframe thead th {\n",
       "        text-align: right;\n",
       "    }\n",
       "</style>\n",
       "<table border=\"1\" class=\"dataframe\">\n",
       "  <thead>\n",
       "    <tr style=\"text-align: right;\">\n",
       "      <th></th>\n",
       "      <th>category</th>\n",
       "      <th>filename</th>\n",
       "      <th>comment</th>\n",
       "      <th>size</th>\n",
       "      <th>depart</th>\n",
       "      <th>district</th>\n",
       "      <th>commune</th>\n",
       "      <th>canton</th>\n",
       "      <th>yyyy</th>\n",
       "      <th>path</th>\n",
       "      <th>codecommune</th>\n",
       "    </tr>\n",
       "  </thead>\n",
       "  <tbody>\n",
       "    <tr>\n",
       "      <th>0</th>\n",
       "      <td>Taille_agglo_commune_csv</td>\n",
       "      <td>codescommunes1999</td>\n",
       "      <td>codes</td>\n",
       "      <td>0</td>\n",
       "      <td>0</td>\n",
       "      <td>0</td>\n",
       "      <td>1</td>\n",
       "      <td>0</td>\n",
       "      <td>1999</td>\n",
       "      <td>../../ProjetCommun/DATA_SOURCES/HCP/Taille_agg...</td>\n",
       "      <td>1</td>\n",
       "    </tr>\n",
       "  </tbody>\n",
       "</table>\n",
       "</div>"
      ],
      "text/plain": [
       "                   category           filename comment  size  depart  \\\n",
       "0  Taille_agglo_commune_csv  codescommunes1999   codes     0       0   \n",
       "\n",
       "   district  commune  canton  yyyy  \\\n",
       "0         0        1       0  1999   \n",
       "\n",
       "                                                path  codecommune  \n",
       "0  ../../ProjetCommun/DATA_SOURCES/HCP/Taille_agg...            1  "
      ]
     },
     "execution_count": 4,
     "metadata": {},
     "output_type": "execute_result"
    }
   ],
   "source": [
    "df_cat.head(1)"
   ]
  },
  {
   "cell_type": "code",
   "execution_count": 5,
   "id": "cad20927-5d97-49d4-ae0b-fab1a76b4d98",
   "metadata": {},
   "outputs": [
    {
     "name": "stdout",
     "output_type": "stream",
     "text": [
      "['01001', '01002', '01004', '01005', '01006', '01007', '01008', '01009', '01010', '01011'] 33830\n"
     ]
    }
   ],
   "source": [
    "file_path = '../DATA/list_codecommune_leg2022_50inscrits.txt'\n",
    "\n",
    "# Open the text file and read lines into a list\n",
    "with open(file_path, 'r', encoding='utf-8') as file:\n",
    "    lines = [line.strip() for line in file.readlines()]\n",
    "\n",
    "# Print or manipulate the list of lines as needed\n",
    "print(lines[0:10], len(lines))"
   ]
  },
  {
   "cell_type": "code",
   "execution_count": 6,
   "id": "04da4fb3-c6ba-4332-9b2a-872c14a87126",
   "metadata": {},
   "outputs": [
    {
     "name": "stdout",
     "output_type": "stream",
     "text": [
      "../../ProjetCommun/DATA_SOURCES/HCP/CSP_csv/CSP_csv/cspcommunes.csv\n"
     ]
    }
   ],
   "source": [
    "df = df_creat('cspcommunes', df_cat)"
   ]
  },
  {
   "cell_type": "markdown",
   "id": "6647aa81-cb46-45dd-a922-b069be341809",
   "metadata": {},
   "source": [
    "## <a name=\"EDA\"></a>Partie 1 : Mini EDA &nbsp;&nbsp;&nbsp;&nbsp;&nbsp; <a href=\"#TOP\">&uarr;</a>"
   ]
  },
  {
   "cell_type": "code",
   "execution_count": 7,
   "id": "cd6d2a1b-246e-4d37-907b-e133b079fa9f",
   "metadata": {},
   "outputs": [
    {
     "data": {
      "text/plain": [
       "(37985, 4016)"
      ]
     },
     "execution_count": 7,
     "metadata": {},
     "output_type": "execute_result"
    }
   ],
   "source": [
    "df.shape"
   ]
  },
  {
   "cell_type": "code",
   "execution_count": 8,
   "id": "594cdd42-69ef-4827-8497-f933f546c1ec",
   "metadata": {},
   "outputs": [
    {
     "data": {
      "text/html": [
       "<div>\n",
       "<style scoped>\n",
       "    .dataframe tbody tr th:only-of-type {\n",
       "        vertical-align: middle;\n",
       "    }\n",
       "\n",
       "    .dataframe tbody tr th {\n",
       "        vertical-align: top;\n",
       "    }\n",
       "\n",
       "    .dataframe thead th {\n",
       "        text-align: right;\n",
       "    }\n",
       "</style>\n",
       "<table border=\"1\" class=\"dataframe\">\n",
       "  <thead>\n",
       "    <tr style=\"text-align: right;\">\n",
       "      <th></th>\n",
       "      <th>dep</th>\n",
       "      <th>nomdep</th>\n",
       "      <th>codecommune</th>\n",
       "      <th>nomcommune</th>\n",
       "      <th>agri1962</th>\n",
       "      <th>indp1962</th>\n",
       "      <th>cadr1962</th>\n",
       "      <th>pint1962</th>\n",
       "      <th>empl1962</th>\n",
       "      <th>ouvr1962</th>\n",
       "      <th>...</th>\n",
       "      <th>perchom1950</th>\n",
       "      <th>perchom1951</th>\n",
       "      <th>perchom1952</th>\n",
       "      <th>perchom1953</th>\n",
       "      <th>perchom1954</th>\n",
       "      <th>perchom1955</th>\n",
       "      <th>perchom1956</th>\n",
       "      <th>perchom1957</th>\n",
       "      <th>perchom1958</th>\n",
       "      <th>perchom1959</th>\n",
       "    </tr>\n",
       "  </thead>\n",
       "  <tbody>\n",
       "    <tr>\n",
       "      <th>0</th>\n",
       "      <td>01</td>\n",
       "      <td>AIN</td>\n",
       "      <td>01001</td>\n",
       "      <td>ABERGEMENT-CLEMENCIAT</td>\n",
       "      <td>103.0</td>\n",
       "      <td>4.0</td>\n",
       "      <td>0.0</td>\n",
       "      <td>1.0</td>\n",
       "      <td>12.0</td>\n",
       "      <td>37.0</td>\n",
       "      <td>...</td>\n",
       "      <td>0.036952</td>\n",
       "      <td>0.036952</td>\n",
       "      <td>0.036952</td>\n",
       "      <td>0.036952</td>\n",
       "      <td>0.036952</td>\n",
       "      <td>0.036952</td>\n",
       "      <td>0.036952</td>\n",
       "      <td>0.036952</td>\n",
       "      <td>0.036952</td>\n",
       "      <td>0.036952</td>\n",
       "    </tr>\n",
       "    <tr>\n",
       "      <th>1</th>\n",
       "      <td>01</td>\n",
       "      <td>AIN</td>\n",
       "      <td>01002</td>\n",
       "      <td>ABERGEMENT-DE-VAREY</td>\n",
       "      <td>36.0</td>\n",
       "      <td>0.0</td>\n",
       "      <td>0.0</td>\n",
       "      <td>1.0</td>\n",
       "      <td>1.0</td>\n",
       "      <td>6.0</td>\n",
       "      <td>...</td>\n",
       "      <td>0.066204</td>\n",
       "      <td>0.066204</td>\n",
       "      <td>0.066204</td>\n",
       "      <td>0.066204</td>\n",
       "      <td>0.066204</td>\n",
       "      <td>0.066204</td>\n",
       "      <td>0.066204</td>\n",
       "      <td>0.066204</td>\n",
       "      <td>0.066204</td>\n",
       "      <td>0.066204</td>\n",
       "    </tr>\n",
       "    <tr>\n",
       "      <th>2</th>\n",
       "      <td>01</td>\n",
       "      <td>AIN</td>\n",
       "      <td>01003</td>\n",
       "      <td>AMAREINS</td>\n",
       "      <td>22.0</td>\n",
       "      <td>1.0</td>\n",
       "      <td>0.0</td>\n",
       "      <td>1.0</td>\n",
       "      <td>1.0</td>\n",
       "      <td>10.0</td>\n",
       "      <td>...</td>\n",
       "      <td>0.207861</td>\n",
       "      <td>0.207861</td>\n",
       "      <td>0.207861</td>\n",
       "      <td>0.207861</td>\n",
       "      <td>0.207861</td>\n",
       "      <td>0.207861</td>\n",
       "      <td>0.207861</td>\n",
       "      <td>0.207861</td>\n",
       "      <td>0.207861</td>\n",
       "      <td>0.207861</td>\n",
       "    </tr>\n",
       "    <tr>\n",
       "      <th>3</th>\n",
       "      <td>01</td>\n",
       "      <td>AIN</td>\n",
       "      <td>01004</td>\n",
       "      <td>AMBERIEU-EN-BUGEY</td>\n",
       "      <td>34.0</td>\n",
       "      <td>243.0</td>\n",
       "      <td>40.0</td>\n",
       "      <td>172.0</td>\n",
       "      <td>462.0</td>\n",
       "      <td>853.0</td>\n",
       "      <td>...</td>\n",
       "      <td>0.470220</td>\n",
       "      <td>0.470220</td>\n",
       "      <td>0.470220</td>\n",
       "      <td>0.470220</td>\n",
       "      <td>0.470220</td>\n",
       "      <td>0.470220</td>\n",
       "      <td>0.470220</td>\n",
       "      <td>0.470220</td>\n",
       "      <td>0.470220</td>\n",
       "      <td>0.470220</td>\n",
       "    </tr>\n",
       "    <tr>\n",
       "      <th>4</th>\n",
       "      <td>01</td>\n",
       "      <td>AIN</td>\n",
       "      <td>01005</td>\n",
       "      <td>AMBERIEUX-EN-DOMBES</td>\n",
       "      <td>65.0</td>\n",
       "      <td>45.0</td>\n",
       "      <td>0.0</td>\n",
       "      <td>5.0</td>\n",
       "      <td>16.0</td>\n",
       "      <td>60.0</td>\n",
       "      <td>...</td>\n",
       "      <td>0.384620</td>\n",
       "      <td>0.384620</td>\n",
       "      <td>0.384620</td>\n",
       "      <td>0.384620</td>\n",
       "      <td>0.384620</td>\n",
       "      <td>0.384620</td>\n",
       "      <td>0.384620</td>\n",
       "      <td>0.384620</td>\n",
       "      <td>0.384620</td>\n",
       "      <td>0.384620</td>\n",
       "    </tr>\n",
       "  </tbody>\n",
       "</table>\n",
       "<p>5 rows × 4016 columns</p>\n",
       "</div>"
      ],
      "text/plain": [
       "  dep nomdep codecommune             nomcommune  agri1962  indp1962  cadr1962  \\\n",
       "0  01    AIN       01001  ABERGEMENT-CLEMENCIAT     103.0       4.0       0.0   \n",
       "1  01    AIN       01002    ABERGEMENT-DE-VAREY      36.0       0.0       0.0   \n",
       "2  01    AIN       01003               AMAREINS      22.0       1.0       0.0   \n",
       "3  01    AIN       01004      AMBERIEU-EN-BUGEY      34.0     243.0      40.0   \n",
       "4  01    AIN       01005    AMBERIEUX-EN-DOMBES      65.0      45.0       0.0   \n",
       "\n",
       "   pint1962  empl1962  ouvr1962  ...  perchom1950  perchom1951  perchom1952  \\\n",
       "0       1.0      12.0      37.0  ...     0.036952     0.036952     0.036952   \n",
       "1       1.0       1.0       6.0  ...     0.066204     0.066204     0.066204   \n",
       "2       1.0       1.0      10.0  ...     0.207861     0.207861     0.207861   \n",
       "3     172.0     462.0     853.0  ...     0.470220     0.470220     0.470220   \n",
       "4       5.0      16.0      60.0  ...     0.384620     0.384620     0.384620   \n",
       "\n",
       "   perchom1953  perchom1954  perchom1955  perchom1956  perchom1957  \\\n",
       "0     0.036952     0.036952     0.036952     0.036952     0.036952   \n",
       "1     0.066204     0.066204     0.066204     0.066204     0.066204   \n",
       "2     0.207861     0.207861     0.207861     0.207861     0.207861   \n",
       "3     0.470220     0.470220     0.470220     0.470220     0.470220   \n",
       "4     0.384620     0.384620     0.384620     0.384620     0.384620   \n",
       "\n",
       "   perchom1958  perchom1959  \n",
       "0     0.036952     0.036952  \n",
       "1     0.066204     0.066204  \n",
       "2     0.207861     0.207861  \n",
       "3     0.470220     0.470220  \n",
       "4     0.384620     0.384620  \n",
       "\n",
       "[5 rows x 4016 columns]"
      ]
     },
     "execution_count": 8,
     "metadata": {},
     "output_type": "execute_result"
    }
   ],
   "source": [
    "df.head(5)"
   ]
  },
  {
   "cell_type": "code",
   "execution_count": 9,
   "id": "96bc1077-1b6a-45bc-b0e8-2a4ed793f390",
   "metadata": {},
   "outputs": [
    {
     "data": {
      "text/plain": [
       "('01002', 37985)"
      ]
     },
     "execution_count": 9,
     "metadata": {},
     "output_type": "execute_result"
    }
   ],
   "source": [
    "codecommune_listdf = df['codecommune'].tolist()\n",
    "codecommune_listdf[1], len(codecommune_listdf)"
   ]
  },
  {
   "cell_type": "code",
   "execution_count": 10,
   "id": "e8f19ac5-9a03-48b6-ae83-eac8aad6d232",
   "metadata": {},
   "outputs": [
    {
     "data": {
      "text/plain": [
       "(37985, 37985)"
      ]
     },
     "execution_count": 10,
     "metadata": {},
     "output_type": "execute_result"
    }
   ],
   "source": [
    "df['codecommune'].nunique(),len(df)"
   ]
  },
  {
   "cell_type": "code",
   "execution_count": 11,
   "id": "78874cf3-1b32-48f3-b782-10745a8dadca",
   "metadata": {},
   "outputs": [
    {
     "data": {
      "text/plain": [
       "27"
      ]
     },
     "execution_count": 11,
     "metadata": {},
     "output_type": "execute_result"
    }
   ],
   "source": [
    "absent = [x for x in lines if x not in codecommune_listdf]\n",
    "len (absent)"
   ]
  },
  {
   "cell_type": "code",
   "execution_count": 12,
   "id": "f8df397f-f52b-44dd-b154-04a631d29711",
   "metadata": {},
   "outputs": [
    {
     "data": {
      "text/plain": [
       "(0, 4016)"
      ]
     },
     "execution_count": 12,
     "metadata": {},
     "output_type": "execute_result"
    }
   ],
   "source": [
    "duplicates = df[df.duplicated('codecommune')]\n",
    "duplicates.shape"
   ]
  },
  {
   "cell_type": "code",
   "execution_count": 13,
   "id": "af0aa5bf-b220-425a-abb7-478085b19a1f",
   "metadata": {},
   "outputs": [
    {
     "name": "stdout",
     "output_type": "stream",
     "text": [
      "{'dep': '01', 'nomdep': 'AIN', 'codecommune': '01001', 'nomcommune': 'ABERGEMENT-CLEMENCIAT', 'agri2020': 0, 'indp2020': 33, 'cadr2020': 39, 'pint2020': 26, 'empl2020': 86, 'ouvr2020': 129, 'chom2020': 25, 'aind2020': 33, 'aica2020': 72, 'ouem2020': 215, 'capi2020': 65, 'pact2020': 313, 'pagri2020': 0.0, 'pindp2020': 0.10543131, 'pcadr2020': 0.12460064, 'ppint2020': 0.083067089, 'pempl2020': 0.2747604, 'pouvr2020': 0.41214058, 'paind2020': 0.10543131, 'paica2020': 0.23003195, 'pouem2020': 0.68690097, 'pcapi2020': 0.20766774, 'pchom2020': 0.079872206, 'peragri2020': 0.018245948, 'perindp2020': 0.87479573, 'percadr2020': 0.38937613, 'perpint2020': 0.025955455, 'perempl2020': 0.47517255, 'perouvr2020': 0.96318156, 'perchom2020': 0.54835689, 'peraind2020': 0.81002879, 'peraica2020': 0.48517478, 'perouem2020': 0.9385314, 'percapi2020': 0.04998539} ['dep', 'nomdep', 'codecommune', 'nomcommune', 'agri2020', 'indp2020', 'cadr2020', 'pint2020', 'empl2020', 'ouvr2020', 'chom2020', 'aind2020', 'aica2020', 'ouem2020', 'capi2020', 'pact2020', 'pagri2020', 'pindp2020', 'pcadr2020', 'ppint2020', 'pempl2020', 'pouvr2020', 'paind2020', 'paica2020', 'pouem2020', 'pcapi2020', 'pchom2020', 'peragri2020', 'perindp2020', 'percadr2020', 'perpint2020', 'perempl2020', 'perouvr2020', 'perchom2020', 'peraind2020', 'peraica2020', 'perouem2020', 'percapi2020']\n"
     ]
    }
   ],
   "source": [
    "dico={}\n",
    "cols_select=[]\n",
    "list_year=[2020]\n",
    "for c in df :\n",
    "    value =df[c].iloc[0]\n",
    "    try:\n",
    "        last4char = int(c[-4:])\n",
    "        if last4char > 0 and last4char in list_year :\n",
    "            dico[c] = value\n",
    "            cols_select.append(c)\n",
    "            # print (c)\n",
    "    except ValueError as e:\n",
    "        dico[c] = value\n",
    "        cols_select.append(c)\n",
    "print (dico,cols_select)\n",
    "    "
   ]
  },
  {
   "cell_type": "code",
   "execution_count": 15,
   "id": "b88e62aa-99f2-4b44-9e54-52237019efab",
   "metadata": {},
   "outputs": [
    {
     "data": {
      "text/plain": [
       "['dep',\n",
       " 'nomdep',\n",
       " 'codecommune',\n",
       " 'nomcommune',\n",
       " 'agri2020',\n",
       " 'indp2020',\n",
       " 'cadr2020',\n",
       " 'pint2020',\n",
       " 'empl2020',\n",
       " 'ouvr2020',\n",
       " 'chom2020',\n",
       " 'aind2020',\n",
       " 'aica2020',\n",
       " 'ouem2020',\n",
       " 'capi2020',\n",
       " 'pact2020',\n",
       " 'pagri2020',\n",
       " 'pindp2020',\n",
       " 'pcadr2020',\n",
       " 'ppint2020',\n",
       " 'pempl2020',\n",
       " 'pouvr2020',\n",
       " 'paind2020',\n",
       " 'paica2020',\n",
       " 'pouem2020',\n",
       " 'pcapi2020',\n",
       " 'pchom2020',\n",
       " 'peragri2020',\n",
       " 'perindp2020',\n",
       " 'percadr2020',\n",
       " 'perpint2020',\n",
       " 'perempl2020',\n",
       " 'perouvr2020',\n",
       " 'perchom2020',\n",
       " 'peraind2020',\n",
       " 'peraica2020',\n",
       " 'perouem2020',\n",
       " 'percapi2020']"
      ]
     },
     "execution_count": 15,
     "metadata": {},
     "output_type": "execute_result"
    }
   ],
   "source": [
    "\n",
    "cols_select"
   ]
  },
  {
   "cell_type": "code",
   "execution_count": 16,
   "id": "486b7d8f-ffea-42b5-85ac-3c8ee85334be",
   "metadata": {},
   "outputs": [
    {
     "data": {
      "text/plain": [
       "(37985, 4016)"
      ]
     },
     "execution_count": 16,
     "metadata": {},
     "output_type": "execute_result"
    }
   ],
   "source": [
    "df.shape "
   ]
  },
  {
   "cell_type": "code",
   "execution_count": 17,
   "id": "b4b0d267-d67c-4669-8a11-fbb96b312eee",
   "metadata": {},
   "outputs": [
    {
     "data": {
      "text/plain": [
       "(37985, 4044)"
      ]
     },
     "execution_count": 17,
     "metadata": {},
     "output_type": "execute_result"
    }
   ],
   "source": [
    "list_yyyy = [2022,2012,2002,1992]\n",
    "list_indic = ['agri','indp','cadr','pint','empl','ouvr','chom']\n",
    "list_col = df.columns.tolist()\n",
    "for yyyy in list_yyyy :\n",
    "    for indic in list_indic :\n",
    "        col_source = str(indic) + str(yyyy)\n",
    "        if col_source in list_col :\n",
    "            yy=str(yyyy)[-2:]\n",
    "            new_col='CSP_'+ str(indic) +'_'+ str(yy)\n",
    "            df[new_col] = df[col_source]\n",
    "df.shape"
   ]
  },
  {
   "cell_type": "code",
   "execution_count": 88,
   "id": "342b27a0-916b-4672-8cbf-956e6520efd3",
   "metadata": {},
   "outputs": [
    {
     "data": {
      "text/plain": [
       "(36779, 56)"
      ]
     },
     "execution_count": 88,
     "metadata": {},
     "output_type": "execute_result"
    }
   ],
   "source": [
    "df.shape"
   ]
  },
  {
   "cell_type": "code",
   "execution_count": 18,
   "id": "c3e95a07-ab14-4a9d-96fc-7255ea99e168",
   "metadata": {},
   "outputs": [
    {
     "data": {
      "text/html": [
       "<div>\n",
       "<style scoped>\n",
       "    .dataframe tbody tr th:only-of-type {\n",
       "        vertical-align: middle;\n",
       "    }\n",
       "\n",
       "    .dataframe tbody tr th {\n",
       "        vertical-align: top;\n",
       "    }\n",
       "\n",
       "    .dataframe thead th {\n",
       "        text-align: right;\n",
       "    }\n",
       "</style>\n",
       "<table border=\"1\" class=\"dataframe\">\n",
       "  <thead>\n",
       "    <tr style=\"text-align: right;\">\n",
       "      <th></th>\n",
       "      <th>dep</th>\n",
       "      <th>nomdep</th>\n",
       "      <th>codecommune</th>\n",
       "      <th>nomcommune</th>\n",
       "      <th>CSP_agri_22</th>\n",
       "      <th>CSP_indp_22</th>\n",
       "      <th>CSP_cadr_22</th>\n",
       "      <th>CSP_pint_22</th>\n",
       "      <th>CSP_empl_22</th>\n",
       "      <th>CSP_ouvr_22</th>\n",
       "      <th>...</th>\n",
       "      <th>CSP_empl_02</th>\n",
       "      <th>CSP_ouvr_02</th>\n",
       "      <th>CSP_chom_02</th>\n",
       "      <th>CSP_agri_92</th>\n",
       "      <th>CSP_indp_92</th>\n",
       "      <th>CSP_cadr_92</th>\n",
       "      <th>CSP_pint_92</th>\n",
       "      <th>CSP_empl_92</th>\n",
       "      <th>CSP_ouvr_92</th>\n",
       "      <th>CSP_chom_92</th>\n",
       "    </tr>\n",
       "  </thead>\n",
       "  <tbody>\n",
       "    <tr>\n",
       "      <th>0</th>\n",
       "      <td>01</td>\n",
       "      <td>AIN</td>\n",
       "      <td>01001</td>\n",
       "      <td>ABERGEMENT-CLEMENCIAT</td>\n",
       "      <td>0</td>\n",
       "      <td>39</td>\n",
       "      <td>33</td>\n",
       "      <td>14</td>\n",
       "      <td>86</td>\n",
       "      <td>147</td>\n",
       "      <td>...</td>\n",
       "      <td>71.0</td>\n",
       "      <td>76.0</td>\n",
       "      <td>16.0</td>\n",
       "      <td>16.0</td>\n",
       "      <td>23.0</td>\n",
       "      <td>15.0</td>\n",
       "      <td>47.0</td>\n",
       "      <td>52.0</td>\n",
       "      <td>67.0</td>\n",
       "      <td>7.0</td>\n",
       "    </tr>\n",
       "    <tr>\n",
       "      <th>1</th>\n",
       "      <td>01</td>\n",
       "      <td>AIN</td>\n",
       "      <td>01002</td>\n",
       "      <td>ABERGEMENT-DE-VAREY</td>\n",
       "      <td>0</td>\n",
       "      <td>39</td>\n",
       "      <td>9</td>\n",
       "      <td>0</td>\n",
       "      <td>66</td>\n",
       "      <td>0</td>\n",
       "      <td>...</td>\n",
       "      <td>11.0</td>\n",
       "      <td>18.0</td>\n",
       "      <td>9.0</td>\n",
       "      <td>3.0</td>\n",
       "      <td>9.0</td>\n",
       "      <td>5.0</td>\n",
       "      <td>6.0</td>\n",
       "      <td>8.0</td>\n",
       "      <td>13.0</td>\n",
       "      <td>9.0</td>\n",
       "    </tr>\n",
       "  </tbody>\n",
       "</table>\n",
       "<p>2 rows × 32 columns</p>\n",
       "</div>"
      ],
      "text/plain": [
       "  dep nomdep codecommune             nomcommune  CSP_agri_22  CSP_indp_22  \\\n",
       "0  01    AIN       01001  ABERGEMENT-CLEMENCIAT            0           39   \n",
       "1  01    AIN       01002    ABERGEMENT-DE-VAREY            0           39   \n",
       "\n",
       "   CSP_cadr_22  CSP_pint_22  CSP_empl_22  CSP_ouvr_22  ...  CSP_empl_02  \\\n",
       "0           33           14           86          147  ...         71.0   \n",
       "1            9            0           66            0  ...         11.0   \n",
       "\n",
       "   CSP_ouvr_02  CSP_chom_02  CSP_agri_92  CSP_indp_92  CSP_cadr_92  \\\n",
       "0         76.0         16.0         16.0         23.0         15.0   \n",
       "1         18.0          9.0          3.0          9.0          5.0   \n",
       "\n",
       "   CSP_pint_92  CSP_empl_92  CSP_ouvr_92  CSP_chom_92  \n",
       "0         47.0         52.0         67.0          7.0  \n",
       "1          6.0          8.0         13.0          9.0  \n",
       "\n",
       "[2 rows x 32 columns]"
      ]
     },
     "execution_count": 18,
     "metadata": {},
     "output_type": "execute_result"
    }
   ],
   "source": [
    "df = df.drop(df.columns[4:4016], axis=1)\n",
    "df.head(2)"
   ]
  },
  {
   "cell_type": "code",
   "execution_count": 19,
   "id": "6d073d39-20ce-479f-98d8-1011411021aa",
   "metadata": {},
   "outputs": [
    {
     "data": {
      "text/plain": [
       "dep               0\n",
       "nomdep          243\n",
       "codecommune       0\n",
       "nomcommune        0\n",
       "CSP_agri_22       0\n",
       "CSP_indp_22       0\n",
       "CSP_cadr_22       0\n",
       "CSP_pint_22       0\n",
       "CSP_empl_22       0\n",
       "CSP_ouvr_22       0\n",
       "CSP_chom_22       0\n",
       "CSP_agri_12    2697\n",
       "CSP_indp_12    2697\n",
       "CSP_cadr_12    2697\n",
       "CSP_pint_12    2697\n",
       "CSP_empl_12    2697\n",
       "CSP_ouvr_12    2697\n",
       "CSP_chom_12    2697\n",
       "CSP_agri_02    1416\n",
       "CSP_indp_02    1416\n",
       "CSP_cadr_02    1416\n",
       "CSP_pint_02    1416\n",
       "CSP_empl_02    1416\n",
       "CSP_ouvr_02    1416\n",
       "CSP_chom_02    1416\n",
       "CSP_agri_92    1429\n",
       "CSP_indp_92    1429\n",
       "CSP_cadr_92    1429\n",
       "CSP_pint_92    1429\n",
       "CSP_empl_92    1429\n",
       "CSP_ouvr_92    1429\n",
       "CSP_chom_92    1429\n",
       "dtype: int64"
      ]
     },
     "execution_count": 19,
     "metadata": {},
     "output_type": "execute_result"
    }
   ],
   "source": [
    "df.isna().sum()"
   ]
  },
  {
   "cell_type": "code",
   "execution_count": 20,
   "id": "bf4dbf68-293f-4d30-a97b-f1bc6d520baf",
   "metadata": {},
   "outputs": [
    {
     "data": {
      "text/plain": [
       "(37985, 32)"
      ]
     },
     "execution_count": 20,
     "metadata": {},
     "output_type": "execute_result"
    }
   ],
   "source": [
    "df.shape"
   ]
  },
  {
   "cell_type": "code",
   "execution_count": 21,
   "id": "be422efa-9b21-4061-a57f-d9251c54f90e",
   "metadata": {},
   "outputs": [
    {
     "data": {
      "text/plain": [
       "(37985, 37985)"
      ]
     },
     "execution_count": 21,
     "metadata": {},
     "output_type": "execute_result"
    }
   ],
   "source": [
    "df['codecommune'].nunique(),len(df)"
   ]
  },
  {
   "cell_type": "markdown",
   "id": "fbfee32e-517c-43a1-b4a8-256c3c6cdeac",
   "metadata": {},
   "source": [
    "## <a name=\"TRANSCO\"></a>Partie 3 : Filtres et/ou calculs&nbsp;&nbsp;&nbsp;&nbsp;&nbsp;<a href=\"#TOP\">&uarr;</a>"
   ]
  },
  {
   "cell_type": "code",
   "execution_count": 22,
   "id": "03039577-4fa4-4435-b16e-f34e14e9db9f",
   "metadata": {},
   "outputs": [
    {
     "data": {
      "text/plain": [
       "((33803, 32), (37985, 32))"
      ]
     },
     "execution_count": 22,
     "metadata": {},
     "output_type": "execute_result"
    }
   ],
   "source": [
    "df_filtered = df[df['codecommune'].isin(lines)]\n",
    "df_filtered.shape,df.shape"
   ]
  },
  {
   "cell_type": "code",
   "execution_count": 23,
   "id": "725e8504-c42f-4817-a33d-7531ac607c87",
   "metadata": {},
   "outputs": [
    {
     "data": {
      "text/plain": [
       "('01002', 33803)"
      ]
     },
     "execution_count": 23,
     "metadata": {},
     "output_type": "execute_result"
    }
   ],
   "source": [
    "codecommune_listdf_filtered= df_filtered['codecommune'].tolist()\n",
    "codecommune_listdf_filtered[1], len(codecommune_listdf_filtered)"
   ]
  },
  {
   "cell_type": "code",
   "execution_count": 24,
   "id": "d961e81b-2143-4343-b848-2d7effed3f5b",
   "metadata": {},
   "outputs": [
    {
     "data": {
      "text/plain": [
       "27"
      ]
     },
     "execution_count": 24,
     "metadata": {},
     "output_type": "execute_result"
    }
   ],
   "source": [
    "absent = [x for x in lines if x not in codecommune_listdf_filtered]\n",
    "len (absent)"
   ]
  },
  {
   "cell_type": "code",
   "execution_count": 25,
   "id": "ecf530ad-3eec-47dd-9932-a0d70ee4f8a7",
   "metadata": {},
   "outputs": [
    {
     "data": {
      "text/plain": [
       "['13201',\n",
       " '13202',\n",
       " '13203',\n",
       " '13204',\n",
       " '13205',\n",
       " '13206',\n",
       " '13207',\n",
       " '13208',\n",
       " '13209',\n",
       " '13210',\n",
       " '13211',\n",
       " '13212',\n",
       " '13213',\n",
       " '13214',\n",
       " '13215',\n",
       " '13216',\n",
       " '69380',\n",
       " '69381',\n",
       " '69382',\n",
       " '69383',\n",
       " '69384',\n",
       " '69385',\n",
       " '69386',\n",
       " '69387',\n",
       " '69388',\n",
       " '69389',\n",
       " '75056']"
      ]
     },
     "execution_count": 25,
     "metadata": {},
     "output_type": "execute_result"
    }
   ],
   "source": [
    "absent"
   ]
  },
  {
   "cell_type": "markdown",
   "id": "6c13f2c4-ae3c-498f-b8cc-44786dc480cf",
   "metadata": {},
   "source": [
    "Toujours les memes 27 communes qui posent pb !!!\n",
    "\n",
    "['13201', '13202','13203','13204','13205','13206','13207', '13208', '13209', '13210', '13211', '13212', '13213', '13214', '13215', '13216', '69281', '69282', '69283', '69284', '69285',\n",
    " '69286', '69287', '69288', '69289', '69380', '75056']\n",
    "\n"
   ]
  },
  {
   "cell_type": "code",
   "execution_count": 26,
   "id": "bee5655c-c806-4604-9982-5d567a24b7a1",
   "metadata": {},
   "outputs": [],
   "source": [
    "df_filtered['DBL_bug'] = 0"
   ]
  },
  {
   "cell_type": "code",
   "execution_count": 99,
   "id": "faf7578c-aa34-4f8b-a025-7b385c20a2b0",
   "metadata": {},
   "outputs": [
    {
     "data": {
      "text/html": [
       "<div>\n",
       "<style scoped>\n",
       "    .dataframe tbody tr th:only-of-type {\n",
       "        vertical-align: middle;\n",
       "    }\n",
       "\n",
       "    .dataframe tbody tr th {\n",
       "        vertical-align: top;\n",
       "    }\n",
       "\n",
       "    .dataframe thead th {\n",
       "        text-align: right;\n",
       "    }\n",
       "</style>\n",
       "<table border=\"1\" class=\"dataframe\">\n",
       "  <thead>\n",
       "    <tr style=\"text-align: right;\">\n",
       "      <th></th>\n",
       "      <th>dep</th>\n",
       "      <th>nomdep</th>\n",
       "      <th>codecommune</th>\n",
       "      <th>nomcommune</th>\n",
       "      <th>BFL_baseimpotslocauxratio20</th>\n",
       "      <th>BFL_recetteimpotslocauxratio20</th>\n",
       "      <th>BFL_tauximpotslocauxratio20</th>\n",
       "      <th>BFL_baseimpotslocauxtot20</th>\n",
       "      <th>BFL_recetteimpotslocauxtot20</th>\n",
       "      <th>BFL_tauximpotslocaux20</th>\n",
       "      <th>...</th>\n",
       "      <th>BFL_tauxhabitationratio20</th>\n",
       "      <th>BFL_tauxfoncierratio20</th>\n",
       "      <th>BFL_basehabitationtot20</th>\n",
       "      <th>BFL_basefoncieretot20</th>\n",
       "      <th>BFL_tauxhabitation20</th>\n",
       "      <th>BFL_tauxfoncier20</th>\n",
       "      <th>BFL_basehabitation20</th>\n",
       "      <th>BFL_basefonciere20</th>\n",
       "      <th>BFL_recetteratio20</th>\n",
       "      <th>DBL_bug</th>\n",
       "    </tr>\n",
       "  </thead>\n",
       "  <tbody>\n",
       "    <tr>\n",
       "      <th>1</th>\n",
       "      <td>01</td>\n",
       "      <td>AIN</td>\n",
       "      <td>01001</td>\n",
       "      <td>ABERGEMENT-CLÉMENCIAT</td>\n",
       "      <td>0.672242</td>\n",
       "      <td>0.446424</td>\n",
       "      <td>0.664083</td>\n",
       "      <td>1519407.0</td>\n",
       "      <td>185746.0</td>\n",
       "      <td>0.122249</td>\n",
       "      <td>...</td>\n",
       "      <td>0.665458</td>\n",
       "      <td>0.69406</td>\n",
       "      <td>921783.0</td>\n",
       "      <td>597624.0</td>\n",
       "      <td>0.110602</td>\n",
       "      <td>0.140214</td>\n",
       "      <td>1180.2599</td>\n",
       "      <td>765.20361</td>\n",
       "      <td>1.036774</td>\n",
       "      <td>0</td>\n",
       "    </tr>\n",
       "  </tbody>\n",
       "</table>\n",
       "<p>1 rows × 31 columns</p>\n",
       "</div>"
      ],
      "text/plain": [
       "  dep nomdep codecommune             nomcommune  BFL_baseimpotslocauxratio20  \\\n",
       "1  01    AIN       01001  ABERGEMENT-CLÉMENCIAT                     0.672242   \n",
       "\n",
       "   BFL_recetteimpotslocauxratio20  BFL_tauximpotslocauxratio20  \\\n",
       "1                        0.446424                     0.664083   \n",
       "\n",
       "   BFL_baseimpotslocauxtot20  BFL_recetteimpotslocauxtot20  \\\n",
       "1                  1519407.0                      185746.0   \n",
       "\n",
       "   BFL_tauximpotslocaux20  ...  BFL_tauxhabitationratio20  \\\n",
       "1                0.122249  ...                   0.665458   \n",
       "\n",
       "   BFL_tauxfoncierratio20  BFL_basehabitationtot20  BFL_basefoncieretot20  \\\n",
       "1                 0.69406                 921783.0               597624.0   \n",
       "\n",
       "   BFL_tauxhabitation20  BFL_tauxfoncier20  BFL_basehabitation20  \\\n",
       "1              0.110602           0.140214             1180.2599   \n",
       "\n",
       "   BFL_basefonciere20  BFL_recetteratio20  DBL_bug  \n",
       "1           765.20361            1.036774        0  \n",
       "\n",
       "[1 rows x 31 columns]"
      ]
     },
     "execution_count": 99,
     "metadata": {},
     "output_type": "execute_result"
    }
   ],
   "source": [
    "df_filtered.head(1)"
   ]
  },
  {
   "cell_type": "code",
   "execution_count": 29,
   "id": "ec0119b1-ca98-4677-bf3a-88fa700e0df5",
   "metadata": {},
   "outputs": [
    {
     "data": {
      "text/plain": [
       "33"
      ]
     },
     "execution_count": 29,
     "metadata": {},
     "output_type": "execute_result"
    }
   ],
   "source": [
    "new_row = ['*', '*', 'code', '*'] + [np.nan] * 28 +[1]\n",
    "len (new_row)"
   ]
  },
  {
   "cell_type": "code",
   "execution_count": 30,
   "id": "d63b1627-19a6-46f4-9037-192f5782b442",
   "metadata": {},
   "outputs": [
    {
     "data": {
      "text/plain": [
       "33"
      ]
     },
     "execution_count": 30,
     "metadata": {},
     "output_type": "execute_result"
    }
   ],
   "source": [
    "len(df_filtered.columns)"
   ]
  },
  {
   "cell_type": "code",
   "execution_count": 31,
   "id": "7f6301ca-9ce6-4da8-93bf-81fcf7962004",
   "metadata": {},
   "outputs": [
    {
     "data": {
      "text/plain": [
       "(33830, 33)"
      ]
     },
     "execution_count": 31,
     "metadata": {},
     "output_type": "execute_result"
    }
   ],
   "source": [
    "for i,code in enumerate(absent) :\n",
    "    new_row = ['*', '*', code, '*'] + [np.nan] * 28 + [1]\n",
    "    row_df = pd.DataFrame([new_row], columns=df_filtered.columns)\n",
    "    df_filtered = pd.concat([df_filtered, row_df], ignore_index=True)\n",
    "df_filtered.shape"
   ]
  },
  {
   "cell_type": "markdown",
   "id": "352451f1-99da-4ac0-a95a-8deb6ac94389",
   "metadata": {},
   "source": [
    "## <a name=\"EXPORT\"></a>Partie 4 : EXPORT&nbsp;&nbsp;&nbsp;&nbsp;&nbsp;<a href=\"#TOP\">&uarr;</a>\n",
    "\n"
   ]
  },
  {
   "cell_type": "code",
   "execution_count": 32,
   "id": "01e85959-eaab-4e7a-8dc5-55ffcac8bf0a",
   "metadata": {},
   "outputs": [],
   "source": [
    "path_export='../DATA/EXPORT_CSV/final_CSP_cspcommunes.csv'"
   ]
  },
  {
   "cell_type": "code",
   "execution_count": 33,
   "id": "2f9fa22a-3237-4131-9fae-b4604341807f",
   "metadata": {},
   "outputs": [
    {
     "name": "stdout",
     "output_type": "stream",
     "text": [
      "DataFrame exported to: ../DATA/EXPORT_CSV/final_CSP_cspcommunes.csv\n"
     ]
    }
   ],
   "source": [
    "df_filtered.to_csv(path_export, sep=';', index=False)\n",
    "print(f'DataFrame exported to: {path_export}')"
   ]
  },
  {
   "cell_type": "code",
   "execution_count": null,
   "id": "d7c7efd6-a789-4a43-85dc-94c4dc7ec3a7",
   "metadata": {},
   "outputs": [],
   "source": []
  }
 ],
 "metadata": {
  "kernelspec": {
   "display_name": "Python 3 (ipykernel)",
   "language": "python",
   "name": "python3"
  },
  "language_info": {
   "codemirror_mode": {
    "name": "ipython",
    "version": 3
   },
   "file_extension": ".py",
   "mimetype": "text/x-python",
   "name": "python",
   "nbconvert_exporter": "python",
   "pygments_lexer": "ipython3",
   "version": "3.10.12"
  }
 },
 "nbformat": 4,
 "nbformat_minor": 5
}
