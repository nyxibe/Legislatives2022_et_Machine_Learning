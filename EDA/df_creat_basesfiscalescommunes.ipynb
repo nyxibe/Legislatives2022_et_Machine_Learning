{
 "cells": [
  {
   "cell_type": "markdown",
   "id": "ea3e4cdc-4ad0-480e-8a5e-0e4e4dee9ac3",
   "metadata": {},
   "source": [
    "# <center>  Model Creat Dataframe basesfiscalescommunes [BFL]<br/></center>\n",
    "<a name=\"TOP\"></a>\n",
    "- dev : nyx\n",
    "- Fichier CSV : Capital_immobilier_csv/Capital_immobilier_csv/basesfiscalescommunes.csv</a>\n",
    "\n",
    "\n",
    "    \n",
    "# Description Fichiers : \n",
    "Base Fiscale commune 2020\n",
    "\n",
    "# Synthese des Actions :\n",
    "\n",
    "  \n",
    "**<u>MENU</u>** \n",
    "- <a href=\"#Import\">P0 : Import CSV</a>\n",
    "- <a href=\"#EDA\">P1 : Mini EDA</a>\n",
    "- <a href=\"#Nan\">P2 : Traitement des Nan</a>\n",
    "- <a href=\"#TRANSCO\">P3 : Filtres et/ou calculs</a>\n",
    "- <a href=\"#EXPORT\">P4 : EXPORT (/DATA/EXPORT_CSV/final_xxxxxxx.csv)</a>\n",
    "\n",
    "\n",
    "\n"
   ]
  },
  {
   "cell_type": "markdown",
   "id": "ca339594-e0cb-478d-b4fb-3e1af6de883d",
   "metadata": {},
   "source": [
    "PREFIXE FICHIER : KP1\n",
    "Structure :\n",
    "\n",
    "    0 dep\n",
    "    1 nomdep\n",
    "    2 codecommune\n",
    "    3 nomcommune\n",
    "    4 KP1_capitalimmo22\n",
    "    5 KP1_prixbien22\n",
    "    6 KP1_capitalimmo12\n",
    "    7 KP1_prixbien12\n",
    "    8 KP1_capitalimmo02\n",
    "    9 KP1_prixbien02\n",
    "    10 KP1_capitalimmo92\n",
    "    11 KP1_prixbien92\n",
    "    12 DBL_bug (flag à 1 poour les lignes ajoutées avec des Nan A TRAITER)\n",
    "\n",
    "\n"
   ]
  },
  {
   "cell_type": "code",
   "execution_count": 66,
   "id": "95d983a2-4b3e-4b94-855b-bf6d33d4ba75",
   "metadata": {},
   "outputs": [],
   "source": [
    "import warnings\n",
    "warnings.filterwarnings(\"ignore\")\n",
    "\n",
    "import os\n",
    "import zipfile\n",
    "import pandas as pd\n",
    "import numpy as np\n",
    "\n",
    "import seaborn as sns\n",
    "import matplotlib.pyplot as plt"
   ]
  },
  {
   "cell_type": "markdown",
   "id": "baa4ba11-c303-401b-b654-f6d5a2f6b7b4",
   "metadata": {},
   "source": [
    "## <a name=\"Import\"></a>Partie 0 : Import CSV&nbsp;&nbsp;&nbsp;&nbsp;&nbsp; <a href=\"#TOP\">&uarr;</a>"
   ]
  },
  {
   "cell_type": "code",
   "execution_count": 67,
   "id": "64bd9ee9-428d-4c50-8304-e1a2635a352b",
   "metadata": {},
   "outputs": [],
   "source": [
    "def df_creat(filename, df_dataframe):  \n",
    "    df = df_dataframe[df_dataframe['filename'] == filename]\n",
    "    if len(df) == 1:\n",
    "        row = df.iloc[0]\n",
    "        file = row['path']\n",
    "        if os.path.exists(file):\n",
    "            print(file)\n",
    "            df_from_csv = pd.read_csv(file, encoding='utf-8', low_memory=False)\n",
    "            return df_from_csv\n",
    "        else:\n",
    "            print('FICHIER NON TROUVE', file)\n",
    "            return pd.DataFrame()\n",
    "    else:\n",
    "        print(f\"filename: '{filename}' return size: {len(df)}\")\n",
    "        return pd.DataFrame()"
   ]
  },
  {
   "cell_type": "code",
   "execution_count": 68,
   "id": "4b858715-3881-4cae-b6f1-59d3e10d9276",
   "metadata": {},
   "outputs": [],
   "source": [
    "csv_file_path = 'df_filtred.csv'\n",
    "# Use pandas to read the CSV file into a DataFrame with UTF-8 encoding\n",
    "df_cat = pd.read_csv(csv_file_path, encoding='utf-8')"
   ]
  },
  {
   "cell_type": "code",
   "execution_count": 69,
   "id": "677ef87c-1d20-4ea9-b483-24fcc6557f7d",
   "metadata": {},
   "outputs": [
    {
     "data": {
      "text/html": [
       "<div>\n",
       "<style scoped>\n",
       "    .dataframe tbody tr th:only-of-type {\n",
       "        vertical-align: middle;\n",
       "    }\n",
       "\n",
       "    .dataframe tbody tr th {\n",
       "        vertical-align: top;\n",
       "    }\n",
       "\n",
       "    .dataframe thead th {\n",
       "        text-align: right;\n",
       "    }\n",
       "</style>\n",
       "<table border=\"1\" class=\"dataframe\">\n",
       "  <thead>\n",
       "    <tr style=\"text-align: right;\">\n",
       "      <th></th>\n",
       "      <th>category</th>\n",
       "      <th>filename</th>\n",
       "      <th>comment</th>\n",
       "      <th>size</th>\n",
       "      <th>depart</th>\n",
       "      <th>district</th>\n",
       "      <th>commune</th>\n",
       "      <th>canton</th>\n",
       "      <th>yyyy</th>\n",
       "      <th>path</th>\n",
       "      <th>codecommune</th>\n",
       "    </tr>\n",
       "  </thead>\n",
       "  <tbody>\n",
       "    <tr>\n",
       "      <th>0</th>\n",
       "      <td>Taille_agglo_commune_csv</td>\n",
       "      <td>codescommunes1999</td>\n",
       "      <td>codes</td>\n",
       "      <td>0</td>\n",
       "      <td>0</td>\n",
       "      <td>0</td>\n",
       "      <td>1</td>\n",
       "      <td>0</td>\n",
       "      <td>1999</td>\n",
       "      <td>../../ProjetCommun/DATA_SOURCES/HCP/Taille_agg...</td>\n",
       "      <td>1</td>\n",
       "    </tr>\n",
       "  </tbody>\n",
       "</table>\n",
       "</div>"
      ],
      "text/plain": [
       "                   category           filename comment  size  depart  \\\n",
       "0  Taille_agglo_commune_csv  codescommunes1999   codes     0       0   \n",
       "\n",
       "   district  commune  canton  yyyy  \\\n",
       "0         0        1       0  1999   \n",
       "\n",
       "                                                path  codecommune  \n",
       "0  ../../ProjetCommun/DATA_SOURCES/HCP/Taille_agg...            1  "
      ]
     },
     "execution_count": 69,
     "metadata": {},
     "output_type": "execute_result"
    }
   ],
   "source": [
    "df_cat.head(1)"
   ]
  },
  {
   "cell_type": "code",
   "execution_count": 70,
   "id": "cad20927-5d97-49d4-ae0b-fab1a76b4d98",
   "metadata": {},
   "outputs": [
    {
     "name": "stdout",
     "output_type": "stream",
     "text": [
      "['01001', '01002', '01004', '01005', '01006', '01007', '01008', '01009', '01010', '01011'] 33830\n"
     ]
    }
   ],
   "source": [
    "file_path = '../DATA/list_codecommune_leg2022_50inscrits.txt'\n",
    "\n",
    "# Open the text file and read lines into a list\n",
    "with open(file_path, 'r', encoding='utf-8') as file:\n",
    "    lines = [line.strip() for line in file.readlines()]\n",
    "\n",
    "# Print or manipulate the list of lines as needed\n",
    "print(lines[0:10], len(lines))"
   ]
  },
  {
   "cell_type": "code",
   "execution_count": 71,
   "id": "04da4fb3-c6ba-4332-9b2a-872c14a87126",
   "metadata": {},
   "outputs": [
    {
     "name": "stdout",
     "output_type": "stream",
     "text": [
      "../../ProjetCommun/DATA_SOURCES/HCP/Capital_immobilier_csv/Capital_immobilier_csv/basesfiscalescommunes.csv\n"
     ]
    }
   ],
   "source": [
    "df = df_creat('basesfiscalescommunes', df_cat)"
   ]
  },
  {
   "cell_type": "markdown",
   "id": "6647aa81-cb46-45dd-a922-b069be341809",
   "metadata": {},
   "source": [
    "## <a name=\"EDA\"></a>Partie 1 : Mini EDA &nbsp;&nbsp;&nbsp;&nbsp;&nbsp; <a href=\"#TOP\">&uarr;</a>"
   ]
  },
  {
   "cell_type": "code",
   "execution_count": 72,
   "id": "cd6d2a1b-246e-4d37-907b-e133b079fa9f",
   "metadata": {},
   "outputs": [
    {
     "data": {
      "text/plain": [
       "(40407, 1112)"
      ]
     },
     "execution_count": 72,
     "metadata": {},
     "output_type": "execute_result"
    }
   ],
   "source": [
    "df.shape"
   ]
  },
  {
   "cell_type": "code",
   "execution_count": 73,
   "id": "594cdd42-69ef-4827-8497-f933f546c1ec",
   "metadata": {},
   "outputs": [
    {
     "data": {
      "text/html": [
       "<div>\n",
       "<style scoped>\n",
       "    .dataframe tbody tr th:only-of-type {\n",
       "        vertical-align: middle;\n",
       "    }\n",
       "\n",
       "    .dataframe tbody tr th {\n",
       "        vertical-align: top;\n",
       "    }\n",
       "\n",
       "    .dataframe thead th {\n",
       "        text-align: right;\n",
       "    }\n",
       "</style>\n",
       "<table border=\"1\" class=\"dataframe\">\n",
       "  <thead>\n",
       "    <tr style=\"text-align: right;\">\n",
       "      <th></th>\n",
       "      <th>dep</th>\n",
       "      <th>nomdep</th>\n",
       "      <th>codecommune</th>\n",
       "      <th>nomcommune</th>\n",
       "      <th>cog1881</th>\n",
       "      <th>cog1911</th>\n",
       "      <th>cog1920</th>\n",
       "      <th>codecommune1881</th>\n",
       "      <th>codecommune1911</th>\n",
       "      <th>codecommune1920</th>\n",
       "      <th>...</th>\n",
       "      <th>pop2021</th>\n",
       "      <th>pop2022</th>\n",
       "      <th>recetteratio2019</th>\n",
       "      <th>recetteratio2020</th>\n",
       "      <th>recetteratio2021</th>\n",
       "      <th>recetteratio2022</th>\n",
       "      <th>recetteimpotslocauxratio2021</th>\n",
       "      <th>recetteimpotslocauxratio2022</th>\n",
       "      <th>recetteimpotslocauxratio1980</th>\n",
       "      <th>recetteimpotslocauxratio1981</th>\n",
       "    </tr>\n",
       "  </thead>\n",
       "  <tbody>\n",
       "    <tr>\n",
       "      <th>0</th>\n",
       "      <td>01</td>\n",
       "      <td>NaN</td>\n",
       "      <td>.</td>\n",
       "      <td>NaN</td>\n",
       "      <td>1.0</td>\n",
       "      <td>NaN</td>\n",
       "      <td>NaN</td>\n",
       "      <td>.</td>\n",
       "      <td>.</td>\n",
       "      <td>.</td>\n",
       "      <td>...</td>\n",
       "      <td>NaN</td>\n",
       "      <td>NaN</td>\n",
       "      <td>NaN</td>\n",
       "      <td>NaN</td>\n",
       "      <td>NaN</td>\n",
       "      <td>NaN</td>\n",
       "      <td>NaN</td>\n",
       "      <td>NaN</td>\n",
       "      <td>NaN</td>\n",
       "      <td>NaN</td>\n",
       "    </tr>\n",
       "    <tr>\n",
       "      <th>1</th>\n",
       "      <td>01</td>\n",
       "      <td>AIN</td>\n",
       "      <td>01001</td>\n",
       "      <td>ABERGEMENT-CLÉMENCIAT</td>\n",
       "      <td>1.0</td>\n",
       "      <td>1.0</td>\n",
       "      <td>1.0</td>\n",
       "      <td>01001</td>\n",
       "      <td>01001</td>\n",
       "      <td>01001</td>\n",
       "      <td>...</td>\n",
       "      <td>784.0</td>\n",
       "      <td>786.0</td>\n",
       "      <td>1.036774</td>\n",
       "      <td>1.036774</td>\n",
       "      <td>1.036774</td>\n",
       "      <td>1.036774</td>\n",
       "      <td>0.446424</td>\n",
       "      <td>0.446424</td>\n",
       "      <td>0.897501</td>\n",
       "      <td>0.897501</td>\n",
       "    </tr>\n",
       "    <tr>\n",
       "      <th>2</th>\n",
       "      <td>01</td>\n",
       "      <td>AIN</td>\n",
       "      <td>01002</td>\n",
       "      <td>ABERGEMENT-DE-VAREY</td>\n",
       "      <td>1.0</td>\n",
       "      <td>1.0</td>\n",
       "      <td>1.0</td>\n",
       "      <td>01002</td>\n",
       "      <td>01002</td>\n",
       "      <td>01002</td>\n",
       "      <td>...</td>\n",
       "      <td>263.0</td>\n",
       "      <td>266.0</td>\n",
       "      <td>0.655969</td>\n",
       "      <td>0.655969</td>\n",
       "      <td>0.655969</td>\n",
       "      <td>0.655969</td>\n",
       "      <td>0.459627</td>\n",
       "      <td>0.459627</td>\n",
       "      <td>0.931115</td>\n",
       "      <td>0.931115</td>\n",
       "    </tr>\n",
       "    <tr>\n",
       "      <th>3</th>\n",
       "      <td>01</td>\n",
       "      <td>AIN</td>\n",
       "      <td>01004</td>\n",
       "      <td>AMBÉRIEU-EN-BUGEY</td>\n",
       "      <td>1.0</td>\n",
       "      <td>1.0</td>\n",
       "      <td>1.0</td>\n",
       "      <td>01004</td>\n",
       "      <td>01004</td>\n",
       "      <td>01004</td>\n",
       "      <td>...</td>\n",
       "      <td>14179.0</td>\n",
       "      <td>14201.0</td>\n",
       "      <td>0.935953</td>\n",
       "      <td>0.935953</td>\n",
       "      <td>0.935953</td>\n",
       "      <td>0.935953</td>\n",
       "      <td>0.963946</td>\n",
       "      <td>0.963946</td>\n",
       "      <td>0.867920</td>\n",
       "      <td>0.867920</td>\n",
       "    </tr>\n",
       "    <tr>\n",
       "      <th>4</th>\n",
       "      <td>01</td>\n",
       "      <td>AIN</td>\n",
       "      <td>01005</td>\n",
       "      <td>AMBÉRIEUX-EN-DOMBES</td>\n",
       "      <td>1.0</td>\n",
       "      <td>1.0</td>\n",
       "      <td>1.0</td>\n",
       "      <td>01005</td>\n",
       "      <td>01005</td>\n",
       "      <td>01005</td>\n",
       "      <td>...</td>\n",
       "      <td>1801.0</td>\n",
       "      <td>1825.0</td>\n",
       "      <td>0.557531</td>\n",
       "      <td>0.557531</td>\n",
       "      <td>0.557531</td>\n",
       "      <td>0.557531</td>\n",
       "      <td>0.685754</td>\n",
       "      <td>0.685754</td>\n",
       "      <td>0.476874</td>\n",
       "      <td>0.476874</td>\n",
       "    </tr>\n",
       "  </tbody>\n",
       "</table>\n",
       "<p>5 rows × 1112 columns</p>\n",
       "</div>"
      ],
      "text/plain": [
       "  dep nomdep codecommune             nomcommune  cog1881  cog1911  cog1920  \\\n",
       "0  01    NaN           .                    NaN      1.0      NaN      NaN   \n",
       "1  01    AIN       01001  ABERGEMENT-CLÉMENCIAT      1.0      1.0      1.0   \n",
       "2  01    AIN       01002    ABERGEMENT-DE-VAREY      1.0      1.0      1.0   \n",
       "3  01    AIN       01004      AMBÉRIEU-EN-BUGEY      1.0      1.0      1.0   \n",
       "4  01    AIN       01005    AMBÉRIEUX-EN-DOMBES      1.0      1.0      1.0   \n",
       "\n",
       "  codecommune1881 codecommune1911 codecommune1920  ...  pop2021  pop2022  \\\n",
       "0               .               .               .  ...      NaN      NaN   \n",
       "1           01001           01001           01001  ...    784.0    786.0   \n",
       "2           01002           01002           01002  ...    263.0    266.0   \n",
       "3           01004           01004           01004  ...  14179.0  14201.0   \n",
       "4           01005           01005           01005  ...   1801.0   1825.0   \n",
       "\n",
       "  recetteratio2019  recetteratio2020  recetteratio2021  recetteratio2022  \\\n",
       "0              NaN               NaN               NaN               NaN   \n",
       "1         1.036774          1.036774          1.036774          1.036774   \n",
       "2         0.655969          0.655969          0.655969          0.655969   \n",
       "3         0.935953          0.935953          0.935953          0.935953   \n",
       "4         0.557531          0.557531          0.557531          0.557531   \n",
       "\n",
       "   recetteimpotslocauxratio2021  recetteimpotslocauxratio2022  \\\n",
       "0                           NaN                           NaN   \n",
       "1                      0.446424                      0.446424   \n",
       "2                      0.459627                      0.459627   \n",
       "3                      0.963946                      0.963946   \n",
       "4                      0.685754                      0.685754   \n",
       "\n",
       "   recetteimpotslocauxratio1980  recetteimpotslocauxratio1981  \n",
       "0                           NaN                           NaN  \n",
       "1                      0.897501                      0.897501  \n",
       "2                      0.931115                      0.931115  \n",
       "3                      0.867920                      0.867920  \n",
       "4                      0.476874                      0.476874  \n",
       "\n",
       "[5 rows x 1112 columns]"
      ]
     },
     "execution_count": 73,
     "metadata": {},
     "output_type": "execute_result"
    }
   ],
   "source": [
    "df.head(5)"
   ]
  },
  {
   "cell_type": "code",
   "execution_count": 74,
   "id": "96bc1077-1b6a-45bc-b0e8-2a4ed793f390",
   "metadata": {},
   "outputs": [
    {
     "data": {
      "text/plain": [
       "('01001', 40407)"
      ]
     },
     "execution_count": 74,
     "metadata": {},
     "output_type": "execute_result"
    }
   ],
   "source": [
    "codecommune_listdf = df['codecommune'].tolist()\n",
    "codecommune_listdf[1], len(codecommune_listdf)"
   ]
  },
  {
   "cell_type": "code",
   "execution_count": 75,
   "id": "e8f19ac5-9a03-48b6-ae83-eac8aad6d232",
   "metadata": {},
   "outputs": [
    {
     "data": {
      "text/plain": [
       "(40204, 40407)"
      ]
     },
     "execution_count": 75,
     "metadata": {},
     "output_type": "execute_result"
    }
   ],
   "source": [
    "df['codecommune'].nunique(),len(df)"
   ]
  },
  {
   "cell_type": "code",
   "execution_count": 76,
   "id": "78874cf3-1b32-48f3-b782-10745a8dadca",
   "metadata": {},
   "outputs": [
    {
     "data": {
      "text/plain": [
       "46"
      ]
     },
     "execution_count": 76,
     "metadata": {},
     "output_type": "execute_result"
    }
   ],
   "source": [
    "absent = [x for x in lines if x not in codecommune_listdf]\n",
    "len (absent)"
   ]
  },
  {
   "cell_type": "code",
   "execution_count": 77,
   "id": "f8df397f-f52b-44dd-b154-04a631d29711",
   "metadata": {},
   "outputs": [
    {
     "data": {
      "text/plain": [
       "(202, 1112)"
      ]
     },
     "execution_count": 77,
     "metadata": {},
     "output_type": "execute_result"
    }
   ],
   "source": [
    "duplicates = df[df.duplicated('codecommune')]\n",
    "duplicates.shape"
   ]
  },
  {
   "cell_type": "code",
   "execution_count": 78,
   "id": "8e1f6cff-1ab7-4403-8548-732a8d59b0a8",
   "metadata": {},
   "outputs": [
    {
     "data": {
      "text/plain": [
       "(3, 1112)"
      ]
     },
     "execution_count": 78,
     "metadata": {},
     "output_type": "execute_result"
    }
   ],
   "source": [
    "duplicates = duplicates[duplicates['codecommune'].astype(str).str.len() == 5]\n",
    "duplicates.shape"
   ]
  },
  {
   "cell_type": "code",
   "execution_count": 79,
   "id": "f1727a5f-597d-4e9d-8cfe-c27204920fcd",
   "metadata": {},
   "outputs": [
    {
     "data": {
      "text/html": [
       "<div>\n",
       "<style scoped>\n",
       "    .dataframe tbody tr th:only-of-type {\n",
       "        vertical-align: middle;\n",
       "    }\n",
       "\n",
       "    .dataframe tbody tr th {\n",
       "        vertical-align: top;\n",
       "    }\n",
       "\n",
       "    .dataframe thead th {\n",
       "        text-align: right;\n",
       "    }\n",
       "</style>\n",
       "<table border=\"1\" class=\"dataframe\">\n",
       "  <thead>\n",
       "    <tr style=\"text-align: right;\">\n",
       "      <th></th>\n",
       "      <th>dep</th>\n",
       "      <th>nomdep</th>\n",
       "      <th>codecommune</th>\n",
       "      <th>nomcommune</th>\n",
       "      <th>cog1881</th>\n",
       "      <th>cog1911</th>\n",
       "      <th>cog1920</th>\n",
       "      <th>codecommune1881</th>\n",
       "      <th>codecommune1911</th>\n",
       "      <th>codecommune1920</th>\n",
       "      <th>...</th>\n",
       "      <th>pop2021</th>\n",
       "      <th>pop2022</th>\n",
       "      <th>recetteratio2019</th>\n",
       "      <th>recetteratio2020</th>\n",
       "      <th>recetteratio2021</th>\n",
       "      <th>recetteratio2022</th>\n",
       "      <th>recetteimpotslocauxratio2021</th>\n",
       "      <th>recetteimpotslocauxratio2022</th>\n",
       "      <th>recetteimpotslocauxratio1980</th>\n",
       "      <th>recetteimpotslocauxratio1981</th>\n",
       "    </tr>\n",
       "  </thead>\n",
       "  <tbody>\n",
       "    <tr>\n",
       "      <th>40149</th>\n",
       "      <td>94</td>\n",
       "      <td>NaN</td>\n",
       "      <td>92033</td>\n",
       "      <td>NaN</td>\n",
       "      <td>NaN</td>\n",
       "      <td>NaN</td>\n",
       "      <td>1.0</td>\n",
       "      <td>NaN</td>\n",
       "      <td>NaN</td>\n",
       "      <td>92033</td>\n",
       "      <td>...</td>\n",
       "      <td>NaN</td>\n",
       "      <td>NaN</td>\n",
       "      <td>NaN</td>\n",
       "      <td>NaN</td>\n",
       "      <td>NaN</td>\n",
       "      <td>NaN</td>\n",
       "      <td>NaN</td>\n",
       "      <td>NaN</td>\n",
       "      <td>NaN</td>\n",
       "      <td>NaN</td>\n",
       "    </tr>\n",
       "    <tr>\n",
       "      <th>40211</th>\n",
       "      <td>95</td>\n",
       "      <td>NaN</td>\n",
       "      <td>91527</td>\n",
       "      <td>NaN</td>\n",
       "      <td>1.0</td>\n",
       "      <td>NaN</td>\n",
       "      <td>NaN</td>\n",
       "      <td>91527</td>\n",
       "      <td>91527</td>\n",
       "      <td>91527</td>\n",
       "      <td>...</td>\n",
       "      <td>NaN</td>\n",
       "      <td>NaN</td>\n",
       "      <td>NaN</td>\n",
       "      <td>NaN</td>\n",
       "      <td>NaN</td>\n",
       "      <td>NaN</td>\n",
       "      <td>NaN</td>\n",
       "      <td>NaN</td>\n",
       "      <td>NaN</td>\n",
       "      <td>NaN</td>\n",
       "    </tr>\n",
       "    <tr>\n",
       "      <th>40390</th>\n",
       "      <td>95</td>\n",
       "      <td>NaN</td>\n",
       "      <td>95638</td>\n",
       "      <td>NaN</td>\n",
       "      <td>NaN</td>\n",
       "      <td>1.0</td>\n",
       "      <td>NaN</td>\n",
       "      <td>NaN</td>\n",
       "      <td>95638</td>\n",
       "      <td>95638</td>\n",
       "      <td>...</td>\n",
       "      <td>NaN</td>\n",
       "      <td>NaN</td>\n",
       "      <td>NaN</td>\n",
       "      <td>NaN</td>\n",
       "      <td>NaN</td>\n",
       "      <td>NaN</td>\n",
       "      <td>NaN</td>\n",
       "      <td>NaN</td>\n",
       "      <td>NaN</td>\n",
       "      <td>NaN</td>\n",
       "    </tr>\n",
       "  </tbody>\n",
       "</table>\n",
       "<p>3 rows × 1112 columns</p>\n",
       "</div>"
      ],
      "text/plain": [
       "      dep nomdep codecommune nomcommune  cog1881  cog1911  cog1920  \\\n",
       "40149  94    NaN       92033        NaN      NaN      NaN      1.0   \n",
       "40211  95    NaN       91527        NaN      1.0      NaN      NaN   \n",
       "40390  95    NaN       95638        NaN      NaN      1.0      NaN   \n",
       "\n",
       "      codecommune1881 codecommune1911 codecommune1920  ... pop2021 pop2022  \\\n",
       "40149             NaN             NaN           92033  ...     NaN     NaN   \n",
       "40211           91527           91527           91527  ...     NaN     NaN   \n",
       "40390             NaN           95638           95638  ...     NaN     NaN   \n",
       "\n",
       "      recetteratio2019  recetteratio2020  recetteratio2021  recetteratio2022  \\\n",
       "40149              NaN               NaN               NaN               NaN   \n",
       "40211              NaN               NaN               NaN               NaN   \n",
       "40390              NaN               NaN               NaN               NaN   \n",
       "\n",
       "       recetteimpotslocauxratio2021  recetteimpotslocauxratio2022  \\\n",
       "40149                           NaN                           NaN   \n",
       "40211                           NaN                           NaN   \n",
       "40390                           NaN                           NaN   \n",
       "\n",
       "       recetteimpotslocauxratio1980  recetteimpotslocauxratio1981  \n",
       "40149                           NaN                           NaN  \n",
       "40211                           NaN                           NaN  \n",
       "40390                           NaN                           NaN  \n",
       "\n",
       "[3 rows x 1112 columns]"
      ]
     },
     "execution_count": 79,
     "metadata": {},
     "output_type": "execute_result"
    }
   ],
   "source": [
    "duplicates"
   ]
  },
  {
   "cell_type": "code",
   "execution_count": 80,
   "id": "feb00d92-33b2-451b-a743-06d6184fdb34",
   "metadata": {},
   "outputs": [
    {
     "data": {
      "text/plain": [
       "(3, 1112)"
      ]
     },
     "execution_count": 80,
     "metadata": {},
     "output_type": "execute_result"
    }
   ],
   "source": [
    "duplicates = duplicates.dropna(subset=['codecommune'])\n",
    "duplicates.shape"
   ]
  },
  {
   "cell_type": "code",
   "execution_count": 81,
   "id": "a0f35c76-997b-4b38-a238-9f4761f14494",
   "metadata": {},
   "outputs": [
    {
     "data": {
      "text/plain": [
       "(40205, 1112)"
      ]
     },
     "execution_count": 81,
     "metadata": {},
     "output_type": "execute_result"
    }
   ],
   "source": [
    "df = df.drop_duplicates(subset=['codecommune'])\n",
    "df.shape"
   ]
  },
  {
   "cell_type": "code",
   "execution_count": 82,
   "id": "590cd020-2a04-4bfd-b0cf-b3f681b951aa",
   "metadata": {},
   "outputs": [
    {
     "data": {
      "text/plain": [
       "(36779, 1112)"
      ]
     },
     "execution_count": 82,
     "metadata": {},
     "output_type": "execute_result"
    }
   ],
   "source": [
    "df= df[df['codecommune'].astype(str).str.len() == 5]\n",
    "df.shape"
   ]
  },
  {
   "cell_type": "code",
   "execution_count": 83,
   "id": "af0aa5bf-b220-425a-abb7-478085b19a1f",
   "metadata": {},
   "outputs": [
    {
     "name": "stdout",
     "output_type": "stream",
     "text": [
      "{'dep': '01', 'nomdep': 'AIN', 'codecommune': '01001', 'nomcommune': 'ABERGEMENT-CLÉMENCIAT', 'baseimpotslocauxratio2020': 0.67224181, 'recetteimpotslocauxratio2020': 0.4464241, 'tauximpotslocauxratio2020': 0.66408265, 'baseimpotslocauxtot2020': 1519407.0, 'recetteimpotslocauxtot2020': 185746.0, 'tauximpotslocaux2020': 0.12224901, 'recettetot2020': 1061904.4, 'baseimpotslocaux2020': 1945.4635, 'recetteimpotslocaux2020': 237.83098, 'recettefoncieretot2020': 83795.0, 'recettehabitationtot2020': 101951.0, 'recettefonciere2020': 107.29193, 'recettehabitation2020': 130.53905, 'recettefonciereratio2020': 0.3680605, 'recettehabitationratio2020': 0.54065454, 'basehabitationratio2020': 0.81245452, 'basefonciereratio2020': 0.53030092, 'tauxhabitationratio2020': 0.6654582, 'tauxfoncierratio2020': 0.69405967, 'basehabitationtot2020': 921783.0, 'basefoncieretot2020': 597624.0, 'tauxhabitation2020': 0.11060195, 'tauxfoncier2020': 0.14021356, 'basehabitation2020': 1180.2599, 'basefonciere2020': 765.20361, 'pop2020': 781.0, 'recetteratio2020': 1.0367742} ['dep', 'nomdep', 'codecommune', 'nomcommune', 'baseimpotslocauxratio2020', 'recetteimpotslocauxratio2020', 'tauximpotslocauxratio2020', 'baseimpotslocauxtot2020', 'recetteimpotslocauxtot2020', 'tauximpotslocaux2020', 'recettetot2020', 'baseimpotslocaux2020', 'recetteimpotslocaux2020', 'recettefoncieretot2020', 'recettehabitationtot2020', 'recettefonciere2020', 'recettehabitation2020', 'recettefonciereratio2020', 'recettehabitationratio2020', 'basehabitationratio2020', 'basefonciereratio2020', 'tauxhabitationratio2020', 'tauxfoncierratio2020', 'basehabitationtot2020', 'basefoncieretot2020', 'tauxhabitation2020', 'tauxfoncier2020', 'basehabitation2020', 'basefonciere2020', 'pop2020', 'recetteratio2020']\n"
     ]
    }
   ],
   "source": [
    "dico={}\n",
    "cols_select=[]\n",
    "list_year=[2020]\n",
    "for c in df :\n",
    "    value =df[c].iloc[0]\n",
    "    try:\n",
    "        last4char = int(c[-4:])\n",
    "        if last4char > 0 and last4char in list_year :\n",
    "            dico[c] = value\n",
    "            cols_select.append(c)\n",
    "            # print (c)\n",
    "    except ValueError as e:\n",
    "        dico[c] = value\n",
    "        cols_select.append(c)\n",
    "print (dico,cols_select)\n",
    "    "
   ]
  },
  {
   "cell_type": "code",
   "execution_count": 84,
   "id": "b88e62aa-99f2-4b44-9e54-52237019efab",
   "metadata": {},
   "outputs": [
    {
     "data": {
      "text/plain": [
       "['dep',\n",
       " 'nomdep',\n",
       " 'codecommune',\n",
       " 'nomcommune',\n",
       " 'baseimpotslocauxratio2020',\n",
       " 'recetteimpotslocauxratio2020',\n",
       " 'tauximpotslocauxratio2020',\n",
       " 'baseimpotslocauxtot2020',\n",
       " 'recetteimpotslocauxtot2020',\n",
       " 'tauximpotslocaux2020',\n",
       " 'recettetot2020',\n",
       " 'baseimpotslocaux2020',\n",
       " 'recetteimpotslocaux2020',\n",
       " 'recettefoncieretot2020',\n",
       " 'recettehabitationtot2020',\n",
       " 'recettefonciere2020',\n",
       " 'recettehabitation2020',\n",
       " 'recettefonciereratio2020',\n",
       " 'recettehabitationratio2020',\n",
       " 'basehabitationratio2020',\n",
       " 'basefonciereratio2020',\n",
       " 'tauxhabitationratio2020',\n",
       " 'tauxfoncierratio2020',\n",
       " 'basehabitationtot2020',\n",
       " 'basefoncieretot2020',\n",
       " 'tauxhabitation2020',\n",
       " 'tauxfoncier2020',\n",
       " 'basehabitation2020',\n",
       " 'basefonciere2020',\n",
       " 'recetteratio2020']"
      ]
     },
     "execution_count": 84,
     "metadata": {},
     "output_type": "execute_result"
    }
   ],
   "source": [
    "cols_select.remove('pop2020')\n",
    "cols_select"
   ]
  },
  {
   "cell_type": "code",
   "execution_count": 85,
   "id": "8f8e1935-ead2-4706-9e1d-2dc208e8b746",
   "metadata": {},
   "outputs": [
    {
     "data": {
      "text/plain": [
       "(36779, 30)"
      ]
     },
     "execution_count": 85,
     "metadata": {},
     "output_type": "execute_result"
    }
   ],
   "source": [
    "df = df[cols_select]\n",
    "df.shape"
   ]
  },
  {
   "cell_type": "code",
   "execution_count": 86,
   "id": "f4425fa1-4f56-4b9b-a011-f7ecd86d8103",
   "metadata": {},
   "outputs": [],
   "source": [
    "index_col_sup = df.shape[1]"
   ]
  },
  {
   "cell_type": "code",
   "execution_count": 87,
   "id": "de7dbabe-17dc-4611-b99a-f3705d227647",
   "metadata": {},
   "outputs": [
    {
     "name": "stdout",
     "output_type": "stream",
     "text": [
      "4 baseimpotslocauxratio2020 BFL_baseimpotslocauxratio20\n",
      "5 recetteimpotslocauxratio2020 BFL_recetteimpotslocauxratio20\n",
      "6 tauximpotslocauxratio2020 BFL_tauximpotslocauxratio20\n",
      "7 baseimpotslocauxtot2020 BFL_baseimpotslocauxtot20\n",
      "8 recetteimpotslocauxtot2020 BFL_recetteimpotslocauxtot20\n",
      "9 tauximpotslocaux2020 BFL_tauximpotslocaux20\n",
      "10 recettetot2020 BFL_recettetot20\n",
      "11 baseimpotslocaux2020 BFL_baseimpotslocaux20\n",
      "12 recetteimpotslocaux2020 BFL_recetteimpotslocaux20\n",
      "13 recettefoncieretot2020 BFL_recettefoncieretot20\n",
      "14 recettehabitationtot2020 BFL_recettehabitationtot20\n",
      "15 recettefonciere2020 BFL_recettefonciere20\n",
      "16 recettehabitation2020 BFL_recettehabitation20\n",
      "17 recettefonciereratio2020 BFL_recettefonciereratio20\n",
      "18 recettehabitationratio2020 BFL_recettehabitationratio20\n",
      "19 basehabitationratio2020 BFL_basehabitationratio20\n",
      "20 basefonciereratio2020 BFL_basefonciereratio20\n",
      "21 tauxhabitationratio2020 BFL_tauxhabitationratio20\n",
      "22 tauxfoncierratio2020 BFL_tauxfoncierratio20\n",
      "23 basehabitationtot2020 BFL_basehabitationtot20\n",
      "24 basefoncieretot2020 BFL_basefoncieretot20\n",
      "25 tauxhabitation2020 BFL_tauxhabitation20\n",
      "26 tauxfoncier2020 BFL_tauxfoncier20\n",
      "27 basehabitation2020 BFL_basehabitation20\n",
      "28 basefonciere2020 BFL_basefonciere20\n",
      "29 recetteratio2020 BFL_recetteratio20\n"
     ]
    }
   ],
   "source": [
    "for i,c in enumerate(df) :\n",
    "    if i>3 :\n",
    "        new_col = 'BFL_'+c[0:-2]\n",
    "        print (i,c,new_col)\n",
    "        df[new_col]=df[c]"
   ]
  },
  {
   "cell_type": "code",
   "execution_count": 88,
   "id": "342b27a0-916b-4672-8cbf-956e6520efd3",
   "metadata": {},
   "outputs": [
    {
     "data": {
      "text/plain": [
       "(36779, 56)"
      ]
     },
     "execution_count": 88,
     "metadata": {},
     "output_type": "execute_result"
    }
   ],
   "source": [
    "df.shape"
   ]
  },
  {
   "cell_type": "code",
   "execution_count": 90,
   "id": "b36dd08b-86ae-44d5-bb48-7e10ea832840",
   "metadata": {},
   "outputs": [
    {
     "data": {
      "text/html": [
       "<div>\n",
       "<style scoped>\n",
       "    .dataframe tbody tr th:only-of-type {\n",
       "        vertical-align: middle;\n",
       "    }\n",
       "\n",
       "    .dataframe tbody tr th {\n",
       "        vertical-align: top;\n",
       "    }\n",
       "\n",
       "    .dataframe thead th {\n",
       "        text-align: right;\n",
       "    }\n",
       "</style>\n",
       "<table border=\"1\" class=\"dataframe\">\n",
       "  <thead>\n",
       "    <tr style=\"text-align: right;\">\n",
       "      <th></th>\n",
       "      <th>dep</th>\n",
       "      <th>nomdep</th>\n",
       "      <th>codecommune</th>\n",
       "      <th>nomcommune</th>\n",
       "      <th>BFL_baseimpotslocauxratio20</th>\n",
       "      <th>BFL_recetteimpotslocauxratio20</th>\n",
       "      <th>BFL_tauximpotslocauxratio20</th>\n",
       "      <th>BFL_baseimpotslocauxtot20</th>\n",
       "      <th>BFL_recetteimpotslocauxtot20</th>\n",
       "      <th>BFL_tauximpotslocaux20</th>\n",
       "      <th>...</th>\n",
       "      <th>BFL_basefonciereratio20</th>\n",
       "      <th>BFL_tauxhabitationratio20</th>\n",
       "      <th>BFL_tauxfoncierratio20</th>\n",
       "      <th>BFL_basehabitationtot20</th>\n",
       "      <th>BFL_basefoncieretot20</th>\n",
       "      <th>BFL_tauxhabitation20</th>\n",
       "      <th>BFL_tauxfoncier20</th>\n",
       "      <th>BFL_basehabitation20</th>\n",
       "      <th>BFL_basefonciere20</th>\n",
       "      <th>BFL_recetteratio20</th>\n",
       "    </tr>\n",
       "  </thead>\n",
       "  <tbody>\n",
       "    <tr>\n",
       "      <th>1</th>\n",
       "      <td>01</td>\n",
       "      <td>AIN</td>\n",
       "      <td>01001</td>\n",
       "      <td>ABERGEMENT-CLÉMENCIAT</td>\n",
       "      <td>0.672242</td>\n",
       "      <td>0.446424</td>\n",
       "      <td>0.664083</td>\n",
       "      <td>1519407.0</td>\n",
       "      <td>185746.0</td>\n",
       "      <td>0.122249</td>\n",
       "      <td>...</td>\n",
       "      <td>0.530301</td>\n",
       "      <td>0.665458</td>\n",
       "      <td>0.694060</td>\n",
       "      <td>921783.0</td>\n",
       "      <td>597624.0</td>\n",
       "      <td>0.110602</td>\n",
       "      <td>0.140214</td>\n",
       "      <td>1180.2599</td>\n",
       "      <td>765.20361</td>\n",
       "      <td>1.036774</td>\n",
       "    </tr>\n",
       "    <tr>\n",
       "      <th>2</th>\n",
       "      <td>01</td>\n",
       "      <td>AIN</td>\n",
       "      <td>01002</td>\n",
       "      <td>ABERGEMENT-DE-VAREY</td>\n",
       "      <td>0.788109</td>\n",
       "      <td>0.459627</td>\n",
       "      <td>0.583202</td>\n",
       "      <td>590723.0</td>\n",
       "      <td>63420.0</td>\n",
       "      <td>0.107360</td>\n",
       "      <td>...</td>\n",
       "      <td>0.590814</td>\n",
       "      <td>0.586608</td>\n",
       "      <td>0.613229</td>\n",
       "      <td>369920.0</td>\n",
       "      <td>220803.0</td>\n",
       "      <td>0.097497</td>\n",
       "      <td>0.123884</td>\n",
       "      <td>1428.2626</td>\n",
       "      <td>852.52124</td>\n",
       "      <td>0.655969</td>\n",
       "    </tr>\n",
       "  </tbody>\n",
       "</table>\n",
       "<p>2 rows × 30 columns</p>\n",
       "</div>"
      ],
      "text/plain": [
       "  dep nomdep codecommune             nomcommune  BFL_baseimpotslocauxratio20  \\\n",
       "1  01    AIN       01001  ABERGEMENT-CLÉMENCIAT                     0.672242   \n",
       "2  01    AIN       01002    ABERGEMENT-DE-VAREY                     0.788109   \n",
       "\n",
       "   BFL_recetteimpotslocauxratio20  BFL_tauximpotslocauxratio20  \\\n",
       "1                        0.446424                     0.664083   \n",
       "2                        0.459627                     0.583202   \n",
       "\n",
       "   BFL_baseimpotslocauxtot20  BFL_recetteimpotslocauxtot20  \\\n",
       "1                  1519407.0                      185746.0   \n",
       "2                   590723.0                       63420.0   \n",
       "\n",
       "   BFL_tauximpotslocaux20  ...  BFL_basefonciereratio20  \\\n",
       "1                0.122249  ...                 0.530301   \n",
       "2                0.107360  ...                 0.590814   \n",
       "\n",
       "   BFL_tauxhabitationratio20  BFL_tauxfoncierratio20  BFL_basehabitationtot20  \\\n",
       "1                   0.665458                0.694060                 921783.0   \n",
       "2                   0.586608                0.613229                 369920.0   \n",
       "\n",
       "   BFL_basefoncieretot20  BFL_tauxhabitation20  BFL_tauxfoncier20  \\\n",
       "1               597624.0              0.110602           0.140214   \n",
       "2               220803.0              0.097497           0.123884   \n",
       "\n",
       "   BFL_basehabitation20  BFL_basefonciere20  BFL_recetteratio20  \n",
       "1             1180.2599           765.20361            1.036774  \n",
       "2             1428.2626           852.52124            0.655969  \n",
       "\n",
       "[2 rows x 30 columns]"
      ]
     },
     "execution_count": 90,
     "metadata": {},
     "output_type": "execute_result"
    }
   ],
   "source": [
    "df = df.drop(df.columns[4:index_col_sup], axis=1)\n",
    "df.head(2)"
   ]
  },
  {
   "cell_type": "code",
   "execution_count": 91,
   "id": "6d073d39-20ce-479f-98d8-1011411021aa",
   "metadata": {},
   "outputs": [
    {
     "data": {
      "text/plain": [
       "dep                                  0\n",
       "nomdep                            1943\n",
       "codecommune                          0\n",
       "nomcommune                         191\n",
       "BFL_baseimpotslocauxratio20       2212\n",
       "BFL_recetteimpotslocauxratio20    2195\n",
       "BFL_tauximpotslocauxratio20       2214\n",
       "BFL_baseimpotslocauxtot20         2207\n",
       "BFL_recetteimpotslocauxtot20      2190\n",
       "BFL_tauximpotslocaux20            2214\n",
       "BFL_recettetot20                  2521\n",
       "BFL_baseimpotslocaux20            2212\n",
       "BFL_recetteimpotslocaux20         2195\n",
       "BFL_recettefoncieretot20          2157\n",
       "BFL_recettehabitationtot20        2008\n",
       "BFL_recettefonciere20             2162\n",
       "BFL_recettehabitation20           2018\n",
       "BFL_recettefonciereratio20        2162\n",
       "BFL_recettehabitationratio20      2018\n",
       "BFL_basehabitationratio20         2020\n",
       "BFL_basefonciereratio20           2178\n",
       "BFL_tauxhabitationratio20         2022\n",
       "BFL_tauxfoncierratio20            2180\n",
       "BFL_basehabitationtot20           2010\n",
       "BFL_basefoncieretot20             2173\n",
       "BFL_tauxhabitation20              2022\n",
       "BFL_tauxfoncier20                 2180\n",
       "BFL_basehabitation20              2020\n",
       "BFL_basefonciere20                2178\n",
       "BFL_recetteratio20                1872\n",
       "dtype: int64"
      ]
     },
     "execution_count": 91,
     "metadata": {},
     "output_type": "execute_result"
    }
   ],
   "source": [
    "df.isna().sum()"
   ]
  },
  {
   "cell_type": "code",
   "execution_count": 92,
   "id": "bf4dbf68-293f-4d30-a97b-f1bc6d520baf",
   "metadata": {},
   "outputs": [
    {
     "data": {
      "text/plain": [
       "(36779, 30)"
      ]
     },
     "execution_count": 92,
     "metadata": {},
     "output_type": "execute_result"
    }
   ],
   "source": [
    "df.shape"
   ]
  },
  {
   "cell_type": "code",
   "execution_count": 93,
   "id": "be422efa-9b21-4061-a57f-d9251c54f90e",
   "metadata": {},
   "outputs": [
    {
     "data": {
      "text/plain": [
       "(36779, 36779)"
      ]
     },
     "execution_count": 93,
     "metadata": {},
     "output_type": "execute_result"
    }
   ],
   "source": [
    "df['codecommune'].nunique(),len(df)"
   ]
  },
  {
   "cell_type": "markdown",
   "id": "fbfee32e-517c-43a1-b4a8-256c3c6cdeac",
   "metadata": {},
   "source": [
    "## <a name=\"TRANSCO\"></a>Partie 3 : Filtres et/ou calculs&nbsp;&nbsp;&nbsp;&nbsp;&nbsp;<a href=\"#TOP\">&uarr;</a>"
   ]
  },
  {
   "cell_type": "code",
   "execution_count": 94,
   "id": "03039577-4fa4-4435-b16e-f34e14e9db9f",
   "metadata": {},
   "outputs": [
    {
     "data": {
      "text/plain": [
       "((33784, 30), (36779, 30))"
      ]
     },
     "execution_count": 94,
     "metadata": {},
     "output_type": "execute_result"
    }
   ],
   "source": [
    "df_filtered = df[df['codecommune'].isin(lines)]\n",
    "df_filtered.shape,df.shape"
   ]
  },
  {
   "cell_type": "code",
   "execution_count": 95,
   "id": "725e8504-c42f-4817-a33d-7531ac607c87",
   "metadata": {},
   "outputs": [
    {
     "data": {
      "text/plain": [
       "('01002', 33784)"
      ]
     },
     "execution_count": 95,
     "metadata": {},
     "output_type": "execute_result"
    }
   ],
   "source": [
    "codecommune_listdf_filtered= df_filtered['codecommune'].tolist()\n",
    "codecommune_listdf_filtered[1], len(codecommune_listdf_filtered)"
   ]
  },
  {
   "cell_type": "code",
   "execution_count": 96,
   "id": "d961e81b-2143-4343-b848-2d7effed3f5b",
   "metadata": {},
   "outputs": [
    {
     "data": {
      "text/plain": [
       "46"
      ]
     },
     "execution_count": 96,
     "metadata": {},
     "output_type": "execute_result"
    }
   ],
   "source": [
    "absent = [x for x in lines if x not in codecommune_listdf_filtered]\n",
    "len (absent)"
   ]
  },
  {
   "cell_type": "code",
   "execution_count": 97,
   "id": "ecf530ad-3eec-47dd-9932-a0d70ee4f8a7",
   "metadata": {},
   "outputs": [
    {
     "data": {
      "text/plain": [
       "['13201',\n",
       " '13202',\n",
       " '13203',\n",
       " '13204',\n",
       " '13205',\n",
       " '13206',\n",
       " '13207',\n",
       " '13208',\n",
       " '13209',\n",
       " '13210',\n",
       " '13211',\n",
       " '13212',\n",
       " '13213',\n",
       " '13214',\n",
       " '13215',\n",
       " '13216',\n",
       " '69380',\n",
       " '69381',\n",
       " '69382',\n",
       " '69383',\n",
       " '69384',\n",
       " '69385',\n",
       " '69386',\n",
       " '69387',\n",
       " '69388',\n",
       " '69389',\n",
       " '75101',\n",
       " '75102',\n",
       " '75103',\n",
       " '75104',\n",
       " '75105',\n",
       " '75106',\n",
       " '75107',\n",
       " '75108',\n",
       " '75109',\n",
       " '75110',\n",
       " '75111',\n",
       " '75112',\n",
       " '75113',\n",
       " '75114',\n",
       " '75115',\n",
       " '75116',\n",
       " '75117',\n",
       " '75118',\n",
       " '75119',\n",
       " '75120']"
      ]
     },
     "execution_count": 97,
     "metadata": {},
     "output_type": "execute_result"
    }
   ],
   "source": [
    "absent"
   ]
  },
  {
   "cell_type": "markdown",
   "id": "6c13f2c4-ae3c-498f-b8cc-44786dc480cf",
   "metadata": {},
   "source": [
    "Toujours les memes 27 communes qui posent pb !!!\n",
    "\n",
    "['13201', '13202','13203','13204','13205','13206','13207', '13208', '13209', '13210', '13211', '13212', '13213', '13214', '13215', '13216', '69281', '69282', '69283', '69284', '69285',\n",
    " '69286', '69287', '69288', '69289', '69380', '75056']\n",
    "\n"
   ]
  },
  {
   "cell_type": "code",
   "execution_count": 98,
   "id": "bee5655c-c806-4604-9982-5d567a24b7a1",
   "metadata": {},
   "outputs": [],
   "source": [
    "df_filtered['DBL_bug'] = 0"
   ]
  },
  {
   "cell_type": "code",
   "execution_count": 99,
   "id": "faf7578c-aa34-4f8b-a025-7b385c20a2b0",
   "metadata": {},
   "outputs": [
    {
     "data": {
      "text/html": [
       "<div>\n",
       "<style scoped>\n",
       "    .dataframe tbody tr th:only-of-type {\n",
       "        vertical-align: middle;\n",
       "    }\n",
       "\n",
       "    .dataframe tbody tr th {\n",
       "        vertical-align: top;\n",
       "    }\n",
       "\n",
       "    .dataframe thead th {\n",
       "        text-align: right;\n",
       "    }\n",
       "</style>\n",
       "<table border=\"1\" class=\"dataframe\">\n",
       "  <thead>\n",
       "    <tr style=\"text-align: right;\">\n",
       "      <th></th>\n",
       "      <th>dep</th>\n",
       "      <th>nomdep</th>\n",
       "      <th>codecommune</th>\n",
       "      <th>nomcommune</th>\n",
       "      <th>BFL_baseimpotslocauxratio20</th>\n",
       "      <th>BFL_recetteimpotslocauxratio20</th>\n",
       "      <th>BFL_tauximpotslocauxratio20</th>\n",
       "      <th>BFL_baseimpotslocauxtot20</th>\n",
       "      <th>BFL_recetteimpotslocauxtot20</th>\n",
       "      <th>BFL_tauximpotslocaux20</th>\n",
       "      <th>...</th>\n",
       "      <th>BFL_tauxhabitationratio20</th>\n",
       "      <th>BFL_tauxfoncierratio20</th>\n",
       "      <th>BFL_basehabitationtot20</th>\n",
       "      <th>BFL_basefoncieretot20</th>\n",
       "      <th>BFL_tauxhabitation20</th>\n",
       "      <th>BFL_tauxfoncier20</th>\n",
       "      <th>BFL_basehabitation20</th>\n",
       "      <th>BFL_basefonciere20</th>\n",
       "      <th>BFL_recetteratio20</th>\n",
       "      <th>DBL_bug</th>\n",
       "    </tr>\n",
       "  </thead>\n",
       "  <tbody>\n",
       "    <tr>\n",
       "      <th>1</th>\n",
       "      <td>01</td>\n",
       "      <td>AIN</td>\n",
       "      <td>01001</td>\n",
       "      <td>ABERGEMENT-CLÉMENCIAT</td>\n",
       "      <td>0.672242</td>\n",
       "      <td>0.446424</td>\n",
       "      <td>0.664083</td>\n",
       "      <td>1519407.0</td>\n",
       "      <td>185746.0</td>\n",
       "      <td>0.122249</td>\n",
       "      <td>...</td>\n",
       "      <td>0.665458</td>\n",
       "      <td>0.69406</td>\n",
       "      <td>921783.0</td>\n",
       "      <td>597624.0</td>\n",
       "      <td>0.110602</td>\n",
       "      <td>0.140214</td>\n",
       "      <td>1180.2599</td>\n",
       "      <td>765.20361</td>\n",
       "      <td>1.036774</td>\n",
       "      <td>0</td>\n",
       "    </tr>\n",
       "  </tbody>\n",
       "</table>\n",
       "<p>1 rows × 31 columns</p>\n",
       "</div>"
      ],
      "text/plain": [
       "  dep nomdep codecommune             nomcommune  BFL_baseimpotslocauxratio20  \\\n",
       "1  01    AIN       01001  ABERGEMENT-CLÉMENCIAT                     0.672242   \n",
       "\n",
       "   BFL_recetteimpotslocauxratio20  BFL_tauximpotslocauxratio20  \\\n",
       "1                        0.446424                     0.664083   \n",
       "\n",
       "   BFL_baseimpotslocauxtot20  BFL_recetteimpotslocauxtot20  \\\n",
       "1                  1519407.0                      185746.0   \n",
       "\n",
       "   BFL_tauximpotslocaux20  ...  BFL_tauxhabitationratio20  \\\n",
       "1                0.122249  ...                   0.665458   \n",
       "\n",
       "   BFL_tauxfoncierratio20  BFL_basehabitationtot20  BFL_basefoncieretot20  \\\n",
       "1                 0.69406                 921783.0               597624.0   \n",
       "\n",
       "   BFL_tauxhabitation20  BFL_tauxfoncier20  BFL_basehabitation20  \\\n",
       "1              0.110602           0.140214             1180.2599   \n",
       "\n",
       "   BFL_basefonciere20  BFL_recetteratio20  DBL_bug  \n",
       "1           765.20361            1.036774        0  \n",
       "\n",
       "[1 rows x 31 columns]"
      ]
     },
     "execution_count": 99,
     "metadata": {},
     "output_type": "execute_result"
    }
   ],
   "source": [
    "df_filtered.head(1)"
   ]
  },
  {
   "cell_type": "code",
   "execution_count": 27,
   "id": "ec0119b1-ca98-4677-bf3a-88fa700e0df5",
   "metadata": {},
   "outputs": [
    {
     "data": {
      "text/plain": [
       "45"
      ]
     },
     "execution_count": 27,
     "metadata": {},
     "output_type": "execute_result"
    }
   ],
   "source": [
    "new_row = ['*', '*', 'code', '*'] + [np.nan] * 40 +[1]\n",
    "len (new_row)"
   ]
  },
  {
   "cell_type": "code",
   "execution_count": 28,
   "id": "d63b1627-19a6-46f4-9037-192f5782b442",
   "metadata": {},
   "outputs": [
    {
     "data": {
      "text/plain": [
       "45"
      ]
     },
     "execution_count": 28,
     "metadata": {},
     "output_type": "execute_result"
    }
   ],
   "source": [
    "len(df_filtered.columns)"
   ]
  },
  {
   "cell_type": "code",
   "execution_count": 101,
   "id": "7f6301ca-9ce6-4da8-93bf-81fcf7962004",
   "metadata": {},
   "outputs": [
    {
     "data": {
      "text/plain": [
       "(33830, 31)"
      ]
     },
     "execution_count": 101,
     "metadata": {},
     "output_type": "execute_result"
    }
   ],
   "source": [
    "for i,code in enumerate(absent) :\n",
    "    new_row = ['*', '*', code, '*'] + [np.nan] * 26 + [1]\n",
    "    row_df = pd.DataFrame([new_row], columns=df_filtered.columns)\n",
    "    df_filtered = pd.concat([df_filtered, row_df], ignore_index=True)\n",
    "df_filtered.shape"
   ]
  },
  {
   "cell_type": "markdown",
   "id": "352451f1-99da-4ac0-a95a-8deb6ac94389",
   "metadata": {},
   "source": [
    "## <a name=\"EXPORT\"></a>Partie 4 : EXPORT&nbsp;&nbsp;&nbsp;&nbsp;&nbsp;<a href=\"#TOP\">&uarr;</a>\n",
    "\n"
   ]
  },
  {
   "cell_type": "code",
   "execution_count": 102,
   "id": "01e85959-eaab-4e7a-8dc5-55ffcac8bf0a",
   "metadata": {},
   "outputs": [],
   "source": [
    "path_export='../DATA/EXPORT_CSV/final_BFL_basesfiscalescommunes.csv'"
   ]
  },
  {
   "cell_type": "code",
   "execution_count": 103,
   "id": "2f9fa22a-3237-4131-9fae-b4604341807f",
   "metadata": {},
   "outputs": [
    {
     "name": "stdout",
     "output_type": "stream",
     "text": [
      "DataFrame exported to: ../DATA/EXPORT_CSV/final_BFL_basesfiscalescommunes.csv\n"
     ]
    }
   ],
   "source": [
    "df_filtered.to_csv(path_export, sep=';', index=False)\n",
    "print(f'DataFrame exported to: {path_export}')"
   ]
  },
  {
   "cell_type": "code",
   "execution_count": null,
   "id": "d7c7efd6-a789-4a43-85dc-94c4dc7ec3a7",
   "metadata": {},
   "outputs": [],
   "source": []
  }
 ],
 "metadata": {
  "kernelspec": {
   "display_name": "Python 3 (ipykernel)",
   "language": "python",
   "name": "python3"
  },
  "language_info": {
   "codemirror_mode": {
    "name": "ipython",
    "version": 3
   },
   "file_extension": ".py",
   "mimetype": "text/x-python",
   "name": "python",
   "nbconvert_exporter": "python",
   "pygments_lexer": "ipython3",
   "version": "3.10.12"
  }
 },
 "nbformat": 4,
 "nbformat_minor": 5
}
