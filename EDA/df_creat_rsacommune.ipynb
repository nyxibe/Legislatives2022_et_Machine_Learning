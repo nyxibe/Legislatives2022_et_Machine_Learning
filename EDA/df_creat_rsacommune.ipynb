{
 "cells": [
  {
   "cell_type": "markdown",
   "id": "ea3e4cdc-4ad0-480e-8a5e-0e4e4dee9ac3",
   "metadata": {},
   "source": [
    "## <center>  Model Creat Dataframe to EXPORT from CSV<br/></center>\n",
    "<a name=\"TOP\">dev :\n",
    "    Fichier CSV :  xxxxxxx.csv</a>\n",
    "    \n",
    "# Description Fichiers :\n",
    "\n",
    "# Synthese des Actions :\n",
    "\n",
    "  \n",
    "**<u>MENU</u>** \n",
    "- <a href=\"#EDA\">P0 : Mini EDA</a>\n",
    "- <a href=\"#Import\">P1 : Import CSV</a>\n",
    "- <a href=\"#Nan\">P1 : Traitement des Nan</a>\n",
    "- <a href=\"#Nan\">P2 : Filtres et calculs</a>\n",
    "- <a href=\"#Nan\">P3 : EXPORT (/DATA/EXPORT_CSV/final_xxxxxxx.csv)</a>"
   ]
  },
  {
   "cell_type": "code",
   "execution_count": 1,
   "id": "fa89b09c-9546-4c44-8d26-4b5e2964667a",
   "metadata": {},
   "outputs": [
    {
     "name": "stderr",
     "output_type": "stream",
     "text": [
      "/tmp/ipykernel_3388/2162656668.py:1: DeprecationWarning: \n",
      "Pyarrow will become a required dependency of pandas in the next major release of pandas (pandas 3.0),\n",
      "(to allow more performant data types, such as the Arrow string type, and better interoperability with other libraries)\n",
      "but was not found to be installed on your system.\n",
      "If this would cause problems for you,\n",
      "please provide us feedback at https://github.com/pandas-dev/pandas/issues/54466\n",
      "        \n",
      "  import pandas as pd\n"
     ]
    }
   ],
   "source": [
    "import pandas as pd\n",
    "import numpy as np"
   ]
  },
  {
   "cell_type": "markdown",
   "id": "0ace3e62-c0be-4b2f-8c07-37064f44451f",
   "metadata": {},
   "source": [
    "## <a name=\"EDA\"></a>Partie 0 : Mini EDA &nbsp;&nbsp;&nbsp;&nbsp;&nbsp;<a href=\"#TOP\">&uarr;</a>"
   ]
  },
  {
   "cell_type": "markdown",
   "id": "f473b493",
   "metadata": {},
   "source": [
    "dep: Code du département.\n",
    "\n",
    "nomdep: Nom du département.\n",
    "\n",
    "nomcommune: Nom de la commune.\n",
    "\n",
    "paris: Indicateur si la commune fait partie de Paris.\n",
    "\n",
    "nrsa2017, nrsa2018, nrsa2019, nrsa2020, nrsa2021: Nombre de bénéficiaires du RSA pour les années 2017 à 2021.\n",
    "\n",
    "nfoyerrsa2017, nfoyerrsa2018, nfoyerrsa2019, nfoyerrsa2020, nfoyerrsa2021: Nombre de foyers bénéficiaires du RSA pour les années 2017 à 2021.\n",
    "\n",
    "prsa2017, prsa2018, prsa2019, prsa2020, prsa2021: Prestations RSA pour les années 2017 à 2021.\n",
    "\n",
    "perrsa2017, perrsa2018, perrsa2019, perrsa2020, perrsa2021: Prestations RSA par foyer pour les années 2017 à 2021.\n",
    "\n",
    "pop2017, pop2018, pop2019, pop2020, pop2021: Population totale de la commune pour les années 2017 à 2021."
   ]
  },
  {
   "cell_type": "markdown",
   "id": "a972d34f-9fca-4224-ac82-f7ea26394836",
   "metadata": {},
   "source": [
    "## <a name=\"Import\"></a>Partie 1 : Import CSV&nbsp;&nbsp;&nbsp;&nbsp;&nbsp;<a href=\"#TOP\">&uarr;</a>"
   ]
  },
  {
   "cell_type": "code",
   "execution_count": 2,
   "id": "e2924448-8c43-4e2e-9ff4-a6aff4754e33",
   "metadata": {},
   "outputs": [
    {
     "data": {
      "text/plain": [
       "(34487, 30)"
      ]
     },
     "execution_count": 2,
     "metadata": {},
     "output_type": "execute_result"
    }
   ],
   "source": [
    "df = pd.read_csv('rsacommunes.csv')\n",
    "df.shape"
   ]
  },
  {
   "cell_type": "code",
   "execution_count": 3,
   "id": "2f9fa22a-3237-4131-9fae-b4604341807f",
   "metadata": {},
   "outputs": [
    {
     "data": {
      "text/plain": [
       "Index(['dep', 'nomdep', 'codecommune', 'nomcommune', 'paris', 'nrsa2017',\n",
       "       'nrsa2018', 'nrsa2019', 'nrsa2020', 'nrsa2021', 'nfoyerrsa2017',\n",
       "       'nfoyerrsa2018', 'nfoyerrsa2019', 'nfoyerrsa2020', 'nfoyerrsa2021',\n",
       "       'prsa2017', 'prsa2018', 'prsa2019', 'prsa2020', 'prsa2021',\n",
       "       'perrsa2017', 'perrsa2018', 'perrsa2019', 'perrsa2020', 'perrsa2021',\n",
       "       'pop2017', 'pop2018', 'pop2019', 'pop2020', 'pop2021'],\n",
       "      dtype='object')"
      ]
     },
     "execution_count": 3,
     "metadata": {},
     "output_type": "execute_result"
    }
   ],
   "source": [
    "df.columns"
   ]
  },
  {
   "cell_type": "markdown",
   "id": "949161b6",
   "metadata": {},
   "source": [
    "## <a name=\"Import\"></a>Partie 2 : Renommer &nbsp;&nbsp;&nbsp;&nbsp;&nbsp;<a href=\"#TOP\">&uarr;</a>"
   ]
  },
  {
   "cell_type": "code",
   "execution_count": 4,
   "id": "5b27958f",
   "metadata": {},
   "outputs": [],
   "source": [
    "df['RSA_nrsa2017'] = df.nrsa2017\n",
    "df['RSA_nrsa2021'] = df.nrsa2021\n",
    "df['RSA_prsa2017'] = df.prsa2017\n",
    "df['RSA_prsa2021'] = df.prsa2021"
   ]
  },
  {
   "cell_type": "code",
   "execution_count": 5,
   "id": "b0226c3e",
   "metadata": {},
   "outputs": [],
   "source": [
    "df['codecommune'] = df['codecommune'].astype(str).str.zfill(5)"
   ]
  },
  {
   "cell_type": "code",
   "execution_count": 6,
   "id": "9a473173",
   "metadata": {},
   "outputs": [
    {
     "name": "stdout",
     "output_type": "stream",
     "text": [
      "<class 'pandas.core.frame.DataFrame'>\n",
      "RangeIndex: 34487 entries, 0 to 34486\n",
      "Data columns (total 34 columns):\n",
      " #   Column         Non-Null Count  Dtype  \n",
      "---  ------         --------------  -----  \n",
      " 0   dep            34487 non-null  int64  \n",
      " 1   nomdep         34487 non-null  object \n",
      " 2   codecommune    34487 non-null  object \n",
      " 3   nomcommune     34487 non-null  object \n",
      " 4   paris          34487 non-null  int64  \n",
      " 5   nrsa2017       34487 non-null  int64  \n",
      " 6   nrsa2018       34487 non-null  int64  \n",
      " 7   nrsa2019       34487 non-null  int64  \n",
      " 8   nrsa2020       34487 non-null  int64  \n",
      " 9   nrsa2021       34487 non-null  int64  \n",
      " 10  nfoyerrsa2017  34487 non-null  int64  \n",
      " 11  nfoyerrsa2018  34487 non-null  int64  \n",
      " 12  nfoyerrsa2019  34487 non-null  int64  \n",
      " 13  nfoyerrsa2020  34487 non-null  int64  \n",
      " 14  nfoyerrsa2021  34487 non-null  int64  \n",
      " 15  prsa2017       34487 non-null  float64\n",
      " 16  prsa2018       34487 non-null  float64\n",
      " 17  prsa2019       34487 non-null  float64\n",
      " 18  prsa2020       34487 non-null  float64\n",
      " 19  prsa2021       34487 non-null  float64\n",
      " 20  perrsa2017     34487 non-null  float64\n",
      " 21  perrsa2018     34487 non-null  float64\n",
      " 22  perrsa2019     34487 non-null  float64\n",
      " 23  perrsa2020     34487 non-null  float64\n",
      " 24  perrsa2021     34487 non-null  float64\n",
      " 25  pop2017        34487 non-null  int64  \n",
      " 26  pop2018        34487 non-null  int64  \n",
      " 27  pop2019        34487 non-null  int64  \n",
      " 28  pop2020        34487 non-null  int64  \n",
      " 29  pop2021        34487 non-null  int64  \n",
      " 30  RSA_nrsa2017   34487 non-null  int64  \n",
      " 31  RSA_nrsa2021   34487 non-null  int64  \n",
      " 32  RSA_prsa2017   34487 non-null  float64\n",
      " 33  RSA_prsa2021   34487 non-null  float64\n",
      "dtypes: float64(12), int64(19), object(3)\n",
      "memory usage: 8.9+ MB\n"
     ]
    }
   ],
   "source": [
    "df.info()"
   ]
  },
  {
   "cell_type": "code",
   "execution_count": 7,
   "id": "9b789db4",
   "metadata": {},
   "outputs": [
    {
     "name": "stdout",
     "output_type": "stream",
     "text": [
      "['01001', '01002', '01004', '01005', '01006', '01007', '01008', '01009', '01010', '01011'] 33830\n"
     ]
    }
   ],
   "source": [
    "file_path = '/home/claire/code/caicaire93/projet-artefact/HistoPolitik_2/DATA/list_codecommune_leg2022_50inscrits.txt'\n",
    "with open(file_path, 'r', encoding='utf-8') as file:\n",
    "    lines = [line.strip() for line in file.readlines()]\n",
    "\n",
    "print(lines[0:10], len(lines))"
   ]
  },
  {
   "cell_type": "code",
   "execution_count": 8,
   "id": "61637caa",
   "metadata": {},
   "outputs": [],
   "source": [
    "codecommune_listdf = df['codecommune'].tolist()"
   ]
  },
  {
   "cell_type": "code",
   "execution_count": 9,
   "id": "58707d9e",
   "metadata": {},
   "outputs": [
    {
     "data": {
      "text/plain": [
       "367"
      ]
     },
     "execution_count": 9,
     "metadata": {},
     "output_type": "execute_result"
    }
   ],
   "source": [
    "absent = [x for x in lines if x not in codecommune_listdf]\n",
    "len (absent)"
   ]
  },
  {
   "cell_type": "code",
   "execution_count": 10,
   "id": "c91ab17f",
   "metadata": {},
   "outputs": [],
   "source": [
    "df_filtered = df[df['codecommune'].isin(lines)]"
   ]
  },
  {
   "cell_type": "code",
   "execution_count": 11,
   "id": "d7ba8a63",
   "metadata": {},
   "outputs": [
    {
     "data": {
      "text/plain": [
       "(33463, 34)"
      ]
     },
     "execution_count": 11,
     "metadata": {},
     "output_type": "execute_result"
    }
   ],
   "source": [
    "df_filtered.shape"
   ]
  },
  {
   "cell_type": "code",
   "execution_count": 12,
   "id": "77a29b19",
   "metadata": {},
   "outputs": [],
   "source": [
    "df_final = df_filtered[['dep','nomdep','codecommune','nomcommune','RSA_nrsa2017','RSA_nrsa2021','RSA_prsa2017','RSA_prsa2021']]"
   ]
  },
  {
   "cell_type": "code",
   "execution_count": 13,
   "id": "fed937da",
   "metadata": {},
   "outputs": [
    {
     "data": {
      "text/plain": [
       "dep             0\n",
       "nomdep          0\n",
       "codecommune     0\n",
       "nomcommune      0\n",
       "RSA_nrsa2017    0\n",
       "RSA_nrsa2021    0\n",
       "RSA_prsa2017    0\n",
       "RSA_prsa2021    0\n",
       "dtype: int64"
      ]
     },
     "execution_count": 13,
     "metadata": {},
     "output_type": "execute_result"
    }
   ],
   "source": [
    "df_final.isna().sum()"
   ]
  },
  {
   "cell_type": "code",
   "execution_count": 14,
   "id": "afa0ca2a",
   "metadata": {},
   "outputs": [
    {
     "name": "stderr",
     "output_type": "stream",
     "text": [
      "/tmp/ipykernel_3388/2311359370.py:1: SettingWithCopyWarning: \n",
      "A value is trying to be set on a copy of a slice from a DataFrame.\n",
      "Try using .loc[row_indexer,col_indexer] = value instead\n",
      "\n",
      "See the caveats in the documentation: https://pandas.pydata.org/pandas-docs/stable/user_guide/indexing.html#returning-a-view-versus-a-copy\n",
      "  df_final['DBL_bug'] = 0\n"
     ]
    },
    {
     "data": {
      "text/plain": [
       "(33463, 9)"
      ]
     },
     "execution_count": 14,
     "metadata": {},
     "output_type": "execute_result"
    }
   ],
   "source": [
    "df_final['DBL_bug'] = 0\n",
    "df_final.shape"
   ]
  },
  {
   "cell_type": "code",
   "execution_count": 15,
   "id": "c8378a1d",
   "metadata": {},
   "outputs": [
    {
     "data": {
      "text/plain": [
       "9"
      ]
     },
     "execution_count": 15,
     "metadata": {},
     "output_type": "execute_result"
    }
   ],
   "source": [
    "new_row = ['*', '*', 'code', '*'] + [np.nan] * 4 +[1]\n",
    "len (new_row)"
   ]
  },
  {
   "cell_type": "code",
   "execution_count": 16,
   "id": "38c5439e",
   "metadata": {},
   "outputs": [
    {
     "data": {
      "text/plain": [
       "(33830, 9)"
      ]
     },
     "execution_count": 16,
     "metadata": {},
     "output_type": "execute_result"
    }
   ],
   "source": [
    "for i,code in enumerate(absent) :\n",
    "    new_row = ['*', '*', code, '*'] + [np.nan] * 4 + [1]\n",
    "    row_df = pd.DataFrame([new_row], columns=df_final.columns)\n",
    "    df_final = pd.concat([df_final, row_df], ignore_index=True)\n",
    "df_final.shape"
   ]
  },
  {
   "cell_type": "markdown",
   "id": "5314cb82",
   "metadata": {},
   "source": [
    "## <a name=\"Import\"></a>Partie 3 : Export CSV&nbsp;&nbsp;&nbsp;&nbsp;&nbsp;<a href=\"#TOP\">&uarr;</a>"
   ]
  },
  {
   "cell_type": "code",
   "execution_count": 17,
   "id": "9a71f8f1",
   "metadata": {},
   "outputs": [],
   "source": [
    "df_final.to_csv('/home/claire/code/caicaire93/projet-artefact/HistoPolitik_2/DATA/EXPORT_CSV/final_RSA_rsacommunes.csv', sep=';', index=False)"
   ]
  }
 ],
 "metadata": {
  "kernelspec": {
   "display_name": "Python 3 (ipykernel)",
   "language": "python",
   "name": "python3"
  },
  "language_info": {
   "codemirror_mode": {
    "name": "ipython",
    "version": 3
   },
   "file_extension": ".py",
   "mimetype": "text/x-python",
   "name": "python",
   "nbconvert_exporter": "python",
   "pygments_lexer": "ipython3",
   "version": "3.10.4"
  }
 },
 "nbformat": 4,
 "nbformat_minor": 5
}
