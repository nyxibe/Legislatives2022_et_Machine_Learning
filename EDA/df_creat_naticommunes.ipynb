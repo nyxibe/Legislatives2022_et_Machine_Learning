{
 "cells": [
  {
   "cell_type": "markdown",
   "id": "ea3e4cdc-4ad0-480e-8a5e-0e4e4dee9ac3",
   "metadata": {},
   "source": [
    "# <center>  Model Creat Dataframe naticommunes [NAT]<br/></center>\n",
    "<a name=\"TOP\"></a>\n",
    "- dev : nyx\n",
    "- Fichier CSV : Nationalites_csv/Nationalites_csv/naticommunes.csv\n",
    "\n",
    "ALERTES 98 lignes à Nan \n",
    "Faire les plus proches voisins apres FUSION ?\n",
    "    \n",
    "# Description Fichiers : \n",
    "Nationalites communes 2022\n",
    "avec pour chaque année :\n",
    "    4 capital immo\n",
    "    5 prix du bien\n",
    "\n",
    "# Synthese des Actions :\n",
    "Plus de 1000 communes non renseignees flag 1 pour BL_bug\n",
    "creation de lignes avec que des 0\n",
    "  \n",
    "**<u>MENU</u>** \n",
    "- <a href=\"#Import\">P0 : Import CSV</a>\n",
    "- <a href=\"#EDA\">P1 : Mini EDA</a>\n",
    "- <a href=\"#Nan\">P2 : Traitement des Nan</a>\n",
    "- <a href=\"#TRANSCO\">P3 : Filtres et/ou calculs</a>\n",
    "- <a href=\"#EXPORT\">P4 : EXPORT (/DATA/EXPORT_CSV/final_xxxxxxx.csv)</a>\n",
    "\n",
    "\n",
    "\n"
   ]
  },
  {
   "cell_type": "markdown",
   "id": "ca339594-e0cb-478d-b4fb-3e1af6de883d",
   "metadata": {},
   "source": [
    "PREFIXE FICHIER : KP1\n",
    "Structure :\n",
    "\n",
    "    0 dep\n",
    "    1 nomdep\n",
    "    2 codecommune\n",
    "    3 nomcommune\n",
    "    4 KP1_capitalimmo22\n",
    "    5 KP1_prixbien22\n",
    "    6 KP1_capitalimmo12\n",
    "    7 KP1_prixbien12\n",
    "    8 KP1_capitalimmo02\n",
    "    9 KP1_prixbien02\n",
    "    10 KP1_capitalimmo92\n",
    "    11 KP1_prixbien92\n",
    "    12 DBL_bug (flag à 1 poour les lignes ajoutées avec des Nan A TRAITER)\n",
    "\n",
    "\n"
   ]
  },
  {
   "cell_type": "code",
   "execution_count": 3,
   "id": "95d983a2-4b3e-4b94-855b-bf6d33d4ba75",
   "metadata": {},
   "outputs": [],
   "source": [
    "import warnings\n",
    "warnings.filterwarnings(\"ignore\")\n",
    "\n",
    "import os\n",
    "import zipfile\n",
    "import pandas as pd\n",
    "import numpy as np\n",
    "\n",
    "import seaborn as sns\n",
    "import matplotlib.pyplot as plt"
   ]
  },
  {
   "cell_type": "markdown",
   "id": "baa4ba11-c303-401b-b654-f6d5a2f6b7b4",
   "metadata": {},
   "source": [
    "## <a name=\"Import\"></a>Partie 0 : Import CSV&nbsp;&nbsp;&nbsp;&nbsp;&nbsp; <a href=\"#TOP\">&uarr;</a>\n",
    "Import lines = list_codecommune_leg2022_50inscrits.txt"
   ]
  },
  {
   "cell_type": "code",
   "execution_count": 4,
   "id": "64bd9ee9-428d-4c50-8304-e1a2635a352b",
   "metadata": {},
   "outputs": [],
   "source": [
    "def df_creat(filename, df_dataframe):  \n",
    "    df = df_dataframe[df_dataframe['filename'] == filename]\n",
    "    if len(df) == 1:\n",
    "        row = df.iloc[0]\n",
    "        file = row['path']\n",
    "        if os.path.exists(file):\n",
    "            print(file)\n",
    "            df_from_csv = pd.read_csv(file, encoding='utf-8', low_memory=False)\n",
    "            return df_from_csv\n",
    "        else:\n",
    "            print('FICHIER NON TROUVE', file)\n",
    "            return pd.DataFrame()\n",
    "    else:\n",
    "        print(f\"filename: '{filename}' return size: {len(df)}\")\n",
    "        return pd.DataFrame()"
   ]
  },
  {
   "cell_type": "code",
   "execution_count": 5,
   "id": "4b858715-3881-4cae-b6f1-59d3e10d9276",
   "metadata": {},
   "outputs": [],
   "source": [
    "csv_file_path = 'df_filtred.csv'\n",
    "# Use pandas to read the CSV file into a DataFrame with UTF-8 encoding\n",
    "df_cat = pd.read_csv(csv_file_path, encoding='utf-8')"
   ]
  },
  {
   "cell_type": "code",
   "execution_count": 6,
   "id": "677ef87c-1d20-4ea9-b483-24fcc6557f7d",
   "metadata": {},
   "outputs": [
    {
     "data": {
      "text/html": [
       "<div>\n",
       "<style scoped>\n",
       "    .dataframe tbody tr th:only-of-type {\n",
       "        vertical-align: middle;\n",
       "    }\n",
       "\n",
       "    .dataframe tbody tr th {\n",
       "        vertical-align: top;\n",
       "    }\n",
       "\n",
       "    .dataframe thead th {\n",
       "        text-align: right;\n",
       "    }\n",
       "</style>\n",
       "<table border=\"1\" class=\"dataframe\">\n",
       "  <thead>\n",
       "    <tr style=\"text-align: right;\">\n",
       "      <th></th>\n",
       "      <th>category</th>\n",
       "      <th>filename</th>\n",
       "      <th>comment</th>\n",
       "      <th>size</th>\n",
       "      <th>depart</th>\n",
       "      <th>district</th>\n",
       "      <th>commune</th>\n",
       "      <th>canton</th>\n",
       "      <th>yyyy</th>\n",
       "      <th>path</th>\n",
       "      <th>codecommune</th>\n",
       "    </tr>\n",
       "  </thead>\n",
       "  <tbody>\n",
       "    <tr>\n",
       "      <th>0</th>\n",
       "      <td>Taille_agglo_commune_csv</td>\n",
       "      <td>codescommunes1999</td>\n",
       "      <td>codes</td>\n",
       "      <td>0</td>\n",
       "      <td>0</td>\n",
       "      <td>0</td>\n",
       "      <td>1</td>\n",
       "      <td>0</td>\n",
       "      <td>1999</td>\n",
       "      <td>../../ProjetCommun/DATA_SOURCES/HCP/Taille_agg...</td>\n",
       "      <td>1</td>\n",
       "    </tr>\n",
       "  </tbody>\n",
       "</table>\n",
       "</div>"
      ],
      "text/plain": [
       "                   category           filename comment  size  depart  \\\n",
       "0  Taille_agglo_commune_csv  codescommunes1999   codes     0       0   \n",
       "\n",
       "   district  commune  canton  yyyy  \\\n",
       "0         0        1       0  1999   \n",
       "\n",
       "                                                path  codecommune  \n",
       "0  ../../ProjetCommun/DATA_SOURCES/HCP/Taille_agg...            1  "
      ]
     },
     "execution_count": 6,
     "metadata": {},
     "output_type": "execute_result"
    }
   ],
   "source": [
    "df_cat.head(1)"
   ]
  },
  {
   "cell_type": "code",
   "execution_count": 7,
   "id": "b10e5d8d-7d23-4e95-92ad-fef4c8848dbe",
   "metadata": {},
   "outputs": [
    {
     "name": "stdout",
     "output_type": "stream",
     "text": [
      "['01001', '01002', '01004', '01005', '01006', '01007', '01008', '01009', '01010', '01011'] 33830\n"
     ]
    }
   ],
   "source": [
    "file_path = '../DATA/list_codecommune_leg2022_50inscrits.txt'\n",
    "\n",
    "# Open the text file and read lines into a list\n",
    "with open(file_path, 'r', encoding='utf-8') as file:\n",
    "    lines = [line.strip() for line in file.readlines()]\n",
    "\n",
    "# Print or manipulate the list of lines as needed\n",
    "print(lines[0:10], len(lines))"
   ]
  },
  {
   "cell_type": "code",
   "execution_count": 8,
   "id": "04da4fb3-c6ba-4332-9b2a-872c14a87126",
   "metadata": {},
   "outputs": [
    {
     "name": "stdout",
     "output_type": "stream",
     "text": [
      "../../ProjetCommun/DATA_SOURCES/HCP/Nationalites_csv/Nationalites_csv/naticommunes.csv\n"
     ]
    }
   ],
   "source": [
    "df = df_creat('naticommunes', df_cat)"
   ]
  },
  {
   "cell_type": "markdown",
   "id": "6647aa81-cb46-45dd-a922-b069be341809",
   "metadata": {},
   "source": [
    "## <a name=\"EDA\"></a>Partie 1 : Mini EDA &nbsp;&nbsp;&nbsp;&nbsp;&nbsp; <a href=\"#TOP\">&uarr;</a>"
   ]
  },
  {
   "cell_type": "code",
   "execution_count": 9,
   "id": "cd6d2a1b-246e-4d37-907b-e133b079fa9f",
   "metadata": {},
   "outputs": [
    {
     "data": {
      "text/plain": [
       "(37963, 547)"
      ]
     },
     "execution_count": 9,
     "metadata": {},
     "output_type": "execute_result"
    }
   ],
   "source": [
    "df.shape"
   ]
  },
  {
   "cell_type": "code",
   "execution_count": 10,
   "id": "594cdd42-69ef-4827-8497-f933f546c1ec",
   "metadata": {},
   "outputs": [
    {
     "data": {
      "text/html": [
       "<div>\n",
       "<style scoped>\n",
       "    .dataframe tbody tr th:only-of-type {\n",
       "        vertical-align: middle;\n",
       "    }\n",
       "\n",
       "    .dataframe tbody tr th {\n",
       "        vertical-align: top;\n",
       "    }\n",
       "\n",
       "    .dataframe thead th {\n",
       "        text-align: right;\n",
       "    }\n",
       "</style>\n",
       "<table border=\"1\" class=\"dataframe\">\n",
       "  <thead>\n",
       "    <tr style=\"text-align: right;\">\n",
       "      <th></th>\n",
       "      <th>dep</th>\n",
       "      <th>nomdep</th>\n",
       "      <th>codecommune</th>\n",
       "      <th>nomcommune</th>\n",
       "      <th>paris</th>\n",
       "      <th>lm</th>\n",
       "      <th>pop1962</th>\n",
       "      <th>francais1962</th>\n",
       "      <th>etranger1962</th>\n",
       "      <th>franaiss1962</th>\n",
       "      <th>...</th>\n",
       "      <th>pnatur2007</th>\n",
       "      <th>pnaturfra2007</th>\n",
       "      <th>pnatur2012</th>\n",
       "      <th>pnaturfra2012</th>\n",
       "      <th>pnatur2017</th>\n",
       "      <th>pnaturfra2017</th>\n",
       "      <th>pnatur2022</th>\n",
       "      <th>pnaturfra2022</th>\n",
       "      <th>perimm</th>\n",
       "      <th>petranalg1962</th>\n",
       "    </tr>\n",
       "  </thead>\n",
       "  <tbody>\n",
       "    <tr>\n",
       "      <th>0</th>\n",
       "      <td>80</td>\n",
       "      <td>SOMME</td>\n",
       "      <td>80355</td>\n",
       "      <td>FRESNEVILLE</td>\n",
       "      <td>0</td>\n",
       "      <td>0</td>\n",
       "      <td>107.0</td>\n",
       "      <td>105.0</td>\n",
       "      <td>2.0</td>\n",
       "      <td>105.0</td>\n",
       "      <td>...</td>\n",
       "      <td>0.0</td>\n",
       "      <td>0.0</td>\n",
       "      <td>0.0</td>\n",
       "      <td>0.0</td>\n",
       "      <td>0.0</td>\n",
       "      <td>0.0</td>\n",
       "      <td>0.0</td>\n",
       "      <td>0.0</td>\n",
       "      <td>0.000002</td>\n",
       "      <td>0.000000</td>\n",
       "    </tr>\n",
       "    <tr>\n",
       "      <th>1</th>\n",
       "      <td>30</td>\n",
       "      <td>GARD</td>\n",
       "      <td>30213</td>\n",
       "      <td>REVENS</td>\n",
       "      <td>0</td>\n",
       "      <td>0</td>\n",
       "      <td>39.0</td>\n",
       "      <td>39.0</td>\n",
       "      <td>0.0</td>\n",
       "      <td>39.0</td>\n",
       "      <td>...</td>\n",
       "      <td>0.0</td>\n",
       "      <td>0.0</td>\n",
       "      <td>0.0</td>\n",
       "      <td>0.0</td>\n",
       "      <td>0.0</td>\n",
       "      <td>0.0</td>\n",
       "      <td>0.0</td>\n",
       "      <td>0.0</td>\n",
       "      <td>0.000002</td>\n",
       "      <td>0.000000</td>\n",
       "    </tr>\n",
       "    <tr>\n",
       "      <th>2</th>\n",
       "      <td>55</td>\n",
       "      <td>MEUSE</td>\n",
       "      <td>55434</td>\n",
       "      <td>RIGNY-SAINT-MARTIN</td>\n",
       "      <td>0</td>\n",
       "      <td>0</td>\n",
       "      <td>57.0</td>\n",
       "      <td>57.0</td>\n",
       "      <td>0.0</td>\n",
       "      <td>57.0</td>\n",
       "      <td>...</td>\n",
       "      <td>0.0</td>\n",
       "      <td>0.0</td>\n",
       "      <td>0.0</td>\n",
       "      <td>0.0</td>\n",
       "      <td>0.0</td>\n",
       "      <td>0.0</td>\n",
       "      <td>0.0</td>\n",
       "      <td>0.0</td>\n",
       "      <td>0.000003</td>\n",
       "      <td>0.000000</td>\n",
       "    </tr>\n",
       "    <tr>\n",
       "      <th>3</th>\n",
       "      <td>80</td>\n",
       "      <td>SOMME</td>\n",
       "      <td>80401</td>\n",
       "      <td>GUILLEMONT</td>\n",
       "      <td>0</td>\n",
       "      <td>0</td>\n",
       "      <td>197.0</td>\n",
       "      <td>189.0</td>\n",
       "      <td>8.0</td>\n",
       "      <td>185.0</td>\n",
       "      <td>...</td>\n",
       "      <td>0.0</td>\n",
       "      <td>0.0</td>\n",
       "      <td>0.0</td>\n",
       "      <td>0.0</td>\n",
       "      <td>0.0</td>\n",
       "      <td>0.0</td>\n",
       "      <td>0.0</td>\n",
       "      <td>0.0</td>\n",
       "      <td>0.000005</td>\n",
       "      <td>0.005076</td>\n",
       "    </tr>\n",
       "    <tr>\n",
       "      <th>4</th>\n",
       "      <td>2B</td>\n",
       "      <td>HAUTE-CORSE</td>\n",
       "      <td>2B264</td>\n",
       "      <td>RUSIO</td>\n",
       "      <td>0</td>\n",
       "      <td>0</td>\n",
       "      <td>220.0</td>\n",
       "      <td>220.0</td>\n",
       "      <td>0.0</td>\n",
       "      <td>220.0</td>\n",
       "      <td>...</td>\n",
       "      <td>0.0</td>\n",
       "      <td>0.0</td>\n",
       "      <td>0.0</td>\n",
       "      <td>0.0</td>\n",
       "      <td>0.0</td>\n",
       "      <td>0.0</td>\n",
       "      <td>0.0</td>\n",
       "      <td>0.0</td>\n",
       "      <td>0.000006</td>\n",
       "      <td>0.000000</td>\n",
       "    </tr>\n",
       "  </tbody>\n",
       "</table>\n",
       "<p>5 rows × 547 columns</p>\n",
       "</div>"
      ],
      "text/plain": [
       "  dep       nomdep codecommune          nomcommune  paris  lm  pop1962  \\\n",
       "0  80        SOMME       80355         FRESNEVILLE      0   0    107.0   \n",
       "1  30         GARD       30213              REVENS      0   0     39.0   \n",
       "2  55        MEUSE       55434  RIGNY-SAINT-MARTIN      0   0     57.0   \n",
       "3  80        SOMME       80401          GUILLEMONT      0   0    197.0   \n",
       "4  2B  HAUTE-CORSE       2B264               RUSIO      0   0    220.0   \n",
       "\n",
       "   francais1962  etranger1962  franaiss1962  ...  pnatur2007  pnaturfra2007  \\\n",
       "0         105.0           2.0         105.0  ...         0.0            0.0   \n",
       "1          39.0           0.0          39.0  ...         0.0            0.0   \n",
       "2          57.0           0.0          57.0  ...         0.0            0.0   \n",
       "3         189.0           8.0         185.0  ...         0.0            0.0   \n",
       "4         220.0           0.0         220.0  ...         0.0            0.0   \n",
       "\n",
       "   pnatur2012  pnaturfra2012  pnatur2017  pnaturfra2017  pnatur2022  \\\n",
       "0         0.0            0.0         0.0            0.0         0.0   \n",
       "1         0.0            0.0         0.0            0.0         0.0   \n",
       "2         0.0            0.0         0.0            0.0         0.0   \n",
       "3         0.0            0.0         0.0            0.0         0.0   \n",
       "4         0.0            0.0         0.0            0.0         0.0   \n",
       "\n",
       "   pnaturfra2022    perimm  petranalg1962  \n",
       "0            0.0  0.000002       0.000000  \n",
       "1            0.0  0.000002       0.000000  \n",
       "2            0.0  0.000003       0.000000  \n",
       "3            0.0  0.000005       0.005076  \n",
       "4            0.0  0.000006       0.000000  \n",
       "\n",
       "[5 rows x 547 columns]"
      ]
     },
     "execution_count": 10,
     "metadata": {},
     "output_type": "execute_result"
    }
   ],
   "source": [
    "df.head(5)"
   ]
  },
  {
   "cell_type": "code",
   "execution_count": 11,
   "id": "af0aa5bf-b220-425a-abb7-478085b19a1f",
   "metadata": {},
   "outputs": [
    {
     "name": "stdout",
     "output_type": "stream",
     "text": [
      "petranger2022\n",
      "peretr2022\n",
      "francais2022\n",
      "etranger2022\n",
      "pop2022\n",
      "immigre2022\n",
      "pimmigre2022\n",
      "immnatur2022\n",
      "pimmnatur2022\n",
      "perimmigre2022\n",
      "natur2022\n",
      "pnatur2022\n",
      "pnaturfra2022\n",
      "{'dep': '80', 'nomdep': 'SOMME', 'codecommune': '80355', 'nomcommune': 'FRESNEVILLE', 'paris': 0, 'lm': 0, 'petranger2022': 0.0, 'peretr2022': 0.0093173301, 'francais2022': 105, 'etranger2022': 0, 'pop2022': 105, 'immigre2022': 0, 'prapat': 0.0, 'perrapat': 0.022626322, 'pimmigre2022': 0.0, 'immnatur2022': 0, 'pimmnatur2022': 0.0, 'perimmigre2022': 1.5965788e-06, 'natur2022': 0, 'pnatur2022': 0.0, 'pnaturfra2022': 0.0, 'perimm': 1.5965788e-06}\n"
     ]
    }
   ],
   "source": [
    "dico={}\n",
    "for c in df :\n",
    "    value =df[c].iloc[0]\n",
    "    try:\n",
    "        last4char = int(c[-4:])\n",
    "        if last4char > 0 and last4char == 2022 :\n",
    "            dico[c] = value\n",
    "            print (c)\n",
    "    except ValueError as e:\n",
    "        dico[c] = value\n",
    "print (dico)\n",
    "    "
   ]
  },
  {
   "cell_type": "code",
   "execution_count": 12,
   "id": "9f42a697-e699-463a-a176-aac225991983",
   "metadata": {},
   "outputs": [],
   "source": [
    "# ['petranger2022','pimmigre2022','pimmnatur2022','pnatur2022']"
   ]
  },
  {
   "cell_type": "code",
   "execution_count": 13,
   "id": "30b80fa9-fdce-4006-9389-94714bb0ef6c",
   "metadata": {},
   "outputs": [
    {
     "name": "stdout",
     "output_type": "stream",
     "text": [
      "petranger2012\n",
      "peretr2012\n",
      "pop2012\n",
      "francais2012\n",
      "etranger2012\n",
      "immigre2012\n",
      "pimmigre2012\n",
      "immnatur2012\n",
      "pimmnatur2012\n",
      "perimmigre2012\n",
      "natur2012\n",
      "pnatur2012\n",
      "pnaturfra2012\n",
      "{'dep': '80', 'nomdep': 'SOMME', 'codecommune': '80355', 'nomcommune': 'FRESNEVILLE', 'paris': 0, 'lm': 0, 'petranger2012': 0.0, 'peretr2012': 0.0011042827, 'pop2012': 105.0, 'francais2012': 105.0, 'etranger2012': 0.0, 'immigre2012': 0.0, 'prapat': 0.0, 'perrapat': 0.022626322, 'pimmigre2012': 0.0, 'immnatur2012': 0, 'pimmnatur2012': 0.0, 'perimmigre2012': 0.0019888605, 'natur2012': 0, 'pnatur2012': 0.0, 'pnaturfra2012': 0.0, 'perimm': 1.5965788e-06}\n"
     ]
    }
   ],
   "source": [
    "dico={}\n",
    "for c in df :\n",
    "    value =df[c].iloc[0]\n",
    "    try:\n",
    "        last4char = int(c[-4:])\n",
    "        if last4char > 0 and last4char == 2012 :\n",
    "            dico[c] = value\n",
    "            print (c)\n",
    "    except ValueError as e:\n",
    "        dico[c] = value\n",
    "print (dico)\n",
    "    "
   ]
  },
  {
   "cell_type": "code",
   "execution_count": 14,
   "id": "bc782f8f-f041-4724-aba9-48c74effb27c",
   "metadata": {},
   "outputs": [],
   "source": [
    "# ['petranger2022','pimmigre2022','pimmnatur2022','pnatur2022','petranger2012','pimmigre2012','pimmnatur2012','pimmnatur2012']"
   ]
  },
  {
   "cell_type": "code",
   "execution_count": 15,
   "id": "9a4d3ad1-98f4-4a15-9180-0fb15dd603a1",
   "metadata": {},
   "outputs": [
    {
     "name": "stdout",
     "output_type": "stream",
     "text": [
      "petranger2002\n",
      "peretr2002\n",
      "francais2002\n",
      "etranger2002\n",
      "pop2002\n",
      "{'dep': '80', 'nomdep': 'SOMME', 'codecommune': '80355', 'nomcommune': 'FRESNEVILLE', 'paris': 0, 'lm': 0, 'petranger2002': 0.0, 'peretr2002': 0.0087613985, 'francais2002': 87.0, 'etranger2002': 0.0, 'pop2002': 87.0, 'prapat': 0.0, 'perrapat': 0.022626322, 'perimm': 1.5965788e-06}\n"
     ]
    }
   ],
   "source": [
    "dico={}\n",
    "for c in df :\n",
    "    value =df[c].iloc[0]\n",
    "    try:\n",
    "        last4char = int(c[-4:])\n",
    "        if last4char > 0 and last4char == 2002 :\n",
    "            dico[c] = value\n",
    "            print (c)\n",
    "    except ValueError as e:\n",
    "        dico[c] = value\n",
    "print (dico)\n",
    "    "
   ]
  },
  {
   "cell_type": "code",
   "execution_count": 16,
   "id": "e1a5c35e-f447-4331-9189-512bc7fb1781",
   "metadata": {},
   "outputs": [],
   "source": [
    "# ['petranger2022','pimmigre2022','pimmnatur2022','pnatur2022','petranger2012','pimmigre2012','pimmnatur2012','pimmnatur2012','petranger2002']"
   ]
  },
  {
   "cell_type": "code",
   "execution_count": 17,
   "id": "99dffbd3-a97b-49b9-8166-c92cf90fa947",
   "metadata": {},
   "outputs": [
    {
     "name": "stdout",
     "output_type": "stream",
     "text": [
      "petranger1992\n",
      "peretr1992\n",
      "francais1992\n",
      "etranger1992\n",
      "pop1992\n",
      "{'dep': '80', 'nomdep': 'SOMME', 'codecommune': '80355', 'nomcommune': 'FRESNEVILLE', 'paris': 0, 'lm': 0, 'petranger1992': 0.0, 'peretr1992': 0.00021947466, 'francais1992': 71.0, 'etranger1992': 0.0, 'pop1992': 71.0, 'prapat': 0.0, 'perrapat': 0.022626322, 'perimm': 1.5965788e-06}\n"
     ]
    }
   ],
   "source": [
    "dico={}\n",
    "for c in df :\n",
    "    value =df[c].iloc[0]\n",
    "    try:\n",
    "        last4char = int(c[-4:])\n",
    "        if last4char > 0 and last4char == 1992 :\n",
    "            dico[c] = value\n",
    "            print (c)\n",
    "    except ValueError as e:\n",
    "        dico[c] = value\n",
    "print (dico)\n",
    "    "
   ]
  },
  {
   "cell_type": "code",
   "execution_count": 18,
   "id": "4f6ce9d5-0708-4ad3-9e01-086f0713a2ea",
   "metadata": {},
   "outputs": [
    {
     "data": {
      "text/plain": [
       "['petranger2022',\n",
       " 'pimmigre2022',\n",
       " 'pimmnatur2022',\n",
       " 'pnatur2022',\n",
       " 'petranger2012',\n",
       " 'pimmigre2012',\n",
       " 'pimmnatur2012',\n",
       " 'petranger2002',\n",
       " 'petranger1992']"
      ]
     },
     "execution_count": 18,
     "metadata": {},
     "output_type": "execute_result"
    }
   ],
   "source": [
    "# ['petranger2022','pimmigre2022','pimmnatur2022','pnatur2022','petranger2012','pimmigre2012','pimmnatur2012','pimmnatur2012','petranger2002','petranger1992']\n",
    "\n",
    "col_dict = {\n",
    "    'petranger2022' : 'NAT_petranger22',\n",
    "    'pimmigre2022' : 'NAT_pimmigre22',\n",
    "    'pimmnatur2022' : 'NAT_pimmnatur22',\n",
    "    'pnatur2022' : 'NAT_pnatur22' ,\n",
    "    'petranger2012' : 'NAT_petranger12' ,\n",
    "    'pimmigre2012' : 'NAT_pimmigre12',\n",
    "    'pimmnatur2012' : 'NAT_pimmnatur12',\n",
    "    'pimmnatur2012' : 'NAT_pimmnatur12',\n",
    "    'petranger2002' : 'NAT_petranger02',\n",
    "    'petranger1992' : 'NAT_petranger92' }\n",
    "\n",
    "col_to_add = list(col_dict.keys())\n",
    "col_to_add"
   ]
  },
  {
   "cell_type": "code",
   "execution_count": 19,
   "id": "be3a1e1c-2341-49d5-b062-966da48c97a0",
   "metadata": {},
   "outputs": [
    {
     "data": {
      "text/plain": [
       "(37963, 547)"
      ]
     },
     "execution_count": 19,
     "metadata": {},
     "output_type": "execute_result"
    }
   ],
   "source": [
    "df.shape"
   ]
  },
  {
   "cell_type": "code",
   "execution_count": 20,
   "id": "35a52b5a-fede-4c61-8117-d73956f670b0",
   "metadata": {},
   "outputs": [],
   "source": [
    "for c in list(col_dict.keys()) :\n",
    "    df[col_dict[c]] = df[c]"
   ]
  },
  {
   "cell_type": "code",
   "execution_count": 21,
   "id": "241ed65c-ce9f-45da-a0de-886f5a897b04",
   "metadata": {},
   "outputs": [
    {
     "data": {
      "text/plain": [
       "(37963, 556)"
      ]
     },
     "execution_count": 21,
     "metadata": {},
     "output_type": "execute_result"
    }
   ],
   "source": [
    "df.shape"
   ]
  },
  {
   "cell_type": "code",
   "execution_count": 22,
   "id": "83156f50-eb5e-4ac0-9eaf-cf7ff65ad7d1",
   "metadata": {},
   "outputs": [
    {
     "data": {
      "text/html": [
       "<div>\n",
       "<style scoped>\n",
       "    .dataframe tbody tr th:only-of-type {\n",
       "        vertical-align: middle;\n",
       "    }\n",
       "\n",
       "    .dataframe tbody tr th {\n",
       "        vertical-align: top;\n",
       "    }\n",
       "\n",
       "    .dataframe thead th {\n",
       "        text-align: right;\n",
       "    }\n",
       "</style>\n",
       "<table border=\"1\" class=\"dataframe\">\n",
       "  <thead>\n",
       "    <tr style=\"text-align: right;\">\n",
       "      <th></th>\n",
       "      <th>dep</th>\n",
       "      <th>nomdep</th>\n",
       "      <th>codecommune</th>\n",
       "      <th>nomcommune</th>\n",
       "      <th>NAT_petranger22</th>\n",
       "      <th>NAT_pimmigre22</th>\n",
       "      <th>NAT_pimmnatur22</th>\n",
       "      <th>NAT_pnatur22</th>\n",
       "      <th>NAT_petranger12</th>\n",
       "      <th>NAT_pimmigre12</th>\n",
       "      <th>NAT_pimmnatur12</th>\n",
       "      <th>NAT_petranger02</th>\n",
       "      <th>NAT_petranger92</th>\n",
       "    </tr>\n",
       "  </thead>\n",
       "  <tbody>\n",
       "    <tr>\n",
       "      <th>0</th>\n",
       "      <td>80</td>\n",
       "      <td>SOMME</td>\n",
       "      <td>80355</td>\n",
       "      <td>FRESNEVILLE</td>\n",
       "      <td>0.0</td>\n",
       "      <td>0.0</td>\n",
       "      <td>0.0</td>\n",
       "      <td>0.0</td>\n",
       "      <td>0.0</td>\n",
       "      <td>0.0</td>\n",
       "      <td>0.0</td>\n",
       "      <td>0.0</td>\n",
       "      <td>0.0</td>\n",
       "    </tr>\n",
       "    <tr>\n",
       "      <th>1</th>\n",
       "      <td>30</td>\n",
       "      <td>GARD</td>\n",
       "      <td>30213</td>\n",
       "      <td>REVENS</td>\n",
       "      <td>0.0</td>\n",
       "      <td>0.0</td>\n",
       "      <td>0.0</td>\n",
       "      <td>0.0</td>\n",
       "      <td>0.0</td>\n",
       "      <td>0.0</td>\n",
       "      <td>0.0</td>\n",
       "      <td>0.0</td>\n",
       "      <td>0.0</td>\n",
       "    </tr>\n",
       "  </tbody>\n",
       "</table>\n",
       "</div>"
      ],
      "text/plain": [
       "  dep nomdep codecommune   nomcommune  NAT_petranger22  NAT_pimmigre22  \\\n",
       "0  80  SOMME       80355  FRESNEVILLE              0.0             0.0   \n",
       "1  30   GARD       30213       REVENS              0.0             0.0   \n",
       "\n",
       "   NAT_pimmnatur22  NAT_pnatur22  NAT_petranger12  NAT_pimmigre12  \\\n",
       "0              0.0           0.0              0.0             0.0   \n",
       "1              0.0           0.0              0.0             0.0   \n",
       "\n",
       "   NAT_pimmnatur12  NAT_petranger02  NAT_petranger92  \n",
       "0              0.0              0.0              0.0  \n",
       "1              0.0              0.0              0.0  "
      ]
     },
     "execution_count": 22,
     "metadata": {},
     "output_type": "execute_result"
    }
   ],
   "source": [
    "df = df.drop(df.columns[4:547], axis=1)\n",
    "df.head(2)"
   ]
  },
  {
   "cell_type": "code",
   "execution_count": 23,
   "id": "bb09725f-e85d-4297-a367-8ae5bae478c1",
   "metadata": {},
   "outputs": [
    {
     "data": {
      "text/plain": [
       "(37963, 37963)"
      ]
     },
     "execution_count": 23,
     "metadata": {},
     "output_type": "execute_result"
    }
   ],
   "source": [
    "df['codecommune'].nunique(),len(df)"
   ]
  },
  {
   "cell_type": "markdown",
   "id": "a0b90b25-4372-4fa1-8f79-9779e8b1a818",
   "metadata": {},
   "source": [
    "# REMPLACER NAN par 0"
   ]
  },
  {
   "cell_type": "code",
   "execution_count": 27,
   "id": "0f7d9856-9179-4cfc-980c-802dcb1c5fc6",
   "metadata": {},
   "outputs": [
    {
     "data": {
      "text/plain": [
       "dep                   0\n",
       "nomdep                0\n",
       "codecommune           0\n",
       "nomcommune            0\n",
       "NAT_petranger22    3088\n",
       "NAT_pimmigre22     3088\n",
       "NAT_pimmnatur22    3088\n",
       "NAT_pnatur22       3088\n",
       "NAT_petranger12    1372\n",
       "NAT_pimmigre12     1372\n",
       "NAT_pimmnatur12    1372\n",
       "NAT_petranger02    1375\n",
       "NAT_petranger92    1411\n",
       "dtype: int64"
      ]
     },
     "execution_count": 27,
     "metadata": {},
     "output_type": "execute_result"
    }
   ],
   "source": [
    "df.isna().sum()"
   ]
  },
  {
   "cell_type": "code",
   "execution_count": 28,
   "id": "27a00a10-7496-409c-9428-08532f82d85a",
   "metadata": {},
   "outputs": [],
   "source": [
    "df['DBL_bug'] = 0"
   ]
  },
  {
   "cell_type": "code",
   "execution_count": 29,
   "id": "231e2c76-da6c-45ad-95e3-4167ec096525",
   "metadata": {},
   "outputs": [
    {
     "data": {
      "text/plain": [
       "dep                    0\n",
       "nomdep                 0\n",
       "codecommune            0\n",
       "nomcommune             0\n",
       "NAT_petranger22     4238\n",
       "NAT_pimmigre22      3392\n",
       "NAT_pimmnatur22     7515\n",
       "NAT_pnatur22        7515\n",
       "NAT_petranger12     3926\n",
       "NAT_pimmigre12      1865\n",
       "NAT_pimmnatur12     6905\n",
       "NAT_petranger02     3932\n",
       "NAT_petranger92     6502\n",
       "DBL_bug            37963\n",
       "dtype: int64"
      ]
     },
     "execution_count": 29,
     "metadata": {},
     "output_type": "execute_result"
    }
   ],
   "source": [
    "(df == 0).sum()"
   ]
  },
  {
   "cell_type": "code",
   "execution_count": 32,
   "id": "2416ae54-883f-4f8d-8da3-44a48c8c3194",
   "metadata": {},
   "outputs": [
    {
     "data": {
      "text/plain": [
       "dep                    0\n",
       "nomdep                 0\n",
       "codecommune            0\n",
       "nomcommune             0\n",
       "NAT_petranger22     4238\n",
       "NAT_pimmigre22      3392\n",
       "NAT_pimmnatur22     7515\n",
       "NAT_pnatur22        7515\n",
       "NAT_petranger12     3926\n",
       "NAT_pimmigre12      1865\n",
       "NAT_pimmnatur12     6905\n",
       "NAT_petranger02     3932\n",
       "NAT_petranger92     6502\n",
       "DBL_bug            34798\n",
       "dtype: int64"
      ]
     },
     "execution_count": 32,
     "metadata": {},
     "output_type": "execute_result"
    }
   ],
   "source": [
    "df['DBL_bug'] = df.isna().any(axis=1).astype(int)\n",
    "(df == 0).sum()"
   ]
  },
  {
   "cell_type": "code",
   "execution_count": 34,
   "id": "d1ca979e-e223-4cbc-bb74-df04a62d85d5",
   "metadata": {},
   "outputs": [
    {
     "data": {
      "text/plain": [
       "3165"
      ]
     },
     "execution_count": 34,
     "metadata": {},
     "output_type": "execute_result"
    }
   ],
   "source": [
    "37963 - 34798\n"
   ]
  },
  {
   "cell_type": "code",
   "execution_count": 37,
   "id": "dea6cd07-c20b-4f25-85aa-e88fb400c642",
   "metadata": {},
   "outputs": [
    {
     "data": {
      "text/plain": [
       "dep                0\n",
       "nomdep             0\n",
       "codecommune        0\n",
       "nomcommune         0\n",
       "NAT_petranger22    0\n",
       "NAT_pimmigre22     0\n",
       "NAT_pimmnatur22    0\n",
       "NAT_pnatur22       0\n",
       "NAT_petranger12    0\n",
       "NAT_pimmigre12     0\n",
       "NAT_pimmnatur12    0\n",
       "NAT_petranger02    0\n",
       "NAT_petranger92    0\n",
       "DBL_bug            0\n",
       "dtype: int64"
      ]
     },
     "execution_count": 37,
     "metadata": {},
     "output_type": "execute_result"
    }
   ],
   "source": [
    "df = df.fillna(0)\n",
    "df.isna().sum()"
   ]
  },
  {
   "cell_type": "markdown",
   "id": "44dcb085-5e76-4c65-8fc7-c6aac92b56fe",
   "metadata": {},
   "source": [
    "## <a name=\"TRANSCO\"></a>Partie 3 : Filtres et/ou calculs&nbsp;&nbsp;&nbsp;&nbsp;&nbsp;<a href=\"#TOP\">&uarr;</a>"
   ]
  },
  {
   "cell_type": "code",
   "execution_count": 38,
   "id": "35eff4e8-277a-432c-a5b3-4e6f24fdc845",
   "metadata": {},
   "outputs": [
    {
     "data": {
      "text/plain": [
       "((33829, 14), (37963, 14))"
      ]
     },
     "execution_count": 38,
     "metadata": {},
     "output_type": "execute_result"
    }
   ],
   "source": [
    "df_filtered = df[df['codecommune'].isin(lines)]\n",
    "df_filtered.shape,df.shape"
   ]
  },
  {
   "cell_type": "code",
   "execution_count": 39,
   "id": "b815f94f-7cb2-46bc-bc11-28719b989ea3",
   "metadata": {},
   "outputs": [
    {
     "data": {
      "text/plain": [
       "33830"
      ]
     },
     "execution_count": 39,
     "metadata": {},
     "output_type": "execute_result"
    }
   ],
   "source": [
    "len(lines)"
   ]
  },
  {
   "cell_type": "code",
   "execution_count": 40,
   "id": "d6d965db-0b76-46ee-b5ae-f6680758cda0",
   "metadata": {},
   "outputs": [
    {
     "data": {
      "text/plain": [
       "1"
      ]
     },
     "execution_count": 40,
     "metadata": {},
     "output_type": "execute_result"
    }
   ],
   "source": [
    "codecommune_listdf_filtered= df_filtered['codecommune'].tolist()\n",
    "codecommune_listdf_filtered[1], len(codecommune_listdf_filtered)\n",
    "absent = [x for x in lines if x not in codecommune_listdf_filtered]\n",
    "len (absent)"
   ]
  },
  {
   "cell_type": "code",
   "execution_count": 41,
   "id": "315efce1-6af0-4403-98d6-4cabfc9c42fa",
   "metadata": {},
   "outputs": [
    {
     "data": {
      "text/plain": [
       "['69380']"
      ]
     },
     "execution_count": 41,
     "metadata": {},
     "output_type": "execute_result"
    }
   ],
   "source": [
    "absent\n"
   ]
  },
  {
   "cell_type": "code",
   "execution_count": 42,
   "id": "e072c5c5-ec96-46e4-8f30-bc616e23191e",
   "metadata": {},
   "outputs": [
    {
     "name": "stdout",
     "output_type": "stream",
     "text": [
      "0 dep\n",
      "1 nomdep\n",
      "2 codecommune\n",
      "3 nomcommune\n",
      "4 NAT_petranger22\n",
      "5 NAT_pimmigre22\n",
      "6 NAT_pimmnatur22\n",
      "7 NAT_pnatur22\n",
      "8 NAT_petranger12\n",
      "9 NAT_pimmigre12\n",
      "10 NAT_pimmnatur12\n",
      "11 NAT_petranger02\n",
      "12 NAT_petranger92\n",
      "13 DBL_bug\n"
     ]
    }
   ],
   "source": [
    "for i,c in enumerate(df_filtered) : \n",
    "    print (i,c)"
   ]
  },
  {
   "cell_type": "code",
   "execution_count": 43,
   "id": "6609a11b-504f-44bd-8357-46ea12746cfc",
   "metadata": {},
   "outputs": [
    {
     "data": {
      "text/plain": [
       "(33829, 14)"
      ]
     },
     "execution_count": 43,
     "metadata": {},
     "output_type": "execute_result"
    }
   ],
   "source": [
    "df_filtered.shape"
   ]
  },
  {
   "cell_type": "code",
   "execution_count": 44,
   "id": "e0c35dcf-b030-4aaa-bc75-6230c7df7057",
   "metadata": {},
   "outputs": [
    {
     "data": {
      "text/plain": [
       "(33830, 14)"
      ]
     },
     "execution_count": 44,
     "metadata": {},
     "output_type": "execute_result"
    }
   ],
   "source": [
    "for i,code in enumerate(absent) :\n",
    "    new_row = ['*', '*', code, '*', 0, 0, 0, 0, 0, 0, 0, 0, 0, 1]\n",
    "    row_df = pd.DataFrame([new_row], columns=df_filtered.columns)\n",
    "    df_filtered = pd.concat([df_filtered, row_df], ignore_index=True)\n",
    "df_filtered.shape"
   ]
  },
  {
   "cell_type": "code",
   "execution_count": 45,
   "id": "613b4f7e-e3a4-4137-8c35-408f2dcefe15",
   "metadata": {},
   "outputs": [
    {
     "data": {
      "text/plain": [
       "0"
      ]
     },
     "execution_count": 45,
     "metadata": {},
     "output_type": "execute_result"
    }
   ],
   "source": [
    "codecommune_listdf_filtered2 = df_filtered['codecommune'].tolist()\n",
    "absent = [x for x in lines if x not in codecommune_listdf_filtered2]\n",
    "len (absent)"
   ]
  },
  {
   "cell_type": "markdown",
   "id": "352451f1-99da-4ac0-a95a-8deb6ac94389",
   "metadata": {},
   "source": [
    "## <a name=\"EXPORT\"></a>Partie 4 : EXPORT&nbsp;&nbsp;&nbsp;&nbsp;&nbsp;<a href=\"#TOP\">&uarr;</a>\n",
    "\n"
   ]
  },
  {
   "cell_type": "code",
   "execution_count": 46,
   "id": "d6c0262e-c161-4364-8ee0-353db9958a0a",
   "metadata": {},
   "outputs": [
    {
     "name": "stdout",
     "output_type": "stream",
     "text": [
      "0 dep\n",
      "1 nomdep\n",
      "2 codecommune\n",
      "3 nomcommune\n",
      "4 NAT_petranger22\n",
      "5 NAT_pimmigre22\n",
      "6 NAT_pimmnatur22\n",
      "7 NAT_pnatur22\n",
      "8 NAT_petranger12\n",
      "9 NAT_pimmigre12\n",
      "10 NAT_pimmnatur12\n",
      "11 NAT_petranger02\n",
      "12 NAT_petranger92\n",
      "13 DBL_bug\n"
     ]
    }
   ],
   "source": [
    "for i,c in enumerate(df_filtered) : \n",
    "    print (i,c)"
   ]
  },
  {
   "cell_type": "code",
   "execution_count": 47,
   "id": "01e85959-eaab-4e7a-8dc5-55ffcac8bf0a",
   "metadata": {},
   "outputs": [],
   "source": [
    "path_export='../DATA/EXPORT_CSV/final_NAT_naticommunes.csv'"
   ]
  },
  {
   "cell_type": "code",
   "execution_count": 48,
   "id": "2f9fa22a-3237-4131-9fae-b4604341807f",
   "metadata": {},
   "outputs": [
    {
     "name": "stdout",
     "output_type": "stream",
     "text": [
      "DataFrame exported to: ../DATA/EXPORT_CSV/final_NAT_naticommunes.csv\n"
     ]
    }
   ],
   "source": [
    "df_filtered.to_csv(path_export, sep=';', index=False)\n",
    "\n",
    "print(f'DataFrame exported to: {path_export}')"
   ]
  },
  {
   "cell_type": "code",
   "execution_count": null,
   "id": "d7c7efd6-a789-4a43-85dc-94c4dc7ec3a7",
   "metadata": {},
   "outputs": [],
   "source": []
  }
 ],
 "metadata": {
  "kernelspec": {
   "display_name": "Python 3 (ipykernel)",
   "language": "python",
   "name": "python3"
  },
  "language_info": {
   "codemirror_mode": {
    "name": "ipython",
    "version": 3
   },
   "file_extension": ".py",
   "mimetype": "text/x-python",
   "name": "python",
   "nbconvert_exporter": "python",
   "pygments_lexer": "ipython3",
   "version": "3.10.12"
  }
 },
 "nbformat": 4,
 "nbformat_minor": 5
}
