{
 "cells": [
  {
   "cell_type": "markdown",
   "id": "ea3e4cdc-4ad0-480e-8a5e-0e4e4dee9ac3",
   "metadata": {},
   "source": [
    "## <center>  Model Creat Dataframe to EXPORT from CSV<br/></center>\n",
    "<a name=\"TOP\">dev :\n",
    "    Fichier CSV :  xxxxxxx.csv</a>\n",
    "    \n",
    "# Description Fichiers :\n",
    "\n",
    "# Synthese des Actions :\n",
    "\n",
    "  \n",
    "**<u>MENU</u>** \n",
    "- <a href=\"#EDA\">P0 : Mini EDA</a>\n",
    "- <a href=\"#Import\">P1 : Import CSV</a>\n",
    "- <a href=\"#Nan\">P1 : Traitement des Nan</a>\n",
    "- <a href=\"#Nan\">P2 : Filtres et calculs</a>\n",
    "- <a href=\"#Nan\">P3 : EXPORT (/DATA/EXPORT_CSV/final_xxxxxxx.csv)</a>"
   ]
  },
  {
   "cell_type": "code",
   "execution_count": 1,
   "id": "fa89b09c-9546-4c44-8d26-4b5e2964667a",
   "metadata": {},
   "outputs": [
    {
     "name": "stderr",
     "output_type": "stream",
     "text": [
      "/tmp/ipykernel_6729/2162656668.py:1: DeprecationWarning: \n",
      "Pyarrow will become a required dependency of pandas in the next major release of pandas (pandas 3.0),\n",
      "(to allow more performant data types, such as the Arrow string type, and better interoperability with other libraries)\n",
      "but was not found to be installed on your system.\n",
      "If this would cause problems for you,\n",
      "please provide us feedback at https://github.com/pandas-dev/pandas/issues/54466\n",
      "        \n",
      "  import pandas as pd\n"
     ]
    }
   ],
   "source": [
    "import pandas as pd\n",
    "import numpy as np"
   ]
  },
  {
   "cell_type": "markdown",
   "id": "0ace3e62-c0be-4b2f-8c07-37064f44451f",
   "metadata": {},
   "source": [
    "## <a name=\"EDA\"></a>Partie 0 : Mini EDA &nbsp;&nbsp;&nbsp;&nbsp;&nbsp;<a href=\"#TOP\">&uarr;</a>"
   ]
  },
  {
   "cell_type": "markdown",
   "id": "f473b493",
   "metadata": {},
   "source": [
    "dep: Code du département.\n",
    "\n",
    "nomdep: Nom du département.\n",
    "\n",
    "nomcommune: Nom de la commune.\n",
    "\n",
    "paris: Indicateur si la commune fait partie de Paris.\n",
    "\n",
    "ncrimesdelits2016, ncrimesdelits2018, ncrimesdelits2020: Nombre total de crimes et délits pour les années 2016, 2018 et 2020.\n",
    "\n",
    "nviolences2016, nviolences2018, nviolences2020: Nombre de crimes violents pour les années 2016, 2018 et 2020.\n",
    "\n",
    "ncambriolages2016, ncambriolages2018, ncambriolages2020: Nombre de cambriolages pour les années 2016, 2018 et 2020.\n",
    "\n",
    "nvolsvoitures2016, nvolsvoitures2018, nvolsvoitures2020: Nombre de vols de voitures pour les années 2016, 2018 et 2020.\n",
    "\n",
    "nautresvols2016, nautresvols2018, nautresvols2020: Nombre d'autres vols pour les années 2016, 2018 et 2020.\n",
    "\n",
    "pop2016, pop2018, pop2020: Population totale de la commune pour les années 2016, 2018 et 2020.\n"
   ]
  },
  {
   "cell_type": "markdown",
   "id": "a972d34f-9fca-4224-ac82-f7ea26394836",
   "metadata": {},
   "source": [
    "## <a name=\"Import\"></a>Partie 1 : Import CSV&nbsp;&nbsp;&nbsp;&nbsp;&nbsp;<a href=\"#TOP\">&uarr;</a>"
   ]
  },
  {
   "cell_type": "code",
   "execution_count": 2,
   "id": "e2924448-8c43-4e2e-9ff4-a6aff4754e33",
   "metadata": {},
   "outputs": [
    {
     "name": "stderr",
     "output_type": "stream",
     "text": [
      "/tmp/ipykernel_6729/3092063648.py:1: DtypeWarning: Columns (0,2) have mixed types. Specify dtype option on import or set low_memory=False.\n",
      "  df = pd.read_csv('crimesdelitscommunes.csv')\n"
     ]
    },
    {
     "data": {
      "text/plain": [
       "(34846, 53)"
      ]
     },
     "execution_count": 2,
     "metadata": {},
     "output_type": "execute_result"
    }
   ],
   "source": [
    "df = pd.read_csv('crimesdelitscommunes.csv')\n",
    "df.shape"
   ]
  },
  {
   "cell_type": "code",
   "execution_count": 3,
   "id": "e2c52e3c",
   "metadata": {},
   "outputs": [
    {
     "name": "stdout",
     "output_type": "stream",
     "text": [
      "<class 'pandas.core.frame.DataFrame'>\n",
      "RangeIndex: 34846 entries, 0 to 34845\n",
      "Data columns (total 53 columns):\n",
      " #   Column               Non-Null Count  Dtype  \n",
      "---  ------               --------------  -----  \n",
      " 0   dep                  34846 non-null  object \n",
      " 1   nomdep               34846 non-null  object \n",
      " 2   codecommune          34846 non-null  object \n",
      " 3   nomcommune           34846 non-null  object \n",
      " 4   paris                34846 non-null  int64  \n",
      " 5   ncrimesdelits2016    34846 non-null  float64\n",
      " 6   ncrimesdelits2018    34846 non-null  float64\n",
      " 7   ncrimesdelits2020    34846 non-null  float64\n",
      " 8   nviolences2016       34846 non-null  float64\n",
      " 9   nviolences2018       34846 non-null  float64\n",
      " 10  nviolences2020       34846 non-null  float64\n",
      " 11  ncambriolages2016    34846 non-null  float64\n",
      " 12  ncambriolages2018    34846 non-null  float64\n",
      " 13  ncambriolages2020    34846 non-null  float64\n",
      " 14  nvolsvoitures2016    34846 non-null  float64\n",
      " 15  nvolsvoitures2018    34846 non-null  float64\n",
      " 16  nvolsvoitures2020    34846 non-null  float64\n",
      " 17  nautresvols2016      34846 non-null  float64\n",
      " 18  nautresvols2018      34846 non-null  float64\n",
      " 19  nautresvols2020      34846 non-null  float64\n",
      " 20  pop2016              34846 non-null  float64\n",
      " 21  pop2018              34846 non-null  float64\n",
      " 22  pop2020              34846 non-null  float64\n",
      " 23  pcrimesdelits2016    34840 non-null  float64\n",
      " 24  pcrimesdelits2018    34840 non-null  float64\n",
      " 25  pcrimesdelits2020    34840 non-null  float64\n",
      " 26  pviolences2016       34840 non-null  float64\n",
      " 27  pviolences2018       34840 non-null  float64\n",
      " 28  pviolences2020       34840 non-null  float64\n",
      " 29  pcambriolages2016    34840 non-null  float64\n",
      " 30  pcambriolages2018    34840 non-null  float64\n",
      " 31  pcambriolages2020    34840 non-null  float64\n",
      " 32  pvolsvoitures2016    34840 non-null  float64\n",
      " 33  pvolsvoitures2018    34840 non-null  float64\n",
      " 34  pvolsvoitures2020    34840 non-null  float64\n",
      " 35  pautresvols2016      34840 non-null  float64\n",
      " 36  pautresvols2018      34840 non-null  float64\n",
      " 37  pautresvols2020      34840 non-null  float64\n",
      " 38  percrimesdelits2016  34846 non-null  float64\n",
      " 39  percrimesdelits2018  34846 non-null  float64\n",
      " 40  percrimesdelits2020  34846 non-null  float64\n",
      " 41  perviolences2016     34846 non-null  float64\n",
      " 42  perviolences2018     34846 non-null  float64\n",
      " 43  perviolences2020     34846 non-null  float64\n",
      " 44  percambriolages2016  34846 non-null  float64\n",
      " 45  percambriolages2018  34846 non-null  float64\n",
      " 46  percambriolages2020  34846 non-null  float64\n",
      " 47  pervolsvoitures2016  34846 non-null  float64\n",
      " 48  pervolsvoitures2018  34846 non-null  float64\n",
      " 49  pervolsvoitures2020  34846 non-null  float64\n",
      " 50  perautresvols2016    34846 non-null  float64\n",
      " 51  perautresvols2018    34846 non-null  float64\n",
      " 52  perautresvols2020    34846 non-null  float64\n",
      "dtypes: float64(48), int64(1), object(4)\n",
      "memory usage: 14.1+ MB\n"
     ]
    }
   ],
   "source": [
    "df.info()"
   ]
  },
  {
   "cell_type": "code",
   "execution_count": 4,
   "id": "2f9fa22a-3237-4131-9fae-b4604341807f",
   "metadata": {},
   "outputs": [
    {
     "data": {
      "text/plain": [
       "Index(['dep', 'nomdep', 'codecommune', 'nomcommune', 'paris',\n",
       "       'ncrimesdelits2016', 'ncrimesdelits2018', 'ncrimesdelits2020',\n",
       "       'nviolences2016', 'nviolences2018', 'nviolences2020',\n",
       "       'ncambriolages2016', 'ncambriolages2018', 'ncambriolages2020',\n",
       "       'nvolsvoitures2016', 'nvolsvoitures2018', 'nvolsvoitures2020',\n",
       "       'nautresvols2016', 'nautresvols2018', 'nautresvols2020', 'pop2016',\n",
       "       'pop2018', 'pop2020', 'pcrimesdelits2016', 'pcrimesdelits2018',\n",
       "       'pcrimesdelits2020', 'pviolences2016', 'pviolences2018',\n",
       "       'pviolences2020', 'pcambriolages2016', 'pcambriolages2018',\n",
       "       'pcambriolages2020', 'pvolsvoitures2016', 'pvolsvoitures2018',\n",
       "       'pvolsvoitures2020', 'pautresvols2016', 'pautresvols2018',\n",
       "       'pautresvols2020', 'percrimesdelits2016', 'percrimesdelits2018',\n",
       "       'percrimesdelits2020', 'perviolences2016', 'perviolences2018',\n",
       "       'perviolences2020', 'percambriolages2016', 'percambriolages2018',\n",
       "       'percambriolages2020', 'pervolsvoitures2016', 'pervolsvoitures2018',\n",
       "       'pervolsvoitures2020', 'perautresvols2016', 'perautresvols2018',\n",
       "       'perautresvols2020'],\n",
       "      dtype='object')"
      ]
     },
     "execution_count": 4,
     "metadata": {},
     "output_type": "execute_result"
    }
   ],
   "source": [
    "df.columns"
   ]
  },
  {
   "cell_type": "markdown",
   "id": "949161b6",
   "metadata": {},
   "source": [
    "## <a name=\"Import\"></a>Partie 2 : Renommer &nbsp;&nbsp;&nbsp;&nbsp;&nbsp;<a href=\"#TOP\">&uarr;</a>"
   ]
  },
  {
   "cell_type": "code",
   "execution_count": 5,
   "id": "5b27958f",
   "metadata": {},
   "outputs": [],
   "source": [
    "df['CED_nviolences2016'] = df.nviolences2016\n",
    "df['CED_nviolences2020'] = df.nviolences2020\n",
    "df['CED_ncambriolages2016'] = df.ncambriolages2016\n",
    "df['CED_ncambriolages2020'] = df.ncambriolages2020\n",
    "df['CED_nvolsvoitures2016'] = df.nvolsvoitures2016\n",
    "df['CED_nvolsvoitures2020'] = df.nvolsvoitures2020\n",
    "df['CED_nautresvols2016'] = df.nautresvols2016\n",
    "df['CED_nautresvols2020'] = df.nautresvols2020\n",
    "df['CED_ncrimesdelits2016'] = df.ncrimesdelits2016\n",
    "df['CED_ncrimesdelits2020'] = df.ncrimesdelits2020\n",
    "\n"
   ]
  },
  {
   "cell_type": "code",
   "execution_count": 6,
   "id": "90576d4b",
   "metadata": {},
   "outputs": [],
   "source": [
    "df['codecommune'] = df['codecommune'].astype(str).str.zfill(5)"
   ]
  },
  {
   "cell_type": "code",
   "execution_count": 7,
   "id": "8541de43",
   "metadata": {},
   "outputs": [
    {
     "name": "stdout",
     "output_type": "stream",
     "text": [
      "['01001', '01002', '01004', '01005', '01006', '01007', '01008', '01009', '01010', '01011'] 33830\n"
     ]
    }
   ],
   "source": [
    "file_path = '../DATA/list_codecommune_leg2022_50inscrits.txt'\n",
    "with open(file_path, 'r', encoding='utf-8') as file:\n",
    "    lines = [line.strip() for line in file.readlines()]\n",
    "\n",
    "print(lines[0:10], len(lines))"
   ]
  },
  {
   "cell_type": "code",
   "execution_count": 8,
   "id": "1df96734",
   "metadata": {},
   "outputs": [
    {
     "data": {
      "text/plain": [
       "29"
      ]
     },
     "execution_count": 8,
     "metadata": {},
     "output_type": "execute_result"
    }
   ],
   "source": [
    "codecommune_listdf = df['codecommune'].tolist()\n",
    "absent = [x for x in lines if x not in codecommune_listdf]\n",
    "len (absent)"
   ]
  },
  {
   "cell_type": "code",
   "execution_count": 9,
   "id": "77d6bda6",
   "metadata": {},
   "outputs": [
    {
     "data": {
      "text/plain": [
       "(33801, 63)"
      ]
     },
     "execution_count": 9,
     "metadata": {},
     "output_type": "execute_result"
    }
   ],
   "source": [
    "df_filtered = df[df['codecommune'].isin(lines)]\n",
    "df_filtered.shape"
   ]
  },
  {
   "cell_type": "code",
   "execution_count": 10,
   "id": "77a29b19",
   "metadata": {},
   "outputs": [],
   "source": [
    "df_final = df_filtered[['dep', 'nomdep', 'codecommune', 'nomcommune','CED_nviolences2016','CED_nviolences2020','CED_ncambriolages2016','CED_ncambriolages2020','CED_nvolsvoitures2016','CED_nvolsvoitures2020','CED_nautresvols2016','CED_nautresvols2020','CED_ncrimesdelits2016','CED_ncrimesdelits2020']]"
   ]
  },
  {
   "cell_type": "code",
   "execution_count": 11,
   "id": "f87c8d2e",
   "metadata": {},
   "outputs": [
    {
     "name": "stderr",
     "output_type": "stream",
     "text": [
      "/tmp/ipykernel_6729/2264214380.py:1: SettingWithCopyWarning: \n",
      "A value is trying to be set on a copy of a slice from a DataFrame.\n",
      "Try using .loc[row_indexer,col_indexer] = value instead\n",
      "\n",
      "See the caveats in the documentation: https://pandas.pydata.org/pandas-docs/stable/user_guide/indexing.html#returning-a-view-versus-a-copy\n",
      "  df_final['DBL_bug'] = 0\n"
     ]
    }
   ],
   "source": [
    "df_final['DBL_bug'] = 0"
   ]
  },
  {
   "cell_type": "code",
   "execution_count": 12,
   "id": "611213ba",
   "metadata": {},
   "outputs": [
    {
     "data": {
      "text/plain": [
       "(33801, 15)"
      ]
     },
     "execution_count": 12,
     "metadata": {},
     "output_type": "execute_result"
    }
   ],
   "source": [
    "df_final.shape"
   ]
  },
  {
   "cell_type": "code",
   "execution_count": 13,
   "id": "c00b4208",
   "metadata": {},
   "outputs": [
    {
     "data": {
      "text/plain": [
       "15"
      ]
     },
     "execution_count": 13,
     "metadata": {},
     "output_type": "execute_result"
    }
   ],
   "source": [
    "new_row = ['*', '*', 'code', '*'] + [np.nan] * 10+[1]\n",
    "len (new_row)"
   ]
  },
  {
   "cell_type": "code",
   "execution_count": 14,
   "id": "b53379d2",
   "metadata": {},
   "outputs": [
    {
     "data": {
      "text/plain": [
       "(33830, 15)"
      ]
     },
     "execution_count": 14,
     "metadata": {},
     "output_type": "execute_result"
    }
   ],
   "source": [
    "for i,code in enumerate(absent) :\n",
    "    new_row = ['*', '*', code, '*'] + [np.nan] * 10 + [1]\n",
    "    row_df = pd.DataFrame([new_row], columns=df_final.columns)\n",
    "    df_final = pd.concat([df_final, row_df], ignore_index=True)\n",
    "df_final.shape"
   ]
  },
  {
   "cell_type": "markdown",
   "id": "5314cb82",
   "metadata": {},
   "source": [
    "## <a name=\"Import\"></a>Partie 3 : Export CSV&nbsp;&nbsp;&nbsp;&nbsp;&nbsp;<a href=\"#TOP\">&uarr;</a>"
   ]
  },
  {
   "cell_type": "code",
   "execution_count": 15,
   "id": "9a71f8f1",
   "metadata": {},
   "outputs": [],
   "source": [
    "df_final.to_csv('../DATA/EXPORT_CSV/final_CED_crimesdelits.csv', sep=';', index=False)"
   ]
  }
 ],
 "metadata": {
  "kernelspec": {
   "display_name": "Python 3 (ipykernel)",
   "language": "python",
   "name": "python3"
  },
  "language_info": {
   "codemirror_mode": {
    "name": "ipython",
    "version": 3
   },
   "file_extension": ".py",
   "mimetype": "text/x-python",
   "name": "python",
   "nbconvert_exporter": "python",
   "pygments_lexer": "ipython3",
   "version": "3.10.12"
  }
 },
 "nbformat": 4,
 "nbformat_minor": 5
}
