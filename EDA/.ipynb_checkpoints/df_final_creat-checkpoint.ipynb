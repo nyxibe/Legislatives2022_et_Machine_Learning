{
 "cells": [
  {
   "cell_type": "markdown",
   "id": "b3168ee2-10bb-4016-80e9-6461bfe0d9ab",
   "metadata": {},
   "source": [
    "# CREATION DE LA DAFRAME FINALE support a notre M.L.\n",
    "\n",
    "Fusion de fichiers csv 1 par table\n",
    "\n",
    "## Attention pour fonctionner 2 fichiers sont indispensables :\n",
    "- ../DATA/list_codecommune_leg2022_50inscrits.txt' \n",
    "    List de toutes les clefs necessaires\n",
    "- ../DATA/EXPORT_CSV/final_TAR_YYY_leg2022com \n",
    "    Fichier target des resultats aux legislatives 2022 qui initialise notre dataframe\n",
    "\n",
    "### PROCEDURE de traitement de dataframe\n",
    "### 1 Initialisation avec taget\n",
    "### 2 Parcours des fichiers csv du repertoire\n",
    "    TESTS\n",
    "    - a commence par final\n",
    "    - b validation nb de lignes \n",
    "    - c validation des entetes\n",
    "    - d validation des clefs (depuis list_codecommune_leg2022_50inscrits.txt)\n",
    "    - e recuperation de la liste des bons prefixes a traiter (file_name.split('_')[1:-1])\n",
    "    - f recuperation de la dataframe avec les colonnes qui disposent des prefixes souhaités\n",
    "    - g fusion (merge) sur la colonne codecommune\n",
    "    \n",
    "### 3 [NON TRAITE] : remplacement des Nan avec voisin le plus proche\n",
    "\n",
    "### 4 [NON TRAITE] : Export CSV \n",
    "\n",
    "    "
   ]
  },
  {
   "cell_type": "code",
   "execution_count": 1,
   "id": "b80a0302-5437-4367-a4b6-1a20f54f951d",
   "metadata": {},
   "outputs": [],
   "source": [
    "import warnings\n",
    "warnings.filterwarnings(\"ignore\")\n",
    "\n",
    "import os\n",
    "import pandas as pd\n",
    "import numpy as np"
   ]
  },
  {
   "cell_type": "markdown",
   "id": "8321c4cb-b472-43da-83ed-cad480d97b35",
   "metadata": {},
   "source": [
    "## LISTER LES FICHIER A TRAITER"
   ]
  },
  {
   "cell_type": "code",
   "execution_count": 2,
   "id": "bc37a31a-c97a-401a-adda-7828b034cef4",
   "metadata": {},
   "outputs": [],
   "source": [
    "# input : Repertoire à parcourir\n",
    "# output : dico [nom du fichier]: prefix des colonnes a traiter\n",
    "\n",
    "def trouver_fichiers_csv(directory):\n",
    "    fichiers_csv = {}\n",
    "    files = os.listdir(directory)\n",
    "    for file in files:\n",
    "        # file_path = os.path.join(directory, file)\n",
    "        file_name, file_extension = os.path.splitext(file)\n",
    "        if file_extension == '.csv' :\n",
    "            infos = file_name.split('_')\n",
    "            if infos[0] =='final' and len(infos[1])==3 :\n",
    "                fichiers_csv[file] = infos[1:-1]\n",
    "    return fichiers_csv\n",
    "\n"
   ]
  },
  {
   "cell_type": "code",
   "execution_count": 3,
   "id": "ffff114b-64d5-4269-a408-dbec19f79f6a",
   "metadata": {},
   "outputs": [
    {
     "data": {
      "text/plain": [
       "{'final_GEO_correspondance-code-insee-code-postal.csv': ['GEO'],\n",
       " 'final_KP0_capitalimmobilier.csv': ['KP0'],\n",
       " 'final_KP1_capitalimmobiliercommunes.csv': ['KP1'],\n",
       " 'final_PRO_proprietairescommunes.csv': ['PRO'],\n",
       " 'final_TAR_YYY_leg2022comm.csv': ['TAR', 'YYY'],\n",
       " 'final_TER_terrescommunes.csv': ['TER']}"
      ]
     },
     "execution_count": 3,
     "metadata": {},
     "output_type": "execute_result"
    }
   ],
   "source": [
    "path='../DATA/EXPORT_CSV/'\n",
    "list_csv = trouver_fichiers_csv(path)\n",
    "list_csv "
   ]
  },
  {
   "cell_type": "markdown",
   "id": "192c4d91-5d4b-4f52-be77-d71cc7e0500c",
   "metadata": {},
   "source": [
    "## FIXER LES INDEXES"
   ]
  },
  {
   "cell_type": "code",
   "execution_count": 4,
   "id": "97827c04-04c8-4c3c-b395-735104ae6d0b",
   "metadata": {},
   "outputs": [
    {
     "name": "stdout",
     "output_type": "stream",
     "text": [
      "['01001', '01002', '01004', '01005', '01006', '01007', '01008', '01009', '01010', '01011'] 33830\n"
     ]
    }
   ],
   "source": [
    "# Specify the file path\n",
    "file_path = '../DATA/list_codecommune_leg2022_50inscrits.txt'\n",
    "\n",
    "# Open the text file and read lines into a list\n",
    "with open(file_path, 'r', encoding='utf-8') as file:\n",
    "    lines = [line.strip() for line in file.readlines()]\n",
    "\n",
    "# Print or manipulate the list of lines as needed\n",
    "print(lines[0:10], len(lines))"
   ]
  },
  {
   "cell_type": "code",
   "execution_count": 5,
   "id": "d73fa4fe-2808-4c69-ab7f-e3bbdf4efd36",
   "metadata": {},
   "outputs": [
    {
     "name": "stdout",
     "output_type": "stream",
     "text": [
      "<class 'list'>\n"
     ]
    }
   ],
   "source": [
    "print (type(list_csv['final_KP0_capitalimmobilier.csv']))"
   ]
  },
  {
   "cell_type": "markdown",
   "id": "cbac3bbc-d441-4900-997a-a92893fd9cc7",
   "metadata": {},
   "source": [
    "# IMPORTS"
   ]
  },
  {
   "cell_type": "code",
   "execution_count": 2,
   "id": "855a025f-5df9-4e9f-be04-f1e60299d158",
   "metadata": {},
   "outputs": [
    {
     "ename": "SyntaxError",
     "evalue": "expected ':' (2616639745.py, line 19)",
     "output_type": "error",
     "traceback": [
      "\u001b[0;36m  Cell \u001b[0;32mIn [2], line 19\u001b[0;36m\u001b[0m\n\u001b[0;31m    if np.array_equal(cols[0:4],  ['dep', 'nomdep', 'codecommune', 'nomcommune'])\u001b[0m\n\u001b[0m                                                                                  ^\u001b[0m\n\u001b[0;31mSyntaxError\u001b[0m\u001b[0;31m:\u001b[0m expected ':'\n"
     ]
    }
   ],
   "source": [
    "# INPUT : \n",
    "#    nom du fichier\n",
    "#    repertoire\n",
    "#    liste des clefs (codecommunes)\n",
    "#    colonnes entetes a conserver (codecommunes) pour tous sauf la target (on garde les 4)\n",
    "\n",
    "# OUTPUT : dataframe fichier csv controlé et filtré\n",
    "\n",
    "def load_verif_df (file, path, listinfo, lines, cols_entete = ['codecommune'] ) :\n",
    "    file_path = path + file\n",
    "    print(f\"\\n TRAITEMENT : {file_path}\")\n",
    "    if os.path.exists(file_path):\n",
    "        # IMPORT CSV\n",
    "        df_from_csv = pd.read_csv(file_path, encoding='utf-8', sep=';', low_memory=False)\n",
    "        print(f\" > df_from_csv : {df_from_csv.shape}\")\n",
    "        # TEST DIM\n",
    "        if len(lines) == len(df_from_csv) :\n",
    "            # VALIDATION ENTETES\n",
    "            cols = df_from_csv.columns\n",
    "            if np.array_equal(cols[0:4],  ['dep', 'nomdep', 'codecommune', 'nomcommune']) : \n",
    "                # VALIDATION DES CLEFS\n",
    "                if set(lines) == set(df_from_csv['codecommune'].tolist()):                                            \n",
    "                    # LIST DES COLONNES A RECUP & FILTRE\n",
    "                    cols_select = cols_entete + [col for col in cols[4:] if any(col.startswith(prefix) for prefix in listinfo)]\n",
    "                    print(f\"   > {len(cols_select)-1} COLONNES A TRAITER  {cols_select}\")\n",
    "                    return df_from_csv[cols_select]\n",
    "                else : \n",
    "                    print(f\"LISTE DES CLEFS NON RESPECTEE\")\n",
    "            else : \n",
    "                print(f\"COLONNES ENTETES NON VALIDEES  {cols[0:4]}\")\n",
    "        else : \n",
    "            print(f\"ERREUR  {len(lines)} != {len(df_from_csv)}\")\n",
    "    else:\n",
    "        print('FICHIER NON TROUVE', dico_fil)\n",
    "    return pd.DataFrame()"
   ]
  },
  {
   "cell_type": "markdown",
   "id": "dcc1c0fe-8412-4225-9bbf-2ed2c0c17861",
   "metadata": {},
   "source": [
    "### IMPOTER LA TARGET\n",
    "\n",
    "(dico = TAR)"
   ]
  },
  {
   "cell_type": "code",
   "execution_count": 29,
   "id": "fd656025-6bf0-40fd-8833-cf40a656a982",
   "metadata": {},
   "outputs": [
    {
     "name": "stdout",
     "output_type": "stream",
     "text": [
      "\n",
      " TRAITEMENT : ../DATA/EXPORT_CSV/final_TAR_YYY_leg2022comm.csv\n",
      " > df_from_csv : (33830, 30)\n",
      "   > 18 COLONNES A TRAITER  ['dep', 'nomdep', 'codecommune', 'nomcommune', 'TAR_inscrits', 'TAR_votants', 'TAR_exprimes', 'YYY_pvoixAUG', 'YYY_pvoixNUP', 'YYY_pvoixDVG', 'YYY_pvoixECO', 'YYY_pvoixREG', 'YYY_pvoixENS', 'YYY_pvoixUDI', 'YYY_pvoixLR', 'YYY_pvoixDVD', 'YYY_pvoixREC', 'YYY_pvoixRN', 'TAR_electeurs']\n",
      "(33830, 19)\n"
     ]
    }
   ],
   "source": [
    "for dico_fil in list_csv : \n",
    "    if 'TAR' in list_csv[dico_fil] :\n",
    "        df_final = load_verif_df (dico_fil, path, list_csv[dico_fil], lines, cols_entete = ['dep', 'nomdep', 'codecommune', 'nomcommune'])\n",
    "        print (df_final.shape)\n"
   ]
  },
  {
   "cell_type": "markdown",
   "id": "8c9b4681-9575-4d74-aa7a-f0b08b43ee9f",
   "metadata": {},
   "source": [
    "### FUSIONNER LES AUTRES FICHIERS DU DICO \n",
    "(hors TAR)"
   ]
  },
  {
   "cell_type": "code",
   "execution_count": 28,
   "id": "68027f8a-6e15-4b54-922a-3f02fe1275ee",
   "metadata": {},
   "outputs": [
    {
     "name": "stdout",
     "output_type": "stream",
     "text": [
      "\n",
      " TRAITEMENT : ../DATA/EXPORT_CSV/final_GEO_correspondance-code-insee-code-postal.csv\n",
      " > df_from_csv : (33830, 11)\n",
      "   > 2 COLONNES A TRAITER  ['codecommune', 'GEO_latitude', 'GEO_longitude']\n",
      "(33830, 21)\n",
      "\n",
      " TRAITEMENT : ../DATA/EXPORT_CSV/final_KP0_capitalimmobilier.csv\n",
      " > df_from_csv : (33830, 15)\n",
      "   > 10 COLONNES A TRAITER  ['codecommune', 'KP0_Pri_P1', 'KP0_Surf_P1', 'KP0_SurfTer_P1', 'KP0_transac_P1', 'KP0_prim2_P1', 'KP0_Pri_P2', 'KP0_Surf_P2', 'KP0_SurfTer_P2', 'KP0_transac_P2', 'KP0_prim2_P2']\n",
      "(33830, 31)\n",
      "\n",
      " TRAITEMENT : ../DATA/EXPORT_CSV/final_KP1_capitalimmobiliercommunes.csv\n",
      " > df_from_csv : (33830, 13)\n",
      "   > 8 COLONNES A TRAITER  ['codecommune', 'KP1_capitalimmo22', 'KP1_prixbien22', 'KP1_capitalimmo12', 'KP1_prixbien12', 'KP1_capitalimmo02', 'KP1_prixbien02', 'KP1_capitalimmo92', 'KP1_prixbien92']\n",
      "(33830, 39)\n",
      "\n",
      " TRAITEMENT : ../DATA/EXPORT_CSV/final_PRO_proprietairescommunes.csv\n",
      " > df_from_csv : (33830, 13)\n",
      "   > 8 COLONNES A TRAITER  ['codecommune', 'PRO_ppropri22', 'PRO_nlogement22', 'PRO_ppropri12', 'PRO_nlogement12', 'PRO_ppropri02', 'PRO_nlogement02', 'PRO_ppropri92', 'PRO_nlogement92']\n",
      "(33830, 47)\n",
      "\n",
      " TRAITEMENT : ../DATA/EXPORT_CSV/final_TER_terrescommunes.csv\n",
      " > df_from_csv : (33830, 9)\n",
      "   > 4 COLONNES A TRAITER  ['codecommune', 'TER_nexploit', 'TER_surf', 'TER_nexploit68', 'TER_surf68']\n",
      "(33830, 51)\n"
     ]
    }
   ],
   "source": [
    "for dico_fil in list_csv : \n",
    "    if 'TAR' not in list_csv[dico_fil] :\n",
    "        df = load_verif_df (dico_fil, path, list_csv[dico_fil], lines)\n",
    "        df_final = pd.merge(df_final, df, on='codecommune', how='inner')\n",
    "        print(f\"DIMENSIONS df_final EN SORTIE :  {df_final.shape}\")\n",
    "        print (df_final.shape)\n"
   ]
  },
  {
   "cell_type": "code",
   "execution_count": null,
   "id": "ee54131c-7c83-4ac5-b4a0-f3a9dc8ba1b3",
   "metadata": {},
   "outputs": [],
   "source": []
  },
  {
   "cell_type": "code",
   "execution_count": null,
   "id": "a2b7747a-e7ea-44df-861a-8e0081ad6241",
   "metadata": {},
   "outputs": [],
   "source": []
  },
  {
   "cell_type": "markdown",
   "id": "d98935de-5843-4b8a-bb56-0335003bdf0d",
   "metadata": {},
   "source": [
    "## TRAITER LES Nan RESTANTS"
   ]
  },
  {
   "cell_type": "code",
   "execution_count": null,
   "id": "600d629c-42bb-4d1d-9fca-fb599ae74d11",
   "metadata": {},
   "outputs": [],
   "source": []
  },
  {
   "cell_type": "markdown",
   "id": "67154d2f-af8c-4d87-a4bb-6fd225634990",
   "metadata": {},
   "source": [
    "## EXPORTER"
   ]
  },
  {
   "cell_type": "code",
   "execution_count": null,
   "id": "855c522d-e169-4e37-981b-4ede52216a9e",
   "metadata": {},
   "outputs": [],
   "source": []
  },
  {
   "cell_type": "code",
   "execution_count": null,
   "id": "cd0d515f-ecf5-46b4-a044-854bb2ecf3f1",
   "metadata": {},
   "outputs": [],
   "source": []
  }
 ],
 "metadata": {
  "kernelspec": {
   "display_name": "Python 3 (ipykernel)",
   "language": "python",
   "name": "python3"
  },
  "language_info": {
   "codemirror_mode": {
    "name": "ipython",
    "version": 3
   },
   "file_extension": ".py",
   "mimetype": "text/x-python",
   "name": "python",
   "nbconvert_exporter": "python",
   "pygments_lexer": "ipython3",
   "version": "3.10.12"
  }
 },
 "nbformat": 4,
 "nbformat_minor": 5
}
