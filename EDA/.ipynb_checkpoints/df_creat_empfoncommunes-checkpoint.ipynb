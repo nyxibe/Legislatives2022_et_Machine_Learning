{
 "cells": [
  {
   "cell_type": "markdown",
   "id": "ea3e4cdc-4ad0-480e-8a5e-0e4e4dee9ac3",
   "metadata": {},
   "source": [
    "## <center>  Model Creat Dataframe to EXPORT from CSV<br/></center>\n",
    "<a name=\"TOP\">dev :\n",
    "    Fichier CSV :  xxxxxxx.csv</a>\n",
    "    \n",
    "# Description Fichiers :\n",
    "\n",
    "# Synthese des Actions :\n",
    "\n",
    "  \n",
    "**<u>MENU</u>** \n",
    "- <a href=\"#EDA\">P0 : Mini EDA</a>\n",
    "- <a href=\"#Import\">P1 : Import CSV</a>\n",
    "- <a href=\"#Nan\">P1 : Traitement des Nan</a>\n",
    "- <a href=\"#Nan\">P2 : Filtres et calculs</a>\n",
    "- <a href=\"#Nan\">P3 : EXPORT (/DATA/EXPORT_CSV/final_xxxxxxx.csv)</a>"
   ]
  },
  {
   "cell_type": "code",
   "execution_count": 24,
   "id": "eb2f0c93",
   "metadata": {},
   "outputs": [
    {
     "name": "stdout",
     "output_type": "stream",
     "text": [
      "Requirement already satisfied: matplotlib in /home/claire/.pyenv/versions/3.10.4/envs/.hcp/lib/python3.10/site-packages (3.8.2)\n",
      "Requirement already satisfied: python-dateutil>=2.7 in /home/claire/.pyenv/versions/3.10.4/envs/.hcp/lib/python3.10/site-packages (from matplotlib) (2.8.2)\n",
      "Requirement already satisfied: numpy<2,>=1.21 in /home/claire/.pyenv/versions/3.10.4/envs/.hcp/lib/python3.10/site-packages (from matplotlib) (1.26.3)\n",
      "Requirement already satisfied: pyparsing>=2.3.1 in /home/claire/.pyenv/versions/3.10.4/envs/.hcp/lib/python3.10/site-packages (from matplotlib) (3.1.1)\n",
      "Requirement already satisfied: kiwisolver>=1.3.1 in /home/claire/.pyenv/versions/3.10.4/envs/.hcp/lib/python3.10/site-packages (from matplotlib) (1.4.5)\n",
      "Requirement already satisfied: contourpy>=1.0.1 in /home/claire/.pyenv/versions/3.10.4/envs/.hcp/lib/python3.10/site-packages (from matplotlib) (1.2.0)\n",
      "Requirement already satisfied: pillow>=8 in /home/claire/.pyenv/versions/3.10.4/envs/.hcp/lib/python3.10/site-packages (from matplotlib) (10.2.0)\n",
      "Requirement already satisfied: fonttools>=4.22.0 in /home/claire/.pyenv/versions/3.10.4/envs/.hcp/lib/python3.10/site-packages (from matplotlib) (4.47.2)\n",
      "Requirement already satisfied: cycler>=0.10 in /home/claire/.pyenv/versions/3.10.4/envs/.hcp/lib/python3.10/site-packages (from matplotlib) (0.12.1)\n",
      "Requirement already satisfied: packaging>=20.0 in /home/claire/.pyenv/versions/3.10.4/envs/.hcp/lib/python3.10/site-packages (from matplotlib) (23.2)\n",
      "Requirement already satisfied: six>=1.5 in /home/claire/.pyenv/versions/3.10.4/envs/.hcp/lib/python3.10/site-packages (from python-dateutil>=2.7->matplotlib) (1.16.0)\n",
      "\u001b[33mWARNING: You are using pip version 22.0.4; however, version 23.3.2 is available.\n",
      "You should consider upgrading via the '/home/claire/.pyenv/versions/3.10.4/envs/.hcp/bin/python -m pip install --upgrade pip' command.\u001b[0m\u001b[33m\n",
      "\u001b[0m"
     ]
    }
   ],
   "source": [
    "!pip install matplotlib"
   ]
  },
  {
   "cell_type": "code",
   "execution_count": 25,
   "id": "fa89b09c-9546-4c44-8d26-4b5e2964667a",
   "metadata": {},
   "outputs": [],
   "source": [
    "import pandas as pd\n",
    "import matplotlib.pyplot as plt\n",
    "import numpy as np"
   ]
  },
  {
   "cell_type": "markdown",
   "id": "0ace3e62-c0be-4b2f-8c07-37064f44451f",
   "metadata": {},
   "source": [
    "## <a name=\"EDA\"></a>Partie 0 : Mini EDA &nbsp;&nbsp;&nbsp;&nbsp;&nbsp;<a href=\"#TOP\">&uarr;</a>"
   ]
  },
  {
   "cell_type": "markdown",
   "id": "f473b493",
   "metadata": {},
   "source": [
    "emp: Emploi total\n",
    "\n",
    "adm: Administration publique\n",
    "\n",
    "agr: Agriculture\n",
    "\n",
    "btp: Bâtiment et travaux publics\n",
    "\n",
    "cie: Commerce, transports, et services divers\n",
    "\n",
    "cre: Création artistique, spectacles, et activités récréatives\n",
    "\n",
    "loi: Activités immobilières\n",
    "\n",
    "dis: Activités des ménages en tant qu'employeurs\n",
    "\n",
    "edu: Enseignement\n",
    "\n",
    "rep: Santé humaine et action sociale\n",
    "\n",
    "fab: Industrie manufacturière\n",
    "\n",
    "bag: Activités financières et d'assurance\n",
    "\n",
    "tra: Information et communication\n",
    "\n",
    "con: Activités spécialisées, scientifiques, et techniques\n",
    "\n",
    "san: Autres activités de services"
   ]
  },
  {
   "cell_type": "markdown",
   "id": "a972d34f-9fca-4224-ac82-f7ea26394836",
   "metadata": {},
   "source": [
    "## <a name=\"Import\"></a>Partie 1 : Import CSV&nbsp;&nbsp;&nbsp;&nbsp;&nbsp;<a href=\"#TOP\">&uarr;</a>"
   ]
  },
  {
   "cell_type": "code",
   "execution_count": 26,
   "id": "e2924448-8c43-4e2e-9ff4-a6aff4754e33",
   "metadata": {},
   "outputs": [
    {
     "name": "stderr",
     "output_type": "stream",
     "text": [
      "/tmp/ipykernel_6627/2852485540.py:1: DtypeWarning: Columns (0,2) have mixed types. Specify dtype option on import or set low_memory=False.\n",
      "  df = pd.read_csv('empfoncommunes.csv')\n"
     ]
    },
    {
     "data": {
      "text/plain": [
       "(34841, 190)"
      ]
     },
     "execution_count": 26,
     "metadata": {},
     "output_type": "execute_result"
    }
   ],
   "source": [
    "df = pd.read_csv('empfoncommunes.csv')\n",
    "df.shape"
   ]
  },
  {
   "cell_type": "code",
   "execution_count": 27,
   "id": "e2c52e3c",
   "metadata": {},
   "outputs": [
    {
     "name": "stdout",
     "output_type": "stream",
     "text": [
      "<class 'pandas.core.frame.DataFrame'>\n",
      "RangeIndex: 34841 entries, 0 to 34840\n",
      "Data columns (total 190 columns):\n",
      " #    Column       Dtype  \n",
      "---   ------       -----  \n",
      " 0    dep          object \n",
      " 1    nomdep       object \n",
      " 2    codecommune  object \n",
      " 3    nomcommune   object \n",
      " 4    emp1982      int64  \n",
      " 5    adm1982      int64  \n",
      " 6    agr1982      int64  \n",
      " 7    btp1982      int64  \n",
      " 8    cie1982      int64  \n",
      " 9    cre1982      int64  \n",
      " 10   loi1982      int64  \n",
      " 11   dis1982      int64  \n",
      " 12   edu1982      int64  \n",
      " 13   rep1982      int64  \n",
      " 14   fab1982      int64  \n",
      " 15   bag1982      int64  \n",
      " 16   tra1982      int64  \n",
      " 17   con1982      int64  \n",
      " 18   san1982      int64  \n",
      " 19   res1982      int64  \n",
      " 20   padm1982     float64\n",
      " 21   pagr1982     float64\n",
      " 22   pbtp1982     float64\n",
      " 23   pcie1982     float64\n",
      " 24   pcre1982     float64\n",
      " 25   ploi1982     float64\n",
      " 26   pdis1982     float64\n",
      " 27   pedu1982     float64\n",
      " 28   prep1982     float64\n",
      " 29   pfab1982     float64\n",
      " 30   pbag1982     float64\n",
      " 31   ptra1982     float64\n",
      " 32   pcon1982     float64\n",
      " 33   psan1982     float64\n",
      " 34   pres1982     float64\n",
      " 35   emp1990      int64  \n",
      " 36   adm1990      int64  \n",
      " 37   agr1990      int64  \n",
      " 38   btp1990      int64  \n",
      " 39   cie1990      int64  \n",
      " 40   cre1990      int64  \n",
      " 41   loi1990      int64  \n",
      " 42   dis1990      int64  \n",
      " 43   edu1990      int64  \n",
      " 44   rep1990      int64  \n",
      " 45   fab1990      int64  \n",
      " 46   bag1990      int64  \n",
      " 47   tra1990      int64  \n",
      " 48   con1990      int64  \n",
      " 49   san1990      int64  \n",
      " 50   res1990      int64  \n",
      " 51   padm1990     float64\n",
      " 52   pagr1990     float64\n",
      " 53   pbtp1990     float64\n",
      " 54   pcie1990     float64\n",
      " 55   pcre1990     float64\n",
      " 56   ploi1990     float64\n",
      " 57   pdis1990     float64\n",
      " 58   pedu1990     float64\n",
      " 59   prep1990     float64\n",
      " 60   pfab1990     float64\n",
      " 61   pbag1990     float64\n",
      " 62   ptra1990     float64\n",
      " 63   pcon1990     float64\n",
      " 64   psan1990     float64\n",
      " 65   pres1990     float64\n",
      " 66   emp1999      int64  \n",
      " 67   adm1999      int64  \n",
      " 68   agr1999      int64  \n",
      " 69   btp1999      int64  \n",
      " 70   cie1999      int64  \n",
      " 71   cre1999      int64  \n",
      " 72   loi1999      int64  \n",
      " 73   dis1999      int64  \n",
      " 74   edu1999      int64  \n",
      " 75   rep1999      int64  \n",
      " 76   fab1999      int64  \n",
      " 77   bag1999      int64  \n",
      " 78   tra1999      int64  \n",
      " 79   con1999      int64  \n",
      " 80   san1999      int64  \n",
      " 81   res1999      int64  \n",
      " 82   padm1999     float64\n",
      " 83   pagr1999     float64\n",
      " 84   pbtp1999     float64\n",
      " 85   pcie1999     float64\n",
      " 86   pcre1999     float64\n",
      " 87   ploi1999     float64\n",
      " 88   pdis1999     float64\n",
      " 89   pedu1999     float64\n",
      " 90   prep1999     float64\n",
      " 91   pfab1999     float64\n",
      " 92   pbag1999     float64\n",
      " 93   ptra1999     float64\n",
      " 94   pcon1999     float64\n",
      " 95   psan1999     float64\n",
      " 96   pres1999     float64\n",
      " 97   emp2006      float64\n",
      " 98   adm2006      float64\n",
      " 99   agr2006      float64\n",
      " 100  btp2006      float64\n",
      " 101  cie2006      float64\n",
      " 102  cre2006      float64\n",
      " 103  loi2006      float64\n",
      " 104  dis2006      float64\n",
      " 105  edu2006      float64\n",
      " 106  rep2006      float64\n",
      " 107  fab2006      float64\n",
      " 108  bag2006      float64\n",
      " 109  tra2006      float64\n",
      " 110  con2006      float64\n",
      " 111  san2006      float64\n",
      " 112  res2006      float64\n",
      " 113  padm2006     float64\n",
      " 114  pagr2006     float64\n",
      " 115  pbtp2006     float64\n",
      " 116  pcie2006     float64\n",
      " 117  pcre2006     float64\n",
      " 118  ploi2006     float64\n",
      " 119  pdis2006     float64\n",
      " 120  pedu2006     float64\n",
      " 121  prep2006     float64\n",
      " 122  pfab2006     float64\n",
      " 123  pbag2006     float64\n",
      " 124  ptra2006     float64\n",
      " 125  pcon2006     float64\n",
      " 126  psan2006     float64\n",
      " 127  pres2006     float64\n",
      " 128  emp2011      float64\n",
      " 129  adm2011      float64\n",
      " 130  agr2011      float64\n",
      " 131  btp2011      float64\n",
      " 132  cie2011      float64\n",
      " 133  cre2011      float64\n",
      " 134  loi2011      float64\n",
      " 135  dis2011      float64\n",
      " 136  edu2011      float64\n",
      " 137  rep2011      float64\n",
      " 138  fab2011      float64\n",
      " 139  bag2011      float64\n",
      " 140  tra2011      float64\n",
      " 141  con2011      float64\n",
      " 142  san2011      float64\n",
      " 143  res2011      float64\n",
      " 144  padm2011     float64\n",
      " 145  pagr2011     float64\n",
      " 146  pbtp2011     float64\n",
      " 147  pcie2011     float64\n",
      " 148  pcre2011     float64\n",
      " 149  ploi2011     float64\n",
      " 150  pdis2011     float64\n",
      " 151  pedu2011     float64\n",
      " 152  prep2011     float64\n",
      " 153  pfab2011     float64\n",
      " 154  pbag2011     float64\n",
      " 155  ptra2011     float64\n",
      " 156  pcon2011     float64\n",
      " 157  psan2011     float64\n",
      " 158  pres2011     float64\n",
      " 159  emp2016      float64\n",
      " 160  adm2016      float64\n",
      " 161  agr2016      float64\n",
      " 162  btp2016      float64\n",
      " 163  cie2016      float64\n",
      " 164  cre2016      float64\n",
      " 165  loi2016      float64\n",
      " 166  dis2016      float64\n",
      " 167  edu2016      float64\n",
      " 168  rep2016      float64\n",
      " 169  fab2016      float64\n",
      " 170  bag2016      float64\n",
      " 171  tra2016      float64\n",
      " 172  con2016      float64\n",
      " 173  san2016      float64\n",
      " 174  res2016      float64\n",
      " 175  padm2016     float64\n",
      " 176  pagr2016     float64\n",
      " 177  pbtp2016     float64\n",
      " 178  pcie2016     float64\n",
      " 179  pcre2016     float64\n",
      " 180  ploi2016     float64\n",
      " 181  pdis2016     float64\n",
      " 182  pedu2016     float64\n",
      " 183  prep2016     float64\n",
      " 184  pfab2016     float64\n",
      " 185  pbag2016     float64\n",
      " 186  ptra2016     float64\n",
      " 187  pcon2016     float64\n",
      " 188  psan2016     float64\n",
      " 189  pres2016     float64\n",
      "dtypes: float64(138), int64(48), object(4)\n",
      "memory usage: 50.5+ MB\n"
     ]
    }
   ],
   "source": [
    "df.info(5)"
   ]
  },
  {
   "cell_type": "code",
   "execution_count": 28,
   "id": "2f9fa22a-3237-4131-9fae-b4604341807f",
   "metadata": {},
   "outputs": [
    {
     "data": {
      "text/plain": [
       "Index(['dep', 'nomdep', 'codecommune', 'nomcommune', 'emp1982', 'adm1982',\n",
       "       'agr1982', 'btp1982', 'cie1982', 'cre1982',\n",
       "       ...\n",
       "       'ploi2016', 'pdis2016', 'pedu2016', 'prep2016', 'pfab2016', 'pbag2016',\n",
       "       'ptra2016', 'pcon2016', 'psan2016', 'pres2016'],\n",
       "      dtype='object', length=190)"
      ]
     },
     "execution_count": 28,
     "metadata": {},
     "output_type": "execute_result"
    }
   ],
   "source": [
    "df.columns"
   ]
  },
  {
   "cell_type": "markdown",
   "id": "949161b6",
   "metadata": {},
   "source": [
    "## <a name=\"Import\"></a>Partie 2 : Renommer &nbsp;&nbsp;&nbsp;&nbsp;&nbsp;<a href=\"#TOP\">&uarr;</a>"
   ]
  },
  {
   "cell_type": "code",
   "execution_count": 29,
   "id": "ff85550a",
   "metadata": {},
   "outputs": [],
   "source": [
    "df['codecommune'] = df['codecommune'].astype(str).str.zfill(5)"
   ]
  },
  {
   "cell_type": "code",
   "execution_count": 30,
   "id": "fe5053a4",
   "metadata": {},
   "outputs": [
    {
     "name": "stdout",
     "output_type": "stream",
     "text": [
      "['01001', '01002', '01004', '01005', '01006', '01007', '01008', '01009', '01010', '01011'] 33830\n"
     ]
    }
   ],
   "source": [
    "file_path = '../DATA/list_codecommune_leg2022_50inscrits.txt'\n",
    "with open(file_path, 'r', encoding='utf-8') as file:\n",
    "    lines = [line.strip() for line in file.readlines()]\n",
    "\n",
    "print(lines[0:10], len(lines))"
   ]
  },
  {
   "cell_type": "code",
   "execution_count": 31,
   "id": "b6c3b0b7",
   "metadata": {},
   "outputs": [
    {
     "data": {
      "text/plain": [
       "51"
      ]
     },
     "execution_count": 31,
     "metadata": {},
     "output_type": "execute_result"
    }
   ],
   "source": [
    "codecommune_listdf = df['codecommune'].tolist()\n",
    "absent = [x for x in lines if x not in codecommune_listdf]\n",
    "len (absent)"
   ]
  },
  {
   "cell_type": "code",
   "execution_count": 32,
   "id": "e6030dbf",
   "metadata": {},
   "outputs": [
    {
     "data": {
      "text/plain": [
       "(33779, 190)"
      ]
     },
     "execution_count": 32,
     "metadata": {},
     "output_type": "execute_result"
    }
   ],
   "source": [
    "df_filtered = df[df['codecommune'].isin(lines)]\n",
    "df_filtered.shape"
   ]
  },
  {
   "cell_type": "code",
   "execution_count": 33,
   "id": "b7b06f5b",
   "metadata": {},
   "outputs": [],
   "source": [
    "col = []\n",
    "for c in df_filtered.columns:\n",
    "    if ('2016' in c or '2006' in c) and not c.startswith('p'):\n",
    "        col.append(c)\n"
   ]
  },
  {
   "cell_type": "code",
   "execution_count": 34,
   "id": "c45a51fe",
   "metadata": {},
   "outputs": [],
   "source": [
    "df_final = df_filtered[col]"
   ]
  },
  {
   "cell_type": "code",
   "execution_count": 35,
   "id": "4b6cd81c",
   "metadata": {},
   "outputs": [],
   "source": [
    "df_final.columns = 'EMP_' + df_final.columns"
   ]
  },
  {
   "cell_type": "code",
   "execution_count": 36,
   "id": "150edbdf",
   "metadata": {},
   "outputs": [
    {
     "data": {
      "text/html": [
       "<div>\n",
       "<style scoped>\n",
       "    .dataframe tbody tr th:only-of-type {\n",
       "        vertical-align: middle;\n",
       "    }\n",
       "\n",
       "    .dataframe tbody tr th {\n",
       "        vertical-align: top;\n",
       "    }\n",
       "\n",
       "    .dataframe thead th {\n",
       "        text-align: right;\n",
       "    }\n",
       "</style>\n",
       "<table border=\"1\" class=\"dataframe\">\n",
       "  <thead>\n",
       "    <tr style=\"text-align: right;\">\n",
       "      <th></th>\n",
       "      <th>EMP_emp2006</th>\n",
       "      <th>EMP_adm2006</th>\n",
       "      <th>EMP_agr2006</th>\n",
       "      <th>EMP_btp2006</th>\n",
       "      <th>EMP_cie2006</th>\n",
       "      <th>EMP_cre2006</th>\n",
       "      <th>EMP_loi2006</th>\n",
       "      <th>EMP_dis2006</th>\n",
       "      <th>EMP_edu2006</th>\n",
       "      <th>EMP_rep2006</th>\n",
       "      <th>...</th>\n",
       "      <th>EMP_loi2016</th>\n",
       "      <th>EMP_dis2016</th>\n",
       "      <th>EMP_edu2016</th>\n",
       "      <th>EMP_rep2016</th>\n",
       "      <th>EMP_fab2016</th>\n",
       "      <th>EMP_bag2016</th>\n",
       "      <th>EMP_tra2016</th>\n",
       "      <th>EMP_con2016</th>\n",
       "      <th>EMP_san2016</th>\n",
       "      <th>EMP_res2016</th>\n",
       "    </tr>\n",
       "  </thead>\n",
       "  <tbody>\n",
       "    <tr>\n",
       "      <th>0</th>\n",
       "      <td>116.37864</td>\n",
       "      <td>9.143335</td>\n",
       "      <td>35.265633</td>\n",
       "      <td>0.0</td>\n",
       "      <td>8.0</td>\n",
       "      <td>0.0</td>\n",
       "      <td>4.0</td>\n",
       "      <td>4.100596</td>\n",
       "      <td>20.06377</td>\n",
       "      <td>4.0</td>\n",
       "      <td>...</td>\n",
       "      <td>5.0</td>\n",
       "      <td>5.030074</td>\n",
       "      <td>3.367004</td>\n",
       "      <td>9.827776</td>\n",
       "      <td>0.0</td>\n",
       "      <td>10.0</td>\n",
       "      <td>5.0</td>\n",
       "      <td>0.0</td>\n",
       "      <td>15.0</td>\n",
       "      <td>15.0</td>\n",
       "    </tr>\n",
       "  </tbody>\n",
       "</table>\n",
       "<p>1 rows × 32 columns</p>\n",
       "</div>"
      ],
      "text/plain": [
       "   EMP_emp2006  EMP_adm2006  EMP_agr2006  EMP_btp2006  EMP_cie2006  \\\n",
       "0    116.37864     9.143335    35.265633          0.0          8.0   \n",
       "\n",
       "   EMP_cre2006  EMP_loi2006  EMP_dis2006  EMP_edu2006  EMP_rep2006  ...  \\\n",
       "0          0.0          4.0     4.100596     20.06377          4.0  ...   \n",
       "\n",
       "   EMP_loi2016  EMP_dis2016  EMP_edu2016  EMP_rep2016  EMP_fab2016  \\\n",
       "0          5.0     5.030074     3.367004     9.827776          0.0   \n",
       "\n",
       "   EMP_bag2016  EMP_tra2016  EMP_con2016  EMP_san2016  EMP_res2016  \n",
       "0         10.0          5.0          0.0         15.0         15.0  \n",
       "\n",
       "[1 rows x 32 columns]"
      ]
     },
     "execution_count": 36,
     "metadata": {},
     "output_type": "execute_result"
    }
   ],
   "source": [
    "df_final.head(1)"
   ]
  },
  {
   "cell_type": "code",
   "execution_count": 37,
   "id": "99b89c27",
   "metadata": {},
   "outputs": [],
   "source": [
    "df_final = pd.concat([df_filtered[['dep', 'nomdep', 'codecommune', 'nomcommune']], df_final], axis = 1)"
   ]
  },
  {
   "cell_type": "code",
   "execution_count": 38,
   "id": "000f6377",
   "metadata": {},
   "outputs": [
    {
     "data": {
      "text/html": [
       "<div>\n",
       "<style scoped>\n",
       "    .dataframe tbody tr th:only-of-type {\n",
       "        vertical-align: middle;\n",
       "    }\n",
       "\n",
       "    .dataframe tbody tr th {\n",
       "        vertical-align: top;\n",
       "    }\n",
       "\n",
       "    .dataframe thead th {\n",
       "        text-align: right;\n",
       "    }\n",
       "</style>\n",
       "<table border=\"1\" class=\"dataframe\">\n",
       "  <thead>\n",
       "    <tr style=\"text-align: right;\">\n",
       "      <th></th>\n",
       "      <th>dep</th>\n",
       "      <th>nomdep</th>\n",
       "      <th>codecommune</th>\n",
       "      <th>nomcommune</th>\n",
       "      <th>EMP_emp2006</th>\n",
       "      <th>EMP_adm2006</th>\n",
       "      <th>EMP_agr2006</th>\n",
       "      <th>EMP_btp2006</th>\n",
       "      <th>EMP_cie2006</th>\n",
       "      <th>EMP_cre2006</th>\n",
       "      <th>...</th>\n",
       "      <th>EMP_loi2016</th>\n",
       "      <th>EMP_dis2016</th>\n",
       "      <th>EMP_edu2016</th>\n",
       "      <th>EMP_rep2016</th>\n",
       "      <th>EMP_fab2016</th>\n",
       "      <th>EMP_bag2016</th>\n",
       "      <th>EMP_tra2016</th>\n",
       "      <th>EMP_con2016</th>\n",
       "      <th>EMP_san2016</th>\n",
       "      <th>EMP_res2016</th>\n",
       "    </tr>\n",
       "  </thead>\n",
       "  <tbody>\n",
       "    <tr>\n",
       "      <th>0</th>\n",
       "      <td>1</td>\n",
       "      <td>AIN</td>\n",
       "      <td>01001</td>\n",
       "      <td>ABERGEMENT-CLÉMENCIAT</td>\n",
       "      <td>116.37864</td>\n",
       "      <td>9.143335</td>\n",
       "      <td>35.265633</td>\n",
       "      <td>0.0</td>\n",
       "      <td>8.0</td>\n",
       "      <td>0.0</td>\n",
       "      <td>...</td>\n",
       "      <td>5.0</td>\n",
       "      <td>5.030074</td>\n",
       "      <td>3.367004</td>\n",
       "      <td>9.827776</td>\n",
       "      <td>0.0</td>\n",
       "      <td>10.0</td>\n",
       "      <td>5.0</td>\n",
       "      <td>0.0</td>\n",
       "      <td>15.0</td>\n",
       "      <td>15.0</td>\n",
       "    </tr>\n",
       "  </tbody>\n",
       "</table>\n",
       "<p>1 rows × 36 columns</p>\n",
       "</div>"
      ],
      "text/plain": [
       "  dep nomdep codecommune             nomcommune  EMP_emp2006  EMP_adm2006  \\\n",
       "0   1    AIN       01001  ABERGEMENT-CLÉMENCIAT    116.37864     9.143335   \n",
       "\n",
       "   EMP_agr2006  EMP_btp2006  EMP_cie2006  EMP_cre2006  ...  EMP_loi2016  \\\n",
       "0    35.265633          0.0          8.0          0.0  ...          5.0   \n",
       "\n",
       "   EMP_dis2016  EMP_edu2016  EMP_rep2016  EMP_fab2016  EMP_bag2016  \\\n",
       "0     5.030074     3.367004     9.827776          0.0         10.0   \n",
       "\n",
       "   EMP_tra2016  EMP_con2016  EMP_san2016  EMP_res2016  \n",
       "0          5.0          0.0         15.0         15.0  \n",
       "\n",
       "[1 rows x 36 columns]"
      ]
     },
     "execution_count": 38,
     "metadata": {},
     "output_type": "execute_result"
    }
   ],
   "source": [
    "df_final.head(1)"
   ]
  },
  {
   "cell_type": "code",
   "execution_count": 15,
   "id": "e2e29445",
   "metadata": {},
   "outputs": [
    {
     "data": {
      "text/plain": [
       "dep            0\n",
       "nomdep         0\n",
       "codecommune    0\n",
       "nomcommune     0\n",
       "EMP_emp2006    0\n",
       "EMP_adm2006    0\n",
       "EMP_agr2006    0\n",
       "EMP_btp2006    0\n",
       "EMP_cie2006    0\n",
       "EMP_cre2006    0\n",
       "EMP_loi2006    0\n",
       "EMP_dis2006    0\n",
       "EMP_edu2006    0\n",
       "EMP_rep2006    0\n",
       "EMP_fab2006    0\n",
       "EMP_bag2006    0\n",
       "EMP_tra2006    0\n",
       "EMP_con2006    0\n",
       "EMP_san2006    0\n",
       "EMP_res2006    0\n",
       "EMP_emp2016    0\n",
       "EMP_adm2016    0\n",
       "EMP_agr2016    0\n",
       "EMP_btp2016    0\n",
       "EMP_cie2016    0\n",
       "EMP_cre2016    0\n",
       "EMP_loi2016    0\n",
       "EMP_dis2016    0\n",
       "EMP_edu2016    0\n",
       "EMP_rep2016    0\n",
       "EMP_fab2016    0\n",
       "EMP_bag2016    0\n",
       "EMP_tra2016    0\n",
       "EMP_con2016    0\n",
       "EMP_san2016    0\n",
       "EMP_res2016    0\n",
       "dtype: int64"
      ]
     },
     "execution_count": 15,
     "metadata": {},
     "output_type": "execute_result"
    }
   ],
   "source": [
    "df_final.isna().sum()"
   ]
  },
  {
   "cell_type": "code",
   "execution_count": 16,
   "id": "1a5120db",
   "metadata": {},
   "outputs": [
    {
     "data": {
      "image/png": "[encoded data removed]",
      "text/plain": [
       "<Figure size 800x800 with 1 Axes>"
      ]
     },
     "metadata": {},
     "output_type": "display_data"
    }
   ],
   "source": [
    "data = df_final[['EMP_adm2006','EMP_agr2006','EMP_btp2006','EMP_cie2006','EMP_cre2006','EMP_loi2006','EMP_dis2006','EMP_edu2006','EMP_rep2006','EMP_fab2006','EMP_bag2006','EMP_tra2006','EMP_con2006','EMP_san2006','EMP_res2006']]\n",
    "total = data.sum().sum()\n",
    "pourcentages = (data / total) * 100\n",
    "\n",
    "# Créer le graphique camembert\n",
    "plt.figure(figsize=(8, 8))\n",
    "plt.pie(pourcentages.iloc[0], labels=pourcentages.columns, autopct='%1.1f%%', startangle=140)\n",
    "plt.title('Répartition des secteurs d\\'emploi')\n",
    "plt.show()"
   ]
  },
  {
   "cell_type": "code",
   "execution_count": 39,
   "id": "dcb27fe2",
   "metadata": {},
   "outputs": [],
   "source": [
    "df_final['EMP_btp_cie2006'] = df_final.EMP_btp2006 + df_final.EMP_cie2006\n",
    "df_final['EMP_btp_cie2016'] = df_final.EMP_btp2016 + df_final.EMP_cie2016\n",
    "\n",
    "\n",
    "df_final['EMP_rep_con2016'] = df_final.EMP_rep2016 + df_final.EMP_con2016\n",
    "df_final['EMP_rep_con2006'] = df_final.EMP_rep2006 + df_final.EMP_con2006\n"
   ]
  },
  {
   "cell_type": "code",
   "execution_count": 40,
   "id": "98c04e6d",
   "metadata": {},
   "outputs": [],
   "source": [
    "df_final = df_final.drop(['EMP_btp2006','EMP_btp2016','EMP_cie2006','EMP_cie2016'], axis=1)\n",
    "df_final = df_final.drop(['EMP_rep2016','EMP_rep2006','EMP_con2016','EMP_con2006'], axis=1)"
   ]
  },
  {
   "cell_type": "code",
   "execution_count": 41,
   "id": "f8d8aff4",
   "metadata": {},
   "outputs": [],
   "source": [
    "df_final['DBL_bug'] = 0"
   ]
  },
  {
   "cell_type": "code",
   "execution_count": 42,
   "id": "fa1545b8",
   "metadata": {},
   "outputs": [
    {
     "data": {
      "text/plain": [
       "(33779, 33)"
      ]
     },
     "execution_count": 42,
     "metadata": {},
     "output_type": "execute_result"
    }
   ],
   "source": [
    "df_final.shape"
   ]
  },
  {
   "cell_type": "code",
   "execution_count": 43,
   "id": "c3eec6bd",
   "metadata": {},
   "outputs": [
    {
     "data": {
      "text/plain": [
       "33"
      ]
     },
     "execution_count": 43,
     "metadata": {},
     "output_type": "execute_result"
    }
   ],
   "source": [
    "new_row = ['*', '*', 'code', '*'] + [np.nan] * 28+[1]\n",
    "len (new_row)"
   ]
  },
  {
   "cell_type": "code",
   "execution_count": 44,
   "id": "6882cf2c",
   "metadata": {},
   "outputs": [
    {
     "data": {
      "text/plain": [
       "(33830, 33)"
      ]
     },
     "execution_count": 44,
     "metadata": {},
     "output_type": "execute_result"
    }
   ],
   "source": [
    "for i,code in enumerate(absent) :\n",
    "    new_row = ['*', '*', code, '*'] + [np.nan] * 28 + [1]\n",
    "    row_df = pd.DataFrame([new_row], columns=df_final.columns)\n",
    "    df_final = pd.concat([df_final, row_df], ignore_index=True)\n",
    "df_final.shape"
   ]
  },
  {
   "cell_type": "markdown",
   "id": "5314cb82",
   "metadata": {},
   "source": [
    "## <a name=\"Import\"></a>Partie 3 : Export CSV&nbsp;&nbsp;&nbsp;&nbsp;&nbsp;<a href=\"#TOP\">&uarr;</a>"
   ]
  },
  {
   "cell_type": "code",
   "execution_count": 45,
   "id": "9a71f8f1",
   "metadata": {},
   "outputs": [],
   "source": [
    "df_final.to_csv('../DATA/EXPORT_CSV/final_EMP_empfoncommunes.csv', sep = ';', index=False)"
   ]
  },
  {
   "cell_type": "code",
   "execution_count": null,
   "id": "d8964103",
   "metadata": {},
   "outputs": [],
   "source": []
  }
 ],
 "metadata": {
  "kernelspec": {
   "display_name": "Python 3 (ipykernel)",
   "language": "python",
   "name": "python3"
  },
  "language_info": {
   "codemirror_mode": {
    "name": "ipython",
    "version": 3
   },
   "file_extension": ".py",
   "mimetype": "text/x-python",
   "name": "python",
   "nbconvert_exporter": "python",
   "pygments_lexer": "ipython3",
   "version": "3.10.12"
  }
 },
 "nbformat": 4,
 "nbformat_minor": 5
}
