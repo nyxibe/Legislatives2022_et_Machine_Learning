{
 "cells": [
  {
   "cell_type": "markdown",
   "id": "ea3e4cdc-4ad0-480e-8a5e-0e4e4dee9ac3",
   "metadata": {},
   "source": [
    "## <center>  Model Creat Dataframe to EXPORT from CSV<br/></center>\n",
    "<a name=\"TOP\"></a>dev :\n",
    "    Fichier CSV :  xxxxxxx.csv</a>\n",
    "    \n",
    "# Description Fichiers :\n",
    "\n",
    "# Synthese des Actions :\n",
    "\n",
    "  \n",
    "**<u>MENU</u>** \n",
    "- <a href=\"#Import\">P0 : Import CSV</a>\n",
    "- <a href=\"#EDA\">P1 : Mini EDA</a>\n",
    "- <a href=\"#Nan\">P2 : Traitement des Nan</a>\n",
    "- <a href=\"#TRANSCO\">P3 : Filtres et/ou calculs</a>\n",
    "- <a href=\"#EXPORT\">P4 : EXPORT (/DATA/EXPORT_CSV/final_xxxxxxx.csv)</a>\n",
    "\n",
    "\n",
    "\n"
   ]
  },
  {
   "cell_type": "markdown",
   "id": "ca339594-e0cb-478d-b4fb-3e1af6de883d",
   "metadata": {},
   "source": [
    "PREFIXE FICHIER : ABC\n",
    "\n",
    "Structure :\n",
    "\n",
    "    dep                           \n",
    "    nomdep              \n",
    "    codecommune                \n",
    "    nomcommune     \n",
    "    ABC_nom_col1  \n",
    "    ABC_nom_col2\n",
    "    DBL_nom_col3 (ne pas integrer)\n",
    "    DBL_nom_col4 (ne pas integrer)\n",
    "    ABC_nom_col5\n",
    "    ABC_nom_col6\n",
    "    ....\n",
    "\n",
    "ATTENTION \n",
    "NE PAS GARDER TOUTES LES COLONNES !! \n",
    "DBL_ si info importante pour eventuel calcul de % par exmple\n"
   ]
  },
  {
   "cell_type": "markdown",
   "id": "baa4ba11-c303-401b-b654-f6d5a2f6b7b4",
   "metadata": {},
   "source": [
    "## <a name=\"Import\"></a>Partie 0 : Import CSV&nbsp;&nbsp;&nbsp;&nbsp;&nbsp; <a href=\"#TOP\">&uarr;</a>"
   ]
  },
  {
   "cell_type": "code",
   "execution_count": null,
   "id": "ecb3e9b4-2828-46be-a3bc-0c3b7ffc9689",
   "metadata": {},
   "outputs": [],
   "source": []
  },
  {
   "cell_type": "code",
   "execution_count": null,
   "id": "fa89b09c-9546-4c44-8d26-4b5e2964667a",
   "metadata": {},
   "outputs": [],
   "source": []
  },
  {
   "cell_type": "markdown",
   "id": "0ace3e62-c0be-4b2f-8c07-37064f44451f",
   "metadata": {},
   "source": [
    "## <a name=\"EDA\"></a>Partie 1 : Mini EDA &nbsp;&nbsp;&nbsp;&nbsp;&nbsp; <a href=\"#TOP\">&uarr;</a>"
   ]
  },
  {
   "cell_type": "code",
   "execution_count": null,
   "id": "c4dd5305-06fe-45a8-9e25-00878255d209",
   "metadata": {},
   "outputs": [],
   "source": []
  },
  {
   "cell_type": "code",
   "execution_count": null,
   "id": "dbdac274-be81-4a28-b770-2188bcba9e03",
   "metadata": {},
   "outputs": [],
   "source": []
  },
  {
   "cell_type": "markdown",
   "id": "a972d34f-9fca-4224-ac82-f7ea26394836",
   "metadata": {},
   "source": [
    "## <a name=\"Nan\"></a>Partie 2 : Traitement des Nan&nbsp;&nbsp;&nbsp;&nbsp;&nbsp;<a href=\"#TOP\">&uarr;</a>"
   ]
  },
  {
   "cell_type": "code",
   "execution_count": null,
   "id": "e2924448-8c43-4e2e-9ff4-a6aff4754e33",
   "metadata": {},
   "outputs": [],
   "source": []
  },
  {
   "cell_type": "code",
   "execution_count": null,
   "id": "f0f085cf-1114-4a7f-9bb2-ef5121dbd85d",
   "metadata": {},
   "outputs": [],
   "source": []
  },
  {
   "cell_type": "markdown",
   "id": "fbfee32e-517c-43a1-b4a8-256c3c6cdeac",
   "metadata": {},
   "source": [
    "## <a name=\"TRANSCO\"></a>Partie 3 : Filtres et/ou calculs&nbsp;&nbsp;&nbsp;&nbsp;&nbsp;<a href=\"#TOP\">&uarr;</a>"
   ]
  },
  {
   "cell_type": "code",
   "execution_count": null,
   "id": "cd31b619-bf63-4b59-a198-433b8fc91a96",
   "metadata": {},
   "outputs": [],
   "source": []
  },
  {
   "cell_type": "code",
   "execution_count": null,
   "id": "d003b9a0-0bb3-46e0-ba38-7404e8e5e432",
   "metadata": {},
   "outputs": [],
   "source": []
  },
  {
   "cell_type": "markdown",
   "id": "352451f1-99da-4ac0-a95a-8deb6ac94389",
   "metadata": {},
   "source": [
    "## <a name=\"EXPORT\"></a>Partie 4 : EXPORT&nbsp;&nbsp;&nbsp;&nbsp;&nbsp;<a href=\"#TOP\">&uarr;</a>\n",
    "/DATA/EXPORT_CSV/final_ABC_xxxxxxx.csv  \n",
    "avec : \n",
    "- ABC  : les 3 lettres d'identification du fichier (et surtout prefix des colonnes à récupérer)\n",
    "- xxxxxxx.csv : nom du fichier source csv \n",
    "- mettre test en lieu et place de final lors de vos tests si besoin \n"
   ]
  },
  {
   "cell_type": "code",
   "execution_count": null,
   "id": "01e85959-eaab-4e7a-8dc5-55ffcac8bf0a",
   "metadata": {},
   "outputs": [],
   "source": []
  },
  {
   "cell_type": "code",
   "execution_count": null,
   "id": "2f9fa22a-3237-4131-9fae-b4604341807f",
   "metadata": {},
   "outputs": [],
   "source": []
  },
  {
   "cell_type": "code",
   "execution_count": null,
   "id": "d7c7efd6-a789-4a43-85dc-94c4dc7ec3a7",
   "metadata": {},
   "outputs": [],
   "source": []
  }
 ],
 "metadata": {
  "kernelspec": {
   "display_name": "Python 3 (ipykernel)",
   "language": "python",
   "name": "python3"
  },
  "language_info": {
   "codemirror_mode": {
    "name": "ipython",
    "version": 3
   },
   "file_extension": ".py",
   "mimetype": "text/x-python",
   "name": "python",
   "nbconvert_exporter": "python",
   "pygments_lexer": "ipython3",
   "version": "3.10.12"
  }
 },
 "nbformat": 4,
 "nbformat_minor": 5
}
