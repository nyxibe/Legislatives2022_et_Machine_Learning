{
 "cells": [
  {
   "cell_type": "markdown",
   "id": "ea3e4cdc-4ad0-480e-8a5e-0e4e4dee9ac3",
   "metadata": {},
   "source": [
    "# <center>  Model Creat Dataframe CAPITAL IMMOBILIER COMMUNES [KP1]<br/></center>\n",
    "<a name=\"TOP\"></a>\n",
    "- dev : nyx\n",
    "- Fichier CSV :  Capital_immobilier_csv/Capital_immobilier_csv/capitalimmobiliercommunes.csv</a>\n",
    "\n",
    "ALERTES 98 lignes à Nan \n",
    "Faire les plus proches voisins apres FUSION ?\n",
    "    \n",
    "# Description Fichiers : \n",
    "Capital immo pour 2022 , 2012 , 2002 , 1992\n",
    "avec pour chaque année :\n",
    "    4 capital immo\n",
    "    5 prix du bien\n",
    "\n",
    "# Synthese des Actions :\n",
    "Plus de 1000 communes non renseignees flag 1 pour BL_bug\n",
    "creation de lignes avec que des 0\n",
    "  \n",
    "**<u>MENU</u>** \n",
    "- <a href=\"#Import\">P0 : Import CSV</a>\n",
    "- <a href=\"#EDA\">P1 : Mini EDA</a>\n",
    "- <a href=\"#Nan\">P2 : Traitement des Nan</a>\n",
    "- <a href=\"#TRANSCO\">P3 : Filtres et/ou calculs</a>\n",
    "- <a href=\"#EXPORT\">P4 : EXPORT (/DATA/EXPORT_CSV/final_xxxxxxx.csv)</a>\n",
    "\n",
    "\n",
    "\n"
   ]
  },
  {
   "cell_type": "markdown",
   "id": "ca339594-e0cb-478d-b4fb-3e1af6de883d",
   "metadata": {},
   "source": [
    "PREFIXE FICHIER : KP1\n",
    "Structure :\n",
    "\n",
    "    0 dep\n",
    "    1 nomdep\n",
    "    2 codecommune\n",
    "    3 nomcommune\n",
    "    4 KP1_capitalimmo22\n",
    "    5 KP1_prixbien22\n",
    "    6 KP1_capitalimmo12\n",
    "    7 KP1_prixbien12\n",
    "    8 KP1_capitalimmo02\n",
    "    9 KP1_prixbien02\n",
    "    10 KP1_capitalimmo92\n",
    "    11 KP1_prixbien92\n",
    "    12 DBL_bug (flag à 1 poour les lignes ajoutées avec des Nan A TRAITER)\n",
    "\n",
    "\n"
   ]
  },
  {
   "cell_type": "code",
   "execution_count": 1,
   "id": "95d983a2-4b3e-4b94-855b-bf6d33d4ba75",
   "metadata": {},
   "outputs": [],
   "source": [
    "import warnings\n",
    "warnings.filterwarnings(\"ignore\")\n",
    "\n",
    "import os\n",
    "import zipfile\n",
    "import pandas as pd\n",
    "import numpy as np\n",
    "\n",
    "import seaborn as sns\n",
    "import matplotlib.pyplot as plt"
   ]
  },
  {
   "cell_type": "markdown",
   "id": "baa4ba11-c303-401b-b654-f6d5a2f6b7b4",
   "metadata": {},
   "source": [
    "## <a name=\"Import\"></a>Partie 0 : Import CSV&nbsp;&nbsp;&nbsp;&nbsp;&nbsp; <a href=\"#TOP\">&uarr;</a>"
   ]
  },
  {
   "cell_type": "code",
   "execution_count": 2,
   "id": "64bd9ee9-428d-4c50-8304-e1a2635a352b",
   "metadata": {},
   "outputs": [],
   "source": [
    "def df_creat(filename, df_dataframe):  \n",
    "    df = df_dataframe[df_dataframe['filename'] == filename]\n",
    "    if len(df) == 1:\n",
    "        row = df.iloc[0]\n",
    "        file = row['path']\n",
    "        if os.path.exists(file):\n",
    "            print(file)\n",
    "            df_from_csv = pd.read_csv(file, encoding='utf-8', low_memory=False)\n",
    "            return df_from_csv\n",
    "        else:\n",
    "            print('FICHIER NON TROUVE', file)\n",
    "            return pd.DataFrame()\n",
    "    else:\n",
    "        print(f\"filename: '{filename}' return size: {len(df)}\")\n",
    "        return pd.DataFrame()"
   ]
  },
  {
   "cell_type": "code",
   "execution_count": 3,
   "id": "4b858715-3881-4cae-b6f1-59d3e10d9276",
   "metadata": {},
   "outputs": [],
   "source": [
    "csv_file_path = 'df_filtred.csv'\n",
    "# Use pandas to read the CSV file into a DataFrame with UTF-8 encoding\n",
    "df_cat = pd.read_csv(csv_file_path, encoding='utf-8')"
   ]
  },
  {
   "cell_type": "code",
   "execution_count": 4,
   "id": "677ef87c-1d20-4ea9-b483-24fcc6557f7d",
   "metadata": {},
   "outputs": [
    {
     "data": {
      "text/html": [
       "<div>\n",
       "<style scoped>\n",
       "    .dataframe tbody tr th:only-of-type {\n",
       "        vertical-align: middle;\n",
       "    }\n",
       "\n",
       "    .dataframe tbody tr th {\n",
       "        vertical-align: top;\n",
       "    }\n",
       "\n",
       "    .dataframe thead th {\n",
       "        text-align: right;\n",
       "    }\n",
       "</style>\n",
       "<table border=\"1\" class=\"dataframe\">\n",
       "  <thead>\n",
       "    <tr style=\"text-align: right;\">\n",
       "      <th></th>\n",
       "      <th>category</th>\n",
       "      <th>filename</th>\n",
       "      <th>comment</th>\n",
       "      <th>size</th>\n",
       "      <th>depart</th>\n",
       "      <th>district</th>\n",
       "      <th>commune</th>\n",
       "      <th>canton</th>\n",
       "      <th>yyyy</th>\n",
       "      <th>path</th>\n",
       "      <th>codecommune</th>\n",
       "    </tr>\n",
       "  </thead>\n",
       "  <tbody>\n",
       "    <tr>\n",
       "      <th>0</th>\n",
       "      <td>Taille_agglo_commune_csv</td>\n",
       "      <td>codescommunes1999</td>\n",
       "      <td>codes</td>\n",
       "      <td>0</td>\n",
       "      <td>0</td>\n",
       "      <td>0</td>\n",
       "      <td>1</td>\n",
       "      <td>0</td>\n",
       "      <td>1999</td>\n",
       "      <td>../../ProjetCommun/DATA_SOURCES/HCP/Taille_agg...</td>\n",
       "      <td>1</td>\n",
       "    </tr>\n",
       "  </tbody>\n",
       "</table>\n",
       "</div>"
      ],
      "text/plain": [
       "                   category           filename comment  size  depart  \\\n",
       "0  Taille_agglo_commune_csv  codescommunes1999   codes     0       0   \n",
       "\n",
       "   district  commune  canton  yyyy  \\\n",
       "0         0        1       0  1999   \n",
       "\n",
       "                                                path  codecommune  \n",
       "0  ../../ProjetCommun/DATA_SOURCES/HCP/Taille_agg...            1  "
      ]
     },
     "execution_count": 4,
     "metadata": {},
     "output_type": "execute_result"
    }
   ],
   "source": [
    "df_cat.head(1)"
   ]
  },
  {
   "cell_type": "code",
   "execution_count": 91,
   "id": "04da4fb3-c6ba-4332-9b2a-872c14a87126",
   "metadata": {},
   "outputs": [
    {
     "name": "stdout",
     "output_type": "stream",
     "text": [
      "../../ProjetCommun/DATA_SOURCES/HCP/Capital_immobilier_csv/Capital_immobilier_csv/capitalimmobiliercommunes.csv\n"
     ]
    }
   ],
   "source": [
    "df = df_creat('capitalimmobiliercommunes', df_cat)"
   ]
  },
  {
   "cell_type": "markdown",
   "id": "6647aa81-cb46-45dd-a922-b069be341809",
   "metadata": {},
   "source": [
    "## <a name=\"EDA\"></a>Partie 1 : Mini EDA &nbsp;&nbsp;&nbsp;&nbsp;&nbsp; <a href=\"#TOP\">&uarr;</a>"
   ]
  },
  {
   "cell_type": "code",
   "execution_count": 92,
   "id": "cd6d2a1b-246e-4d37-907b-e133b079fa9f",
   "metadata": {},
   "outputs": [
    {
     "data": {
      "text/plain": [
       "(34652, 1666)"
      ]
     },
     "execution_count": 92,
     "metadata": {},
     "output_type": "execute_result"
    }
   ],
   "source": [
    "df.shape"
   ]
  },
  {
   "cell_type": "code",
   "execution_count": 93,
   "id": "594cdd42-69ef-4827-8497-f933f546c1ec",
   "metadata": {},
   "outputs": [
    {
     "data": {
      "text/html": [
       "<div>\n",
       "<style scoped>\n",
       "    .dataframe tbody tr th:only-of-type {\n",
       "        vertical-align: middle;\n",
       "    }\n",
       "\n",
       "    .dataframe tbody tr th {\n",
       "        vertical-align: top;\n",
       "    }\n",
       "\n",
       "    .dataframe thead th {\n",
       "        text-align: right;\n",
       "    }\n",
       "</style>\n",
       "<table border=\"1\" class=\"dataframe\">\n",
       "  <thead>\n",
       "    <tr style=\"text-align: right;\">\n",
       "      <th></th>\n",
       "      <th>dep</th>\n",
       "      <th>nomdep</th>\n",
       "      <th>codecommune</th>\n",
       "      <th>nomcommune</th>\n",
       "      <th>plm</th>\n",
       "      <th>paris</th>\n",
       "      <th>capitalratio1790</th>\n",
       "      <th>capitalratio1791</th>\n",
       "      <th>capitalratio1792</th>\n",
       "      <th>capitalratio1793</th>\n",
       "      <th>...</th>\n",
       "      <th>percap1810</th>\n",
       "      <th>percap1811</th>\n",
       "      <th>percap1812</th>\n",
       "      <th>percap1813</th>\n",
       "      <th>percap1814</th>\n",
       "      <th>percap1815</th>\n",
       "      <th>percap1816</th>\n",
       "      <th>percap1817</th>\n",
       "      <th>percap1818</th>\n",
       "      <th>percap1819</th>\n",
       "    </tr>\n",
       "  </thead>\n",
       "  <tbody>\n",
       "    <tr>\n",
       "      <th>0</th>\n",
       "      <td>01</td>\n",
       "      <td>AIN</td>\n",
       "      <td>01001</td>\n",
       "      <td>ABERGEMENT-CLEMENCIAT</td>\n",
       "      <td>0</td>\n",
       "      <td>0</td>\n",
       "      <td>0.827135</td>\n",
       "      <td>0.827135</td>\n",
       "      <td>0.827135</td>\n",
       "      <td>0.827135</td>\n",
       "      <td>...</td>\n",
       "      <td>0.538974</td>\n",
       "      <td>0.538974</td>\n",
       "      <td>0.538974</td>\n",
       "      <td>0.538974</td>\n",
       "      <td>0.538974</td>\n",
       "      <td>0.538974</td>\n",
       "      <td>0.538974</td>\n",
       "      <td>0.538974</td>\n",
       "      <td>0.538974</td>\n",
       "      <td>0.538974</td>\n",
       "    </tr>\n",
       "    <tr>\n",
       "      <th>1</th>\n",
       "      <td>01</td>\n",
       "      <td>AIN</td>\n",
       "      <td>01002</td>\n",
       "      <td>ABERGEMENT-DE-VAREY</td>\n",
       "      <td>0</td>\n",
       "      <td>0</td>\n",
       "      <td>0.466109</td>\n",
       "      <td>0.466109</td>\n",
       "      <td>0.466109</td>\n",
       "      <td>0.466109</td>\n",
       "      <td>...</td>\n",
       "      <td>0.121702</td>\n",
       "      <td>0.121702</td>\n",
       "      <td>0.121702</td>\n",
       "      <td>0.121702</td>\n",
       "      <td>0.121702</td>\n",
       "      <td>0.121702</td>\n",
       "      <td>0.121702</td>\n",
       "      <td>0.121702</td>\n",
       "      <td>0.121702</td>\n",
       "      <td>0.121702</td>\n",
       "    </tr>\n",
       "    <tr>\n",
       "      <th>2</th>\n",
       "      <td>01</td>\n",
       "      <td>AIN</td>\n",
       "      <td>01004</td>\n",
       "      <td>AMBERIEU-EN-BUGEY</td>\n",
       "      <td>0</td>\n",
       "      <td>0</td>\n",
       "      <td>0.791716</td>\n",
       "      <td>0.791716</td>\n",
       "      <td>0.791716</td>\n",
       "      <td>0.791716</td>\n",
       "      <td>...</td>\n",
       "      <td>0.502199</td>\n",
       "      <td>0.502199</td>\n",
       "      <td>0.502199</td>\n",
       "      <td>0.502199</td>\n",
       "      <td>0.502199</td>\n",
       "      <td>0.502199</td>\n",
       "      <td>0.502199</td>\n",
       "      <td>0.502199</td>\n",
       "      <td>0.502199</td>\n",
       "      <td>0.502199</td>\n",
       "    </tr>\n",
       "    <tr>\n",
       "      <th>3</th>\n",
       "      <td>01</td>\n",
       "      <td>AIN</td>\n",
       "      <td>01005</td>\n",
       "      <td>AMBERIEUX-EN-DOMBES</td>\n",
       "      <td>0</td>\n",
       "      <td>0</td>\n",
       "      <td>0.727506</td>\n",
       "      <td>0.727506</td>\n",
       "      <td>0.727506</td>\n",
       "      <td>0.727506</td>\n",
       "      <td>...</td>\n",
       "      <td>0.424756</td>\n",
       "      <td>0.424756</td>\n",
       "      <td>0.424756</td>\n",
       "      <td>0.424756</td>\n",
       "      <td>0.424756</td>\n",
       "      <td>0.424756</td>\n",
       "      <td>0.424756</td>\n",
       "      <td>0.424756</td>\n",
       "      <td>0.424756</td>\n",
       "      <td>0.424756</td>\n",
       "    </tr>\n",
       "    <tr>\n",
       "      <th>4</th>\n",
       "      <td>01</td>\n",
       "      <td>AIN</td>\n",
       "      <td>01006</td>\n",
       "      <td>AMBLEON</td>\n",
       "      <td>0</td>\n",
       "      <td>0</td>\n",
       "      <td>0.854508</td>\n",
       "      <td>0.854508</td>\n",
       "      <td>0.854508</td>\n",
       "      <td>0.854508</td>\n",
       "      <td>...</td>\n",
       "      <td>0.570336</td>\n",
       "      <td>0.570336</td>\n",
       "      <td>0.570336</td>\n",
       "      <td>0.570336</td>\n",
       "      <td>0.570336</td>\n",
       "      <td>0.570336</td>\n",
       "      <td>0.570336</td>\n",
       "      <td>0.570336</td>\n",
       "      <td>0.570336</td>\n",
       "      <td>0.570336</td>\n",
       "    </tr>\n",
       "  </tbody>\n",
       "</table>\n",
       "<p>5 rows × 1666 columns</p>\n",
       "</div>"
      ],
      "text/plain": [
       "  dep nomdep codecommune             nomcommune  plm  paris  capitalratio1790  \\\n",
       "0  01    AIN       01001  ABERGEMENT-CLEMENCIAT    0      0          0.827135   \n",
       "1  01    AIN       01002    ABERGEMENT-DE-VAREY    0      0          0.466109   \n",
       "2  01    AIN       01004      AMBERIEU-EN-BUGEY    0      0          0.791716   \n",
       "3  01    AIN       01005    AMBERIEUX-EN-DOMBES    0      0          0.727506   \n",
       "4  01    AIN       01006                AMBLEON    0      0          0.854508   \n",
       "\n",
       "   capitalratio1791  capitalratio1792  capitalratio1793  ...  percap1810  \\\n",
       "0          0.827135          0.827135          0.827135  ...    0.538974   \n",
       "1          0.466109          0.466109          0.466109  ...    0.121702   \n",
       "2          0.791716          0.791716          0.791716  ...    0.502199   \n",
       "3          0.727506          0.727506          0.727506  ...    0.424756   \n",
       "4          0.854508          0.854508          0.854508  ...    0.570336   \n",
       "\n",
       "   percap1811  percap1812  percap1813  percap1814  percap1815  percap1816  \\\n",
       "0    0.538974    0.538974    0.538974    0.538974    0.538974    0.538974   \n",
       "1    0.121702    0.121702    0.121702    0.121702    0.121702    0.121702   \n",
       "2    0.502199    0.502199    0.502199    0.502199    0.502199    0.502199   \n",
       "3    0.424756    0.424756    0.424756    0.424756    0.424756    0.424756   \n",
       "4    0.570336    0.570336    0.570336    0.570336    0.570336    0.570336   \n",
       "\n",
       "   percap1817  percap1818  percap1819  \n",
       "0    0.538974    0.538974    0.538974  \n",
       "1    0.121702    0.121702    0.121702  \n",
       "2    0.502199    0.502199    0.502199  \n",
       "3    0.424756    0.424756    0.424756  \n",
       "4    0.570336    0.570336    0.570336  \n",
       "\n",
       "[5 rows x 1666 columns]"
      ]
     },
     "execution_count": 93,
     "metadata": {},
     "output_type": "execute_result"
    }
   ],
   "source": [
    "df.head(5)"
   ]
  },
  {
   "cell_type": "code",
   "execution_count": 94,
   "id": "af0aa5bf-b220-425a-abb7-478085b19a1f",
   "metadata": {},
   "outputs": [
    {
     "name": "stdout",
     "output_type": "stream",
     "text": [
      "capitalratio2022\n",
      "capitalratioagglo2022\n",
      "capitalimmo2022\n",
      "capitalimmoagglo2022\n",
      "prixbien2022\n",
      "surfaceterrain2022\n",
      "pop2022\n",
      "percapagglo2022\n",
      "surface2022\n",
      "propappartementdep2022\n",
      "propappartement2022\n",
      "prixm22022\n",
      "prixm2ratio2022\n",
      "percap2022\n",
      "{'dep': '01', 'nomdep': 'AIN', 'codecommune': '01001', 'nomcommune': 'ABERGEMENT-CLEMENCIAT', 'plm': 0, 'paris': 0, 'capitalratio2022': 1.0423332, 'capitalratioagglo2022': 1.0421791, 'capitalimmo2022': 1.2463343e-05, 'capitalimmoagglo2022': 1.24633434098e-05, 'prixbien2022': 231440.42, 'surfaceterrain2022': 825.50385, 'pop2022': 786, 'codeagglo': 'C01001', 'percapagglo2022': 0.60320038, 'nomagglo': 'ABERGEMENT-CLÉMENCIAT', 'surface2022': 111.78895, 'propappartementdep2022': 0.36585367, 'propappartement2022': 0.0, 'prixm22022': 2070.3337, 'prixm2ratio2022': 0.6668126, 'percap2022': 0.64704514}\n"
     ]
    }
   ],
   "source": [
    "dico={}\n",
    "for c in df :\n",
    "    value =df[c].iloc[0]\n",
    "    try:\n",
    "        last4char = int(c[-4:])\n",
    "        if last4char > 0 and last4char == 2022 :\n",
    "            dico[c] = value\n",
    "            print (c)\n",
    "    except ValueError as e:\n",
    "        dico[c] = value\n",
    "print (dico)\n",
    "    "
   ]
  },
  {
   "cell_type": "code",
   "execution_count": 95,
   "id": "17abf92d-c553-4b2f-8381-6865d84c68ca",
   "metadata": {},
   "outputs": [
    {
     "name": "stdout",
     "output_type": "stream",
     "text": [
      "capitalratio2002\n",
      "capitalratioagglo2002\n",
      "capitalimmo2002\n",
      "capitalimmoagglo2002\n",
      "prixbien2002\n",
      "pop2002\n",
      "percapagglo2002\n",
      "percap2002\n",
      "{'dep': '01', 'nomdep': 'AIN', 'codecommune': '01001', 'nomcommune': 'ABERGEMENT-CLEMENCIAT', 'plm': 0, 'paris': 0, 'capitalratio2002': 1.2022585, 'capitalratioagglo2002': 1.2022879, 'capitalimmo2002': 1.5375608e-05, 'capitalimmoagglo2002': 1.53756082e-05, 'prixbien2002': 122253.57, 'pop2002': 764, 'codeagglo': 'C01001', 'percapagglo2002': 0.70768666, 'nomagglo': 'ABERGEMENT-CLÉMENCIAT', 'percap2002': 0.75788665}\n"
     ]
    }
   ],
   "source": [
    "dico={}\n",
    "for c in df :\n",
    "    value =df[c].iloc[0]\n",
    "    try:\n",
    "        last4char = int(c[-4:])\n",
    "        if last4char > 0 and last4char == 2002 :\n",
    "            dico[c] = value\n",
    "            print (c)\n",
    "    except ValueError as e:\n",
    "        dico[c] = value\n",
    "print (dico)\n",
    "    "
   ]
  },
  {
   "cell_type": "code",
   "execution_count": 96,
   "id": "b3a3bebe-118e-4a9d-99a7-7ec78389cd6a",
   "metadata": {},
   "outputs": [
    {
     "data": {
      "text/plain": [
       "(34652, 1666)"
      ]
     },
     "execution_count": 96,
     "metadata": {},
     "output_type": "execute_result"
    }
   ],
   "source": [
    "df.shape"
   ]
  },
  {
   "cell_type": "raw",
   "id": "c5795a44-9519-495d-ad23-961be853dce9",
   "metadata": {},
   "source": [
    "list_indic = ['capitalimmo','prixbien','surfaceterrain','surface','propappartement','prixm2']\n",
    "NAN\n",
    "dep                         0\n",
    "nomdep                      0\n",
    "codecommune                 0\n",
    "nomcommune                  0\n",
    "KP1_capitalimmo22           0\n",
    "KP1_prixbien22              0\n",
    "KP1_surfaceterrain22     1602\n",
    "KP1_surface22            1602\n",
    "KP1_propappartement22    1602\n",
    "KP1_prixm222             1602\n",
    "KP1_capitalimmo12           0\n",
    "KP1_prixbien12              0\n",
    "KP1_capitalimmo02           0\n",
    "KP1_prixbien02              0\n",
    "KP1_capitalimmo92           0\n",
    "KP1_prixbien92              0\n",
    "dtype: int64"
   ]
  },
  {
   "cell_type": "code",
   "execution_count": 97,
   "id": "64559a68-bd53-4364-93d3-20069ed9dd2d",
   "metadata": {},
   "outputs": [
    {
     "data": {
      "text/plain": [
       "(34652, 1674)"
      ]
     },
     "execution_count": 97,
     "metadata": {},
     "output_type": "execute_result"
    }
   ],
   "source": [
    "list_yyyy = [2022,2012,2002,1992]\n",
    "list_indic = ['capitalimmo','prixbien']\n",
    "list_col = df.columns.tolist()\n",
    "for yyyy in list_yyyy :\n",
    "    for indic in list_indic :\n",
    "        col_source = str(indic) + str(yyyy)\n",
    "        if col_source in list_col :\n",
    "            yy=str(yyyy)[-2:]\n",
    "            new_col='KP1_'+ str(indic) + str(yy)\n",
    "            df[new_col] = df[col_source]\n",
    "\n",
    "df.shape\n"
   ]
  },
  {
   "cell_type": "code",
   "execution_count": 98,
   "id": "e5174b44-a1e2-46c9-b111-b0b077b98064",
   "metadata": {},
   "outputs": [
    {
     "data": {
      "text/html": [
       "<div>\n",
       "<style scoped>\n",
       "    .dataframe tbody tr th:only-of-type {\n",
       "        vertical-align: middle;\n",
       "    }\n",
       "\n",
       "    .dataframe tbody tr th {\n",
       "        vertical-align: top;\n",
       "    }\n",
       "\n",
       "    .dataframe thead th {\n",
       "        text-align: right;\n",
       "    }\n",
       "</style>\n",
       "<table border=\"1\" class=\"dataframe\">\n",
       "  <thead>\n",
       "    <tr style=\"text-align: right;\">\n",
       "      <th></th>\n",
       "      <th>dep</th>\n",
       "      <th>nomdep</th>\n",
       "      <th>codecommune</th>\n",
       "      <th>nomcommune</th>\n",
       "      <th>KP1_capitalimmo22</th>\n",
       "      <th>KP1_prixbien22</th>\n",
       "      <th>KP1_capitalimmo12</th>\n",
       "      <th>KP1_prixbien12</th>\n",
       "      <th>KP1_capitalimmo02</th>\n",
       "      <th>KP1_prixbien02</th>\n",
       "      <th>KP1_capitalimmo92</th>\n",
       "      <th>KP1_prixbien92</th>\n",
       "    </tr>\n",
       "  </thead>\n",
       "  <tbody>\n",
       "    <tr>\n",
       "      <th>0</th>\n",
       "      <td>01</td>\n",
       "      <td>AIN</td>\n",
       "      <td>01001</td>\n",
       "      <td>ABERGEMENT-CLEMENCIAT</td>\n",
       "      <td>0.000012</td>\n",
       "      <td>231440.42</td>\n",
       "      <td>0.000013</td>\n",
       "      <td>208719.45</td>\n",
       "      <td>0.000015</td>\n",
       "      <td>122253.570</td>\n",
       "      <td>0.000012</td>\n",
       "      <td>84408.664</td>\n",
       "    </tr>\n",
       "    <tr>\n",
       "      <th>1</th>\n",
       "      <td>01</td>\n",
       "      <td>AIN</td>\n",
       "      <td>01002</td>\n",
       "      <td>ABERGEMENT-DE-VAREY</td>\n",
       "      <td>0.000002</td>\n",
       "      <td>136645.75</td>\n",
       "      <td>0.000002</td>\n",
       "      <td>123230.97</td>\n",
       "      <td>0.000002</td>\n",
       "      <td>72180.258</td>\n",
       "      <td>0.000002</td>\n",
       "      <td>49836.090</td>\n",
       "    </tr>\n",
       "  </tbody>\n",
       "</table>\n",
       "</div>"
      ],
      "text/plain": [
       "  dep nomdep codecommune             nomcommune  KP1_capitalimmo22  \\\n",
       "0  01    AIN       01001  ABERGEMENT-CLEMENCIAT           0.000012   \n",
       "1  01    AIN       01002    ABERGEMENT-DE-VAREY           0.000002   \n",
       "\n",
       "   KP1_prixbien22  KP1_capitalimmo12  KP1_prixbien12  KP1_capitalimmo02  \\\n",
       "0       231440.42           0.000013       208719.45           0.000015   \n",
       "1       136645.75           0.000002       123230.97           0.000002   \n",
       "\n",
       "   KP1_prixbien02  KP1_capitalimmo92  KP1_prixbien92  \n",
       "0      122253.570           0.000012       84408.664  \n",
       "1       72180.258           0.000002       49836.090  "
      ]
     },
     "execution_count": 98,
     "metadata": {},
     "output_type": "execute_result"
    }
   ],
   "source": [
    "df = df.drop(df.columns[4:1666], axis=1)\n",
    "df.head(2)"
   ]
  },
  {
   "cell_type": "code",
   "execution_count": 99,
   "id": "6847076f-cfab-4a8d-86a9-643225cc710c",
   "metadata": {},
   "outputs": [
    {
     "data": {
      "text/plain": [
       "dep                  0\n",
       "nomdep               0\n",
       "codecommune          0\n",
       "nomcommune           0\n",
       "KP1_capitalimmo22    0\n",
       "KP1_prixbien22       0\n",
       "KP1_capitalimmo12    0\n",
       "KP1_prixbien12       0\n",
       "KP1_capitalimmo02    0\n",
       "KP1_prixbien02       0\n",
       "KP1_capitalimmo92    0\n",
       "KP1_prixbien92       0\n",
       "dtype: int64"
      ]
     },
     "execution_count": 99,
     "metadata": {},
     "output_type": "execute_result"
    }
   ],
   "source": [
    "df.isna().sum()"
   ]
  },
  {
   "cell_type": "code",
   "execution_count": 100,
   "id": "0b693e2e-c6f7-4375-aaca-f0fa37bbcc41",
   "metadata": {},
   "outputs": [
    {
     "data": {
      "text/plain": [
       "(34652, 34652)"
      ]
     },
     "execution_count": 100,
     "metadata": {},
     "output_type": "execute_result"
    }
   ],
   "source": [
    "df['codecommune'].nunique(),len(df)"
   ]
  },
  {
   "cell_type": "markdown",
   "id": "fbfee32e-517c-43a1-b4a8-256c3c6cdeac",
   "metadata": {},
   "source": [
    "## <a name=\"TRANSCO\"></a>Partie 3 : Filtres et/ou calculs&nbsp;&nbsp;&nbsp;&nbsp;&nbsp;<a href=\"#TOP\">&uarr;</a>"
   ]
  },
  {
   "cell_type": "code",
   "execution_count": 101,
   "id": "586534db-a6ba-40ed-a468-fae73a41273e",
   "metadata": {},
   "outputs": [
    {
     "name": "stdout",
     "output_type": "stream",
     "text": [
      "['01001', '01002', '01004', '01005', '01006', '01007', '01008', '01009', '01010', '01011'] 33830\n"
     ]
    }
   ],
   "source": [
    "file_path = '../DATA/list_codecommune_leg2022_50inscrits.txt'\n",
    "\n",
    "# Open the text file and read lines into a list\n",
    "with open(file_path, 'r', encoding='utf-8') as file:\n",
    "    lines = [line.strip() for line in file.readlines()]\n",
    "\n",
    "# Print or manipulate the list of lines as needed\n",
    "print(lines[0:10], len(lines))"
   ]
  },
  {
   "cell_type": "code",
   "execution_count": 102,
   "id": "03039577-4fa4-4435-b16e-f34e14e9db9f",
   "metadata": {},
   "outputs": [
    {
     "data": {
      "text/plain": [
       "((33732, 12), (34652, 12))"
      ]
     },
     "execution_count": 102,
     "metadata": {},
     "output_type": "execute_result"
    }
   ],
   "source": [
    "df_filtered = df[df['codecommune'].isin(lines)]\n",
    "df_filtered.shape,df.shape"
   ]
  },
  {
   "cell_type": "code",
   "execution_count": 103,
   "id": "725e8504-c42f-4817-a33d-7531ac607c87",
   "metadata": {},
   "outputs": [
    {
     "data": {
      "text/plain": [
       "('01002', 33732)"
      ]
     },
     "execution_count": 103,
     "metadata": {},
     "output_type": "execute_result"
    }
   ],
   "source": [
    "codecommune_listdf_filtered= df_filtered['codecommune'].tolist()\n",
    "codecommune_listdf_filtered[1], len(codecommune_listdf_filtered)"
   ]
  },
  {
   "cell_type": "code",
   "execution_count": 104,
   "id": "d961e81b-2143-4343-b848-2d7effed3f5b",
   "metadata": {},
   "outputs": [
    {
     "data": {
      "text/plain": [
       "98"
      ]
     },
     "execution_count": 104,
     "metadata": {},
     "output_type": "execute_result"
    }
   ],
   "source": [
    "absent = [x for x in lines if x not in codecommune_listdf_filtered]\n",
    "len (absent)"
   ]
  },
  {
   "cell_type": "code",
   "execution_count": 107,
   "id": "bee5655c-c806-4604-9982-5d567a24b7a1",
   "metadata": {},
   "outputs": [],
   "source": [
    "df_filtered['DBL_bug'] = 0"
   ]
  },
  {
   "cell_type": "code",
   "execution_count": 108,
   "id": "faf7578c-aa34-4f8b-a025-7b385c20a2b0",
   "metadata": {},
   "outputs": [
    {
     "data": {
      "text/html": [
       "<div>\n",
       "<style scoped>\n",
       "    .dataframe tbody tr th:only-of-type {\n",
       "        vertical-align: middle;\n",
       "    }\n",
       "\n",
       "    .dataframe tbody tr th {\n",
       "        vertical-align: top;\n",
       "    }\n",
       "\n",
       "    .dataframe thead th {\n",
       "        text-align: right;\n",
       "    }\n",
       "</style>\n",
       "<table border=\"1\" class=\"dataframe\">\n",
       "  <thead>\n",
       "    <tr style=\"text-align: right;\">\n",
       "      <th></th>\n",
       "      <th>dep</th>\n",
       "      <th>nomdep</th>\n",
       "      <th>codecommune</th>\n",
       "      <th>nomcommune</th>\n",
       "      <th>KP1_capitalimmo22</th>\n",
       "      <th>KP1_prixbien22</th>\n",
       "      <th>KP1_capitalimmo12</th>\n",
       "      <th>KP1_prixbien12</th>\n",
       "      <th>KP1_capitalimmo02</th>\n",
       "      <th>KP1_prixbien02</th>\n",
       "      <th>KP1_capitalimmo92</th>\n",
       "      <th>KP1_prixbien92</th>\n",
       "      <th>DBL_bug</th>\n",
       "    </tr>\n",
       "  </thead>\n",
       "  <tbody>\n",
       "    <tr>\n",
       "      <th>0</th>\n",
       "      <td>01</td>\n",
       "      <td>AIN</td>\n",
       "      <td>01001</td>\n",
       "      <td>ABERGEMENT-CLEMENCIAT</td>\n",
       "      <td>0.000012</td>\n",
       "      <td>231440.42</td>\n",
       "      <td>0.000013</td>\n",
       "      <td>208719.45</td>\n",
       "      <td>0.000015</td>\n",
       "      <td>122253.57</td>\n",
       "      <td>0.000012</td>\n",
       "      <td>84408.664</td>\n",
       "      <td>0</td>\n",
       "    </tr>\n",
       "  </tbody>\n",
       "</table>\n",
       "</div>"
      ],
      "text/plain": [
       "  dep nomdep codecommune             nomcommune  KP1_capitalimmo22  \\\n",
       "0  01    AIN       01001  ABERGEMENT-CLEMENCIAT           0.000012   \n",
       "\n",
       "   KP1_prixbien22  KP1_capitalimmo12  KP1_prixbien12  KP1_capitalimmo02  \\\n",
       "0       231440.42           0.000013       208719.45           0.000015   \n",
       "\n",
       "   KP1_prixbien02  KP1_capitalimmo92  KP1_prixbien92  DBL_bug  \n",
       "0       122253.57           0.000012       84408.664        0  "
      ]
     },
     "execution_count": 108,
     "metadata": {},
     "output_type": "execute_result"
    }
   ],
   "source": [
    "df_filtered.head(1)"
   ]
  },
  {
   "cell_type": "code",
   "execution_count": 109,
   "id": "3e64a0fb-35a4-4332-bc41-928d50127dce",
   "metadata": {},
   "outputs": [
    {
     "data": {
      "text/plain": [
       "(33732, 13)"
      ]
     },
     "execution_count": 109,
     "metadata": {},
     "output_type": "execute_result"
    }
   ],
   "source": [
    "df_filtered.shape"
   ]
  },
  {
   "cell_type": "code",
   "execution_count": 110,
   "id": "7f6301ca-9ce6-4da8-93bf-81fcf7962004",
   "metadata": {},
   "outputs": [
    {
     "data": {
      "text/plain": [
       "(33830, 13)"
      ]
     },
     "execution_count": 110,
     "metadata": {},
     "output_type": "execute_result"
    }
   ],
   "source": [
    "for i,code in enumerate(absent) :\n",
    "    new_row = ['*', '*', code, '*', np.nan, np.nan, np.nan, np.nan, np.nan, np.nan, np.nan, np.nan, 1]\n",
    "    row_df = pd.DataFrame([new_row], columns=df_filtered.columns)\n",
    "    df_filtered = pd.concat([df_filtered, row_df], ignore_index=True)\n",
    "df_filtered.shape"
   ]
  },
  {
   "cell_type": "code",
   "execution_count": 111,
   "id": "32cc8b63-da59-4778-a227-8e4c1cd31067",
   "metadata": {},
   "outputs": [
    {
     "data": {
      "text/plain": [
       "98"
      ]
     },
     "execution_count": 111,
     "metadata": {},
     "output_type": "execute_result"
    }
   ],
   "source": [
    "33830-33732"
   ]
  },
  {
   "cell_type": "code",
   "execution_count": 112,
   "id": "d76d74fa-da7e-402c-8096-ea3d7f47f227",
   "metadata": {},
   "outputs": [
    {
     "data": {
      "text/plain": [
       "dep                   0\n",
       "nomdep                0\n",
       "codecommune           0\n",
       "nomcommune            0\n",
       "KP1_capitalimmo22    98\n",
       "KP1_prixbien22       98\n",
       "KP1_capitalimmo12    98\n",
       "KP1_prixbien12       98\n",
       "KP1_capitalimmo02    98\n",
       "KP1_prixbien02       98\n",
       "KP1_capitalimmo92    98\n",
       "KP1_prixbien92       98\n",
       "DBL_bug               0\n",
       "dtype: int64"
      ]
     },
     "execution_count": 112,
     "metadata": {},
     "output_type": "execute_result"
    }
   ],
   "source": [
    "df_filtered.isna().sum()"
   ]
  },
  {
   "cell_type": "code",
   "execution_count": 113,
   "id": "cd31b619-bf63-4b59-a198-433b8fc91a96",
   "metadata": {},
   "outputs": [
    {
     "data": {
      "text/plain": [
       "33830"
      ]
     },
     "execution_count": 113,
     "metadata": {},
     "output_type": "execute_result"
    }
   ],
   "source": [
    "len(lines)"
   ]
  },
  {
   "cell_type": "code",
   "execution_count": 114,
   "id": "d003b9a0-0bb3-46e0-ba38-7404e8e5e432",
   "metadata": {},
   "outputs": [
    {
     "data": {
      "text/plain": [
       "33830"
      ]
     },
     "execution_count": 114,
     "metadata": {},
     "output_type": "execute_result"
    }
   ],
   "source": [
    "len(df_filtered)"
   ]
  },
  {
   "cell_type": "markdown",
   "id": "352451f1-99da-4ac0-a95a-8deb6ac94389",
   "metadata": {},
   "source": [
    "## <a name=\"EXPORT\"></a>Partie 4 : EXPORT&nbsp;&nbsp;&nbsp;&nbsp;&nbsp;<a href=\"#TOP\">&uarr;</a>\n",
    "\n"
   ]
  },
  {
   "cell_type": "code",
   "execution_count": 115,
   "id": "d6c0262e-c161-4364-8ee0-353db9958a0a",
   "metadata": {},
   "outputs": [
    {
     "name": "stdout",
     "output_type": "stream",
     "text": [
      "0 dep\n",
      "1 nomdep\n",
      "2 codecommune\n",
      "3 nomcommune\n",
      "4 KP1_capitalimmo22\n",
      "5 KP1_prixbien22\n",
      "6 KP1_capitalimmo12\n",
      "7 KP1_prixbien12\n",
      "8 KP1_capitalimmo02\n",
      "9 KP1_prixbien02\n",
      "10 KP1_capitalimmo92\n",
      "11 KP1_prixbien92\n",
      "12 DBL_bug\n"
     ]
    }
   ],
   "source": [
    "for i,c in enumerate(df_filtered) : \n",
    "    print (i,c)"
   ]
  },
  {
   "cell_type": "code",
   "execution_count": 116,
   "id": "01e85959-eaab-4e7a-8dc5-55ffcac8bf0a",
   "metadata": {},
   "outputs": [],
   "source": [
    "path_export='../DATA/EXPORT_CSV/final_KP1_capitalimmobiliercommunes.csv'"
   ]
  },
  {
   "cell_type": "code",
   "execution_count": 117,
   "id": "2f9fa22a-3237-4131-9fae-b4604341807f",
   "metadata": {},
   "outputs": [
    {
     "name": "stdout",
     "output_type": "stream",
     "text": [
      "DataFrame exported to: ../DATA/EXPORT_CSV/final_KP1_capitalimmobiliercommunes.csv\n"
     ]
    }
   ],
   "source": [
    "df_filtered.to_csv(path_export, sep=';', index=False)\n",
    "\n",
    "print(f'DataFrame exported to: {path_export}')"
   ]
  },
  {
   "cell_type": "code",
   "execution_count": null,
   "id": "d7c7efd6-a789-4a43-85dc-94c4dc7ec3a7",
   "metadata": {},
   "outputs": [],
   "source": []
  }
 ],
 "metadata": {
  "kernelspec": {
   "display_name": "Python 3 (ipykernel)",
   "language": "python",
   "name": "python3"
  },
  "language_info": {
   "codemirror_mode": {
    "name": "ipython",
    "version": 3
   },
   "file_extension": ".py",
   "mimetype": "text/x-python",
   "name": "python",
   "nbconvert_exporter": "python",
   "pygments_lexer": "ipython3",
   "version": "3.10.12"
  }
 },
 "nbformat": 4,
 "nbformat_minor": 5
}
