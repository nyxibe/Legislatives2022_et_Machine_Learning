{
 "cells": [
  {
   "cell_type": "markdown",
   "id": "ea3e4cdc-4ad0-480e-8a5e-0e4e4dee9ac3",
   "metadata": {},
   "source": [
    "## <center>  Model Creat Dataframe to EXPORT from CSV<br/></center>\n",
    "<a name=\"TOP\">dev :\n",
    "    Fichier CSV :  xxxxxxx.csv</a>\n",
    "    \n",
    "# Description Fichiers :\n",
    "\n",
    "# Synthese des Actions :\n",
    "\n",
    "  \n",
    "**<u>MENU</u>** \n",
    "- <a href=\"#EDA\">P0 : Mini EDA</a>\n",
    "- <a href=\"#Import\">P1 : Import CSV</a>\n",
    "- <a href=\"#Nan\">P1 : Traitement des Nan</a>\n",
    "- <a href=\"#Nan\">P2 : Filtres et calculs</a>\n",
    "- <a href=\"#Nan\">P3 : EXPORT (/DATA/EXPORT_CSV/final_xxxxxxx.csv)</a>"
   ]
  },
  {
   "cell_type": "code",
   "execution_count": null,
   "id": "fa89b09c-9546-4c44-8d26-4b5e2964667a",
   "metadata": {},
   "outputs": [],
   "source": []
  },
  {
   "cell_type": "markdown",
   "id": "0ace3e62-c0be-4b2f-8c07-37064f44451f",
   "metadata": {},
   "source": [
    "## <a name=\"EDA\"></a>Partie 0 : Mini EDA &nbsp;&nbsp;&nbsp;&nbsp;&nbsp;<a href=\"#TOP\">&uarr;</a>"
   ]
  },
  {
   "cell_type": "code",
   "execution_count": null,
   "id": "c4dd5305-06fe-45a8-9e25-00878255d209",
   "metadata": {},
   "outputs": [],
   "source": []
  },
  {
   "cell_type": "code",
   "execution_count": null,
   "id": "dbdac274-be81-4a28-b770-2188bcba9e03",
   "metadata": {},
   "outputs": [],
   "source": []
  },
  {
   "cell_type": "markdown",
   "id": "a972d34f-9fca-4224-ac82-f7ea26394836",
   "metadata": {},
   "source": [
    "## <a name=\"Import\"></a>Partie 1 : Import CSV&nbsp;&nbsp;&nbsp;&nbsp;&nbsp;<a href=\"#TOP\">&uarr;</a>"
   ]
  },
  {
   "cell_type": "code",
   "execution_count": null,
   "id": "e2924448-8c43-4e2e-9ff4-a6aff4754e33",
   "metadata": {},
   "outputs": [],
   "source": []
  },
  {
   "cell_type": "code",
   "execution_count": null,
   "id": "2f9fa22a-3237-4131-9fae-b4604341807f",
   "metadata": {},
   "outputs": [],
   "source": []
  },
  {
   "cell_type": "code",
   "execution_count": null,
   "id": "d7c7efd6-a789-4a43-85dc-94c4dc7ec3a7",
   "metadata": {},
   "outputs": [],
   "source": []
  }
 ],
 "metadata": {
  "kernelspec": {
   "display_name": "Python 3 (ipykernel)",
   "language": "python",
   "name": "python3"
  },
  "language_info": {
   "codemirror_mode": {
    "name": "ipython",
    "version": 3
   },
   "file_extension": ".py",
   "mimetype": "text/x-python",
   "name": "python",
   "nbconvert_exporter": "python",
   "pygments_lexer": "ipython3",
   "version": "3.10.12"
  }
 },
 "nbformat": 4,
 "nbformat_minor": 5
}
