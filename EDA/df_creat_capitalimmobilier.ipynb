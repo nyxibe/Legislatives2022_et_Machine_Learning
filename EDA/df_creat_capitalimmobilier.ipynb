{
 "cells": [
  {
   "cell_type": "markdown",
   "id": "ea3e4cdc-4ad0-480e-8a5e-0e4e4dee9ac3",
   "metadata": {},
   "source": [
    "# <center>  Model Creat Dataframe CAPITAL IMMOBILIER [KP0]<br/></center>\n",
    "<a name=\"TOP\"></a>\n",
    "- dev : nyx\n",
    "- Fichier CSV :  Capital_immobilier_csv/Capital_immobilier_csv/capitalimmobilier.csv</a>\n",
    "    \n",
    "# Description Fichiers : \n",
    "Transaction immmobilieres sur la communes \n",
    "sur 2 périodes P1 [2014;2017] & P2 [2018;2021]\n",
    "avec pour chaque periode :\n",
    "- prix total des transaction (Pri)\n",
    "- Surface totale des transactions (Surf)\n",
    "- Surface totale des tarrainss (SurfTer)\n",
    "- Nombre de transactions (transac)\n",
    "- Prix m² moyen (prim2)\n",
    "\n",
    "# Synthese des Actions :\n",
    "Plus de 1000 communes non renseignees flag 1 pour BL_bug\n",
    "creation de lignes avec que des 0\n",
    "  \n",
    "**<u>MENU</u>** \n",
    "- <a href=\"#Import\">P0 : Import CSV</a>\n",
    "- <a href=\"#EDA\">P1 : Mini EDA</a>\n",
    "- <a href=\"#Nan\">P2 : Traitement des Nan</a>\n",
    "- <a href=\"#TRANSCO\">P3 : Filtres et/ou calculs</a>\n",
    "- <a href=\"#EXPORT\">P4 : EXPORT (/DATA/EXPORT_CSV/final_xxxxxxx.csv)</a>\n",
    "\n",
    "\n",
    "\n"
   ]
  },
  {
   "cell_type": "markdown",
   "id": "ca339594-e0cb-478d-b4fb-3e1af6de883d",
   "metadata": {},
   "source": [
    "PREFIXE FICHIER : KP0\n",
    "Structure :\n",
    "\n",
    "    0 dep\n",
    "    1 nomdep\n",
    "    2 codecommune\n",
    "    3 nomcommune\n",
    "    4 KP0_Pri_P1 \n",
    "    5 KP0_Surf_P1\n",
    "    6 KP0_SurfTer_P1\n",
    "    7 KP0_transac_P1\n",
    "    8 KP0_prim2_P1\n",
    "    9 KP0_Pri_P2\n",
    "    10 KP0_Surf_P2\n",
    "    11 KP0_SurfTer_P2\n",
    "    12 KP0_transac_P2\n",
    "    13 KP0_prim2_P2\n",
    "    14 DBL_bug (flag à 1 poour les lignes ajoutées avec des 0)\n",
    "\n"
   ]
  },
  {
   "cell_type": "code",
   "execution_count": 43,
   "id": "95d983a2-4b3e-4b94-855b-bf6d33d4ba75",
   "metadata": {},
   "outputs": [],
   "source": [
    "import warnings\n",
    "warnings.filterwarnings(\"ignore\")\n",
    "\n",
    "import os\n",
    "import zipfile\n",
    "import pandas as pd\n",
    "import numpy as np\n",
    "\n",
    "import seaborn as sns\n",
    "import matplotlib.pyplot as plt"
   ]
  },
  {
   "cell_type": "markdown",
   "id": "baa4ba11-c303-401b-b654-f6d5a2f6b7b4",
   "metadata": {},
   "source": [
    "## <a name=\"Import\"></a>Partie 0 : Import CSV&nbsp;&nbsp;&nbsp;&nbsp;&nbsp; <a href=\"#TOP\">&uarr;</a>"
   ]
  },
  {
   "cell_type": "code",
   "execution_count": 44,
   "id": "64bd9ee9-428d-4c50-8304-e1a2635a352b",
   "metadata": {},
   "outputs": [],
   "source": [
    "def df_creat(filename, df_dataframe):  \n",
    "    df = df_dataframe[df_dataframe['filename'] == filename]\n",
    "    if len(df) == 1:\n",
    "        row = df.iloc[0]\n",
    "        file = row['path']\n",
    "        if os.path.exists(file):\n",
    "            print(file)\n",
    "            df_from_csv = pd.read_csv(file, encoding='utf-8', low_memory=False)\n",
    "            return df_from_csv\n",
    "        else:\n",
    "            print('FICHIER NON TROUVE', file)\n",
    "            return pd.DataFrame()\n",
    "    else:\n",
    "        print(f\"filename: '{filename}' return size: {len(df)}\")\n",
    "        return pd.DataFrame()"
   ]
  },
  {
   "cell_type": "code",
   "execution_count": 45,
   "id": "4b858715-3881-4cae-b6f1-59d3e10d9276",
   "metadata": {},
   "outputs": [],
   "source": [
    "csv_file_path = 'df_filtred.csv'\n",
    "# Use pandas to read the CSV file into a DataFrame with UTF-8 encoding\n",
    "df_cat = pd.read_csv(csv_file_path, encoding='utf-8')"
   ]
  },
  {
   "cell_type": "code",
   "execution_count": 46,
   "id": "677ef87c-1d20-4ea9-b483-24fcc6557f7d",
   "metadata": {},
   "outputs": [
    {
     "data": {
      "text/html": [
       "<div>\n",
       "<style scoped>\n",
       "    .dataframe tbody tr th:only-of-type {\n",
       "        vertical-align: middle;\n",
       "    }\n",
       "\n",
       "    .dataframe tbody tr th {\n",
       "        vertical-align: top;\n",
       "    }\n",
       "\n",
       "    .dataframe thead th {\n",
       "        text-align: right;\n",
       "    }\n",
       "</style>\n",
       "<table border=\"1\" class=\"dataframe\">\n",
       "  <thead>\n",
       "    <tr style=\"text-align: right;\">\n",
       "      <th></th>\n",
       "      <th>category</th>\n",
       "      <th>filename</th>\n",
       "      <th>comment</th>\n",
       "      <th>size</th>\n",
       "      <th>depart</th>\n",
       "      <th>district</th>\n",
       "      <th>commune</th>\n",
       "      <th>canton</th>\n",
       "      <th>yyyy</th>\n",
       "      <th>path</th>\n",
       "      <th>codecommune</th>\n",
       "    </tr>\n",
       "  </thead>\n",
       "  <tbody>\n",
       "    <tr>\n",
       "      <th>0</th>\n",
       "      <td>Taille_agglo_commune_csv</td>\n",
       "      <td>codescommunes1999</td>\n",
       "      <td>codes</td>\n",
       "      <td>0</td>\n",
       "      <td>0</td>\n",
       "      <td>0</td>\n",
       "      <td>1</td>\n",
       "      <td>0</td>\n",
       "      <td>1999</td>\n",
       "      <td>../../ProjetCommun/DATA_SOURCES/HCP/Taille_agg...</td>\n",
       "      <td>1</td>\n",
       "    </tr>\n",
       "  </tbody>\n",
       "</table>\n",
       "</div>"
      ],
      "text/plain": [
       "                   category           filename comment  size  depart  \\\n",
       "0  Taille_agglo_commune_csv  codescommunes1999   codes     0       0   \n",
       "\n",
       "   district  commune  canton  yyyy  \\\n",
       "0         0        1       0  1999   \n",
       "\n",
       "                                                path  codecommune  \n",
       "0  ../../ProjetCommun/DATA_SOURCES/HCP/Taille_agg...            1  "
      ]
     },
     "execution_count": 46,
     "metadata": {},
     "output_type": "execute_result"
    }
   ],
   "source": [
    "df_cat.head(1)"
   ]
  },
  {
   "cell_type": "code",
   "execution_count": 48,
   "id": "04da4fb3-c6ba-4332-9b2a-872c14a87126",
   "metadata": {},
   "outputs": [
    {
     "name": "stdout",
     "output_type": "stream",
     "text": [
      "../../ProjetCommun/DATA_SOURCES/HCP/Capital_immobilier_csv/Capital_immobilier_csv/capitalimmobilier.csv\n"
     ]
    }
   ],
   "source": [
    "df = df_creat('capitalimmobilier', df_cat)"
   ]
  },
  {
   "cell_type": "markdown",
   "id": "6647aa81-cb46-45dd-a922-b069be341809",
   "metadata": {},
   "source": [
    "## <a name=\"EDA\"></a>Partie 1 : Mini EDA &nbsp;&nbsp;&nbsp;&nbsp;&nbsp; <a href=\"#TOP\">&uarr;</a>"
   ]
  },
  {
   "cell_type": "code",
   "execution_count": 49,
   "id": "cd6d2a1b-246e-4d37-907b-e133b079fa9f",
   "metadata": {},
   "outputs": [
    {
     "data": {
      "text/plain": [
       "(5455409, 14)"
      ]
     },
     "execution_count": 49,
     "metadata": {},
     "output_type": "execute_result"
    }
   ],
   "source": [
    "df.shape"
   ]
  },
  {
   "cell_type": "code",
   "execution_count": 50,
   "id": "879ccbd4-bb63-4fa4-b6cb-d8fe5e85583f",
   "metadata": {},
   "outputs": [],
   "source": [
    "df['tmp']=df['prixbien']"
   ]
  },
  {
   "cell_type": "code",
   "execution_count": 51,
   "id": "594cdd42-69ef-4827-8497-f933f546c1ec",
   "metadata": {},
   "outputs": [
    {
     "data": {
      "text/html": [
       "<div>\n",
       "<style scoped>\n",
       "    .dataframe tbody tr th:only-of-type {\n",
       "        vertical-align: middle;\n",
       "    }\n",
       "\n",
       "    .dataframe tbody tr th {\n",
       "        vertical-align: top;\n",
       "    }\n",
       "\n",
       "    .dataframe thead th {\n",
       "        text-align: right;\n",
       "    }\n",
       "</style>\n",
       "<table border=\"1\" class=\"dataframe\">\n",
       "  <thead>\n",
       "    <tr style=\"text-align: right;\">\n",
       "      <th></th>\n",
       "      <th>annee</th>\n",
       "      <th>dep</th>\n",
       "      <th>nomdep</th>\n",
       "      <th>codecommune</th>\n",
       "      <th>nomcommune</th>\n",
       "      <th>plm</th>\n",
       "      <th>prixbien</th>\n",
       "      <th>prixm2</th>\n",
       "      <th>surface</th>\n",
       "      <th>surfaceterrain</th>\n",
       "      <th>codemaisonappartement</th>\n",
       "      <th>datemutation</th>\n",
       "      <th>novoie</th>\n",
       "      <th>voie</th>\n",
       "      <th>tmp</th>\n",
       "    </tr>\n",
       "  </thead>\n",
       "  <tbody>\n",
       "    <tr>\n",
       "      <th>0</th>\n",
       "      <td>2014</td>\n",
       "      <td>01</td>\n",
       "      <td>AIN</td>\n",
       "      <td>01001</td>\n",
       "      <td>ABERGEMENT-CLEMENCIAT</td>\n",
       "      <td>0</td>\n",
       "      <td>40000.0</td>\n",
       "      <td>370.37036</td>\n",
       "      <td>108</td>\n",
       "      <td>1005</td>\n",
       "      <td>1</td>\n",
       "      <td>2014-01-30</td>\n",
       "      <td>6.0</td>\n",
       "      <td>LES MURIERS</td>\n",
       "      <td>40000.0</td>\n",
       "    </tr>\n",
       "    <tr>\n",
       "      <th>1</th>\n",
       "      <td>2014</td>\n",
       "      <td>01</td>\n",
       "      <td>AIN</td>\n",
       "      <td>01001</td>\n",
       "      <td>ABERGEMENT-CLEMENCIAT</td>\n",
       "      <td>0</td>\n",
       "      <td>93000.0</td>\n",
       "      <td>861.11108</td>\n",
       "      <td>108</td>\n",
       "      <td>1005</td>\n",
       "      <td>1</td>\n",
       "      <td>2014-01-27</td>\n",
       "      <td>6.0</td>\n",
       "      <td>LES MURIERS</td>\n",
       "      <td>93000.0</td>\n",
       "    </tr>\n",
       "    <tr>\n",
       "      <th>2</th>\n",
       "      <td>2014</td>\n",
       "      <td>01</td>\n",
       "      <td>AIN</td>\n",
       "      <td>01001</td>\n",
       "      <td>ABERGEMENT-CLEMENCIAT</td>\n",
       "      <td>0</td>\n",
       "      <td>134750.0</td>\n",
       "      <td>2173.38720</td>\n",
       "      <td>62</td>\n",
       "      <td>523</td>\n",
       "      <td>1</td>\n",
       "      <td>2014-02-20</td>\n",
       "      <td>5001.0</td>\n",
       "      <td>MUNETVILLE</td>\n",
       "      <td>134750.0</td>\n",
       "    </tr>\n",
       "    <tr>\n",
       "      <th>3</th>\n",
       "      <td>2014</td>\n",
       "      <td>01</td>\n",
       "      <td>AIN</td>\n",
       "      <td>01001</td>\n",
       "      <td>ABERGEMENT-CLEMENCIAT</td>\n",
       "      <td>0</td>\n",
       "      <td>186820.0</td>\n",
       "      <td>1569.91600</td>\n",
       "      <td>119</td>\n",
       "      <td>1087</td>\n",
       "      <td>1</td>\n",
       "      <td>2014-07-03</td>\n",
       "      <td>5.0</td>\n",
       "      <td>LES MURIERS</td>\n",
       "      <td>186820.0</td>\n",
       "    </tr>\n",
       "    <tr>\n",
       "      <th>4</th>\n",
       "      <td>2014</td>\n",
       "      <td>01</td>\n",
       "      <td>AIN</td>\n",
       "      <td>01001</td>\n",
       "      <td>ABERGEMENT-CLEMENCIAT</td>\n",
       "      <td>0</td>\n",
       "      <td>193000.0</td>\n",
       "      <td>1873.78640</td>\n",
       "      <td>103</td>\n",
       "      <td>833</td>\n",
       "      <td>1</td>\n",
       "      <td>2014-07-07</td>\n",
       "      <td>5172.0</td>\n",
       "      <td>MUNETVILLE</td>\n",
       "      <td>193000.0</td>\n",
       "    </tr>\n",
       "  </tbody>\n",
       "</table>\n",
       "</div>"
      ],
      "text/plain": [
       "   annee dep nomdep codecommune             nomcommune  plm  prixbien  \\\n",
       "0   2014  01    AIN       01001  ABERGEMENT-CLEMENCIAT    0   40000.0   \n",
       "1   2014  01    AIN       01001  ABERGEMENT-CLEMENCIAT    0   93000.0   \n",
       "2   2014  01    AIN       01001  ABERGEMENT-CLEMENCIAT    0  134750.0   \n",
       "3   2014  01    AIN       01001  ABERGEMENT-CLEMENCIAT    0  186820.0   \n",
       "4   2014  01    AIN       01001  ABERGEMENT-CLEMENCIAT    0  193000.0   \n",
       "\n",
       "       prixm2  surface  surfaceterrain  codemaisonappartement datemutation  \\\n",
       "0   370.37036      108            1005                      1   2014-01-30   \n",
       "1   861.11108      108            1005                      1   2014-01-27   \n",
       "2  2173.38720       62             523                      1   2014-02-20   \n",
       "3  1569.91600      119            1087                      1   2014-07-03   \n",
       "4  1873.78640      103             833                      1   2014-07-07   \n",
       "\n",
       "   novoie         voie       tmp  \n",
       "0     6.0  LES MURIERS   40000.0  \n",
       "1     6.0  LES MURIERS   93000.0  \n",
       "2  5001.0   MUNETVILLE  134750.0  \n",
       "3     5.0  LES MURIERS  186820.0  \n",
       "4  5172.0   MUNETVILLE  193000.0  "
      ]
     },
     "execution_count": 51,
     "metadata": {},
     "output_type": "execute_result"
    }
   ],
   "source": [
    "df.head(5)"
   ]
  },
  {
   "cell_type": "code",
   "execution_count": 52,
   "id": "af0aa5bf-b220-425a-abb7-478085b19a1f",
   "metadata": {},
   "outputs": [
    {
     "name": "stdout",
     "output_type": "stream",
     "text": [
      "annee\n",
      "dep\n",
      "nomdep\n",
      "codecommune\n",
      "nomcommune\n",
      "plm\n",
      "prixbien\n",
      "prixm2\n",
      "surface\n",
      "surfaceterrain\n",
      "codemaisonappartement\n",
      "datemutation\n",
      "novoie\n",
      "voie\n",
      "tmp\n"
     ]
    }
   ],
   "source": [
    "for c in df : \n",
    "    print (c)\n",
    "    "
   ]
  },
  {
   "cell_type": "code",
   "execution_count": 53,
   "id": "af64eb4f-efbb-4756-904c-145230bc72f0",
   "metadata": {},
   "outputs": [
    {
     "data": {
      "text/plain": [
       "(2014, 2021)"
      ]
     },
     "execution_count": 53,
     "metadata": {},
     "output_type": "execute_result"
    }
   ],
   "source": [
    "df['annee'].min().min(),df['annee'].max().max()"
   ]
  },
  {
   "cell_type": "markdown",
   "id": "b6a774f6-c8f8-4eca-bf92-e71386d7dec4",
   "metadata": {},
   "source": [
    "## Creation 2 periodes"
   ]
  },
  {
   "cell_type": "code",
   "execution_count": 54,
   "id": "26745130-23e4-4107-af10-4e107a3f22a3",
   "metadata": {},
   "outputs": [],
   "source": [
    "# SPLIT 2 periodes fonctions des elelections\n",
    "df1 = df[df['annee'] < 2018]\n",
    "df2 = df[df['annee'] >= 2018]"
   ]
  },
  {
   "cell_type": "code",
   "execution_count": 55,
   "id": "4b3c7446-5808-4852-ad6f-84ffdfdaca01",
   "metadata": {},
   "outputs": [
    {
     "data": {
      "text/plain": [
       "((2767929, 15), (2687480, 15))"
      ]
     },
     "execution_count": 55,
     "metadata": {},
     "output_type": "execute_result"
    }
   ],
   "source": [
    "df1.shape,df2.shape,"
   ]
  },
  {
   "cell_type": "code",
   "execution_count": 56,
   "id": "c3f3ab4a-1f4c-4d38-8c61-9b7425ac7366",
   "metadata": {},
   "outputs": [
    {
     "data": {
      "text/html": [
       "<div>\n",
       "<style scoped>\n",
       "    .dataframe tbody tr th:only-of-type {\n",
       "        vertical-align: middle;\n",
       "    }\n",
       "\n",
       "    .dataframe tbody tr th {\n",
       "        vertical-align: top;\n",
       "    }\n",
       "\n",
       "    .dataframe thead th {\n",
       "        text-align: right;\n",
       "    }\n",
       "</style>\n",
       "<table border=\"1\" class=\"dataframe\">\n",
       "  <thead>\n",
       "    <tr style=\"text-align: right;\">\n",
       "      <th></th>\n",
       "      <th>annee</th>\n",
       "      <th>dep</th>\n",
       "      <th>nomdep</th>\n",
       "      <th>codecommune</th>\n",
       "      <th>nomcommune</th>\n",
       "      <th>plm</th>\n",
       "      <th>prixbien</th>\n",
       "      <th>prixm2</th>\n",
       "      <th>surface</th>\n",
       "      <th>surfaceterrain</th>\n",
       "      <th>codemaisonappartement</th>\n",
       "      <th>datemutation</th>\n",
       "      <th>novoie</th>\n",
       "      <th>voie</th>\n",
       "      <th>tmp</th>\n",
       "    </tr>\n",
       "  </thead>\n",
       "  <tbody>\n",
       "    <tr>\n",
       "      <th>0</th>\n",
       "      <td>2014</td>\n",
       "      <td>01</td>\n",
       "      <td>AIN</td>\n",
       "      <td>01001</td>\n",
       "      <td>ABERGEMENT-CLEMENCIAT</td>\n",
       "      <td>0</td>\n",
       "      <td>40000.0</td>\n",
       "      <td>370.37036</td>\n",
       "      <td>108</td>\n",
       "      <td>1005</td>\n",
       "      <td>1</td>\n",
       "      <td>2014-01-30</td>\n",
       "      <td>6.0</td>\n",
       "      <td>LES MURIERS</td>\n",
       "      <td>40000.0</td>\n",
       "    </tr>\n",
       "    <tr>\n",
       "      <th>1</th>\n",
       "      <td>2014</td>\n",
       "      <td>01</td>\n",
       "      <td>AIN</td>\n",
       "      <td>01001</td>\n",
       "      <td>ABERGEMENT-CLEMENCIAT</td>\n",
       "      <td>0</td>\n",
       "      <td>93000.0</td>\n",
       "      <td>861.11108</td>\n",
       "      <td>108</td>\n",
       "      <td>1005</td>\n",
       "      <td>1</td>\n",
       "      <td>2014-01-27</td>\n",
       "      <td>6.0</td>\n",
       "      <td>LES MURIERS</td>\n",
       "      <td>93000.0</td>\n",
       "    </tr>\n",
       "  </tbody>\n",
       "</table>\n",
       "</div>"
      ],
      "text/plain": [
       "   annee dep nomdep codecommune             nomcommune  plm  prixbien  \\\n",
       "0   2014  01    AIN       01001  ABERGEMENT-CLEMENCIAT    0   40000.0   \n",
       "1   2014  01    AIN       01001  ABERGEMENT-CLEMENCIAT    0   93000.0   \n",
       "\n",
       "      prixm2  surface  surfaceterrain  codemaisonappartement datemutation  \\\n",
       "0  370.37036      108            1005                      1   2014-01-30   \n",
       "1  861.11108      108            1005                      1   2014-01-27   \n",
       "\n",
       "   novoie         voie      tmp  \n",
       "0     6.0  LES MURIERS  40000.0  \n",
       "1     6.0  LES MURIERS  93000.0  "
      ]
     },
     "execution_count": 56,
     "metadata": {},
     "output_type": "execute_result"
    }
   ],
   "source": [
    "df1.head(2)"
   ]
  },
  {
   "cell_type": "code",
   "execution_count": 57,
   "id": "be03e033-207d-42e5-87ba-afd9cf259056",
   "metadata": {},
   "outputs": [],
   "source": [
    "df_group1 = df1.groupby(['dep', 'nomdep', 'codecommune', 'nomcommune']).agg({\n",
    "    'prixbien': 'sum',\n",
    "    'surface': 'sum',\n",
    "    'surfaceterrain': 'sum',\n",
    "    'tmp': 'count'\n",
    "}).reset_index()"
   ]
  },
  {
   "cell_type": "code",
   "execution_count": 58,
   "id": "b89ad24a-e429-4945-910f-215e8cb19787",
   "metadata": {},
   "outputs": [
    {
     "data": {
      "text/html": [
       "<div>\n",
       "<style scoped>\n",
       "    .dataframe tbody tr th:only-of-type {\n",
       "        vertical-align: middle;\n",
       "    }\n",
       "\n",
       "    .dataframe tbody tr th {\n",
       "        vertical-align: top;\n",
       "    }\n",
       "\n",
       "    .dataframe thead th {\n",
       "        text-align: right;\n",
       "    }\n",
       "</style>\n",
       "<table border=\"1\" class=\"dataframe\">\n",
       "  <thead>\n",
       "    <tr style=\"text-align: right;\">\n",
       "      <th></th>\n",
       "      <th>dep</th>\n",
       "      <th>nomdep</th>\n",
       "      <th>codecommune</th>\n",
       "      <th>nomcommune</th>\n",
       "      <th>prixbien</th>\n",
       "      <th>surface</th>\n",
       "      <th>surfaceterrain</th>\n",
       "      <th>tmp</th>\n",
       "    </tr>\n",
       "  </thead>\n",
       "  <tbody>\n",
       "    <tr>\n",
       "      <th>0</th>\n",
       "      <td>01</td>\n",
       "      <td>AIN</td>\n",
       "      <td>01001</td>\n",
       "      <td>ABERGEMENT-CLEMENCIAT</td>\n",
       "      <td>5190811.33</td>\n",
       "      <td>2960</td>\n",
       "      <td>29249</td>\n",
       "      <td>28</td>\n",
       "    </tr>\n",
       "    <tr>\n",
       "      <th>1</th>\n",
       "      <td>01</td>\n",
       "      <td>AIN</td>\n",
       "      <td>01002</td>\n",
       "      <td>ABERGEMENT-DE-VAREY</td>\n",
       "      <td>2442260.00</td>\n",
       "      <td>2091</td>\n",
       "      <td>7040</td>\n",
       "      <td>21</td>\n",
       "    </tr>\n",
       "  </tbody>\n",
       "</table>\n",
       "</div>"
      ],
      "text/plain": [
       "  dep nomdep codecommune             nomcommune    prixbien  surface  \\\n",
       "0  01    AIN       01001  ABERGEMENT-CLEMENCIAT  5190811.33     2960   \n",
       "1  01    AIN       01002    ABERGEMENT-DE-VAREY  2442260.00     2091   \n",
       "\n",
       "   surfaceterrain  tmp  \n",
       "0           29249   28  \n",
       "1            7040   21  "
      ]
     },
     "execution_count": 58,
     "metadata": {},
     "output_type": "execute_result"
    }
   ],
   "source": [
    "df_group1.head(2)"
   ]
  },
  {
   "cell_type": "code",
   "execution_count": 59,
   "id": "ad67875a-21e2-4f9b-b3b0-21804d20f492",
   "metadata": {},
   "outputs": [
    {
     "data": {
      "text/html": [
       "<div>\n",
       "<style scoped>\n",
       "    .dataframe tbody tr th:only-of-type {\n",
       "        vertical-align: middle;\n",
       "    }\n",
       "\n",
       "    .dataframe tbody tr th {\n",
       "        vertical-align: top;\n",
       "    }\n",
       "\n",
       "    .dataframe thead th {\n",
       "        text-align: right;\n",
       "    }\n",
       "</style>\n",
       "<table border=\"1\" class=\"dataframe\">\n",
       "  <thead>\n",
       "    <tr style=\"text-align: right;\">\n",
       "      <th></th>\n",
       "      <th>dep</th>\n",
       "      <th>nomdep</th>\n",
       "      <th>codecommune</th>\n",
       "      <th>nomcommune</th>\n",
       "      <th>prixbien</th>\n",
       "      <th>surface</th>\n",
       "      <th>surfaceterrain</th>\n",
       "      <th>tmp</th>\n",
       "      <th>KP0_prim2_P1</th>\n",
       "    </tr>\n",
       "  </thead>\n",
       "  <tbody>\n",
       "    <tr>\n",
       "      <th>0</th>\n",
       "      <td>01</td>\n",
       "      <td>AIN</td>\n",
       "      <td>01001</td>\n",
       "      <td>ABERGEMENT-CLEMENCIAT</td>\n",
       "      <td>5190811.33</td>\n",
       "      <td>2960</td>\n",
       "      <td>29249</td>\n",
       "      <td>28</td>\n",
       "      <td>1753.652476</td>\n",
       "    </tr>\n",
       "    <tr>\n",
       "      <th>1</th>\n",
       "      <td>01</td>\n",
       "      <td>AIN</td>\n",
       "      <td>01002</td>\n",
       "      <td>ABERGEMENT-DE-VAREY</td>\n",
       "      <td>2442260.00</td>\n",
       "      <td>2091</td>\n",
       "      <td>7040</td>\n",
       "      <td>21</td>\n",
       "      <td>1167.986609</td>\n",
       "    </tr>\n",
       "  </tbody>\n",
       "</table>\n",
       "</div>"
      ],
      "text/plain": [
       "  dep nomdep codecommune             nomcommune    prixbien  surface  \\\n",
       "0  01    AIN       01001  ABERGEMENT-CLEMENCIAT  5190811.33     2960   \n",
       "1  01    AIN       01002    ABERGEMENT-DE-VAREY  2442260.00     2091   \n",
       "\n",
       "   surfaceterrain  tmp  KP0_prim2_P1  \n",
       "0           29249   28   1753.652476  \n",
       "1            7040   21   1167.986609  "
      ]
     },
     "execution_count": 59,
     "metadata": {},
     "output_type": "execute_result"
    }
   ],
   "source": [
    "df_group1['KP0_prim2_P1'] = df_group1['prixbien'] / df_group1['surface']\n",
    "df_group1.head(2)"
   ]
  },
  {
   "cell_type": "code",
   "execution_count": 60,
   "id": "75fad26d-8751-4c8b-be1e-c6d37b61b7d8",
   "metadata": {},
   "outputs": [
    {
     "data": {
      "text/html": [
       "<div>\n",
       "<style scoped>\n",
       "    .dataframe tbody tr th:only-of-type {\n",
       "        vertical-align: middle;\n",
       "    }\n",
       "\n",
       "    .dataframe tbody tr th {\n",
       "        vertical-align: top;\n",
       "    }\n",
       "\n",
       "    .dataframe thead th {\n",
       "        text-align: right;\n",
       "    }\n",
       "</style>\n",
       "<table border=\"1\" class=\"dataframe\">\n",
       "  <thead>\n",
       "    <tr style=\"text-align: right;\">\n",
       "      <th></th>\n",
       "      <th>dep</th>\n",
       "      <th>nomdep</th>\n",
       "      <th>codecommune</th>\n",
       "      <th>nomcommune</th>\n",
       "      <th>KP0_Pri_P1</th>\n",
       "      <th>KP0_Surf_P1</th>\n",
       "      <th>KP0_SurfTer_P1</th>\n",
       "      <th>KP0_transac_P1</th>\n",
       "      <th>KP0_prim2_P1</th>\n",
       "    </tr>\n",
       "  </thead>\n",
       "  <tbody>\n",
       "    <tr>\n",
       "      <th>0</th>\n",
       "      <td>01</td>\n",
       "      <td>AIN</td>\n",
       "      <td>01001</td>\n",
       "      <td>ABERGEMENT-CLEMENCIAT</td>\n",
       "      <td>5190811.33</td>\n",
       "      <td>2960</td>\n",
       "      <td>29249</td>\n",
       "      <td>28</td>\n",
       "      <td>1753.652476</td>\n",
       "    </tr>\n",
       "    <tr>\n",
       "      <th>1</th>\n",
       "      <td>01</td>\n",
       "      <td>AIN</td>\n",
       "      <td>01002</td>\n",
       "      <td>ABERGEMENT-DE-VAREY</td>\n",
       "      <td>2442260.00</td>\n",
       "      <td>2091</td>\n",
       "      <td>7040</td>\n",
       "      <td>21</td>\n",
       "      <td>1167.986609</td>\n",
       "    </tr>\n",
       "  </tbody>\n",
       "</table>\n",
       "</div>"
      ],
      "text/plain": [
       "  dep nomdep codecommune             nomcommune  KP0_Pri_P1  KP0_Surf_P1  \\\n",
       "0  01    AIN       01001  ABERGEMENT-CLEMENCIAT  5190811.33         2960   \n",
       "1  01    AIN       01002    ABERGEMENT-DE-VAREY  2442260.00         2091   \n",
       "\n",
       "   KP0_SurfTer_P1  KP0_transac_P1  KP0_prim2_P1  \n",
       "0           29249              28   1753.652476  \n",
       "1            7040              21   1167.986609  "
      ]
     },
     "execution_count": 60,
     "metadata": {},
     "output_type": "execute_result"
    }
   ],
   "source": [
    "df_group1 = df_group1.rename(columns={\n",
    "    'prixbien': 'KP0_Pri_P1',\n",
    "    'surface': 'KP0_Surf_P1',\n",
    "    'surfaceterrain': 'KP0_SurfTer_P1',\n",
    "    'tmp' : 'KP0_transac_P1'\n",
    "})\n",
    "df_group1.head(2)"
   ]
  },
  {
   "cell_type": "code",
   "execution_count": 61,
   "id": "8a49ac5d-2315-4de2-8576-b340c267cccc",
   "metadata": {},
   "outputs": [
    {
     "data": {
      "text/html": [
       "<div>\n",
       "<style scoped>\n",
       "    .dataframe tbody tr th:only-of-type {\n",
       "        vertical-align: middle;\n",
       "    }\n",
       "\n",
       "    .dataframe tbody tr th {\n",
       "        vertical-align: top;\n",
       "    }\n",
       "\n",
       "    .dataframe thead th {\n",
       "        text-align: right;\n",
       "    }\n",
       "</style>\n",
       "<table border=\"1\" class=\"dataframe\">\n",
       "  <thead>\n",
       "    <tr style=\"text-align: right;\">\n",
       "      <th></th>\n",
       "      <th>dep</th>\n",
       "      <th>nomdep</th>\n",
       "      <th>codecommune</th>\n",
       "      <th>nomcommune</th>\n",
       "      <th>KP0_Pri_P2</th>\n",
       "      <th>KP0_Surf_P2</th>\n",
       "      <th>KP0_SurfTer_P2</th>\n",
       "      <th>KP0_transac_P2</th>\n",
       "      <th>KP0_prim2_P2</th>\n",
       "    </tr>\n",
       "  </thead>\n",
       "  <tbody>\n",
       "    <tr>\n",
       "      <th>0</th>\n",
       "      <td>01</td>\n",
       "      <td>AIN</td>\n",
       "      <td>01001</td>\n",
       "      <td>ABERGEMENT-CLEMENCIAT</td>\n",
       "      <td>5396090.0</td>\n",
       "      <td>2831</td>\n",
       "      <td>19871</td>\n",
       "      <td>24</td>\n",
       "      <td>1906.072059</td>\n",
       "    </tr>\n",
       "    <tr>\n",
       "      <th>1</th>\n",
       "      <td>01</td>\n",
       "      <td>AIN</td>\n",
       "      <td>01002</td>\n",
       "      <td>ABERGEMENT-DE-VAREY</td>\n",
       "      <td>1885119.0</td>\n",
       "      <td>1515</td>\n",
       "      <td>5858</td>\n",
       "      <td>15</td>\n",
       "      <td>1244.302970</td>\n",
       "    </tr>\n",
       "  </tbody>\n",
       "</table>\n",
       "</div>"
      ],
      "text/plain": [
       "  dep nomdep codecommune             nomcommune  KP0_Pri_P2  KP0_Surf_P2  \\\n",
       "0  01    AIN       01001  ABERGEMENT-CLEMENCIAT   5396090.0         2831   \n",
       "1  01    AIN       01002    ABERGEMENT-DE-VAREY   1885119.0         1515   \n",
       "\n",
       "   KP0_SurfTer_P2  KP0_transac_P2  KP0_prim2_P2  \n",
       "0           19871              24   1906.072059  \n",
       "1            5858              15   1244.302970  "
      ]
     },
     "execution_count": 61,
     "metadata": {},
     "output_type": "execute_result"
    }
   ],
   "source": [
    "df_group2 = df2.groupby(['dep', 'nomdep', 'codecommune', 'nomcommune']).agg({\n",
    "    'prixbien': 'sum',\n",
    "    'surface': 'sum',\n",
    "    'surfaceterrain': 'sum',\n",
    "    'tmp' : 'count'\n",
    "}).reset_index()\n",
    "\n",
    "# PRIX / m2\n",
    "df_group2['KP0_prim2_P2'] = df_group2['prixbien'] / df_group2['surface']\n",
    "\n",
    "# RENAME\n",
    "df_group2 = df_group2.rename(columns={\n",
    "    'prixbien': 'KP0_Pri_P2',\n",
    "    'surface': 'KP0_Surf_P2',\n",
    "    'surfaceterrain': 'KP0_SurfTer_P2',\n",
    "    'tmp' : 'KP0_transac_P2'\n",
    "})\n",
    "\n",
    "df_group2.head(2)"
   ]
  },
  {
   "cell_type": "code",
   "execution_count": 62,
   "id": "539cf8a4-e259-4a23-bb77-a1a0d0367da6",
   "metadata": {},
   "outputs": [],
   "source": [
    "df_result = pd.merge(df_group1, df_group2, on=['dep', 'nomdep', 'codecommune', 'nomcommune'], how='outer')\n",
    "\n",
    "# Fill NaN values with 0\n",
    "df_result = df_result.fillna(0)\n"
   ]
  },
  {
   "cell_type": "code",
   "execution_count": 63,
   "id": "73666b8a-fcd9-4026-a112-6623d5fc5259",
   "metadata": {},
   "outputs": [
    {
     "data": {
      "text/html": [
       "<div>\n",
       "<style scoped>\n",
       "    .dataframe tbody tr th:only-of-type {\n",
       "        vertical-align: middle;\n",
       "    }\n",
       "\n",
       "    .dataframe tbody tr th {\n",
       "        vertical-align: top;\n",
       "    }\n",
       "\n",
       "    .dataframe thead th {\n",
       "        text-align: right;\n",
       "    }\n",
       "</style>\n",
       "<table border=\"1\" class=\"dataframe\">\n",
       "  <thead>\n",
       "    <tr style=\"text-align: right;\">\n",
       "      <th></th>\n",
       "      <th>dep</th>\n",
       "      <th>nomdep</th>\n",
       "      <th>codecommune</th>\n",
       "      <th>nomcommune</th>\n",
       "      <th>KP0_Pri_P1</th>\n",
       "      <th>KP0_Surf_P1</th>\n",
       "      <th>KP0_SurfTer_P1</th>\n",
       "      <th>KP0_transac_P1</th>\n",
       "      <th>KP0_prim2_P1</th>\n",
       "      <th>KP0_Pri_P2</th>\n",
       "      <th>KP0_Surf_P2</th>\n",
       "      <th>KP0_SurfTer_P2</th>\n",
       "      <th>KP0_transac_P2</th>\n",
       "      <th>KP0_prim2_P2</th>\n",
       "    </tr>\n",
       "  </thead>\n",
       "  <tbody>\n",
       "    <tr>\n",
       "      <th>0</th>\n",
       "      <td>01</td>\n",
       "      <td>AIN</td>\n",
       "      <td>01001</td>\n",
       "      <td>ABERGEMENT-CLEMENCIAT</td>\n",
       "      <td>5.190811e+06</td>\n",
       "      <td>2960.0</td>\n",
       "      <td>29249.0</td>\n",
       "      <td>28.0</td>\n",
       "      <td>1753.652476</td>\n",
       "      <td>5.396090e+06</td>\n",
       "      <td>2831.0</td>\n",
       "      <td>19871.0</td>\n",
       "      <td>24.0</td>\n",
       "      <td>1906.072059</td>\n",
       "    </tr>\n",
       "    <tr>\n",
       "      <th>1</th>\n",
       "      <td>01</td>\n",
       "      <td>AIN</td>\n",
       "      <td>01002</td>\n",
       "      <td>ABERGEMENT-DE-VAREY</td>\n",
       "      <td>2.442260e+06</td>\n",
       "      <td>2091.0</td>\n",
       "      <td>7040.0</td>\n",
       "      <td>21.0</td>\n",
       "      <td>1167.986609</td>\n",
       "      <td>1.885119e+06</td>\n",
       "      <td>1515.0</td>\n",
       "      <td>5858.0</td>\n",
       "      <td>15.0</td>\n",
       "      <td>1244.302970</td>\n",
       "    </tr>\n",
       "    <tr>\n",
       "      <th>2</th>\n",
       "      <td>01</td>\n",
       "      <td>AIN</td>\n",
       "      <td>01004</td>\n",
       "      <td>AMBERIEU-EN-BUGEY</td>\n",
       "      <td>1.045055e+08</td>\n",
       "      <td>55448.0</td>\n",
       "      <td>171801.0</td>\n",
       "      <td>649.0</td>\n",
       "      <td>1884.748356</td>\n",
       "      <td>1.229008e+08</td>\n",
       "      <td>59595.0</td>\n",
       "      <td>163220.0</td>\n",
       "      <td>711.0</td>\n",
       "      <td>2062.267054</td>\n",
       "    </tr>\n",
       "    <tr>\n",
       "      <th>3</th>\n",
       "      <td>01</td>\n",
       "      <td>AIN</td>\n",
       "      <td>01005</td>\n",
       "      <td>AMBERIEUX-EN-DOMBES</td>\n",
       "      <td>1.729253e+07</td>\n",
       "      <td>9331.0</td>\n",
       "      <td>36586.0</td>\n",
       "      <td>93.0</td>\n",
       "      <td>1853.233952</td>\n",
       "      <td>1.800978e+07</td>\n",
       "      <td>8596.0</td>\n",
       "      <td>33946.0</td>\n",
       "      <td>83.0</td>\n",
       "      <td>2095.134722</td>\n",
       "    </tr>\n",
       "    <tr>\n",
       "      <th>4</th>\n",
       "      <td>01</td>\n",
       "      <td>AIN</td>\n",
       "      <td>01006</td>\n",
       "      <td>AMBLEON</td>\n",
       "      <td>2.240000e+05</td>\n",
       "      <td>248.0</td>\n",
       "      <td>215.0</td>\n",
       "      <td>3.0</td>\n",
       "      <td>903.225806</td>\n",
       "      <td>9.913550e+05</td>\n",
       "      <td>574.0</td>\n",
       "      <td>3738.0</td>\n",
       "      <td>5.0</td>\n",
       "      <td>1727.099303</td>\n",
       "    </tr>\n",
       "    <tr>\n",
       "      <th>5</th>\n",
       "      <td>01</td>\n",
       "      <td>AIN</td>\n",
       "      <td>01007</td>\n",
       "      <td>AMBRONAY</td>\n",
       "      <td>1.668570e+07</td>\n",
       "      <td>9994.0</td>\n",
       "      <td>53438.0</td>\n",
       "      <td>97.0</td>\n",
       "      <td>1669.572243</td>\n",
       "      <td>1.601855e+07</td>\n",
       "      <td>8846.0</td>\n",
       "      <td>42416.0</td>\n",
       "      <td>92.0</td>\n",
       "      <td>1810.823649</td>\n",
       "    </tr>\n",
       "    <tr>\n",
       "      <th>6</th>\n",
       "      <td>01</td>\n",
       "      <td>AIN</td>\n",
       "      <td>01008</td>\n",
       "      <td>AMBUTRIX</td>\n",
       "      <td>5.685510e+06</td>\n",
       "      <td>3504.0</td>\n",
       "      <td>24146.0</td>\n",
       "      <td>35.0</td>\n",
       "      <td>1622.577055</td>\n",
       "      <td>4.279500e+06</td>\n",
       "      <td>2233.0</td>\n",
       "      <td>9063.0</td>\n",
       "      <td>23.0</td>\n",
       "      <td>1916.480072</td>\n",
       "    </tr>\n",
       "    <tr>\n",
       "      <th>7</th>\n",
       "      <td>01</td>\n",
       "      <td>AIN</td>\n",
       "      <td>01009</td>\n",
       "      <td>ANDERT-ET-CONDON</td>\n",
       "      <td>1.135590e+06</td>\n",
       "      <td>711.0</td>\n",
       "      <td>4403.0</td>\n",
       "      <td>8.0</td>\n",
       "      <td>1597.172996</td>\n",
       "      <td>1.506180e+06</td>\n",
       "      <td>1145.0</td>\n",
       "      <td>6130.0</td>\n",
       "      <td>11.0</td>\n",
       "      <td>1315.441048</td>\n",
       "    </tr>\n",
       "    <tr>\n",
       "      <th>8</th>\n",
       "      <td>01</td>\n",
       "      <td>AIN</td>\n",
       "      <td>01010</td>\n",
       "      <td>ANGLEFORT</td>\n",
       "      <td>9.290015e+06</td>\n",
       "      <td>5408.0</td>\n",
       "      <td>27053.0</td>\n",
       "      <td>58.0</td>\n",
       "      <td>1717.828217</td>\n",
       "      <td>9.135827e+06</td>\n",
       "      <td>4644.0</td>\n",
       "      <td>27921.0</td>\n",
       "      <td>48.0</td>\n",
       "      <td>1967.232343</td>\n",
       "    </tr>\n",
       "    <tr>\n",
       "      <th>9</th>\n",
       "      <td>01</td>\n",
       "      <td>AIN</td>\n",
       "      <td>01011</td>\n",
       "      <td>APREMONT</td>\n",
       "      <td>1.776600e+06</td>\n",
       "      <td>1291.0</td>\n",
       "      <td>11083.0</td>\n",
       "      <td>13.0</td>\n",
       "      <td>1376.142525</td>\n",
       "      <td>1.077743e+06</td>\n",
       "      <td>765.0</td>\n",
       "      <td>7308.0</td>\n",
       "      <td>7.0</td>\n",
       "      <td>1408.814418</td>\n",
       "    </tr>\n",
       "  </tbody>\n",
       "</table>\n",
       "</div>"
      ],
      "text/plain": [
       "  dep nomdep codecommune             nomcommune    KP0_Pri_P1  KP0_Surf_P1  \\\n",
       "0  01    AIN       01001  ABERGEMENT-CLEMENCIAT  5.190811e+06       2960.0   \n",
       "1  01    AIN       01002    ABERGEMENT-DE-VAREY  2.442260e+06       2091.0   \n",
       "2  01    AIN       01004      AMBERIEU-EN-BUGEY  1.045055e+08      55448.0   \n",
       "3  01    AIN       01005    AMBERIEUX-EN-DOMBES  1.729253e+07       9331.0   \n",
       "4  01    AIN       01006                AMBLEON  2.240000e+05        248.0   \n",
       "5  01    AIN       01007               AMBRONAY  1.668570e+07       9994.0   \n",
       "6  01    AIN       01008               AMBUTRIX  5.685510e+06       3504.0   \n",
       "7  01    AIN       01009       ANDERT-ET-CONDON  1.135590e+06        711.0   \n",
       "8  01    AIN       01010              ANGLEFORT  9.290015e+06       5408.0   \n",
       "9  01    AIN       01011               APREMONT  1.776600e+06       1291.0   \n",
       "\n",
       "   KP0_SurfTer_P1  KP0_transac_P1  KP0_prim2_P1    KP0_Pri_P2  KP0_Surf_P2  \\\n",
       "0         29249.0            28.0   1753.652476  5.396090e+06       2831.0   \n",
       "1          7040.0            21.0   1167.986609  1.885119e+06       1515.0   \n",
       "2        171801.0           649.0   1884.748356  1.229008e+08      59595.0   \n",
       "3         36586.0            93.0   1853.233952  1.800978e+07       8596.0   \n",
       "4           215.0             3.0    903.225806  9.913550e+05        574.0   \n",
       "5         53438.0            97.0   1669.572243  1.601855e+07       8846.0   \n",
       "6         24146.0            35.0   1622.577055  4.279500e+06       2233.0   \n",
       "7          4403.0             8.0   1597.172996  1.506180e+06       1145.0   \n",
       "8         27053.0            58.0   1717.828217  9.135827e+06       4644.0   \n",
       "9         11083.0            13.0   1376.142525  1.077743e+06        765.0   \n",
       "\n",
       "   KP0_SurfTer_P2  KP0_transac_P2  KP0_prim2_P2  \n",
       "0         19871.0            24.0   1906.072059  \n",
       "1          5858.0            15.0   1244.302970  \n",
       "2        163220.0           711.0   2062.267054  \n",
       "3         33946.0            83.0   2095.134722  \n",
       "4          3738.0             5.0   1727.099303  \n",
       "5         42416.0            92.0   1810.823649  \n",
       "6          9063.0            23.0   1916.480072  \n",
       "7          6130.0            11.0   1315.441048  \n",
       "8         27921.0            48.0   1967.232343  \n",
       "9          7308.0             7.0   1408.814418  "
      ]
     },
     "execution_count": 63,
     "metadata": {},
     "output_type": "execute_result"
    }
   ],
   "source": [
    "df_result.head(10)"
   ]
  },
  {
   "cell_type": "markdown",
   "id": "5c13d866-4165-4d38-8c43-0f43986bb16e",
   "metadata": {},
   "source": [
    "## <a name=\"Nan\"></a>Partie 2 : Traitement des Nan&nbsp;&nbsp;&nbsp;&nbsp;&nbsp;<a href=\"#TOP\">&uarr;</a>"
   ]
  },
  {
   "cell_type": "code",
   "execution_count": 64,
   "id": "60e972ba-009d-4a4e-89ee-d874e6d12f08",
   "metadata": {},
   "outputs": [
    {
     "data": {
      "text/plain": [
       "dep               0\n",
       "nomdep            0\n",
       "codecommune       0\n",
       "nomcommune        0\n",
       "KP0_Pri_P1        0\n",
       "KP0_Surf_P1       0\n",
       "KP0_SurfTer_P1    0\n",
       "KP0_transac_P1    0\n",
       "KP0_prim2_P1      0\n",
       "KP0_Pri_P2        0\n",
       "KP0_Surf_P2       0\n",
       "KP0_SurfTer_P2    0\n",
       "KP0_transac_P2    0\n",
       "KP0_prim2_P2      0\n",
       "dtype: int64"
      ]
     },
     "execution_count": 64,
     "metadata": {},
     "output_type": "execute_result"
    }
   ],
   "source": [
    "df_result.isna().sum()"
   ]
  },
  {
   "cell_type": "code",
   "execution_count": 65,
   "id": "b934d50a-3fc7-4f58-87fd-7f2723c0bb0f",
   "metadata": {},
   "outputs": [
    {
     "data": {
      "text/plain": [
       "(34590, 14)"
      ]
     },
     "execution_count": 65,
     "metadata": {},
     "output_type": "execute_result"
    }
   ],
   "source": [
    "df_result.shape"
   ]
  },
  {
   "cell_type": "code",
   "execution_count": 66,
   "id": "d33c018d-e63a-4bb9-9923-84d1d08d9ae9",
   "metadata": {},
   "outputs": [
    {
     "data": {
      "text/plain": [
       "34590"
      ]
     },
     "execution_count": 66,
     "metadata": {},
     "output_type": "execute_result"
    }
   ],
   "source": [
    "df_result['codecommune'].nunique()"
   ]
  },
  {
   "cell_type": "code",
   "execution_count": 67,
   "id": "aecca3ad-1809-4555-9bc4-4e8021eb1e85",
   "metadata": {},
   "outputs": [
    {
     "name": "stdout",
     "output_type": "stream",
     "text": [
      "['01001', '01002', '01004', '01005', '01006', '01007', '01008', '01009', '01010', '01011'] 33830\n"
     ]
    }
   ],
   "source": [
    "file_path = '../DATA/list_codecommune_leg2022_50inscrits.txt'\n",
    "\n",
    "# Open the text file and read lines into a list\n",
    "with open(file_path, 'r', encoding='utf-8') as file:\n",
    "    lines = [line.strip() for line in file.readlines()]\n",
    "\n",
    "# Print or manipulate the list of lines as needed\n",
    "print(lines[0:10], len(lines))"
   ]
  },
  {
   "cell_type": "code",
   "execution_count": 68,
   "id": "1650363f-8e01-4b35-8f8c-fd1f72b25c66",
   "metadata": {},
   "outputs": [
    {
     "data": {
      "text/plain": [
       "'01002'"
      ]
     },
     "execution_count": 68,
     "metadata": {},
     "output_type": "execute_result"
    }
   ],
   "source": [
    "codecommune_listdf_result = df_result['codecommune'].tolist()\n",
    "codecommune_listdf_result[1]"
   ]
  },
  {
   "cell_type": "code",
   "execution_count": 69,
   "id": "5929e75f-f896-49e6-81b6-9110bc871893",
   "metadata": {},
   "outputs": [
    {
     "data": {
      "text/plain": [
       "34590"
      ]
     },
     "execution_count": 69,
     "metadata": {},
     "output_type": "execute_result"
    }
   ],
   "source": [
    "len(codecommune_listdf_result)"
   ]
  },
  {
   "cell_type": "code",
   "execution_count": 70,
   "id": "f7fc77cf-aa61-470d-86d0-447ac2c5e6cc",
   "metadata": {},
   "outputs": [
    {
     "data": {
      "text/plain": [
       "1708"
      ]
     },
     "execution_count": 70,
     "metadata": {},
     "output_type": "execute_result"
    }
   ],
   "source": [
    "absent = [x for x in lines if x not in codecommune_listdf_result]\n",
    "len (absent)"
   ]
  },
  {
   "cell_type": "code",
   "execution_count": 71,
   "id": "0de11c0e-b7db-40f9-a697-ef6f39eb6f9b",
   "metadata": {},
   "outputs": [
    {
     "data": {
      "text/plain": [
       "'02265'"
      ]
     },
     "execution_count": 71,
     "metadata": {},
     "output_type": "execute_result"
    }
   ],
   "source": [
    "absent[0]"
   ]
  },
  {
   "cell_type": "code",
   "execution_count": 72,
   "id": "500b7fa1-8a60-4d9f-a332-1b23ebe2babf",
   "metadata": {},
   "outputs": [],
   "source": [
    "df_result['DBL_bug']=0"
   ]
  },
  {
   "cell_type": "code",
   "execution_count": 73,
   "id": "88ac37f4-7558-4a35-8413-7594b79cd192",
   "metadata": {},
   "outputs": [],
   "source": [
    "for code in absent :\n",
    "    new_row = [0, '*', code, '*',0,0,0,0,0,0,0,0,0,0,1]\n",
    "    df_result.loc[len(df_result)] = new_row"
   ]
  },
  {
   "cell_type": "code",
   "execution_count": 74,
   "id": "3c067acf-74d6-4a50-96f2-c668cfc4bc62",
   "metadata": {},
   "outputs": [
    {
     "data": {
      "text/html": [
       "<div>\n",
       "<style scoped>\n",
       "    .dataframe tbody tr th:only-of-type {\n",
       "        vertical-align: middle;\n",
       "    }\n",
       "\n",
       "    .dataframe tbody tr th {\n",
       "        vertical-align: top;\n",
       "    }\n",
       "\n",
       "    .dataframe thead th {\n",
       "        text-align: right;\n",
       "    }\n",
       "</style>\n",
       "<table border=\"1\" class=\"dataframe\">\n",
       "  <thead>\n",
       "    <tr style=\"text-align: right;\">\n",
       "      <th></th>\n",
       "      <th>dep</th>\n",
       "      <th>nomdep</th>\n",
       "      <th>codecommune</th>\n",
       "      <th>nomcommune</th>\n",
       "      <th>KP0_Pri_P1</th>\n",
       "      <th>KP0_Surf_P1</th>\n",
       "      <th>KP0_SurfTer_P1</th>\n",
       "      <th>KP0_transac_P1</th>\n",
       "      <th>KP0_prim2_P1</th>\n",
       "      <th>KP0_Pri_P2</th>\n",
       "      <th>KP0_Surf_P2</th>\n",
       "      <th>KP0_SurfTer_P2</th>\n",
       "      <th>KP0_transac_P2</th>\n",
       "      <th>KP0_prim2_P2</th>\n",
       "      <th>DBL_bug</th>\n",
       "    </tr>\n",
       "  </thead>\n",
       "  <tbody>\n",
       "    <tr>\n",
       "      <th>0</th>\n",
       "      <td>01</td>\n",
       "      <td>AIN</td>\n",
       "      <td>01001</td>\n",
       "      <td>ABERGEMENT-CLEMENCIAT</td>\n",
       "      <td>5.190811e+06</td>\n",
       "      <td>2960.0</td>\n",
       "      <td>29249.0</td>\n",
       "      <td>28.0</td>\n",
       "      <td>1753.652476</td>\n",
       "      <td>5.396090e+06</td>\n",
       "      <td>2831.0</td>\n",
       "      <td>19871.0</td>\n",
       "      <td>24.0</td>\n",
       "      <td>1906.072059</td>\n",
       "      <td>0</td>\n",
       "    </tr>\n",
       "    <tr>\n",
       "      <th>1</th>\n",
       "      <td>01</td>\n",
       "      <td>AIN</td>\n",
       "      <td>01002</td>\n",
       "      <td>ABERGEMENT-DE-VAREY</td>\n",
       "      <td>2.442260e+06</td>\n",
       "      <td>2091.0</td>\n",
       "      <td>7040.0</td>\n",
       "      <td>21.0</td>\n",
       "      <td>1167.986609</td>\n",
       "      <td>1.885119e+06</td>\n",
       "      <td>1515.0</td>\n",
       "      <td>5858.0</td>\n",
       "      <td>15.0</td>\n",
       "      <td>1244.302970</td>\n",
       "      <td>0</td>\n",
       "    </tr>\n",
       "    <tr>\n",
       "      <th>2</th>\n",
       "      <td>01</td>\n",
       "      <td>AIN</td>\n",
       "      <td>01004</td>\n",
       "      <td>AMBERIEU-EN-BUGEY</td>\n",
       "      <td>1.045055e+08</td>\n",
       "      <td>55448.0</td>\n",
       "      <td>171801.0</td>\n",
       "      <td>649.0</td>\n",
       "      <td>1884.748356</td>\n",
       "      <td>1.229008e+08</td>\n",
       "      <td>59595.0</td>\n",
       "      <td>163220.0</td>\n",
       "      <td>711.0</td>\n",
       "      <td>2062.267054</td>\n",
       "      <td>0</td>\n",
       "    </tr>\n",
       "    <tr>\n",
       "      <th>3</th>\n",
       "      <td>01</td>\n",
       "      <td>AIN</td>\n",
       "      <td>01005</td>\n",
       "      <td>AMBERIEUX-EN-DOMBES</td>\n",
       "      <td>1.729253e+07</td>\n",
       "      <td>9331.0</td>\n",
       "      <td>36586.0</td>\n",
       "      <td>93.0</td>\n",
       "      <td>1853.233952</td>\n",
       "      <td>1.800978e+07</td>\n",
       "      <td>8596.0</td>\n",
       "      <td>33946.0</td>\n",
       "      <td>83.0</td>\n",
       "      <td>2095.134722</td>\n",
       "      <td>0</td>\n",
       "    </tr>\n",
       "    <tr>\n",
       "      <th>4</th>\n",
       "      <td>01</td>\n",
       "      <td>AIN</td>\n",
       "      <td>01006</td>\n",
       "      <td>AMBLEON</td>\n",
       "      <td>2.240000e+05</td>\n",
       "      <td>248.0</td>\n",
       "      <td>215.0</td>\n",
       "      <td>3.0</td>\n",
       "      <td>903.225806</td>\n",
       "      <td>9.913550e+05</td>\n",
       "      <td>574.0</td>\n",
       "      <td>3738.0</td>\n",
       "      <td>5.0</td>\n",
       "      <td>1727.099303</td>\n",
       "      <td>0</td>\n",
       "    </tr>\n",
       "    <tr>\n",
       "      <th>...</th>\n",
       "      <td>...</td>\n",
       "      <td>...</td>\n",
       "      <td>...</td>\n",
       "      <td>...</td>\n",
       "      <td>...</td>\n",
       "      <td>...</td>\n",
       "      <td>...</td>\n",
       "      <td>...</td>\n",
       "      <td>...</td>\n",
       "      <td>...</td>\n",
       "      <td>...</td>\n",
       "      <td>...</td>\n",
       "      <td>...</td>\n",
       "      <td>...</td>\n",
       "      <td>...</td>\n",
       "    </tr>\n",
       "    <tr>\n",
       "      <th>36288</th>\n",
       "      <td>0</td>\n",
       "      <td>*</td>\n",
       "      <td>80460</td>\n",
       "      <td>*</td>\n",
       "      <td>0.000000e+00</td>\n",
       "      <td>0.0</td>\n",
       "      <td>0.0</td>\n",
       "      <td>0.0</td>\n",
       "      <td>0.000000</td>\n",
       "      <td>0.000000e+00</td>\n",
       "      <td>0.0</td>\n",
       "      <td>0.0</td>\n",
       "      <td>0.0</td>\n",
       "      <td>0.000000</td>\n",
       "      <td>1</td>\n",
       "    </tr>\n",
       "    <tr>\n",
       "      <th>36289</th>\n",
       "      <td>0</td>\n",
       "      <td>*</td>\n",
       "      <td>80565</td>\n",
       "      <td>*</td>\n",
       "      <td>0.000000e+00</td>\n",
       "      <td>0.0</td>\n",
       "      <td>0.0</td>\n",
       "      <td>0.0</td>\n",
       "      <td>0.000000</td>\n",
       "      <td>0.000000e+00</td>\n",
       "      <td>0.0</td>\n",
       "      <td>0.0</td>\n",
       "      <td>0.0</td>\n",
       "      <td>0.000000</td>\n",
       "      <td>1</td>\n",
       "    </tr>\n",
       "    <tr>\n",
       "      <th>36290</th>\n",
       "      <td>0</td>\n",
       "      <td>*</td>\n",
       "      <td>81162</td>\n",
       "      <td>*</td>\n",
       "      <td>0.000000e+00</td>\n",
       "      <td>0.0</td>\n",
       "      <td>0.0</td>\n",
       "      <td>0.0</td>\n",
       "      <td>0.000000</td>\n",
       "      <td>0.000000e+00</td>\n",
       "      <td>0.0</td>\n",
       "      <td>0.0</td>\n",
       "      <td>0.0</td>\n",
       "      <td>0.000000</td>\n",
       "      <td>1</td>\n",
       "    </tr>\n",
       "    <tr>\n",
       "      <th>36291</th>\n",
       "      <td>0</td>\n",
       "      <td>*</td>\n",
       "      <td>81270</td>\n",
       "      <td>*</td>\n",
       "      <td>0.000000e+00</td>\n",
       "      <td>0.0</td>\n",
       "      <td>0.0</td>\n",
       "      <td>0.0</td>\n",
       "      <td>0.000000</td>\n",
       "      <td>0.000000e+00</td>\n",
       "      <td>0.0</td>\n",
       "      <td>0.0</td>\n",
       "      <td>0.0</td>\n",
       "      <td>0.000000</td>\n",
       "      <td>1</td>\n",
       "    </tr>\n",
       "    <tr>\n",
       "      <th>36292</th>\n",
       "      <td>0</td>\n",
       "      <td>*</td>\n",
       "      <td>82128</td>\n",
       "      <td>*</td>\n",
       "      <td>0.000000e+00</td>\n",
       "      <td>0.0</td>\n",
       "      <td>0.0</td>\n",
       "      <td>0.0</td>\n",
       "      <td>0.000000</td>\n",
       "      <td>0.000000e+00</td>\n",
       "      <td>0.0</td>\n",
       "      <td>0.0</td>\n",
       "      <td>0.0</td>\n",
       "      <td>0.000000</td>\n",
       "      <td>1</td>\n",
       "    </tr>\n",
       "  </tbody>\n",
       "</table>\n",
       "<p>36293 rows × 15 columns</p>\n",
       "</div>"
      ],
      "text/plain": [
       "      dep nomdep codecommune             nomcommune    KP0_Pri_P1  \\\n",
       "0      01    AIN       01001  ABERGEMENT-CLEMENCIAT  5.190811e+06   \n",
       "1      01    AIN       01002    ABERGEMENT-DE-VAREY  2.442260e+06   \n",
       "2      01    AIN       01004      AMBERIEU-EN-BUGEY  1.045055e+08   \n",
       "3      01    AIN       01005    AMBERIEUX-EN-DOMBES  1.729253e+07   \n",
       "4      01    AIN       01006                AMBLEON  2.240000e+05   \n",
       "...    ..    ...         ...                    ...           ...   \n",
       "36288   0      *       80460                      *  0.000000e+00   \n",
       "36289   0      *       80565                      *  0.000000e+00   \n",
       "36290   0      *       81162                      *  0.000000e+00   \n",
       "36291   0      *       81270                      *  0.000000e+00   \n",
       "36292   0      *       82128                      *  0.000000e+00   \n",
       "\n",
       "       KP0_Surf_P1  KP0_SurfTer_P1  KP0_transac_P1  KP0_prim2_P1  \\\n",
       "0           2960.0         29249.0            28.0   1753.652476   \n",
       "1           2091.0          7040.0            21.0   1167.986609   \n",
       "2          55448.0        171801.0           649.0   1884.748356   \n",
       "3           9331.0         36586.0            93.0   1853.233952   \n",
       "4            248.0           215.0             3.0    903.225806   \n",
       "...            ...             ...             ...           ...   \n",
       "36288          0.0             0.0             0.0      0.000000   \n",
       "36289          0.0             0.0             0.0      0.000000   \n",
       "36290          0.0             0.0             0.0      0.000000   \n",
       "36291          0.0             0.0             0.0      0.000000   \n",
       "36292          0.0             0.0             0.0      0.000000   \n",
       "\n",
       "         KP0_Pri_P2  KP0_Surf_P2  KP0_SurfTer_P2  KP0_transac_P2  \\\n",
       "0      5.396090e+06       2831.0         19871.0            24.0   \n",
       "1      1.885119e+06       1515.0          5858.0            15.0   \n",
       "2      1.229008e+08      59595.0        163220.0           711.0   \n",
       "3      1.800978e+07       8596.0         33946.0            83.0   \n",
       "4      9.913550e+05        574.0          3738.0             5.0   \n",
       "...             ...          ...             ...             ...   \n",
       "36288  0.000000e+00          0.0             0.0             0.0   \n",
       "36289  0.000000e+00          0.0             0.0             0.0   \n",
       "36290  0.000000e+00          0.0             0.0             0.0   \n",
       "36291  0.000000e+00          0.0             0.0             0.0   \n",
       "36292  0.000000e+00          0.0             0.0             0.0   \n",
       "\n",
       "       KP0_prim2_P2  DBL_bug  \n",
       "0       1906.072059        0  \n",
       "1       1244.302970        0  \n",
       "2       2062.267054        0  \n",
       "3       2095.134722        0  \n",
       "4       1727.099303        0  \n",
       "...             ...      ...  \n",
       "36288      0.000000        1  \n",
       "36289      0.000000        1  \n",
       "36290      0.000000        1  \n",
       "36291      0.000000        1  \n",
       "36292      0.000000        1  \n",
       "\n",
       "[36293 rows x 15 columns]"
      ]
     },
     "execution_count": 74,
     "metadata": {},
     "output_type": "execute_result"
    }
   ],
   "source": [
    "df_result.head(-5)"
   ]
  },
  {
   "cell_type": "code",
   "execution_count": 75,
   "id": "5b65ef52-2834-4c53-95ff-acdd36ff6d43",
   "metadata": {},
   "outputs": [
    {
     "data": {
      "text/plain": [
       "0"
      ]
     },
     "execution_count": 75,
     "metadata": {},
     "output_type": "execute_result"
    }
   ],
   "source": [
    "codecommune_listdf_result2 = df_result['codecommune'].tolist()\n",
    "absent = [x for x in lines if x not in codecommune_listdf_result2]\n",
    "len (absent)"
   ]
  },
  {
   "cell_type": "code",
   "execution_count": 76,
   "id": "793ccc50-19e2-4634-9222-2f7387a72cf5",
   "metadata": {},
   "outputs": [
    {
     "data": {
      "text/plain": [
       "(36298, 15)"
      ]
     },
     "execution_count": 76,
     "metadata": {},
     "output_type": "execute_result"
    }
   ],
   "source": [
    "df_result.shape"
   ]
  },
  {
   "cell_type": "markdown",
   "id": "fbfee32e-517c-43a1-b4a8-256c3c6cdeac",
   "metadata": {},
   "source": [
    "## <a name=\"TRANSCO\"></a>Partie 3 : Filtres et/ou calculs&nbsp;&nbsp;&nbsp;&nbsp;&nbsp;<a href=\"#TOP\">&uarr;</a>"
   ]
  },
  {
   "cell_type": "code",
   "execution_count": 77,
   "id": "cd31b619-bf63-4b59-a198-433b8fc91a96",
   "metadata": {},
   "outputs": [
    {
     "data": {
      "text/plain": [
       "33830"
      ]
     },
     "execution_count": 77,
     "metadata": {},
     "output_type": "execute_result"
    }
   ],
   "source": [
    "len(lines)"
   ]
  },
  {
   "cell_type": "code",
   "execution_count": 78,
   "id": "d003b9a0-0bb3-46e0-ba38-7404e8e5e432",
   "metadata": {},
   "outputs": [
    {
     "data": {
      "text/plain": [
       "36298"
      ]
     },
     "execution_count": 78,
     "metadata": {},
     "output_type": "execute_result"
    }
   ],
   "source": [
    "len(df_result)"
   ]
  },
  {
   "cell_type": "code",
   "execution_count": 79,
   "id": "7db89ff8-1791-4fa8-affd-cd8fadbf1a19",
   "metadata": {},
   "outputs": [
    {
     "data": {
      "text/plain": [
       "(33830, 15)"
      ]
     },
     "execution_count": 79,
     "metadata": {},
     "output_type": "execute_result"
    }
   ],
   "source": [
    "df_filtered = df_result[df_result['codecommune'].isin(lines)]\n",
    "df_filtered.shape"
   ]
  },
  {
   "cell_type": "code",
   "execution_count": null,
   "id": "87d4467a-f93d-4a74-9063-a2e5c524c188",
   "metadata": {},
   "outputs": [],
   "source": []
  },
  {
   "cell_type": "markdown",
   "id": "352451f1-99da-4ac0-a95a-8deb6ac94389",
   "metadata": {},
   "source": [
    "## <a name=\"EXPORT\"></a>Partie 4 : EXPORT&nbsp;&nbsp;&nbsp;&nbsp;&nbsp;<a href=\"#TOP\">&uarr;</a>\n",
    "\n"
   ]
  },
  {
   "cell_type": "code",
   "execution_count": 42,
   "id": "d6c0262e-c161-4364-8ee0-353db9958a0a",
   "metadata": {},
   "outputs": [
    {
     "name": "stdout",
     "output_type": "stream",
     "text": [
      "0 dep\n",
      "1 nomdep\n",
      "2 codecommune\n",
      "3 nomcommune\n",
      "4 KP0_Pri_P1\n",
      "5 KP0_Surf_P1\n",
      "6 KP0_SurfTer_P1\n",
      "7 KP0_transac_P1\n",
      "8 KP0_prim2_P1\n",
      "9 KP0_Pri_P2\n",
      "10 KP0_Surf_P2\n",
      "11 KP0_SurfTer_P2\n",
      "12 KP0_transac_P2\n",
      "13 KP0_prim2_P2\n",
      "14 DBL_bug\n"
     ]
    }
   ],
   "source": [
    "for i,c in enumerate(df_filtered) : \n",
    "    print (i,c)"
   ]
  },
  {
   "cell_type": "code",
   "execution_count": 80,
   "id": "01e85959-eaab-4e7a-8dc5-55ffcac8bf0a",
   "metadata": {},
   "outputs": [],
   "source": [
    "path_export='../DATA/EXPORT_CSV/final_KP0_capitalimmobilier.csv'"
   ]
  },
  {
   "cell_type": "code",
   "execution_count": 81,
   "id": "2f9fa22a-3237-4131-9fae-b4604341807f",
   "metadata": {},
   "outputs": [
    {
     "name": "stdout",
     "output_type": "stream",
     "text": [
      "DataFrame exported to: ../DATA/EXPORT_CSV/final_KP0_capitalimmobilier.csv\n"
     ]
    }
   ],
   "source": [
    "df_filtered.to_csv(path_export, sep=';', index=False)\n",
    "\n",
    "print(f'DataFrame exported to: {path_export}')"
   ]
  },
  {
   "cell_type": "code",
   "execution_count": null,
   "id": "d7c7efd6-a789-4a43-85dc-94c4dc7ec3a7",
   "metadata": {},
   "outputs": [],
   "source": []
  }
 ],
 "metadata": {
  "kernelspec": {
   "display_name": "Python 3 (ipykernel)",
   "language": "python",
   "name": "python3"
  },
  "language_info": {
   "codemirror_mode": {
    "name": "ipython",
    "version": 3
   },
   "file_extension": ".py",
   "mimetype": "text/x-python",
   "name": "python",
   "nbconvert_exporter": "python",
   "pygments_lexer": "ipython3",
   "version": "3.10.12"
  }
 },
 "nbformat": 4,
 "nbformat_minor": 5
}
